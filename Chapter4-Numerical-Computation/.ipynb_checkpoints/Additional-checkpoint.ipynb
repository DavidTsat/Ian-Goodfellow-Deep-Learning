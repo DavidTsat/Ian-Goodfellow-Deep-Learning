{
 "cells": [
  {
   "cell_type": "markdown",
   "metadata": {},
   "source": [
    "We'll implement two linear classification algorithms which are using all the previous material: probabilities, gradient descent, etc.: \n",
    "\n",
    "Logistic regression                                                                                                     \n",
    "https://ru.wikipedia.org/wiki/%D0%9B%D0%BE%D0%B3%D0%B8%D1%81%D1%82%D0%B8%D1%87%D0%B5%D1%81%D0%BA%D0%B0%D1%8F_%D1%80%D0%B5%D0%B3%D1%80%D0%B5%D1%81%D1%81%D0%B8%D1%8F                                                                                  \n",
    "https://ml-cheatsheet.readthedocs.io/en/latest/logistic_regression.html                                                     \n",
    "Support Vector Machines (direct optimization without dual problem and kernel trick)"
   ]
  },
  {
   "cell_type": "code",
   "execution_count": 1,
   "metadata": {},
   "outputs": [],
   "source": [
    "import numpy as np\n",
    "import matplotlib.pyplot as plt"
   ]
  },
  {
   "cell_type": "code",
   "execution_count": 2,
   "metadata": {},
   "outputs": [],
   "source": [
    "y1 = np.array([np.random.rand(1) + 2 for c in (range(np.random.choice([c+60 for c in range(40)])))])\n",
    "y2 = np.array([np.random.rand(1) + 2.4 for c in (range(np.random.choice([c+60 for c in range(40)])))])\n",
    "\n",
    "x1 = np.array(range(len(y1)))\n",
    "x2 = np.array([c+50 for c in range(len(y2))])"
   ]
  },
  {
   "cell_type": "code",
   "execution_count": 3,
   "metadata": {},
   "outputs": [],
   "source": [
    "# data matrix \n",
    "a1 = np.concatenate((x1.reshape(-1,1),y1,np.array([1 for c in range(len(x1))]).reshape(-1,1)), 1)\n",
    "a2 = np.concatenate((x2.reshape(-1,1),y2,np.array([0 for c in range(len(x2))]).reshape(-1,1)), 1)\n",
    "\n",
    "A = np.concatenate((a1,a2), 0).round(1)\n",
    "np.random.shuffle(A)"
   ]
  },
  {
   "cell_type": "code",
   "execution_count": 4,
   "metadata": {},
   "outputs": [
    {
     "data": {
      "text/plain": [
       "((159, 3), 76, 83)"
      ]
     },
     "execution_count": 4,
     "metadata": {},
     "output_type": "execute_result"
    }
   ],
   "source": [
    "A.shape, y1.shape[0], y2.shape[0]"
   ]
  },
  {
   "cell_type": "code",
   "execution_count": 5,
   "metadata": {},
   "outputs": [
    {
     "data": {
      "text/plain": [
       "array([[22. ,  2.3,  1. ],\n",
       "       [67. ,  3. ,  0. ],\n",
       "       [18. ,  2.2,  1. ],\n",
       "       [59. ,  2.3,  1. ],\n",
       "       [51. ,  2.4,  1. ]])"
      ]
     },
     "execution_count": 5,
     "metadata": {},
     "output_type": "execute_result"
    }
   ],
   "source": [
    "A[:5,:]"
   ]
  },
  {
   "cell_type": "code",
   "execution_count": 6,
   "metadata": {},
   "outputs": [
    {
     "data": {
      "image/png": "[encoded data removed]",
      "text/plain": [
       "<Figure size 432x288 with 1 Axes>"
      ]
     },
     "metadata": {
      "needs_background": "light"
     },
     "output_type": "display_data"
    }
   ],
   "source": [
    "fig = plt.figure()\n",
    "ax1 = fig.add_subplot(111)\n",
    "\n",
    "ax1.scatter(x1, y1, s=10, c='b', marker=\"o\", label='first')\n",
    "ax1.scatter(x2, y2, s=10, c='g', marker=\"o\", label='second')\n",
    "plt.legend(loc='upper right');\n",
    "plt.show()"
   ]
  },
  {
   "cell_type": "code",
   "execution_count": 7,
   "metadata": {},
   "outputs": [],
   "source": [
    "# centering \n",
    "A[:,:2] = A[:,:2]-A[:,:2].mean(0)"
   ]
  },
  {
   "cell_type": "code",
   "execution_count": 8,
   "metadata": {},
   "outputs": [
    {
     "data": {
      "text/plain": [
       "array([[-43.42767296,  -0.41509434],\n",
       "       [  1.57232704,   0.28490566],\n",
       "       [-47.42767296,  -0.51509434],\n",
       "       [ -6.42767296,  -0.41509434],\n",
       "       [-14.42767296,  -0.31509434]])"
      ]
     },
     "execution_count": 8,
     "metadata": {},
     "output_type": "execute_result"
    }
   ],
   "source": [
    "A[:5,:2]"
   ]
  },
  {
   "cell_type": "code",
   "execution_count": 9,
   "metadata": {},
   "outputs": [],
   "source": [
    "temp = np.ones((A.shape[0], A.shape[1]+1))\n",
    "temp[:,1:] = A.copy()\n",
    "X = np.copy(temp[:,:-1])\n",
    "y = np.copy(temp[:,-1])"
   ]
  },
  {
   "cell_type": "code",
   "execution_count": 10,
   "metadata": {},
   "outputs": [
    {
     "data": {
      "text/plain": [
       "array([[  1.        , -43.42767296,  -0.41509434],\n",
       "       [  1.        ,   1.57232704,   0.28490566],\n",
       "       [  1.        , -47.42767296,  -0.51509434],\n",
       "       [  1.        ,  -6.42767296,  -0.41509434],\n",
       "       [  1.        , -14.42767296,  -0.31509434]])"
      ]
     },
     "execution_count": 10,
     "metadata": {},
     "output_type": "execute_result"
    }
   ],
   "source": [
    "X[:5]"
   ]
  },
  {
   "cell_type": "code",
   "execution_count": 11,
   "metadata": {},
   "outputs": [
    {
     "data": {
      "text/plain": [
       "array([1., 0., 1., 1., 1., 1., 0., 1., 0., 1., 0., 1., 1., 0., 1., 1., 1.,\n",
       "       0., 0., 0., 1., 1., 1., 1., 0., 0., 0., 0., 0., 1., 0., 1., 1., 1.,\n",
       "       1., 0., 0., 1., 0., 1., 0., 1., 1., 1., 1., 1., 0., 0., 0., 1., 0.,\n",
       "       0., 0., 1., 1., 0., 0., 0., 0., 0., 1., 1., 0., 1., 1., 1., 1., 1.,\n",
       "       0., 1., 0., 1., 1., 1., 0., 1., 1., 0., 1., 0., 0., 1., 0., 0., 0.,\n",
       "       1., 0., 0., 0., 0., 0., 0., 0., 0., 0., 0., 1., 0., 0., 0., 1., 0.,\n",
       "       0., 0., 0., 0., 1., 1., 0., 1., 0., 0., 1., 1., 0., 1., 1., 0., 1.,\n",
       "       1., 1., 0., 0., 1., 0., 1., 0., 0., 1., 0., 1., 1., 0., 0., 1., 0.,\n",
       "       0., 1., 0., 1., 0., 1., 1., 0., 1., 1., 0., 1., 0., 0., 1., 1., 1.,\n",
       "       0., 1., 0., 0., 0., 0.])"
      ]
     },
     "execution_count": 11,
     "metadata": {},
     "output_type": "execute_result"
    }
   ],
   "source": [
    "y"
   ]
  },
  {
   "cell_type": "code",
   "execution_count": 12,
   "metadata": {},
   "outputs": [],
   "source": [
    "def sigm(x):\n",
    "    return 1/(np.exp(-x)+1)"
   ]
  },
  {
   "cell_type": "code",
   "execution_count": 13,
   "metadata": {},
   "outputs": [],
   "source": [
    "def accuracy_score(y, y_pred):\n",
    "    return (y == y_pred).astype(int).sum()/y.shape[0]"
   ]
  },
  {
   "cell_type": "code",
   "execution_count": 14,
   "metadata": {},
   "outputs": [],
   "source": [
    "def train(X_, y_, batch_size, epochs, eta):\n",
    "    theta = np.random.rand(X_.shape[1])\n",
    "    \n",
    "    for i in range(epochs):\n",
    "        if i %20 == 0:\n",
    "            print('accuracy: ', accuracy_score(y_, sigm(theta.T@ X_.T).squeeze()>0.5))\n",
    "        rand_idxs = np.random.randint(X_.shape[0], size=batch_size)\n",
    "        X_Batch = X_[rand_idxs]\n",
    "        Y_batch = y_[rand_idxs]\n",
    "        grad = 0\n",
    "        batch_loss = 0\n",
    "        for xx, yy in zip(X_Batch, Y_batch):\n",
    "            grad += xx*(sigm(theta.T@xx)-yy)\n",
    "            batch_loss += (1-yy)*np.log(1-sigm(theta.T@xx) + 1e-6) + yy*np.log(sigm(theta.T@xx)+ 1e-6)\n",
    "        if i %20 == 0:\n",
    "            print('batch loss: ', -batch_loss)\n",
    "        theta = theta - (1/X_Batch.shape[0])*eta*grad\n",
    "    \n",
    "    return theta"
   ]
  },
  {
   "cell_type": "code",
   "execution_count": 15,
   "metadata": {},
   "outputs": [
    {
     "name": "stdout",
     "output_type": "stream",
     "text": [
      "accuracy:  0.16352201257861634\n",
      "batch loss:  650.2680907834855\n",
      "accuracy:  0.16352201257861634\n",
      "batch loss:  381.567618405901\n",
      "accuracy:  0.8113207547169812\n",
      "batch loss:  26.590463290040212\n",
      "accuracy:  0.8301886792452831\n",
      "batch loss:  18.866713684920217\n",
      "accuracy:  0.8301886792452831\n",
      "batch loss:  27.299609045193943\n",
      "accuracy:  0.8238993710691824\n",
      "batch loss:  19.071606648325677\n",
      "accuracy:  0.8238993710691824\n",
      "batch loss:  20.591168238567143\n",
      "accuracy:  0.8238993710691824\n",
      "batch loss:  20.584409703158713\n",
      "accuracy:  0.8238993710691824\n",
      "batch loss:  26.126868665228937\n",
      "accuracy:  0.8238993710691824\n",
      "batch loss:  19.537414608117484\n",
      "accuracy:  0.8238993710691824\n",
      "batch loss:  22.2658548788457\n",
      "accuracy:  0.8301886792452831\n",
      "batch loss:  17.931231014008784\n",
      "accuracy:  0.8301886792452831\n",
      "batch loss:  23.928385458511404\n",
      "accuracy:  0.8301886792452831\n",
      "batch loss:  18.4353342934421\n",
      "accuracy:  0.8238993710691824\n",
      "batch loss:  27.044779668486115\n",
      "accuracy:  0.8301886792452831\n",
      "batch loss:  12.841764868120476\n",
      "accuracy:  0.8301886792452831\n",
      "batch loss:  28.18313666029964\n",
      "accuracy:  0.8301886792452831\n",
      "batch loss:  19.854613971424712\n",
      "accuracy:  0.8301886792452831\n",
      "batch loss:  24.79674098625941\n",
      "accuracy:  0.8301886792452831\n",
      "batch loss:  24.629113553535653\n",
      "accuracy:  0.8301886792452831\n",
      "batch loss:  19.86010585568636\n",
      "accuracy:  0.8301886792452831\n",
      "batch loss:  25.32251557494098\n",
      "accuracy:  0.8301886792452831\n",
      "batch loss:  27.50789368137458\n",
      "accuracy:  0.8301886792452831\n",
      "batch loss:  20.201400126026638\n",
      "accuracy:  0.8301886792452831\n",
      "batch loss:  25.47614047147172\n",
      "accuracy:  0.8301886792452831\n",
      "batch loss:  20.87986584567561\n",
      "accuracy:  0.8301886792452831\n",
      "batch loss:  27.246996729037466\n",
      "accuracy:  0.8301886792452831\n",
      "batch loss:  13.23525998022558\n",
      "accuracy:  0.8301886792452831\n",
      "batch loss:  18.119646164369886\n",
      "accuracy:  0.8301886792452831\n",
      "batch loss:  16.1570827983674\n",
      "accuracy:  0.8301886792452831\n",
      "batch loss:  21.872115630254964\n",
      "accuracy:  0.8301886792452831\n",
      "batch loss:  26.391373503769984\n",
      "accuracy:  0.8301886792452831\n",
      "batch loss:  14.242301217281994\n",
      "accuracy:  0.8301886792452831\n",
      "batch loss:  14.657969261653422\n",
      "accuracy:  0.8301886792452831\n",
      "batch loss:  20.889737771262517\n",
      "accuracy:  0.8238993710691824\n",
      "batch loss:  26.51882500248427\n",
      "accuracy:  0.8238993710691824\n",
      "batch loss:  29.217246346553594\n",
      "accuracy:  0.8301886792452831\n",
      "batch loss:  23.594697925629884\n",
      "accuracy:  0.8301886792452831\n",
      "batch loss:  24.69878282110837\n",
      "accuracy:  0.8238993710691824\n",
      "batch loss:  15.787128748960004\n",
      "accuracy:  0.8301886792452831\n",
      "batch loss:  30.84697723694591\n",
      "accuracy:  0.8301886792452831\n",
      "batch loss:  20.97618005579793\n",
      "accuracy:  0.8301886792452831\n",
      "batch loss:  28.657660397059068\n",
      "accuracy:  0.8301886792452831\n",
      "batch loss:  14.910660770870008\n",
      "accuracy:  0.8301886792452831\n",
      "batch loss:  20.403590575017137\n",
      "accuracy:  0.8301886792452831\n",
      "batch loss:  21.46367620575001\n",
      "accuracy:  0.8238993710691824\n",
      "batch loss:  20.702333190926836\n",
      "accuracy:  0.8238993710691824\n",
      "batch loss:  12.700455367603436\n",
      "accuracy:  0.8238993710691824\n",
      "batch loss:  22.070114354349062\n",
      "accuracy:  0.8238993710691824\n",
      "batch loss:  18.19578777028346\n"
     ]
    }
   ],
   "source": [
    "theta = train(X, y, 64, 1000, 0.001)"
   ]
  },
  {
   "cell_type": "code",
   "execution_count": 16,
   "metadata": {},
   "outputs": [],
   "source": [
    "# test dataset\n",
    "\n",
    "y1_test = np.array([np.random.rand(1) + 2 for c in (range(np.random.choice([c+60 for c in range(40)])))])\n",
    "y2_test = np.array([np.random.rand(1) + 2.4 for c in (range(np.random.choice([c+60 for c in range(40)])))])\n",
    "\n",
    "x1_test = np.array(range(len(y1_test)))\n",
    "x2_test = np.array([c+50 for c in range(len(y2_test))])\n",
    "\n",
    "a1_test = np.concatenate((x1_test.reshape(-1,1),y1_test,np.array([1 for c in range(len(x1_test))]).reshape(-1,1)), 1)\n",
    "a2_test = np.concatenate((x2_test.reshape(-1,1),y2_test,np.array([0 for c in range(len(x2_test))]).reshape(-1,1)), 1)\n",
    "\n",
    "A_test = np.concatenate((a1_test,a2_test), 0).round(1)\n",
    "np.random.shuffle(A_test)"
   ]
  },
  {
   "cell_type": "code",
   "execution_count": 17,
   "metadata": {},
   "outputs": [],
   "source": [
    "# centering\n",
    "A_test[:,:2] = A_test[:,:2]-A_test[:,:2].mean(0)"
   ]
  },
  {
   "cell_type": "code",
   "execution_count": 18,
   "metadata": {},
   "outputs": [],
   "source": [
    "temp_test = np.ones((A_test.shape[0], A_test.shape[1]+1))\n",
    "temp_test[:,1:] = A_test.copy()\n",
    "X_test = np.copy(temp_test[:,:-1])\n",
    "y_test = np.copy(temp_test[:,-1])"
   ]
  },
  {
   "cell_type": "code",
   "execution_count": 19,
   "metadata": {},
   "outputs": [
    {
     "data": {
      "text/plain": [
       "array([[ 1.00000000e+00, -1.71597222e+01, -7.23611111e-01],\n",
       "       [ 1.00000000e+00, -4.21597222e+01, -3.23611111e-01],\n",
       "       [ 1.00000000e+00,  7.84027778e+00, -2.36111111e-02],\n",
       "       [ 1.00000000e+00,  4.84027778e+00,  2.76388889e-01],\n",
       "       [ 1.00000000e+00, -5.51597222e+01, -2.36111111e-02]])"
      ]
     },
     "execution_count": 19,
     "metadata": {},
     "output_type": "execute_result"
    }
   ],
   "source": [
    "X_test[:5,:]"
   ]
  },
  {
   "cell_type": "code",
   "execution_count": 20,
   "metadata": {},
   "outputs": [
    {
     "data": {
      "text/plain": [
       "array([1., 1., 1., 0., 1.])"
      ]
     },
     "execution_count": 20,
     "metadata": {},
     "output_type": "execute_result"
    }
   ],
   "source": [
    "y_test[:5]"
   ]
  },
  {
   "cell_type": "code",
   "execution_count": 21,
   "metadata": {},
   "outputs": [],
   "source": [
    "def pred_logistic_regr(theta, data):\n",
    "    return (sigm(theta.T@ data.T).squeeze()>0.5).astype(int)"
   ]
  },
  {
   "cell_type": "code",
   "execution_count": 22,
   "metadata": {},
   "outputs": [],
   "source": [
    "y_pred_test = pred_logistic_regr(theta, X_test)"
   ]
  },
  {
   "cell_type": "code",
   "execution_count": 23,
   "metadata": {},
   "outputs": [
    {
     "data": {
      "text/plain": [
       "array([1, 1, 0, 1, 1])"
      ]
     },
     "execution_count": 23,
     "metadata": {},
     "output_type": "execute_result"
    }
   ],
   "source": [
    "y_pred_test[:5]"
   ]
  },
  {
   "cell_type": "code",
   "execution_count": 24,
   "metadata": {},
   "outputs": [
    {
     "data": {
      "text/plain": [
       "0.8402777777777778"
      ]
     },
     "execution_count": 24,
     "metadata": {},
     "output_type": "execute_result"
    }
   ],
   "source": [
    "accuracy_score(y_test,y_pred_test)"
   ]
  },
  {
   "cell_type": "code",
   "execution_count": 25,
   "metadata": {},
   "outputs": [
    {
     "data": {
      "image/png": "[encoded data removed]",
      "text/plain": [
       "<Figure size 432x288 with 1 Axes>"
      ]
     },
     "metadata": {
      "needs_background": "light"
     },
     "output_type": "display_data"
    }
   ],
   "source": [
    "fig = plt.figure()\n",
    "ax1 = fig.add_subplot(111)\n",
    "\n",
    "ax1.scatter(x1_test, y1_test, s=10, c='b', marker=\"o\", label='first')\n",
    "ax1.scatter(x2_test, y2_test, s=10, c='g', marker=\"o\", label='second')\n",
    "ax1.plot\n",
    "plt.legend(loc='upper right');\n",
    "plt.show()"
   ]
  },
  {
   "cell_type": "code",
   "execution_count": 26,
   "metadata": {},
   "outputs": [],
   "source": [
    "def plot_decision_boundary(trues, falses):\n",
    "    fig = plt.figure()\n",
    "    ax = fig.add_subplot(111)\n",
    "\n",
    "    no_of_preds = len(trues) + len(falses)\n",
    "\n",
    "    ax.scatter([i for i in range(len(trues))], trues, s=25, c='b', marker=\"o\", label='Trues')\n",
    "    ax.scatter([i for i in range(len(falses))], falses, s=25, c='r', marker=\"s\", label='Falses')\n",
    "\n",
    "    plt.legend(loc='upper right');\n",
    "    ax.set_title(\"Decision Boundary\")\n",
    "    ax.set_xlabel('N/2')\n",
    "    ax.set_ylabel('Predicted Probability')\n",
    "    plt.axhline(.5, color='black')\n",
    "    plt.show()"
   ]
  },
  {
   "cell_type": "code",
   "execution_count": 27,
   "metadata": {},
   "outputs": [
    {
     "data": {
      "image/png": "[encoded data removed]",
      "text/plain": [
       "<Figure size 432x288 with 1 Axes>"
      ]
     },
     "metadata": {
      "needs_background": "light"
     },
     "output_type": "display_data"
    }
   ],
   "source": [
    "# plot for train  data\n",
    "trues = sigm(theta.T@ X.T).squeeze()*((y + sigm(theta.T@ X.T).squeeze() >=0.5) > 0)\n",
    "falses = sigm(theta.T@ X.T).squeeze()*(1-y + (sigm(theta.T@ X.T).squeeze() < 0.5) > 0)\n",
    "plot_decision_boundary(trues[trues != 0], falses[falses != 0])"
   ]
  },
  {
   "cell_type": "code",
   "execution_count": 28,
   "metadata": {},
   "outputs": [
    {
     "data": {
      "text/plain": [
       "0.8238993710691824"
      ]
     },
     "execution_count": 28,
     "metadata": {},
     "output_type": "execute_result"
    }
   ],
   "source": [
    "# train accuracy\n",
    "accuracy_score(y, pred_logistic_regr(theta, X))"
   ]
  },
  {
   "cell_type": "code",
   "execution_count": 29,
   "metadata": {},
   "outputs": [
    {
     "data": {
      "text/plain": [
       "0.8402777777777778"
      ]
     },
     "execution_count": 29,
     "metadata": {},
     "output_type": "execute_result"
    }
   ],
   "source": [
    "# test accuracy\n",
    "accuracy_score(y_test, pred_logistic_regr(theta, X_test))"
   ]
  },
  {
   "cell_type": "code",
   "execution_count": 30,
   "metadata": {},
   "outputs": [
    {
     "data": {
      "image/png": "[encoded data removed]",
      "text/plain": [
       "<Figure size 432x288 with 1 Axes>"
      ]
     },
     "metadata": {
      "needs_background": "light"
     },
     "output_type": "display_data"
    }
   ],
   "source": [
    "# plot for test  data\n",
    "trues = sigm(theta.T@ X_test.T).squeeze()*((y_test + sigm(theta.T@ X_test.T).squeeze() >=0.5) > 0)\n",
    "falses = sigm(theta.T@ X_test.T).squeeze()*(1-y_test + (sigm(theta.T@ X_test.T).squeeze() < 0.5) > 0)\n",
    "plot_decision_boundary(trues[trues != 0], falses[falses != 0])"
   ]
  },
  {
   "cell_type": "code",
   "execution_count": 31,
   "metadata": {},
   "outputs": [],
   "source": [
    "from  sklearn.linear_model import LogisticRegression\n",
    "lr = LogisticRegression(penalty='l2')"
   ]
  },
  {
   "cell_type": "code",
   "execution_count": 32,
   "metadata": {},
   "outputs": [
    {
     "name": "stderr",
     "output_type": "stream",
     "text": [
      "C:\\Users\\davidt\\AppData\\Local\\Continuum\\anaconda3\\lib\\site-packages\\sklearn\\linear_model\\logistic.py:433: FutureWarning: Default solver will be changed to 'lbfgs' in 0.22. Specify a solver to silence this warning.\n",
      "  FutureWarning)\n"
     ]
    },
    {
     "data": {
      "text/plain": [
       "LogisticRegression(C=1.0, class_weight=None, dual=False, fit_intercept=True,\n",
       "          intercept_scaling=1, max_iter=100, multi_class='warn',\n",
       "          n_jobs=None, penalty='l2', random_state=None, solver='warn',\n",
       "          tol=0.0001, verbose=0, warm_start=False)"
      ]
     },
     "execution_count": 32,
     "metadata": {},
     "output_type": "execute_result"
    }
   ],
   "source": [
    "lr.fit(X,y)"
   ]
  },
  {
   "cell_type": "code",
   "execution_count": 33,
   "metadata": {},
   "outputs": [
    {
     "data": {
      "text/plain": [
       "array([1., 1., 0., 0., 1., 1., 1., 0., 1., 0., 1., 0., 1., 0., 1., 0., 1.,\n",
       "       1., 1., 0., 0., 1., 0., 0., 1., 0., 0., 1., 1., 0., 1., 1., 0., 0.,\n",
       "       0., 0., 0., 1., 1., 0., 0., 1., 0., 0., 1., 0., 1., 1., 0., 1., 1.,\n",
       "       0., 0., 1., 1., 0., 1., 0., 1., 0., 0., 0., 0., 1., 1., 1., 0., 1.,\n",
       "       0., 0., 0., 1., 0., 0., 0., 0., 0., 0., 1., 0., 1., 0., 1., 1., 0.,\n",
       "       0., 0., 1., 0., 1., 0., 0., 0., 0., 0., 1., 0., 1., 1., 1., 0., 1.,\n",
       "       1., 0., 0., 0., 0., 0., 1., 0., 0., 0., 1., 1., 1., 0., 1., 0., 1.,\n",
       "       1., 1., 1., 0., 0., 1., 0., 1., 0., 0., 0., 0., 1., 0., 1., 1., 1.,\n",
       "       1., 0., 0., 0., 1., 0., 1., 0.])"
      ]
     },
     "execution_count": 33,
     "metadata": {},
     "output_type": "execute_result"
    }
   ],
   "source": [
    "y_test_lr = lr.predict(X_test)\n",
    "y_test_lr"
   ]
  },
  {
   "cell_type": "code",
   "execution_count": 34,
   "metadata": {},
   "outputs": [
    {
     "data": {
      "text/plain": [
       "array([1, 1, 0, 1, 1, 1, 1, 0, 1, 0, 1, 0, 1, 0, 1, 0, 1, 1, 1, 0, 0, 1,\n",
       "       0, 0, 1, 1, 0, 1, 1, 0, 1, 1, 1, 0, 0, 0, 0, 1, 1, 0, 0, 1, 1, 0,\n",
       "       1, 0, 1, 1, 1, 1, 1, 0, 0, 1, 1, 0, 1, 0, 1, 0, 0, 1, 1, 1, 1, 1,\n",
       "       0, 1, 0, 0, 0, 1, 0, 1, 1, 0, 1, 0, 1, 0, 1, 0, 1, 1, 0, 0, 0, 1,\n",
       "       0, 1, 0, 1, 0, 1, 1, 1, 1, 1, 1, 1, 0, 1, 1, 0, 1, 0, 0, 0, 1, 0,\n",
       "       0, 1, 1, 1, 1, 0, 1, 0, 1, 1, 1, 1, 0, 0, 1, 0, 1, 0, 1, 1, 1, 1,\n",
       "       0, 1, 1, 1, 1, 0, 0, 0, 1, 0, 1, 0])"
      ]
     },
     "execution_count": 34,
     "metadata": {},
     "output_type": "execute_result"
    }
   ],
   "source": [
    "y_pred_test"
   ]
  },
  {
   "cell_type": "code",
   "execution_count": 35,
   "metadata": {},
   "outputs": [
    {
     "data": {
      "text/plain": [
       "0.8888888888888888"
      ]
     },
     "execution_count": 35,
     "metadata": {},
     "output_type": "execute_result"
    }
   ],
   "source": [
    "accuracy_score(y_test_lr, y_test)"
   ]
  },
  {
   "cell_type": "code",
   "execution_count": 36,
   "metadata": {},
   "outputs": [
    {
     "data": {
      "text/plain": [
       "0.8402777777777778"
      ]
     },
     "execution_count": 36,
     "metadata": {},
     "output_type": "execute_result"
    }
   ],
   "source": [
    "accuracy_score(y_pred_test, y_test)"
   ]
  },
  {
   "cell_type": "code",
   "execution_count": 37,
   "metadata": {},
   "outputs": [
    {
     "data": {
      "text/plain": [
       "array([1, 1, 0, 1, 1])"
      ]
     },
     "execution_count": 37,
     "metadata": {},
     "output_type": "execute_result"
    }
   ],
   "source": [
    "y_pred_test[:5]"
   ]
  },
  {
   "cell_type": "code",
   "execution_count": 38,
   "metadata": {},
   "outputs": [
    {
     "data": {
      "text/plain": [
       "array([1., 1., 1., 0., 1.])"
      ]
     },
     "execution_count": 38,
     "metadata": {},
     "output_type": "execute_result"
    }
   ],
   "source": [
    "y_test[:5]"
   ]
  },
  {
   "cell_type": "code",
   "execution_count": 39,
   "metadata": {},
   "outputs": [],
   "source": [
    "def conf_mat(y_pred, y_test):\n",
    "    classes = set(map(int, list(y_pred) + list(y_test)))\n",
    "    conf_m = np.zeros((len(classes), len(classes)))\n",
    "    for class_ in classes:\n",
    "        for class2_ in classes:\n",
    "            conf_m[class_, class2_] = ((np.array(y_pred_test) == class_) * (np.array(y_test) == class2_)).sum()\n",
    "    return conf_m.astype(int)"
   ]
  },
  {
   "cell_type": "code",
   "execution_count": 40,
   "metadata": {},
   "outputs": [
    {
     "data": {
      "text/plain": [
       "array([[54,  6],\n",
       "       [17, 67]])"
      ]
     },
     "execution_count": 40,
     "metadata": {},
     "output_type": "execute_result"
    }
   ],
   "source": [
    "cm = conf_mat(y_pred_test, y_test)\n",
    "cm"
   ]
  },
  {
   "cell_type": "code",
   "execution_count": 41,
   "metadata": {},
   "outputs": [
    {
     "data": {
      "text/plain": [
       "(0.7976190476190477, 0.9178082191780822)"
      ]
     },
     "execution_count": 41,
     "metadata": {},
     "output_type": "execute_result"
    }
   ],
   "source": [
    "precision = np.diag(cm) / np.sum(cm, axis = 1)\n",
    "recall = np.diag(cm) / np.sum(cm, axis = 0)\n",
    "precision[1], recall[1]"
   ]
  },
  {
   "cell_type": "code",
   "execution_count": 42,
   "metadata": {},
   "outputs": [
    {
     "data": {
      "text/plain": [
       "0.8535031847133758"
      ]
     },
     "execution_count": 42,
     "metadata": {},
     "output_type": "execute_result"
    }
   ],
   "source": [
    "f1 = 2 * (precision[1] * recall[1])/(precision[1] + recall[1])\n",
    "f1"
   ]
  },
  {
   "cell_type": "code",
   "execution_count": 43,
   "metadata": {},
   "outputs": [
    {
     "data": {
      "text/plain": [
       "0.8535031847133758"
      ]
     },
     "execution_count": 43,
     "metadata": {},
     "output_type": "execute_result"
    }
   ],
   "source": [
    "from sklearn.metrics import f1_score\n",
    "\n",
    "f1_score(y_test, y_pred_test)"
   ]
  },
  {
   "cell_type": "markdown",
   "metadata": {},
   "source": [
    "simple SVM                                                                                                                  \n",
    "https://towardsdatascience.com/svm-implementation-from-scratch-python-2db2fc52e5c2"
   ]
  },
  {
   "cell_type": "code",
   "execution_count": 44,
   "metadata": {},
   "outputs": [
    {
     "data": {
      "text/plain": [
       "array([ 1., -1.,  1.,  1.,  1.,  1., -1.,  1., -1.,  1., -1.,  1.,  1.,\n",
       "       -1.,  1.,  1.,  1., -1., -1., -1.,  1.,  1.,  1.,  1., -1., -1.,\n",
       "       -1., -1., -1.,  1., -1.,  1.,  1.,  1.,  1., -1., -1.,  1., -1.,\n",
       "        1., -1.,  1.,  1.,  1.,  1.,  1., -1., -1., -1.,  1., -1., -1.,\n",
       "       -1.,  1.,  1., -1., -1., -1., -1., -1.,  1.,  1., -1.,  1.,  1.,\n",
       "        1.,  1.,  1., -1.,  1., -1.,  1.,  1.,  1., -1.,  1.,  1., -1.,\n",
       "        1., -1., -1.,  1., -1., -1., -1.,  1., -1., -1., -1., -1., -1.,\n",
       "       -1., -1., -1., -1., -1.,  1., -1., -1., -1.,  1., -1., -1., -1.,\n",
       "       -1., -1.,  1.,  1., -1.,  1., -1., -1.,  1.,  1., -1.,  1.,  1.,\n",
       "       -1.,  1.,  1.,  1., -1., -1.,  1., -1.,  1., -1., -1.,  1., -1.,\n",
       "        1.,  1., -1., -1.,  1., -1., -1.,  1., -1.,  1., -1.,  1.,  1.,\n",
       "       -1.,  1.,  1., -1.,  1., -1., -1.,  1.,  1.,  1., -1.,  1., -1.,\n",
       "       -1., -1., -1.])"
      ]
     },
     "execution_count": 44,
     "metadata": {},
     "output_type": "execute_result"
    }
   ],
   "source": [
    "y[y==0] = -1\n",
    "y"
   ]
  },
  {
   "cell_type": "code",
   "execution_count": 45,
   "metadata": {},
   "outputs": [],
   "source": [
    "def pred_svm(theta_svm, data):\n",
    "    return np.sign(theta_svm.T@ data.T)"
   ]
  },
  {
   "cell_type": "code",
   "execution_count": 46,
   "metadata": {},
   "outputs": [],
   "source": [
    "def train_svm(X_, y_, c, batch_size, epochs, eta):\n",
    "    theta = np.random.rand(X_.shape[1])\n",
    "    \n",
    "    for i in range(epochs):\n",
    "        if i %20 == 0:\n",
    "            print('accuracy: ', accuracy_score(y_, pred_svm(theta, X_)))\n",
    "        rand_idxs = np.random.randint(X_.shape[0], size=batch_size)\n",
    "        X_Batch = X_[rand_idxs]\n",
    "        Y_batch = y_[rand_idxs]\n",
    "        grad = 0\n",
    "        batch_loss = 0\n",
    "        for xx, yy in zip(X_Batch, Y_batch):\n",
    "            if 1 - yy*(theta.T@xx) > 0:\n",
    "                grad += theta - c*yy*xx\n",
    "                max_ = 1 - yy*(theta.T@xx)\n",
    "            else:\n",
    "                grad += theta\n",
    "                max_ = 0\n",
    "            batch_loss += (1/c * max_) + 1/2*theta.T@theta\n",
    "        if i %20 == 0:\n",
    "            print('batch loss: ', batch_loss/X_Batch.shape[0])\n",
    "#         print(\"-----\"*20)\n",
    "        theta = theta - (1/X_Batch.shape[0])*eta*grad\n",
    "    \n",
    "    return theta"
   ]
  },
  {
   "cell_type": "code",
   "execution_count": 56,
   "metadata": {},
   "outputs": [
    {
     "name": "stdout",
     "output_type": "stream",
     "text": [
      "accuracy:  0.16352201257861634\n",
      "batch loss:  256.29256781475647\n",
      "accuracy:  0.16352201257861634\n",
      "batch loss:  241.96455121233882\n",
      "accuracy:  0.16352201257861634\n",
      "batch loss:  204.092551103059\n",
      "accuracy:  0.15723270440251572\n",
      "batch loss:  182.80224264159307\n",
      "accuracy:  0.15723270440251572\n",
      "batch loss:  192.8051215288976\n",
      "accuracy:  0.15723270440251572\n",
      "batch loss:  198.94638882483108\n",
      "accuracy:  0.16352201257861634\n",
      "batch loss:  189.4812406717533\n",
      "accuracy:  0.16352201257861634\n",
      "batch loss:  172.32544503556244\n",
      "accuracy:  0.16352201257861634\n",
      "batch loss:  169.29810867809007\n",
      "accuracy:  0.16352201257861634\n",
      "batch loss:  150.24169170656316\n",
      "accuracy:  0.16352201257861634\n",
      "batch loss:  129.62557702134427\n",
      "accuracy:  0.16352201257861634\n",
      "batch loss:  133.08500333037568\n",
      "accuracy:  0.16352201257861634\n",
      "batch loss:  104.67628160455783\n",
      "accuracy:  0.16352201257861634\n",
      "batch loss:  107.12849559831444\n",
      "accuracy:  0.16352201257861634\n",
      "batch loss:  107.30198916655313\n",
      "accuracy:  0.16352201257861634\n",
      "batch loss:  89.25983010019455\n",
      "accuracy:  0.15723270440251572\n",
      "batch loss:  96.59351740330924\n",
      "accuracy:  0.15723270440251572\n",
      "batch loss:  73.68725654167692\n",
      "accuracy:  0.16352201257861634\n",
      "batch loss:  74.1785361411134\n",
      "accuracy:  0.16981132075471697\n",
      "batch loss:  70.16528956137398\n",
      "accuracy:  0.1509433962264151\n",
      "batch loss:  55.05111889208356\n",
      "accuracy:  0.15723270440251572\n",
      "batch loss:  44.21033757977361\n",
      "accuracy:  0.16981132075471697\n",
      "batch loss:  40.755171715358166\n",
      "accuracy:  0.23270440251572327\n",
      "batch loss:  34.33318786581938\n",
      "accuracy:  0.4716981132075472\n",
      "batch loss:  24.006763856903085\n",
      "accuracy:  0.4779874213836478\n",
      "batch loss:  17.11171058216538\n",
      "accuracy:  0.6226415094339622\n",
      "batch loss:  10.630789412550712\n",
      "accuracy:  0.710691823899371\n",
      "batch loss:  13.21897363216518\n",
      "accuracy:  0.7610062893081762\n",
      "batch loss:  8.346758641853652\n",
      "accuracy:  0.779874213836478\n",
      "batch loss:  9.50658626439763\n",
      "accuracy:  0.7924528301886793\n",
      "batch loss:  8.924144357913736\n",
      "accuracy:  0.7987421383647799\n",
      "batch loss:  7.95523969341752\n",
      "accuracy:  0.8050314465408805\n",
      "batch loss:  10.969550723221449\n",
      "accuracy:  0.8113207547169812\n",
      "batch loss:  9.795023762428942\n",
      "accuracy:  0.8176100628930818\n",
      "batch loss:  11.15420376795909\n",
      "accuracy:  0.8176100628930818\n",
      "batch loss:  8.897738579100945\n",
      "accuracy:  0.8176100628930818\n",
      "batch loss:  9.168552233780385\n",
      "accuracy:  0.8238993710691824\n",
      "batch loss:  8.459153521342548\n",
      "accuracy:  0.8238993710691824\n",
      "batch loss:  9.97934494477999\n",
      "accuracy:  0.8301886792452831\n",
      "batch loss:  9.436043791995626\n",
      "accuracy:  0.8301886792452831\n",
      "batch loss:  7.256145792837919\n",
      "accuracy:  0.8364779874213837\n",
      "batch loss:  6.229225858118238\n",
      "accuracy:  0.8301886792452831\n",
      "batch loss:  9.030492187811037\n",
      "accuracy:  0.8301886792452831\n",
      "batch loss:  5.252983812113005\n",
      "accuracy:  0.8301886792452831\n",
      "batch loss:  6.112266239848493\n",
      "accuracy:  0.8301886792452831\n",
      "batch loss:  9.008033507553275\n",
      "accuracy:  0.8364779874213837\n",
      "batch loss:  8.116439634265072\n",
      "accuracy:  0.8364779874213837\n",
      "batch loss:  7.474721954225116\n",
      "accuracy:  0.8364779874213837\n",
      "batch loss:  7.070022479864174\n",
      "accuracy:  0.8301886792452831\n",
      "batch loss:  9.575852815402225\n"
     ]
    }
   ],
   "source": [
    "theta_svm = train_svm(X, y, 0.05, 64, 1000, 0.0005)"
   ]
  },
  {
   "cell_type": "code",
   "execution_count": 57,
   "metadata": {},
   "outputs": [
    {
     "data": {
      "text/plain": [
       "array([ 0.47351732, -0.05292242,  0.07128258])"
      ]
     },
     "execution_count": 57,
     "metadata": {},
     "output_type": "execute_result"
    }
   ],
   "source": [
    "theta_svm"
   ]
  },
  {
   "cell_type": "code",
   "execution_count": 58,
   "metadata": {},
   "outputs": [
    {
     "data": {
      "text/plain": [
       "array([ 1.,  1.,  1.,  1.,  1.,  1.,  1., -1.,  1., -1.,  1., -1.,  1.,\n",
       "       -1.,  1., -1.,  1.,  1.,  1., -1., -1.,  1., -1., -1.,  1.,  1.,\n",
       "       -1.,  1.,  1., -1.,  1.,  1.,  1., -1., -1., -1.,  1.,  1.,  1.,\n",
       "       -1., -1.,  1.,  1., -1.,  1., -1.,  1.,  1.,  1.,  1.,  1., -1.,\n",
       "       -1.,  1.,  1., -1.,  1., -1.,  1., -1., -1.,  1.,  1.,  1.,  1.,\n",
       "        1., -1.,  1., -1., -1., -1.,  1., -1.,  1.,  1., -1.,  1., -1.,\n",
       "        1., -1.,  1., -1.,  1.,  1., -1., -1., -1.,  1., -1.,  1., -1.,\n",
       "        1., -1.,  1.,  1.,  1.,  1.,  1.,  1.,  1., -1.,  1.,  1., -1.,\n",
       "        1., -1.,  1., -1.,  1., -1., -1.,  1.,  1.,  1.,  1.,  1.,  1.,\n",
       "       -1.,  1.,  1.,  1.,  1., -1., -1.,  1., -1.,  1., -1.,  1.,  1.,\n",
       "        1.,  1., -1.,  1.,  1.,  1.,  1., -1., -1., -1.,  1.,  1.,  1.,\n",
       "       -1.])"
      ]
     },
     "execution_count": 58,
     "metadata": {},
     "output_type": "execute_result"
    }
   ],
   "source": [
    "pred_svm(theta_svm, X_test)"
   ]
  },
  {
   "cell_type": "code",
   "execution_count": 59,
   "metadata": {},
   "outputs": [
    {
     "data": {
      "text/plain": [
       "array([ 1.,  1.,  1., -1.,  1., -1.,  1., -1.,  1., -1.,  1., -1.,  1.,\n",
       "       -1.,  1.,  1., -1.,  1.,  1., -1., -1.,  1., -1., -1.,  1.,  1.,\n",
       "       -1.,  1.,  1., -1.,  1.,  1.,  1.,  1., -1., -1., -1., -1.,  1.,\n",
       "       -1., -1.,  1., -1., -1.,  1., -1.,  1.,  1., -1.,  1.,  1., -1.,\n",
       "        1.,  1., -1., -1.,  1., -1.,  1., -1., -1.,  1., -1.,  1.,  1.,\n",
       "        1., -1.,  1.,  1., -1., -1.,  1., -1., -1., -1., -1., -1., -1.,\n",
       "        1., -1.,  1., -1.,  1.,  1., -1., -1., -1.,  1., -1.,  1., -1.,\n",
       "        1., -1., -1., -1.,  1.,  1.,  1.,  1.,  1., -1.,  1.,  1., -1.,\n",
       "       -1., -1., -1., -1.,  1., -1., -1., -1.,  1.,  1.,  1., -1.,  1.,\n",
       "       -1.,  1.,  1.,  1.,  1., -1., -1.,  1., -1.,  1., -1., -1.,  1.,\n",
       "       -1.,  1., -1.,  1.,  1.,  1.,  1., -1., -1., -1.,  1.,  1.,  1.,\n",
       "       -1.])"
      ]
     },
     "execution_count": 59,
     "metadata": {},
     "output_type": "execute_result"
    }
   ],
   "source": [
    "y_test[y_test==0] = -1\n",
    "y_test"
   ]
  },
  {
   "cell_type": "code",
   "execution_count": 60,
   "metadata": {},
   "outputs": [
    {
     "data": {
      "text/plain": [
       "0.8301886792452831"
      ]
     },
     "execution_count": 60,
     "metadata": {},
     "output_type": "execute_result"
    }
   ],
   "source": [
    "# train accuracy with svm\n",
    "accuracy_score(y, pred_svm(theta_svm, X))"
   ]
  },
  {
   "cell_type": "code",
   "execution_count": 61,
   "metadata": {},
   "outputs": [
    {
     "data": {
      "text/plain": [
       "0.8333333333333334"
      ]
     },
     "execution_count": 61,
     "metadata": {},
     "output_type": "execute_result"
    }
   ],
   "source": [
    "# test accuracy with svm \n",
    "accuracy_score(y_test, pred_svm(theta_svm, X_test))"
   ]
  },
  {
   "cell_type": "code",
   "execution_count": 62,
   "metadata": {},
   "outputs": [
    {
     "data": {
      "image/png": "[encoded data removed]",
      "text/plain": [
       "<Figure size 432x288 with 1 Axes>"
      ]
     },
     "metadata": {
      "needs_background": "light"
     },
     "output_type": "display_data"
    }
   ],
   "source": [
    "# plot for test  data\n",
    "trues_svm = sigm(theta.T@ X_test.T).squeeze()*((y_test + pred_svm(theta_svm, X_test) > 0) > 0)\n",
    "falses_svm = sigm(theta.T@ X_test.T).squeeze()*(1-y_test + (pred_svm(theta_svm, X_test) < 0) > 0)\n",
    "plot_decision_boundary(trues_svm[trues_svm != 0], falses_svm[falses_svm != 0])"
   ]
  },
  {
   "cell_type": "code",
   "execution_count": 63,
   "metadata": {},
   "outputs": [],
   "source": [
    "y_test[y_test==-1]=0\n",
    "y_svm_test = pred_svm(theta_svm, X_test)\n",
    "y_svm_test[y_svm_test==-1]=0"
   ]
  },
  {
   "cell_type": "code",
   "execution_count": 64,
   "metadata": {},
   "outputs": [
    {
     "data": {
      "text/plain": [
       "array([[55,  5],\n",
       "       [ 0, 84]])"
      ]
     },
     "execution_count": 64,
     "metadata": {},
     "output_type": "execute_result"
    }
   ],
   "source": [
    "cm_svm = conf_mat(y_test, y_svm_test)\n",
    "cm_svm"
   ]
  },
  {
   "cell_type": "code",
   "execution_count": 65,
   "metadata": {},
   "outputs": [
    {
     "data": {
      "text/plain": [
       "(1.0, 0.9438202247191011)"
      ]
     },
     "execution_count": 65,
     "metadata": {},
     "output_type": "execute_result"
    }
   ],
   "source": [
    "precision = np.diag(cm_svm) / np.sum(cm_svm, axis = 1)\n",
    "recall = np.diag(cm_svm) / np.sum(cm_svm, axis = 0)\n",
    "precision[1], recall[1]"
   ]
  },
  {
   "cell_type": "markdown",
   "metadata": {},
   "source": [
    "Evaluation on sklearn breast cancer dataset"
   ]
  },
  {
   "cell_type": "code",
   "execution_count": 66,
   "metadata": {},
   "outputs": [],
   "source": [
    "from sklearn.model_selection import train_test_split\n",
    "from sklearn.datasets import load_breast_cancer"
   ]
  },
  {
   "cell_type": "code",
   "execution_count": 67,
   "metadata": {},
   "outputs": [],
   "source": [
    "X, y = load_breast_cancer(return_X_y=True)\n",
    "X_train, X_test, y_train, y_test = train_test_split(X, y, random_state=0)"
   ]
  },
  {
   "cell_type": "code",
   "execution_count": 68,
   "metadata": {},
   "outputs": [
    {
     "data": {
      "text/plain": [
       "((426, 30), (143, 30), (426,), (143,))"
      ]
     },
     "execution_count": 68,
     "metadata": {},
     "output_type": "execute_result"
    }
   ],
   "source": [
    "X_train.shape, X_test.shape, y_train.shape, y_test.shape"
   ]
  },
  {
   "cell_type": "code",
   "execution_count": 69,
   "metadata": {},
   "outputs": [],
   "source": [
    "# pred_logistic_regr(theta_log_reg_bc, X_test)\n",
    "temp_train = np.ones((X_train .shape[0], X_train.shape[1]+1))\n",
    "temp_train [:,1:] = X_train.copy()\n",
    "X_train = np.copy(temp_train)"
   ]
  },
  {
   "cell_type": "code",
   "execution_count": 70,
   "metadata": {},
   "outputs": [],
   "source": [
    "# pred_logistic_regr(theta_log_reg_bc, X_test)\n",
    "temp_test = np.ones((X_test.shape[0], X_test.shape[1]+1))\n",
    "temp_test[:,1:] = X_test.copy()\n",
    "X_test = np.copy(temp_test)"
   ]
  },
  {
   "cell_type": "code",
   "execution_count": 71,
   "metadata": {},
   "outputs": [
    {
     "name": "stdout",
     "output_type": "stream",
     "text": [
      "accuracy:  0.6267605633802817\n",
      "batch loss:  290.1256787172716\n",
      "accuracy:  0.8497652582159625\n",
      "batch loss:  71.78725671991332\n",
      "accuracy:  0.863849765258216\n",
      "batch loss:  80.09538029837067\n",
      "accuracy:  0.8568075117370892\n",
      "batch loss:  41.466478093651\n",
      "accuracy:  0.863849765258216\n",
      "batch loss:  58.04000833231484\n",
      "accuracy:  0.8591549295774648\n",
      "batch loss:  69.12098786754277\n",
      "accuracy:  0.8661971830985915\n",
      "batch loss:  87.33212800802944\n",
      "accuracy:  0.863849765258216\n",
      "batch loss:  102.41260985475749\n",
      "accuracy:  0.8708920187793427\n",
      "batch loss:  101.47275589431173\n",
      "accuracy:  0.8615023474178404\n",
      "batch loss:  72.140930601751\n",
      "accuracy:  0.8779342723004695\n",
      "batch loss:  41.8737160754391\n",
      "accuracy:  0.8568075117370892\n",
      "batch loss:  56.802667056076835\n",
      "accuracy:  0.8755868544600939\n",
      "batch loss:  102.86916641573158\n",
      "accuracy:  0.8474178403755869\n",
      "batch loss:  107.16027844669446\n",
      "accuracy:  0.8732394366197183\n",
      "batch loss:  79.08440773887196\n",
      "accuracy:  0.8802816901408451\n",
      "batch loss:  102.16904374023095\n",
      "accuracy:  0.8802816901408451\n",
      "batch loss:  86.80954962799287\n",
      "accuracy:  0.8685446009389671\n",
      "batch loss:  79.41526605501335\n",
      "accuracy:  0.8755868544600939\n",
      "batch loss:  51.46764209490431\n",
      "accuracy:  0.8849765258215962\n",
      "batch loss:  113.38612527817963\n",
      "accuracy:  0.8708920187793427\n",
      "batch loss:  148.26330857534714\n",
      "accuracy:  0.8802816901408451\n",
      "batch loss:  82.01037095252926\n",
      "accuracy:  0.8849765258215962\n",
      "batch loss:  41.71359248630374\n",
      "accuracy:  0.8802816901408451\n",
      "batch loss:  59.65426239353909\n",
      "accuracy:  0.8826291079812206\n",
      "batch loss:  60.39034154731036\n",
      "accuracy:  0.8708920187793427\n",
      "batch loss:  59.46993931389687\n",
      "accuracy:  0.8896713615023474\n",
      "batch loss:  60.25178175287689\n",
      "accuracy:  0.8685446009389671\n",
      "batch loss:  43.38120701831587\n",
      "accuracy:  0.8732394366197183\n",
      "batch loss:  75.72489670257691\n",
      "accuracy:  0.892018779342723\n",
      "batch loss:  70.78347394168144\n",
      "accuracy:  0.8873239436619719\n",
      "batch loss:  88.67796637860657\n",
      "accuracy:  0.8779342723004695\n",
      "batch loss:  62.66440621262699\n",
      "accuracy:  0.8967136150234741\n",
      "batch loss:  58.371945736366825\n",
      "accuracy:  0.8873239436619719\n",
      "batch loss:  84.25738557444468\n",
      "accuracy:  0.8967136150234741\n",
      "batch loss:  43.855230883009305\n",
      "accuracy:  0.8708920187793427\n",
      "batch loss:  61.861284958107355\n",
      "accuracy:  0.8849765258215962\n",
      "batch loss:  59.47719561684751\n",
      "accuracy:  0.8708920187793427\n",
      "batch loss:  73.61449095624388\n",
      "accuracy:  0.8873239436619719\n",
      "batch loss:  97.57336965148023\n",
      "accuracy:  0.8873239436619719\n",
      "batch loss:  110.62130969841999\n",
      "accuracy:  0.8826291079812206\n",
      "batch loss:  108.5227712212502\n",
      "accuracy:  0.8990610328638498\n",
      "batch loss:  65.10768012717412\n",
      "accuracy:  0.8732394366197183\n",
      "batch loss:  79.38221583810049\n",
      "accuracy:  0.8708920187793427\n",
      "batch loss:  52.45284392463957\n",
      "accuracy:  0.8967136150234741\n",
      "batch loss:  34.658415455788564\n",
      "accuracy:  0.8708920187793427\n",
      "batch loss:  48.26455037805975\n",
      "accuracy:  0.8896713615023474\n",
      "batch loss:  80.1481966559814\n",
      "accuracy:  0.8943661971830986\n",
      "batch loss:  94.51776970273247\n",
      "accuracy:  0.892018779342723\n",
      "batch loss:  66.0507067509337\n",
      "accuracy:  0.892018779342723\n",
      "batch loss:  118.26531465400845\n"
     ]
    }
   ],
   "source": [
    "# train logistic regression\n",
    "theta_log_reg_bc = train(X_train, y_train, 64, 1000, 0.0001)"
   ]
  },
  {
   "cell_type": "code",
   "execution_count": 72,
   "metadata": {},
   "outputs": [
    {
     "data": {
      "text/plain": [
       "((143, 31), (143,), (31,))"
      ]
     },
     "execution_count": 72,
     "metadata": {},
     "output_type": "execute_result"
    }
   ],
   "source": [
    "X_test.shape, y_test.shape, theta_log_reg_bc.shape"
   ]
  },
  {
   "cell_type": "code",
   "execution_count": 73,
   "metadata": {},
   "outputs": [
    {
     "data": {
      "text/plain": [
       "0.8951048951048951"
      ]
     },
     "execution_count": 73,
     "metadata": {},
     "output_type": "execute_result"
    }
   ],
   "source": [
    "accuracy_score(pred_logistic_regr(theta_log_reg_bc, X_test), np.array(y_test))"
   ]
  },
  {
   "cell_type": "code",
   "execution_count": 74,
   "metadata": {},
   "outputs": [
    {
     "name": "stderr",
     "output_type": "stream",
     "text": [
      "C:\\Users\\davidt\\AppData\\Local\\Continuum\\anaconda3\\lib\\site-packages\\sklearn\\linear_model\\logistic.py:433: FutureWarning: Default solver will be changed to 'lbfgs' in 0.22. Specify a solver to silence this warning.\n",
      "  FutureWarning)\n"
     ]
    },
    {
     "data": {
      "text/plain": [
       "LogisticRegression(C=1.0, class_weight=None, dual=False, fit_intercept=True,\n",
       "          intercept_scaling=1, max_iter=100, multi_class='warn',\n",
       "          n_jobs=None, penalty='l2', random_state=None, solver='warn',\n",
       "          tol=0.0001, verbose=0, warm_start=False)"
      ]
     },
     "execution_count": 74,
     "metadata": {},
     "output_type": "execute_result"
    }
   ],
   "source": [
    "lr_bc = LogisticRegression(penalty='l2')\n",
    "lr_bc.fit(X_train[:,1:], y_train)"
   ]
  },
  {
   "cell_type": "code",
   "execution_count": 75,
   "metadata": {},
   "outputs": [
    {
     "data": {
      "text/plain": [
       "0.958041958041958"
      ]
     },
     "execution_count": 75,
     "metadata": {},
     "output_type": "execute_result"
    }
   ],
   "source": [
    "accuracy_score(lr_bc.predict(X_test[:,1:]), y_test)"
   ]
  },
  {
   "cell_type": "code",
   "execution_count": 76,
   "metadata": {},
   "outputs": [
    {
     "data": {
      "text/plain": [
       "((426, 31), (426,))"
      ]
     },
     "execution_count": 76,
     "metadata": {},
     "output_type": "execute_result"
    }
   ],
   "source": [
    "X_train.shape, y_train.shape"
   ]
  },
  {
   "cell_type": "code",
   "execution_count": 77,
   "metadata": {},
   "outputs": [
    {
     "data": {
      "text/plain": [
       "array([1, 1, 0, 1, 0, 1, 1, 1, 1, 1, 1, 1, 0, 1, 0, 1, 0, 0, 1, 1, 0, 1,\n",
       "       0, 0, 0, 1, 1, 1, 1, 1, 1, 0, 1, 1, 1, 1, 0, 0, 1, 1, 0, 1, 1, 1,\n",
       "       1, 0, 1, 1, 0, 0, 1, 1, 0, 0, 1, 1, 0, 1, 1, 0, 0, 0, 1, 1, 1, 0,\n",
       "       1, 1, 1, 1, 1, 0, 1, 0, 1, 0, 1, 0, 1, 0, 1, 1, 1, 1, 0, 1, 0, 1,\n",
       "       1, 1, 0, 1, 1, 1, 0, 1, 1, 0, 0, 1, 0, 1, 0, 1, 0, 0, 0, 0, 1, 0,\n",
       "       1, 0, 1, 0, 1, 0, 1, 1, 0, 1, 1, 1, 1, 1, 1, 1, 1, 1, 1, 1, 1, 1,\n",
       "       0, 1, 1, 1, 0, 1, 1, 1, 1, 1, 1, 0, 1, 0, 1, 1, 0, 1, 0, 0, 1, 0,\n",
       "       0, 1, 1, 0, 1, 1, 1, 0, 1, 1, 1, 1, 1, 0, 0, 1, 1, 1, 1, 0, 0, 1,\n",
       "       1, 1, 1, 0, 1, 1, 0, 1, 1, 0, 1, 0, 1, 1, 1, 1, 0, 0, 0, 0, 1, 0,\n",
       "       1, 0, 0, 1, 1, 1, 1, 1, 0, 1, 1, 0, 1, 1, 0, 0, 1, 1, 1, 0, 0, 1,\n",
       "       1, 0, 1, 1, 1, 0, 1, 0, 1, 0, 0, 0, 0, 1, 1, 1, 1, 0, 0, 1, 1, 1,\n",
       "       1, 1, 0, 1, 1, 0, 1, 1, 0, 0, 0, 0, 1, 1, 0, 1, 1, 1, 0, 0, 1, 1,\n",
       "       1, 1, 1, 0, 0, 0, 1, 0, 0, 1, 1, 1, 1, 1, 1, 0, 1, 1, 1, 1, 1, 1,\n",
       "       0, 0, 1, 0, 1, 0, 0, 1, 1, 1, 1, 1, 0, 0, 0, 1, 1, 0, 0, 1, 1, 0,\n",
       "       1, 0, 0, 1, 0, 1, 1, 1, 1, 1, 1, 1, 0, 0, 1, 1, 1, 0, 1, 1, 1, 1,\n",
       "       0, 1, 0, 0, 0, 1, 0, 1, 0, 1, 0, 0, 1, 1, 1, 1, 1, 1, 1, 1, 0, 0,\n",
       "       0, 0, 0, 1, 1, 1, 1, 1, 1, 1, 0, 1, 0, 1, 1, 1, 1, 1, 0, 0, 0, 1,\n",
       "       0, 1, 1, 0, 0, 0, 0, 1, 0, 0, 0, 1, 0, 1, 0, 1, 1, 0, 0, 1, 0, 1,\n",
       "       1, 1, 1, 0, 1, 1, 0, 1, 1, 1, 0, 0, 1, 1, 1, 0, 1, 1, 0, 1, 1, 1,\n",
       "       1, 1, 0, 0, 0, 1, 1, 1])"
      ]
     },
     "execution_count": 77,
     "metadata": {},
     "output_type": "execute_result"
    }
   ],
   "source": [
    "y_train"
   ]
  },
  {
   "cell_type": "code",
   "execution_count": 78,
   "metadata": {},
   "outputs": [],
   "source": [
    "y_train[y_train==0]=-1\n",
    "y_test[y_test==0]=-1"
   ]
  },
  {
   "cell_type": "code",
   "execution_count": 94,
   "metadata": {},
   "outputs": [
    {
     "name": "stdout",
     "output_type": "stream",
     "text": [
      "accuracy:  0.6267605633802817\n",
      "batch loss:  513.551319579891\n",
      "accuracy:  0.744131455399061\n",
      "batch loss:  16.064734500049912\n",
      "accuracy:  0.676056338028169\n",
      "batch loss:  40.914851192186596\n",
      "accuracy:  0.8309859154929577\n",
      "batch loss:  11.40552179931363\n",
      "accuracy:  0.5140845070422535\n",
      "batch loss:  44.1197061207586\n",
      "accuracy:  0.8685446009389671\n",
      "batch loss:  6.326269542304853\n",
      "accuracy:  0.8873239436619719\n",
      "batch loss:  6.412891726866132\n",
      "accuracy:  0.7629107981220657\n",
      "batch loss:  21.22798829207728\n",
      "accuracy:  0.8685446009389671\n",
      "batch loss:  7.860877873076712\n",
      "accuracy:  0.863849765258216\n",
      "batch loss:  8.412075071249394\n",
      "accuracy:  0.8873239436619719\n",
      "batch loss:  8.714349889032924\n",
      "accuracy:  0.892018779342723\n",
      "batch loss:  9.220763973831643\n",
      "accuracy:  0.8967136150234741\n",
      "batch loss:  9.448415893206448\n",
      "accuracy:  0.8661971830985915\n",
      "batch loss:  7.148493171239328\n",
      "accuracy:  0.8967136150234741\n",
      "batch loss:  5.49858589659417\n",
      "accuracy:  0.8169014084507042\n",
      "batch loss:  13.959061993066733\n",
      "accuracy:  0.7676056338028169\n",
      "batch loss:  8.441133258688927\n",
      "accuracy:  0.8826291079812206\n",
      "batch loss:  8.00883372451075\n",
      "accuracy:  0.6384976525821596\n",
      "batch loss:  25.261169999252974\n",
      "accuracy:  0.892018779342723\n",
      "batch loss:  6.7075876698963\n",
      "accuracy:  0.892018779342723\n",
      "batch loss:  7.125794980562868\n",
      "accuracy:  0.8896713615023474\n",
      "batch loss:  6.50111349775357\n",
      "accuracy:  0.8685446009389671\n",
      "batch loss:  6.136504365030551\n",
      "accuracy:  0.5446009389671361\n",
      "batch loss:  30.664677204963965\n",
      "accuracy:  0.9061032863849765\n",
      "batch loss:  7.332568572331008\n",
      "accuracy:  0.9061032863849765\n",
      "batch loss:  6.775456814121628\n",
      "accuracy:  0.9084507042253521\n",
      "batch loss:  6.460796423983575\n",
      "accuracy:  0.8990610328638498\n",
      "batch loss:  4.365371414064142\n",
      "accuracy:  0.9061032863849765\n",
      "batch loss:  7.690613603809897\n",
      "accuracy:  0.812206572769953\n",
      "batch loss:  11.520154461791215\n",
      "accuracy:  0.8896713615023474\n",
      "batch loss:  4.275228849027194\n",
      "accuracy:  0.8990610328638498\n",
      "batch loss:  7.351873351759123\n",
      "accuracy:  0.9084507042253521\n",
      "batch loss:  7.471850083421836\n",
      "accuracy:  0.7769953051643192\n",
      "batch loss:  21.794655357940577\n",
      "accuracy:  0.7887323943661971\n",
      "batch loss:  20.857840143394856\n",
      "accuracy:  0.8568075117370892\n",
      "batch loss:  7.388449404228848\n",
      "accuracy:  0.8967136150234741\n",
      "batch loss:  6.945832217232772\n",
      "accuracy:  0.8004694835680751\n",
      "batch loss:  19.654314343075477\n",
      "accuracy:  0.9084507042253521\n",
      "batch loss:  3.7447150988259206\n",
      "accuracy:  0.8474178403755869\n",
      "batch loss:  11.262608463620168\n",
      "accuracy:  0.8990610328638498\n",
      "batch loss:  8.502579736723526\n",
      "accuracy:  0.8967136150234741\n",
      "batch loss:  9.167087616956568\n",
      "accuracy:  0.8708920187793427\n",
      "batch loss:  3.9843912544159616\n",
      "accuracy:  0.8075117370892019\n",
      "batch loss:  20.31727374893545\n",
      "accuracy:  0.795774647887324\n",
      "batch loss:  8.298765159534334\n",
      "accuracy:  0.9084507042253521\n",
      "batch loss:  5.74024315775835\n",
      "accuracy:  0.892018779342723\n",
      "batch loss:  5.0008226096657875\n",
      "accuracy:  0.7981220657276995\n",
      "batch loss:  19.261156508839576\n",
      "accuracy:  0.8309859154929577\n",
      "batch loss:  9.555084376706404\n",
      "accuracy:  0.9014084507042254\n",
      "batch loss:  7.779531561013834\n"
     ]
    }
   ],
   "source": [
    "theta_svm_bc = train_svm(X_train, y_train, 0.8, 64, 1000, 0.0005)"
   ]
  },
  {
   "cell_type": "code",
   "execution_count": 95,
   "metadata": {},
   "outputs": [
    {
     "data": {
      "text/plain": [
       "array([-1.,  1.,  1., -1.,  1.,  1.,  1.,  1.,  1.,  1.,  1.,  1.,  1.,\n",
       "       -1.,  1., -1.,  1., -1., -1., -1., -1., -1.,  1.,  1., -1.,  1.,\n",
       "        1.,  1.,  1., -1.,  1., -1.,  1., -1.,  1., -1.,  1., -1.,  1.,\n",
       "       -1., -1.,  1., -1.,  1.,  1., -1.,  1.,  1.,  1., -1., -1.,  1.,\n",
       "       -1.,  1.,  1.,  1.,  1.,  1.,  1., -1., -1., -1.,  1.,  1., -1.,\n",
       "        1., -1., -1., -1.,  1., -1., -1.,  1.,  1., -1.,  1.,  1.,  1.,\n",
       "        1.,  1., -1., -1., -1.,  1., -1.,  1.,  1.,  1., -1., -1.,  1.,\n",
       "       -1.,  1.,  1.,  1.,  1., -1.,  1.,  1.,  1.,  1.,  1.,  1.,  1.,\n",
       "       -1.,  1., -1.,  1., -1.,  1.,  1., -1., -1., -1.,  1.,  1., -1.,\n",
       "        1.,  1.,  1.,  1.,  1.,  1.,  1., -1.,  1., -1.,  1.,  1.,  1.,\n",
       "       -1.,  1.,  1.,  1.,  1.,  1.,  1., -1., -1.,  1.,  1.,  1., -1.])"
      ]
     },
     "execution_count": 95,
     "metadata": {},
     "output_type": "execute_result"
    }
   ],
   "source": [
    "pred_svm(theta_svm_bc, X_test)"
   ]
  },
  {
   "cell_type": "code",
   "execution_count": 96,
   "metadata": {},
   "outputs": [
    {
     "data": {
      "text/plain": [
       "0.916083916083916"
      ]
     },
     "execution_count": 96,
     "metadata": {},
     "output_type": "execute_result"
    }
   ],
   "source": [
    "# better than logistic regression\n",
    "accuracy_score(y_test, pred_svm(theta_svm_bc, X_test)) "
   ]
  },
  {
   "cell_type": "code",
   "execution_count": 97,
   "metadata": {},
   "outputs": [],
   "source": [
    "from sklearn.svm import SVC\n",
    "\n",
    "svc = SVC(kernel='linear')"
   ]
  },
  {
   "cell_type": "code",
   "execution_count": 98,
   "metadata": {},
   "outputs": [
    {
     "data": {
      "text/plain": [
       "SVC(C=1.0, cache_size=200, class_weight=None, coef0=0.0,\n",
       "  decision_function_shape='ovr', degree=3, gamma='auto_deprecated',\n",
       "  kernel='linear', max_iter=-1, probability=False, random_state=None,\n",
       "  shrinking=True, tol=0.001, verbose=False)"
      ]
     },
     "execution_count": 98,
     "metadata": {},
     "output_type": "execute_result"
    }
   ],
   "source": [
    "svc.fit(X_train, y_train)"
   ]
  },
  {
   "cell_type": "code",
   "execution_count": 99,
   "metadata": {},
   "outputs": [
    {
     "data": {
      "text/plain": [
       "array([-1,  1,  1,  1,  1,  1,  1,  1,  1,  1, -1,  1,  1, -1,  1, -1,  1,\n",
       "       -1, -1, -1, -1, -1,  1,  1, -1,  1,  1, -1,  1, -1,  1, -1,  1, -1,\n",
       "        1, -1,  1, -1,  1, -1, -1,  1, -1,  1, -1, -1,  1,  1,  1, -1, -1,\n",
       "       -1, -1,  1,  1,  1,  1,  1,  1, -1, -1, -1,  1,  1, -1,  1, -1, -1,\n",
       "       -1,  1, -1, -1,  1,  1, -1,  1,  1,  1,  1,  1, -1, -1, -1,  1, -1,\n",
       "        1,  1,  1, -1, -1,  1, -1, -1, -1,  1,  1, -1,  1,  1,  1,  1,  1,\n",
       "        1,  1, -1,  1, -1,  1, -1, -1,  1, -1, -1,  1,  1,  1,  1,  1,  1,\n",
       "        1,  1,  1, -1,  1, -1,  1,  1,  1,  1,  1, -1,  1,  1,  1,  1,  1,\n",
       "        1, -1, -1,  1,  1,  1, -1])"
      ]
     },
     "execution_count": 99,
     "metadata": {},
     "output_type": "execute_result"
    }
   ],
   "source": [
    "svc.predict(X_test)"
   ]
  },
  {
   "cell_type": "code",
   "execution_count": 100,
   "metadata": {},
   "outputs": [
    {
     "data": {
      "text/plain": [
       "0.958041958041958"
      ]
     },
     "execution_count": 100,
     "metadata": {},
     "output_type": "execute_result"
    }
   ],
   "source": [
    "accuracy_score(y_test, svc.predict(X_test)) "
   ]
  },
  {
   "cell_type": "code",
   "execution_count": 101,
   "metadata": {},
   "outputs": [
    {
     "name": "stderr",
     "output_type": "stream",
     "text": [
      "C:\\Users\\davidt\\AppData\\Local\\Continuum\\anaconda3\\lib\\site-packages\\sklearn\\svm\\base.py:196: FutureWarning: The default value of gamma will change from 'auto' to 'scale' in version 0.22 to account better for unscaled features. Set gamma explicitly to 'auto' or 'scale' to avoid this warning.\n",
      "  \"avoid this warning.\", FutureWarning)\n"
     ]
    },
    {
     "data": {
      "text/plain": [
       "SVC(C=1.0, cache_size=200, class_weight=None, coef0=0.0,\n",
       "  decision_function_shape='ovr', degree=3, gamma='auto_deprecated',\n",
       "  kernel='rbf', max_iter=-1, probability=False, random_state=None,\n",
       "  shrinking=True, tol=0.001, verbose=False)"
      ]
     },
     "execution_count": 101,
     "metadata": {},
     "output_type": "execute_result"
    }
   ],
   "source": [
    "# test polynomial kernel\n",
    "\n",
    "svc = SVC(kernel='rbf')\n",
    "svc.fit(X_train, y_train)"
   ]
  },
  {
   "cell_type": "code",
   "execution_count": 102,
   "metadata": {},
   "outputs": [
    {
     "data": {
      "text/plain": [
       "array([1, 1, 1, 1, 1, 1, 1, 1, 1, 1, 1, 1, 1, 1, 1, 1, 1, 1, 1, 1, 1, 1,\n",
       "       1, 1, 1, 1, 1, 1, 1, 1, 1, 1, 1, 1, 1, 1, 1, 1, 1, 1, 1, 1, 1, 1,\n",
       "       1, 1, 1, 1, 1, 1, 1, 1, 1, 1, 1, 1, 1, 1, 1, 1, 1, 1, 1, 1, 1, 1,\n",
       "       1, 1, 1, 1, 1, 1, 1, 1, 1, 1, 1, 1, 1, 1, 1, 1, 1, 1, 1, 1, 1, 1,\n",
       "       1, 1, 1, 1, 1, 1, 1, 1, 1, 1, 1, 1, 1, 1, 1, 1, 1, 1, 1, 1, 1, 1,\n",
       "       1, 1, 1, 1, 1, 1, 1, 1, 1, 1, 1, 1, 1, 1, 1, 1, 1, 1, 1, 1, 1, 1,\n",
       "       1, 1, 1, 1, 1, 1, 1, 1, 1, 1, 1])"
      ]
     },
     "execution_count": 102,
     "metadata": {},
     "output_type": "execute_result"
    }
   ],
   "source": [
    "svc.predict(X_test)"
   ]
  },
  {
   "cell_type": "code",
   "execution_count": 103,
   "metadata": {},
   "outputs": [
    {
     "data": {
      "text/plain": [
       "0.6293706293706294"
      ]
     },
     "execution_count": 103,
     "metadata": {},
     "output_type": "execute_result"
    }
   ],
   "source": [
    "accuracy_score(y_test, svc.predict(X_test)) "
   ]
  },
  {
   "cell_type": "code",
   "execution_count": null,
   "metadata": {},
   "outputs": [],
   "source": []
  },
  {
   "cell_type": "code",
   "execution_count": null,
   "metadata": {},
   "outputs": [],
   "source": []
  }
 ],
 "metadata": {
  "kernelspec": {
   "display_name": "Python 3",
   "language": "python",
   "name": "python3"
  },
  "language_info": {
   "codemirror_mode": {
    "name": "ipython",
    "version": 3
   },
   "file_extension": ".py",
   "mimetype": "text/x-python",
   "name": "python",
   "nbconvert_exporter": "python",
   "pygments_lexer": "ipython3",
   "version": "3.7.3"
  }
 },
 "nbformat": 4,
 "nbformat_minor": 2
}
