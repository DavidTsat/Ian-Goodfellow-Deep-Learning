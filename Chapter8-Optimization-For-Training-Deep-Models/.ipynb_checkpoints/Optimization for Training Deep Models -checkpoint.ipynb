{
 "cells": [
  {
   "cell_type": "markdown",
   "metadata": {},
   "source": [
    "https://habr.com/ru/post/318970/                                                                                            \n",
    "https://ruder.io/optimizing-gradient-descent/"
   ]
  },
  {
   "cell_type": "code",
   "execution_count": 1,
   "metadata": {},
   "outputs": [],
   "source": [
    "import numpy as np\n",
    "import matplotlib.pyplot as plt\n",
    "import operator"
   ]
  },
  {
   "cell_type": "code",
   "execution_count": 2,
   "metadata": {},
   "outputs": [],
   "source": [
    "# using code from chapter 5\n",
    "from sklearn.preprocessing import PolynomialFeatures\n",
    "def polynomial_x(xx, p, sk_or_mine='sklearn'):\n",
    "    if sk_or_mine == 'sklearn':\n",
    "        p = PolynomialFeatures(degree=p)\n",
    "        return p.fit_transform(xx)\n",
    "    else: \n",
    "        x_powers = [xx**(p+1) for p in range(p)]\n",
    "        x_concated = np.hstack((np.array(x_powers)))\n",
    "    #     print(x_concated.shape, xx.shape, p)\n",
    "        return x_concated.reshape(xx.shape[0], xx.shape[1]*p)\n",
    "    \n",
    "def cent_normalize(*args):\n",
    "    for xx in args:\n",
    "        yield xx - xx.mean(0)\n",
    "        \n",
    "def generate_data_of_degree(p=1, m=100, n=1, sk_or_mine='sklearn'):\n",
    "    '''\n",
    "    m - number of examples\n",
    "    p - max power of polynomial\n",
    "    n - features of x\n",
    "    '''\n",
    "    x = 3*np.random.normal(0,1,(m,n))\n",
    "    x /= x.max()\n",
    "    x_polyn = polynomial_x(x, p, 'sklearn')\n",
    "    W = np.random.uniform(2, 3, (x_polyn.shape[1], 1))\n",
    "    b = np.random.uniform(2, 3, (m, 1))\n",
    "    \n",
    "    y = b - x_polyn@W\n",
    "    return y/y.max(), x"
   ]
  },
  {
   "cell_type": "code",
   "execution_count": 3,
   "metadata": {},
   "outputs": [],
   "source": [
    "y_1, x_1 = cent_normalize(*generate_data_of_degree(p=1, m=30, n=1))"
   ]
  },
  {
   "cell_type": "code",
   "execution_count": 4,
   "metadata": {},
   "outputs": [
    {
     "data": {
      "text/plain": [
       "((30, 1), (30, 1))"
      ]
     },
     "execution_count": 4,
     "metadata": {},
     "output_type": "execute_result"
    }
   ],
   "source": [
    "y_1.shape, x_1.shape"
   ]
  },
  {
   "cell_type": "code",
   "execution_count": 5,
   "metadata": {},
   "outputs": [
    {
     "data": {
      "text/plain": [
       "<matplotlib.collections.PathCollection at 0x18b76860d68>"
      ]
     },
     "execution_count": 5,
     "metadata": {},
     "output_type": "execute_result"
    },
    {
     "data": {
      "image/png": "[encoded data removed]",
      "text/plain": [
       "<Figure size 432x288 with 1 Axes>"
      ]
     },
     "metadata": {
      "needs_background": "light"
     },
     "output_type": "display_data"
    }
   ],
   "source": [
    "plt.scatter(x_1, y_1)"
   ]
  },
  {
   "cell_type": "code",
   "execution_count": 6,
   "metadata": {},
   "outputs": [],
   "source": [
    "def OLS(X, y):\n",
    "    '''\n",
    "    pseudoinverse with SVD\n",
    "    '''\n",
    "    U,E,V_T = np.linalg.svd(X)\n",
    "    sigmas_plus = np.zeros((X.shape[0], X.shape[1])).T\n",
    "    sigmas_plus[:E.shape[0], :E.shape[0]] = np.linalg.inv(np.diag(E))\n",
    "    return V_T.T@sigmas_plus@U.T@y"
   ]
  },
  {
   "cell_type": "code",
   "execution_count": 7,
   "metadata": {},
   "outputs": [],
   "source": [
    "def regularized_OLS(X, y, lamda=0.1):\n",
    "    return np.linalg.inv(X.T@X + lamda*np.eye(X.shape[1], X.shape[1]))@X.T@y"
   ]
  },
  {
   "cell_type": "code",
   "execution_count": 8,
   "metadata": {},
   "outputs": [],
   "source": [
    "def plot_data_with_prediction(xx, yy, pred, title=''):\n",
    "    plt.figure()\n",
    "    plt.scatter(xx, yy, s=None, marker='.', color='g', alpha=0.9)\n",
    "    sort_axis = operator.itemgetter(0)\n",
    "    sorted_zip = sorted(zip(xx, pred), key=sort_axis)\n",
    "    x, y_poly_pred = zip(*sorted_zip)\n",
    "    plt.plot(x, y_poly_pred, color='m')\n",
    "    plt.title(title)\n",
    "    plt.show()"
   ]
  },
  {
   "cell_type": "code",
   "execution_count": 9,
   "metadata": {},
   "outputs": [],
   "source": [
    "w_1 = OLS(x_1, y_1)"
   ]
  },
  {
   "cell_type": "code",
   "execution_count": 10,
   "metadata": {},
   "outputs": [
    {
     "data": {
      "image/png": "[encoded data removed]",
      "text/plain": [
       "<Figure size 432x288 with 1 Axes>"
      ]
     },
     "metadata": {
      "needs_background": "light"
     },
     "output_type": "display_data"
    }
   ],
   "source": [
    "plot_data_with_prediction(x_1, y_1, x_1@w_1, 'Predicted 1-degree data with 1-degree model (linear): TRAIN')"
   ]
  },
  {
   "cell_type": "code",
   "execution_count": 14,
   "metadata": {},
   "outputs": [],
   "source": [
    "# SGD\n",
    "\n",
    "def simple_SGD_step(theta, eps, grad):\n",
    "    g = -eps*grad\n",
    "    theta_ = theta + g\n",
    "    return theta_\n",
    "\n",
    "def nesterov_step(v_t, gamma, theta, eps, grad):\n",
    "    v_t_ = gamma*v_t + eps*(1-gamma)*grad\n",
    "    theta_ = theta - v_t_\n",
    "    return theta_, v_t_"
   ]
  },
  {
   "cell_type": "code",
   "execution_count": 65,
   "metadata": {},
   "outputs": [],
   "source": [
    "def train_lin_reg(train_x, train_y, optim='sgd', epochs=20):\n",
    "    loss = []\n",
    "    w = np.zeros((train_x.shape[1], 1))\n",
    "    if optim == 'sgd':\n",
    "        for i in range(epochs):\n",
    "            grad = train_x.T@train_x@w-train_x.T@train_y \n",
    "            loss_ = np.linalg.norm(train_x@w-train_y, )\n",
    "#             print(i, loss_, w.mean())\n",
    "            loss.append(loss_)\n",
    "            w = simple_SGD_step(w, 0.1, grad)\n",
    "            \n",
    "    if optim == 'nesterov':\n",
    "        v_t = 0\n",
    "        for i in range(epochs):\n",
    "            grad = train_x.T@train_x@w-train_x.T@train_y\n",
    "            loss_ = np.linalg.norm(train_x@w-train_y, )\n",
    "#             print(i, loss_, w.mean())\n",
    "            loss.append(loss_)\n",
    "            w, v_t = nesterov_step(v_t, 0.5, w, 0.1, grad)\n",
    "            \n",
    "    return loss"
   ]
  },
  {
   "cell_type": "code",
   "execution_count": 66,
   "metadata": {},
   "outputs": [],
   "source": [
    "J_sgd_reg = train_lin_reg(x_1, y_1)"
   ]
  },
  {
   "cell_type": "code",
   "execution_count": 67,
   "metadata": {},
   "outputs": [],
   "source": [
    "J_nes_reg = train_lin_reg(x_1, y_1, optim='nesterov')"
   ]
  },
  {
   "cell_type": "code",
   "execution_count": 68,
   "metadata": {},
   "outputs": [],
   "source": [
    "y_1_test, x_1_test = cent_normalize(*generate_data_of_degree(p=1, m=30, n=10))"
   ]
  },
  {
   "cell_type": "code",
   "execution_count": 69,
   "metadata": {},
   "outputs": [],
   "source": [
    "J_sgd_reg = train_lin_reg(x_1_test, y_1_test)"
   ]
  },
  {
   "cell_type": "code",
   "execution_count": 70,
   "metadata": {},
   "outputs": [],
   "source": [
    "J_nes_reg = train_lin_reg(x_1_test, y_1_test, optim='nesterov')"
   ]
  },
  {
   "cell_type": "code",
   "execution_count": 72,
   "metadata": {},
   "outputs": [
    {
     "data": {
      "image/png": "[encoded data removed]",
      "text/plain": [
       "<Figure size 432x288 with 1 Axes>"
      ]
     },
     "metadata": {
      "needs_background": "light"
     },
     "output_type": "display_data"
    }
   ],
   "source": [
    "plt.title('Comparing different opt. algorithms on linear regression task')\n",
    "plt.plot(range(len(J_sgd_reg)), J_sgd_reg, c='b', label='SGD')\n",
    "plt.legend(loc='upper right')\n",
    "plt.plot(range(len(J_nes_reg)), J_nes_reg, c='r',  label='Nesterov')\n",
    "plt.legend(loc='upper right')\n",
    "plt.xlabel('epochs')\n",
    "plt.ylabel('loss')\n",
    "plt.show()"
   ]
  },
  {
   "cell_type": "code",
   "execution_count": 73,
   "metadata": {},
   "outputs": [],
   "source": [
    "# test on binary logistic regression"
   ]
  },
  {
   "cell_type": "code",
   "execution_count": 74,
   "metadata": {},
   "outputs": [],
   "source": [
    "x_0, y_0 = np.random.randn(100,2), np.zeros((100,1))\n",
    "x_1, y_1 = np.random.randn(100,2) + 2, np.ones((100,1))"
   ]
  },
  {
   "cell_type": "code",
   "execution_count": 75,
   "metadata": {},
   "outputs": [
    {
     "data": {
      "image/png": "[encoded data removed]",
      "text/plain": [
       "<Figure size 432x288 with 1 Axes>"
      ]
     },
     "metadata": {
      "needs_background": "light"
     },
     "output_type": "display_data"
    }
   ],
   "source": [
    "plt.scatter(x_0[:,0], x_0[:,1], c='b', marker='.')\n",
    "plt.scatter(x_1[:,0], x_1[:,1], c='r', marker='.')\n",
    "plt.show()"
   ]
  },
  {
   "cell_type": "code",
   "execution_count": 76,
   "metadata": {},
   "outputs": [],
   "source": [
    "def unison_shuffled_copies(a, b):\n",
    "    assert len(a) == len(b)\n",
    "    p = np.random.permutation(len(a))\n",
    "    return a[p], b[p]"
   ]
  },
  {
   "cell_type": "code",
   "execution_count": 77,
   "metadata": {},
   "outputs": [],
   "source": [
    "# p~(y|x) = 1/(1+e^wx)\n",
    "# J(w) = -1/m*[y.T@log(p~(y|x)) + (1-y).T@log(1-p~(y|x))]\n",
    "# grad_w J(w) = 1/m*x(p~(y|x)-y)"
   ]
  },
  {
   "cell_type": "code",
   "execution_count": 78,
   "metadata": {},
   "outputs": [],
   "source": [
    "def sigm(z):\n",
    "    return 1/(1+np.e**(-z))"
   ]
  },
  {
   "cell_type": "code",
   "execution_count": 80,
   "metadata": {},
   "outputs": [],
   "source": [
    "def train_log_reg(train_x, train_y, optim='sgd', epochs=20):\n",
    "    x = np.hstack([train_x,np.ones((train_x.shape[0], 1))])\n",
    "    w = np.zeros((x.shape[1], 1))\n",
    "    m = x.shape[0]\n",
    "    loss = []\n",
    "    if optim == 'sgd':\n",
    "        for i in range(epochs):\n",
    "            pred = sigm(x@w)\n",
    "            J = -1/m*(train_y.T@np.log(pred)+(1-train_y).T@(1-np.log(pred)))\n",
    "#             print('Accuraccy:', ((pred>0.5) == train_y).sum()/pred.shape[0])\n",
    "#             print('Loss:', J[0][0])\n",
    "#             print('---'*20)\n",
    "            loss.append(J[0][0])\n",
    "            grad = 1/m*x.T@(pred -train_y)\n",
    "            w = simple_SGD_step(w, 0.1, grad)\n",
    "    if optim == 'nesterov':\n",
    "        v_t = 0\n",
    "        for i in range(epochs):\n",
    "            pred = sigm(x@w)\n",
    "            J = -1/m*(train_y.T@np.log(pred)+(1-train_y).T@(1-np.log(pred)))\n",
    "#             print('Accuraccy:', ((pred>0.5) == train_y).sum()/pred.shape[0])\n",
    "#             print('Loss:', J[0][0])\n",
    "#             print('---'*20)\n",
    "            loss.append(J[0][0])\n",
    "            grad = 1/m*x.T@(pred -train_y)\n",
    "            w, v_t = nesterov_step(v_t, 0.5, w, 0.1, grad)\n",
    "    return loss"
   ]
  },
  {
   "cell_type": "code",
   "execution_count": 81,
   "metadata": {},
   "outputs": [],
   "source": [
    "x = np.vstack([x_0, x_1])\n",
    "y = np.vstack([y_0, y_1])\n",
    "\n",
    "x, y = unison_shuffled_copies(x, y)"
   ]
  },
  {
   "cell_type": "code",
   "execution_count": 82,
   "metadata": {},
   "outputs": [],
   "source": [
    "J_sgd = train_log_reg(x, y)"
   ]
  },
  {
   "cell_type": "code",
   "execution_count": 83,
   "metadata": {},
   "outputs": [],
   "source": [
    "J_nes = train_log_reg(x, y, optim='nesterov')"
   ]
  },
  {
   "cell_type": "code",
   "execution_count": 84,
   "metadata": {},
   "outputs": [
    {
     "data": {
      "image/png": "[encoded data removed]",
      "text/plain": [
       "<Figure size 432x288 with 1 Axes>"
      ]
     },
     "metadata": {
      "needs_background": "light"
     },
     "output_type": "display_data"
    }
   ],
   "source": [
    "plt.title('Comparing different opt. algorithms on logistic regression task')\n",
    "plt.plot(range(len(J_sgd)), J_sgd, c='b', label='SGD')\n",
    "plt.legend(loc='upper right')\n",
    "plt.plot(range(len(J_nes)), J_nes, c='r',  label='Nesterov')\n",
    "plt.legend(loc='upper right')\n",
    "plt.xlabel('epochs')\n",
    "plt.ylabel('loss')\n",
    "plt.show()"
   ]
  },
  {
   "cell_type": "code",
   "execution_count": null,
   "metadata": {},
   "outputs": [],
   "source": []
  },
  {
   "cell_type": "code",
   "execution_count": null,
   "metadata": {},
   "outputs": [],
   "source": []
  }
 ],
 "metadata": {
  "kernelspec": {
   "display_name": "Python 3",
   "language": "python",
   "name": "python3"
  },
  "language_info": {
   "codemirror_mode": {
    "name": "ipython",
    "version": 3
   },
   "file_extension": ".py",
   "mimetype": "text/x-python",
   "name": "python",
   "nbconvert_exporter": "python",
   "pygments_lexer": "ipython3",
   "version": "3.7.3"
  }
 },
 "nbformat": 4,
 "nbformat_minor": 2
}
