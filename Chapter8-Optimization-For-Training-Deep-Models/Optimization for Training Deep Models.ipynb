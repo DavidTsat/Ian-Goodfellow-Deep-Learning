{
 "cells": [
  {
   "cell_type": "markdown",
   "metadata": {},
   "source": [
    "https://habr.com/ru/post/318970/                                                                                            \n",
    "https://ruder.io/optimizing-gradient-descent/"
   ]
  },
  {
   "cell_type": "code",
   "execution_count": 1,
   "metadata": {},
   "outputs": [],
   "source": [
    "import numpy as np\n",
    "import matplotlib.pyplot as plt\n",
    "import operator"
   ]
  },
  {
   "cell_type": "code",
   "execution_count": 2,
   "metadata": {},
   "outputs": [],
   "source": [
    "# using code from chapter 5\n",
    "from sklearn.preprocessing import PolynomialFeatures\n",
    "def polynomial_x(xx, p, sk_or_mine='sklearn'):\n",
    "    if sk_or_mine == 'sklearn':\n",
    "        p = PolynomialFeatures(degree=p)\n",
    "        return p.fit_transform(xx)\n",
    "    else: \n",
    "        x_powers = [xx**(p+1) for p in range(p)]\n",
    "        x_concated = np.hstack((np.array(x_powers)))\n",
    "        return x_concated.reshape(xx.shape[0], xx.shape[1]*p)\n",
    "    \n",
    "def cent_normalize(*args):\n",
    "    for xx in args:\n",
    "        yield xx - xx.mean(0)\n",
    "        \n",
    "def generate_data_of_degree(p=1, m=100, n=1, sk_or_mine='sklearn'):\n",
    "    '''\n",
    "    m - number of examples\n",
    "    p - max power of polynomial\n",
    "    n - features of x\n",
    "    '''\n",
    "    x = 3*np.random.normal(0,1,(m,n))\n",
    "    x /= x.max()\n",
    "    x_polyn = polynomial_x(x, p, 'sklearn')\n",
    "    W = np.random.uniform(2, 3, (x_polyn.shape[1], 1))\n",
    "    b = np.random.uniform(2, 3, (m, 1))\n",
    "    \n",
    "    y = b - x_polyn@W\n",
    "    return y/y.max(), x"
   ]
  },
  {
   "cell_type": "code",
   "execution_count": 3,
   "metadata": {},
   "outputs": [],
   "source": [
    "# SGD\n",
    "\n",
    "def simple_SGD_step(theta, eps, grad):\n",
    "    g = -eps*grad\n",
    "    theta_ = theta + g\n",
    "    return theta_\n",
    "\n",
    "def nesterov_step(v_t, gamma, theta, lr, grad):\n",
    "    v_t_ = gamma*v_t + lr*grad\n",
    "    theta_ = theta - v_t_\n",
    "    return theta_, v_t_\n",
    "\n",
    "def adagrad_step(G_t, gamma, theta, eps, grad):\n",
    "    G_t_ = G_t + grad**2\n",
    "    theta_ = theta - ((1-gamma)/np.sqrt(eps + G_t_))*grad\n",
    "    return theta_, G_t_\n",
    "\n",
    "def rmsprop_step(G_t, gamma, theta, eps, grad):\n",
    "    G_t_ = gamma*G_t + (1-gamma)*(grad**2)\n",
    "    RMS_G_t_ = np.sqrt(G_t_+eps)\n",
    "    theta_ = theta - ((1-gamma)/RMS_G_t_)*grad\n",
    "    return theta_, G_t_\n",
    "\n",
    "def adadelta_step(G_t, G_delta_t, gamma, theta, eps, grad):\n",
    "    G_t_ = gamma*G_t + (1-gamma)*(grad**2)\n",
    "    RMS_G_t_ = np.sqrt(G_t_+eps)\n",
    "    RMS_delta_t_ = np.sqrt(G_delta_t+eps)\n",
    "    delta_theta = (-1*(RMS_delta_t_/RMS_G_t_))*grad\n",
    "    theta_ = theta + delta_theta\n",
    "    G_delta_t_ = gamma*G_delta_t + (1-gamma)*(delta_theta**2)\n",
    "    \n",
    "    return theta_, G_t_, G_delta_t_"
   ]
  },
  {
   "cell_type": "markdown",
   "metadata": {},
   "source": [
    "test on linear regression"
   ]
  },
  {
   "cell_type": "code",
   "execution_count": 4,
   "metadata": {},
   "outputs": [],
   "source": [
    "def train_lin_reg(train_x, train_y, optim='sgd', epochs=20):\n",
    "    loss = []\n",
    "    w = np.zeros((train_x.shape[1], 1))\n",
    "    if optim == 'sgd':\n",
    "        for i in range(epochs):\n",
    "            grad = train_x.T@train_x@w-train_x.T@train_y \n",
    "            loss_ = np.linalg.norm(train_x@w-train_y, )\n",
    "            loss.append(loss_)\n",
    "            w = simple_SGD_step(w, 0.01, grad)\n",
    "            \n",
    "    if optim == 'nesterov':\n",
    "        v_t = 0\n",
    "        for i in range(epochs):\n",
    "            grad = train_x.T@train_x@w-train_x.T@train_y\n",
    "            loss_ = np.linalg.norm(train_x@w-train_y, )\n",
    "            loss.append(loss_)\n",
    "            w, v_t = nesterov_step(v_t, 0.5, w, 0.01, grad)\n",
    "    if optim == 'adagrad':\n",
    "        G_t = 0\n",
    "        for i in range(epochs):\n",
    "            grad = train_x.T@train_x@w-train_x.T@train_y\n",
    "            loss_ = np.linalg.norm(train_x@w-train_y, )\n",
    "            loss.append(loss_)\n",
    "            w, G_t_ = adagrad_step(G_t, 0.5, w, 1e-7, grad)\n",
    "            G_t += G_t_\n",
    "    if optim == 'rmsprop':\n",
    "        G_t = 0\n",
    "        for i in range(epochs):\n",
    "            grad = train_x.T@train_x@w-train_x.T@train_y\n",
    "            loss_ = np.linalg.norm(train_x@w-train_y, )\n",
    "            loss.append(loss_)\n",
    "            w, G_t = rmsprop_step(G_t, 0.8, w, 1e-7, grad)\n",
    "        \n",
    "    if optim == 'adadelta':\n",
    "        G_t = 0 \n",
    "        G_delta_t = 0\n",
    "        for i in range(epochs):\n",
    "            grad = train_x.T@train_x@w-train_x.T@train_y\n",
    "            loss_ = np.linalg.norm(train_x@w-train_y, )\n",
    "            loss.append(loss_)\n",
    "            w, G_t, G_delta_t = adadelta_step(G_t, G_delta_t, 0.5, w, 1e-7, grad)\n",
    "    return loss"
   ]
  },
  {
   "cell_type": "code",
   "execution_count": 5,
   "metadata": {},
   "outputs": [],
   "source": [
    "y_1_test, x_1_test = cent_normalize(*generate_data_of_degree(p=1, m=20, n=10))"
   ]
  },
  {
   "cell_type": "code",
   "execution_count": 6,
   "metadata": {},
   "outputs": [],
   "source": [
    "J_sgd_reg = train_lin_reg(x_1_test, y_1_test)"
   ]
  },
  {
   "cell_type": "code",
   "execution_count": 7,
   "metadata": {},
   "outputs": [],
   "source": [
    "J_nes_reg = train_lin_reg(x_1_test, y_1_test, optim='nesterov')"
   ]
  },
  {
   "cell_type": "code",
   "execution_count": 8,
   "metadata": {},
   "outputs": [],
   "source": [
    "J_ada_reg = train_lin_reg(x_1_test, y_1_test, optim='adagrad')"
   ]
  },
  {
   "cell_type": "code",
   "execution_count": 9,
   "metadata": {},
   "outputs": [],
   "source": [
    "J_rms_reg = train_lin_reg(x_1_test, y_1_test, optim='rmsprop')"
   ]
  },
  {
   "cell_type": "code",
   "execution_count": 10,
   "metadata": {},
   "outputs": [],
   "source": [
    "J_add_reg = train_lin_reg(x_1_test, y_1_test, optim='adadelta')"
   ]
  },
  {
   "cell_type": "code",
   "execution_count": 11,
   "metadata": {},
   "outputs": [
    {
     "data": {
      "image/png": "[encoded data removed]",
      "text/plain": [
       "<Figure size 432x288 with 1 Axes>"
      ]
     },
     "metadata": {
      "needs_background": "light"
     },
     "output_type": "display_data"
    }
   ],
   "source": [
    "plt.title('Comparing different opt. algorithms on linear regression task')\n",
    "plt.plot(range(len(J_sgd_reg)), J_sgd_reg, c='b', label='SGD')\n",
    "plt.legend(loc='upper right')\n",
    "plt.plot(range(len(J_nes_reg)), J_nes_reg, c='r',  label='Nesterov')\n",
    "plt.legend(loc='upper right')\n",
    "plt.plot(range(len(J_ada_reg)), J_ada_reg, c='g',  label='Adagrad')\n",
    "plt.legend(loc='upper right')\n",
    "plt.plot(range(len(J_rms_reg)), J_rms_reg, c='c',  label='RMSProp')\n",
    "plt.legend(loc='upper right')\n",
    "plt.plot(range(len(J_add_reg)), J_add_reg, c='y',  label='Adadelta')\n",
    "plt.legend(loc='upper right')\n",
    "plt.xlabel('epochs')\n",
    "plt.ylabel('loss')\n",
    "plt.show()"
   ]
  },
  {
   "cell_type": "markdown",
   "metadata": {},
   "source": [
    "test on binary logistic regression"
   ]
  },
  {
   "cell_type": "code",
   "execution_count": 12,
   "metadata": {},
   "outputs": [],
   "source": [
    "x_0, y_0 = np.random.randn(100,2), np.zeros((100,1))\n",
    "x_1, y_1 = np.random.randn(100,2) + 2, np.ones((100,1))"
   ]
  },
  {
   "cell_type": "code",
   "execution_count": 13,
   "metadata": {},
   "outputs": [
    {
     "data": {
      "image/png": "[encoded data removed]",
      "text/plain": [
       "<Figure size 432x288 with 1 Axes>"
      ]
     },
     "metadata": {
      "needs_background": "light"
     },
     "output_type": "display_data"
    }
   ],
   "source": [
    "plt.scatter(x_0[:,0], x_0[:,1], c='b', marker='.')\n",
    "plt.scatter(x_1[:,0], x_1[:,1], c='r', marker='.')\n",
    "plt.show()"
   ]
  },
  {
   "cell_type": "code",
   "execution_count": 14,
   "metadata": {},
   "outputs": [],
   "source": [
    "def unison_shuffled_copies(a, b):\n",
    "    assert len(a) == len(b)\n",
    "    p = np.random.permutation(len(a))\n",
    "    return a[p], b[p]"
   ]
  },
  {
   "cell_type": "code",
   "execution_count": 15,
   "metadata": {},
   "outputs": [],
   "source": [
    "# p~(y|x) = 1/(1+e^wx)\n",
    "# J(w) = -1/m*[y.T@log(p~(y|x)) + (1-y).T@log(1-p~(y|x))]\n",
    "# grad_w J(w) = 1/m*x(p~(y|x)-y)"
   ]
  },
  {
   "cell_type": "code",
   "execution_count": 16,
   "metadata": {},
   "outputs": [],
   "source": [
    "def sigm(z):\n",
    "    return 1/(1+np.e**(-z))"
   ]
  },
  {
   "cell_type": "code",
   "execution_count": 17,
   "metadata": {},
   "outputs": [],
   "source": [
    "def train_log_reg(train_x, train_y, optim='sgd', epochs=20):\n",
    "    x = np.hstack([train_x,np.ones((train_x.shape[0], 1))])\n",
    "    w = np.zeros((x.shape[1], 1))\n",
    "    m = x.shape[0]\n",
    "    loss = []\n",
    "    if optim == 'sgd':\n",
    "        for i in range(epochs):\n",
    "            pred = sigm(x@w)\n",
    "            J = -1/m*(train_y.T@np.log(pred)+(1-train_y).T@(1-np.log(pred)))\n",
    "            print('Accuraccy:', ((pred>0.5) == train_y).sum()/pred.shape[0])\n",
    "            loss.append(J[0][0])\n",
    "            grad = 1/m*x.T@(pred -train_y)\n",
    "            w = simple_SGD_step(w, 0.1, grad)\n",
    "    if optim == 'nesterov':\n",
    "        v_t = 0\n",
    "        for i in range(epochs):\n",
    "            pred = sigm(x@w)\n",
    "            J = -1/m*(train_y.T@np.log(pred)+(1-train_y).T@(1-np.log(pred)))\n",
    "            print('Accuraccy:', ((pred>0.5) == train_y).sum()/pred.shape[0])\n",
    "            loss.append(J[0][0])\n",
    "            grad = 1/m*x.T@(pred -train_y)\n",
    "            w, v_t = nesterov_step(v_t, 0.9, w, 0.1, grad)\n",
    "    if optim == 'adagrad':\n",
    "        G_t = 0\n",
    "        for i in range(epochs):\n",
    "            pred = sigm(x@w)\n",
    "            J = -1/m*(train_y.T@np.log(pred)+(1-train_y).T@(1-np.log(pred)))\n",
    "            print('Accuraccy:', ((pred>0.5) == train_y).sum()/pred.shape[0])\n",
    "            loss.append(J[0][0])\n",
    "            grad = 1/m*x.T@(pred -train_y)\n",
    "            w, G_t_ = adagrad_step(G_t, 0.9, w, 1e-7, grad)\n",
    "            G_t += G_t_\n",
    "    if optim == 'rmsprop':\n",
    "        G_t = 0\n",
    "        for i in range(epochs):\n",
    "            pred = sigm(x@w)\n",
    "            J = -1/m*(train_y.T@np.log(pred)+(1-train_y).T@(1-np.log(pred)))\n",
    "            print('Accuraccy:', ((pred>0.5) == train_y).sum()/pred.shape[0])\n",
    "            loss.append(J[0][0])\n",
    "            grad = 1/m*x.T@(pred -train_y)\n",
    "            w, G_t = rmsprop_step(G_t, 0.9, w, 1e-7, grad)\n",
    "    if optim == 'adadelta':\n",
    "        G_t = 0 \n",
    "        G_delta_t = 0\n",
    "        for i in range(epochs):\n",
    "            pred = sigm(x@w)\n",
    "            J = -1/m*(train_y.T@np.log(pred)+(1-train_y).T@(1-np.log(pred)))\n",
    "            print('Accuraccy:', ((pred>0.5) == train_y).sum()/pred.shape[0])\n",
    "            loss.append(J[0][0])\n",
    "            grad = 1/m*x.T@(pred -train_y)\n",
    "            w, G_t, G_delta_t = adadelta_step(G_t, G_delta_t,  0.9, w, 1e-7, grad)\n",
    "            \n",
    "    return loss"
   ]
  },
  {
   "cell_type": "code",
   "execution_count": 18,
   "metadata": {},
   "outputs": [],
   "source": [
    "x = np.vstack([x_0, x_1])\n",
    "y = np.vstack([y_0, y_1])\n",
    "\n",
    "x, y = unison_shuffled_copies(x, y)"
   ]
  },
  {
   "cell_type": "code",
   "execution_count": 19,
   "metadata": {},
   "outputs": [
    {
     "name": "stdout",
     "output_type": "stream",
     "text": [
      "Accuraccy: 0.5\n",
      "Accuraccy: 0.765\n",
      "Accuraccy: 0.77\n",
      "Accuraccy: 0.775\n",
      "Accuraccy: 0.775\n",
      "Accuraccy: 0.785\n",
      "Accuraccy: 0.79\n",
      "Accuraccy: 0.795\n",
      "Accuraccy: 0.795\n",
      "Accuraccy: 0.795\n",
      "Accuraccy: 0.805\n",
      "Accuraccy: 0.81\n",
      "Accuraccy: 0.81\n",
      "Accuraccy: 0.81\n",
      "Accuraccy: 0.81\n",
      "Accuraccy: 0.81\n",
      "Accuraccy: 0.81\n",
      "Accuraccy: 0.83\n",
      "Accuraccy: 0.83\n",
      "Accuraccy: 0.83\n"
     ]
    }
   ],
   "source": [
    "J_sgd = train_log_reg(x, y)"
   ]
  },
  {
   "cell_type": "code",
   "execution_count": 20,
   "metadata": {},
   "outputs": [
    {
     "name": "stdout",
     "output_type": "stream",
     "text": [
      "Accuraccy: 0.5\n",
      "Accuraccy: 0.765\n",
      "Accuraccy: 0.765\n",
      "Accuraccy: 0.775\n",
      "Accuraccy: 0.775\n",
      "Accuraccy: 0.785\n",
      "Accuraccy: 0.795\n",
      "Accuraccy: 0.805\n",
      "Accuraccy: 0.81\n",
      "Accuraccy: 0.81\n",
      "Accuraccy: 0.83\n",
      "Accuraccy: 0.84\n",
      "Accuraccy: 0.855\n",
      "Accuraccy: 0.86\n",
      "Accuraccy: 0.86\n",
      "Accuraccy: 0.87\n",
      "Accuraccy: 0.87\n",
      "Accuraccy: 0.89\n",
      "Accuraccy: 0.89\n",
      "Accuraccy: 0.9\n"
     ]
    }
   ],
   "source": [
    "J_nes = train_log_reg(x, y, optim='nesterov')"
   ]
  },
  {
   "cell_type": "code",
   "execution_count": 21,
   "metadata": {},
   "outputs": [
    {
     "name": "stdout",
     "output_type": "stream",
     "text": [
      "Accuraccy: 0.5\n",
      "Accuraccy: 0.755\n",
      "Accuraccy: 0.865\n",
      "Accuraccy: 0.875\n",
      "Accuraccy: 0.875\n",
      "Accuraccy: 0.875\n",
      "Accuraccy: 0.885\n",
      "Accuraccy: 0.89\n",
      "Accuraccy: 0.895\n",
      "Accuraccy: 0.895\n",
      "Accuraccy: 0.895\n",
      "Accuraccy: 0.9\n",
      "Accuraccy: 0.9\n",
      "Accuraccy: 0.9\n",
      "Accuraccy: 0.9\n",
      "Accuraccy: 0.9\n",
      "Accuraccy: 0.9\n",
      "Accuraccy: 0.9\n",
      "Accuraccy: 0.9\n",
      "Accuraccy: 0.9\n"
     ]
    }
   ],
   "source": [
    "J_ada = train_log_reg(x, y, optim='adagrad')"
   ]
  },
  {
   "cell_type": "code",
   "execution_count": 22,
   "metadata": {},
   "outputs": [
    {
     "name": "stdout",
     "output_type": "stream",
     "text": [
      "Accuraccy: 0.5\n",
      "Accuraccy: 0.755\n",
      "Accuraccy: 0.87\n",
      "Accuraccy: 0.88\n",
      "Accuraccy: 0.89\n",
      "Accuraccy: 0.91\n",
      "Accuraccy: 0.91\n",
      "Accuraccy: 0.905\n",
      "Accuraccy: 0.905\n",
      "Accuraccy: 0.905\n",
      "Accuraccy: 0.91\n",
      "Accuraccy: 0.915\n",
      "Accuraccy: 0.915\n",
      "Accuraccy: 0.915\n",
      "Accuraccy: 0.92\n",
      "Accuraccy: 0.915\n",
      "Accuraccy: 0.915\n",
      "Accuraccy: 0.915\n",
      "Accuraccy: 0.91\n",
      "Accuraccy: 0.91\n"
     ]
    }
   ],
   "source": [
    "J_rms = train_log_reg(x, y, optim='rmsprop')"
   ]
  },
  {
   "cell_type": "code",
   "execution_count": 23,
   "metadata": {},
   "outputs": [
    {
     "name": "stdout",
     "output_type": "stream",
     "text": [
      "Accuraccy: 0.5\n",
      "Accuraccy: 0.755\n",
      "Accuraccy: 0.8\n",
      "Accuraccy: 0.82\n",
      "Accuraccy: 0.845\n",
      "Accuraccy: 0.855\n",
      "Accuraccy: 0.87\n",
      "Accuraccy: 0.865\n",
      "Accuraccy: 0.87\n",
      "Accuraccy: 0.875\n",
      "Accuraccy: 0.88\n",
      "Accuraccy: 0.88\n",
      "Accuraccy: 0.88\n",
      "Accuraccy: 0.875\n",
      "Accuraccy: 0.875\n",
      "Accuraccy: 0.885\n",
      "Accuraccy: 0.885\n",
      "Accuraccy: 0.895\n",
      "Accuraccy: 0.895\n",
      "Accuraccy: 0.895\n"
     ]
    }
   ],
   "source": [
    "J_add = train_log_reg(x, y, optim='adadelta')"
   ]
  },
  {
   "cell_type": "code",
   "execution_count": 24,
   "metadata": {},
   "outputs": [
    {
     "data": {
      "image/png": "[encoded data removed]",
      "text/plain": [
       "<Figure size 432x288 with 1 Axes>"
      ]
     },
     "metadata": {
      "needs_background": "light"
     },
     "output_type": "display_data"
    }
   ],
   "source": [
    "plt.title('Comparing different opt. algorithms on logistic regression task')\n",
    "plt.plot(range(len(J_sgd)), J_sgd, c='b', label='SGD')\n",
    "plt.legend(loc='upper right')\n",
    "plt.plot(range(len(J_nes)), J_nes, c='r',  label='Nesterov')\n",
    "plt.legend(loc='upper right')\n",
    "plt.plot(range(len(J_ada)), J_ada, c='g',  label='Adagrad')\n",
    "plt.legend(loc='upper right')\n",
    "plt.plot(range(len(J_rms)), J_rms, c='c',  label='RMSProp')\n",
    "plt.legend(loc='upper right')\n",
    "plt.plot(range(len(J_add)), J_rms, c='y',  label='Adadelta')\n",
    "plt.legend(loc='upper right')\n",
    "plt.xlabel('epochs')\n",
    "plt.ylabel('loss')\n",
    "plt.show()"
   ]
  }
 ],
 "metadata": {
  "kernelspec": {
   "display_name": "Python 3",
   "language": "python",
   "name": "python3"
  },
  "language_info": {
   "codemirror_mode": {
    "name": "ipython",
    "version": 3
   },
   "file_extension": ".py",
   "mimetype": "text/x-python",
   "name": "python",
   "nbconvert_exporter": "python",
   "pygments_lexer": "ipython3",
   "version": "3.7.9"
  }
 },
 "nbformat": 4,
 "nbformat_minor": 2
}
