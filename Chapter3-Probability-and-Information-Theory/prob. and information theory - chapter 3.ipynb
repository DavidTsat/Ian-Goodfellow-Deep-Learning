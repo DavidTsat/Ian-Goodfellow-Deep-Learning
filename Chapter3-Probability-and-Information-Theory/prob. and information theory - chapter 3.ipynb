{
 "cells": [
  {
   "cell_type": "markdown",
   "metadata": {},
   "source": [
    "3.8 Expectation, Variance and Covariance                                                                                \n",
    "3.9 Common Probability Distribution"
   ]
  },
  {
   "cell_type": "code",
   "execution_count": 1,
   "metadata": {},
   "outputs": [],
   "source": [
    "import numpy as np\n",
    "import sympy as sym\n",
    "from IPython.display import Latex\n",
    "from numpy import linspace\n",
    "import matplotlib.pyplot as plt"
   ]
  },
  {
   "cell_type": "code",
   "execution_count": 2,
   "metadata": {},
   "outputs": [],
   "source": [
    "def expected_value_uniform(rand_var, prob_mass_func):\n",
    "    return np.dot(rand_var.T, prob_mass_func(rand_var))"
   ]
  },
  {
   "cell_type": "code",
   "execution_count": 3,
   "metadata": {},
   "outputs": [],
   "source": [
    "def variance_uniform(rand_var, prob_mass_func):\n",
    "    return expected_value_uniform(rand_var**2, prob_mass_func) -expected_value_uniform(rand_var, prob_mass_func)**2"
   ]
  },
  {
   "cell_type": "code",
   "execution_count": 4,
   "metadata": {},
   "outputs": [],
   "source": [
    "def variance_uniform_def(rand_var, prob_mass_func):\n",
    "    return expected_value_uniform((rand_var - expected_value_uniform(rand_var, prob_mass_func))**2, prob_mass_func)"
   ]
  },
  {
   "cell_type": "code",
   "execution_count": 5,
   "metadata": {},
   "outputs": [],
   "source": [
    "def uniform_dist(x):\n",
    "    return [1/len(x)]*len(x)"
   ]
  },
  {
   "cell_type": "code",
   "execution_count": 6,
   "metadata": {},
   "outputs": [],
   "source": [
    "def covariance_uniform(rand_x, rand_y, prob_mass_func):\n",
    "    return 1/2*(variance_uniform(rand_x + rand_y, prob_mass_func) - variance_uniform(rand_x, prob_mass_func) - variance_uniform(rand_y, prob_mass_func))"
   ]
  },
  {
   "cell_type": "code",
   "execution_count": 7,
   "metadata": {},
   "outputs": [],
   "source": [
    "def covariance_uniform_def(rand_x, rand_y, prob_mass_func):\n",
    "    return expected_value_uniform((rand_x - expected_value_uniform(rand_x, prob_mass_func))*(rand_y - expected_value_uniform(rand_y, prob_mass_func)), prob_mass_func)"
   ]
  },
  {
   "cell_type": "code",
   "execution_count": 8,
   "metadata": {},
   "outputs": [],
   "source": [
    "def correlation_uniform(rand_x, rand_y, prob_mass_func):\n",
    "    cov = expected_value_uniform((rand_x - expected_value_uniform(rand_x, prob_mass_func))*(rand_y - expected_value_uniform(rand_y, prob_mass_func)), prob_mass_func)\n",
    "    return cov/np.sqrt(variance_uniform(rand_x, prob_mass_func)*variance_uniform(rand_y, prob_mass_func))"
   ]
  },
  {
   "cell_type": "code",
   "execution_count": 9,
   "metadata": {},
   "outputs": [],
   "source": [
    "rand_x = np.array(list(set([np.random.randint(0, 9) for i in range(5)])))\n",
    "rand_y = np.array(list(set([np.random.randint(0, 9) for i in range(5)])))"
   ]
  },
  {
   "cell_type": "code",
   "execution_count": 10,
   "metadata": {},
   "outputs": [
    {
     "data": {
      "text/plain": [
       "(array([0, 2, 3, 7]), array([0, 2, 3, 6]))"
      ]
     },
     "execution_count": 10,
     "metadata": {},
     "output_type": "execute_result"
    }
   ],
   "source": [
    "rand_x, rand_y"
   ]
  },
  {
   "cell_type": "code",
   "execution_count": 11,
   "metadata": {},
   "outputs": [
    {
     "data": {
      "text/plain": [
       "3.0"
      ]
     },
     "execution_count": 11,
     "metadata": {},
     "output_type": "execute_result"
    }
   ],
   "source": [
    "expected_value_uniform(rand_x, uniform_dist)"
   ]
  },
  {
   "cell_type": "code",
   "execution_count": 12,
   "metadata": {},
   "outputs": [
    {
     "data": {
      "text/plain": [
       "6.5"
      ]
     },
     "execution_count": 12,
     "metadata": {},
     "output_type": "execute_result"
    }
   ],
   "source": [
    "variance_uniform(rand_x, uniform_dist)"
   ]
  },
  {
   "cell_type": "code",
   "execution_count": 13,
   "metadata": {},
   "outputs": [
    {
     "data": {
      "text/plain": [
       "4.6875"
      ]
     },
     "execution_count": 13,
     "metadata": {},
     "output_type": "execute_result"
    }
   ],
   "source": [
    "variance_uniform(rand_y, uniform_dist)"
   ]
  },
  {
   "cell_type": "code",
   "execution_count": 14,
   "metadata": {},
   "outputs": [
    {
     "data": {
      "text/plain": [
       "4.6875"
      ]
     },
     "execution_count": 14,
     "metadata": {},
     "output_type": "execute_result"
    }
   ],
   "source": [
    "variance_uniform_def(rand_y, uniform_dist)"
   ]
  },
  {
   "cell_type": "code",
   "execution_count": 15,
   "metadata": {},
   "outputs": [
    {
     "data": {
      "text/plain": [
       "6.5"
      ]
     },
     "execution_count": 15,
     "metadata": {},
     "output_type": "execute_result"
    }
   ],
   "source": [
    "variance_uniform_def(rand_x, uniform_dist)"
   ]
  },
  {
   "cell_type": "code",
   "execution_count": 16,
   "metadata": {},
   "outputs": [
    {
     "data": {
      "text/plain": [
       "6.5"
      ]
     },
     "execution_count": 16,
     "metadata": {},
     "output_type": "execute_result"
    }
   ],
   "source": [
    "covariance_uniform(rand_x, rand_x, uniform_dist)"
   ]
  },
  {
   "cell_type": "code",
   "execution_count": 17,
   "metadata": {},
   "outputs": [
    {
     "data": {
      "text/plain": [
       "4.6875"
      ]
     },
     "execution_count": 17,
     "metadata": {},
     "output_type": "execute_result"
    }
   ],
   "source": [
    "covariance_uniform(rand_y, rand_y, uniform_dist)"
   ]
  },
  {
   "cell_type": "code",
   "execution_count": 18,
   "metadata": {},
   "outputs": [
    {
     "data": {
      "text/plain": [
       "5.5"
      ]
     },
     "execution_count": 18,
     "metadata": {},
     "output_type": "execute_result"
    }
   ],
   "source": [
    "covariance_uniform(rand_x, rand_y, uniform_dist)"
   ]
  },
  {
   "cell_type": "code",
   "execution_count": 19,
   "metadata": {},
   "outputs": [
    {
     "data": {
      "text/plain": [
       "5.5"
      ]
     },
     "execution_count": 19,
     "metadata": {},
     "output_type": "execute_result"
    }
   ],
   "source": [
    "covariance_uniform_def(rand_x, rand_y, uniform_dist)"
   ]
  },
  {
   "cell_type": "code",
   "execution_count": 20,
   "metadata": {},
   "outputs": [
    {
     "data": {
      "text/plain": [
       "0.9964037900472443"
      ]
     },
     "execution_count": 20,
     "metadata": {},
     "output_type": "execute_result"
    }
   ],
   "source": [
    "correlation_uniform(rand_x, rand_y, uniform_dist)"
   ]
  },
  {
   "cell_type": "code",
   "execution_count": 21,
   "metadata": {},
   "outputs": [],
   "source": [
    "# from https://brianzhang01.github.io/2018/04/distributions-with-sympy/\n",
    "\n",
    "mu = sym.symbols('mu', real=True)\n",
    "x = sym.symbols('x', real=True)\n",
    "sigma, a, b, lamb = sym.symbols('sigma a b lambda', positive=True)\n",
    "normal = (2*sym.pi*sigma**2) ** sym.Rational(-1, 2) * sym.exp(-(x-mu)**2/(2*sigma**2))"
   ]
  },
  {
   "cell_type": "code",
   "execution_count": 22,
   "metadata": {},
   "outputs": [],
   "source": [
    "def print_formula(form):\n",
    "    display(Latex(\"$${}$$\".format(sym.latex(form))))"
   ]
  },
  {
   "cell_type": "code",
   "execution_count": 23,
   "metadata": {},
   "outputs": [
    {
     "name": "stdout",
     "output_type": "stream",
     "text": [
      "Normal Distribution\n"
     ]
    },
    {
     "data": {
      "text/latex": [
       "$$\\frac{\\sqrt{2} e^{- \\frac{\\left(- \\mu + x\\right)^{2}}{2 \\sigma^{2}}}}{2 \\sqrt{\\pi} \\sigma}$$"
      ],
      "text/plain": [
       "<IPython.core.display.Latex object>"
      ]
     },
     "metadata": {},
     "output_type": "display_data"
    }
   ],
   "source": [
    "print(\"Normal Distribution\")\n",
    "print_formula(normal)"
   ]
  },
  {
   "cell_type": "code",
   "execution_count": 24,
   "metadata": {},
   "outputs": [],
   "source": [
    "def plot_func(pdf, ylabel, left_bound=-20, right_bound=20):\n",
    "    lam_x = sym.lambdify(x, pdf, modules=['numpy'])\n",
    "\n",
    "    x_vals = linspace(left_bound, right_bound, 1000)\n",
    "    y_vals = lam_x(x_vals)\n",
    "\n",
    "    plt.plot(x_vals, y_vals)\n",
    "    plt.ylabel(ylabel)\n",
    "    plt.xlabel(\"x\")\n",
    "    plt.show()"
   ]
  },
  {
   "cell_type": "code",
   "execution_count": 25,
   "metadata": {},
   "outputs": [
    {
     "data": {
      "image/png": "[encoded data removed]",
      "text/plain": [
       "<Figure size 432x288 with 1 Axes>"
      ]
     },
     "metadata": {
      "needs_background": "light"
     },
     "output_type": "display_data"
    }
   ],
   "source": [
    "plot_func(normal.subs({mu :0, sigma: 1}), 'Normal Distribution')"
   ]
  },
  {
   "cell_type": "code",
   "execution_count": 26,
   "metadata": {},
   "outputs": [
    {
     "data": {
      "image/png": "[encoded data removed]",
      "text/plain": [
       "<Figure size 432x288 with 1 Axes>"
      ]
     },
     "metadata": {
      "needs_background": "light"
     },
     "output_type": "display_data"
    }
   ],
   "source": [
    "plot_func(normal.subs({mu :0, sigma: 10}), 'Normal Distribution')"
   ]
  },
  {
   "cell_type": "code",
   "execution_count": 27,
   "metadata": {},
   "outputs": [],
   "source": [
    "def area(form):\n",
    "    '''\n",
    "    Should be 1 for all PDFs\n",
    "    '''\n",
    "    return sym.simplify(sym.integrate(form, (x, -sym.oo, sym.oo)))"
   ]
  },
  {
   "cell_type": "code",
   "execution_count": 28,
   "metadata": {},
   "outputs": [],
   "source": [
    "def exp_value(form):\n",
    "    return sym.simplify(sym.integrate(form*x, (x, -sym.oo, sym.oo)))"
   ]
  },
  {
   "cell_type": "code",
   "execution_count": 29,
   "metadata": {},
   "outputs": [],
   "source": [
    "def variance(form):\n",
    "    ex2 = sym.simplify(sym.integrate((x**2)*form, (x, -sym.oo, sym.oo)))\n",
    "    ex_sqr = exp_value(form)**2\n",
    "    return ex2 - ex_sqr"
   ]
  },
  {
   "cell_type": "code",
   "execution_count": 30,
   "metadata": {},
   "outputs": [
    {
     "data": {
      "text/latex": [
       "$$\\int_{-\\infty}^{\\infty} \\frac{\\sqrt{2} e^{- \\frac{\\left(- \\mu + x\\right)^{2}}{2 \\sigma^{2}}}}{2 \\sqrt{\\pi} \\sigma}\\, dx = 1$$"
      ],
      "text/plain": [
       "<IPython.core.display.Latex object>"
      ]
     },
     "metadata": {},
     "output_type": "display_data"
    }
   ],
   "source": [
    "area_norm = area(normal)\n",
    "display(Latex(\"$${} = {}$$\".format(sym.latex(sym.Integral(normal, (x, -sym.oo, sym.oo))), sym.latex(area_norm))))"
   ]
  },
  {
   "cell_type": "code",
   "execution_count": 31,
   "metadata": {},
   "outputs": [
    {
     "name": "stdout",
     "output_type": "stream",
     "text": [
      "Expected value:\n"
     ]
    },
    {
     "data": {
      "text/latex": [
       "$$\\int_{-\\infty}^{\\infty} \\frac{\\sqrt{2} x e^{- \\frac{\\left(- \\mu + x\\right)^{2}}{2 \\sigma^{2}}}}{2 \\sqrt{\\pi} \\sigma}\\, dx = \\mu$$"
      ],
      "text/plain": [
       "<IPython.core.display.Latex object>"
      ]
     },
     "metadata": {},
     "output_type": "display_data"
    }
   ],
   "source": [
    "ex_norm = exp_value(normal)\n",
    "print('Expected value:')\n",
    "display(Latex(\"$${} = {}$$\".format(sym.latex(sym.Integral(normal*x, (x, -sym.oo, sym.oo))), sym.latex(ex_norm))))"
   ]
  },
  {
   "cell_type": "code",
   "execution_count": 32,
   "metadata": {},
   "outputs": [
    {
     "name": "stdout",
     "output_type": "stream",
     "text": [
      "Expected value:\n"
     ]
    },
    {
     "data": {
      "text/latex": [
       "$$\\int_{-\\infty}^{\\infty} \\frac{\\sqrt{2} x e^{- \\frac{\\left(- \\mu + x\\right)^{2}}{2 \\sigma^{2}}}}{2 \\sqrt{\\pi} \\sigma}\\, dx = 0$$"
      ],
      "text/plain": [
       "<IPython.core.display.Latex object>"
      ]
     },
     "metadata": {},
     "output_type": "display_data"
    }
   ],
   "source": [
    "ex_norm_0 = exp_value(normal.subs({mu:0}))\n",
    "print('Expected value:')\n",
    "display(Latex(\"$${} = {}$$\".format(sym.latex(sym.Integral(normal*x, (x, -sym.oo, sym.oo))), sym.latex(ex_norm_0))))"
   ]
  },
  {
   "cell_type": "code",
   "execution_count": 33,
   "metadata": {},
   "outputs": [
    {
     "name": "stdout",
     "output_type": "stream",
     "text": [
      "Variance:\n"
     ]
    },
    {
     "data": {
      "text/latex": [
       "$$E(x-Ex)^{2} = \\sigma^{2}$$"
      ],
      "text/plain": [
       "<IPython.core.display.Latex object>"
      ]
     },
     "metadata": {},
     "output_type": "display_data"
    }
   ],
   "source": [
    "var_nor = variance(normal)\n",
    "print('Variance:')\n",
    "display(Latex(\"$${} = {}$$\".format(sym.latex(sym.symbols('E(x-Ex)', positive=True)**2), sym.latex(var_nor))))"
   ]
  },
  {
   "cell_type": "code",
   "execution_count": 34,
   "metadata": {},
   "outputs": [],
   "source": [
    "expo = sym.Piecewise(\n",
    "    (0, x < 0),\n",
    "    (lamb * sym.exp(-lamb*x), True)\n",
    ")"
   ]
  },
  {
   "cell_type": "code",
   "execution_count": 35,
   "metadata": {},
   "outputs": [
    {
     "name": "stdout",
     "output_type": "stream",
     "text": [
      "Exponential Distribution\n"
     ]
    },
    {
     "data": {
      "text/latex": [
       "$$\\begin{cases} 0 & \\text{for}\\: x < 0 \\\\\\lambda e^{- \\lambda x} & \\text{otherwise} \\end{cases}$$"
      ],
      "text/plain": [
       "<IPython.core.display.Latex object>"
      ]
     },
     "metadata": {},
     "output_type": "display_data"
    }
   ],
   "source": [
    "print(\"Exponential Distribution\")\n",
    "print_formula(expo)"
   ]
  },
  {
   "cell_type": "code",
   "execution_count": 36,
   "metadata": {},
   "outputs": [
    {
     "data": {
      "text/latex": [
       "$$\\int_{-\\infty}^{\\infty} \\lambda e^{- \\lambda x}\\, dx = 1$$"
      ],
      "text/plain": [
       "<IPython.core.display.Latex object>"
      ]
     },
     "metadata": {},
     "output_type": "display_data"
    }
   ],
   "source": [
    "area_exp = area(expo)\n",
    "display(Latex(\"$${} = {}$$\".format(sym.latex(sym.Integral(expo.args[1][0], (x, -sym.oo, sym.oo))), sym.latex(area_exp))))"
   ]
  },
  {
   "cell_type": "code",
   "execution_count": 37,
   "metadata": {},
   "outputs": [
    {
     "name": "stdout",
     "output_type": "stream",
     "text": [
      "Expected Value\n"
     ]
    },
    {
     "data": {
      "text/latex": [
       "$$\\int_{-\\infty}^{\\infty} \\lambda x e^{- \\lambda x}\\, dx = \\frac{1}{\\lambda}$$"
      ],
      "text/plain": [
       "<IPython.core.display.Latex object>"
      ]
     },
     "metadata": {},
     "output_type": "display_data"
    }
   ],
   "source": [
    "ex_exp = exp_value(expo)\n",
    "print(\"Expected Value\")\n",
    "display(Latex(\"$${} = {}$$\".format(sym.latex(sym.Integral(expo.args[1][0]*x, (x, -sym.oo, sym.oo))), sym.latex(ex_exp))))"
   ]
  },
  {
   "cell_type": "code",
   "execution_count": 38,
   "metadata": {},
   "outputs": [
    {
     "name": "stdout",
     "output_type": "stream",
     "text": [
      "Variance:\n"
     ]
    },
    {
     "data": {
      "text/latex": [
       "$$E(x-Ex)^{2} = \\frac{1}{\\lambda^{2}}$$"
      ],
      "text/plain": [
       "<IPython.core.display.Latex object>"
      ]
     },
     "metadata": {},
     "output_type": "display_data"
    }
   ],
   "source": [
    "var_exp = variance(expo)\n",
    "print('Variance:')\n",
    "display(Latex(\"$${} = {}$$\".format(sym.latex(sym.symbols('E(x-Ex)', positive=True)**2), sym.latex(var_exp))))"
   ]
  },
  {
   "cell_type": "code",
   "execution_count": 39,
   "metadata": {},
   "outputs": [
    {
     "data": {
      "text/plain": [
       "Piecewise((0, x < 0), (exp(-x), True))"
      ]
     },
     "execution_count": 39,
     "metadata": {},
     "output_type": "execute_result"
    }
   ],
   "source": [
    "expo.subs({lamb :1})"
   ]
  },
  {
   "cell_type": "code",
   "execution_count": 40,
   "metadata": {},
   "outputs": [
    {
     "data": {
      "image/png": "[encoded data removed]",
      "text/plain": [
       "<Figure size 432x288 with 1 Axes>"
      ]
     },
     "metadata": {
      "needs_background": "light"
     },
     "output_type": "display_data"
    }
   ],
   "source": [
    "plot_func(expo.subs({lamb :1}), 'Exponential Distribution')"
   ]
  },
  {
   "cell_type": "code",
   "execution_count": 41,
   "metadata": {},
   "outputs": [
    {
     "data": {
      "image/png": "[encoded data removed]",
      "text/plain": [
       "<Figure size 432x288 with 1 Axes>"
      ]
     },
     "metadata": {
      "needs_background": "light"
     },
     "output_type": "display_data"
    }
   ],
   "source": [
    "plot_func(expo.subs({lamb :10}), 'Exponential Distribution')"
   ]
  },
  {
   "cell_type": "code",
   "execution_count": 42,
   "metadata": {},
   "outputs": [
    {
     "data": {
      "image/png": "[encoded data removed]",
      "text/plain": [
       "<Figure size 432x288 with 1 Axes>"
      ]
     },
     "metadata": {
      "needs_background": "light"
     },
     "output_type": "display_data"
    }
   ],
   "source": [
    "plot_func(expo.subs({lamb :0.1}), 'Exponential Distribution')"
   ]
  },
  {
   "cell_type": "markdown",
   "metadata": {},
   "source": [
    "3.10 Useful Properties of Common Functions"
   ]
  },
  {
   "cell_type": "code",
   "execution_count": 59,
   "metadata": {},
   "outputs": [],
   "source": [
    "sigma = sym.symbols('sigma', real=True)\n",
    "sigmoid = 1/(1+sym.exp(-x))\n",
    "\n",
    "softplus = sym.log(1+sym.exp(x))\n",
    "\n",
    "reLu = sym.Piecewise(\n",
    "    (0, x < 0),\n",
    "    (x, True)\n",
    ")"
   ]
  },
  {
   "cell_type": "code",
   "execution_count": 60,
   "metadata": {},
   "outputs": [
    {
     "data": {
      "text/latex": [
       "$$\\frac{1}{1 + e^{- x}}$$"
      ],
      "text/plain": [
       "<IPython.core.display.Latex object>"
      ]
     },
     "metadata": {},
     "output_type": "display_data"
    }
   ],
   "source": [
    "print_formula(sigmoid)"
   ]
  },
  {
   "cell_type": "code",
   "execution_count": 61,
   "metadata": {},
   "outputs": [
    {
     "data": {
      "image/png": "[encoded data removed]",
      "text/plain": [
       "<Figure size 432x288 with 1 Axes>"
      ]
     },
     "metadata": {
      "needs_background": "light"
     },
     "output_type": "display_data"
    }
   ],
   "source": [
    "plot_func(sigmoid, 'sigmoid')"
   ]
  },
  {
   "cell_type": "code",
   "execution_count": 62,
   "metadata": {},
   "outputs": [
    {
     "data": {
      "text/latex": [
       "$$\\log{\\left (e^{x} + 1 \\right )}$$"
      ],
      "text/plain": [
       "<IPython.core.display.Latex object>"
      ]
     },
     "metadata": {},
     "output_type": "display_data"
    }
   ],
   "source": [
    "print_formula(softplus)"
   ]
  },
  {
   "cell_type": "code",
   "execution_count": 65,
   "metadata": {},
   "outputs": [
    {
     "data": {
      "image/png": "[encoded data removed]",
      "text/plain": [
       "<Figure size 432x288 with 1 Axes>"
      ]
     },
     "metadata": {
      "needs_background": "light"
     },
     "output_type": "display_data"
    }
   ],
   "source": [
    "plot_func(softplus, 'softplus')"
   ]
  },
  {
   "cell_type": "code",
   "execution_count": 64,
   "metadata": {},
   "outputs": [
    {
     "data": {
      "text/latex": [
       "$$\\begin{cases} 0 & \\text{for}\\: x < 0 \\\\x & \\text{otherwise} \\end{cases}$$"
      ],
      "text/plain": [
       "<IPython.core.display.Latex object>"
      ]
     },
     "metadata": {},
     "output_type": "display_data"
    }
   ],
   "source": [
    "print_formula(reLu)"
   ]
  },
  {
   "cell_type": "code",
   "execution_count": 66,
   "metadata": {},
   "outputs": [
    {
     "data": {
      "image/png": "[encoded data removed]",
      "text/plain": [
       "<Figure size 432x288 with 1 Axes>"
      ]
     },
     "metadata": {
      "needs_background": "light"
     },
     "output_type": "display_data"
    }
   ],
   "source": [
    "plot_func(reLu, 'reLu')"
   ]
  },
  {
   "cell_type": "code",
   "execution_count": 86,
   "metadata": {},
   "outputs": [],
   "source": [
    "derivative_of = sym.diff(softplus, x)"
   ]
  },
  {
   "cell_type": "code",
   "execution_count": 88,
   "metadata": {},
   "outputs": [
    {
     "data": {
      "text/latex": [
       "$$\\frac{e^{x}}{e^{x} + 1}$$"
      ],
      "text/plain": [
       "<IPython.core.display.Latex object>"
      ]
     },
     "metadata": {},
     "output_type": "display_data"
    }
   ],
   "source": [
    "print_formula(derivative_of) # the same sigmoid"
   ]
  },
  {
   "cell_type": "code",
   "execution_count": null,
   "metadata": {},
   "outputs": [],
   "source": []
  }
 ],
 "metadata": {
  "kernelspec": {
   "display_name": "Python 3",
   "language": "python",
   "name": "python3"
  },
  "language_info": {
   "codemirror_mode": {
    "name": "ipython",
    "version": 3
   },
   "file_extension": ".py",
   "mimetype": "text/x-python",
   "name": "python",
   "nbconvert_exporter": "python",
   "pygments_lexer": "ipython3",
   "version": "3.7.3"
  }
 },
 "nbformat": 4,
 "nbformat_minor": 2
}
