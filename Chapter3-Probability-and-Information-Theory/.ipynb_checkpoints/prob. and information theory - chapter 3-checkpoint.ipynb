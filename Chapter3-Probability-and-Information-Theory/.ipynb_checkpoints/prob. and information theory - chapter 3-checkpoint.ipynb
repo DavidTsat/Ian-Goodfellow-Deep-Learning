{
 "cells": [
  {
   "cell_type": "markdown",
   "metadata": {},
   "source": [
    "3.8 Expectation, Variance and Covariance                                                                                \n",
    "3.9 Common Probability Distribution"
   ]
  },
  {
   "cell_type": "code",
   "execution_count": null,
   "metadata": {},
   "outputs": [],
   "source": [
    "import numpy as np\n",
    "import sympy as sym\n",
    "from IPython.display import Latex\n",
    "from numpy import linspace\n",
    "import matplotlib.pyplot as plt"
   ]
  },
  {
   "cell_type": "code",
   "execution_count": null,
   "metadata": {},
   "outputs": [],
   "source": [
    "def expected_value_uniform(rand_var, prob_mass_func):\n",
    "    return np.dot(rand_var.T, prob_mass_func(rand_var))"
   ]
  },
  {
   "cell_type": "code",
   "execution_count": null,
   "metadata": {},
   "outputs": [],
   "source": [
    "def variance_uniform(rand_var, prob_mass_func):\n",
    "    return expected_value_uniform(rand_var**2, prob_mass_func) -expected_value_uniform(rand_var, prob_mass_func)**2"
   ]
  },
  {
   "cell_type": "code",
   "execution_count": null,
   "metadata": {},
   "outputs": [],
   "source": [
    "def variance_uniform_def(rand_var, prob_mass_func):\n",
    "    return expected_value_uniform((rand_var - expected_value_uniform(rand_var, prob_mass_func))**2, prob_mass_func)"
   ]
  },
  {
   "cell_type": "code",
   "execution_count": null,
   "metadata": {},
   "outputs": [],
   "source": [
    "def uniform_dist(x):\n",
    "    return [1/len(x)]*len(x)"
   ]
  },
  {
   "cell_type": "code",
   "execution_count": null,
   "metadata": {},
   "outputs": [],
   "source": [
    "def covariance_uniform(rand_x, rand_y, prob_mass_func):\n",
    "    return 1/2*(variance_uniform(rand_x + rand_y, prob_mass_func) - variance_uniform(rand_x, prob_mass_func) - variance_uniform(rand_y, prob_mass_func))"
   ]
  },
  {
   "cell_type": "code",
   "execution_count": null,
   "metadata": {},
   "outputs": [],
   "source": [
    "def covariance_uniform_def(rand_x, rand_y, prob_mass_func):\n",
    "    return expected_value_uniform((rand_x - expected_value_uniform(rand_x, prob_mass_func))*(rand_y - expected_value_uniform(rand_y, prob_mass_func)), prob_mass_func)"
   ]
  },
  {
   "cell_type": "code",
   "execution_count": null,
   "metadata": {},
   "outputs": [],
   "source": [
    "def correlation_uniform(rand_x, rand_y, prob_mass_func):\n",
    "    cov = expected_value_uniform((rand_x - expected_value_uniform(rand_x, prob_mass_func))*(rand_y - expected_value_uniform(rand_y, prob_mass_func)), prob_mass_func)\n",
    "    return cov/np.sqrt(variance_uniform(rand_x, prob_mass_func)*variance_uniform(rand_y, prob_mass_func))"
   ]
  },
  {
   "cell_type": "code",
   "execution_count": null,
   "metadata": {},
   "outputs": [],
   "source": [
    "rand_x = np.array(list(set([np.random.randint(0, 9) for i in range(5)])))\n",
    "rand_y = np.array(list(set([np.random.randint(0, 9) for i in range(5)])))"
   ]
  },
  {
   "cell_type": "code",
   "execution_count": null,
   "metadata": {},
   "outputs": [],
   "source": [
    "rand_x, rand_y"
   ]
  },
  {
   "cell_type": "code",
   "execution_count": null,
   "metadata": {},
   "outputs": [],
   "source": [
    "expected_value_uniform(rand_x, uniform_dist)"
   ]
  },
  {
   "cell_type": "code",
   "execution_count": null,
   "metadata": {},
   "outputs": [],
   "source": [
    "variance_uniform(rand_x, uniform_dist)"
   ]
  },
  {
   "cell_type": "code",
   "execution_count": null,
   "metadata": {},
   "outputs": [],
   "source": [
    "variance_uniform(rand_y, uniform_dist)"
   ]
  },
  {
   "cell_type": "code",
   "execution_count": null,
   "metadata": {},
   "outputs": [],
   "source": [
    "variance_uniform_def(rand_y, uniform_dist)"
   ]
  },
  {
   "cell_type": "code",
   "execution_count": null,
   "metadata": {},
   "outputs": [],
   "source": [
    "variance_uniform_def(rand_x, uniform_dist)"
   ]
  },
  {
   "cell_type": "code",
   "execution_count": null,
   "metadata": {},
   "outputs": [],
   "source": [
    "covariance_uniform(rand_x, rand_x, uniform_dist)"
   ]
  },
  {
   "cell_type": "code",
   "execution_count": null,
   "metadata": {},
   "outputs": [],
   "source": [
    "covariance_uniform(rand_y, rand_y, uniform_dist)"
   ]
  },
  {
   "cell_type": "code",
   "execution_count": null,
   "metadata": {},
   "outputs": [],
   "source": [
    "covariance_uniform(rand_x, rand_y, uniform_dist)"
   ]
  },
  {
   "cell_type": "code",
   "execution_count": null,
   "metadata": {},
   "outputs": [],
   "source": [
    "covariance_uniform_def(rand_x, rand_y, uniform_dist)"
   ]
  },
  {
   "cell_type": "code",
   "execution_count": null,
   "metadata": {},
   "outputs": [],
   "source": [
    "correlation_uniform(rand_x, rand_y, uniform_dist)"
   ]
  },
  {
   "cell_type": "code",
   "execution_count": null,
   "metadata": {},
   "outputs": [],
   "source": [
    "# from https://brianzhang01.github.io/2018/04/distributions-with-sympy/\n",
    "\n",
    "mu = sym.symbols('mu', real=True)\n",
    "x = sym.symbols('x', real=True)\n",
    "sigma, a, b, lamb = sym.symbols('sigma a b lambda', positive=True)\n",
    "normal = (2*sym.pi*sigma**2) ** sym.Rational(-1, 2) * sym.exp(-(x-mu)**2/(2*sigma**2))"
   ]
  },
  {
   "cell_type": "code",
   "execution_count": null,
   "metadata": {},
   "outputs": [],
   "source": [
    "def print_formula(form):\n",
    "    display(Latex(\"$${}$$\".format(sym.latex(form))))"
   ]
  },
  {
   "cell_type": "code",
   "execution_count": null,
   "metadata": {},
   "outputs": [],
   "source": [
    "print(\"Normal Distribution\")\n",
    "print_formula(normal)"
   ]
  },
  {
   "cell_type": "code",
   "execution_count": null,
   "metadata": {},
   "outputs": [],
   "source": [
    "def plot_func(pdf, ylabel, left_bound=-20, right_bound=20):\n",
    "    lam_x = sym.lambdify(x, pdf, modules=['numpy'])\n",
    "\n",
    "    x_vals = linspace(left_bound, right_bound, 1000)\n",
    "    y_vals = lam_x(x_vals)\n",
    "\n",
    "    plt.plot(x_vals, y_vals)\n",
    "    plt.ylabel(ylabel)\n",
    "    plt.xlabel(\"x\")\n",
    "    plt.show()"
   ]
  },
  {
   "cell_type": "code",
   "execution_count": null,
   "metadata": {},
   "outputs": [],
   "source": [
    "plot_func(normal.subs({mu :0, sigma: 1}), 'Normal Distribution')"
   ]
  },
  {
   "cell_type": "code",
   "execution_count": null,
   "metadata": {},
   "outputs": [],
   "source": [
    "plot_func(normal.subs({mu :0, sigma: 10}), 'Normal Distribution')"
   ]
  },
  {
   "cell_type": "code",
   "execution_count": null,
   "metadata": {},
   "outputs": [],
   "source": [
    "def area(form):\n",
    "    '''\n",
    "    Should be 1 for all PDFs\n",
    "    '''\n",
    "    return sym.simplify(sym.integrate(form, (x, -sym.oo, sym.oo)))"
   ]
  },
  {
   "cell_type": "code",
   "execution_count": null,
   "metadata": {},
   "outputs": [],
   "source": [
    "def exp_value(form):\n",
    "    return sym.simplify(sym.integrate(form*x, (x, -sym.oo, sym.oo)))"
   ]
  },
  {
   "cell_type": "code",
   "execution_count": null,
   "metadata": {},
   "outputs": [],
   "source": [
    "def variance(form):\n",
    "    ex2 = sym.simplify(sym.integrate((x**2)*form, (x, -sym.oo, sym.oo)))\n",
    "    ex_sqr = exp_value(form)**2\n",
    "    return ex2 - ex_sqr"
   ]
  },
  {
   "cell_type": "code",
   "execution_count": null,
   "metadata": {},
   "outputs": [],
   "source": [
    "area_norm = area(normal)\n",
    "display(Latex(\"$${} = {}$$\".format(sym.latex(sym.Integral(normal, (x, -sym.oo, sym.oo))), sym.latex(area_norm))))"
   ]
  },
  {
   "cell_type": "code",
   "execution_count": null,
   "metadata": {},
   "outputs": [],
   "source": [
    "ex_norm = exp_value(normal)\n",
    "print('Expected value:')\n",
    "display(Latex(\"$${} = {}$$\".format(sym.latex(sym.Integral(normal*x, (x, -sym.oo, sym.oo))), sym.latex(ex_norm))))"
   ]
  },
  {
   "cell_type": "code",
   "execution_count": null,
   "metadata": {},
   "outputs": [],
   "source": [
    "ex_norm_0 = exp_value(normal.subs({mu:0}))\n",
    "print('Expected value:')\n",
    "display(Latex(\"$${} = {}$$\".format(sym.latex(sym.Integral(normal*x, (x, -sym.oo, sym.oo))), sym.latex(ex_norm_0))))"
   ]
  },
  {
   "cell_type": "code",
   "execution_count": null,
   "metadata": {},
   "outputs": [],
   "source": [
    "var_nor = variance(normal)\n",
    "print('Variance:')\n",
    "display(Latex(\"$${} = {}$$\".format(sym.latex(sym.symbols('E(x-Ex)', positive=True)**2), sym.latex(var_nor))))"
   ]
  },
  {
   "cell_type": "code",
   "execution_count": null,
   "metadata": {},
   "outputs": [],
   "source": [
    "expo = sym.Piecewise(\n",
    "    (0, x < 0),\n",
    "    (lamb * sym.exp(-lamb*x), True)\n",
    ")"
   ]
  },
  {
   "cell_type": "code",
   "execution_count": null,
   "metadata": {},
   "outputs": [],
   "source": [
    "print(\"Exponential Distribution\")\n",
    "print_formula(expo)"
   ]
  },
  {
   "cell_type": "code",
   "execution_count": null,
   "metadata": {},
   "outputs": [],
   "source": [
    "area_exp = area(expo)\n",
    "display(Latex(\"$${} = {}$$\".format(sym.latex(sym.Integral(expo.args[1][0], (x, -sym.oo, sym.oo))), sym.latex(area_exp))))"
   ]
  },
  {
   "cell_type": "code",
   "execution_count": null,
   "metadata": {},
   "outputs": [],
   "source": [
    "ex_exp = exp_value(expo)\n",
    "print(\"Expected Value\")\n",
    "display(Latex(\"$${} = {}$$\".format(sym.latex(sym.Integral(expo.args[1][0]*x, (x, -sym.oo, sym.oo))), sym.latex(ex_exp))))"
   ]
  },
  {
   "cell_type": "code",
   "execution_count": null,
   "metadata": {},
   "outputs": [],
   "source": [
    "var_exp = variance(expo)\n",
    "print('Variance:')\n",
    "display(Latex(\"$${} = {}$$\".format(sym.latex(sym.symbols('E(x-Ex)', positive=True)**2), sym.latex(var_exp))))"
   ]
  },
  {
   "cell_type": "code",
   "execution_count": null,
   "metadata": {},
   "outputs": [],
   "source": [
    "expo.subs({lamb :1})"
   ]
  },
  {
   "cell_type": "code",
   "execution_count": null,
   "metadata": {},
   "outputs": [],
   "source": [
    "plot_func(expo.subs({lamb :1}), 'Exponential Distribution')"
   ]
  },
  {
   "cell_type": "code",
   "execution_count": null,
   "metadata": {},
   "outputs": [],
   "source": [
    "plot_func(expo.subs({lamb :10}), 'Exponential Distribution')"
   ]
  },
  {
   "cell_type": "code",
   "execution_count": null,
   "metadata": {},
   "outputs": [],
   "source": [
    "plot_func(expo.subs({lamb :0.1}), 'Exponential Distribution')"
   ]
  },
  {
   "cell_type": "markdown",
   "metadata": {},
   "source": [
    "3.10 Useful Properties of Common Functions"
   ]
  },
  {
   "cell_type": "code",
   "execution_count": null,
   "metadata": {},
   "outputs": [],
   "source": [
    "sigma = sym.symbols('sigma', real=True)\n",
    "sigmoid = 1/(1+sym.exp(-x))\n",
    "\n",
    "softplus = sym.log(1+sym.exp(x))\n",
    "\n",
    "reLu = sym.Piecewise(\n",
    "    (0, x < 0),\n",
    "    (x, True)\n",
    ")"
   ]
  },
  {
   "cell_type": "code",
   "execution_count": null,
   "metadata": {},
   "outputs": [],
   "source": [
    "print_formula(sigmoid)"
   ]
  },
  {
   "cell_type": "code",
   "execution_count": null,
   "metadata": {},
   "outputs": [],
   "source": [
    "plot_func(sigmoid, 'sigmoid')"
   ]
  },
  {
   "cell_type": "code",
   "execution_count": null,
   "metadata": {},
   "outputs": [],
   "source": [
    "print_formula(softplus)"
   ]
  },
  {
   "cell_type": "code",
   "execution_count": null,
   "metadata": {},
   "outputs": [],
   "source": [
    "plot_func(softplus, 'softplus')"
   ]
  },
  {
   "cell_type": "code",
   "execution_count": null,
   "metadata": {},
   "outputs": [],
   "source": [
    "print_formula(reLu)"
   ]
  },
  {
   "cell_type": "code",
   "execution_count": null,
   "metadata": {},
   "outputs": [],
   "source": [
    "plot_func(reLu, 'reLu')"
   ]
  },
  {
   "cell_type": "code",
   "execution_count": null,
   "metadata": {},
   "outputs": [],
   "source": [
    "derivative_of = sym.diff(softplus, x)"
   ]
  },
  {
   "cell_type": "code",
   "execution_count": null,
   "metadata": {},
   "outputs": [],
   "source": [
    "print_formula(derivative_of) # the same sigmoid"
   ]
  },
  {
   "cell_type": "code",
   "execution_count": null,
   "metadata": {},
   "outputs": [],
   "source": []
  }
 ],
 "metadata": {
  "kernelspec": {
   "display_name": "Python 3",
   "language": "python",
   "name": "python3"
  },
  "language_info": {
   "codemirror_mode": {
    "name": "ipython",
    "version": 3
   },
   "file_extension": ".py",
   "mimetype": "text/x-python",
   "name": "python",
   "nbconvert_exporter": "python",
   "pygments_lexer": "ipython3",
   "version": "3.7.3"
  }
 },
 "nbformat": 4,
 "nbformat_minor": 2
}
