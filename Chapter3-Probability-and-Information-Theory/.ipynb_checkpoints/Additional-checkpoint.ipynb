{
 "cells": [
  {
   "cell_type": "code",
   "execution_count": 1,
   "metadata": {},
   "outputs": [],
   "source": [
    "import numpy as np\n",
    "import pandas as pd\n",
    "import matplotlib.pyplot as plt"
   ]
  },
  {
   "cell_type": "markdown",
   "metadata": {},
   "source": [
    "Gaussian Naive Bayes classifier\n",
    "https://en.wikipedia.org/wiki/Naive_Bayes_classifier"
   ]
  },
  {
   "cell_type": "code",
   "execution_count": 2,
   "metadata": {},
   "outputs": [],
   "source": [
    "y1 = np.array([np.random.rand(1) + 2 for c in (range(np.random.choice([c+60 for c in range(40)])))])\n",
    "y2 = np.array([np.random.rand(1) + 2.4 for c in (range(np.random.choice([c+60 for c in range(40)])))])\n",
    "y3 = np.array([np.random.rand(1) + 1.4 for c in (range(np.random.choice([c+60 for c in range(40)])))])\n",
    "\n",
    "x1 = np.array(range(len(y1)))\n",
    "x2 = np.array([c+50 for c in range(len(y2))])\n",
    "x3 = np.array([c+80 for c in range(len(y3))])"
   ]
  },
  {
   "cell_type": "code",
   "execution_count": 3,
   "metadata": {},
   "outputs": [],
   "source": [
    "# data matrix \n",
    "a1 = np.concatenate((x1.reshape(-1,1),y1,np.array([0 for c in range(len(x1))]).reshape(-1,1)), 1)\n",
    "a2 = np.concatenate((x2.reshape(-1,1),y2,np.array([1 for c in range(len(x2))]).reshape(-1,1)), 1)\n",
    "a3 = np.concatenate((x3.reshape(-1,1),y3,np.array([2 for c in range(len(x3))]).reshape(-1,1)), 1)\n",
    "\n",
    "A = np.concatenate((a1,a2,a3), 0).round(1)"
   ]
  },
  {
   "cell_type": "code",
   "execution_count": 4,
   "metadata": {},
   "outputs": [
    {
     "data": {
      "text/plain": [
       "((230, 3), 87, 64, 79)"
      ]
     },
     "execution_count": 4,
     "metadata": {},
     "output_type": "execute_result"
    }
   ],
   "source": [
    "A.shape, y1.shape[0], y2.shape[0], y3.shape[0],"
   ]
  },
  {
   "cell_type": "code",
   "execution_count": 5,
   "metadata": {},
   "outputs": [
    {
     "data": {
      "text/plain": [
       "array([[0. , 2.7, 0. ],\n",
       "       [1. , 2.8, 0. ],\n",
       "       [2. , 2.2, 0. ],\n",
       "       [3. , 2.8, 0. ],\n",
       "       [4. , 2.3, 0. ]])"
      ]
     },
     "execution_count": 5,
     "metadata": {},
     "output_type": "execute_result"
    }
   ],
   "source": [
    "A[:5,:]"
   ]
  },
  {
   "cell_type": "code",
   "execution_count": 6,
   "metadata": {},
   "outputs": [
    {
     "data": {
      "image/png": "[encoded data removed]",
      "text/plain": [
       "<Figure size 432x288 with 1 Axes>"
      ]
     },
     "metadata": {
      "needs_background": "light"
     },
     "output_type": "display_data"
    }
   ],
   "source": [
    "fig = plt.figure()\n",
    "ax1 = fig.add_subplot(111)\n",
    "\n",
    "ax1.scatter(x1, y1, s=10, c='b', marker=\"o\", label='first')\n",
    "ax1.scatter(x2, y2, s=10, c='g', marker=\"o\", label='second')\n",
    "ax1.scatter(x3, y3, s=10, c='r', marker=\"o\", label='third')\n",
    "plt.legend(loc='upper right');\n",
    "plt.show()"
   ]
  },
  {
   "cell_type": "code",
   "execution_count": 7,
   "metadata": {},
   "outputs": [],
   "source": [
    "class NaiveBayesClass:\n",
    "    def __init__(self, A):\n",
    "        self.data = A\n",
    "        self.classes = sorted(self.data.label.unique())\n",
    "        self.class_data = self.__separate_data_by_classes__()\n",
    "        self.class_probs = self.__get_probs_of_each_class__()\n",
    "        self.class_means = self.__get_mean_of_each_class__()\n",
    "        self.class_vars = self.__get_variances_class__()\n",
    "        \n",
    "    def __len__(self):\n",
    "        return self.data.shape[0]\n",
    "    \n",
    "    def __separate_data_by_classes__(self):\n",
    "        c_d = {}\n",
    "        for c in self.classes:\n",
    "            c_d[c] = (self.data.loc[self.data['label'] == c]).values[:,:-1]\n",
    "        return c_d\n",
    "    \n",
    "    def __get_probs_of_each_class__(self):\n",
    "        probs = []\n",
    "        for c in self.classes:\n",
    "            probs.append(len(self.class_data[c])/self.data.shape[0])\n",
    "        return np.array(probs)\n",
    "    \n",
    "    def __get_mean_of_each_class__(self):\n",
    "        means = {}\n",
    "        for c in self.classes:\n",
    "            m = []\n",
    "            for i in range(self.data.shape[1] - 1):\n",
    "                m.append(self.class_data[c][:,i].mean())\n",
    "            means[c] = m\n",
    "        return means\n",
    "    \n",
    "    def __get_variances_class__(self):\n",
    "        variances = {}\n",
    "        for c in self.classes:\n",
    "            va = []\n",
    "            for i in range(self.data.shape[1] - 1):\n",
    "                va.append(self.class_data[c][:,i].var()+1e-5) # to avoid division by zero\n",
    "            variances[c] = va\n",
    "        return variances\n",
    "    \n",
    "    def __get_gaussian_prob__(self, x, mean_, var_):\n",
    "        somnojitels = []\n",
    "        for i in range(x.shape[1]):\n",
    "            x_feat = x[:,i]\n",
    "            somnojitels.append((1/np.sqrt(2*np.pi*var_[i])*np.exp(-1/(2*var_[i])*(x_feat-mean_[i])**2)))\n",
    "        return np.array(somnojitels).prod()\n",
    "    \n",
    "    def predict(self, x):\n",
    "        res = []\n",
    "        for row in x:\n",
    "            pr = []\n",
    "            for c in self.classes:\n",
    "                pr.append(self.class_probs[c]*self.__get_gaussian_prob__(row.reshape(1,-1), self.class_means[c], self.class_vars[c]))\n",
    "            res.append(np.argmax(pr))\n",
    "        return res"
   ]
  },
  {
   "cell_type": "code",
   "execution_count": 8,
   "metadata": {},
   "outputs": [],
   "source": [
    "df = pd.DataFrame(A)\n",
    "df.columns = ['x', 'y', 'label']\n",
    "df = df.astype({'x': 'float32', 'y': 'float32', 'label': 'int32'})"
   ]
  },
  {
   "cell_type": "code",
   "execution_count": 9,
   "metadata": {},
   "outputs": [
    {
     "data": {
      "text/html": [
       "<div>\n",
       "<style scoped>\n",
       "    .dataframe tbody tr th:only-of-type {\n",
       "        vertical-align: middle;\n",
       "    }\n",
       "\n",
       "    .dataframe tbody tr th {\n",
       "        vertical-align: top;\n",
       "    }\n",
       "\n",
       "    .dataframe thead th {\n",
       "        text-align: right;\n",
       "    }\n",
       "</style>\n",
       "<table border=\"1\" class=\"dataframe\">\n",
       "  <thead>\n",
       "    <tr style=\"text-align: right;\">\n",
       "      <th></th>\n",
       "      <th>x</th>\n",
       "      <th>y</th>\n",
       "      <th>label</th>\n",
       "    </tr>\n",
       "  </thead>\n",
       "  <tbody>\n",
       "    <tr>\n",
       "      <th>0</th>\n",
       "      <td>0.0</td>\n",
       "      <td>2.7</td>\n",
       "      <td>0</td>\n",
       "    </tr>\n",
       "    <tr>\n",
       "      <th>1</th>\n",
       "      <td>1.0</td>\n",
       "      <td>2.8</td>\n",
       "      <td>0</td>\n",
       "    </tr>\n",
       "    <tr>\n",
       "      <th>2</th>\n",
       "      <td>2.0</td>\n",
       "      <td>2.2</td>\n",
       "      <td>0</td>\n",
       "    </tr>\n",
       "    <tr>\n",
       "      <th>3</th>\n",
       "      <td>3.0</td>\n",
       "      <td>2.8</td>\n",
       "      <td>0</td>\n",
       "    </tr>\n",
       "    <tr>\n",
       "      <th>4</th>\n",
       "      <td>4.0</td>\n",
       "      <td>2.3</td>\n",
       "      <td>0</td>\n",
       "    </tr>\n",
       "  </tbody>\n",
       "</table>\n",
       "</div>"
      ],
      "text/plain": [
       "     x    y  label\n",
       "0  0.0  2.7      0\n",
       "1  1.0  2.8      0\n",
       "2  2.0  2.2      0\n",
       "3  3.0  2.8      0\n",
       "4  4.0  2.3      0"
      ]
     },
     "execution_count": 9,
     "metadata": {},
     "output_type": "execute_result"
    }
   ],
   "source": [
    "df.head()"
   ]
  },
  {
   "cell_type": "code",
   "execution_count": 10,
   "metadata": {},
   "outputs": [],
   "source": [
    "nb = NaiveBayesClass(df)"
   ]
  },
  {
   "cell_type": "code",
   "execution_count": 11,
   "metadata": {},
   "outputs": [
    {
     "data": {
      "text/plain": [
       "array([0, 1, 2])"
      ]
     },
     "execution_count": 11,
     "metadata": {},
     "output_type": "execute_result"
    }
   ],
   "source": [
    "df.label.unique().astype(int)"
   ]
  },
  {
   "cell_type": "code",
   "execution_count": 12,
   "metadata": {},
   "outputs": [
    {
     "data": {
      "text/plain": [
       "array([0.37826087, 0.27826087, 0.34347826])"
      ]
     },
     "execution_count": 12,
     "metadata": {},
     "output_type": "execute_result"
    }
   ],
   "source": [
    "nb.class_probs"
   ]
  },
  {
   "cell_type": "code",
   "execution_count": 13,
   "metadata": {},
   "outputs": [
    {
     "data": {
      "text/plain": [
       "{0: [630.6666766666666, 0.07937584302560145],\n",
       " 1: [341.25001, 0.10912864885129474],\n",
       " 2: [520.00001, 0.07431219004349557]}"
      ]
     },
     "execution_count": 13,
     "metadata": {},
     "output_type": "execute_result"
    }
   ],
   "source": [
    "nb.class_vars"
   ]
  },
  {
   "cell_type": "code",
   "execution_count": 14,
   "metadata": {},
   "outputs": [
    {
     "data": {
      "text/plain": [
       "{0: [43.0, 2.46206896606533],\n",
       " 1: [81.5, 2.9203125089406967],\n",
       " 2: [119.0, 1.8012658176542837]}"
      ]
     },
     "execution_count": 14,
     "metadata": {},
     "output_type": "execute_result"
    }
   ],
   "source": [
    "nb.class_means"
   ]
  },
  {
   "cell_type": "code",
   "execution_count": 15,
   "metadata": {},
   "outputs": [],
   "source": [
    "predicted_class_label = nb.predict(A[:,:-1])"
   ]
  },
  {
   "cell_type": "code",
   "execution_count": 16,
   "metadata": {},
   "outputs": [
    {
     "name": "stdout",
     "output_type": "stream",
     "text": [
      "predicted_class_label [0, 0, 0, 0, 0, 0, 0, 0, 0, 0, 0, 0, 0, 0, 0, 0, 0, 0, 0, 0, 0, 0, 0, 0, 0, 0, 0, 0, 0, 0, 0, 0, 0, 0, 0, 0, 0, 0, 0, 0, 0, 0, 0, 0, 0, 0, 0, 0, 0, 1, 0, 0, 0, 0, 0, 0, 0, 0, 0, 1, 1, 1, 0, 0, 1, 1, 1, 1, 0, 0, 0, 0, 1, 1, 1, 1, 0, 0, 0, 0, 1, 1, 0, 2, 0, 0, 1, 1, 1, 1, 0, 1, 1, 0, 0, 1, 1, 1, 1, 1, 1, 1, 0, 1, 1, 0, 1, 1, 1, 1, 1, 0, 0, 1, 1, 1, 1, 1, 1, 1, 1, 0, 1, 1, 1, 1, 1, 1, 1, 1, 1, 1, 1, 1, 1, 1, 1, 1, 1, 1, 1, 1, 1, 1, 1, 1, 1, 1, 1, 1, 1, 2, 0, 2, 2, 2, 0, 2, 2, 2, 2, 2, 2, 2, 2, 2, 2, 2, 2, 2, 2, 2, 2, 2, 2, 2, 2, 2, 2, 2, 2, 2, 2, 2, 2, 2, 2, 2, 2, 2, 2, 2, 2, 2, 2, 2, 2, 2, 2, 2, 2, 2, 2, 2, 2, 2, 2, 2, 2, 2, 2, 2, 2, 2, 2, 2, 2, 2, 2, 2, 2, 2, 2, 2, 2, 2, 2, 2, 2, 2]\n"
     ]
    }
   ],
   "source": [
    "print('predicted_class_label', predicted_class_label)"
   ]
  },
  {
   "cell_type": "code",
   "execution_count": 17,
   "metadata": {},
   "outputs": [
    {
     "data": {
      "text/plain": [
       "0.8869565217391304"
      ]
     },
     "execution_count": 17,
     "metadata": {},
     "output_type": "execute_result"
    }
   ],
   "source": [
    "from sklearn.metrics import accuracy_score\n",
    "\n",
    "accuracy_score(predicted_class_label, A[:,-1])"
   ]
  },
  {
   "cell_type": "code",
   "execution_count": 18,
   "metadata": {},
   "outputs": [],
   "source": [
    "from sklearn.naive_bayes import GaussianNB"
   ]
  },
  {
   "cell_type": "code",
   "execution_count": 19,
   "metadata": {},
   "outputs": [
    {
     "data": {
      "text/plain": [
       "GaussianNB(priors=None, var_smoothing=1e-09)"
      ]
     },
     "execution_count": 19,
     "metadata": {},
     "output_type": "execute_result"
    }
   ],
   "source": [
    "clf = GaussianNB()\n",
    "clf.fit(A[:,:-1], A[:,-1])"
   ]
  },
  {
   "cell_type": "code",
   "execution_count": 20,
   "metadata": {},
   "outputs": [
    {
     "name": "stdout",
     "output_type": "stream",
     "text": [
      "[0. 0. 0. 0. 0. 0. 0. 0. 0. 0. 0. 0. 0. 0. 0. 0. 0. 0. 0. 0. 0. 0. 0. 0.\n",
      " 0. 0. 0. 0. 0. 0. 0. 0. 0. 0. 0. 0. 0. 0. 0. 0. 0. 0. 0. 0. 0. 0. 0. 0.\n",
      " 0. 1. 0. 0. 0. 0. 0. 0. 0. 0. 0. 1. 1. 1. 0. 0. 1. 1. 1. 1. 0. 0. 0. 0.\n",
      " 1. 1. 1. 1. 0. 0. 0. 0. 1. 1. 0. 2. 0. 0. 1. 1. 1. 1. 0. 1. 1. 0. 0. 1.\n",
      " 1. 1. 1. 1. 1. 1. 0. 1. 1. 0. 1. 1. 1. 1. 1. 0. 0. 1. 1. 1. 1. 1. 1. 1.\n",
      " 1. 0. 1. 1. 1. 1. 1. 1. 1. 1. 1. 1. 1. 1. 1. 1. 1. 1. 1. 1. 1. 1. 1. 1.\n",
      " 1. 1. 1. 1. 1. 1. 1. 2. 0. 2. 2. 2. 0. 2. 2. 2. 2. 2. 2. 2. 2. 2. 2. 2.\n",
      " 2. 2. 2. 2. 2. 2. 2. 2. 2. 2. 2. 2. 2. 2. 2. 2. 2. 2. 2. 2. 2. 2. 2. 2.\n",
      " 2. 2. 2. 2. 2. 2. 2. 2. 2. 2. 2. 2. 2. 2. 2. 2. 2. 2. 2. 2. 2. 2. 2. 2.\n",
      " 2. 2. 2. 2. 2. 2. 2. 2. 2. 2. 2. 2. 2. 2.]\n"
     ]
    }
   ],
   "source": [
    "sklearn_predicted = clf.predict(A[:,:-1])\n",
    "print(sklearn_predicted)"
   ]
  },
  {
   "cell_type": "code",
   "execution_count": 21,
   "metadata": {},
   "outputs": [
    {
     "data": {
      "text/plain": [
       "0.8869565217391304"
      ]
     },
     "execution_count": 21,
     "metadata": {},
     "output_type": "execute_result"
    }
   ],
   "source": [
    "accuracy_score(sklearn_predicted, A[:,-1])"
   ]
  },
  {
   "cell_type": "code",
   "execution_count": 22,
   "metadata": {},
   "outputs": [],
   "source": [
    "# test dataset\n",
    "\n",
    "y1_test = np.array([np.random.rand(1) + 2 for c in (range(np.random.choice([c+60 for c in range(40)])))])\n",
    "y2_test = np.array([np.random.rand(1) + 2.4 for c in (range(np.random.choice([c+60 for c in range(40)])))])\n",
    "y3_test = np.array([np.random.rand(1) + 1.4 for c in (range(np.random.choice([c+60 for c in range(40)])))])\n",
    "\n",
    "x1_test = np.array(range(len(y1_test)))\n",
    "x2_test = np.array([c+50 for c in range(len(y2_test))])\n",
    "x3_test = np.array([c+80 for c in range(len(y3_test))])\n",
    "\n",
    "a1_test = np.concatenate((x1_test.reshape(-1,1),y1_test,np.array([0 for c in range(len(x1_test))]).reshape(-1,1)), 1)\n",
    "a2_test = np.concatenate((x2_test.reshape(-1,1),y2_test,np.array([1 for c in range(len(x2_test))]).reshape(-1,1)), 1)\n",
    "a3_test = np.concatenate((x3_test.reshape(-1,1),y3_test,np.array([2 for c in range(len(x3_test))]).reshape(-1,1)), 1)\n",
    "\n",
    "A_test = np.concatenate((a1_test,a2_test,a3_test), 0).round(1)\n",
    "np.random.shuffle(A_test)"
   ]
  },
  {
   "cell_type": "code",
   "execution_count": 23,
   "metadata": {},
   "outputs": [
    {
     "data": {
      "text/plain": [
       "array([[ 51. ,   2.9,   1. ],\n",
       "       [ 65. ,   2.9,   1. ],\n",
       "       [147. ,   2.2,   2. ],\n",
       "       [118. ,   3. ,   1. ],\n",
       "       [137. ,   1.8,   2. ]])"
      ]
     },
     "execution_count": 23,
     "metadata": {},
     "output_type": "execute_result"
    }
   ],
   "source": [
    "A_test[:5,:]"
   ]
  },
  {
   "cell_type": "code",
   "execution_count": 24,
   "metadata": {},
   "outputs": [],
   "source": [
    "X_test = A_test[:,:-1]\n",
    "y_test = A_test[:,-1]"
   ]
  },
  {
   "cell_type": "code",
   "execution_count": 25,
   "metadata": {},
   "outputs": [],
   "source": [
    "y_pred_test = nb.predict(X_test)"
   ]
  },
  {
   "cell_type": "code",
   "execution_count": 26,
   "metadata": {},
   "outputs": [
    {
     "data": {
      "text/plain": [
       "[0, 1, 2, 1, 2]"
      ]
     },
     "execution_count": 26,
     "metadata": {},
     "output_type": "execute_result"
    }
   ],
   "source": [
    "y_pred_test[:5]"
   ]
  },
  {
   "cell_type": "code",
   "execution_count": 27,
   "metadata": {},
   "outputs": [
    {
     "data": {
      "text/plain": [
       "0.9142857142857143"
      ]
     },
     "execution_count": 27,
     "metadata": {},
     "output_type": "execute_result"
    }
   ],
   "source": [
    "accuracy_score(y_pred_test, y_test)"
   ]
  },
  {
   "cell_type": "code",
   "execution_count": 28,
   "metadata": {},
   "outputs": [
    {
     "name": "stdout",
     "output_type": "stream",
     "text": [
      "[0. 1. 2. 1. 2. 0. 0. 1. 1. 1. 1. 0. 0. 0. 1. 1. 2. 2. 0. 1. 0. 1. 0. 1.\n",
      " 1. 0. 1. 2. 2. 0. 0. 0. 2. 0. 1. 2. 0. 1. 2. 0. 2. 1. 1. 1. 2. 0. 0. 1.\n",
      " 0. 0. 1. 2. 1. 0. 1. 0. 2. 0. 0. 2. 2. 0. 1. 2. 0. 0. 0. 1. 2. 1. 0. 0.\n",
      " 0. 2. 2. 2. 1. 0. 1. 0. 0. 0. 1. 0. 0. 2. 1. 0. 2. 2. 2. 1. 2. 1. 1. 0.\n",
      " 0. 2. 0. 2. 0. 1. 1. 0. 2. 0. 0. 1. 1. 2. 2. 0. 1. 2. 0. 2. 0. 0. 1. 1.\n",
      " 1. 1. 0. 2. 1. 2. 1. 0. 2. 2. 0. 0. 1. 2. 2. 2. 0. 0. 2. 2. 2. 0. 0. 0.\n",
      " 0. 1. 2. 1. 0. 2. 1. 1. 1. 1. 0. 0. 2. 0. 2. 0. 1. 0. 1. 0. 2. 0. 2. 1.\n",
      " 1. 0. 1. 0. 0. 2. 0. 1. 2. 1. 0. 2. 2. 0. 0. 1. 2. 2. 2. 0. 0. 1. 2. 2.\n",
      " 1. 1. 1. 0. 1. 2. 1. 2. 0. 2. 1. 2. 0. 2. 1. 0. 2. 2.]\n"
     ]
    }
   ],
   "source": [
    "sklearn_predicted_test = clf.predict(X_test)\n",
    "print(sklearn_predicted_test)"
   ]
  },
  {
   "cell_type": "code",
   "execution_count": 29,
   "metadata": {},
   "outputs": [
    {
     "data": {
      "text/plain": [
       "0.9142857142857143"
      ]
     },
     "execution_count": 29,
     "metadata": {},
     "output_type": "execute_result"
    }
   ],
   "source": [
    "accuracy_score(sklearn_predicted_test, y_test)"
   ]
  },
  {
   "cell_type": "markdown",
   "metadata": {},
   "source": [
    "https://en.wikipedia.org/wiki/Confusion_matrix"
   ]
  },
  {
   "cell_type": "code",
   "execution_count": 30,
   "metadata": {},
   "outputs": [],
   "source": [
    "from sklearn.metrics import confusion_matrix  \n",
    "\n",
    "cm = confusion_matrix(y_test, y_pred_test)"
   ]
  },
  {
   "cell_type": "code",
   "execution_count": 31,
   "metadata": {},
   "outputs": [
    {
     "data": {
      "text/plain": [
       "array([[68,  3,  0],\n",
       "       [10, 60,  0],\n",
       "       [ 2,  3, 64]], dtype=int64)"
      ]
     },
     "execution_count": 31,
     "metadata": {},
     "output_type": "execute_result"
    }
   ],
   "source": [
    "cm"
   ]
  },
  {
   "cell_type": "code",
   "execution_count": 32,
   "metadata": {},
   "outputs": [],
   "source": [
    "def conf_mat(y_pred, y_test):\n",
    "    classes = set(map(int, list(y_pred) + list(y_test)))\n",
    "    conf_m = np.zeros((len(classes), len(classes)))\n",
    "    for class_ in classes:\n",
    "        for class2_ in classes:\n",
    "            conf_m[class_, class2_] = ((np.array(y_pred_test) == class_) * (np.array(y_test) == class2_)).sum()\n",
    "    return conf_m.astype(int)"
   ]
  },
  {
   "cell_type": "code",
   "execution_count": 33,
   "metadata": {},
   "outputs": [
    {
     "data": {
      "text/plain": [
       "array([[68, 10,  2],\n",
       "       [ 3, 60,  3],\n",
       "       [ 0,  0, 64]])"
      ]
     },
     "execution_count": 33,
     "metadata": {},
     "output_type": "execute_result"
    }
   ],
   "source": [
    "conf_mat(y_pred_test, y_test)"
   ]
  },
  {
   "cell_type": "code",
   "execution_count": 34,
   "metadata": {},
   "outputs": [],
   "source": [
    "precision = np.diag(cm) / np.sum(cm, axis = 1)\n",
    "recall = np.diag(cm) / np.sum(cm, axis = 0)"
   ]
  },
  {
   "cell_type": "code",
   "execution_count": 35,
   "metadata": {},
   "outputs": [
    {
     "data": {
      "text/plain": [
       "array([0.95774648, 0.85714286, 0.92753623])"
      ]
     },
     "execution_count": 35,
     "metadata": {},
     "output_type": "execute_result"
    }
   ],
   "source": [
    "precision"
   ]
  },
  {
   "cell_type": "code",
   "execution_count": 36,
   "metadata": {},
   "outputs": [
    {
     "data": {
      "text/plain": [
       "array([0.85      , 0.90909091, 1.        ])"
      ]
     },
     "execution_count": 36,
     "metadata": {},
     "output_type": "execute_result"
    }
   ],
   "source": [
    "recall"
   ]
  },
  {
   "cell_type": "code",
   "execution_count": 37,
   "metadata": {},
   "outputs": [
    {
     "data": {
      "text/plain": [
       "0.9169109989821304"
      ]
     },
     "execution_count": 37,
     "metadata": {},
     "output_type": "execute_result"
    }
   ],
   "source": [
    "f1 = 2*np.mean(precision) * np.mean(recall)/(np.mean(precision) + np.mean(recall))\n",
    "f1"
   ]
  },
  {
   "cell_type": "code",
   "execution_count": 38,
   "metadata": {},
   "outputs": [],
   "source": [
    "binary_cm = cm[:2, :2]"
   ]
  },
  {
   "cell_type": "code",
   "execution_count": 39,
   "metadata": {},
   "outputs": [
    {
     "data": {
      "text/plain": [
       "array([[68,  3],\n",
       "       [10, 60]], dtype=int64)"
      ]
     },
     "execution_count": 39,
     "metadata": {},
     "output_type": "execute_result"
    }
   ],
   "source": [
    "binary_cm"
   ]
  },
  {
   "cell_type": "code",
   "execution_count": 40,
   "metadata": {},
   "outputs": [],
   "source": [
    "TPR = binary_cm[0,0]/binary_cm.sum(axis=1)[0]\n",
    "FPR = binary_cm[1,0]/(binary_cm[1,0] + binary_cm[1,1])"
   ]
  },
  {
   "cell_type": "code",
   "execution_count": 41,
   "metadata": {},
   "outputs": [
    {
     "data": {
      "text/plain": [
       "(0.9577464788732394, 0.14285714285714285)"
      ]
     },
     "execution_count": 41,
     "metadata": {},
     "output_type": "execute_result"
    }
   ],
   "source": [
    "TPR, FPR"
   ]
  },
  {
   "cell_type": "markdown",
   "metadata": {},
   "source": [
    "ID3 - Decision tree                                                                                                    \n",
    "https://en.wikipedia.org/wiki/ID3_algorithm                                                                               \n",
    "https://www.youtube.com/watch?v=0wDu42qH1PY&list=PLJOzdkh8T5krxc4HsHbB8g8f0hu7973fK&index=9                                   \n",
    "https://www.python-course.eu/Decision_Trees.php"
   ]
  },
  {
   "cell_type": "code",
   "execution_count": 42,
   "metadata": {},
   "outputs": [],
   "source": [
    "# We'll be using the code from the link above, and we'll update it slightly to adapt another impurity function - Gini\n",
    "\n",
    "data = pd.DataFrame({\"toothed\":[\"True\",\"True\",\"True\",\"False\",\"True\",\"True\",\"True\",\"True\",\"True\",\"False\"],\n",
    "                     \"hair\":[\"True\",\"True\",\"False\",\"True\",\"True\",\"True\",\"False\",\"False\",\"True\",\"False\"],\n",
    "                     \"breathes\":[\"True\",\"True\",\"True\",\"True\",\"True\",\"True\",\"False\",\"True\",\"True\",\"True\"],\n",
    "                     \"legs\":[\"True\",\"True\",\"False\",\"True\",\"True\",\"True\",\"False\",\"False\",\"True\",\"True\"],\n",
    "                     \"species\":[\"Mammal\",\"Mammal\",\"Reptile\",\"Mammal\",\"Mammal\",\"Mammal\",\"Reptile\",\"Reptile\",\"Mammal\",\"Reptile\"]}, \n",
    "                    columns=[\"toothed\",\"hair\",\"breathes\",\"legs\",\"species\"])\n",
    "\n",
    "features = data[[\"toothed\",\"hair\",\"breathes\",\"legs\"]]"
   ]
  },
  {
   "cell_type": "code",
   "execution_count": 43,
   "metadata": {},
   "outputs": [],
   "source": [
    "data.species = data.species.map({'Mammal': 0, 'Reptile': 1})\n",
    "target = data[\"species\"]"
   ]
  },
  {
   "cell_type": "code",
   "execution_count": 44,
   "metadata": {},
   "outputs": [
    {
     "data": {
      "text/html": [
       "<div>\n",
       "<style scoped>\n",
       "    .dataframe tbody tr th:only-of-type {\n",
       "        vertical-align: middle;\n",
       "    }\n",
       "\n",
       "    .dataframe tbody tr th {\n",
       "        vertical-align: top;\n",
       "    }\n",
       "\n",
       "    .dataframe thead th {\n",
       "        text-align: right;\n",
       "    }\n",
       "</style>\n",
       "<table border=\"1\" class=\"dataframe\">\n",
       "  <thead>\n",
       "    <tr style=\"text-align: right;\">\n",
       "      <th></th>\n",
       "      <th>toothed</th>\n",
       "      <th>hair</th>\n",
       "      <th>breathes</th>\n",
       "      <th>legs</th>\n",
       "      <th>species</th>\n",
       "    </tr>\n",
       "  </thead>\n",
       "  <tbody>\n",
       "    <tr>\n",
       "      <th>0</th>\n",
       "      <td>True</td>\n",
       "      <td>True</td>\n",
       "      <td>True</td>\n",
       "      <td>True</td>\n",
       "      <td>0</td>\n",
       "    </tr>\n",
       "    <tr>\n",
       "      <th>1</th>\n",
       "      <td>True</td>\n",
       "      <td>True</td>\n",
       "      <td>True</td>\n",
       "      <td>True</td>\n",
       "      <td>0</td>\n",
       "    </tr>\n",
       "    <tr>\n",
       "      <th>2</th>\n",
       "      <td>True</td>\n",
       "      <td>False</td>\n",
       "      <td>True</td>\n",
       "      <td>False</td>\n",
       "      <td>1</td>\n",
       "    </tr>\n",
       "    <tr>\n",
       "      <th>3</th>\n",
       "      <td>False</td>\n",
       "      <td>True</td>\n",
       "      <td>True</td>\n",
       "      <td>True</td>\n",
       "      <td>0</td>\n",
       "    </tr>\n",
       "    <tr>\n",
       "      <th>4</th>\n",
       "      <td>True</td>\n",
       "      <td>True</td>\n",
       "      <td>True</td>\n",
       "      <td>True</td>\n",
       "      <td>0</td>\n",
       "    </tr>\n",
       "    <tr>\n",
       "      <th>5</th>\n",
       "      <td>True</td>\n",
       "      <td>True</td>\n",
       "      <td>True</td>\n",
       "      <td>True</td>\n",
       "      <td>0</td>\n",
       "    </tr>\n",
       "    <tr>\n",
       "      <th>6</th>\n",
       "      <td>True</td>\n",
       "      <td>False</td>\n",
       "      <td>False</td>\n",
       "      <td>False</td>\n",
       "      <td>1</td>\n",
       "    </tr>\n",
       "    <tr>\n",
       "      <th>7</th>\n",
       "      <td>True</td>\n",
       "      <td>False</td>\n",
       "      <td>True</td>\n",
       "      <td>False</td>\n",
       "      <td>1</td>\n",
       "    </tr>\n",
       "    <tr>\n",
       "      <th>8</th>\n",
       "      <td>True</td>\n",
       "      <td>True</td>\n",
       "      <td>True</td>\n",
       "      <td>True</td>\n",
       "      <td>0</td>\n",
       "    </tr>\n",
       "    <tr>\n",
       "      <th>9</th>\n",
       "      <td>False</td>\n",
       "      <td>False</td>\n",
       "      <td>True</td>\n",
       "      <td>True</td>\n",
       "      <td>1</td>\n",
       "    </tr>\n",
       "  </tbody>\n",
       "</table>\n",
       "</div>"
      ],
      "text/plain": [
       "  toothed   hair breathes   legs  species\n",
       "0    True   True     True   True        0\n",
       "1    True   True     True   True        0\n",
       "2    True  False     True  False        1\n",
       "3   False   True     True   True        0\n",
       "4    True   True     True   True        0\n",
       "5    True   True     True   True        0\n",
       "6    True  False    False  False        1\n",
       "7    True  False     True  False        1\n",
       "8    True   True     True   True        0\n",
       "9   False  False     True   True        1"
      ]
     },
     "execution_count": 44,
     "metadata": {},
     "output_type": "execute_result"
    }
   ],
   "source": [
    "data"
   ]
  },
  {
   "cell_type": "code",
   "execution_count": 45,
   "metadata": {},
   "outputs": [
    {
     "data": {
      "image/png": "[encoded data removed]",
      "text/plain": [
       "<Figure size 432x288 with 1 Axes>"
      ]
     },
     "metadata": {
      "needs_background": "light"
     },
     "output_type": "display_data"
    }
   ],
   "source": [
    "fig=plt.figure()\n",
    "ax=fig.add_subplot(111)\n",
    "\n",
    "ax.plot(np.linspace(0.01,1),np.log2(np.linspace(0.01,1)))\n",
    "ax.set_xlabel(\"P(x)\")\n",
    "ax.set_ylabel(\"log2(P(x))\")\n",
    "\n",
    "plt.show()"
   ]
  },
  {
   "cell_type": "code",
   "execution_count": 46,
   "metadata": {},
   "outputs": [],
   "source": [
    "def impurity(target_col, type_='Entr'):\n",
    "    \"\"\"\n",
    "    Calculate the entropy of a dataset.\n",
    "    The only parameter of this function is the target_col parameter which specifies the target column\n",
    "    \"\"\"\n",
    "    elements, counts = np.unique(target_col,return_counts = True)\n",
    "#     print(elements, counts)\n",
    "    \n",
    "    if type_ == 'Entr':\n",
    "        entropy_ = np.sum([(-counts[i]/np.sum(counts))*np.log2(counts[i]/np.sum(counts)) for i in range(len(elements))])\n",
    "        return entropy_\n",
    "    elif type_ == 'Gini':\n",
    "        gini_ = np.array([2*c/len(target_col)*(1-c/len(target_col)) for c in counts]).sum()\n",
    "        return gini_"
   ]
  },
  {
   "cell_type": "code",
   "execution_count": 47,
   "metadata": {},
   "outputs": [
    {
     "data": {
      "text/plain": [
       "0.64"
      ]
     },
     "execution_count": 47,
     "metadata": {},
     "output_type": "execute_result"
    }
   ],
   "source": [
    "impurity(data.toothed, type_='Gini')"
   ]
  },
  {
   "cell_type": "code",
   "execution_count": 48,
   "metadata": {},
   "outputs": [
    {
     "data": {
      "text/plain": [
       "0.7219280948873623"
      ]
     },
     "execution_count": 48,
     "metadata": {},
     "output_type": "execute_result"
    }
   ],
   "source": [
    "impurity(data.toothed, type_='Entr')"
   ]
  },
  {
   "cell_type": "code",
   "execution_count": 49,
   "metadata": {},
   "outputs": [],
   "source": [
    "def InfoGain(data, split_attribute_name, target_name, type_='Entr'):\n",
    "    \"\"\"\n",
    "    Calculate the information gain of a dataset. This function takes three parameters:\n",
    "    1. data = The dataset for whose feature the IG should be calculated\n",
    "    2. split_attribute_name = the name of the feature for which the information gain should be calculated\n",
    "    3. target_name = the name of the target feature. The default for this example is \"class\"\n",
    "    \"\"\"    \n",
    "    #Calculate the entropy of the total dataset\n",
    "    total_entropy = impurity(data[target_name])\n",
    "#     print(total_entropy)\n",
    "    \n",
    "    #Calculate the values and the corresponding counts for the split attribute \n",
    "    vals,counts = np.unique(data[split_attribute_name],return_counts=True)\n",
    "#     print(vals,counts)\n",
    "    #Calculate the weighted entropy\n",
    "    Weighted_Entropy = np.array([len(data.loc[data[split_attribute_name]==v])/len(data[split_attribute_name])*impurity(data.loc[data[split_attribute_name]==v][target_name].values, type_=type_) for v in vals])\n",
    "#     Weighted_Entropy = np.sum([(counts[i]/np.sum(counts))*impurity(data.where(data[split_attribute_name]==vals[i]).dropna()[target_name]) for i in range(len(vals))])\n",
    "\n",
    "#     Calculate the information gain\n",
    "    Information_Gain = total_entropy - Weighted_Entropy.sum()\n",
    "    return Information_Gain"
   ]
  },
  {
   "cell_type": "code",
   "execution_count": 50,
   "metadata": {},
   "outputs": [],
   "source": [
    "from pprint import pprint\n",
    "\n",
    "def ID3(data, originaldata, features, imp_type='Entr', target_attribute_name=\"class\", parent_node_class = None):\n",
    "    \"\"\"\n",
    "    ID3 Algorithm: This function takes five paramters:\n",
    "    1. data = the data for which the ID3 algorithm should be run --> In the first run this equals the total dataset\n",
    " \n",
    "    2. originaldata = This is the original dataset needed to calculate the mode target feature value of the original dataset\n",
    "    in the case the dataset delivered by the first parameter is empty\n",
    "\n",
    "    3. features = the feature space of the dataset . This is needed for the recursive call since during the tree growing process\n",
    "    we have to remove features from our dataset --> Splitting at each node\n",
    "\n",
    "    4. target_attribute_name = the name of the target attribute\n",
    "\n",
    "    5. parent_node_class = This is the value or class of the mode target feature value of the parent node for a specific node. This is \n",
    "    also needed for the recursive call since if the splitting leads to a situation that there are no more features left in the feature\n",
    "    space, we want to return the mode target feature value of the direct parent node.\n",
    "    \"\"\"   \n",
    "    #Define the stopping criteria --> If one of this is satisfied, we want to return a leaf node#\n",
    "    \n",
    "    #If all target_values have the same value, return this value\n",
    "    if len(np.unique(data[target_attribute_name])) <= 1:\n",
    "        return np.unique(data[target_attribute_name])[0]\n",
    "    \n",
    "    #If the dataset is empty, return the mode target feature value in the original dataset\n",
    "    elif len(data)==0:\n",
    "        return np.unique(originaldata[target_attribute_name])[np.argmax(np.unique(originaldata[target_attribute_name],return_counts=True)[1])]\n",
    "    \n",
    "    #If the feature space is empty, return the mode target feature value of the direct parent node --> Note that\n",
    "    #the direct parent node is that node which has called the current run of the ID3 algorithm and hence\n",
    "    #the mode target feature value is stored in the parent_node_class variable.\n",
    "    \n",
    "    elif len(features) ==0:\n",
    "        return parent_node_class\n",
    "    \n",
    "    #If none of the above holds true, grow the tree!\n",
    "    \n",
    "    else:\n",
    "        #Set the default value for this node --> The mode target feature value of the current node\n",
    "        parent_node_class = np.unique(data[target_attribute_name])[np.argmax(np.unique(data[target_attribute_name],return_counts=True)[1])]\n",
    "        \n",
    "        #Select the feature which best splits the dataset\n",
    "        item_values = [InfoGain(data,feature,target_attribute_name,type_=imp_type) for feature in features] #Return the information gain values for the features in the dataset\n",
    "        best_feature_index = np.argmax(item_values)\n",
    "        best_feature = features[best_feature_index]\n",
    "#         print('best_feature', best_feature)\n",
    "        #Create the tree structure. The root gets the name of the feature (best_feature) with the maximum information\n",
    "        #gain in the first run\n",
    "        tree = {best_feature:{}}\n",
    "        \n",
    "        \n",
    "        #Remove the feature with the best inforamtion gain from the feature space\n",
    "        features = [i for i in features if i != best_feature]\n",
    "        \n",
    "        #Grow a branch under the root node for each possible value of the root node feature\n",
    "        \n",
    "        for value in np.unique(data[best_feature]):\n",
    "            value = value\n",
    "            #Split the dataset along the value of the feature with the largest information gain and therwith create sub_datasets\n",
    "            sub_data = data.where(data[best_feature] == value).dropna()\n",
    "            #Call the ID3 algorithm for each of those sub_datasets with the new parameters --> Here the recursion comes in!\n",
    "            subtree = ID3(sub_data,originaldata,features,imp_type,target_attribute_name, parent_node_class)\n",
    "            \n",
    "            #Add the sub tree, grown from the sub_dataset to the tree under the root node\n",
    "            tree[best_feature][value] = subtree\n",
    "            \n",
    "        return(tree)    "
   ]
  },
  {
   "cell_type": "code",
   "execution_count": 51,
   "metadata": {},
   "outputs": [],
   "source": [
    "def predict(query,tree,default = 1):\n",
    "    \"\"\"\n",
    "    Prediction of a new/unseen query instance. This takes two parameters:\n",
    "    1. The query instance as a dictionary of the shape {\"feature_name\":feature_value,...}\n",
    "\n",
    "    2. The tree \n",
    "\n",
    "\n",
    "    We do this also in a recursive manner. That is, we wander down the tree and check if we have reached a leaf or if we are still in a sub tree. \n",
    "    Since this is a important step to understand, the single steps are extensively commented below.\n",
    "\n",
    "    1.Check for every feature in the query instance if this feature is existing in the tree.keys() for the first call, \n",
    "    tree.keys() only contains the value for the root node \n",
    "    --> if this value is not existing, we can not make a prediction and have to \n",
    "    return the default value which is the majority value of the target feature\n",
    "\n",
    "    2. First of all we have to take care of a important fact: Since we train our model with a database A and then show our model\n",
    "    a unseen query it may happen that the feature values of these query are not existing in our tree model because non of the\n",
    "    training instances has had such a value for this specific feature. \n",
    "    For instance imagine the situation where your model has only seen animals with one to four\n",
    "    legs - The \"legs\" node in your model will only have four outgoing branches (from one to four). If you now show your model\n",
    "    a new instance (animal) which has for the legs feature the vale 5, you have to tell your model what to do in such a \n",
    "    situation because otherwise there is no classification possible because in the classification step you try to \n",
    "    run down the outgoing branch with the value 5 but there is no such a branch. Hence: Error and no Classification!\n",
    "    We can address this issue with a classification value of for instance (999) which tells us that there is no classification\n",
    "    possible or we assign the most frequent target feature value of our dataset used to train the model. Or, in for instance \n",
    "    medical application we can return the most worse case - just to make sure... \n",
    "    We can also return the most frequent value of the direct parent node. To make a long story short, we have to tell the model \n",
    "    what to do in this situation.\n",
    "    In our example, since we are dealing with animal species where a false classification is not that critical, we will assign\n",
    "    the value 1 which is the value for the mammal species (for convenience).\n",
    "\n",
    "    3. Address the key in the tree which fits the value for key --> Note that key == the features in the query. \n",
    "    Because we want the tree to predict the value which is hidden under the key value (imagine you have a drawn tree model on \n",
    "    the table in front of you and you have a query instance for which you want to predict the target feature \n",
    "    - What are you doing? - Correct:\n",
    "    You start at the root node and wander down the tree comparing your query to the node values. Hence you want to have the\n",
    "    value which is hidden under the current node. If this is a leaf, perfect, otherwise you wander the tree deeper until you\n",
    "    get to a leaf node. \n",
    "    Though, you want to have this \"something\" [either leaf or sub_tree] which is hidden under the current node\n",
    "    and hence we must address the node in the tree which == the key value from our query instance. \n",
    "    This is done with tree[keys]. Next you want to run down the branch of this node which is equal to the value given \"behind\"\n",
    "    the key value of your query instance e.g. if you find \"legs\" == to tree.keys() that is, for the first run == the root node.\n",
    "    You want to run deeper and therefore you have to address the branch at your node whose value is == to the value behind key.\n",
    "    This is done with query[key] e.g. query[key] == query['legs'] == 0 --> Therewith we run down the branch of the node with the\n",
    "    value 0. Summarized, in this step we want to address the node which is hidden behind a specific branch of the root node (in the first run)\n",
    "    this is done with: result = [key][query[key]]\n",
    "\n",
    "    4. As said in the 2. step, we run down the tree along nodes and branches until we get to a leaf node.\n",
    "    That is, if result = tree[key][query[key]] returns another tree object (we have represented this by a dict object --> \n",
    "    that is if result is a dict object) we know that we have not arrived at a root node and have to run deeper the tree. \n",
    "    Okay... Look at your drawn tree in front of you... what are you doing?...well, you run down the next branch... \n",
    "    exactly as we have done it above with the slight difference that we already have passed a node and therewith \n",
    "    have to run only a fraction of the tree --> You clever guy! That \"fraction of the tree\" is exactly what we have stored\n",
    "    under 'result'.\n",
    "    So we simply call our predict method using the same query instance (we do not have to drop any features from the query\n",
    "    instance since for instance the feature for the root node will not be available in any of the deeper sub_trees and hence \n",
    "    we will simply not find that feature) as well as the \"reduced / sub_tree\" stored in result.\n",
    "\n",
    "    SUMMARIZED: If we have a query instance consisting of values for features, we take this features and check if the \n",
    "    name of the root node is equal to one of the query features.\n",
    "    If this is true, we run down the root node outgoing branch whose value equals the value of query feature == the root node.\n",
    "    If we find at the end of this branch a leaf node (not a dict object) we return this value (this is our prediction).\n",
    "    If we instead find another node (== sub_tree == dict objct) we search in our query for the feature which equals the value \n",
    "    of that node. Next we look up the value of our query feature and run down the branch whose value is equal to the \n",
    "    query[key] == query feature value. And as you can see this is exactly the recursion we talked about\n",
    "    with the important fact that for each node we run down the tree, we check only the nodes and branches which are \n",
    "    below this node and do not run the whole tree beginning at the root node \n",
    "    --> This is why we re-call the classification function with 'result'\n",
    "    \"\"\"\n",
    "    \n",
    "    \n",
    "    #1.\n",
    "    for key in list(query.keys()):\n",
    "        if key in list(tree.keys()):\n",
    "            #2.\n",
    "            try:\n",
    "                result = tree[key][query[key]] \n",
    "            except:\n",
    "                return default\n",
    "  \n",
    "            #3.\n",
    "            result = tree[key][query[key]]\n",
    "            #4.\n",
    "            if isinstance(result,dict):\n",
    "                return predict(query,result)\n",
    "\n",
    "            else:\n",
    "                return result"
   ]
  },
  {
   "cell_type": "code",
   "execution_count": 52,
   "metadata": {},
   "outputs": [
    {
     "name": "stdout",
     "output_type": "stream",
     "text": [
      "{'hair': {'False': 1.0, 'True': 0.0}}\n"
     ]
    }
   ],
   "source": [
    "\"\"\"\n",
    "Train the tree, Print the tree and predict the accuracy\n",
    "\"\"\"\n",
    "tree = ID3(data, data, data.columns[:-1], imp_type='Gini', target_attribute_name='species')\n",
    "pprint(tree)"
   ]
  },
  {
   "cell_type": "code",
   "execution_count": 53,
   "metadata": {},
   "outputs": [],
   "source": [
    "queries = data.iloc[:,:-1].to_dict(orient = \"records\")"
   ]
  },
  {
   "cell_type": "code",
   "execution_count": 54,
   "metadata": {},
   "outputs": [
    {
     "data": {
      "text/plain": [
       "[{'toothed': 'True', 'hair': 'True', 'breathes': 'True', 'legs': 'True'},\n",
       " {'toothed': 'True', 'hair': 'True', 'breathes': 'True', 'legs': 'True'},\n",
       " {'toothed': 'True', 'hair': 'False', 'breathes': 'True', 'legs': 'False'},\n",
       " {'toothed': 'False', 'hair': 'True', 'breathes': 'True', 'legs': 'True'},\n",
       " {'toothed': 'True', 'hair': 'True', 'breathes': 'True', 'legs': 'True'},\n",
       " {'toothed': 'True', 'hair': 'True', 'breathes': 'True', 'legs': 'True'},\n",
       " {'toothed': 'True', 'hair': 'False', 'breathes': 'False', 'legs': 'False'},\n",
       " {'toothed': 'True', 'hair': 'False', 'breathes': 'True', 'legs': 'False'},\n",
       " {'toothed': 'True', 'hair': 'True', 'breathes': 'True', 'legs': 'True'},\n",
       " {'toothed': 'False', 'hair': 'False', 'breathes': 'True', 'legs': 'True'}]"
      ]
     },
     "execution_count": 54,
     "metadata": {},
     "output_type": "execute_result"
    }
   ],
   "source": [
    "queries"
   ]
  },
  {
   "cell_type": "code",
   "execution_count": 55,
   "metadata": {},
   "outputs": [],
   "source": [
    "#Calculate the prediction accuracy\n",
    "\n",
    "predicted = pd.DataFrame(columns=[\"predicted\"]) \n",
    "    \n",
    "for i in range(len(data)):\n",
    "    predicted.loc[i,\"predicted\"] = predict(queries[i],tree,1.0) "
   ]
  },
  {
   "cell_type": "code",
   "execution_count": 56,
   "metadata": {},
   "outputs": [
    {
     "data": {
      "text/html": [
       "<div>\n",
       "<style scoped>\n",
       "    .dataframe tbody tr th:only-of-type {\n",
       "        vertical-align: middle;\n",
       "    }\n",
       "\n",
       "    .dataframe tbody tr th {\n",
       "        vertical-align: top;\n",
       "    }\n",
       "\n",
       "    .dataframe thead th {\n",
       "        text-align: right;\n",
       "    }\n",
       "</style>\n",
       "<table border=\"1\" class=\"dataframe\">\n",
       "  <thead>\n",
       "    <tr style=\"text-align: right;\">\n",
       "      <th></th>\n",
       "      <th>predicted</th>\n",
       "    </tr>\n",
       "  </thead>\n",
       "  <tbody>\n",
       "    <tr>\n",
       "      <th>0</th>\n",
       "      <td>0.0</td>\n",
       "    </tr>\n",
       "    <tr>\n",
       "      <th>1</th>\n",
       "      <td>0.0</td>\n",
       "    </tr>\n",
       "    <tr>\n",
       "      <th>2</th>\n",
       "      <td>1.0</td>\n",
       "    </tr>\n",
       "    <tr>\n",
       "      <th>3</th>\n",
       "      <td>0.0</td>\n",
       "    </tr>\n",
       "    <tr>\n",
       "      <th>4</th>\n",
       "      <td>0.0</td>\n",
       "    </tr>\n",
       "    <tr>\n",
       "      <th>5</th>\n",
       "      <td>0.0</td>\n",
       "    </tr>\n",
       "    <tr>\n",
       "      <th>6</th>\n",
       "      <td>1.0</td>\n",
       "    </tr>\n",
       "    <tr>\n",
       "      <th>7</th>\n",
       "      <td>1.0</td>\n",
       "    </tr>\n",
       "    <tr>\n",
       "      <th>8</th>\n",
       "      <td>0.0</td>\n",
       "    </tr>\n",
       "    <tr>\n",
       "      <th>9</th>\n",
       "      <td>1.0</td>\n",
       "    </tr>\n",
       "  </tbody>\n",
       "</table>\n",
       "</div>"
      ],
      "text/plain": [
       "   predicted\n",
       "0        0.0\n",
       "1        0.0\n",
       "2        1.0\n",
       "3        0.0\n",
       "4        0.0\n",
       "5        0.0\n",
       "6        1.0\n",
       "7        1.0\n",
       "8        0.0\n",
       "9        1.0"
      ]
     },
     "execution_count": 56,
     "metadata": {},
     "output_type": "execute_result"
    }
   ],
   "source": [
    "predicted"
   ]
  },
  {
   "cell_type": "code",
   "execution_count": 57,
   "metadata": {},
   "outputs": [
    {
     "data": {
      "text/plain": [
       "0    0\n",
       "1    0\n",
       "2    1\n",
       "3    0\n",
       "4    0\n",
       "5    0\n",
       "6    1\n",
       "7    1\n",
       "8    0\n",
       "9    1\n",
       "Name: species, dtype: int64"
      ]
     },
     "execution_count": 57,
     "metadata": {},
     "output_type": "execute_result"
    }
   ],
   "source": [
    "target"
   ]
  },
  {
   "cell_type": "code",
   "execution_count": 58,
   "metadata": {},
   "outputs": [
    {
     "data": {
      "text/plain": [
       "1.0"
      ]
     },
     "execution_count": 58,
     "metadata": {},
     "output_type": "execute_result"
    }
   ],
   "source": [
    "accuracy_score(target, predicted.predicted)"
   ]
  },
  {
   "cell_type": "code",
   "execution_count": 59,
   "metadata": {},
   "outputs": [],
   "source": [
    "data.columns = [*data.columns[:-1], 'label']"
   ]
  },
  {
   "cell_type": "code",
   "execution_count": 60,
   "metadata": {},
   "outputs": [],
   "source": [
    "data = data.replace(['False', 'True'], [0, 1])"
   ]
  },
  {
   "cell_type": "code",
   "execution_count": 61,
   "metadata": {},
   "outputs": [
    {
     "data": {
      "text/html": [
       "<div>\n",
       "<style scoped>\n",
       "    .dataframe tbody tr th:only-of-type {\n",
       "        vertical-align: middle;\n",
       "    }\n",
       "\n",
       "    .dataframe tbody tr th {\n",
       "        vertical-align: top;\n",
       "    }\n",
       "\n",
       "    .dataframe thead th {\n",
       "        text-align: right;\n",
       "    }\n",
       "</style>\n",
       "<table border=\"1\" class=\"dataframe\">\n",
       "  <thead>\n",
       "    <tr style=\"text-align: right;\">\n",
       "      <th></th>\n",
       "      <th>toothed</th>\n",
       "      <th>hair</th>\n",
       "      <th>breathes</th>\n",
       "      <th>legs</th>\n",
       "      <th>label</th>\n",
       "    </tr>\n",
       "  </thead>\n",
       "  <tbody>\n",
       "    <tr>\n",
       "      <th>0</th>\n",
       "      <td>1</td>\n",
       "      <td>1</td>\n",
       "      <td>1</td>\n",
       "      <td>1</td>\n",
       "      <td>0</td>\n",
       "    </tr>\n",
       "    <tr>\n",
       "      <th>1</th>\n",
       "      <td>1</td>\n",
       "      <td>1</td>\n",
       "      <td>1</td>\n",
       "      <td>1</td>\n",
       "      <td>0</td>\n",
       "    </tr>\n",
       "    <tr>\n",
       "      <th>2</th>\n",
       "      <td>1</td>\n",
       "      <td>0</td>\n",
       "      <td>1</td>\n",
       "      <td>0</td>\n",
       "      <td>1</td>\n",
       "    </tr>\n",
       "    <tr>\n",
       "      <th>3</th>\n",
       "      <td>0</td>\n",
       "      <td>1</td>\n",
       "      <td>1</td>\n",
       "      <td>1</td>\n",
       "      <td>0</td>\n",
       "    </tr>\n",
       "    <tr>\n",
       "      <th>4</th>\n",
       "      <td>1</td>\n",
       "      <td>1</td>\n",
       "      <td>1</td>\n",
       "      <td>1</td>\n",
       "      <td>0</td>\n",
       "    </tr>\n",
       "    <tr>\n",
       "      <th>5</th>\n",
       "      <td>1</td>\n",
       "      <td>1</td>\n",
       "      <td>1</td>\n",
       "      <td>1</td>\n",
       "      <td>0</td>\n",
       "    </tr>\n",
       "    <tr>\n",
       "      <th>6</th>\n",
       "      <td>1</td>\n",
       "      <td>0</td>\n",
       "      <td>0</td>\n",
       "      <td>0</td>\n",
       "      <td>1</td>\n",
       "    </tr>\n",
       "    <tr>\n",
       "      <th>7</th>\n",
       "      <td>1</td>\n",
       "      <td>0</td>\n",
       "      <td>1</td>\n",
       "      <td>0</td>\n",
       "      <td>1</td>\n",
       "    </tr>\n",
       "    <tr>\n",
       "      <th>8</th>\n",
       "      <td>1</td>\n",
       "      <td>1</td>\n",
       "      <td>1</td>\n",
       "      <td>1</td>\n",
       "      <td>0</td>\n",
       "    </tr>\n",
       "    <tr>\n",
       "      <th>9</th>\n",
       "      <td>0</td>\n",
       "      <td>0</td>\n",
       "      <td>1</td>\n",
       "      <td>1</td>\n",
       "      <td>1</td>\n",
       "    </tr>\n",
       "  </tbody>\n",
       "</table>\n",
       "</div>"
      ],
      "text/plain": [
       "   toothed  hair  breathes  legs  label\n",
       "0        1     1         1     1      0\n",
       "1        1     1         1     1      0\n",
       "2        1     0         1     0      1\n",
       "3        0     1         1     1      0\n",
       "4        1     1         1     1      0\n",
       "5        1     1         1     1      0\n",
       "6        1     0         0     0      1\n",
       "7        1     0         1     0      1\n",
       "8        1     1         1     1      0\n",
       "9        0     0         1     1      1"
      ]
     },
     "execution_count": 61,
     "metadata": {},
     "output_type": "execute_result"
    }
   ],
   "source": [
    "data"
   ]
  },
  {
   "cell_type": "code",
   "execution_count": 62,
   "metadata": {},
   "outputs": [],
   "source": [
    "nb = NaiveBayesClass(data)"
   ]
  },
  {
   "cell_type": "code",
   "execution_count": 63,
   "metadata": {},
   "outputs": [
    {
     "data": {
      "text/plain": [
       "array([[1, 1, 1, 1],\n",
       "       [1, 1, 1, 1],\n",
       "       [1, 0, 1, 0],\n",
       "       [0, 1, 1, 1],\n",
       "       [1, 1, 1, 1],\n",
       "       [1, 1, 1, 1],\n",
       "       [1, 0, 0, 0],\n",
       "       [1, 0, 1, 0],\n",
       "       [1, 1, 1, 1],\n",
       "       [0, 0, 1, 1]], dtype=int64)"
      ]
     },
     "execution_count": 63,
     "metadata": {},
     "output_type": "execute_result"
    }
   ],
   "source": [
    "data.values[:,:-1]"
   ]
  },
  {
   "cell_type": "code",
   "execution_count": 64,
   "metadata": {},
   "outputs": [],
   "source": [
    "pr_nb = nb.predict(data.values[:,:-1])"
   ]
  },
  {
   "cell_type": "code",
   "execution_count": 65,
   "metadata": {},
   "outputs": [
    {
     "data": {
      "text/plain": [
       "[0, 0, 1, 0, 0, 0, 1, 1, 0, 1]"
      ]
     },
     "execution_count": 65,
     "metadata": {},
     "output_type": "execute_result"
    }
   ],
   "source": [
    "pr_nb"
   ]
  },
  {
   "cell_type": "code",
   "execution_count": 66,
   "metadata": {},
   "outputs": [
    {
     "data": {
      "text/plain": [
       "1.0"
      ]
     },
     "execution_count": 66,
     "metadata": {},
     "output_type": "execute_result"
    }
   ],
   "source": [
    "accuracy_score(target, pr_nb)"
   ]
  },
  {
   "cell_type": "code",
   "execution_count": 67,
   "metadata": {},
   "outputs": [
    {
     "data": {
      "text/plain": [
       "array([0, 0, 1, 0, 0, 0, 1, 1, 0, 1], dtype=int64)"
      ]
     },
     "execution_count": 67,
     "metadata": {},
     "output_type": "execute_result"
    }
   ],
   "source": [
    "clf = GaussianNB()\n",
    "clf.fit(data.values[:,:-1], target)\n",
    "clf.predict(data.values[:,:-1])"
   ]
  },
  {
   "cell_type": "code",
   "execution_count": 68,
   "metadata": {},
   "outputs": [],
   "source": [
    "# testing on the large random dataset"
   ]
  },
  {
   "cell_type": "code",
   "execution_count": 69,
   "metadata": {},
   "outputs": [],
   "source": [
    "df_test = pd.DataFrame(A_test)\n",
    "df_test.columns = ['x', 'y', 'label']\n",
    "df_test = df_test.astype({'x': 'float32', 'y': 'float32', 'label': 'int32'}).round(2)"
   ]
  },
  {
   "cell_type": "code",
   "execution_count": 70,
   "metadata": {
    "scrolled": true
   },
   "outputs": [
    {
     "data": {
      "text/html": [
       "<div>\n",
       "<style scoped>\n",
       "    .dataframe tbody tr th:only-of-type {\n",
       "        vertical-align: middle;\n",
       "    }\n",
       "\n",
       "    .dataframe tbody tr th {\n",
       "        vertical-align: top;\n",
       "    }\n",
       "\n",
       "    .dataframe thead th {\n",
       "        text-align: right;\n",
       "    }\n",
       "</style>\n",
       "<table border=\"1\" class=\"dataframe\">\n",
       "  <thead>\n",
       "    <tr style=\"text-align: right;\">\n",
       "      <th></th>\n",
       "      <th>x</th>\n",
       "      <th>y</th>\n",
       "      <th>label</th>\n",
       "    </tr>\n",
       "  </thead>\n",
       "  <tbody>\n",
       "    <tr>\n",
       "      <th>0</th>\n",
       "      <td>0.0</td>\n",
       "      <td>2.7</td>\n",
       "      <td>0</td>\n",
       "    </tr>\n",
       "    <tr>\n",
       "      <th>1</th>\n",
       "      <td>1.0</td>\n",
       "      <td>2.8</td>\n",
       "      <td>0</td>\n",
       "    </tr>\n",
       "    <tr>\n",
       "      <th>2</th>\n",
       "      <td>2.0</td>\n",
       "      <td>2.2</td>\n",
       "      <td>0</td>\n",
       "    </tr>\n",
       "    <tr>\n",
       "      <th>3</th>\n",
       "      <td>3.0</td>\n",
       "      <td>2.8</td>\n",
       "      <td>0</td>\n",
       "    </tr>\n",
       "    <tr>\n",
       "      <th>4</th>\n",
       "      <td>4.0</td>\n",
       "      <td>2.3</td>\n",
       "      <td>0</td>\n",
       "    </tr>\n",
       "  </tbody>\n",
       "</table>\n",
       "</div>"
      ],
      "text/plain": [
       "     x    y  label\n",
       "0  0.0  2.7      0\n",
       "1  1.0  2.8      0\n",
       "2  2.0  2.2      0\n",
       "3  3.0  2.8      0\n",
       "4  4.0  2.3      0"
      ]
     },
     "execution_count": 70,
     "metadata": {},
     "output_type": "execute_result"
    }
   ],
   "source": [
    "df.head()"
   ]
  },
  {
   "cell_type": "code",
   "execution_count": 71,
   "metadata": {},
   "outputs": [
    {
     "data": {
      "text/html": [
       "<div>\n",
       "<style scoped>\n",
       "    .dataframe tbody tr th:only-of-type {\n",
       "        vertical-align: middle;\n",
       "    }\n",
       "\n",
       "    .dataframe tbody tr th {\n",
       "        vertical-align: top;\n",
       "    }\n",
       "\n",
       "    .dataframe thead th {\n",
       "        text-align: right;\n",
       "    }\n",
       "</style>\n",
       "<table border=\"1\" class=\"dataframe\">\n",
       "  <thead>\n",
       "    <tr style=\"text-align: right;\">\n",
       "      <th></th>\n",
       "      <th>x</th>\n",
       "      <th>y</th>\n",
       "      <th>label</th>\n",
       "    </tr>\n",
       "  </thead>\n",
       "  <tbody>\n",
       "    <tr>\n",
       "      <th>0</th>\n",
       "      <td>51.0</td>\n",
       "      <td>2.9</td>\n",
       "      <td>1</td>\n",
       "    </tr>\n",
       "    <tr>\n",
       "      <th>1</th>\n",
       "      <td>65.0</td>\n",
       "      <td>2.9</td>\n",
       "      <td>1</td>\n",
       "    </tr>\n",
       "    <tr>\n",
       "      <th>2</th>\n",
       "      <td>147.0</td>\n",
       "      <td>2.2</td>\n",
       "      <td>2</td>\n",
       "    </tr>\n",
       "    <tr>\n",
       "      <th>3</th>\n",
       "      <td>118.0</td>\n",
       "      <td>3.0</td>\n",
       "      <td>1</td>\n",
       "    </tr>\n",
       "    <tr>\n",
       "      <th>4</th>\n",
       "      <td>137.0</td>\n",
       "      <td>1.8</td>\n",
       "      <td>2</td>\n",
       "    </tr>\n",
       "  </tbody>\n",
       "</table>\n",
       "</div>"
      ],
      "text/plain": [
       "       x    y  label\n",
       "0   51.0  2.9      1\n",
       "1   65.0  2.9      1\n",
       "2  147.0  2.2      2\n",
       "3  118.0  3.0      1\n",
       "4  137.0  1.8      2"
      ]
     },
     "execution_count": 71,
     "metadata": {},
     "output_type": "execute_result"
    }
   ],
   "source": [
    "df_test.head()"
   ]
  },
  {
   "cell_type": "code",
   "execution_count": 72,
   "metadata": {},
   "outputs": [
    {
     "name": "stdout",
     "output_type": "stream",
     "text": [
      "{'y': {1.4: 2.0,\n",
      "       1.5: 2.0,\n",
      "       1.6: 2.0,\n",
      "       1.7: 2.0,\n",
      "       1.8: 2.0,\n",
      "       1.9: 2.0,\n",
      "       2.0: {'x': {16.0: 0.0,\n",
      "                   29.0: 0.0,\n",
      "                   36.0: 0.0,\n",
      "                   43.0: 0.0,\n",
      "                   88.0: 2.0,\n",
      "                   90.0: 2.0,\n",
      "                   118.0: 2.0,\n",
      "                   122.0: 2.0,\n",
      "                   126.0: 2.0,\n",
      "                   131.0: 2.0,\n",
      "                   135.0: 2.0}},\n",
      "       2.1: {'x': {11.0: 0.0,\n",
      "                   12.0: 0.0,\n",
      "                   19.0: 0.0,\n",
      "                   38.0: 0.0,\n",
      "                   39.0: 0.0,\n",
      "                   50.0: 0.0,\n",
      "                   58.0: 0.0,\n",
      "                   62.0: 0.0,\n",
      "                   68.0: 0.0,\n",
      "                   78.0: 0.0,\n",
      "                   83.0: 0.0,\n",
      "                   91.0: 2.0,\n",
      "                   113.0: 2.0,\n",
      "                   132.0: 2.0}},\n",
      "       2.2: {'x': {2.0: 0.0,\n",
      "                   31.0: 0.0,\n",
      "                   35.0: 0.0,\n",
      "                   41.0: 0.0,\n",
      "                   46.0: 0.0,\n",
      "                   47.0: 0.0,\n",
      "                   52.0: 0.0,\n",
      "                   63.0: 0.0,\n",
      "                   69.0: 0.0,\n",
      "                   70.0: 0.0,\n",
      "                   79.0: 0.0,\n",
      "                   85.0: 0.0,\n",
      "                   89.0: 2.0,\n",
      "                   99.0: 2.0,\n",
      "                   103.0: 2.0,\n",
      "                   112.0: 2.0,\n",
      "                   134.0: 2.0,\n",
      "                   156.0: 2.0}},\n",
      "       2.3: {'x': {4.0: 0.0,\n",
      "                   6.0: 0.0,\n",
      "                   14.0: 0.0,\n",
      "                   18.0: 0.0,\n",
      "                   33.0: 0.0,\n",
      "                   57.0: 0.0,\n",
      "                   81.0: 2.0,\n",
      "                   85.0: 2.0,\n",
      "                   109.0: 2.0,\n",
      "                   129.0: 2.0,\n",
      "                   140.0: 2.0,\n",
      "                   142.0: 2.0,\n",
      "                   155.0: 2.0}},\n",
      "       2.4: {'x': {5.0: 0.0,\n",
      "                   20.0: 0.0,\n",
      "                   21.0: 0.0,\n",
      "                   26.0: 0.0,\n",
      "                   42.0: 0.0,\n",
      "                   56.0: 1.0,\n",
      "                   68.0: 1.0,\n",
      "                   74.0: 1.0,\n",
      "                   75.0: 1.0,\n",
      "                   82.0: 0.0,\n",
      "                   84.0: 0.0,\n",
      "                   85.0: 1.0,\n",
      "                   88.0: 1.0}},\n",
      "       2.5: {'x': {10.0: 0.0,\n",
      "                   13.0: 0.0,\n",
      "                   15.0: 0.0,\n",
      "                   23.0: 0.0,\n",
      "                   27.0: 0.0,\n",
      "                   32.0: 0.0,\n",
      "                   34.0: 0.0,\n",
      "                   37.0: 0.0,\n",
      "                   51.0: 0.0,\n",
      "                   54.0: 0.0,\n",
      "                   56.0: 0.0,\n",
      "                   57.0: 1.0,\n",
      "                   71.0: 0.0,\n",
      "                   76.0: 0.0,\n",
      "                   77.0: 0.0,\n",
      "                   81.0: 0.0,\n",
      "                   86.0: 0.0,\n",
      "                   100.0: 1.0,\n",
      "                   101.0: 1.0,\n",
      "                   104.0: 1.0,\n",
      "                   105.0: 1.0,\n",
      "                   106.0: 1.0,\n",
      "                   109.0: 1.0}},\n",
      "       2.6: {'x': {7.0: 0.0,\n",
      "                   8.0: 0.0,\n",
      "                   9.0: 0.0,\n",
      "                   44.0: 0.0,\n",
      "                   55.0: 0.0,\n",
      "                   65.0: 1.0,\n",
      "                   78.0: 1.0,\n",
      "                   87.0: 1.0,\n",
      "                   89.0: 1.0,\n",
      "                   92.0: 1.0}},\n",
      "       2.7: {'x': {0.0: 0.0,\n",
      "                   17.0: 0.0,\n",
      "                   22.0: 0.0,\n",
      "                   24.0: 0.0,\n",
      "                   25.0: 0.0,\n",
      "                   28.0: 0.0,\n",
      "                   45.0: 0.0,\n",
      "                   53.0: 1.0,\n",
      "                   66.0: 0.0,\n",
      "                   67.0: 0.0,\n",
      "                   75.0: 0.0}},\n",
      "       2.8: {'x': {1.0: 0.0,\n",
      "                   3.0: 0.0,\n",
      "                   30.0: 0.0,\n",
      "                   40.0: 0.0,\n",
      "                   60.0: 1.0,\n",
      "                   65.0: 0.0,\n",
      "                   69.0: 1.0,\n",
      "                   73.0: 0.0,\n",
      "                   74.0: 0.0,\n",
      "                   94.0: 1.0,\n",
      "                   95.0: 1.0,\n",
      "                   102.0: 1.0}},\n",
      "       2.9: {'x': {48.0: 0.0,\n",
      "                   53.0: 0.0,\n",
      "                   60.0: 0.0,\n",
      "                   61.0: 0.0,\n",
      "                   64.0: 0.0,\n",
      "                   67.0: 1.0,\n",
      "                   73.0: 1.0,\n",
      "                   79.0: 1.0,\n",
      "                   96.0: 1.0,\n",
      "                   103.0: 1.0,\n",
      "                   107.0: 1.0}},\n",
      "       3.0: {'x': {49.0: 0.0,\n",
      "                   52.0: 1.0,\n",
      "                   54.0: 1.0,\n",
      "                   59.0: 0.0,\n",
      "                   63.0: 1.0,\n",
      "                   71.0: 1.0,\n",
      "                   72.0: 0.0,\n",
      "                   76.0: 1.0,\n",
      "                   77.0: 1.0,\n",
      "                   80.0: 1.0,\n",
      "                   93.0: 1.0,\n",
      "                   108.0: 1.0}},\n",
      "       3.1: 1.0,\n",
      "       3.2: 1.0,\n",
      "       3.3: 1.0,\n",
      "       3.4: 1.0}}\n"
     ]
    }
   ],
   "source": [
    "tree = ID3(df, df, df.columns[:-1], imp_type='Gini', target_attribute_name='label')\n",
    "pprint(tree)"
   ]
  },
  {
   "cell_type": "code",
   "execution_count": 73,
   "metadata": {},
   "outputs": [],
   "source": [
    "queries_train = df.iloc[:,:-1].to_dict(orient = \"records\")"
   ]
  },
  {
   "cell_type": "code",
   "execution_count": 74,
   "metadata": {},
   "outputs": [],
   "source": [
    "queries_test = df_test.iloc[:,:-1].to_dict(orient = \"records\")"
   ]
  },
  {
   "cell_type": "code",
   "execution_count": 75,
   "metadata": {},
   "outputs": [
    {
     "data": {
      "text/plain": [
       "[{'x': 0.0, 'y': 2.700000047683716},\n",
       " {'x': 1.0, 'y': 2.799999952316284},\n",
       " {'x': 2.0, 'y': 2.200000047683716},\n",
       " {'x': 3.0, 'y': 2.799999952316284},\n",
       " {'x': 4.0, 'y': 2.299999952316284},\n",
       " {'x': 5.0, 'y': 2.4000000953674316},\n",
       " {'x': 6.0, 'y': 2.299999952316284},\n",
       " {'x': 7.0, 'y': 2.5999999046325684},\n",
       " {'x': 8.0, 'y': 2.5999999046325684},\n",
       " {'x': 9.0, 'y': 2.5999999046325684},\n",
       " {'x': 10.0, 'y': 2.5},\n",
       " {'x': 11.0, 'y': 2.0999999046325684},\n",
       " {'x': 12.0, 'y': 2.0999999046325684},\n",
       " {'x': 13.0, 'y': 2.5},\n",
       " {'x': 14.0, 'y': 2.299999952316284},\n",
       " {'x': 15.0, 'y': 2.5},\n",
       " {'x': 16.0, 'y': 2.0},\n",
       " {'x': 17.0, 'y': 2.700000047683716},\n",
       " {'x': 18.0, 'y': 2.299999952316284},\n",
       " {'x': 19.0, 'y': 2.0999999046325684},\n",
       " {'x': 20.0, 'y': 2.4000000953674316},\n",
       " {'x': 21.0, 'y': 2.4000000953674316},\n",
       " {'x': 22.0, 'y': 2.700000047683716},\n",
       " {'x': 23.0, 'y': 2.5},\n",
       " {'x': 24.0, 'y': 2.700000047683716},\n",
       " {'x': 25.0, 'y': 2.700000047683716},\n",
       " {'x': 26.0, 'y': 2.4000000953674316},\n",
       " {'x': 27.0, 'y': 2.5},\n",
       " {'x': 28.0, 'y': 2.700000047683716},\n",
       " {'x': 29.0, 'y': 2.0},\n",
       " {'x': 30.0, 'y': 2.799999952316284},\n",
       " {'x': 31.0, 'y': 2.200000047683716},\n",
       " {'x': 32.0, 'y': 2.5},\n",
       " {'x': 33.0, 'y': 2.299999952316284},\n",
       " {'x': 34.0, 'y': 2.5},\n",
       " {'x': 35.0, 'y': 2.200000047683716},\n",
       " {'x': 36.0, 'y': 2.0},\n",
       " {'x': 37.0, 'y': 2.5},\n",
       " {'x': 38.0, 'y': 2.0999999046325684},\n",
       " {'x': 39.0, 'y': 2.0999999046325684},\n",
       " {'x': 40.0, 'y': 2.799999952316284},\n",
       " {'x': 41.0, 'y': 2.200000047683716},\n",
       " {'x': 42.0, 'y': 2.4000000953674316},\n",
       " {'x': 43.0, 'y': 2.0},\n",
       " {'x': 44.0, 'y': 2.5999999046325684},\n",
       " {'x': 45.0, 'y': 2.700000047683716},\n",
       " {'x': 46.0, 'y': 2.200000047683716},\n",
       " {'x': 47.0, 'y': 2.200000047683716},\n",
       " {'x': 48.0, 'y': 2.9000000953674316},\n",
       " {'x': 49.0, 'y': 3.0},\n",
       " {'x': 50.0, 'y': 2.0999999046325684},\n",
       " {'x': 51.0, 'y': 2.5},\n",
       " {'x': 52.0, 'y': 2.200000047683716},\n",
       " {'x': 53.0, 'y': 2.9000000953674316},\n",
       " {'x': 54.0, 'y': 2.5},\n",
       " {'x': 55.0, 'y': 2.5999999046325684},\n",
       " {'x': 56.0, 'y': 2.5},\n",
       " {'x': 57.0, 'y': 2.299999952316284},\n",
       " {'x': 58.0, 'y': 2.0999999046325684},\n",
       " {'x': 59.0, 'y': 3.0},\n",
       " {'x': 60.0, 'y': 2.9000000953674316},\n",
       " {'x': 61.0, 'y': 2.9000000953674316},\n",
       " {'x': 62.0, 'y': 2.0999999046325684},\n",
       " {'x': 63.0, 'y': 2.200000047683716},\n",
       " {'x': 64.0, 'y': 2.9000000953674316},\n",
       " {'x': 65.0, 'y': 2.799999952316284},\n",
       " {'x': 66.0, 'y': 2.700000047683716},\n",
       " {'x': 67.0, 'y': 2.700000047683716},\n",
       " {'x': 68.0, 'y': 2.0999999046325684},\n",
       " {'x': 69.0, 'y': 2.200000047683716},\n",
       " {'x': 70.0, 'y': 2.200000047683716},\n",
       " {'x': 71.0, 'y': 2.5},\n",
       " {'x': 72.0, 'y': 3.0},\n",
       " {'x': 73.0, 'y': 2.799999952316284},\n",
       " {'x': 74.0, 'y': 2.799999952316284},\n",
       " {'x': 75.0, 'y': 2.700000047683716},\n",
       " {'x': 76.0, 'y': 2.5},\n",
       " {'x': 77.0, 'y': 2.5},\n",
       " {'x': 78.0, 'y': 2.0999999046325684},\n",
       " {'x': 79.0, 'y': 2.200000047683716},\n",
       " {'x': 80.0, 'y': 3.0},\n",
       " {'x': 81.0, 'y': 2.5},\n",
       " {'x': 82.0, 'y': 2.4000000953674316},\n",
       " {'x': 83.0, 'y': 2.0999999046325684},\n",
       " {'x': 84.0, 'y': 2.4000000953674316},\n",
       " {'x': 85.0, 'y': 2.200000047683716},\n",
       " {'x': 86.0, 'y': 2.5},\n",
       " {'x': 50.0, 'y': 3.200000047683716},\n",
       " {'x': 51.0, 'y': 3.4000000953674316},\n",
       " {'x': 52.0, 'y': 3.0},\n",
       " {'x': 53.0, 'y': 2.700000047683716},\n",
       " {'x': 54.0, 'y': 3.0},\n",
       " {'x': 55.0, 'y': 3.4000000953674316},\n",
       " {'x': 56.0, 'y': 2.4000000953674316},\n",
       " {'x': 57.0, 'y': 2.5},\n",
       " {'x': 58.0, 'y': 3.4000000953674316},\n",
       " {'x': 59.0, 'y': 3.200000047683716},\n",
       " {'x': 60.0, 'y': 2.799999952316284},\n",
       " {'x': 61.0, 'y': 3.299999952316284},\n",
       " {'x': 62.0, 'y': 3.299999952316284},\n",
       " {'x': 63.0, 'y': 3.0},\n",
       " {'x': 64.0, 'y': 3.200000047683716},\n",
       " {'x': 65.0, 'y': 2.5999999046325684},\n",
       " {'x': 66.0, 'y': 3.200000047683716},\n",
       " {'x': 67.0, 'y': 2.9000000953674316},\n",
       " {'x': 68.0, 'y': 2.4000000953674316},\n",
       " {'x': 69.0, 'y': 2.799999952316284},\n",
       " {'x': 70.0, 'y': 3.200000047683716},\n",
       " {'x': 71.0, 'y': 3.0},\n",
       " {'x': 72.0, 'y': 3.4000000953674316},\n",
       " {'x': 73.0, 'y': 2.9000000953674316},\n",
       " {'x': 74.0, 'y': 2.4000000953674316},\n",
       " {'x': 75.0, 'y': 2.4000000953674316},\n",
       " {'x': 76.0, 'y': 3.0},\n",
       " {'x': 77.0, 'y': 3.0},\n",
       " {'x': 78.0, 'y': 2.5999999046325684},\n",
       " {'x': 79.0, 'y': 2.9000000953674316},\n",
       " {'x': 80.0, 'y': 3.0},\n",
       " {'x': 81.0, 'y': 3.299999952316284},\n",
       " {'x': 82.0, 'y': 3.299999952316284},\n",
       " {'x': 83.0, 'y': 3.299999952316284},\n",
       " {'x': 84.0, 'y': 2.4000000953674316},\n",
       " {'x': 85.0, 'y': 2.4000000953674316},\n",
       " {'x': 86.0, 'y': 3.299999952316284},\n",
       " {'x': 87.0, 'y': 2.5999999046325684},\n",
       " {'x': 88.0, 'y': 2.4000000953674316},\n",
       " {'x': 89.0, 'y': 2.5999999046325684},\n",
       " {'x': 90.0, 'y': 3.200000047683716},\n",
       " {'x': 91.0, 'y': 3.0999999046325684},\n",
       " {'x': 92.0, 'y': 2.5999999046325684},\n",
       " {'x': 93.0, 'y': 3.0},\n",
       " {'x': 94.0, 'y': 2.799999952316284},\n",
       " {'x': 95.0, 'y': 2.799999952316284},\n",
       " {'x': 96.0, 'y': 2.9000000953674316},\n",
       " {'x': 97.0, 'y': 3.299999952316284},\n",
       " {'x': 98.0, 'y': 3.0999999046325684},\n",
       " {'x': 99.0, 'y': 3.299999952316284},\n",
       " {'x': 100.0, 'y': 2.5},\n",
       " {'x': 101.0, 'y': 2.5},\n",
       " {'x': 102.0, 'y': 2.799999952316284},\n",
       " {'x': 103.0, 'y': 2.9000000953674316},\n",
       " {'x': 104.0, 'y': 2.5},\n",
       " {'x': 105.0, 'y': 2.5},\n",
       " {'x': 106.0, 'y': 2.5},\n",
       " {'x': 107.0, 'y': 2.9000000953674316},\n",
       " {'x': 108.0, 'y': 3.0},\n",
       " {'x': 109.0, 'y': 2.5},\n",
       " {'x': 110.0, 'y': 3.299999952316284},\n",
       " {'x': 111.0, 'y': 3.0999999046325684},\n",
       " {'x': 112.0, 'y': 3.4000000953674316},\n",
       " {'x': 113.0, 'y': 3.299999952316284},\n",
       " {'x': 80.0, 'y': 1.899999976158142},\n",
       " {'x': 81.0, 'y': 2.299999952316284},\n",
       " {'x': 82.0, 'y': 1.5},\n",
       " {'x': 83.0, 'y': 1.7000000476837158},\n",
       " {'x': 84.0, 'y': 1.7000000476837158},\n",
       " {'x': 85.0, 'y': 2.299999952316284},\n",
       " {'x': 86.0, 'y': 1.5},\n",
       " {'x': 87.0, 'y': 1.5},\n",
       " {'x': 88.0, 'y': 2.0},\n",
       " {'x': 89.0, 'y': 2.200000047683716},\n",
       " {'x': 90.0, 'y': 2.0},\n",
       " {'x': 91.0, 'y': 2.0999999046325684},\n",
       " {'x': 92.0, 'y': 1.5},\n",
       " {'x': 93.0, 'y': 1.5},\n",
       " {'x': 94.0, 'y': 1.7999999523162842},\n",
       " {'x': 95.0, 'y': 1.600000023841858},\n",
       " {'x': 96.0, 'y': 1.7999999523162842},\n",
       " {'x': 97.0, 'y': 1.7999999523162842},\n",
       " {'x': 98.0, 'y': 1.600000023841858},\n",
       " {'x': 99.0, 'y': 2.200000047683716},\n",
       " {'x': 100.0, 'y': 1.7999999523162842},\n",
       " {'x': 101.0, 'y': 1.5},\n",
       " {'x': 102.0, 'y': 1.899999976158142},\n",
       " {'x': 103.0, 'y': 2.200000047683716},\n",
       " {'x': 104.0, 'y': 1.899999976158142},\n",
       " {'x': 105.0, 'y': 1.7999999523162842},\n",
       " {'x': 106.0, 'y': 1.600000023841858},\n",
       " {'x': 107.0, 'y': 1.7000000476837158},\n",
       " {'x': 108.0, 'y': 1.899999976158142},\n",
       " {'x': 109.0, 'y': 2.299999952316284},\n",
       " {'x': 110.0, 'y': 1.899999976158142},\n",
       " {'x': 111.0, 'y': 1.5},\n",
       " {'x': 112.0, 'y': 2.200000047683716},\n",
       " {'x': 113.0, 'y': 2.0999999046325684},\n",
       " {'x': 114.0, 'y': 1.399999976158142},\n",
       " {'x': 115.0, 'y': 1.5},\n",
       " {'x': 116.0, 'y': 1.7999999523162842},\n",
       " {'x': 117.0, 'y': 1.7000000476837158},\n",
       " {'x': 118.0, 'y': 2.0},\n",
       " {'x': 119.0, 'y': 1.7000000476837158},\n",
       " {'x': 120.0, 'y': 1.5},\n",
       " {'x': 121.0, 'y': 1.600000023841858},\n",
       " {'x': 122.0, 'y': 2.0},\n",
       " {'x': 123.0, 'y': 1.7999999523162842},\n",
       " {'x': 124.0, 'y': 1.5},\n",
       " {'x': 125.0, 'y': 1.399999976158142},\n",
       " {'x': 126.0, 'y': 2.0},\n",
       " {'x': 127.0, 'y': 1.7000000476837158},\n",
       " {'x': 128.0, 'y': 1.5},\n",
       " {'x': 129.0, 'y': 2.299999952316284},\n",
       " {'x': 130.0, 'y': 1.899999976158142},\n",
       " {'x': 131.0, 'y': 2.0},\n",
       " {'x': 132.0, 'y': 2.0999999046325684},\n",
       " {'x': 133.0, 'y': 1.7999999523162842},\n",
       " {'x': 134.0, 'y': 2.200000047683716},\n",
       " {'x': 135.0, 'y': 2.0},\n",
       " {'x': 136.0, 'y': 1.5},\n",
       " {'x': 137.0, 'y': 1.7000000476837158},\n",
       " {'x': 138.0, 'y': 1.5},\n",
       " {'x': 139.0, 'y': 1.399999976158142},\n",
       " {'x': 140.0, 'y': 2.299999952316284},\n",
       " {'x': 141.0, 'y': 1.600000023841858},\n",
       " {'x': 142.0, 'y': 2.299999952316284},\n",
       " {'x': 143.0, 'y': 1.899999976158142},\n",
       " {'x': 144.0, 'y': 1.899999976158142},\n",
       " {'x': 145.0, 'y': 1.5},\n",
       " {'x': 146.0, 'y': 1.600000023841858},\n",
       " {'x': 147.0, 'y': 1.7000000476837158},\n",
       " {'x': 148.0, 'y': 1.5},\n",
       " {'x': 149.0, 'y': 1.399999976158142},\n",
       " {'x': 150.0, 'y': 1.7000000476837158},\n",
       " {'x': 151.0, 'y': 1.5},\n",
       " {'x': 152.0, 'y': 1.7000000476837158},\n",
       " {'x': 153.0, 'y': 1.899999976158142},\n",
       " {'x': 154.0, 'y': 1.7999999523162842},\n",
       " {'x': 155.0, 'y': 2.299999952316284},\n",
       " {'x': 156.0, 'y': 2.200000047683716},\n",
       " {'x': 157.0, 'y': 1.7000000476837158},\n",
       " {'x': 158.0, 'y': 1.5}]"
      ]
     },
     "execution_count": 75,
     "metadata": {},
     "output_type": "execute_result"
    }
   ],
   "source": [
    "queries_train"
   ]
  },
  {
   "cell_type": "code",
   "execution_count": 76,
   "metadata": {},
   "outputs": [
    {
     "data": {
      "text/plain": [
       "[{'x': 51.0, 'y': 2.9000000953674316},\n",
       " {'x': 65.0, 'y': 2.9000000953674316},\n",
       " {'x': 147.0, 'y': 2.200000047683716},\n",
       " {'x': 118.0, 'y': 3.0},\n",
       " {'x': 137.0, 'y': 1.7999999523162842},\n",
       " {'x': 32.0, 'y': 2.200000047683716},\n",
       " {'x': 51.0, 'y': 2.200000047683716},\n",
       " {'x': 75.0, 'y': 2.799999952316284},\n",
       " {'x': 61.0, 'y': 3.4000000953674316},\n",
       " {'x': 54.0, 'y': 3.0999999046325684},\n",
       " {'x': 78.0, 'y': 2.5999999046325684},\n",
       " {'x': 9.0, 'y': 2.200000047683716},\n",
       " {'x': 56.0, 'y': 2.5},\n",
       " {'x': 57.0, 'y': 2.0},\n",
       " {'x': 67.0, 'y': 2.700000047683716},\n",
       " {'x': 111.0, 'y': 3.0999999046325684},\n",
       " {'x': 95.0, 'y': 2.0},\n",
       " {'x': 144.0, 'y': 2.299999952316284},\n",
       " {'x': 33.0, 'y': 2.0999999046325684},\n",
       " {'x': 117.0, 'y': 2.799999952316284},\n",
       " {'x': 11.0, 'y': 2.700000047683716},\n",
       " {'x': 83.0, 'y': 2.5999999046325684},\n",
       " {'x': 43.0, 'y': 2.0999999046325684},\n",
       " {'x': 52.0, 'y': 3.0},\n",
       " {'x': 64.0, 'y': 3.299999952316284},\n",
       " {'x': 17.0, 'y': 3.0},\n",
       " {'x': 88.0, 'y': 2.5},\n",
       " {'x': 103.0, 'y': 2.0999999046325684},\n",
       " {'x': 148.0, 'y': 2.4000000953674316},\n",
       " {'x': 31.0, 'y': 2.4000000953674316},\n",
       " {'x': 49.0, 'y': 2.299999952316284},\n",
       " {'x': 66.0, 'y': 2.5999999046325684},\n",
       " {'x': 97.0, 'y': 1.899999976158142},\n",
       " {'x': 42.0, 'y': 2.5},\n",
       " {'x': 119.0, 'y': 3.200000047683716},\n",
       " {'x': 136.0, 'y': 1.7999999523162842},\n",
       " {'x': 54.0, 'y': 2.5999999046325684},\n",
       " {'x': 115.0, 'y': 2.700000047683716},\n",
       " {'x': 112.0, 'y': 2.299999952316284},\n",
       " {'x': 53.0, 'y': 2.5999999046325684},\n",
       " {'x': 134.0, 'y': 1.5},\n",
       " {'x': 72.0, 'y': 3.200000047683716},\n",
       " {'x': 116.0, 'y': 3.200000047683716},\n",
       " {'x': 59.0, 'y': 3.0999999046325684},\n",
       " {'x': 110.0, 'y': 1.7000000476837158},\n",
       " {'x': 13.0, 'y': 3.0},\n",
       " {'x': 52.0, 'y': 2.799999952316284},\n",
       " {'x': 50.0, 'y': 3.299999952316284},\n",
       " {'x': 53.0, 'y': 2.5},\n",
       " {'x': 19.0, 'y': 2.9000000953674316},\n",
       " {'x': 67.0, 'y': 3.299999952316284},\n",
       " {'x': 116.0, 'y': 1.7999999523162842},\n",
       " {'x': 99.0, 'y': 2.9000000953674316},\n",
       " {'x': 10.0, 'y': 2.799999952316284},\n",
       " {'x': 87.0, 'y': 2.5999999046325684},\n",
       " {'x': 18.0, 'y': 2.0},\n",
       " {'x': 120.0, 'y': 1.899999976158142},\n",
       " {'x': 0.0, 'y': 2.0},\n",
       " {'x': 44.0, 'y': 2.0999999046325684},\n",
       " {'x': 106.0, 'y': 1.7999999523162842},\n",
       " {'x': 129.0, 'y': 1.5},\n",
       " {'x': 69.0, 'y': 2.299999952316284},\n",
       " {'x': 94.0, 'y': 2.700000047683716},\n",
       " {'x': 91.0, 'y': 1.7999999523162842},\n",
       " {'x': 21.0, 'y': 2.799999952316284},\n",
       " {'x': 38.0, 'y': 2.700000047683716},\n",
       " {'x': 8.0, 'y': 2.700000047683716},\n",
       " {'x': 102.0, 'y': 3.200000047683716},\n",
       " {'x': 131.0, 'y': 2.4000000953674316},\n",
       " {'x': 89.0, 'y': 3.0},\n",
       " {'x': 70.0, 'y': 2.0999999046325684},\n",
       " {'x': 28.0, 'y': 2.5999999046325684},\n",
       " {'x': 41.0, 'y': 3.0},\n",
       " {'x': 119.0, 'y': 2.299999952316284},\n",
       " {'x': 94.0, 'y': 1.5},\n",
       " {'x': 105.0, 'y': 1.899999976158142},\n",
       " {'x': 104.0, 'y': 2.4000000953674316},\n",
       " {'x': 3.0, 'y': 2.799999952316284},\n",
       " {'x': 95.0, 'y': 2.5999999046325684},\n",
       " {'x': 37.0, 'y': 3.0},\n",
       " {'x': 48.0, 'y': 2.0999999046325684},\n",
       " {'x': 58.0, 'y': 2.4000000953674316},\n",
       " {'x': 64.0, 'y': 2.799999952316284},\n",
       " {'x': 24.0, 'y': 2.0999999046325684},\n",
       " {'x': 23.0, 'y': 2.0999999046325684},\n",
       " {'x': 85.0, 'y': 2.0},\n",
       " {'x': 105.0, 'y': 2.5999999046325684},\n",
       " {'x': 66.0, 'y': 2.299999952316284},\n",
       " {'x': 113.0, 'y': 1.5},\n",
       " {'x': 127.0, 'y': 1.600000023841858},\n",
       " {'x': 89.0, 'y': 1.7999999523162842},\n",
       " {'x': 81.0, 'y': 3.299999952316284},\n",
       " {'x': 109.0, 'y': 2.0999999046325684},\n",
       " {'x': 97.0, 'y': 3.200000047683716},\n",
       " {'x': 60.0, 'y': 2.9000000953674316},\n",
       " {'x': 68.0, 'y': 2.4000000953674316},\n",
       " {'x': 68.0, 'y': 2.4000000953674316},\n",
       " {'x': 92.0, 'y': 2.0999999046325684},\n",
       " {'x': 15.0, 'y': 2.5999999046325684},\n",
       " {'x': 122.0, 'y': 2.0999999046325684},\n",
       " {'x': 14.0, 'y': 2.5999999046325684},\n",
       " {'x': 86.0, 'y': 2.799999952316284},\n",
       " {'x': 85.0, 'y': 2.9000000953674316},\n",
       " {'x': 29.0, 'y': 2.700000047683716},\n",
       " {'x': 124.0, 'y': 1.7000000476837158},\n",
       " {'x': 4.0, 'y': 2.799999952316284},\n",
       " {'x': 6.0, 'y': 2.700000047683716},\n",
       " {'x': 90.0, 'y': 2.5999999046325684},\n",
       " {'x': 110.0, 'y': 2.799999952316284},\n",
       " {'x': 140.0, 'y': 2.0},\n",
       " {'x': 141.0, 'y': 2.299999952316284},\n",
       " {'x': 20.0, 'y': 2.5},\n",
       " {'x': 91.0, 'y': 3.0},\n",
       " {'x': 123.0, 'y': 1.899999976158142},\n",
       " {'x': 39.0, 'y': 3.0},\n",
       " {'x': 102.0, 'y': 1.7000000476837158},\n",
       " {'x': 45.0, 'y': 2.799999952316284},\n",
       " {'x': 27.0, 'y': 2.5},\n",
       " {'x': 71.0, 'y': 3.0999999046325684},\n",
       " {'x': 76.0, 'y': 3.0999999046325684},\n",
       " {'x': 107.0, 'y': 2.4000000953674316},\n",
       " {'x': 114.0, 'y': 2.9000000953674316},\n",
       " {'x': 63.0, 'y': 2.4000000953674316},\n",
       " {'x': 138.0, 'y': 2.0},\n",
       " {'x': 101.0, 'y': 2.799999952316284},\n",
       " {'x': 121.0, 'y': 1.7000000476837158},\n",
       " {'x': 96.0, 'y': 2.700000047683716},\n",
       " {'x': 62.0, 'y': 2.4000000953674316},\n",
       " {'x': 115.0, 'y': 1.7999999523162842},\n",
       " {'x': 139.0, 'y': 1.7999999523162842},\n",
       " {'x': 69.0, 'y': 2.4000000953674316},\n",
       " {'x': 59.0, 'y': 2.5999999046325684},\n",
       " {'x': 104.0, 'y': 2.5999999046325684},\n",
       " {'x': 145.0, 'y': 1.5},\n",
       " {'x': 108.0, 'y': 1.899999976158142},\n",
       " {'x': 142.0, 'y': 2.200000047683716},\n",
       " {'x': 40.0, 'y': 2.5},\n",
       " {'x': 25.0, 'y': 2.799999952316284},\n",
       " {'x': 101.0, 'y': 1.7000000476837158},\n",
       " {'x': 133.0, 'y': 1.899999976158142},\n",
       " {'x': 146.0, 'y': 2.4000000953674316},\n",
       " {'x': 56.0, 'y': 2.700000047683716},\n",
       " {'x': 47.0, 'y': 2.9000000953674316},\n",
       " {'x': 36.0, 'y': 3.0},\n",
       " {'x': 55.0, 'y': 2.0},\n",
       " {'x': 103.0, 'y': 2.799999952316284},\n",
       " {'x': 98.0, 'y': 1.899999976158142},\n",
       " {'x': 79.0, 'y': 3.200000047683716},\n",
       " {'x': 22.0, 'y': 2.0},\n",
       " {'x': 128.0, 'y': 1.5},\n",
       " {'x': 58.0, 'y': 3.0},\n",
       " {'x': 107.0, 'y': 3.299999952316284},\n",
       " {'x': 63.0, 'y': 2.9000000953674316},\n",
       " {'x': 92.0, 'y': 2.799999952316284},\n",
       " {'x': 34.0, 'y': 2.200000047683716},\n",
       " {'x': 30.0, 'y': 2.5999999046325684},\n",
       " {'x': 90.0, 'y': 1.899999976158142},\n",
       " {'x': 26.0, 'y': 2.9000000953674316},\n",
       " {'x': 114.0, 'y': 2.0},\n",
       " {'x': 7.0, 'y': 2.5},\n",
       " {'x': 100.0, 'y': 2.700000047683716},\n",
       " {'x': 50.0, 'y': 2.299999952316284},\n",
       " {'x': 112.0, 'y': 3.0999999046325684},\n",
       " {'x': 1.0, 'y': 3.0},\n",
       " {'x': 125.0, 'y': 1.7000000476837158},\n",
       " {'x': 35.0, 'y': 2.5},\n",
       " {'x': 99.0, 'y': 2.0999999046325684},\n",
       " {'x': 96.0, 'y': 2.4000000953674316},\n",
       " {'x': 70.0, 'y': 2.9000000953674316},\n",
       " {'x': 46.0, 'y': 2.700000047683716},\n",
       " {'x': 106.0, 'y': 3.0999999046325684},\n",
       " {'x': 61.0, 'y': 2.700000047683716},\n",
       " {'x': 57.0, 'y': 2.5},\n",
       " {'x': 143.0, 'y': 1.5},\n",
       " {'x': 16.0, 'y': 2.200000047683716},\n",
       " {'x': 80.0, 'y': 2.799999952316284},\n",
       " {'x': 117.0, 'y': 1.5},\n",
       " {'x': 84.0, 'y': 2.5999999046325684},\n",
       " {'x': 5.0, 'y': 2.799999952316284},\n",
       " {'x': 80.0, 'y': 2.0},\n",
       " {'x': 111.0, 'y': 2.0999999046325684},\n",
       " {'x': 82.0, 'y': 2.4000000953674316},\n",
       " {'x': 87.0, 'y': 2.299999952316284},\n",
       " {'x': 113.0, 'y': 3.299999952316284},\n",
       " {'x': 132.0, 'y': 2.4000000953674316},\n",
       " {'x': 82.0, 'y': 2.0999999046325684},\n",
       " {'x': 83.0, 'y': 1.7000000476837158},\n",
       " {'x': 65.0, 'y': 2.200000047683716},\n",
       " {'x': 62.0, 'y': 2.5999999046325684},\n",
       " {'x': 74.0, 'y': 2.799999952316284},\n",
       " {'x': 93.0, 'y': 1.7000000476837158},\n",
       " {'x': 100.0, 'y': 2.299999952316284},\n",
       " {'x': 98.0, 'y': 3.299999952316284},\n",
       " {'x': 108.0, 'y': 2.700000047683716},\n",
       " {'x': 55.0, 'y': 3.4000000953674316},\n",
       " {'x': 86.0, 'y': 2.200000047683716},\n",
       " {'x': 77.0, 'y': 3.0999999046325684},\n",
       " {'x': 135.0, 'y': 2.200000047683716},\n",
       " {'x': 73.0, 'y': 3.0999999046325684},\n",
       " {'x': 118.0, 'y': 1.5},\n",
       " {'x': 12.0, 'y': 2.0},\n",
       " {'x': 126.0, 'y': 1.399999976158142},\n",
       " {'x': 109.0, 'y': 2.5},\n",
       " {'x': 130.0, 'y': 2.200000047683716},\n",
       " {'x': 2.0, 'y': 2.4000000953674316},\n",
       " {'x': 88.0, 'y': 2.200000047683716},\n",
       " {'x': 93.0, 'y': 3.200000047683716},\n",
       " {'x': 60.0, 'y': 2.4000000953674316},\n",
       " {'x': 81.0, 'y': 2.0999999046325684},\n",
       " {'x': 84.0, 'y': 1.399999976158142}]"
      ]
     },
     "execution_count": 76,
     "metadata": {},
     "output_type": "execute_result"
    }
   ],
   "source": [
    "queries_test"
   ]
  },
  {
   "cell_type": "code",
   "execution_count": 77,
   "metadata": {},
   "outputs": [],
   "source": [
    "#Calculate the prediction accuracy\n",
    "\n",
    "predicted_train = pd.DataFrame(columns=[\"predicted\"]) \n",
    "predicted_test = pd.DataFrame(columns=[\"predicted\"])\n",
    "    \n",
    "for i in range(len(df)):\n",
    "    predicted_train.loc[i,\"predicted\"] = predict(queries_train[i],tree,1.0) \n",
    "    \n",
    "    \n",
    "for i in range(len(df_test)):\n",
    "    predicted_test.loc[i,\"predicted\"] = predict(queries_test[i],tree,1.0) "
   ]
  },
  {
   "cell_type": "code",
   "execution_count": 78,
   "metadata": {},
   "outputs": [
    {
     "data": {
      "text/html": [
       "<div>\n",
       "<style scoped>\n",
       "    .dataframe tbody tr th:only-of-type {\n",
       "        vertical-align: middle;\n",
       "    }\n",
       "\n",
       "    .dataframe tbody tr th {\n",
       "        vertical-align: top;\n",
       "    }\n",
       "\n",
       "    .dataframe thead th {\n",
       "        text-align: right;\n",
       "    }\n",
       "</style>\n",
       "<table border=\"1\" class=\"dataframe\">\n",
       "  <thead>\n",
       "    <tr style=\"text-align: right;\">\n",
       "      <th></th>\n",
       "      <th>predicted</th>\n",
       "    </tr>\n",
       "  </thead>\n",
       "  <tbody>\n",
       "    <tr>\n",
       "      <th>0</th>\n",
       "      <td>1.0</td>\n",
       "    </tr>\n",
       "    <tr>\n",
       "      <th>1</th>\n",
       "      <td>1.0</td>\n",
       "    </tr>\n",
       "    <tr>\n",
       "      <th>2</th>\n",
       "      <td>1.0</td>\n",
       "    </tr>\n",
       "    <tr>\n",
       "      <th>3</th>\n",
       "      <td>1.0</td>\n",
       "    </tr>\n",
       "    <tr>\n",
       "      <th>4</th>\n",
       "      <td>2.0</td>\n",
       "    </tr>\n",
       "  </tbody>\n",
       "</table>\n",
       "</div>"
      ],
      "text/plain": [
       "   predicted\n",
       "0        1.0\n",
       "1        1.0\n",
       "2        1.0\n",
       "3        1.0\n",
       "4        2.0"
      ]
     },
     "execution_count": 78,
     "metadata": {},
     "output_type": "execute_result"
    }
   ],
   "source": [
    "predicted_test[:5]"
   ]
  },
  {
   "cell_type": "code",
   "execution_count": 79,
   "metadata": {},
   "outputs": [
    {
     "data": {
      "text/plain": [
       "0.991304347826087"
      ]
     },
     "execution_count": 79,
     "metadata": {},
     "output_type": "execute_result"
    }
   ],
   "source": [
    "# worse than bayesian\n",
    "accuracy_score(predicted_train.predicted, A[:,-1]) # overfit"
   ]
  },
  {
   "cell_type": "code",
   "execution_count": 80,
   "metadata": {},
   "outputs": [
    {
     "data": {
      "text/plain": [
       "0.5095238095238095"
      ]
     },
     "execution_count": 80,
     "metadata": {},
     "output_type": "execute_result"
    }
   ],
   "source": [
    "# worse than bayesian\n",
    "accuracy_score(predicted_test.predicted, A_test[:,-1]) # overfit"
   ]
  },
  {
   "cell_type": "code",
   "execution_count": 81,
   "metadata": {},
   "outputs": [
    {
     "data": {
      "text/plain": [
       "0.9142857142857143"
      ]
     },
     "execution_count": 81,
     "metadata": {},
     "output_type": "execute_result"
    }
   ],
   "source": [
    "accuracy_score(y_pred_test, y_test)"
   ]
  },
  {
   "cell_type": "code",
   "execution_count": 82,
   "metadata": {},
   "outputs": [
    {
     "data": {
      "text/plain": [
       "DecisionTreeClassifier(class_weight=None, criterion='gini', max_depth=None,\n",
       "            max_features=None, max_leaf_nodes=None,\n",
       "            min_impurity_decrease=0.0, min_impurity_split=None,\n",
       "            min_samples_leaf=1, min_samples_split=2,\n",
       "            min_weight_fraction_leaf=0.0, presort=False, random_state=0,\n",
       "            splitter='best')"
      ]
     },
     "execution_count": 82,
     "metadata": {},
     "output_type": "execute_result"
    }
   ],
   "source": [
    "from sklearn.tree import DecisionTreeClassifier\n",
    "clf = DecisionTreeClassifier(random_state=0)\n",
    "\n",
    "clf.fit(A[:,:-1], A[:,-1])"
   ]
  },
  {
   "cell_type": "code",
   "execution_count": 83,
   "metadata": {},
   "outputs": [],
   "source": [
    "c_sk_dt_train = clf.predict(A[:,:-1])\n",
    "c_sk_dt_test = clf.predict(A_test[:,:-1])"
   ]
  },
  {
   "cell_type": "code",
   "execution_count": 84,
   "metadata": {},
   "outputs": [
    {
     "data": {
      "text/plain": [
       "0.991304347826087"
      ]
     },
     "execution_count": 84,
     "metadata": {},
     "output_type": "execute_result"
    }
   ],
   "source": [
    "accuracy_score(c_sk_dt_train, A[:,-1])"
   ]
  },
  {
   "cell_type": "code",
   "execution_count": 85,
   "metadata": {},
   "outputs": [
    {
     "data": {
      "text/plain": [
       "0.8571428571428571"
      ]
     },
     "execution_count": 85,
     "metadata": {},
     "output_type": "execute_result"
    }
   ],
   "source": [
    "accuracy_score(c_sk_dt_test, A_test[:,-1])"
   ]
  },
  {
   "cell_type": "markdown",
   "metadata": {},
   "source": [
    "Evaluation on sklearn breast cancer dataset"
   ]
  },
  {
   "cell_type": "code",
   "execution_count": 86,
   "metadata": {},
   "outputs": [],
   "source": [
    "from sklearn.model_selection import train_test_split\n",
    "from sklearn.datasets import load_breast_cancer"
   ]
  },
  {
   "cell_type": "code",
   "execution_count": 87,
   "metadata": {},
   "outputs": [],
   "source": [
    "X, y = load_breast_cancer(return_X_y=True)\n",
    "X_train, X_test, y_train, y_test = train_test_split(X, y, random_state=0)"
   ]
  },
  {
   "cell_type": "code",
   "execution_count": 88,
   "metadata": {},
   "outputs": [
    {
     "data": {
      "text/plain": [
       "((426, 30), (143, 30), (426,), (143,))"
      ]
     },
     "execution_count": 88,
     "metadata": {},
     "output_type": "execute_result"
    }
   ],
   "source": [
    "X_train.shape, X_test.shape, y_train.shape, y_test.shape"
   ]
  },
  {
   "cell_type": "code",
   "execution_count": 89,
   "metadata": {},
   "outputs": [],
   "source": [
    "train_joined = np.zeros((X_train.shape[0], X_train.shape[1] + 1))\n",
    "train_joined[:, :-1] = X_train\n",
    "train_joined[:, -1] = y_train"
   ]
  },
  {
   "cell_type": "code",
   "execution_count": 90,
   "metadata": {},
   "outputs": [
    {
     "data": {
      "text/plain": [
       "array([[1.185e+01, 1.746e+01, 7.554e+01, ..., 3.101e-01, 7.007e-02,\n",
       "        1.000e+00],\n",
       "       [1.122e+01, 1.986e+01, 7.194e+01, ..., 3.292e-01, 6.522e-02,\n",
       "        1.000e+00],\n",
       "       [2.013e+01, 2.825e+01, 1.312e+02, ..., 2.572e-01, 6.637e-02,\n",
       "        0.000e+00],\n",
       "       ...,\n",
       "       [9.436e+00, 1.832e+01, 5.982e+01, ..., 2.454e-01, 8.136e-02,\n",
       "        1.000e+00],\n",
       "       [9.720e+00, 1.822e+01, 6.073e+01, ..., 1.909e-01, 6.559e-02,\n",
       "        1.000e+00],\n",
       "       [1.151e+01, 2.393e+01, 7.452e+01, ..., 2.112e-01, 8.732e-02,\n",
       "        1.000e+00]])"
      ]
     },
     "execution_count": 90,
     "metadata": {},
     "output_type": "execute_result"
    }
   ],
   "source": [
    "train_joined"
   ]
  },
  {
   "cell_type": "code",
   "execution_count": 91,
   "metadata": {},
   "outputs": [],
   "source": [
    "df_bc = pd.DataFrame(train_joined)\n",
    "df_bc.columns = [c for c in range(X_train.shape[1])] + ['label']\n",
    "df_bc = df_bc.astype({'label': 'int32'})"
   ]
  },
  {
   "cell_type": "code",
   "execution_count": 92,
   "metadata": {},
   "outputs": [
    {
     "data": {
      "text/html": [
       "<div>\n",
       "<style scoped>\n",
       "    .dataframe tbody tr th:only-of-type {\n",
       "        vertical-align: middle;\n",
       "    }\n",
       "\n",
       "    .dataframe tbody tr th {\n",
       "        vertical-align: top;\n",
       "    }\n",
       "\n",
       "    .dataframe thead th {\n",
       "        text-align: right;\n",
       "    }\n",
       "</style>\n",
       "<table border=\"1\" class=\"dataframe\">\n",
       "  <thead>\n",
       "    <tr style=\"text-align: right;\">\n",
       "      <th></th>\n",
       "      <th>0</th>\n",
       "      <th>1</th>\n",
       "      <th>2</th>\n",
       "      <th>3</th>\n",
       "      <th>4</th>\n",
       "      <th>5</th>\n",
       "      <th>6</th>\n",
       "      <th>7</th>\n",
       "      <th>8</th>\n",
       "      <th>9</th>\n",
       "      <th>...</th>\n",
       "      <th>21</th>\n",
       "      <th>22</th>\n",
       "      <th>23</th>\n",
       "      <th>24</th>\n",
       "      <th>25</th>\n",
       "      <th>26</th>\n",
       "      <th>27</th>\n",
       "      <th>28</th>\n",
       "      <th>29</th>\n",
       "      <th>label</th>\n",
       "    </tr>\n",
       "  </thead>\n",
       "  <tbody>\n",
       "    <tr>\n",
       "      <th>0</th>\n",
       "      <td>11.85</td>\n",
       "      <td>17.46</td>\n",
       "      <td>75.54</td>\n",
       "      <td>432.7</td>\n",
       "      <td>0.08372</td>\n",
       "      <td>0.05642</td>\n",
       "      <td>0.026880</td>\n",
       "      <td>0.022800</td>\n",
       "      <td>0.1875</td>\n",
       "      <td>0.05715</td>\n",
       "      <td>...</td>\n",
       "      <td>25.75</td>\n",
       "      <td>84.35</td>\n",
       "      <td>517.8</td>\n",
       "      <td>0.1369</td>\n",
       "      <td>0.17580</td>\n",
       "      <td>0.13160</td>\n",
       "      <td>0.09140</td>\n",
       "      <td>0.3101</td>\n",
       "      <td>0.07007</td>\n",
       "      <td>1</td>\n",
       "    </tr>\n",
       "    <tr>\n",
       "      <th>1</th>\n",
       "      <td>11.22</td>\n",
       "      <td>19.86</td>\n",
       "      <td>71.94</td>\n",
       "      <td>387.3</td>\n",
       "      <td>0.10540</td>\n",
       "      <td>0.06779</td>\n",
       "      <td>0.005006</td>\n",
       "      <td>0.007583</td>\n",
       "      <td>0.1940</td>\n",
       "      <td>0.06028</td>\n",
       "      <td>...</td>\n",
       "      <td>25.78</td>\n",
       "      <td>76.91</td>\n",
       "      <td>436.1</td>\n",
       "      <td>0.1424</td>\n",
       "      <td>0.09669</td>\n",
       "      <td>0.01335</td>\n",
       "      <td>0.02022</td>\n",
       "      <td>0.3292</td>\n",
       "      <td>0.06522</td>\n",
       "      <td>1</td>\n",
       "    </tr>\n",
       "    <tr>\n",
       "      <th>2</th>\n",
       "      <td>20.13</td>\n",
       "      <td>28.25</td>\n",
       "      <td>131.20</td>\n",
       "      <td>1261.0</td>\n",
       "      <td>0.09780</td>\n",
       "      <td>0.10340</td>\n",
       "      <td>0.144000</td>\n",
       "      <td>0.097910</td>\n",
       "      <td>0.1752</td>\n",
       "      <td>0.05533</td>\n",
       "      <td>...</td>\n",
       "      <td>38.25</td>\n",
       "      <td>155.00</td>\n",
       "      <td>1731.0</td>\n",
       "      <td>0.1166</td>\n",
       "      <td>0.19220</td>\n",
       "      <td>0.32150</td>\n",
       "      <td>0.16280</td>\n",
       "      <td>0.2572</td>\n",
       "      <td>0.06637</td>\n",
       "      <td>0</td>\n",
       "    </tr>\n",
       "    <tr>\n",
       "      <th>3</th>\n",
       "      <td>13.59</td>\n",
       "      <td>17.84</td>\n",
       "      <td>86.24</td>\n",
       "      <td>572.3</td>\n",
       "      <td>0.07948</td>\n",
       "      <td>0.04052</td>\n",
       "      <td>0.019970</td>\n",
       "      <td>0.012380</td>\n",
       "      <td>0.1573</td>\n",
       "      <td>0.05520</td>\n",
       "      <td>...</td>\n",
       "      <td>26.10</td>\n",
       "      <td>98.91</td>\n",
       "      <td>739.1</td>\n",
       "      <td>0.1050</td>\n",
       "      <td>0.07622</td>\n",
       "      <td>0.10600</td>\n",
       "      <td>0.05185</td>\n",
       "      <td>0.2335</td>\n",
       "      <td>0.06263</td>\n",
       "      <td>1</td>\n",
       "    </tr>\n",
       "    <tr>\n",
       "      <th>4</th>\n",
       "      <td>16.69</td>\n",
       "      <td>20.20</td>\n",
       "      <td>107.10</td>\n",
       "      <td>857.6</td>\n",
       "      <td>0.07497</td>\n",
       "      <td>0.07112</td>\n",
       "      <td>0.036490</td>\n",
       "      <td>0.023070</td>\n",
       "      <td>0.1846</td>\n",
       "      <td>0.05325</td>\n",
       "      <td>...</td>\n",
       "      <td>26.56</td>\n",
       "      <td>127.30</td>\n",
       "      <td>1084.0</td>\n",
       "      <td>0.1009</td>\n",
       "      <td>0.29200</td>\n",
       "      <td>0.24770</td>\n",
       "      <td>0.08737</td>\n",
       "      <td>0.4677</td>\n",
       "      <td>0.07623</td>\n",
       "      <td>0</td>\n",
       "    </tr>\n",
       "  </tbody>\n",
       "</table>\n",
       "<p>5 rows × 31 columns</p>\n",
       "</div>"
      ],
      "text/plain": [
       "       0      1       2       3        4        5         6         7       8  \\\n",
       "0  11.85  17.46   75.54   432.7  0.08372  0.05642  0.026880  0.022800  0.1875   \n",
       "1  11.22  19.86   71.94   387.3  0.10540  0.06779  0.005006  0.007583  0.1940   \n",
       "2  20.13  28.25  131.20  1261.0  0.09780  0.10340  0.144000  0.097910  0.1752   \n",
       "3  13.59  17.84   86.24   572.3  0.07948  0.04052  0.019970  0.012380  0.1573   \n",
       "4  16.69  20.20  107.10   857.6  0.07497  0.07112  0.036490  0.023070  0.1846   \n",
       "\n",
       "         9  ...     21      22      23      24       25       26       27  \\\n",
       "0  0.05715  ...  25.75   84.35   517.8  0.1369  0.17580  0.13160  0.09140   \n",
       "1  0.06028  ...  25.78   76.91   436.1  0.1424  0.09669  0.01335  0.02022   \n",
       "2  0.05533  ...  38.25  155.00  1731.0  0.1166  0.19220  0.32150  0.16280   \n",
       "3  0.05520  ...  26.10   98.91   739.1  0.1050  0.07622  0.10600  0.05185   \n",
       "4  0.05325  ...  26.56  127.30  1084.0  0.1009  0.29200  0.24770  0.08737   \n",
       "\n",
       "       28       29  label  \n",
       "0  0.3101  0.07007      1  \n",
       "1  0.3292  0.06522      1  \n",
       "2  0.2572  0.06637      0  \n",
       "3  0.2335  0.06263      1  \n",
       "4  0.4677  0.07623      0  \n",
       "\n",
       "[5 rows x 31 columns]"
      ]
     },
     "execution_count": 92,
     "metadata": {},
     "output_type": "execute_result"
    }
   ],
   "source": [
    "df_bc.head()"
   ]
  },
  {
   "cell_type": "code",
   "execution_count": 93,
   "metadata": {},
   "outputs": [],
   "source": [
    "nb_bc = NaiveBayesClass(df_bc)"
   ]
  },
  {
   "cell_type": "code",
   "execution_count": 100,
   "metadata": {},
   "outputs": [
    {
     "data": {
      "text/plain": [
       "[0, 1]"
      ]
     },
     "execution_count": 100,
     "metadata": {},
     "output_type": "execute_result"
    }
   ],
   "source": [
    "nb_bc.classes"
   ]
  },
  {
   "cell_type": "code",
   "execution_count": 107,
   "metadata": {},
   "outputs": [
    {
     "data": {
      "text/plain": [
       "[0, 1, 1, 1, 1]"
      ]
     },
     "execution_count": 107,
     "metadata": {},
     "output_type": "execute_result"
    }
   ],
   "source": [
    "predicted_nb_bc = nb_bc.predict(X_test)\n",
    "predicted_nb_bc[:5]"
   ]
  },
  {
   "cell_type": "code",
   "execution_count": 109,
   "metadata": {},
   "outputs": [
    {
     "data": {
      "text/plain": [
       "array([0, 1, 1, 1, 1])"
      ]
     },
     "execution_count": 109,
     "metadata": {},
     "output_type": "execute_result"
    }
   ],
   "source": [
    "y_test[:5]"
   ]
  },
  {
   "cell_type": "code",
   "execution_count": 111,
   "metadata": {},
   "outputs": [
    {
     "data": {
      "text/plain": [
       "0.916083916083916"
      ]
     },
     "execution_count": 111,
     "metadata": {},
     "output_type": "execute_result"
    }
   ],
   "source": [
    "accuracy_score(np.array(predicted_nb_bc), y_test)"
   ]
  },
  {
   "cell_type": "code",
   "execution_count": 114,
   "metadata": {},
   "outputs": [
    {
     "data": {
      "text/plain": [
       "GaussianNB(priors=None, var_smoothing=1e-09)"
      ]
     },
     "execution_count": 114,
     "metadata": {},
     "output_type": "execute_result"
    }
   ],
   "source": [
    "clf_bc = GaussianNB()\n",
    "clf_bc.fit(X_train, y_train)"
   ]
  },
  {
   "cell_type": "code",
   "execution_count": 115,
   "metadata": {},
   "outputs": [],
   "source": [
    "predicted_clf_bc = clf_bc.predict(X_test)"
   ]
  },
  {
   "cell_type": "code",
   "execution_count": 116,
   "metadata": {},
   "outputs": [
    {
     "data": {
      "text/plain": [
       "array([0, 1, 1, 1, 1])"
      ]
     },
     "execution_count": 116,
     "metadata": {},
     "output_type": "execute_result"
    }
   ],
   "source": [
    "predicted_clf_bc[:5]"
   ]
  },
  {
   "cell_type": "code",
   "execution_count": 117,
   "metadata": {},
   "outputs": [
    {
     "data": {
      "text/plain": [
       "0.9370629370629371"
      ]
     },
     "execution_count": 117,
     "metadata": {},
     "output_type": "execute_result"
    }
   ],
   "source": [
    "accuracy_score(np.array(predicted_clf_bc), y_test)"
   ]
  },
  {
   "cell_type": "code",
   "execution_count": null,
   "metadata": {},
   "outputs": [],
   "source": []
  }
 ],
 "metadata": {
  "kernelspec": {
   "display_name": "Python 3",
   "language": "python",
   "name": "python3"
  },
  "language_info": {
   "codemirror_mode": {
    "name": "ipython",
    "version": 3
   },
   "file_extension": ".py",
   "mimetype": "text/x-python",
   "name": "python",
   "nbconvert_exporter": "python",
   "pygments_lexer": "ipython3",
   "version": "3.7.3"
  }
 },
 "nbformat": 4,
 "nbformat_minor": 2
}
