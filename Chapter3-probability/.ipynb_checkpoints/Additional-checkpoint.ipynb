{
 "cells": [
  {
   "cell_type": "code",
   "execution_count": 1,
   "metadata": {},
   "outputs": [],
   "source": [
    "import numpy as np\n",
    "import pandas as pd\n",
    "import matplotlib.pyplot as plt"
   ]
  },
  {
   "cell_type": "markdown",
   "metadata": {},
   "source": [
    "Gaussian Naive Bayes classifier\n",
    "https://en.wikipedia.org/wiki/Naive_Bayes_classifier"
   ]
  },
  {
   "cell_type": "code",
   "execution_count": 2,
   "metadata": {},
   "outputs": [],
   "source": [
    "y1 = np.array([np.random.rand(1) + 2 for c in (range(np.random.choice([c+60 for c in range(40)])))])\n",
    "y2 = np.array([np.random.rand(1) + 2.4 for c in (range(np.random.choice([c+60 for c in range(40)])))])\n",
    "y3 = np.array([np.random.rand(1) + 1.4 for c in (range(np.random.choice([c+60 for c in range(40)])))])\n",
    "\n",
    "x1 = np.array(range(len(y1)))\n",
    "x2 = np.array([c+50 for c in range(len(y2))])\n",
    "x3 = np.array([c+80 for c in range(len(y3))])"
   ]
  },
  {
   "cell_type": "code",
   "execution_count": 3,
   "metadata": {},
   "outputs": [],
   "source": [
    "# data matrix \n",
    "a1 = np.concatenate((x1.reshape(-1,1),y1,np.array([0 for c in range(len(x1))]).reshape(-1,1)), 1).round(4)\n",
    "a2 = np.concatenate((x2.reshape(-1,1),y2,np.array([1 for c in range(len(x2))]).reshape(-1,1)), 1).round(4)\n",
    "a3 = np.concatenate((x3.reshape(-1,1),y3,np.array([2 for c in range(len(x3))]).reshape(-1,1)), 1).round(4)\n",
    "\n",
    "A = np.concatenate((a1,a2,a3), 0)"
   ]
  },
  {
   "cell_type": "code",
   "execution_count": 4,
   "metadata": {},
   "outputs": [
    {
     "data": {
      "text/plain": [
       "((241, 3), 71, 84, 86)"
      ]
     },
     "execution_count": 4,
     "metadata": {},
     "output_type": "execute_result"
    }
   ],
   "source": [
    "A.shape, y1.shape[0], y2.shape[0], y3.shape[0],"
   ]
  },
  {
   "cell_type": "code",
   "execution_count": 5,
   "metadata": {},
   "outputs": [
    {
     "data": {
      "text/plain": [
       "array([[  0.    ,   2.0265,   0.    ],\n",
       "       [  1.    ,   2.277 ,   0.    ],\n",
       "       [  2.    ,   2.7672,   0.    ],\n",
       "       [  3.    ,   2.7091,   0.    ],\n",
       "       [  4.    ,   2.0278,   0.    ],\n",
       "       [  5.    ,   2.2337,   0.    ],\n",
       "       [  6.    ,   2.2606,   0.    ],\n",
       "       [  7.    ,   2.7312,   0.    ],\n",
       "       [  8.    ,   2.2416,   0.    ],\n",
       "       [  9.    ,   2.747 ,   0.    ],\n",
       "       [ 10.    ,   2.6516,   0.    ],\n",
       "       [ 11.    ,   2.5018,   0.    ],\n",
       "       [ 12.    ,   2.9006,   0.    ],\n",
       "       [ 13.    ,   2.7983,   0.    ],\n",
       "       [ 14.    ,   2.9943,   0.    ],\n",
       "       [ 15.    ,   2.0151,   0.    ],\n",
       "       [ 16.    ,   2.9371,   0.    ],\n",
       "       [ 17.    ,   2.5846,   0.    ],\n",
       "       [ 18.    ,   2.0744,   0.    ],\n",
       "       [ 19.    ,   2.0009,   0.    ],\n",
       "       [ 20.    ,   2.6702,   0.    ],\n",
       "       [ 21.    ,   2.6599,   0.    ],\n",
       "       [ 22.    ,   2.9147,   0.    ],\n",
       "       [ 23.    ,   2.8196,   0.    ],\n",
       "       [ 24.    ,   2.8314,   0.    ],\n",
       "       [ 25.    ,   2.9061,   0.    ],\n",
       "       [ 26.    ,   2.6277,   0.    ],\n",
       "       [ 27.    ,   2.8568,   0.    ],\n",
       "       [ 28.    ,   2.4422,   0.    ],\n",
       "       [ 29.    ,   2.1221,   0.    ],\n",
       "       [ 30.    ,   2.6044,   0.    ],\n",
       "       [ 31.    ,   2.8241,   0.    ],\n",
       "       [ 32.    ,   2.2144,   0.    ],\n",
       "       [ 33.    ,   2.7758,   0.    ],\n",
       "       [ 34.    ,   2.9593,   0.    ],\n",
       "       [ 35.    ,   2.5619,   0.    ],\n",
       "       [ 36.    ,   2.3801,   0.    ],\n",
       "       [ 37.    ,   2.3642,   0.    ],\n",
       "       [ 38.    ,   2.3454,   0.    ],\n",
       "       [ 39.    ,   2.9623,   0.    ],\n",
       "       [ 40.    ,   2.2237,   0.    ],\n",
       "       [ 41.    ,   2.7892,   0.    ],\n",
       "       [ 42.    ,   2.2537,   0.    ],\n",
       "       [ 43.    ,   2.943 ,   0.    ],\n",
       "       [ 44.    ,   2.2847,   0.    ],\n",
       "       [ 45.    ,   2.1871,   0.    ],\n",
       "       [ 46.    ,   2.5437,   0.    ],\n",
       "       [ 47.    ,   2.8691,   0.    ],\n",
       "       [ 48.    ,   2.108 ,   0.    ],\n",
       "       [ 49.    ,   2.7387,   0.    ],\n",
       "       [ 50.    ,   2.3856,   0.    ],\n",
       "       [ 51.    ,   2.0631,   0.    ],\n",
       "       [ 52.    ,   2.264 ,   0.    ],\n",
       "       [ 53.    ,   2.6794,   0.    ],\n",
       "       [ 54.    ,   2.8293,   0.    ],\n",
       "       [ 55.    ,   2.5646,   0.    ],\n",
       "       [ 56.    ,   2.3321,   0.    ],\n",
       "       [ 57.    ,   2.277 ,   0.    ],\n",
       "       [ 58.    ,   2.3763,   0.    ],\n",
       "       [ 59.    ,   2.5315,   0.    ],\n",
       "       [ 60.    ,   2.8005,   0.    ],\n",
       "       [ 61.    ,   2.6155,   0.    ],\n",
       "       [ 62.    ,   2.1017,   0.    ],\n",
       "       [ 63.    ,   2.079 ,   0.    ],\n",
       "       [ 64.    ,   2.6737,   0.    ],\n",
       "       [ 65.    ,   2.432 ,   0.    ],\n",
       "       [ 66.    ,   2.5709,   0.    ],\n",
       "       [ 67.    ,   2.1956,   0.    ],\n",
       "       [ 68.    ,   2.689 ,   0.    ],\n",
       "       [ 69.    ,   2.1036,   0.    ],\n",
       "       [ 70.    ,   2.2608,   0.    ],\n",
       "       [ 50.    ,   3.2144,   1.    ],\n",
       "       [ 51.    ,   3.3767,   1.    ],\n",
       "       [ 52.    ,   2.4639,   1.    ],\n",
       "       [ 53.    ,   3.1608,   1.    ],\n",
       "       [ 54.    ,   2.9834,   1.    ],\n",
       "       [ 55.    ,   2.5951,   1.    ],\n",
       "       [ 56.    ,   2.871 ,   1.    ],\n",
       "       [ 57.    ,   3.0802,   1.    ],\n",
       "       [ 58.    ,   3.2694,   1.    ],\n",
       "       [ 59.    ,   2.6534,   1.    ],\n",
       "       [ 60.    ,   2.9305,   1.    ],\n",
       "       [ 61.    ,   2.8169,   1.    ],\n",
       "       [ 62.    ,   2.4338,   1.    ],\n",
       "       [ 63.    ,   2.6607,   1.    ],\n",
       "       [ 64.    ,   3.0559,   1.    ],\n",
       "       [ 65.    ,   2.4519,   1.    ],\n",
       "       [ 66.    ,   3.169 ,   1.    ],\n",
       "       [ 67.    ,   2.9379,   1.    ],\n",
       "       [ 68.    ,   3.3959,   1.    ],\n",
       "       [ 69.    ,   2.6429,   1.    ],\n",
       "       [ 70.    ,   3.2469,   1.    ],\n",
       "       [ 71.    ,   3.02  ,   1.    ],\n",
       "       [ 72.    ,   3.1755,   1.    ],\n",
       "       [ 73.    ,   3.1113,   1.    ],\n",
       "       [ 74.    ,   2.5434,   1.    ],\n",
       "       [ 75.    ,   3.1626,   1.    ],\n",
       "       [ 76.    ,   3.1813,   1.    ],\n",
       "       [ 77.    ,   3.2721,   1.    ],\n",
       "       [ 78.    ,   3.0472,   1.    ],\n",
       "       [ 79.    ,   3.2389,   1.    ],\n",
       "       [ 80.    ,   2.5316,   1.    ],\n",
       "       [ 81.    ,   2.6648,   1.    ],\n",
       "       [ 82.    ,   2.6969,   1.    ],\n",
       "       [ 83.    ,   2.9245,   1.    ],\n",
       "       [ 84.    ,   2.9461,   1.    ],\n",
       "       [ 85.    ,   3.2768,   1.    ],\n",
       "       [ 86.    ,   2.865 ,   1.    ],\n",
       "       [ 87.    ,   3.3152,   1.    ],\n",
       "       [ 88.    ,   2.5507,   1.    ],\n",
       "       [ 89.    ,   2.7938,   1.    ],\n",
       "       [ 90.    ,   3.3995,   1.    ],\n",
       "       [ 91.    ,   2.9223,   1.    ],\n",
       "       [ 92.    ,   2.9449,   1.    ],\n",
       "       [ 93.    ,   3.1444,   1.    ],\n",
       "       [ 94.    ,   2.7979,   1.    ],\n",
       "       [ 95.    ,   3.2309,   1.    ],\n",
       "       [ 96.    ,   3.0013,   1.    ],\n",
       "       [ 97.    ,   2.8844,   1.    ],\n",
       "       [ 98.    ,   3.0711,   1.    ],\n",
       "       [ 99.    ,   2.6803,   1.    ],\n",
       "       [100.    ,   3.3202,   1.    ],\n",
       "       [101.    ,   2.9473,   1.    ],\n",
       "       [102.    ,   2.8201,   1.    ],\n",
       "       [103.    ,   2.4073,   1.    ],\n",
       "       [104.    ,   3.1762,   1.    ],\n",
       "       [105.    ,   2.9123,   1.    ],\n",
       "       [106.    ,   2.6001,   1.    ],\n",
       "       [107.    ,   3.2401,   1.    ],\n",
       "       [108.    ,   2.7477,   1.    ],\n",
       "       [109.    ,   2.9954,   1.    ],\n",
       "       [110.    ,   3.0251,   1.    ],\n",
       "       [111.    ,   2.9138,   1.    ],\n",
       "       [112.    ,   2.9302,   1.    ],\n",
       "       [113.    ,   3.3753,   1.    ],\n",
       "       [114.    ,   3.2117,   1.    ],\n",
       "       [115.    ,   3.1301,   1.    ],\n",
       "       [116.    ,   2.9422,   1.    ],\n",
       "       [117.    ,   3.1547,   1.    ],\n",
       "       [118.    ,   2.5661,   1.    ],\n",
       "       [119.    ,   2.4423,   1.    ],\n",
       "       [120.    ,   2.964 ,   1.    ],\n",
       "       [121.    ,   3.2602,   1.    ],\n",
       "       [122.    ,   2.5584,   1.    ],\n",
       "       [123.    ,   3.0296,   1.    ],\n",
       "       [124.    ,   2.7959,   1.    ],\n",
       "       [125.    ,   2.7184,   1.    ],\n",
       "       [126.    ,   2.5417,   1.    ],\n",
       "       [127.    ,   2.815 ,   1.    ],\n",
       "       [128.    ,   2.8808,   1.    ],\n",
       "       [129.    ,   2.5247,   1.    ],\n",
       "       [130.    ,   2.6649,   1.    ],\n",
       "       [131.    ,   2.597 ,   1.    ],\n",
       "       [132.    ,   2.7931,   1.    ],\n",
       "       [133.    ,   2.5305,   1.    ],\n",
       "       [ 80.    ,   2.2502,   2.    ],\n",
       "       [ 81.    ,   1.5029,   2.    ],\n",
       "       [ 82.    ,   2.1255,   2.    ],\n",
       "       [ 83.    ,   1.4877,   2.    ],\n",
       "       [ 84.    ,   2.0012,   2.    ],\n",
       "       [ 85.    ,   1.6977,   2.    ],\n",
       "       [ 86.    ,   1.7464,   2.    ],\n",
       "       [ 87.    ,   1.5146,   2.    ],\n",
       "       [ 88.    ,   1.9627,   2.    ],\n",
       "       [ 89.    ,   2.2705,   2.    ],\n",
       "       [ 90.    ,   1.7021,   2.    ],\n",
       "       [ 91.    ,   1.7988,   2.    ],\n",
       "       [ 92.    ,   1.8577,   2.    ],\n",
       "       [ 93.    ,   1.7989,   2.    ],\n",
       "       [ 94.    ,   1.7037,   2.    ],\n",
       "       [ 95.    ,   1.8673,   2.    ],\n",
       "       [ 96.    ,   1.4182,   2.    ],\n",
       "       [ 97.    ,   1.6969,   2.    ],\n",
       "       [ 98.    ,   1.7965,   2.    ],\n",
       "       [ 99.    ,   1.9061,   2.    ],\n",
       "       [100.    ,   1.6632,   2.    ],\n",
       "       [101.    ,   1.8041,   2.    ],\n",
       "       [102.    ,   2.3332,   2.    ],\n",
       "       [103.    ,   1.6374,   2.    ],\n",
       "       [104.    ,   2.2876,   2.    ],\n",
       "       [105.    ,   2.0209,   2.    ],\n",
       "       [106.    ,   1.8884,   2.    ],\n",
       "       [107.    ,   1.6384,   2.    ],\n",
       "       [108.    ,   2.1247,   2.    ],\n",
       "       [109.    ,   2.2341,   2.    ],\n",
       "       [110.    ,   1.6126,   2.    ],\n",
       "       [111.    ,   1.9186,   2.    ],\n",
       "       [112.    ,   1.8487,   2.    ],\n",
       "       [113.    ,   2.0716,   2.    ],\n",
       "       [114.    ,   2.2525,   2.    ],\n",
       "       [115.    ,   1.7618,   2.    ],\n",
       "       [116.    ,   1.9904,   2.    ],\n",
       "       [117.    ,   1.8654,   2.    ],\n",
       "       [118.    ,   2.3103,   2.    ],\n",
       "       [119.    ,   2.2979,   2.    ],\n",
       "       [120.    ,   1.921 ,   2.    ],\n",
       "       [121.    ,   1.8585,   2.    ],\n",
       "       [122.    ,   2.2271,   2.    ],\n",
       "       [123.    ,   1.8574,   2.    ],\n",
       "       [124.    ,   1.9535,   2.    ],\n",
       "       [125.    ,   1.6463,   2.    ],\n",
       "       [126.    ,   1.6891,   2.    ],\n",
       "       [127.    ,   1.9279,   2.    ],\n",
       "       [128.    ,   1.4429,   2.    ],\n",
       "       [129.    ,   1.5954,   2.    ],\n",
       "       [130.    ,   1.6661,   2.    ],\n",
       "       [131.    ,   1.8573,   2.    ],\n",
       "       [132.    ,   1.5123,   2.    ],\n",
       "       [133.    ,   1.5094,   2.    ],\n",
       "       [134.    ,   1.6912,   2.    ],\n",
       "       [135.    ,   2.3619,   2.    ],\n",
       "       [136.    ,   1.4117,   2.    ],\n",
       "       [137.    ,   1.4134,   2.    ],\n",
       "       [138.    ,   1.9898,   2.    ],\n",
       "       [139.    ,   1.4723,   2.    ],\n",
       "       [140.    ,   1.4443,   2.    ],\n",
       "       [141.    ,   2.1663,   2.    ],\n",
       "       [142.    ,   1.4352,   2.    ],\n",
       "       [143.    ,   2.0179,   2.    ],\n",
       "       [144.    ,   1.4227,   2.    ],\n",
       "       [145.    ,   1.7227,   2.    ],\n",
       "       [146.    ,   2.2942,   2.    ],\n",
       "       [147.    ,   1.9286,   2.    ],\n",
       "       [148.    ,   1.7782,   2.    ],\n",
       "       [149.    ,   1.7036,   2.    ],\n",
       "       [150.    ,   2.2045,   2.    ],\n",
       "       [151.    ,   2.0086,   2.    ],\n",
       "       [152.    ,   1.5357,   2.    ],\n",
       "       [153.    ,   1.6537,   2.    ],\n",
       "       [154.    ,   2.3111,   2.    ],\n",
       "       [155.    ,   2.056 ,   2.    ],\n",
       "       [156.    ,   1.6996,   2.    ],\n",
       "       [157.    ,   2.1955,   2.    ],\n",
       "       [158.    ,   2.1581,   2.    ],\n",
       "       [159.    ,   2.0197,   2.    ],\n",
       "       [160.    ,   1.6821,   2.    ],\n",
       "       [161.    ,   1.5385,   2.    ],\n",
       "       [162.    ,   1.6986,   2.    ],\n",
       "       [163.    ,   1.672 ,   2.    ],\n",
       "       [164.    ,   2.0051,   2.    ],\n",
       "       [165.    ,   2.2942,   2.    ]])"
      ]
     },
     "execution_count": 5,
     "metadata": {},
     "output_type": "execute_result"
    }
   ],
   "source": [
    "A"
   ]
  },
  {
   "cell_type": "code",
   "execution_count": 6,
   "metadata": {},
   "outputs": [
    {
     "data": {
      "image/png": "[encoded data removed]",
      "text/plain": [
       "<Figure size 432x288 with 1 Axes>"
      ]
     },
     "metadata": {
      "needs_background": "light"
     },
     "output_type": "display_data"
    }
   ],
   "source": [
    "fig = plt.figure()\n",
    "ax1 = fig.add_subplot(111)\n",
    "\n",
    "ax1.scatter(x1, y1, s=10, c='b', marker=\"o\", label='first')\n",
    "ax1.scatter(x2, y2, s=10, c='g', marker=\"o\", label='second')\n",
    "ax1.scatter(x3, y3, s=10, c='r', marker=\"o\", label='third')\n",
    "plt.legend(loc='upper right');\n",
    "plt.show()"
   ]
  },
  {
   "cell_type": "code",
   "execution_count": 7,
   "metadata": {},
   "outputs": [],
   "source": [
    "class NaiveBayesClass:\n",
    "    def __init__(self, A):\n",
    "        self.data = A\n",
    "        self.classes = self.data.label.unique()\n",
    "        self.class_data = self.__separate_data_by_classes__()\n",
    "        self.class_probs = self.__get_probs_of_each_class__()\n",
    "        self.class_means = self.__get_mean_of_each_class__()\n",
    "        self.class_vars = self.__get_variances_class__()\n",
    "        \n",
    "    def __len__(self):\n",
    "        return self.data.shape[0]\n",
    "    \n",
    "    def __separate_data_by_classes__(self):\n",
    "        c_d = {}\n",
    "        for c in self.classes:\n",
    "            c_d[c] = (self.data.loc[self.data['label'] == c]).values[:,:-1]\n",
    "        return c_d\n",
    "    \n",
    "    def __get_probs_of_each_class__(self):\n",
    "        probs = []\n",
    "        for c in self.classes:\n",
    "            probs.append(len(self.class_data[c])/self.data.shape[0])\n",
    "        return np.array(probs)\n",
    "    \n",
    "    def __get_mean_of_each_class__(self):\n",
    "        means = {}\n",
    "        for c in self.classes:\n",
    "            m = []\n",
    "            for i in range(self.data.shape[1] - 1):\n",
    "                m.append(self.class_data[c][:,i].mean())\n",
    "            means[c] = m\n",
    "        return means\n",
    "    \n",
    "    def __get_variances_class__(self):\n",
    "        variances = {}\n",
    "        for c in self.classes:\n",
    "            va = []\n",
    "            for i in range(self.data.shape[1] - 1):\n",
    "                va.append(self.class_data[c][:,i].var())\n",
    "            variances[c] = va\n",
    "        return variances\n",
    "    \n",
    "    def __get_gaussian_prob__(self, x, mean_, var_):\n",
    "        somnojitels = []\n",
    "        for i in range(x.shape[1]):\n",
    "            x_feat = x[:,i]\n",
    "            somnojitels.append((1/np.sqrt(2*np.pi*var_[i])*np.exp(-1/(2*var_[i])*(x_feat-mean_[i])**2)))\n",
    "        return np.array(somnojitels).prod()\n",
    "    \n",
    "    def predict(self, x):\n",
    "        res = []\n",
    "        for row in x:\n",
    "            pr = []\n",
    "            for c in self.classes:\n",
    "                pr.append(self.class_probs[c]*self.__get_gaussian_prob__(row.reshape(1,-1), self.class_means[c], self.class_vars[c]))\n",
    "            res.append(np.argmax(pr))\n",
    "        return res"
   ]
  },
  {
   "cell_type": "code",
   "execution_count": 8,
   "metadata": {},
   "outputs": [],
   "source": [
    "df = pd.DataFrame(A)\n",
    "df.columns = ['x', 'y', 'label']\n",
    "df = df.astype({'x': 'float32', 'y': 'float32', 'label': 'int32'})"
   ]
  },
  {
   "cell_type": "code",
   "execution_count": 9,
   "metadata": {},
   "outputs": [
    {
     "data": {
      "text/html": [
       "<div>\n",
       "<style scoped>\n",
       "    .dataframe tbody tr th:only-of-type {\n",
       "        vertical-align: middle;\n",
       "    }\n",
       "\n",
       "    .dataframe tbody tr th {\n",
       "        vertical-align: top;\n",
       "    }\n",
       "\n",
       "    .dataframe thead th {\n",
       "        text-align: right;\n",
       "    }\n",
       "</style>\n",
       "<table border=\"1\" class=\"dataframe\">\n",
       "  <thead>\n",
       "    <tr style=\"text-align: right;\">\n",
       "      <th></th>\n",
       "      <th>x</th>\n",
       "      <th>y</th>\n",
       "      <th>label</th>\n",
       "    </tr>\n",
       "  </thead>\n",
       "  <tbody>\n",
       "    <tr>\n",
       "      <th>0</th>\n",
       "      <td>0.0</td>\n",
       "      <td>2.0265</td>\n",
       "      <td>0</td>\n",
       "    </tr>\n",
       "    <tr>\n",
       "      <th>1</th>\n",
       "      <td>1.0</td>\n",
       "      <td>2.2770</td>\n",
       "      <td>0</td>\n",
       "    </tr>\n",
       "    <tr>\n",
       "      <th>2</th>\n",
       "      <td>2.0</td>\n",
       "      <td>2.7672</td>\n",
       "      <td>0</td>\n",
       "    </tr>\n",
       "    <tr>\n",
       "      <th>3</th>\n",
       "      <td>3.0</td>\n",
       "      <td>2.7091</td>\n",
       "      <td>0</td>\n",
       "    </tr>\n",
       "    <tr>\n",
       "      <th>4</th>\n",
       "      <td>4.0</td>\n",
       "      <td>2.0278</td>\n",
       "      <td>0</td>\n",
       "    </tr>\n",
       "  </tbody>\n",
       "</table>\n",
       "</div>"
      ],
      "text/plain": [
       "     x       y  label\n",
       "0  0.0  2.0265      0\n",
       "1  1.0  2.2770      0\n",
       "2  2.0  2.7672      0\n",
       "3  3.0  2.7091      0\n",
       "4  4.0  2.0278      0"
      ]
     },
     "execution_count": 9,
     "metadata": {},
     "output_type": "execute_result"
    }
   ],
   "source": [
    "df.head()"
   ]
  },
  {
   "cell_type": "code",
   "execution_count": 10,
   "metadata": {},
   "outputs": [],
   "source": [
    "nb = NaiveBayesClass(df)"
   ]
  },
  {
   "cell_type": "code",
   "execution_count": 11,
   "metadata": {},
   "outputs": [
    {
     "data": {
      "text/plain": [
       "array([0, 1, 2])"
      ]
     },
     "execution_count": 11,
     "metadata": {},
     "output_type": "execute_result"
    }
   ],
   "source": [
    "df.label.unique().astype(int)"
   ]
  },
  {
   "cell_type": "code",
   "execution_count": 12,
   "metadata": {},
   "outputs": [
    {
     "data": {
      "text/plain": [
       "array([0.29460581, 0.34854772, 0.35684647])"
      ]
     },
     "execution_count": 12,
     "metadata": {},
     "output_type": "execute_result"
    }
   ],
   "source": [
    "nb.class_probs"
   ]
  },
  {
   "cell_type": "code",
   "execution_count": 13,
   "metadata": {},
   "outputs": [
    {
     "data": {
      "text/plain": [
       "{0: [420.0, 0.08703672342605764],\n",
       " 1: [587.9166666666666, 0.0736548964286419],\n",
       " 2: [616.25, 0.07314999059635043]}"
      ]
     },
     "execution_count": 13,
     "metadata": {},
     "output_type": "execute_result"
    }
   ],
   "source": [
    "nb.class_vars"
   ]
  },
  {
   "cell_type": "code",
   "execution_count": 14,
   "metadata": {},
   "outputs": [
    {
     "data": {
      "text/plain": [
       "{0: [35.0, 2.5082971881812726],\n",
       " 1: [91.5, 2.920686897777376],\n",
       " 2: [122.5, 1.85254186253215]}"
      ]
     },
     "execution_count": 14,
     "metadata": {},
     "output_type": "execute_result"
    }
   ],
   "source": [
    "nb.class_means"
   ]
  },
  {
   "cell_type": "code",
   "execution_count": 15,
   "metadata": {},
   "outputs": [],
   "source": [
    "predicted_class_label = nb.predict(A[:,:-1])"
   ]
  },
  {
   "cell_type": "code",
   "execution_count": 16,
   "metadata": {},
   "outputs": [
    {
     "name": "stdout",
     "output_type": "stream",
     "text": [
      "predicted_class_label [0, 0, 0, 0, 0, 0, 0, 0, 0, 0, 0, 0, 0, 0, 0, 0, 0, 0, 0, 0, 0, 0, 0, 0, 0, 0, 0, 0, 0, 0, 0, 0, 0, 0, 0, 0, 0, 0, 0, 0, 0, 0, 0, 0, 0, 0, 0, 0, 0, 0, 0, 0, 0, 0, 0, 0, 0, 0, 0, 0, 1, 0, 0, 0, 1, 0, 0, 0, 1, 0, 0, 1, 1, 0, 1, 1, 0, 1, 1, 1, 0, 1, 1, 0, 1, 1, 0, 1, 1, 1, 1, 1, 1, 1, 1, 1, 1, 1, 1, 1, 1, 1, 1, 1, 1, 1, 1, 1, 1, 1, 1, 1, 1, 1, 1, 1, 1, 1, 1, 1, 1, 1, 1, 1, 1, 1, 1, 1, 1, 1, 1, 1, 1, 1, 1, 1, 1, 1, 1, 1, 1, 1, 1, 1, 1, 1, 1, 1, 1, 1, 1, 1, 1, 1, 1, 2, 2, 2, 2, 2, 2, 2, 2, 2, 2, 2, 2, 2, 2, 2, 2, 2, 2, 2, 2, 2, 2, 2, 2, 2, 2, 2, 2, 2, 2, 2, 2, 2, 2, 2, 2, 2, 2, 2, 2, 2, 2, 2, 2, 2, 2, 2, 2, 2, 2, 2, 2, 2, 2, 2, 2, 2, 2, 2, 2, 2, 2, 2, 2, 2, 2, 2, 2, 2, 2, 2, 2, 2, 2, 2, 2, 2, 2, 2, 2, 2, 2, 2, 2, 2, 2]\n"
     ]
    }
   ],
   "source": [
    "print('predicted_class_label', predicted_class_label)"
   ]
  },
  {
   "cell_type": "code",
   "execution_count": 17,
   "metadata": {},
   "outputs": [
    {
     "data": {
      "text/plain": [
       "0.966804979253112"
      ]
     },
     "execution_count": 17,
     "metadata": {},
     "output_type": "execute_result"
    }
   ],
   "source": [
    "from sklearn.metrics import accuracy_score\n",
    "\n",
    "accuracy_score(predicted_class_label, A[:,-1])"
   ]
  },
  {
   "cell_type": "code",
   "execution_count": 18,
   "metadata": {},
   "outputs": [],
   "source": [
    "from sklearn.naive_bayes import GaussianNB"
   ]
  },
  {
   "cell_type": "code",
   "execution_count": 19,
   "metadata": {},
   "outputs": [
    {
     "data": {
      "text/plain": [
       "GaussianNB(priors=None, var_smoothing=1e-09)"
      ]
     },
     "execution_count": 19,
     "metadata": {},
     "output_type": "execute_result"
    }
   ],
   "source": [
    "clf = GaussianNB()\n",
    "clf.fit(A[:,:-1], A[:,-1])"
   ]
  },
  {
   "cell_type": "code",
   "execution_count": 20,
   "metadata": {},
   "outputs": [
    {
     "name": "stdout",
     "output_type": "stream",
     "text": [
      "[0. 0. 0. 0. 0. 0. 0. 0. 0. 0. 0. 0. 0. 0. 0. 0. 0. 0. 0. 0. 0. 0. 0. 0.\n",
      " 0. 0. 0. 0. 0. 0. 0. 0. 0. 0. 0. 0. 0. 0. 0. 0. 0. 0. 0. 0. 0. 0. 0. 0.\n",
      " 0. 0. 0. 0. 0. 0. 0. 0. 0. 0. 0. 0. 1. 0. 0. 0. 1. 0. 0. 0. 1. 0. 0. 1.\n",
      " 1. 0. 1. 1. 0. 1. 1. 1. 0. 1. 1. 0. 1. 1. 0. 1. 1. 1. 1. 1. 1. 1. 1. 1.\n",
      " 1. 1. 1. 1. 1. 1. 1. 1. 1. 1. 1. 1. 1. 1. 1. 1. 1. 1. 1. 1. 1. 1. 1. 1.\n",
      " 1. 1. 1. 1. 1. 1. 1. 1. 1. 1. 1. 1. 1. 1. 1. 1. 1. 1. 1. 1. 1. 1. 1. 1.\n",
      " 1. 1. 1. 1. 1. 1. 1. 1. 1. 1. 1. 2. 2. 2. 2. 2. 2. 2. 2. 2. 2. 2. 2. 2.\n",
      " 2. 2. 2. 2. 2. 2. 2. 2. 2. 2. 2. 2. 2. 2. 2. 2. 2. 2. 2. 2. 2. 2. 2. 2.\n",
      " 2. 2. 2. 2. 2. 2. 2. 2. 2. 2. 2. 2. 2. 2. 2. 2. 2. 2. 2. 2. 2. 2. 2. 2.\n",
      " 2. 2. 2. 2. 2. 2. 2. 2. 2. 2. 2. 2. 2. 2. 2. 2. 2. 2. 2. 2. 2. 2. 2. 2.\n",
      " 2.]\n"
     ]
    }
   ],
   "source": [
    "sklearn_predicted = clf.predict(A[:,:-1])\n",
    "print(sklearn_predicted)"
   ]
  },
  {
   "cell_type": "code",
   "execution_count": 21,
   "metadata": {},
   "outputs": [
    {
     "data": {
      "text/plain": [
       "0.966804979253112"
      ]
     },
     "execution_count": 21,
     "metadata": {},
     "output_type": "execute_result"
    }
   ],
   "source": [
    "accuracy_score(sklearn_predicted, A[:,-1])"
   ]
  },
  {
   "cell_type": "code",
   "execution_count": 22,
   "metadata": {},
   "outputs": [],
   "source": [
    "# test dataset\n",
    "\n",
    "y1_test = np.array([np.random.rand(1) + 2 for c in (range(np.random.choice([c+60 for c in range(40)])))])\n",
    "y2_test = np.array([np.random.rand(1) + 2.4 for c in (range(np.random.choice([c+60 for c in range(40)])))])\n",
    "y3_test = np.array([np.random.rand(1) + 1.4 for c in (range(np.random.choice([c+60 for c in range(40)])))])\n",
    "\n",
    "x1_test = np.array(range(len(y1_test)))\n",
    "x2_test = np.array([c+50 for c in range(len(y2_test))])\n",
    "x3_test = np.array([c+80 for c in range(len(y3_test))])\n",
    "\n",
    "a1_test = np.concatenate((x1_test.reshape(-1,1),y1_test,np.array([0 for c in range(len(x1_test))]).reshape(-1,1)), 1).round(1)\n",
    "a2_test = np.concatenate((x2_test.reshape(-1,1),y2_test,np.array([1 for c in range(len(x2_test))]).reshape(-1,1)), 1).round(1)\n",
    "a3_test = np.concatenate((x3_test.reshape(-1,1),y3_test,np.array([2 for c in range(len(x3_test))]).reshape(-1,1)), 1).round(1)\n",
    "\n",
    "A_test = np.concatenate((a1_test,a2_test,a3_test), 0)\n",
    "np.random.shuffle(A_test)"
   ]
  },
  {
   "cell_type": "code",
   "execution_count": 23,
   "metadata": {},
   "outputs": [
    {
     "data": {
      "text/plain": [
       "array([[115. ,   1.6,   2. ],\n",
       "       [134. ,   1.6,   2. ],\n",
       "       [ 64. ,   3.3,   1. ],\n",
       "       [ 27. ,   2.5,   0. ],\n",
       "       [ 58. ,   2.1,   0. ],\n",
       "       [ 17. ,   2.4,   0. ],\n",
       "       [140. ,   3. ,   1. ],\n",
       "       [ 68. ,   3.4,   1. ],\n",
       "       [ 42. ,   2.9,   0. ],\n",
       "       [ 91. ,   2.6,   1. ],\n",
       "       [  5. ,   2.3,   0. ],\n",
       "       [ 81. ,   1.8,   2. ],\n",
       "       [ 77. ,   2.4,   0. ],\n",
       "       [ 43. ,   2.7,   0. ],\n",
       "       [ 97. ,   1.5,   2. ],\n",
       "       [ 54. ,   2.3,   0. ],\n",
       "       [108. ,   1.9,   2. ],\n",
       "       [121. ,   3.2,   1. ],\n",
       "       [ 50. ,   2.7,   0. ],\n",
       "       [ 92. ,   2.3,   2. ],\n",
       "       [100. ,   3.1,   1. ],\n",
       "       [ 34. ,   2.7,   0. ],\n",
       "       [145. ,   2.4,   2. ],\n",
       "       [133. ,   3.2,   1. ],\n",
       "       [139. ,   1.7,   2. ],\n",
       "       [112. ,   1.7,   2. ],\n",
       "       [ 83. ,   2.4,   0. ],\n",
       "       [ 63. ,   3.1,   1. ],\n",
       "       [ 87. ,   1.9,   2. ],\n",
       "       [ 29. ,   2.3,   0. ],\n",
       "       [116. ,   1.7,   2. ],\n",
       "       [ 24. ,   2.3,   0. ],\n",
       "       [ 61. ,   2.4,   0. ],\n",
       "       [128. ,   2.1,   2. ],\n",
       "       [ 19. ,   2.5,   0. ],\n",
       "       [ 92. ,   2.9,   1. ],\n",
       "       [ 96. ,   2.5,   1. ],\n",
       "       [103. ,   2.4,   1. ],\n",
       "       [ 69. ,   3. ,   0. ],\n",
       "       [ 99. ,   2.2,   2. ],\n",
       "       [ 91. ,   1.8,   2. ],\n",
       "       [119. ,   3. ,   1. ],\n",
       "       [120. ,   1.6,   2. ],\n",
       "       [124. ,   3.1,   1. ],\n",
       "       [ 20. ,   2.5,   0. ],\n",
       "       [131. ,   1.6,   2. ],\n",
       "       [ 62. ,   2.7,   0. ],\n",
       "       [ 18. ,   2.1,   0. ],\n",
       "       [125. ,   1.5,   2. ],\n",
       "       [ 45. ,   2.1,   0. ],\n",
       "       [108. ,   2.7,   1. ],\n",
       "       [114. ,   3.1,   1. ],\n",
       "       [ 64. ,   2.3,   0. ],\n",
       "       [  9. ,   2.3,   0. ],\n",
       "       [ 11. ,   2.6,   0. ],\n",
       "       [ 16. ,   2.3,   0. ],\n",
       "       [143. ,   1.6,   2. ],\n",
       "       [  1. ,   2.7,   0. ],\n",
       "       [130. ,   2.5,   1. ],\n",
       "       [ 95. ,   2.5,   1. ],\n",
       "       [138. ,   1.8,   2. ],\n",
       "       [ 89. ,   1.9,   2. ],\n",
       "       [124. ,   2.3,   2. ],\n",
       "       [129. ,   2.5,   1. ],\n",
       "       [ 87. ,   3.3,   1. ],\n",
       "       [116. ,   2.7,   1. ],\n",
       "       [ 70. ,   2. ,   0. ],\n",
       "       [ 80. ,   2.3,   0. ],\n",
       "       [102. ,   3.4,   1. ],\n",
       "       [106. ,   1.8,   2. ],\n",
       "       [ 98. ,   2.6,   1. ],\n",
       "       [ 56. ,   2.9,   0. ],\n",
       "       [  8. ,   2.1,   0. ],\n",
       "       [ 74. ,   2.9,   1. ],\n",
       "       [  2. ,   2.8,   0. ],\n",
       "       [ 62. ,   3. ,   1. ],\n",
       "       [ 23. ,   2.9,   0. ],\n",
       "       [123. ,   3.2,   1. ],\n",
       "       [146. ,   2.3,   2. ],\n",
       "       [127. ,   1.4,   2. ],\n",
       "       [126. ,   2.4,   1. ],\n",
       "       [109. ,   2.1,   2. ],\n",
       "       [ 78. ,   3.2,   1. ],\n",
       "       [ 76. ,   3.3,   1. ],\n",
       "       [134. ,   3.4,   1. ],\n",
       "       [ 61. ,   2.6,   1. ],\n",
       "       [148. ,   2.7,   1. ],\n",
       "       [ 52. ,   2.5,   0. ],\n",
       "       [113. ,   2. ,   2. ],\n",
       "       [102. ,   1.7,   2. ],\n",
       "       [106. ,   3.3,   1. ],\n",
       "       [ 70. ,   3.1,   1. ],\n",
       "       [ 65. ,   2.5,   0. ],\n",
       "       [ 30. ,   2.5,   0. ],\n",
       "       [ 98. ,   2.3,   2. ],\n",
       "       [145. ,   2.9,   1. ],\n",
       "       [ 49. ,   2.7,   0. ],\n",
       "       [ 81. ,   2.6,   0. ],\n",
       "       [  4. ,   2.5,   0. ],\n",
       "       [110. ,   2.7,   1. ],\n",
       "       [ 63. ,   2.4,   0. ],\n",
       "       [137. ,   2.4,   1. ],\n",
       "       [ 67. ,   2.7,   0. ],\n",
       "       [ 68. ,   2.6,   0. ],\n",
       "       [ 41. ,   2.9,   0. ],\n",
       "       [105. ,   3.2,   1. ],\n",
       "       [120. ,   2.4,   1. ],\n",
       "       [ 36. ,   2.6,   0. ],\n",
       "       [113. ,   2.5,   1. ],\n",
       "       [ 82. ,   2.3,   0. ],\n",
       "       [107. ,   1.8,   2. ],\n",
       "       [ 46. ,   2.2,   0. ],\n",
       "       [ 80. ,   1.5,   2. ],\n",
       "       [ 69. ,   2.7,   1. ],\n",
       "       [ 48. ,   2.8,   0. ],\n",
       "       [109. ,   2.7,   1. ],\n",
       "       [139. ,   3.1,   1. ],\n",
       "       [119. ,   2.1,   2. ],\n",
       "       [ 83. ,   2.7,   1. ],\n",
       "       [  7. ,   2.7,   0. ],\n",
       "       [ 35. ,   2.8,   0. ],\n",
       "       [ 81. ,   2.4,   1. ],\n",
       "       [100. ,   1.5,   2. ],\n",
       "       [ 96. ,   1.8,   2. ],\n",
       "       [ 25. ,   2.4,   0. ],\n",
       "       [111. ,   1.7,   2. ],\n",
       "       [132. ,   2. ,   2. ],\n",
       "       [142. ,   1.9,   2. ],\n",
       "       [142. ,   3. ,   1. ],\n",
       "       [ 75. ,   2.8,   1. ],\n",
       "       [ 39. ,   2.4,   0. ],\n",
       "       [101. ,   3.4,   1. ],\n",
       "       [ 60. ,   2.8,   0. ],\n",
       "       [ 50. ,   2.8,   1. ],\n",
       "       [144. ,   2.9,   1. ],\n",
       "       [ 79. ,   2.7,   1. ],\n",
       "       [ 72. ,   2.2,   0. ],\n",
       "       [117. ,   2.9,   1. ],\n",
       "       [ 93. ,   1.5,   2. ],\n",
       "       [ 72. ,   2.9,   1. ],\n",
       "       [ 88. ,   3.3,   1. ],\n",
       "       [ 71. ,   2.9,   1. ],\n",
       "       [101. ,   2.1,   2. ],\n",
       "       [ 77. ,   2.6,   1. ],\n",
       "       [125. ,   3.3,   1. ],\n",
       "       [ 15. ,   2.1,   0. ],\n",
       "       [ 73. ,   3.2,   1. ],\n",
       "       [114. ,   2. ,   2. ],\n",
       "       [ 80. ,   3.2,   1. ],\n",
       "       [ 33. ,   2.3,   0. ],\n",
       "       [122. ,   1.4,   2. ],\n",
       "       [ 37. ,   2.1,   0. ],\n",
       "       [ 59. ,   2.3,   0. ],\n",
       "       [111. ,   2.8,   1. ],\n",
       "       [110. ,   2.1,   2. ],\n",
       "       [ 56. ,   2.6,   1. ],\n",
       "       [143. ,   2.4,   1. ],\n",
       "       [118. ,   2.5,   1. ],\n",
       "       [ 86. ,   1.9,   2. ],\n",
       "       [  0. ,   2.5,   0. ],\n",
       "       [  6. ,   2.4,   0. ],\n",
       "       [ 73. ,   2.5,   0. ],\n",
       "       [135. ,   2.4,   2. ],\n",
       "       [  3. ,   2.2,   0. ],\n",
       "       [ 38. ,   2.7,   0. ],\n",
       "       [132. ,   3.2,   1. ],\n",
       "       [121. ,   2.1,   2. ],\n",
       "       [131. ,   3.4,   1. ],\n",
       "       [ 66. ,   2.5,   1. ],\n",
       "       [117. ,   1.9,   2. ],\n",
       "       [135. ,   3.2,   1. ],\n",
       "       [ 26. ,   2.2,   0. ],\n",
       "       [ 83. ,   1.4,   2. ],\n",
       "       [115. ,   2.8,   1. ],\n",
       "       [112. ,   3.1,   1. ],\n",
       "       [137. ,   2.3,   2. ],\n",
       "       [ 54. ,   3.3,   1. ],\n",
       "       [ 90. ,   2.8,   1. ],\n",
       "       [ 86. ,   3. ,   1. ],\n",
       "       [133. ,   1.5,   2. ],\n",
       "       [ 94. ,   1.6,   2. ],\n",
       "       [ 55. ,   2.4,   0. ],\n",
       "       [123. ,   2. ,   2. ],\n",
       "       [148. ,   1.9,   2. ],\n",
       "       [ 85. ,   3.2,   1. ],\n",
       "       [ 22. ,   2. ,   0. ],\n",
       "       [136. ,   2.9,   1. ],\n",
       "       [ 76. ,   2.2,   0. ],\n",
       "       [104. ,   2.1,   2. ],\n",
       "       [ 57. ,   2.2,   0. ],\n",
       "       [ 84. ,   2.4,   0. ],\n",
       "       [146. ,   2.9,   1. ],\n",
       "       [ 13. ,   2.7,   0. ],\n",
       "       [ 57. ,   2.7,   1. ],\n",
       "       [ 55. ,   2.5,   1. ],\n",
       "       [122. ,   3.2,   1. ],\n",
       "       [129. ,   1.8,   2. ],\n",
       "       [ 84. ,   2.1,   2. ],\n",
       "       [126. ,   2.3,   2. ],\n",
       "       [ 74. ,   2.7,   0. ],\n",
       "       [ 88. ,   1.5,   2. ],\n",
       "       [ 31. ,   2.1,   0. ],\n",
       "       [128. ,   2.6,   1. ],\n",
       "       [ 93. ,   3. ,   1. ],\n",
       "       [ 85. ,   1.8,   2. ],\n",
       "       [ 95. ,   1.5,   2. ],\n",
       "       [ 66. ,   2.1,   0. ],\n",
       "       [ 51. ,   2. ,   0. ],\n",
       "       [ 14. ,   2.2,   0. ],\n",
       "       [144. ,   1.7,   2. ],\n",
       "       [118. ,   1.6,   2. ],\n",
       "       [147. ,   2.8,   1. ],\n",
       "       [ 82. ,   2.5,   1. ],\n",
       "       [ 97. ,   3.3,   1. ],\n",
       "       [ 40. ,   2.2,   0. ],\n",
       "       [ 58. ,   3.3,   1. ],\n",
       "       [ 90. ,   1.7,   2. ],\n",
       "       [ 10. ,   2. ,   0. ],\n",
       "       [136. ,   1.8,   2. ],\n",
       "       [ 32. ,   2.7,   0. ],\n",
       "       [127. ,   2.5,   1. ],\n",
       "       [ 60. ,   3.1,   1. ],\n",
       "       [ 21. ,   2.8,   0. ],\n",
       "       [ 28. ,   2.6,   0. ],\n",
       "       [ 52. ,   3.1,   1. ],\n",
       "       [ 79. ,   2.9,   0. ],\n",
       "       [ 94. ,   3.2,   1. ],\n",
       "       [ 82. ,   1.6,   2. ],\n",
       "       [ 53. ,   3.3,   1. ],\n",
       "       [ 47. ,   2.3,   0. ],\n",
       "       [105. ,   2.4,   2. ],\n",
       "       [130. ,   1.5,   2. ],\n",
       "       [ 71. ,   2.6,   0. ],\n",
       "       [ 99. ,   3. ,   1. ],\n",
       "       [ 12. ,   2.2,   0. ],\n",
       "       [147. ,   1.8,   2. ],\n",
       "       [ 84. ,   3.3,   1. ],\n",
       "       [ 75. ,   2.5,   0. ],\n",
       "       [ 51. ,   2.9,   1. ],\n",
       "       [ 44. ,   2.1,   0. ],\n",
       "       [ 78. ,   2.6,   0. ],\n",
       "       [104. ,   2.9,   1. ],\n",
       "       [ 53. ,   2.9,   0. ],\n",
       "       [140. ,   1.9,   2. ],\n",
       "       [107. ,   2.9,   1. ],\n",
       "       [ 65. ,   2.6,   1. ],\n",
       "       [ 89. ,   2.5,   1. ],\n",
       "       [ 67. ,   2.8,   1. ],\n",
       "       [141. ,   2.3,   2. ],\n",
       "       [103. ,   2.3,   2. ],\n",
       "       [ 59. ,   2.7,   1. ],\n",
       "       [138. ,   2.9,   1. ],\n",
       "       [141. ,   3.2,   1. ]])"
      ]
     },
     "execution_count": 23,
     "metadata": {},
     "output_type": "execute_result"
    }
   ],
   "source": [
    "A_test"
   ]
  },
  {
   "cell_type": "code",
   "execution_count": 24,
   "metadata": {},
   "outputs": [],
   "source": [
    "X_test = A_test[:,:-1]\n",
    "y_test = A_test[:,-1]"
   ]
  },
  {
   "cell_type": "code",
   "execution_count": 25,
   "metadata": {},
   "outputs": [],
   "source": [
    "y_pred_test = nb.predict(X_test)"
   ]
  },
  {
   "cell_type": "code",
   "execution_count": 26,
   "metadata": {},
   "outputs": [
    {
     "data": {
      "text/plain": [
       "[2,\n",
       " 2,\n",
       " 1,\n",
       " 0,\n",
       " 0,\n",
       " 0,\n",
       " 1,\n",
       " 1,\n",
       " 0,\n",
       " 1,\n",
       " 0,\n",
       " 2,\n",
       " 1,\n",
       " 0,\n",
       " 2,\n",
       " 0,\n",
       " 2,\n",
       " 1,\n",
       " 0,\n",
       " 2,\n",
       " 1,\n",
       " 0,\n",
       " 2,\n",
       " 1,\n",
       " 2,\n",
       " 2,\n",
       " 1,\n",
       " 1,\n",
       " 2,\n",
       " 0,\n",
       " 2,\n",
       " 0,\n",
       " 0,\n",
       " 2,\n",
       " 0,\n",
       " 1,\n",
       " 1,\n",
       " 1,\n",
       " 1,\n",
       " 2,\n",
       " 2,\n",
       " 1,\n",
       " 2,\n",
       " 1,\n",
       " 0,\n",
       " 2,\n",
       " 1,\n",
       " 0,\n",
       " 2,\n",
       " 0,\n",
       " 1,\n",
       " 1,\n",
       " 0,\n",
       " 0,\n",
       " 0,\n",
       " 0,\n",
       " 2,\n",
       " 0,\n",
       " 1,\n",
       " 1,\n",
       " 2,\n",
       " 2,\n",
       " 2,\n",
       " 1,\n",
       " 1,\n",
       " 1,\n",
       " 2,\n",
       " 1,\n",
       " 1,\n",
       " 2,\n",
       " 1,\n",
       " 1,\n",
       " 0,\n",
       " 1,\n",
       " 0,\n",
       " 1,\n",
       " 0,\n",
       " 1,\n",
       " 2,\n",
       " 2,\n",
       " 2,\n",
       " 2,\n",
       " 1,\n",
       " 1,\n",
       " 1,\n",
       " 0,\n",
       " 1,\n",
       " 0,\n",
       " 2,\n",
       " 2,\n",
       " 1,\n",
       " 1,\n",
       " 0,\n",
       " 0,\n",
       " 2,\n",
       " 1,\n",
       " 0,\n",
       " 1,\n",
       " 0,\n",
       " 1,\n",
       " 0,\n",
       " 2,\n",
       " 1,\n",
       " 1,\n",
       " 0,\n",
       " 1,\n",
       " 2,\n",
       " 0,\n",
       " 1,\n",
       " 1,\n",
       " 2,\n",
       " 0,\n",
       " 2,\n",
       " 1,\n",
       " 0,\n",
       " 1,\n",
       " 1,\n",
       " 2,\n",
       " 1,\n",
       " 0,\n",
       " 0,\n",
       " 1,\n",
       " 2,\n",
       " 2,\n",
       " 0,\n",
       " 2,\n",
       " 2,\n",
       " 2,\n",
       " 1,\n",
       " 1,\n",
       " 0,\n",
       " 1,\n",
       " 1,\n",
       " 0,\n",
       " 1,\n",
       " 1,\n",
       " 0,\n",
       " 1,\n",
       " 2,\n",
       " 1,\n",
       " 1,\n",
       " 1,\n",
       " 2,\n",
       " 1,\n",
       " 1,\n",
       " 0,\n",
       " 1,\n",
       " 2,\n",
       " 1,\n",
       " 0,\n",
       " 2,\n",
       " 0,\n",
       " 0,\n",
       " 1,\n",
       " 2,\n",
       " 0,\n",
       " 2,\n",
       " 1,\n",
       " 2,\n",
       " 0,\n",
       " 0,\n",
       " 1,\n",
       " 2,\n",
       " 0,\n",
       " 0,\n",
       " 1,\n",
       " 2,\n",
       " 1,\n",
       " 0,\n",
       " 2,\n",
       " 1,\n",
       " 0,\n",
       " 2,\n",
       " 1,\n",
       " 1,\n",
       " 2,\n",
       " 1,\n",
       " 1,\n",
       " 1,\n",
       " 2,\n",
       " 2,\n",
       " 0,\n",
       " 2,\n",
       " 2,\n",
       " 1,\n",
       " 0,\n",
       " 1,\n",
       " 2,\n",
       " 2,\n",
       " 0,\n",
       " 1,\n",
       " 1,\n",
       " 0,\n",
       " 0,\n",
       " 0,\n",
       " 1,\n",
       " 2,\n",
       " 2,\n",
       " 2,\n",
       " 1,\n",
       " 2,\n",
       " 0,\n",
       " 1,\n",
       " 1,\n",
       " 2,\n",
       " 2,\n",
       " 0,\n",
       " 0,\n",
       " 0,\n",
       " 2,\n",
       " 2,\n",
       " 1,\n",
       " 1,\n",
       " 1,\n",
       " 0,\n",
       " 1,\n",
       " 2,\n",
       " 0,\n",
       " 2,\n",
       " 0,\n",
       " 1,\n",
       " 1,\n",
       " 0,\n",
       " 0,\n",
       " 1,\n",
       " 1,\n",
       " 1,\n",
       " 2,\n",
       " 1,\n",
       " 0,\n",
       " 1,\n",
       " 2,\n",
       " 1,\n",
       " 1,\n",
       " 0,\n",
       " 2,\n",
       " 1,\n",
       " 1,\n",
       " 0,\n",
       " 0,\n",
       " 1,\n",
       " 1,\n",
       " 1,\n",
       " 2,\n",
       " 1,\n",
       " 0,\n",
       " 1,\n",
       " 1,\n",
       " 2,\n",
       " 2,\n",
       " 0,\n",
       " 1,\n",
       " 1]"
      ]
     },
     "execution_count": 26,
     "metadata": {},
     "output_type": "execute_result"
    }
   ],
   "source": [
    "y_pred_test"
   ]
  },
  {
   "cell_type": "code",
   "execution_count": 27,
   "metadata": {},
   "outputs": [
    {
     "data": {
      "text/plain": [
       "0.8616600790513834"
      ]
     },
     "execution_count": 27,
     "metadata": {},
     "output_type": "execute_result"
    }
   ],
   "source": [
    "accuracy_score(y_pred_test, y_test)"
   ]
  },
  {
   "cell_type": "code",
   "execution_count": 28,
   "metadata": {},
   "outputs": [
    {
     "name": "stdout",
     "output_type": "stream",
     "text": [
      "[2. 2. 1. 0. 0. 0. 1. 1. 0. 1. 0. 2. 1. 0. 2. 0. 2. 1. 0. 2. 1. 0. 2. 1.\n",
      " 2. 2. 1. 1. 2. 0. 2. 0. 0. 2. 0. 1. 1. 1. 1. 2. 2. 1. 2. 1. 0. 2. 1. 0.\n",
      " 2. 0. 1. 1. 0. 0. 0. 0. 2. 0. 1. 1. 2. 2. 2. 1. 1. 1. 2. 1. 1. 2. 1. 1.\n",
      " 0. 1. 0. 1. 0. 1. 2. 2. 2. 2. 1. 1. 1. 0. 1. 0. 2. 2. 1. 1. 0. 0. 2. 1.\n",
      " 0. 1. 0. 1. 0. 2. 1. 1. 0. 1. 2. 0. 1. 1. 2. 0. 2. 1. 0. 1. 1. 2. 1. 0.\n",
      " 0. 1. 2. 2. 0. 2. 2. 2. 1. 1. 0. 1. 1. 0. 1. 1. 0. 1. 2. 1. 1. 1. 2. 1.\n",
      " 1. 0. 1. 2. 1. 0. 2. 0. 0. 1. 2. 0. 2. 1. 2. 0. 0. 1. 2. 0. 0. 1. 2. 1.\n",
      " 0. 2. 1. 0. 2. 1. 1. 2. 1. 1. 1. 2. 2. 0. 2. 2. 1. 0. 1. 2. 2. 0. 1. 1.\n",
      " 0. 0. 0. 1. 2. 2. 2. 1. 2. 0. 1. 1. 2. 2. 0. 0. 0. 2. 2. 1. 1. 1. 0. 1.\n",
      " 2. 0. 2. 0. 1. 1. 0. 0. 1. 1. 1. 2. 1. 0. 1. 2. 1. 1. 0. 2. 1. 1. 0. 0.\n",
      " 1. 1. 1. 2. 1. 0. 1. 1. 2. 2. 0. 1. 1.]\n"
     ]
    }
   ],
   "source": [
    "sklearn_predicted_test = clf.predict(X_test)\n",
    "print(sklearn_predicted_test)"
   ]
  },
  {
   "cell_type": "code",
   "execution_count": 29,
   "metadata": {},
   "outputs": [
    {
     "data": {
      "text/plain": [
       "0.8616600790513834"
      ]
     },
     "execution_count": 29,
     "metadata": {},
     "output_type": "execute_result"
    }
   ],
   "source": [
    "accuracy_score(sklearn_predicted_test, y_test)"
   ]
  },
  {
   "cell_type": "markdown",
   "metadata": {},
   "source": [
    "https://en.wikipedia.org/wiki/Confusion_matrix"
   ]
  },
  {
   "cell_type": "code",
   "execution_count": 114,
   "metadata": {},
   "outputs": [],
   "source": [
    "from sklearn.metrics import confusion_matrix  \n",
    "\n",
    "cm = confusion_matrix(y_test, y_pred_test)"
   ]
  },
  {
   "cell_type": "code",
   "execution_count": 115,
   "metadata": {},
   "outputs": [
    {
     "data": {
      "text/plain": [
       "array([[64, 19,  2],\n",
       "       [ 9, 86,  4],\n",
       "       [ 0,  1, 68]], dtype=int64)"
      ]
     },
     "execution_count": 115,
     "metadata": {},
     "output_type": "execute_result"
    }
   ],
   "source": [
    "cm"
   ]
  },
  {
   "cell_type": "code",
   "execution_count": 116,
   "metadata": {},
   "outputs": [],
   "source": [
    "def conf_mat(y_pred, y_test):\n",
    "    classes = set(map(int, list(y_pred) + list(y_test)))\n",
    "    conf_m = np.zeros((len(classes), len(classes)))\n",
    "    for class_ in classes:\n",
    "        for class2_ in classes:\n",
    "            conf_m[class_, class2_] = ((np.array(y_pred_test) == class_) * (np.array(y_test) == class2_)).sum()\n",
    "    return conf_m.astype(int)"
   ]
  },
  {
   "cell_type": "code",
   "execution_count": 117,
   "metadata": {},
   "outputs": [
    {
     "data": {
      "text/plain": [
       "array([[64,  9,  0],\n",
       "       [19, 86,  1],\n",
       "       [ 2,  4, 68]])"
      ]
     },
     "execution_count": 117,
     "metadata": {},
     "output_type": "execute_result"
    }
   ],
   "source": [
    "conf_mat(y_pred_test, y_test)"
   ]
  },
  {
   "cell_type": "code",
   "execution_count": 118,
   "metadata": {},
   "outputs": [],
   "source": [
    "precision = np.diag(cm) / np.sum(cm, axis = 1)\n",
    "recall = np.diag(cm) / np.sum(cm, axis = 0)"
   ]
  },
  {
   "cell_type": "code",
   "execution_count": 119,
   "metadata": {},
   "outputs": [
    {
     "data": {
      "text/plain": [
       "array([0.75294118, 0.86868687, 0.98550725])"
      ]
     },
     "execution_count": 119,
     "metadata": {},
     "output_type": "execute_result"
    }
   ],
   "source": [
    "precision"
   ]
  },
  {
   "cell_type": "code",
   "execution_count": 120,
   "metadata": {},
   "outputs": [
    {
     "data": {
      "text/plain": [
       "array([0.87671233, 0.81132075, 0.91891892])"
      ]
     },
     "execution_count": 120,
     "metadata": {},
     "output_type": "execute_result"
    }
   ],
   "source": [
    "recall"
   ]
  },
  {
   "cell_type": "code",
   "execution_count": 121,
   "metadata": {},
   "outputs": [
    {
     "data": {
      "text/plain": [
       "0.869014547915698"
      ]
     },
     "execution_count": 121,
     "metadata": {},
     "output_type": "execute_result"
    }
   ],
   "source": [
    "f1 = 2*np.mean(precision) * np.mean(recall)/(np.mean(precision) + np.mean(recall))\n",
    "f1"
   ]
  },
  {
   "cell_type": "code",
   "execution_count": 122,
   "metadata": {},
   "outputs": [],
   "source": [
    "binary_cm = cm[:2, :2]"
   ]
  },
  {
   "cell_type": "code",
   "execution_count": 123,
   "metadata": {},
   "outputs": [
    {
     "data": {
      "text/plain": [
       "array([[64, 19],\n",
       "       [ 9, 86]], dtype=int64)"
      ]
     },
     "execution_count": 123,
     "metadata": {},
     "output_type": "execute_result"
    }
   ],
   "source": [
    "binary_cm"
   ]
  },
  {
   "cell_type": "code",
   "execution_count": 126,
   "metadata": {},
   "outputs": [],
   "source": [
    "TPR = binary_cm[0,0]/binary_cm.sum(axis=1)[0]\n",
    "FPR = binary_cm[1,0]/(binary_cm[1,0] + binary_cm[1,1])"
   ]
  },
  {
   "cell_type": "code",
   "execution_count": 127,
   "metadata": {},
   "outputs": [
    {
     "data": {
      "text/plain": [
       "(0.7710843373493976, 0.09473684210526316)"
      ]
     },
     "execution_count": 127,
     "metadata": {},
     "output_type": "execute_result"
    }
   ],
   "source": [
    "TPR, FPR"
   ]
  },
  {
   "cell_type": "code",
   "execution_count": null,
   "metadata": {},
   "outputs": [],
   "source": []
  }
 ],
 "metadata": {
  "kernelspec": {
   "display_name": "Python 3",
   "language": "python",
   "name": "python3"
  },
  "language_info": {
   "codemirror_mode": {
    "name": "ipython",
    "version": 3
   },
   "file_extension": ".py",
   "mimetype": "text/x-python",
   "name": "python",
   "nbconvert_exporter": "python",
   "pygments_lexer": "ipython3",
   "version": "3.7.3"
  }
 },
 "nbformat": 4,
 "nbformat_minor": 2
}
