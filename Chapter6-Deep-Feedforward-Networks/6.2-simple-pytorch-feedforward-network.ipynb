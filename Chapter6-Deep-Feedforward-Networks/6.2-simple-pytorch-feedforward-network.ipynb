{
 "cells": [
  {
   "cell_type": "markdown",
   "metadata": {},
   "source": [
    "https://github.com/pytorch/examples/blob/master/mnist/main.py"
   ]
  },
  {
   "cell_type": "code",
   "execution_count": 1,
   "metadata": {},
   "outputs": [],
   "source": [
    "import numpy as np\n",
    "import matplotlib.pyplot as plt\n",
    "\n",
    "import torch\n",
    "import torch.nn as nn\n",
    "import torch.nn.functional as F\n",
    "import torch.optim as optim\n",
    "from torchvision import datasets, transforms"
   ]
  },
  {
   "cell_type": "code",
   "execution_count": 2,
   "metadata": {},
   "outputs": [
    {
     "data": {
      "text/plain": [
       "device(type='cpu')"
      ]
     },
     "execution_count": 2,
     "metadata": {},
     "output_type": "execute_result"
    }
   ],
   "source": [
    "use_cuda = torch.cuda.is_available()\n",
    "device = torch.device(\"cuda\" if use_cuda else \"cpu\")\n",
    "device"
   ]
  },
  {
   "cell_type": "code",
   "execution_count": 3,
   "metadata": {},
   "outputs": [],
   "source": [
    "transform=transforms.Compose([\n",
    "        transforms.ToTensor(),\n",
    "        transforms.Normalize((0.1307,), (0.3081,))\n",
    "        ])"
   ]
  },
  {
   "cell_type": "code",
   "execution_count": 4,
   "metadata": {},
   "outputs": [],
   "source": [
    "batch_size = 32\n",
    "dataset1 = datasets.MNIST('../data', train=True, download=True,\n",
    "                       transform=transform)\n",
    "dataset2 = datasets.MNIST('../data', train=False,\n",
    "                       transform=transform)\n",
    "train_loader = torch.utils.data.DataLoader(dataset1, batch_size=batch_size, shuffle=True)\n",
    "test_loader = torch.utils.data.DataLoader(dataset2, batch_size=batch_size, shuffle=False)"
   ]
  },
  {
   "cell_type": "code",
   "execution_count": 5,
   "metadata": {},
   "outputs": [],
   "source": [
    "def draw_random_images(loader):\n",
    "    rand_idxs = [np.random.randint(0, batch_size-1) for i in range (4)]\n",
    "    for t in loader:\n",
    "        X = t[0][rand_idxs]\n",
    "        y = t[1][rand_idxs]\n",
    "\n",
    "        print(X.shape, y.shape)\n",
    "\n",
    "        f, axarr = plt.subplots(2,2)\n",
    "\n",
    "        axarr[0,0].imshow(X[0].squeeze())\n",
    "        axarr[0,0].set_title(str(y[0].item()))\n",
    "\n",
    "        axarr[0,1].imshow(X[1].squeeze())\n",
    "        axarr[0,1].set_title(str(y[1].item()))\n",
    "\n",
    "        axarr[1,0].imshow(X[2].squeeze())\n",
    "        axarr[1,0].set_title(str(y[2].item()))\n",
    "\n",
    "        axarr[1,1].imshow(X[3].squeeze())\n",
    "        axarr[1,1].set_title(str(y[3].item()))\n",
    "        \n",
    "        return X, y"
   ]
  },
  {
   "cell_type": "code",
   "execution_count": 6,
   "metadata": {},
   "outputs": [
    {
     "name": "stdout",
     "output_type": "stream",
     "text": [
      "torch.Size([4, 1, 28, 28]) torch.Size([4])\n"
     ]
    },
    {
     "data": {
      "image/png": "[encoded data removed]",
      "text/plain": [
       "<Figure size 432x288 with 4 Axes>"
      ]
     },
     "metadata": {
      "needs_background": "light"
     },
     "output_type": "display_data"
    }
   ],
   "source": [
    "X, y = draw_random_images(train_loader)"
   ]
  },
  {
   "cell_type": "code",
   "execution_count": 7,
   "metadata": {},
   "outputs": [],
   "source": [
    "class SimpleDenseNet(nn.Module):\n",
    "    def __init__(self, input_size):\n",
    "        super(SimpleDenseNet, self).__init__()\n",
    "        self.fc1 = nn.Linear(input_size, 256)\n",
    "        self.fc2 = nn.Linear(256, 256)\n",
    "        self.fc_output = nn.Linear(256, 10)\n",
    "        \n",
    "    def forward(self, x):\n",
    "        x = x.view(x.shape[0], -1)\n",
    "        x = self.fc1(x)\n",
    "        x = F.relu(x)\n",
    "        x = self.fc2(x)\n",
    "        x = F.relu(x)\n",
    "        return F.log_softmax(self.fc_output(x))\n",
    "    "
   ]
  },
  {
   "cell_type": "code",
   "execution_count": 8,
   "metadata": {},
   "outputs": [
    {
     "data": {
      "text/plain": [
       "SimpleDenseNet(\n",
       "  (fc1): Linear(in_features=784, out_features=256, bias=True)\n",
       "  (fc2): Linear(in_features=256, out_features=256, bias=True)\n",
       "  (fc_output): Linear(in_features=256, out_features=10, bias=True)\n",
       ")"
      ]
     },
     "execution_count": 8,
     "metadata": {},
     "output_type": "execute_result"
    }
   ],
   "source": [
    "net = SimpleDenseNet(28*28).to(device)\n",
    "net"
   ]
  },
  {
   "cell_type": "code",
   "execution_count": 9,
   "metadata": {},
   "outputs": [],
   "source": [
    "def train(model, train_loader, optimizer, epoch):\n",
    "    model.train()\n",
    "    for batch_idx, (data, target) in enumerate(train_loader):\n",
    "        data, target = data.to(device), target.to(device)\n",
    "        optimizer.zero_grad()\n",
    "        output = model(data)\n",
    "        loss = F.nll_loss(output, target)\n",
    "        loss.backward()\n",
    "        optimizer.step()\n",
    "        if batch_idx % 50 == 0:\n",
    "            print('Batch Accuracy: ', (torch.argmax(output,1) == target).sum().item()/batch_size)\n",
    "            print('Train Epoch: {} [{}/{} ({:.0f}%)]\\tLoss: {:.6f}'.format(\n",
    "                epoch, batch_idx * len(data), len(train_loader.dataset),\n",
    "                100. * batch_idx / len(train_loader), loss.item()))"
   ]
  },
  {
   "cell_type": "code",
   "execution_count": 10,
   "metadata": {},
   "outputs": [],
   "source": [
    "optimizer = optim.SGD(net.parameters(), lr=0.001)"
   ]
  },
  {
   "cell_type": "code",
   "execution_count": 11,
   "metadata": {},
   "outputs": [
    {
     "name": "stderr",
     "output_type": "stream",
     "text": [
      "C:\\Users\\davidt\\AppData\\Local\\Continuum\\anaconda3\\lib\\site-packages\\ipykernel_launcher.py:14: UserWarning: Implicit dimension choice for log_softmax has been deprecated. Change the call to include dim=X as an argument.\n",
      "  \n"
     ]
    },
    {
     "name": "stdout",
     "output_type": "stream",
     "text": [
      "Batch Accuracy:  0.0625\n",
      "Train Epoch: 50 [0/60000 (0%)]\tLoss: 2.309382\n",
      "Batch Accuracy:  0.0625\n",
      "Train Epoch: 50 [1600/60000 (3%)]\tLoss: 2.278246\n",
      "Batch Accuracy:  0.125\n",
      "Train Epoch: 50 [3200/60000 (5%)]\tLoss: 2.302357\n",
      "Batch Accuracy:  0.1875\n",
      "Train Epoch: 50 [4800/60000 (8%)]\tLoss: 2.257875\n",
      "Batch Accuracy:  0.125\n",
      "Train Epoch: 50 [6400/60000 (11%)]\tLoss: 2.244210\n",
      "Batch Accuracy:  0.25\n",
      "Train Epoch: 50 [8000/60000 (13%)]\tLoss: 2.249831\n",
      "Batch Accuracy:  0.375\n",
      "Train Epoch: 50 [9600/60000 (16%)]\tLoss: 2.222300\n",
      "Batch Accuracy:  0.375\n",
      "Train Epoch: 50 [11200/60000 (19%)]\tLoss: 2.196691\n",
      "Batch Accuracy:  0.6875\n",
      "Train Epoch: 50 [12800/60000 (21%)]\tLoss: 2.123499\n",
      "Batch Accuracy:  0.375\n",
      "Train Epoch: 50 [14400/60000 (24%)]\tLoss: 2.168510\n",
      "Batch Accuracy:  0.46875\n",
      "Train Epoch: 50 [16000/60000 (27%)]\tLoss: 2.165680\n",
      "Batch Accuracy:  0.53125\n",
      "Train Epoch: 50 [17600/60000 (29%)]\tLoss: 2.132019\n",
      "Batch Accuracy:  0.625\n",
      "Train Epoch: 50 [19200/60000 (32%)]\tLoss: 2.083380\n",
      "Batch Accuracy:  0.46875\n",
      "Train Epoch: 50 [20800/60000 (35%)]\tLoss: 2.099385\n",
      "Batch Accuracy:  0.53125\n",
      "Train Epoch: 50 [22400/60000 (37%)]\tLoss: 2.030372\n",
      "Batch Accuracy:  0.5625\n",
      "Train Epoch: 50 [24000/60000 (40%)]\tLoss: 2.010491\n",
      "Batch Accuracy:  0.5625\n",
      "Train Epoch: 50 [25600/60000 (43%)]\tLoss: 1.952742\n",
      "Batch Accuracy:  0.5625\n",
      "Train Epoch: 50 [27200/60000 (45%)]\tLoss: 1.973433\n",
      "Batch Accuracy:  0.6875\n",
      "Train Epoch: 50 [28800/60000 (48%)]\tLoss: 1.729796\n",
      "Batch Accuracy:  0.75\n",
      "Train Epoch: 50 [30400/60000 (51%)]\tLoss: 1.881997\n",
      "Batch Accuracy:  0.625\n",
      "Train Epoch: 50 [32000/60000 (53%)]\tLoss: 1.770095\n",
      "Batch Accuracy:  0.6875\n",
      "Train Epoch: 50 [33600/60000 (56%)]\tLoss: 1.789556\n",
      "Batch Accuracy:  0.65625\n",
      "Train Epoch: 50 [35200/60000 (59%)]\tLoss: 1.744082\n",
      "Batch Accuracy:  0.5625\n",
      "Train Epoch: 50 [36800/60000 (61%)]\tLoss: 1.737656\n",
      "Batch Accuracy:  0.59375\n",
      "Train Epoch: 50 [38400/60000 (64%)]\tLoss: 1.740057\n",
      "Batch Accuracy:  0.8125\n",
      "Train Epoch: 50 [40000/60000 (67%)]\tLoss: 1.581054\n",
      "Batch Accuracy:  0.6875\n",
      "Train Epoch: 50 [41600/60000 (69%)]\tLoss: 1.534749\n",
      "Batch Accuracy:  0.75\n",
      "Train Epoch: 50 [43200/60000 (72%)]\tLoss: 1.512657\n",
      "Batch Accuracy:  0.71875\n",
      "Train Epoch: 50 [44800/60000 (75%)]\tLoss: 1.493016\n",
      "Batch Accuracy:  0.59375\n",
      "Train Epoch: 50 [46400/60000 (77%)]\tLoss: 1.638558\n",
      "Batch Accuracy:  0.6875\n",
      "Train Epoch: 50 [48000/60000 (80%)]\tLoss: 1.450340\n",
      "Batch Accuracy:  0.625\n",
      "Train Epoch: 50 [49600/60000 (83%)]\tLoss: 1.599536\n",
      "Batch Accuracy:  0.71875\n",
      "Train Epoch: 50 [51200/60000 (85%)]\tLoss: 1.302621\n",
      "Batch Accuracy:  0.71875\n",
      "Train Epoch: 50 [52800/60000 (88%)]\tLoss: 1.348166\n",
      "Batch Accuracy:  0.8125\n",
      "Train Epoch: 50 [54400/60000 (91%)]\tLoss: 1.243002\n",
      "Batch Accuracy:  0.84375\n",
      "Train Epoch: 50 [56000/60000 (93%)]\tLoss: 1.234682\n",
      "Batch Accuracy:  0.8125\n",
      "Train Epoch: 50 [57600/60000 (96%)]\tLoss: 1.123418\n",
      "Batch Accuracy:  0.75\n",
      "Train Epoch: 50 [59200/60000 (99%)]\tLoss: 1.162451\n"
     ]
    }
   ],
   "source": [
    "train(net, train_loader, optimizer, 50)"
   ]
  },
  {
   "cell_type": "code",
   "execution_count": 12,
   "metadata": {},
   "outputs": [],
   "source": [
    "def test(model, test_loader):\n",
    "    model.eval()\n",
    "    test_loss = 0\n",
    "    correct = 0\n",
    "    with torch.no_grad():\n",
    "        for data, target in test_loader:\n",
    "            data, target = data.to(device), target.to(device)\n",
    "            output = model(data)\n",
    "            test_loss += F.nll_loss(output, target, reduction='sum').item()  # sum up batch loss\n",
    "            pred = output.argmax(dim=1, keepdim=True)  # get the index of the max log-probability\n",
    "            correct += pred.eq(target.view_as(pred)).sum().item()\n",
    "\n",
    "    test_loss /= len(test_loader.dataset)\n",
    "\n",
    "    print('\\nTest set: Average loss: {:.4f}, Accuracy: {}/{} ({:.0f}%)\\n'.format(\n",
    "        test_loss, correct, len(test_loader.dataset),\n",
    "        100. * correct / len(test_loader.dataset)))"
   ]
  },
  {
   "cell_type": "code",
   "execution_count": 13,
   "metadata": {},
   "outputs": [
    {
     "name": "stderr",
     "output_type": "stream",
     "text": [
      "C:\\Users\\davidt\\AppData\\Local\\Continuum\\anaconda3\\lib\\site-packages\\ipykernel_launcher.py:14: UserWarning: Implicit dimension choice for log_softmax has been deprecated. Change the call to include dim=X as an argument.\n",
      "  \n"
     ]
    },
    {
     "name": "stdout",
     "output_type": "stream",
     "text": [
      "\n",
      "Test set: Average loss: 1.0964, Accuracy: 7860/10000 (79%)\n",
      "\n"
     ]
    }
   ],
   "source": [
    "test(net, test_loader)"
   ]
  },
  {
   "cell_type": "code",
   "execution_count": 14,
   "metadata": {},
   "outputs": [
    {
     "name": "stdout",
     "output_type": "stream",
     "text": [
      "torch.Size([4, 1, 28, 28]) torch.Size([4])\n"
     ]
    },
    {
     "data": {
      "image/png": "[encoded data removed]",
      "text/plain": [
       "<Figure size 432x288 with 4 Axes>"
      ]
     },
     "metadata": {
      "needs_background": "light"
     },
     "output_type": "display_data"
    }
   ],
   "source": [
    "X, y = draw_random_images(test_loader)"
   ]
  },
  {
   "cell_type": "code",
   "execution_count": 15,
   "metadata": {},
   "outputs": [
    {
     "name": "stderr",
     "output_type": "stream",
     "text": [
      "C:\\Users\\davidt\\AppData\\Local\\Continuum\\anaconda3\\lib\\site-packages\\ipykernel_launcher.py:14: UserWarning: Implicit dimension choice for log_softmax has been deprecated. Change the call to include dim=X as an argument.\n",
      "  \n"
     ]
    }
   ],
   "source": [
    "predicted_y = net(X).argmax(1)"
   ]
  },
  {
   "cell_type": "code",
   "execution_count": 16,
   "metadata": {},
   "outputs": [
    {
     "data": {
      "text/plain": [
       "tensor([4, 5, 6, 9])"
      ]
     },
     "execution_count": 16,
     "metadata": {},
     "output_type": "execute_result"
    }
   ],
   "source": [
    "predicted_y"
   ]
  },
  {
   "cell_type": "code",
   "execution_count": 17,
   "metadata": {},
   "outputs": [
    {
     "data": {
      "text/plain": [
       "tensor([4, 5, 6, 9])"
      ]
     },
     "execution_count": 17,
     "metadata": {},
     "output_type": "execute_result"
    }
   ],
   "source": [
    "y"
   ]
  }
 ],
 "metadata": {
  "kernelspec": {
   "display_name": "Python 3",
   "language": "python",
   "name": "python3"
  },
  "language_info": {
   "codemirror_mode": {
    "name": "ipython",
    "version": 3
   },
   "file_extension": ".py",
   "mimetype": "text/x-python",
   "name": "python",
   "nbconvert_exporter": "python",
   "pygments_lexer": "ipython3",
   "version": "3.7.3"
  }
 },
 "nbformat": 4,
 "nbformat_minor": 2
}
