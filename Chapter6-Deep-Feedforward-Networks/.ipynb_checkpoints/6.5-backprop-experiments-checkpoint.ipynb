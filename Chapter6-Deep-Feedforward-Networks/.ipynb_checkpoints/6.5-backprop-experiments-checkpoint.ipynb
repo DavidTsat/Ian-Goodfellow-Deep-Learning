{
 "cells": [
  {
   "cell_type": "markdown",
   "metadata": {},
   "source": [
    "https://www.youtube.com/watch?v=iT5P4z6Fzj8&list=PL6Xpj9I5qXYEcOhn7TqghAJ6NAPrNmUBH&index=3 - chapter 1 and 2 (until 17th video)                                                                                         \n",
    "https://cs231n.github.io/optimization-2/                                                                                      \n",
    "https://arxiv.org/pdf/1502.05767.pdf                                                                                 \n",
    "http://web.mit.edu/wwmath/vectorc/scalar/chain.html                                                               \n",
    "http://cs231n.stanford.edu/vecDerivs.pdf"
   ]
  },
  {
   "cell_type": "code",
   "execution_count": 1,
   "metadata": {},
   "outputs": [],
   "source": [
    "import numpy as np"
   ]
  },
  {
   "cell_type": "code",
   "execution_count": 2,
   "metadata": {},
   "outputs": [],
   "source": [
    "x = -2; y = 5; z = -4\n",
    "\n",
    "# forward pass\n",
    "q = x+y\n",
    "f = q*z\n",
    "# backward pass\n",
    "dfdz = q\n",
    "dfdq = z\n",
    "# backprop through q = x+y\n",
    "dfdx = 1*dfdq\n",
    "dfdy = 1*dfdq"
   ]
  },
  {
   "cell_type": "code",
   "execution_count": 3,
   "metadata": {},
   "outputs": [
    {
     "data": {
      "text/plain": [
       "-4"
      ]
     },
     "execution_count": 3,
     "metadata": {},
     "output_type": "execute_result"
    }
   ],
   "source": [
    "dfdx"
   ]
  },
  {
   "cell_type": "code",
   "execution_count": 4,
   "metadata": {},
   "outputs": [
    {
     "data": {
      "text/plain": [
       "-4"
      ]
     },
     "execution_count": 4,
     "metadata": {},
     "output_type": "execute_result"
    }
   ],
   "source": [
    "dfdy"
   ]
  },
  {
   "cell_type": "code",
   "execution_count": 5,
   "metadata": {},
   "outputs": [],
   "source": [
    "# finite difference approximation\n",
    "eps = 1e-5\n",
    "x_plus = x + eps\n",
    "x_minus = x - eps\n",
    "q_plus = x_plus+y\n",
    "q_minus = x_minus+y\n",
    "f_plus = q_plus*z\n",
    "f_minus = q_minus*z\n",
    "\n",
    "dfdx_ = (f_plus - f_minus)/2*eps"
   ]
  },
  {
   "cell_type": "code",
   "execution_count": 6,
   "metadata": {},
   "outputs": [
    {
     "data": {
      "text/plain": [
       "-4.000000000026205e-10"
      ]
     },
     "execution_count": 6,
     "metadata": {},
     "output_type": "execute_result"
    }
   ],
   "source": [
    "dfdx_"
   ]
  },
  {
   "cell_type": "code",
   "execution_count": 7,
   "metadata": {},
   "outputs": [],
   "source": [
    "import math\n",
    "w = [2,-3,-3] # assume some random weights and data\n",
    "x = [-1, -2]\n",
    "\n",
    "# forward pass\n",
    "dot = w[0]*x[0] + w[1]*x[1] + w[2]\n",
    "f = 1.0 / (1 + math.exp(-dot)) # sigmoid function\n",
    "\n",
    "# backward pass through the neuron (backpropagation)\n",
    "ddot = (1 - f) * f # gradient on dot variable, using the sigmoid gradient derivation\n",
    "dx = [w[0] * ddot, w[1] * ddot] # backprop into x\n",
    "dw = [x[0] * ddot, x[1] * ddot, 1.0 * ddot] # backprop into w\n",
    "# we're done! we have the gradients on the inputs to the circuit"
   ]
  },
  {
   "cell_type": "code",
   "execution_count": 8,
   "metadata": {},
   "outputs": [
    {
     "data": {
      "text/plain": [
       "[0.3932238664829637, -0.5898357997244456]"
      ]
     },
     "execution_count": 8,
     "metadata": {},
     "output_type": "execute_result"
    }
   ],
   "source": [
    "dx"
   ]
  },
  {
   "cell_type": "code",
   "execution_count": 9,
   "metadata": {},
   "outputs": [
    {
     "data": {
      "text/plain": [
       "[-0.19661193324148185, -0.3932238664829637, 0.19661193324148185]"
      ]
     },
     "execution_count": 9,
     "metadata": {},
     "output_type": "execute_result"
    }
   ],
   "source": [
    "dw"
   ]
  },
  {
   "cell_type": "code",
   "execution_count": 10,
   "metadata": {},
   "outputs": [],
   "source": [
    "def sig(x):\n",
    "    return 1/(1+np.exp(-x))"
   ]
  },
  {
   "cell_type": "code",
   "execution_count": 11,
   "metadata": {},
   "outputs": [],
   "source": [
    "x = 3 # example values\n",
    "y = -4\n",
    "\n",
    "# forward pass\n",
    "sigy = 1.0 / (1 + math.exp(-y)) # sigmoid in numerator   #(1)\n",
    "num = x + sigy # numerator                               #(2)\n",
    "sigx = 1.0 / (1 + math.exp(-x)) # sigmoid in denominator #(3)\n",
    "xpy = x + y                                              #(4)\n",
    "xpysqr = xpy**2                                          #(5)\n",
    "den = sigx + xpysqr # denominator                        #(6)\n",
    "invden = 1.0 / den                                       #(7)\n",
    "f = num * invden # done!                                 #(8)"
   ]
  },
  {
   "cell_type": "code",
   "execution_count": 12,
   "metadata": {},
   "outputs": [],
   "source": [
    "# backprop f = num * invden\n",
    "dnum = invden # gradient on numerator                             #(8)\n",
    "dinvden = num                                                     #(8)\n",
    "# backprop invden = 1.0 / den \n",
    "dden = (-1.0 / (den**2)) * dinvden                                #(7)\n",
    "# backprop den = sigx + xpysqr\n",
    "dsigx = (1) * dden                                                #(6)\n",
    "dxpysqr = (1) * dden                                              #(6)\n",
    "# backprop xpysqr = xpy**2\n",
    "dxpy = (2 * xpy) * dxpysqr                                        #(5)\n",
    "# backprop xpy = x + y\n",
    "dx = (1) * dxpy                                                   #(4)\n",
    "dy = (1) * dxpy                                                   #(4)\n",
    "# backprop sigx = 1.0 / (1 + math.exp(-x))\n",
    "dx += ((1 - sigx) * sigx) * dsigx # Notice += !! See notes below  #(3)\n",
    "# backprop num = x + sigy\n",
    "dx += (1) * dnum                                                  #(2)\n",
    "dsigy = (1) * dnum                                                #(2)\n",
    "# backprop sigy = 1.0 / (1 + math.exp(-y))\n",
    "dy += ((1 - sigy) * sigy) * dsigy                                 #(1)\n",
    "# done! phew"
   ]
  },
  {
   "cell_type": "code",
   "execution_count": 13,
   "metadata": {},
   "outputs": [
    {
     "data": {
      "text/plain": [
       "(1.583186894545187,\n",
       " 1.5922327514838093,\n",
       " -0.7915934472725935,\n",
       " -0.7915934472725935,\n",
       " 0.5121444488396316)"
      ]
     },
     "execution_count": 13,
     "metadata": {},
     "output_type": "execute_result"
    }
   ],
   "source": [
    "dxpy, dy, dsigx, dxpysqr, dsigy"
   ]
  },
  {
   "cell_type": "code",
   "execution_count": 16,
   "metadata": {},
   "outputs": [],
   "source": [
    "class FunctionAbove():\n",
    "    # f = x*(x+y)**2/sig(x)\n",
    "    def forward(self, x,y):\n",
    "        self.x = x\n",
    "        self.y = y\n",
    "        \n",
    "        self.x_plus_y = x+y\n",
    "        self.x_plus_y_sqr = self.x_plus_y**2\n",
    "        self.x_mul_x_plus_y_sqr = x*self.x_plus_y_sqr\n",
    "        self.sig_x = sig(x)\n",
    "        self.inv_sigx = 1/self.sig_x\n",
    "        ff = self.x_mul_x_plus_y_sqr*self.inv_sigx\n",
    "        return ff\n",
    "\n",
    "    def backward(self):\n",
    "        dx = 0\n",
    "        dy = 0 \n",
    "        \n",
    "        dffinv_sigx = self.x_mul_x_plus_y_sqr\n",
    "        dffx_mul_x_plus_y_sqr = self.inv_sigx\n",
    "        dinv_sigx_sigx = -1/self.sig_x**2*dffinv_sigx\n",
    "        dx += self.sig_x*(1-self.sig_x)*dinv_sigx_sigx\n",
    "        dx += self.x_plus_y_sqr*dffx_mul_x_plus_y_sqr\n",
    "        dx_mul_x_plus_y_sqr_x_plus_y_sqr = dffx_mul_x_plus_y_sqr*self.x\n",
    "        dx_mul_x_plus_y_sqr_x_plus_y_sqr_x_plus_y = 2*self.x_plus_y*dx_mul_x_plus_y_sqr_x_plus_y_sqr\n",
    "        dx += dx_mul_x_plus_y_sqr_x_plus_y_sqr_x_plus_y\n",
    "        dy = dx_mul_x_plus_y_sqr_x_plus_y_sqr_x_plus_y\n",
    "        return dx, dy"
   ]
  },
  {
   "cell_type": "code",
   "execution_count": 17,
   "metadata": {},
   "outputs": [
    {
     "data": {
      "text/plain": [
       "3.1493612051035917"
      ]
     },
     "execution_count": 17,
     "metadata": {},
     "output_type": "execute_result"
    }
   ],
   "source": [
    "functionAbove = FunctionAbove()\n",
    "\n",
    "functionAbove.forward(x,y)"
   ]
  },
  {
   "cell_type": "code",
   "execution_count": 18,
   "metadata": {},
   "outputs": [
    {
     "data": {
      "text/plain": [
       "(-5.398296546942911, -6.2987224102071835)"
      ]
     },
     "execution_count": 18,
     "metadata": {},
     "output_type": "execute_result"
    }
   ],
   "source": [
    "functionAbove.backward()"
   ]
  },
  {
   "cell_type": "code",
   "execution_count": 19,
   "metadata": {},
   "outputs": [
    {
     "data": {
      "text/plain": [
       "2890.1312057970135"
      ]
     },
     "execution_count": 19,
     "metadata": {},
     "output_type": "execute_result"
    }
   ],
   "source": [
    "functionAbove = FunctionAbove()\n",
    "\n",
    "functionAbove.forward(10,7)"
   ]
  },
  {
   "cell_type": "code",
   "execution_count": 20,
   "metadata": {},
   "outputs": [
    {
     "data": {
      "text/plain": [
       "(628.8973507588071, 340.01543597611925)"
      ]
     },
     "execution_count": 20,
     "metadata": {},
     "output_type": "execute_result"
    }
   ],
   "source": [
    "functionAbove.backward()"
   ]
  },
  {
   "cell_type": "code",
   "execution_count": 21,
   "metadata": {},
   "outputs": [
    {
     "data": {
      "text/plain": [
       "-5.398296547554082"
      ]
     },
     "execution_count": 21,
     "metadata": {},
     "output_type": "execute_result"
    }
   ],
   "source": [
    "# check for dx\n",
    "eps = 1e-6\n",
    "\n",
    "(functionAbove.forward(x+eps,y)-functionAbove.forward(x-eps,y))/(2*eps)"
   ]
  },
  {
   "cell_type": "code",
   "execution_count": 22,
   "metadata": {},
   "outputs": [
    {
     "data": {
      "text/plain": [
       "-6.298722411424151"
      ]
     },
     "execution_count": 22,
     "metadata": {},
     "output_type": "execute_result"
    }
   ],
   "source": [
    "# check for dy\n",
    "\n",
    "(functionAbove.forward(x,y+eps)-functionAbove.forward(x,y-eps))/(2*eps)"
   ]
  },
  {
   "cell_type": "code",
   "execution_count": 23,
   "metadata": {},
   "outputs": [
    {
     "data": {
      "text/plain": [
       "628.897349770341"
      ]
     },
     "execution_count": 23,
     "metadata": {},
     "output_type": "execute_result"
    }
   ],
   "source": [
    "# check for dx\n",
    "\n",
    "(functionAbove.forward(10+eps,7)-functionAbove.forward(10-eps,7))/(2*eps)"
   ]
  },
  {
   "cell_type": "code",
   "execution_count": 24,
   "metadata": {},
   "outputs": [
    {
     "data": {
      "text/plain": [
       "340.01543644990306"
      ]
     },
     "execution_count": 24,
     "metadata": {},
     "output_type": "execute_result"
    }
   ],
   "source": [
    "# check for dy\n",
    "\n",
    "(functionAbove.forward(10,7+eps)-functionAbove.forward(10,7-eps))/(2*eps)"
   ]
  },
  {
   "cell_type": "code",
   "execution_count": 25,
   "metadata": {},
   "outputs": [],
   "source": [
    "'''\n",
    "Very simple framework of computational graph using only *, +, and parenthesis operations\n",
    "## todo - to add more operations (more gates)\n",
    "'''\n",
    "class Expression():\n",
    "    class Variable():\n",
    "        def __init__(self, name, expression_instance):\n",
    "            self.name = name\n",
    "            self.adds = []\n",
    "            self.muls = []\n",
    "            self.expression = expression_instance\n",
    "        def get_name(self):\n",
    "            return self.name\n",
    "        '''\n",
    "        The following operations are the gates of the computational graph\n",
    "        '''\n",
    "        def add(self, y):\n",
    "            assert isinstance(y, type(self))\n",
    "            self.expression.operations_counter += 1\n",
    "            self.adds.append((y, self.expression.operations_counter))\n",
    "            return self\n",
    "        def mul(self, y):\n",
    "            assert isinstance(y, type(self))\n",
    "            self.expression.operations_counter += 1\n",
    "            self.muls.append((y, self.expression.operations_counter))\n",
    "            return self\n",
    "        \n",
    "    def __init__(self): \n",
    "        self.res = 0 \n",
    "        self.vars_count = 0\n",
    "        self.vars = []\n",
    "        self.operations_trace = []\n",
    "        self.operations_counter = 0\n",
    "    \n",
    "    def get_variable(self):\n",
    "        self.vars_count += 1\n",
    "        v = Expression.Variable('x_'+str(self.vars_count), self)\n",
    "        self.vars.append(v)\n",
    "        return v\n",
    "    \n",
    "    def forward(self, vals):\n",
    "        assert len(vals) == self.vars_count\n",
    "        self.vals_values = vals\n",
    "        res = vals[0]\n",
    "        symbolic_express = self.vars[0].get_name()\n",
    "        for i in range(1, self.operations_counter+1):\n",
    "            try: \n",
    "                ind = [num[1] for num in self.vars[0].adds].index(i)\n",
    "                var_name = self.vars[0].adds[ind][0].get_name()\n",
    "                res += vals[int(var_name[-1])-1]\n",
    "                symbolic_express = '(' + symbolic_express\n",
    "                symbolic_express += '+' + var_name + ')'\n",
    "                self.operations_trace.append((symbolic_express, res, 'ADD'))\n",
    "            except:\n",
    "                pass\n",
    "            try: \n",
    "                ind = [num[1] for num in self.vars[0].muls].index(i)\n",
    "                var_name = self.vars[0].muls[ind][0].get_name()\n",
    "                res *= vals[int(var_name[-1])-1]\n",
    "                symbolic_express = '(' + symbolic_express\n",
    "                symbolic_express += '*' + var_name + ')'\n",
    "                self.operations_trace.append((symbolic_express, res, 'MUL'))\n",
    "            except:\n",
    "                pass\n",
    "                \n",
    "        return res, self.operations_trace\n",
    "    \n",
    "    def backward(self):\n",
    "        var_names = [var.get_name() for var in self.vars]\n",
    "        grads = {}\n",
    "        df = 1\n",
    "        for val in var_names:\n",
    "            grads[val] = 0\n",
    "        for i, op in enumerate(self.operations_trace[::-1]):\n",
    "            if op[-1] == 'MUL':\n",
    "                left_var = op[0][1:-1][:op[0][1:-1].rfind('*')]\n",
    "                right_var = op[0][1:-1][op[0][1:-1].rfind('*')+1:]\n",
    "                if left_var in var_names and right_var in var_names:\n",
    "                    grads[left_var] += df*self.vals_values[int(right_var[-1])-1]\n",
    "                    grads[right_var] += df*self.vals_values[int(left_var[-1])-1]\n",
    "                else:\n",
    "                    left_var_value = self.operations_trace[self.operations_counter-2-i][1]\n",
    "                    right_var_value = op[1]/self.operations_trace[self.operations_counter-2-i][1]\n",
    "                    \n",
    "                    if left_var in var_names:\n",
    "                        grads[left_var] += df*right_var_value\n",
    "                        grads[right_var] = df*left_var_value\n",
    "                        df *= left_var_value\n",
    "                    else:\n",
    "                        grads[right_var] += df*left_var_value\n",
    "                        grads[left_var] = df*right_var_value\n",
    "                        df *= right_var_value\n",
    "                        \n",
    "            elif op[-1] == 'ADD':\n",
    "                left_var = op[0][1:-1][:op[0][1:-1].rfind('+')]\n",
    "                right_var = op[0][1:-1][op[0][1:-1].rfind('+')+1:]\n",
    "                if left_var in var_names and right_var in var_names:\n",
    "                    grads[left_var] += df\n",
    "                    grads[right_var] += df\n",
    "                    print(left_var, right_var, op[1], op[2], self.vals_values[int(left_var[-1])]-1, self.vals_values[int(right_var[-1])]-1)\n",
    "                else:\n",
    "                    left_var_value = self.operations_trace[self.operations_counter-2-i][1]\n",
    "                    right_var_value = op[1] - self.operations_trace[self.operations_counter-2-i][1]\n",
    "                    \n",
    "                    if left_var in var_names:\n",
    "                        grads[left_var] += df\n",
    "                        grads[right_var] = df\n",
    "                    else:\n",
    "                        grads[right_var] += df\n",
    "                        grads[left_var] = df\n",
    "        return grads          "
   ]
  },
  {
   "cell_type": "code",
   "execution_count": 26,
   "metadata": {},
   "outputs": [],
   "source": [
    "express = Expression()"
   ]
  },
  {
   "cell_type": "code",
   "execution_count": 27,
   "metadata": {},
   "outputs": [],
   "source": [
    "x = express.get_variable()\n",
    "y = express.get_variable()\n",
    "z = express.get_variable()"
   ]
  },
  {
   "cell_type": "code",
   "execution_count": 28,
   "metadata": {},
   "outputs": [
    {
     "data": {
      "text/plain": [
       "<__main__.Expression.Variable at 0x1ca9cb4d358>"
      ]
     },
     "execution_count": 28,
     "metadata": {},
     "output_type": "execute_result"
    }
   ],
   "source": [
    "x.add(y).mul(z).add(y).mul(z)"
   ]
  },
  {
   "cell_type": "code",
   "execution_count": 29,
   "metadata": {
    "scrolled": true
   },
   "outputs": [
    {
     "data": {
      "text/plain": [
       "'x_1'"
      ]
     },
     "execution_count": 29,
     "metadata": {},
     "output_type": "execute_result"
    }
   ],
   "source": [
    "x.get_name()"
   ]
  },
  {
   "cell_type": "code",
   "execution_count": 30,
   "metadata": {},
   "outputs": [
    {
     "data": {
      "text/plain": [
       "'x_2'"
      ]
     },
     "execution_count": 30,
     "metadata": {},
     "output_type": "execute_result"
    }
   ],
   "source": [
    "y.get_name()"
   ]
  },
  {
   "cell_type": "code",
   "execution_count": 31,
   "metadata": {},
   "outputs": [
    {
     "data": {
      "text/plain": [
       "'x_3'"
      ]
     },
     "execution_count": 31,
     "metadata": {},
     "output_type": "execute_result"
    }
   ],
   "source": [
    "z.get_name()"
   ]
  },
  {
   "cell_type": "code",
   "execution_count": 32,
   "metadata": {},
   "outputs": [
    {
     "data": {
      "text/plain": [
       "3"
      ]
     },
     "execution_count": 32,
     "metadata": {},
     "output_type": "execute_result"
    }
   ],
   "source": [
    "express.vars_count"
   ]
  },
  {
   "cell_type": "code",
   "execution_count": 33,
   "metadata": {},
   "outputs": [
    {
     "data": {
      "text/plain": [
       "(92,\n",
       " [('(x_1+x_2)', 5, 'ADD'),\n",
       "  ('((x_1+x_2)*x_3)', 20, 'MUL'),\n",
       "  ('(((x_1+x_2)*x_3)+x_2)', 23, 'ADD'),\n",
       "  ('((((x_1+x_2)*x_3)+x_2)*x_3)', 92, 'MUL')])"
      ]
     },
     "execution_count": 33,
     "metadata": {},
     "output_type": "execute_result"
    }
   ],
   "source": [
    "express.forward([2,3,4])"
   ]
  },
  {
   "cell_type": "code",
   "execution_count": 34,
   "metadata": {},
   "outputs": [
    {
     "name": "stdout",
     "output_type": "stream",
     "text": [
      "x_1 x_2 5 ADD 2 3\n"
     ]
    },
    {
     "data": {
      "text/plain": [
       "{'x_1': 16.0,\n",
       " 'x_2': 20.0,\n",
       " 'x_3': 43.0,\n",
       " '(((x_1+x_2)*x_3)+x_2)': 4.0,\n",
       " '((x_1+x_2)*x_3)': 4.0,\n",
       " '(x_1+x_2)': 16.0}"
      ]
     },
     "execution_count": 34,
     "metadata": {},
     "output_type": "execute_result"
    }
   ],
   "source": [
    "express.backward()"
   ]
  },
  {
   "cell_type": "code",
   "execution_count": 35,
   "metadata": {},
   "outputs": [
    {
     "data": {
      "text/plain": [
       "[('(x_1+x_2)', 5, 'ADD'),\n",
       " ('((x_1+x_2)*x_3)', 20, 'MUL'),\n",
       " ('(((x_1+x_2)*x_3)+x_2)', 23, 'ADD'),\n",
       " ('((((x_1+x_2)*x_3)+x_2)*x_3)', 92, 'MUL')]"
      ]
     },
     "execution_count": 35,
     "metadata": {},
     "output_type": "execute_result"
    }
   ],
   "source": [
    "express.operations_trace"
   ]
  },
  {
   "cell_type": "code",
   "execution_count": 36,
   "metadata": {},
   "outputs": [],
   "source": [
    "express1 = Expression()"
   ]
  },
  {
   "cell_type": "code",
   "execution_count": 37,
   "metadata": {},
   "outputs": [],
   "source": [
    "x = express1.get_variable()\n",
    "y = express1.get_variable()\n",
    "z = express1.get_variable()"
   ]
  },
  {
   "cell_type": "code",
   "execution_count": 38,
   "metadata": {},
   "outputs": [
    {
     "data": {
      "text/plain": [
       "<__main__.Expression.Variable at 0x1ca9cbe2278>"
      ]
     },
     "execution_count": 38,
     "metadata": {},
     "output_type": "execute_result"
    }
   ],
   "source": [
    "x.mul(y).add(z)"
   ]
  },
  {
   "cell_type": "code",
   "execution_count": 39,
   "metadata": {},
   "outputs": [
    {
     "data": {
      "text/plain": [
       "(11, [('(x_1*x_2)', 6, 'MUL'), ('((x_1*x_2)+x_3)', 11, 'ADD')])"
      ]
     },
     "execution_count": 39,
     "metadata": {},
     "output_type": "execute_result"
    }
   ],
   "source": [
    "express1.forward([3,2,5])"
   ]
  },
  {
   "cell_type": "code",
   "execution_count": 40,
   "metadata": {},
   "outputs": [
    {
     "data": {
      "text/plain": [
       "{'x_1': 2, 'x_2': 3, 'x_3': 1, '(x_1*x_2)': 1}"
      ]
     },
     "execution_count": 40,
     "metadata": {},
     "output_type": "execute_result"
    }
   ],
   "source": [
    "express1.backward()"
   ]
  },
  {
   "cell_type": "code",
   "execution_count": 41,
   "metadata": {},
   "outputs": [
    {
     "data": {
      "text/plain": [
       "2"
      ]
     },
     "execution_count": 41,
     "metadata": {},
     "output_type": "execute_result"
    }
   ],
   "source": [
    "express1.operations_counter"
   ]
  },
  {
   "cell_type": "code",
   "execution_count": 42,
   "metadata": {},
   "outputs": [],
   "source": [
    "express2 = Expression()"
   ]
  },
  {
   "cell_type": "code",
   "execution_count": 43,
   "metadata": {},
   "outputs": [],
   "source": [
    "x = express2.get_variable()"
   ]
  },
  {
   "cell_type": "code",
   "execution_count": 44,
   "metadata": {},
   "outputs": [
    {
     "data": {
      "text/plain": [
       "<__main__.Expression.Variable at 0x1ca9cbe2588>"
      ]
     },
     "execution_count": 44,
     "metadata": {},
     "output_type": "execute_result"
    }
   ],
   "source": [
    "x.mul(x)"
   ]
  },
  {
   "cell_type": "code",
   "execution_count": 45,
   "metadata": {},
   "outputs": [
    {
     "data": {
      "text/plain": [
       "(16, [('(x_1*x_1)', 16, 'MUL')])"
      ]
     },
     "execution_count": 45,
     "metadata": {},
     "output_type": "execute_result"
    }
   ],
   "source": [
    "express2.forward([4])"
   ]
  },
  {
   "cell_type": "code",
   "execution_count": 46,
   "metadata": {},
   "outputs": [
    {
     "data": {
      "text/plain": [
       "{'x_1': 8}"
      ]
     },
     "execution_count": 46,
     "metadata": {},
     "output_type": "execute_result"
    }
   ],
   "source": [
    "express2.backward()"
   ]
  },
  {
   "cell_type": "code",
   "execution_count": 47,
   "metadata": {},
   "outputs": [],
   "source": [
    "express3 = Expression()"
   ]
  },
  {
   "cell_type": "code",
   "execution_count": null,
   "metadata": {},
   "outputs": [],
   "source": []
  }
 ],
 "metadata": {
  "kernelspec": {
   "display_name": "Python 3",
   "language": "python",
   "name": "python3"
  },
  "language_info": {
   "codemirror_mode": {
    "name": "ipython",
    "version": 3
   },
   "file_extension": ".py",
   "mimetype": "text/x-python",
   "name": "python",
   "nbconvert_exporter": "python",
   "pygments_lexer": "ipython3",
   "version": "3.7.3"
  }
 },
 "nbformat": 4,
 "nbformat_minor": 2
}
