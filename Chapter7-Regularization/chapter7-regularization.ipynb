{
 "cells": [
  {
   "cell_type": "markdown",
   "metadata": {},
   "source": [
    "For this chapter we'll be participating in a real kaggle competition and evaluate each of the regularization techniques of the chapter 7                                                                                                               \n",
    "https://www.kaggle.com/c/rsna-str-pulmonary-embolism-detection/overview                                                       \n",
    "dataset from                                                                                                                  \n",
    "https://www.kaggle.com/c/rsna-str-pulmonary-embolism-detection/discussion/182930"
   ]
  },
  {
   "cell_type": "code",
   "execution_count": 1,
   "metadata": {},
   "outputs": [],
   "source": [
    "import numpy as np\n",
    "import pandas as pd\n",
    "import matplotlib\n",
    "import matplotlib.pylab as plt\n",
    "import os\n",
    "from PIL import Image\n",
    "import PIL\n",
    "\n",
    "import torch\n",
    "from torch.utils.data import Dataset, DataLoader\n",
    "from torchvision import transforms, utils\n",
    "import torchvision.models as models\n",
    "import torch.nn as nn\n",
    "import torch.nn.functional as F\n",
    "\n",
    "import torch.optim as optim\n",
    "\n",
    "# import cv2\n",
    "import glob\n",
    "\n",
    "from tqdm import tqdm"
   ]
  },
  {
   "cell_type": "code",
   "execution_count": 2,
   "metadata": {},
   "outputs": [
    {
     "data": {
      "text/plain": [
       "device(type='cuda')"
      ]
     },
     "execution_count": 2,
     "metadata": {},
     "output_type": "execute_result"
    }
   ],
   "source": [
    "use_cuda = torch.cuda.is_available()\n",
    "device = torch.device(\"cuda\" if use_cuda else \"cpu\")\n",
    "device\n",
    "    \n",
    "device"
   ]
  },
  {
   "cell_type": "code",
   "execution_count": 3,
   "metadata": {},
   "outputs": [],
   "source": [
    "train_path = 'D:\\\\lungs\\\\train-jpegs'\n",
    "csv_path = 'E:\\\\Download\\\\new_downloads\\\\train.csv'"
   ]
  },
  {
   "cell_type": "code",
   "execution_count": 4,
   "metadata": {},
   "outputs": [],
   "source": [
    "df_train = pd.read_csv(csv_path)"
   ]
  },
  {
   "cell_type": "code",
   "execution_count": 5,
   "metadata": {},
   "outputs": [
    {
     "data": {
      "text/plain": [
       "(1790594, 17)"
      ]
     },
     "execution_count": 5,
     "metadata": {},
     "output_type": "execute_result"
    }
   ],
   "source": [
    "df_train.shape"
   ]
  },
  {
   "cell_type": "code",
   "execution_count": 6,
   "metadata": {},
   "outputs": [
    {
     "data": {
      "text/html": [
       "<div>\n",
       "<style scoped>\n",
       "    .dataframe tbody tr th:only-of-type {\n",
       "        vertical-align: middle;\n",
       "    }\n",
       "\n",
       "    .dataframe tbody tr th {\n",
       "        vertical-align: top;\n",
       "    }\n",
       "\n",
       "    .dataframe thead th {\n",
       "        text-align: right;\n",
       "    }\n",
       "</style>\n",
       "<table border=\"1\" class=\"dataframe\">\n",
       "  <thead>\n",
       "    <tr style=\"text-align: right;\">\n",
       "      <th></th>\n",
       "      <th>StudyInstanceUID</th>\n",
       "      <th>SeriesInstanceUID</th>\n",
       "      <th>SOPInstanceUID</th>\n",
       "      <th>pe_present_on_image</th>\n",
       "      <th>negative_exam_for_pe</th>\n",
       "      <th>qa_motion</th>\n",
       "      <th>qa_contrast</th>\n",
       "      <th>flow_artifact</th>\n",
       "      <th>rv_lv_ratio_gte_1</th>\n",
       "      <th>rv_lv_ratio_lt_1</th>\n",
       "      <th>leftsided_pe</th>\n",
       "      <th>chronic_pe</th>\n",
       "      <th>true_filling_defect_not_pe</th>\n",
       "      <th>rightsided_pe</th>\n",
       "      <th>acute_and_chronic_pe</th>\n",
       "      <th>central_pe</th>\n",
       "      <th>indeterminate</th>\n",
       "    </tr>\n",
       "  </thead>\n",
       "  <tbody>\n",
       "    <tr>\n",
       "      <th>0</th>\n",
       "      <td>6897fa9de148</td>\n",
       "      <td>2bfbb7fd2e8b</td>\n",
       "      <td>c0f3cb036d06</td>\n",
       "      <td>0</td>\n",
       "      <td>0</td>\n",
       "      <td>0</td>\n",
       "      <td>0</td>\n",
       "      <td>0</td>\n",
       "      <td>0</td>\n",
       "      <td>1</td>\n",
       "      <td>1</td>\n",
       "      <td>0</td>\n",
       "      <td>0</td>\n",
       "      <td>1</td>\n",
       "      <td>0</td>\n",
       "      <td>0</td>\n",
       "      <td>0</td>\n",
       "    </tr>\n",
       "    <tr>\n",
       "      <th>1</th>\n",
       "      <td>6897fa9de148</td>\n",
       "      <td>2bfbb7fd2e8b</td>\n",
       "      <td>f57ffd3883b6</td>\n",
       "      <td>0</td>\n",
       "      <td>0</td>\n",
       "      <td>0</td>\n",
       "      <td>0</td>\n",
       "      <td>0</td>\n",
       "      <td>0</td>\n",
       "      <td>1</td>\n",
       "      <td>1</td>\n",
       "      <td>0</td>\n",
       "      <td>0</td>\n",
       "      <td>1</td>\n",
       "      <td>0</td>\n",
       "      <td>0</td>\n",
       "      <td>0</td>\n",
       "    </tr>\n",
       "    <tr>\n",
       "      <th>2</th>\n",
       "      <td>6897fa9de148</td>\n",
       "      <td>2bfbb7fd2e8b</td>\n",
       "      <td>41220fda34a3</td>\n",
       "      <td>0</td>\n",
       "      <td>0</td>\n",
       "      <td>0</td>\n",
       "      <td>0</td>\n",
       "      <td>0</td>\n",
       "      <td>0</td>\n",
       "      <td>1</td>\n",
       "      <td>1</td>\n",
       "      <td>0</td>\n",
       "      <td>0</td>\n",
       "      <td>1</td>\n",
       "      <td>0</td>\n",
       "      <td>0</td>\n",
       "      <td>0</td>\n",
       "    </tr>\n",
       "    <tr>\n",
       "      <th>3</th>\n",
       "      <td>6897fa9de148</td>\n",
       "      <td>2bfbb7fd2e8b</td>\n",
       "      <td>13b685b4b14f</td>\n",
       "      <td>0</td>\n",
       "      <td>0</td>\n",
       "      <td>0</td>\n",
       "      <td>0</td>\n",
       "      <td>0</td>\n",
       "      <td>0</td>\n",
       "      <td>1</td>\n",
       "      <td>1</td>\n",
       "      <td>0</td>\n",
       "      <td>0</td>\n",
       "      <td>1</td>\n",
       "      <td>0</td>\n",
       "      <td>0</td>\n",
       "      <td>0</td>\n",
       "    </tr>\n",
       "    <tr>\n",
       "      <th>4</th>\n",
       "      <td>6897fa9de148</td>\n",
       "      <td>2bfbb7fd2e8b</td>\n",
       "      <td>be0b7524ffb4</td>\n",
       "      <td>0</td>\n",
       "      <td>0</td>\n",
       "      <td>0</td>\n",
       "      <td>0</td>\n",
       "      <td>0</td>\n",
       "      <td>0</td>\n",
       "      <td>1</td>\n",
       "      <td>1</td>\n",
       "      <td>0</td>\n",
       "      <td>0</td>\n",
       "      <td>1</td>\n",
       "      <td>0</td>\n",
       "      <td>0</td>\n",
       "      <td>0</td>\n",
       "    </tr>\n",
       "  </tbody>\n",
       "</table>\n",
       "</div>"
      ],
      "text/plain": [
       "  StudyInstanceUID SeriesInstanceUID SOPInstanceUID  pe_present_on_image  \\\n",
       "0     6897fa9de148      2bfbb7fd2e8b   c0f3cb036d06                    0   \n",
       "1     6897fa9de148      2bfbb7fd2e8b   f57ffd3883b6                    0   \n",
       "2     6897fa9de148      2bfbb7fd2e8b   41220fda34a3                    0   \n",
       "3     6897fa9de148      2bfbb7fd2e8b   13b685b4b14f                    0   \n",
       "4     6897fa9de148      2bfbb7fd2e8b   be0b7524ffb4                    0   \n",
       "\n",
       "   negative_exam_for_pe  qa_motion  qa_contrast  flow_artifact  \\\n",
       "0                     0          0            0              0   \n",
       "1                     0          0            0              0   \n",
       "2                     0          0            0              0   \n",
       "3                     0          0            0              0   \n",
       "4                     0          0            0              0   \n",
       "\n",
       "   rv_lv_ratio_gte_1  rv_lv_ratio_lt_1  leftsided_pe  chronic_pe  \\\n",
       "0                  0                 1             1           0   \n",
       "1                  0                 1             1           0   \n",
       "2                  0                 1             1           0   \n",
       "3                  0                 1             1           0   \n",
       "4                  0                 1             1           0   \n",
       "\n",
       "   true_filling_defect_not_pe  rightsided_pe  acute_and_chronic_pe  \\\n",
       "0                           0              1                     0   \n",
       "1                           0              1                     0   \n",
       "2                           0              1                     0   \n",
       "3                           0              1                     0   \n",
       "4                           0              1                     0   \n",
       "\n",
       "   central_pe  indeterminate  \n",
       "0           0              0  \n",
       "1           0              0  \n",
       "2           0              0  \n",
       "3           0              0  \n",
       "4           0              0  "
      ]
     },
     "execution_count": 6,
     "metadata": {},
     "output_type": "execute_result"
    }
   ],
   "source": [
    "df_train.head()"
   ]
  },
  {
   "cell_type": "code",
   "execution_count": 7,
   "metadata": {},
   "outputs": [
    {
     "data": {
      "text/html": [
       "<div>\n",
       "<style scoped>\n",
       "    .dataframe tbody tr th:only-of-type {\n",
       "        vertical-align: middle;\n",
       "    }\n",
       "\n",
       "    .dataframe tbody tr th {\n",
       "        vertical-align: top;\n",
       "    }\n",
       "\n",
       "    .dataframe thead th {\n",
       "        text-align: right;\n",
       "    }\n",
       "</style>\n",
       "<table border=\"1\" class=\"dataframe\">\n",
       "  <thead>\n",
       "    <tr style=\"text-align: right;\">\n",
       "      <th></th>\n",
       "      <th>StudyInstanceUID</th>\n",
       "      <th>SeriesInstanceUID</th>\n",
       "      <th>SOPInstanceUID</th>\n",
       "      <th>pe_present_on_image</th>\n",
       "      <th>negative_exam_for_pe</th>\n",
       "      <th>qa_motion</th>\n",
       "      <th>qa_contrast</th>\n",
       "      <th>flow_artifact</th>\n",
       "      <th>rv_lv_ratio_gte_1</th>\n",
       "      <th>rv_lv_ratio_lt_1</th>\n",
       "      <th>leftsided_pe</th>\n",
       "      <th>chronic_pe</th>\n",
       "      <th>true_filling_defect_not_pe</th>\n",
       "      <th>rightsided_pe</th>\n",
       "      <th>acute_and_chronic_pe</th>\n",
       "      <th>central_pe</th>\n",
       "      <th>indeterminate</th>\n",
       "    </tr>\n",
       "  </thead>\n",
       "  <tbody>\n",
       "    <tr>\n",
       "      <th>1790589</th>\n",
       "      <td>4833c9b6a5d0</td>\n",
       "      <td>57e3e3c5f910</td>\n",
       "      <td>da0ecef50cf5</td>\n",
       "      <td>0</td>\n",
       "      <td>0</td>\n",
       "      <td>0</td>\n",
       "      <td>0</td>\n",
       "      <td>0</td>\n",
       "      <td>0</td>\n",
       "      <td>1</td>\n",
       "      <td>1</td>\n",
       "      <td>1</td>\n",
       "      <td>0</td>\n",
       "      <td>0</td>\n",
       "      <td>0</td>\n",
       "      <td>0</td>\n",
       "      <td>0</td>\n",
       "    </tr>\n",
       "    <tr>\n",
       "      <th>1790590</th>\n",
       "      <td>4833c9b6a5d0</td>\n",
       "      <td>57e3e3c5f910</td>\n",
       "      <td>d74b46c2f2c4</td>\n",
       "      <td>0</td>\n",
       "      <td>0</td>\n",
       "      <td>0</td>\n",
       "      <td>0</td>\n",
       "      <td>0</td>\n",
       "      <td>0</td>\n",
       "      <td>1</td>\n",
       "      <td>1</td>\n",
       "      <td>1</td>\n",
       "      <td>0</td>\n",
       "      <td>0</td>\n",
       "      <td>0</td>\n",
       "      <td>0</td>\n",
       "      <td>0</td>\n",
       "    </tr>\n",
       "    <tr>\n",
       "      <th>1790591</th>\n",
       "      <td>4833c9b6a5d0</td>\n",
       "      <td>57e3e3c5f910</td>\n",
       "      <td>ba71189191ad</td>\n",
       "      <td>0</td>\n",
       "      <td>0</td>\n",
       "      <td>0</td>\n",
       "      <td>0</td>\n",
       "      <td>0</td>\n",
       "      <td>0</td>\n",
       "      <td>1</td>\n",
       "      <td>1</td>\n",
       "      <td>1</td>\n",
       "      <td>0</td>\n",
       "      <td>0</td>\n",
       "      <td>0</td>\n",
       "      <td>0</td>\n",
       "      <td>0</td>\n",
       "    </tr>\n",
       "    <tr>\n",
       "      <th>1790592</th>\n",
       "      <td>4833c9b6a5d0</td>\n",
       "      <td>57e3e3c5f910</td>\n",
       "      <td>f4fdc88f2ace</td>\n",
       "      <td>0</td>\n",
       "      <td>0</td>\n",
       "      <td>0</td>\n",
       "      <td>0</td>\n",
       "      <td>0</td>\n",
       "      <td>0</td>\n",
       "      <td>1</td>\n",
       "      <td>1</td>\n",
       "      <td>1</td>\n",
       "      <td>0</td>\n",
       "      <td>0</td>\n",
       "      <td>0</td>\n",
       "      <td>0</td>\n",
       "      <td>0</td>\n",
       "    </tr>\n",
       "    <tr>\n",
       "      <th>1790593</th>\n",
       "      <td>4833c9b6a5d0</td>\n",
       "      <td>57e3e3c5f910</td>\n",
       "      <td>f890efd48940</td>\n",
       "      <td>1</td>\n",
       "      <td>0</td>\n",
       "      <td>0</td>\n",
       "      <td>0</td>\n",
       "      <td>0</td>\n",
       "      <td>0</td>\n",
       "      <td>1</td>\n",
       "      <td>1</td>\n",
       "      <td>1</td>\n",
       "      <td>0</td>\n",
       "      <td>0</td>\n",
       "      <td>0</td>\n",
       "      <td>0</td>\n",
       "      <td>0</td>\n",
       "    </tr>\n",
       "  </tbody>\n",
       "</table>\n",
       "</div>"
      ],
      "text/plain": [
       "        StudyInstanceUID SeriesInstanceUID SOPInstanceUID  \\\n",
       "1790589     4833c9b6a5d0      57e3e3c5f910   da0ecef50cf5   \n",
       "1790590     4833c9b6a5d0      57e3e3c5f910   d74b46c2f2c4   \n",
       "1790591     4833c9b6a5d0      57e3e3c5f910   ba71189191ad   \n",
       "1790592     4833c9b6a5d0      57e3e3c5f910   f4fdc88f2ace   \n",
       "1790593     4833c9b6a5d0      57e3e3c5f910   f890efd48940   \n",
       "\n",
       "         pe_present_on_image  negative_exam_for_pe  qa_motion  qa_contrast  \\\n",
       "1790589                    0                     0          0            0   \n",
       "1790590                    0                     0          0            0   \n",
       "1790591                    0                     0          0            0   \n",
       "1790592                    0                     0          0            0   \n",
       "1790593                    1                     0          0            0   \n",
       "\n",
       "         flow_artifact  rv_lv_ratio_gte_1  rv_lv_ratio_lt_1  leftsided_pe  \\\n",
       "1790589              0                  0                 1             1   \n",
       "1790590              0                  0                 1             1   \n",
       "1790591              0                  0                 1             1   \n",
       "1790592              0                  0                 1             1   \n",
       "1790593              0                  0                 1             1   \n",
       "\n",
       "         chronic_pe  true_filling_defect_not_pe  rightsided_pe  \\\n",
       "1790589           1                           0              0   \n",
       "1790590           1                           0              0   \n",
       "1790591           1                           0              0   \n",
       "1790592           1                           0              0   \n",
       "1790593           1                           0              0   \n",
       "\n",
       "         acute_and_chronic_pe  central_pe  indeterminate  \n",
       "1790589                     0           0              0  \n",
       "1790590                     0           0              0  \n",
       "1790591                     0           0              0  \n",
       "1790592                     0           0              0  \n",
       "1790593                     0           0              0  "
      ]
     },
     "execution_count": 7,
     "metadata": {},
     "output_type": "execute_result"
    }
   ],
   "source": [
    "df_train.tail()"
   ]
  },
  {
   "cell_type": "code",
   "execution_count": 8,
   "metadata": {},
   "outputs": [],
   "source": [
    "image_level_features = ['pe_present_on_image']\n",
    "# exam_level_features = ['negative_exam_for_pe', \n",
    "exam_level_features = ['indeterminate', 'chronic_pe', 'acute_and_chronic_pe', 'central_pe', 'leftsided_pe', 'rightsided_pe', 'rv_lv_ratio_gte_1', 'rv_lv_ratio_lt_1',]\n",
    "informational_features = ['qa_motion', 'qa_contrast', 'true_filling_defect_not_pe', 'flow_artifact']"
   ]
  },
  {
   "cell_type": "code",
   "execution_count": 11,
   "metadata": {},
   "outputs": [],
   "source": [
    "label_0_fraction = 2.7"
   ]
  },
  {
   "cell_type": "code",
   "execution_count": 12,
   "metadata": {},
   "outputs": [],
   "source": [
    "df_train.loc[df_train['pe_present_on_image'] == 0, exam_level_features] = 0\n",
    "df_train[df_train.pe_present_on_image == 1].shape[0], df_train[df_train.pe_present_on_image == 0].shape[0], df_train[df_train.pe_present_on_image == 1].shape[0]/df_train[df_train.pe_present_on_image == 0].shape[0] # high inbalance\n",
    "\n",
    "train_df_0 = df_train[df_train.pe_present_on_image == 0].sample(int(df_train[df_train.pe_present_on_image == 1].shape[0]*label_0_fraction), replace=False)\n",
    "train_df_1 = df_train[df_train.pe_present_on_image == 1].sample(int(df_train[df_train.pe_present_on_image == 1].shape[0]*0.8), replace=False)"
   ]
  },
  {
   "cell_type": "code",
   "execution_count": 13,
   "metadata": {},
   "outputs": [],
   "source": [
    "train_df = train_df_0.append(train_df_1, ignore_index=False)"
   ]
  },
  {
   "cell_type": "code",
   "execution_count": 14,
   "metadata": {},
   "outputs": [
    {
     "data": {
      "text/html": [
       "<div>\n",
       "<style scoped>\n",
       "    .dataframe tbody tr th:only-of-type {\n",
       "        vertical-align: middle;\n",
       "    }\n",
       "\n",
       "    .dataframe tbody tr th {\n",
       "        vertical-align: top;\n",
       "    }\n",
       "\n",
       "    .dataframe thead th {\n",
       "        text-align: right;\n",
       "    }\n",
       "</style>\n",
       "<table border=\"1\" class=\"dataframe\">\n",
       "  <thead>\n",
       "    <tr style=\"text-align: right;\">\n",
       "      <th></th>\n",
       "      <th>StudyInstanceUID</th>\n",
       "      <th>SeriesInstanceUID</th>\n",
       "      <th>SOPInstanceUID</th>\n",
       "      <th>pe_present_on_image</th>\n",
       "      <th>negative_exam_for_pe</th>\n",
       "      <th>qa_motion</th>\n",
       "      <th>qa_contrast</th>\n",
       "      <th>flow_artifact</th>\n",
       "      <th>rv_lv_ratio_gte_1</th>\n",
       "      <th>rv_lv_ratio_lt_1</th>\n",
       "      <th>leftsided_pe</th>\n",
       "      <th>chronic_pe</th>\n",
       "      <th>true_filling_defect_not_pe</th>\n",
       "      <th>rightsided_pe</th>\n",
       "      <th>acute_and_chronic_pe</th>\n",
       "      <th>central_pe</th>\n",
       "      <th>indeterminate</th>\n",
       "    </tr>\n",
       "  </thead>\n",
       "  <tbody>\n",
       "    <tr>\n",
       "      <th>197841</th>\n",
       "      <td>bcc90630d363</td>\n",
       "      <td>2ab9cbf0a970</td>\n",
       "      <td>902437096a8a</td>\n",
       "      <td>0</td>\n",
       "      <td>0</td>\n",
       "      <td>0</td>\n",
       "      <td>0</td>\n",
       "      <td>0</td>\n",
       "      <td>0</td>\n",
       "      <td>0</td>\n",
       "      <td>0</td>\n",
       "      <td>0</td>\n",
       "      <td>0</td>\n",
       "      <td>0</td>\n",
       "      <td>0</td>\n",
       "      <td>0</td>\n",
       "      <td>0</td>\n",
       "    </tr>\n",
       "    <tr>\n",
       "      <th>618716</th>\n",
       "      <td>311beb3ccbd9</td>\n",
       "      <td>4a31b22ea1e5</td>\n",
       "      <td>d7016d73cd38</td>\n",
       "      <td>0</td>\n",
       "      <td>0</td>\n",
       "      <td>0</td>\n",
       "      <td>0</td>\n",
       "      <td>0</td>\n",
       "      <td>0</td>\n",
       "      <td>0</td>\n",
       "      <td>0</td>\n",
       "      <td>0</td>\n",
       "      <td>0</td>\n",
       "      <td>0</td>\n",
       "      <td>0</td>\n",
       "      <td>0</td>\n",
       "      <td>0</td>\n",
       "    </tr>\n",
       "    <tr>\n",
       "      <th>104167</th>\n",
       "      <td>68e00edca978</td>\n",
       "      <td>72da3987a603</td>\n",
       "      <td>26157ea7059a</td>\n",
       "      <td>0</td>\n",
       "      <td>1</td>\n",
       "      <td>0</td>\n",
       "      <td>0</td>\n",
       "      <td>0</td>\n",
       "      <td>0</td>\n",
       "      <td>0</td>\n",
       "      <td>0</td>\n",
       "      <td>0</td>\n",
       "      <td>0</td>\n",
       "      <td>0</td>\n",
       "      <td>0</td>\n",
       "      <td>0</td>\n",
       "      <td>0</td>\n",
       "    </tr>\n",
       "    <tr>\n",
       "      <th>1244033</th>\n",
       "      <td>03ff66b1cc11</td>\n",
       "      <td>cf1759a628b2</td>\n",
       "      <td>d5e6cee57649</td>\n",
       "      <td>0</td>\n",
       "      <td>0</td>\n",
       "      <td>0</td>\n",
       "      <td>0</td>\n",
       "      <td>0</td>\n",
       "      <td>0</td>\n",
       "      <td>0</td>\n",
       "      <td>0</td>\n",
       "      <td>0</td>\n",
       "      <td>0</td>\n",
       "      <td>0</td>\n",
       "      <td>0</td>\n",
       "      <td>0</td>\n",
       "      <td>0</td>\n",
       "    </tr>\n",
       "    <tr>\n",
       "      <th>1623959</th>\n",
       "      <td>4f64ef084d64</td>\n",
       "      <td>c8653b0dcb97</td>\n",
       "      <td>8d4f1fc6d777</td>\n",
       "      <td>0</td>\n",
       "      <td>1</td>\n",
       "      <td>0</td>\n",
       "      <td>0</td>\n",
       "      <td>0</td>\n",
       "      <td>0</td>\n",
       "      <td>0</td>\n",
       "      <td>0</td>\n",
       "      <td>0</td>\n",
       "      <td>0</td>\n",
       "      <td>0</td>\n",
       "      <td>0</td>\n",
       "      <td>0</td>\n",
       "      <td>0</td>\n",
       "    </tr>\n",
       "    <tr>\n",
       "      <th>...</th>\n",
       "      <td>...</td>\n",
       "      <td>...</td>\n",
       "      <td>...</td>\n",
       "      <td>...</td>\n",
       "      <td>...</td>\n",
       "      <td>...</td>\n",
       "      <td>...</td>\n",
       "      <td>...</td>\n",
       "      <td>...</td>\n",
       "      <td>...</td>\n",
       "      <td>...</td>\n",
       "      <td>...</td>\n",
       "      <td>...</td>\n",
       "      <td>...</td>\n",
       "      <td>...</td>\n",
       "      <td>...</td>\n",
       "      <td>...</td>\n",
       "    </tr>\n",
       "    <tr>\n",
       "      <th>1087320</th>\n",
       "      <td>49815063749c</td>\n",
       "      <td>f62bb073c02d</td>\n",
       "      <td>2c4f3f749dc4</td>\n",
       "      <td>1</td>\n",
       "      <td>0</td>\n",
       "      <td>0</td>\n",
       "      <td>0</td>\n",
       "      <td>0</td>\n",
       "      <td>1</td>\n",
       "      <td>0</td>\n",
       "      <td>0</td>\n",
       "      <td>0</td>\n",
       "      <td>0</td>\n",
       "      <td>1</td>\n",
       "      <td>0</td>\n",
       "      <td>1</td>\n",
       "      <td>0</td>\n",
       "    </tr>\n",
       "    <tr>\n",
       "      <th>77982</th>\n",
       "      <td>e6fc04eceaad</td>\n",
       "      <td>d3f18e516e1d</td>\n",
       "      <td>19a2047726cd</td>\n",
       "      <td>1</td>\n",
       "      <td>0</td>\n",
       "      <td>0</td>\n",
       "      <td>0</td>\n",
       "      <td>0</td>\n",
       "      <td>0</td>\n",
       "      <td>1</td>\n",
       "      <td>1</td>\n",
       "      <td>0</td>\n",
       "      <td>0</td>\n",
       "      <td>1</td>\n",
       "      <td>0</td>\n",
       "      <td>0</td>\n",
       "      <td>0</td>\n",
       "    </tr>\n",
       "    <tr>\n",
       "      <th>691266</th>\n",
       "      <td>ab336b035f00</td>\n",
       "      <td>9e398c74218b</td>\n",
       "      <td>37ae9cf8bb14</td>\n",
       "      <td>1</td>\n",
       "      <td>0</td>\n",
       "      <td>0</td>\n",
       "      <td>0</td>\n",
       "      <td>0</td>\n",
       "      <td>1</td>\n",
       "      <td>0</td>\n",
       "      <td>1</td>\n",
       "      <td>0</td>\n",
       "      <td>0</td>\n",
       "      <td>1</td>\n",
       "      <td>1</td>\n",
       "      <td>1</td>\n",
       "      <td>0</td>\n",
       "    </tr>\n",
       "    <tr>\n",
       "      <th>1049009</th>\n",
       "      <td>b74803f30fca</td>\n",
       "      <td>a904c562534c</td>\n",
       "      <td>2cd422b5ff9e</td>\n",
       "      <td>1</td>\n",
       "      <td>0</td>\n",
       "      <td>0</td>\n",
       "      <td>0</td>\n",
       "      <td>0</td>\n",
       "      <td>0</td>\n",
       "      <td>1</td>\n",
       "      <td>1</td>\n",
       "      <td>1</td>\n",
       "      <td>0</td>\n",
       "      <td>1</td>\n",
       "      <td>0</td>\n",
       "      <td>0</td>\n",
       "      <td>0</td>\n",
       "    </tr>\n",
       "    <tr>\n",
       "      <th>633236</th>\n",
       "      <td>ec2a1b707111</td>\n",
       "      <td>c13ef4d1a941</td>\n",
       "      <td>71cd9cce502a</td>\n",
       "      <td>1</td>\n",
       "      <td>0</td>\n",
       "      <td>0</td>\n",
       "      <td>0</td>\n",
       "      <td>0</td>\n",
       "      <td>1</td>\n",
       "      <td>0</td>\n",
       "      <td>1</td>\n",
       "      <td>0</td>\n",
       "      <td>0</td>\n",
       "      <td>1</td>\n",
       "      <td>0</td>\n",
       "      <td>1</td>\n",
       "      <td>0</td>\n",
       "    </tr>\n",
       "  </tbody>\n",
       "</table>\n",
       "<p>337890 rows × 17 columns</p>\n",
       "</div>"
      ],
      "text/plain": [
       "        StudyInstanceUID SeriesInstanceUID SOPInstanceUID  \\\n",
       "197841      bcc90630d363      2ab9cbf0a970   902437096a8a   \n",
       "618716      311beb3ccbd9      4a31b22ea1e5   d7016d73cd38   \n",
       "104167      68e00edca978      72da3987a603   26157ea7059a   \n",
       "1244033     03ff66b1cc11      cf1759a628b2   d5e6cee57649   \n",
       "1623959     4f64ef084d64      c8653b0dcb97   8d4f1fc6d777   \n",
       "...                  ...               ...            ...   \n",
       "1087320     49815063749c      f62bb073c02d   2c4f3f749dc4   \n",
       "77982       e6fc04eceaad      d3f18e516e1d   19a2047726cd   \n",
       "691266      ab336b035f00      9e398c74218b   37ae9cf8bb14   \n",
       "1049009     b74803f30fca      a904c562534c   2cd422b5ff9e   \n",
       "633236      ec2a1b707111      c13ef4d1a941   71cd9cce502a   \n",
       "\n",
       "         pe_present_on_image  negative_exam_for_pe  qa_motion  qa_contrast  \\\n",
       "197841                     0                     0          0            0   \n",
       "618716                     0                     0          0            0   \n",
       "104167                     0                     1          0            0   \n",
       "1244033                    0                     0          0            0   \n",
       "1623959                    0                     1          0            0   \n",
       "...                      ...                   ...        ...          ...   \n",
       "1087320                    1                     0          0            0   \n",
       "77982                      1                     0          0            0   \n",
       "691266                     1                     0          0            0   \n",
       "1049009                    1                     0          0            0   \n",
       "633236                     1                     0          0            0   \n",
       "\n",
       "         flow_artifact  rv_lv_ratio_gte_1  rv_lv_ratio_lt_1  leftsided_pe  \\\n",
       "197841               0                  0                 0             0   \n",
       "618716               0                  0                 0             0   \n",
       "104167               0                  0                 0             0   \n",
       "1244033              0                  0                 0             0   \n",
       "1623959              0                  0                 0             0   \n",
       "...                ...                ...               ...           ...   \n",
       "1087320              0                  1                 0             0   \n",
       "77982                0                  0                 1             1   \n",
       "691266               0                  1                 0             1   \n",
       "1049009              0                  0                 1             1   \n",
       "633236               0                  1                 0             1   \n",
       "\n",
       "         chronic_pe  true_filling_defect_not_pe  rightsided_pe  \\\n",
       "197841            0                           0              0   \n",
       "618716            0                           0              0   \n",
       "104167            0                           0              0   \n",
       "1244033           0                           0              0   \n",
       "1623959           0                           0              0   \n",
       "...             ...                         ...            ...   \n",
       "1087320           0                           0              1   \n",
       "77982             0                           0              1   \n",
       "691266            0                           0              1   \n",
       "1049009           1                           0              1   \n",
       "633236            0                           0              1   \n",
       "\n",
       "         acute_and_chronic_pe  central_pe  indeterminate  \n",
       "197841                      0           0              0  \n",
       "618716                      0           0              0  \n",
       "104167                      0           0              0  \n",
       "1244033                     0           0              0  \n",
       "1623959                     0           0              0  \n",
       "...                       ...         ...            ...  \n",
       "1087320                     0           1              0  \n",
       "77982                       0           0              0  \n",
       "691266                      1           1              0  \n",
       "1049009                     0           0              0  \n",
       "633236                      0           1              0  \n",
       "\n",
       "[337890 rows x 17 columns]"
      ]
     },
     "execution_count": 14,
     "metadata": {},
     "output_type": "execute_result"
    }
   ],
   "source": [
    "train_df"
   ]
  },
  {
   "cell_type": "code",
   "execution_count": 15,
   "metadata": {},
   "outputs": [],
   "source": [
    "df_train = df_train.drop(train_df.index)"
   ]
  },
  {
   "cell_type": "code",
   "execution_count": 16,
   "metadata": {},
   "outputs": [],
   "source": [
    "# df_train[df_train.pe_present_on_image==1]\n",
    "val_df = df_train[df_train.pe_present_on_image==1].append(df_train[df_train.pe_present_on_image==0].sample(int(df_train[df_train.pe_present_on_image == 1].shape[0]*2.5), replace=False))"
   ]
  },
  {
   "cell_type": "code",
   "execution_count": 17,
   "metadata": {},
   "outputs": [],
   "source": [
    "val_df = val_df.sample(frac=1).reset_index(drop=True)\n",
    "train_df = train_df.sample(frac=1).reset_index(drop=True)"
   ]
  },
  {
   "cell_type": "code",
   "execution_count": 18,
   "metadata": {},
   "outputs": [],
   "source": [
    "del df_train"
   ]
  },
  {
   "cell_type": "code",
   "execution_count": 19,
   "metadata": {},
   "outputs": [
    {
     "data": {
      "text/html": [
       "<div>\n",
       "<style scoped>\n",
       "    .dataframe tbody tr th:only-of-type {\n",
       "        vertical-align: middle;\n",
       "    }\n",
       "\n",
       "    .dataframe tbody tr th {\n",
       "        vertical-align: top;\n",
       "    }\n",
       "\n",
       "    .dataframe thead th {\n",
       "        text-align: right;\n",
       "    }\n",
       "</style>\n",
       "<table border=\"1\" class=\"dataframe\">\n",
       "  <thead>\n",
       "    <tr style=\"text-align: right;\">\n",
       "      <th></th>\n",
       "      <th>StudyInstanceUID</th>\n",
       "      <th>SeriesInstanceUID</th>\n",
       "      <th>SOPInstanceUID</th>\n",
       "      <th>pe_present_on_image</th>\n",
       "      <th>negative_exam_for_pe</th>\n",
       "      <th>qa_motion</th>\n",
       "      <th>qa_contrast</th>\n",
       "      <th>flow_artifact</th>\n",
       "      <th>rv_lv_ratio_gte_1</th>\n",
       "      <th>rv_lv_ratio_lt_1</th>\n",
       "      <th>leftsided_pe</th>\n",
       "      <th>chronic_pe</th>\n",
       "      <th>true_filling_defect_not_pe</th>\n",
       "      <th>rightsided_pe</th>\n",
       "      <th>acute_and_chronic_pe</th>\n",
       "      <th>central_pe</th>\n",
       "      <th>indeterminate</th>\n",
       "    </tr>\n",
       "  </thead>\n",
       "  <tbody>\n",
       "    <tr>\n",
       "      <th>0</th>\n",
       "      <td>0ac1801fa355</td>\n",
       "      <td>fdaf80f04735</td>\n",
       "      <td>fb3a00821ef9</td>\n",
       "      <td>0</td>\n",
       "      <td>1</td>\n",
       "      <td>0</td>\n",
       "      <td>0</td>\n",
       "      <td>0</td>\n",
       "      <td>0</td>\n",
       "      <td>0</td>\n",
       "      <td>0</td>\n",
       "      <td>0</td>\n",
       "      <td>0</td>\n",
       "      <td>0</td>\n",
       "      <td>0</td>\n",
       "      <td>0</td>\n",
       "      <td>0</td>\n",
       "    </tr>\n",
       "    <tr>\n",
       "      <th>1</th>\n",
       "      <td>13f188f3bf15</td>\n",
       "      <td>2a775d62118a</td>\n",
       "      <td>47fbecf735ca</td>\n",
       "      <td>1</td>\n",
       "      <td>0</td>\n",
       "      <td>0</td>\n",
       "      <td>0</td>\n",
       "      <td>0</td>\n",
       "      <td>0</td>\n",
       "      <td>1</td>\n",
       "      <td>1</td>\n",
       "      <td>0</td>\n",
       "      <td>0</td>\n",
       "      <td>0</td>\n",
       "      <td>0</td>\n",
       "      <td>0</td>\n",
       "      <td>0</td>\n",
       "    </tr>\n",
       "    <tr>\n",
       "      <th>2</th>\n",
       "      <td>fbc3d7d901c9</td>\n",
       "      <td>61a54c834bba</td>\n",
       "      <td>c476be93572c</td>\n",
       "      <td>0</td>\n",
       "      <td>1</td>\n",
       "      <td>0</td>\n",
       "      <td>0</td>\n",
       "      <td>0</td>\n",
       "      <td>0</td>\n",
       "      <td>0</td>\n",
       "      <td>0</td>\n",
       "      <td>0</td>\n",
       "      <td>0</td>\n",
       "      <td>0</td>\n",
       "      <td>0</td>\n",
       "      <td>0</td>\n",
       "      <td>0</td>\n",
       "    </tr>\n",
       "    <tr>\n",
       "      <th>3</th>\n",
       "      <td>212472baf0b6</td>\n",
       "      <td>1d39cb4dabf2</td>\n",
       "      <td>7f705dfe1517</td>\n",
       "      <td>0</td>\n",
       "      <td>1</td>\n",
       "      <td>0</td>\n",
       "      <td>0</td>\n",
       "      <td>0</td>\n",
       "      <td>0</td>\n",
       "      <td>0</td>\n",
       "      <td>0</td>\n",
       "      <td>0</td>\n",
       "      <td>0</td>\n",
       "      <td>0</td>\n",
       "      <td>0</td>\n",
       "      <td>0</td>\n",
       "      <td>0</td>\n",
       "    </tr>\n",
       "    <tr>\n",
       "      <th>4</th>\n",
       "      <td>0bdde09eba28</td>\n",
       "      <td>abeed2ef579a</td>\n",
       "      <td>1369e23f7745</td>\n",
       "      <td>0</td>\n",
       "      <td>1</td>\n",
       "      <td>0</td>\n",
       "      <td>0</td>\n",
       "      <td>0</td>\n",
       "      <td>0</td>\n",
       "      <td>0</td>\n",
       "      <td>0</td>\n",
       "      <td>0</td>\n",
       "      <td>0</td>\n",
       "      <td>0</td>\n",
       "      <td>0</td>\n",
       "      <td>0</td>\n",
       "      <td>0</td>\n",
       "    </tr>\n",
       "    <tr>\n",
       "      <th>...</th>\n",
       "      <td>...</td>\n",
       "      <td>...</td>\n",
       "      <td>...</td>\n",
       "      <td>...</td>\n",
       "      <td>...</td>\n",
       "      <td>...</td>\n",
       "      <td>...</td>\n",
       "      <td>...</td>\n",
       "      <td>...</td>\n",
       "      <td>...</td>\n",
       "      <td>...</td>\n",
       "      <td>...</td>\n",
       "      <td>...</td>\n",
       "      <td>...</td>\n",
       "      <td>...</td>\n",
       "      <td>...</td>\n",
       "      <td>...</td>\n",
       "    </tr>\n",
       "    <tr>\n",
       "      <th>337885</th>\n",
       "      <td>17c786dc57b8</td>\n",
       "      <td>3263304113ba</td>\n",
       "      <td>4ab6c3a97c66</td>\n",
       "      <td>0</td>\n",
       "      <td>0</td>\n",
       "      <td>0</td>\n",
       "      <td>0</td>\n",
       "      <td>0</td>\n",
       "      <td>0</td>\n",
       "      <td>0</td>\n",
       "      <td>0</td>\n",
       "      <td>0</td>\n",
       "      <td>0</td>\n",
       "      <td>0</td>\n",
       "      <td>0</td>\n",
       "      <td>0</td>\n",
       "      <td>0</td>\n",
       "    </tr>\n",
       "    <tr>\n",
       "      <th>337886</th>\n",
       "      <td>d766f804c9fd</td>\n",
       "      <td>e3f79c0b51f0</td>\n",
       "      <td>7937c71b9ff0</td>\n",
       "      <td>1</td>\n",
       "      <td>0</td>\n",
       "      <td>0</td>\n",
       "      <td>0</td>\n",
       "      <td>0</td>\n",
       "      <td>1</td>\n",
       "      <td>0</td>\n",
       "      <td>1</td>\n",
       "      <td>0</td>\n",
       "      <td>0</td>\n",
       "      <td>1</td>\n",
       "      <td>1</td>\n",
       "      <td>0</td>\n",
       "      <td>0</td>\n",
       "    </tr>\n",
       "    <tr>\n",
       "      <th>337887</th>\n",
       "      <td>90bdd62a8b54</td>\n",
       "      <td>7ba21434c065</td>\n",
       "      <td>0629f57c8941</td>\n",
       "      <td>0</td>\n",
       "      <td>1</td>\n",
       "      <td>0</td>\n",
       "      <td>0</td>\n",
       "      <td>0</td>\n",
       "      <td>0</td>\n",
       "      <td>0</td>\n",
       "      <td>0</td>\n",
       "      <td>0</td>\n",
       "      <td>0</td>\n",
       "      <td>0</td>\n",
       "      <td>0</td>\n",
       "      <td>0</td>\n",
       "      <td>0</td>\n",
       "    </tr>\n",
       "    <tr>\n",
       "      <th>337888</th>\n",
       "      <td>8c87d014fa6f</td>\n",
       "      <td>2f6e5211ed42</td>\n",
       "      <td>26f5f2327baa</td>\n",
       "      <td>0</td>\n",
       "      <td>0</td>\n",
       "      <td>0</td>\n",
       "      <td>0</td>\n",
       "      <td>0</td>\n",
       "      <td>0</td>\n",
       "      <td>0</td>\n",
       "      <td>0</td>\n",
       "      <td>0</td>\n",
       "      <td>0</td>\n",
       "      <td>0</td>\n",
       "      <td>0</td>\n",
       "      <td>0</td>\n",
       "      <td>0</td>\n",
       "    </tr>\n",
       "    <tr>\n",
       "      <th>337889</th>\n",
       "      <td>d72cb7605432</td>\n",
       "      <td>7a5c3dc9f380</td>\n",
       "      <td>ac99ab861446</td>\n",
       "      <td>0</td>\n",
       "      <td>1</td>\n",
       "      <td>0</td>\n",
       "      <td>0</td>\n",
       "      <td>0</td>\n",
       "      <td>0</td>\n",
       "      <td>0</td>\n",
       "      <td>0</td>\n",
       "      <td>0</td>\n",
       "      <td>0</td>\n",
       "      <td>0</td>\n",
       "      <td>0</td>\n",
       "      <td>0</td>\n",
       "      <td>0</td>\n",
       "    </tr>\n",
       "  </tbody>\n",
       "</table>\n",
       "<p>337890 rows × 17 columns</p>\n",
       "</div>"
      ],
      "text/plain": [
       "       StudyInstanceUID SeriesInstanceUID SOPInstanceUID  pe_present_on_image  \\\n",
       "0          0ac1801fa355      fdaf80f04735   fb3a00821ef9                    0   \n",
       "1          13f188f3bf15      2a775d62118a   47fbecf735ca                    1   \n",
       "2          fbc3d7d901c9      61a54c834bba   c476be93572c                    0   \n",
       "3          212472baf0b6      1d39cb4dabf2   7f705dfe1517                    0   \n",
       "4          0bdde09eba28      abeed2ef579a   1369e23f7745                    0   \n",
       "...                 ...               ...            ...                  ...   \n",
       "337885     17c786dc57b8      3263304113ba   4ab6c3a97c66                    0   \n",
       "337886     d766f804c9fd      e3f79c0b51f0   7937c71b9ff0                    1   \n",
       "337887     90bdd62a8b54      7ba21434c065   0629f57c8941                    0   \n",
       "337888     8c87d014fa6f      2f6e5211ed42   26f5f2327baa                    0   \n",
       "337889     d72cb7605432      7a5c3dc9f380   ac99ab861446                    0   \n",
       "\n",
       "        negative_exam_for_pe  qa_motion  qa_contrast  flow_artifact  \\\n",
       "0                          1          0            0              0   \n",
       "1                          0          0            0              0   \n",
       "2                          1          0            0              0   \n",
       "3                          1          0            0              0   \n",
       "4                          1          0            0              0   \n",
       "...                      ...        ...          ...            ...   \n",
       "337885                     0          0            0              0   \n",
       "337886                     0          0            0              0   \n",
       "337887                     1          0            0              0   \n",
       "337888                     0          0            0              0   \n",
       "337889                     1          0            0              0   \n",
       "\n",
       "        rv_lv_ratio_gte_1  rv_lv_ratio_lt_1  leftsided_pe  chronic_pe  \\\n",
       "0                       0                 0             0           0   \n",
       "1                       0                 1             1           0   \n",
       "2                       0                 0             0           0   \n",
       "3                       0                 0             0           0   \n",
       "4                       0                 0             0           0   \n",
       "...                   ...               ...           ...         ...   \n",
       "337885                  0                 0             0           0   \n",
       "337886                  1                 0             1           0   \n",
       "337887                  0                 0             0           0   \n",
       "337888                  0                 0             0           0   \n",
       "337889                  0                 0             0           0   \n",
       "\n",
       "        true_filling_defect_not_pe  rightsided_pe  acute_and_chronic_pe  \\\n",
       "0                                0              0                     0   \n",
       "1                                0              0                     0   \n",
       "2                                0              0                     0   \n",
       "3                                0              0                     0   \n",
       "4                                0              0                     0   \n",
       "...                            ...            ...                   ...   \n",
       "337885                           0              0                     0   \n",
       "337886                           0              1                     1   \n",
       "337887                           0              0                     0   \n",
       "337888                           0              0                     0   \n",
       "337889                           0              0                     0   \n",
       "\n",
       "        central_pe  indeterminate  \n",
       "0                0              0  \n",
       "1                0              0  \n",
       "2                0              0  \n",
       "3                0              0  \n",
       "4                0              0  \n",
       "...            ...            ...  \n",
       "337885           0              0  \n",
       "337886           0              0  \n",
       "337887           0              0  \n",
       "337888           0              0  \n",
       "337889           0              0  \n",
       "\n",
       "[337890 rows x 17 columns]"
      ]
     },
     "execution_count": 19,
     "metadata": {},
     "output_type": "execute_result"
    }
   ],
   "source": [
    "train_df"
   ]
  },
  {
   "cell_type": "code",
   "execution_count": 20,
   "metadata": {},
   "outputs": [
    {
     "data": {
      "text/html": [
       "<div>\n",
       "<style scoped>\n",
       "    .dataframe tbody tr th:only-of-type {\n",
       "        vertical-align: middle;\n",
       "    }\n",
       "\n",
       "    .dataframe tbody tr th {\n",
       "        vertical-align: top;\n",
       "    }\n",
       "\n",
       "    .dataframe thead th {\n",
       "        text-align: right;\n",
       "    }\n",
       "</style>\n",
       "<table border=\"1\" class=\"dataframe\">\n",
       "  <thead>\n",
       "    <tr style=\"text-align: right;\">\n",
       "      <th></th>\n",
       "      <th>StudyInstanceUID</th>\n",
       "      <th>SeriesInstanceUID</th>\n",
       "      <th>SOPInstanceUID</th>\n",
       "      <th>pe_present_on_image</th>\n",
       "      <th>negative_exam_for_pe</th>\n",
       "      <th>qa_motion</th>\n",
       "      <th>qa_contrast</th>\n",
       "      <th>flow_artifact</th>\n",
       "      <th>rv_lv_ratio_gte_1</th>\n",
       "      <th>rv_lv_ratio_lt_1</th>\n",
       "      <th>leftsided_pe</th>\n",
       "      <th>chronic_pe</th>\n",
       "      <th>true_filling_defect_not_pe</th>\n",
       "      <th>rightsided_pe</th>\n",
       "      <th>acute_and_chronic_pe</th>\n",
       "      <th>central_pe</th>\n",
       "      <th>indeterminate</th>\n",
       "    </tr>\n",
       "  </thead>\n",
       "  <tbody>\n",
       "    <tr>\n",
       "      <th>0</th>\n",
       "      <td>ad246a097fa6</td>\n",
       "      <td>f697bc2569eb</td>\n",
       "      <td>17fca86286d9</td>\n",
       "      <td>1</td>\n",
       "      <td>0</td>\n",
       "      <td>0</td>\n",
       "      <td>0</td>\n",
       "      <td>0</td>\n",
       "      <td>1</td>\n",
       "      <td>0</td>\n",
       "      <td>1</td>\n",
       "      <td>0</td>\n",
       "      <td>0</td>\n",
       "      <td>1</td>\n",
       "      <td>0</td>\n",
       "      <td>1</td>\n",
       "      <td>0</td>\n",
       "    </tr>\n",
       "    <tr>\n",
       "      <th>1</th>\n",
       "      <td>9233a407550f</td>\n",
       "      <td>a9b8f6aa8737</td>\n",
       "      <td>f8359c107e96</td>\n",
       "      <td>1</td>\n",
       "      <td>0</td>\n",
       "      <td>0</td>\n",
       "      <td>0</td>\n",
       "      <td>0</td>\n",
       "      <td>1</td>\n",
       "      <td>0</td>\n",
       "      <td>1</td>\n",
       "      <td>0</td>\n",
       "      <td>0</td>\n",
       "      <td>1</td>\n",
       "      <td>0</td>\n",
       "      <td>1</td>\n",
       "      <td>0</td>\n",
       "    </tr>\n",
       "    <tr>\n",
       "      <th>2</th>\n",
       "      <td>486fc8e335a3</td>\n",
       "      <td>ce2af12b5bc5</td>\n",
       "      <td>691aa9baea1d</td>\n",
       "      <td>1</td>\n",
       "      <td>0</td>\n",
       "      <td>0</td>\n",
       "      <td>0</td>\n",
       "      <td>0</td>\n",
       "      <td>0</td>\n",
       "      <td>1</td>\n",
       "      <td>1</td>\n",
       "      <td>1</td>\n",
       "      <td>0</td>\n",
       "      <td>1</td>\n",
       "      <td>0</td>\n",
       "      <td>0</td>\n",
       "      <td>0</td>\n",
       "    </tr>\n",
       "    <tr>\n",
       "      <th>3</th>\n",
       "      <td>b5fb8c062614</td>\n",
       "      <td>560ce6268c6e</td>\n",
       "      <td>f9a069eb9d89</td>\n",
       "      <td>1</td>\n",
       "      <td>0</td>\n",
       "      <td>0</td>\n",
       "      <td>0</td>\n",
       "      <td>0</td>\n",
       "      <td>0</td>\n",
       "      <td>1</td>\n",
       "      <td>1</td>\n",
       "      <td>0</td>\n",
       "      <td>0</td>\n",
       "      <td>1</td>\n",
       "      <td>0</td>\n",
       "      <td>0</td>\n",
       "      <td>0</td>\n",
       "    </tr>\n",
       "    <tr>\n",
       "      <th>4</th>\n",
       "      <td>de9e82cbd095</td>\n",
       "      <td>962f6720ad61</td>\n",
       "      <td>927a2607a117</td>\n",
       "      <td>0</td>\n",
       "      <td>0</td>\n",
       "      <td>0</td>\n",
       "      <td>1</td>\n",
       "      <td>0</td>\n",
       "      <td>0</td>\n",
       "      <td>0</td>\n",
       "      <td>0</td>\n",
       "      <td>0</td>\n",
       "      <td>0</td>\n",
       "      <td>0</td>\n",
       "      <td>0</td>\n",
       "      <td>0</td>\n",
       "      <td>0</td>\n",
       "    </tr>\n",
       "    <tr>\n",
       "      <th>...</th>\n",
       "      <td>...</td>\n",
       "      <td>...</td>\n",
       "      <td>...</td>\n",
       "      <td>...</td>\n",
       "      <td>...</td>\n",
       "      <td>...</td>\n",
       "      <td>...</td>\n",
       "      <td>...</td>\n",
       "      <td>...</td>\n",
       "      <td>...</td>\n",
       "      <td>...</td>\n",
       "      <td>...</td>\n",
       "      <td>...</td>\n",
       "      <td>...</td>\n",
       "      <td>...</td>\n",
       "      <td>...</td>\n",
       "      <td>...</td>\n",
       "    </tr>\n",
       "    <tr>\n",
       "      <th>67573</th>\n",
       "      <td>f92b8b063d30</td>\n",
       "      <td>d6abd312734e</td>\n",
       "      <td>434fb3670d8a</td>\n",
       "      <td>0</td>\n",
       "      <td>0</td>\n",
       "      <td>0</td>\n",
       "      <td>0</td>\n",
       "      <td>0</td>\n",
       "      <td>0</td>\n",
       "      <td>0</td>\n",
       "      <td>0</td>\n",
       "      <td>0</td>\n",
       "      <td>0</td>\n",
       "      <td>0</td>\n",
       "      <td>0</td>\n",
       "      <td>0</td>\n",
       "      <td>0</td>\n",
       "    </tr>\n",
       "    <tr>\n",
       "      <th>67574</th>\n",
       "      <td>84fa4ac4cfd4</td>\n",
       "      <td>afb7b590b8b1</td>\n",
       "      <td>1a921d2411f0</td>\n",
       "      <td>0</td>\n",
       "      <td>1</td>\n",
       "      <td>0</td>\n",
       "      <td>0</td>\n",
       "      <td>0</td>\n",
       "      <td>0</td>\n",
       "      <td>0</td>\n",
       "      <td>0</td>\n",
       "      <td>0</td>\n",
       "      <td>0</td>\n",
       "      <td>0</td>\n",
       "      <td>0</td>\n",
       "      <td>0</td>\n",
       "      <td>0</td>\n",
       "    </tr>\n",
       "    <tr>\n",
       "      <th>67575</th>\n",
       "      <td>a10a3f7c27bb</td>\n",
       "      <td>7db14bcc90cb</td>\n",
       "      <td>1d0b5b12e9cb</td>\n",
       "      <td>1</td>\n",
       "      <td>0</td>\n",
       "      <td>0</td>\n",
       "      <td>0</td>\n",
       "      <td>0</td>\n",
       "      <td>0</td>\n",
       "      <td>1</td>\n",
       "      <td>0</td>\n",
       "      <td>0</td>\n",
       "      <td>0</td>\n",
       "      <td>1</td>\n",
       "      <td>0</td>\n",
       "      <td>0</td>\n",
       "      <td>0</td>\n",
       "    </tr>\n",
       "    <tr>\n",
       "      <th>67576</th>\n",
       "      <td>c7470e149485</td>\n",
       "      <td>34a5b0b544c8</td>\n",
       "      <td>b431b07c60e0</td>\n",
       "      <td>0</td>\n",
       "      <td>1</td>\n",
       "      <td>0</td>\n",
       "      <td>0</td>\n",
       "      <td>0</td>\n",
       "      <td>0</td>\n",
       "      <td>0</td>\n",
       "      <td>0</td>\n",
       "      <td>0</td>\n",
       "      <td>0</td>\n",
       "      <td>0</td>\n",
       "      <td>0</td>\n",
       "      <td>0</td>\n",
       "      <td>0</td>\n",
       "    </tr>\n",
       "    <tr>\n",
       "      <th>67577</th>\n",
       "      <td>64eb7fbc0126</td>\n",
       "      <td>fe0f233228b9</td>\n",
       "      <td>24bee14a2498</td>\n",
       "      <td>0</td>\n",
       "      <td>0</td>\n",
       "      <td>0</td>\n",
       "      <td>0</td>\n",
       "      <td>0</td>\n",
       "      <td>0</td>\n",
       "      <td>0</td>\n",
       "      <td>0</td>\n",
       "      <td>0</td>\n",
       "      <td>0</td>\n",
       "      <td>0</td>\n",
       "      <td>0</td>\n",
       "      <td>0</td>\n",
       "      <td>0</td>\n",
       "    </tr>\n",
       "  </tbody>\n",
       "</table>\n",
       "<p>67578 rows × 17 columns</p>\n",
       "</div>"
      ],
      "text/plain": [
       "      StudyInstanceUID SeriesInstanceUID SOPInstanceUID  pe_present_on_image  \\\n",
       "0         ad246a097fa6      f697bc2569eb   17fca86286d9                    1   \n",
       "1         9233a407550f      a9b8f6aa8737   f8359c107e96                    1   \n",
       "2         486fc8e335a3      ce2af12b5bc5   691aa9baea1d                    1   \n",
       "3         b5fb8c062614      560ce6268c6e   f9a069eb9d89                    1   \n",
       "4         de9e82cbd095      962f6720ad61   927a2607a117                    0   \n",
       "...                ...               ...            ...                  ...   \n",
       "67573     f92b8b063d30      d6abd312734e   434fb3670d8a                    0   \n",
       "67574     84fa4ac4cfd4      afb7b590b8b1   1a921d2411f0                    0   \n",
       "67575     a10a3f7c27bb      7db14bcc90cb   1d0b5b12e9cb                    1   \n",
       "67576     c7470e149485      34a5b0b544c8   b431b07c60e0                    0   \n",
       "67577     64eb7fbc0126      fe0f233228b9   24bee14a2498                    0   \n",
       "\n",
       "       negative_exam_for_pe  qa_motion  qa_contrast  flow_artifact  \\\n",
       "0                         0          0            0              0   \n",
       "1                         0          0            0              0   \n",
       "2                         0          0            0              0   \n",
       "3                         0          0            0              0   \n",
       "4                         0          0            1              0   \n",
       "...                     ...        ...          ...            ...   \n",
       "67573                     0          0            0              0   \n",
       "67574                     1          0            0              0   \n",
       "67575                     0          0            0              0   \n",
       "67576                     1          0            0              0   \n",
       "67577                     0          0            0              0   \n",
       "\n",
       "       rv_lv_ratio_gte_1  rv_lv_ratio_lt_1  leftsided_pe  chronic_pe  \\\n",
       "0                      1                 0             1           0   \n",
       "1                      1                 0             1           0   \n",
       "2                      0                 1             1           1   \n",
       "3                      0                 1             1           0   \n",
       "4                      0                 0             0           0   \n",
       "...                  ...               ...           ...         ...   \n",
       "67573                  0                 0             0           0   \n",
       "67574                  0                 0             0           0   \n",
       "67575                  0                 1             0           0   \n",
       "67576                  0                 0             0           0   \n",
       "67577                  0                 0             0           0   \n",
       "\n",
       "       true_filling_defect_not_pe  rightsided_pe  acute_and_chronic_pe  \\\n",
       "0                               0              1                     0   \n",
       "1                               0              1                     0   \n",
       "2                               0              1                     0   \n",
       "3                               0              1                     0   \n",
       "4                               0              0                     0   \n",
       "...                           ...            ...                   ...   \n",
       "67573                           0              0                     0   \n",
       "67574                           0              0                     0   \n",
       "67575                           0              1                     0   \n",
       "67576                           0              0                     0   \n",
       "67577                           0              0                     0   \n",
       "\n",
       "       central_pe  indeterminate  \n",
       "0               1              0  \n",
       "1               1              0  \n",
       "2               0              0  \n",
       "3               0              0  \n",
       "4               0              0  \n",
       "...           ...            ...  \n",
       "67573           0              0  \n",
       "67574           0              0  \n",
       "67575           0              0  \n",
       "67576           0              0  \n",
       "67577           0              0  \n",
       "\n",
       "[67578 rows x 17 columns]"
      ]
     },
     "execution_count": 20,
     "metadata": {},
     "output_type": "execute_result"
    }
   ],
   "source": [
    "val_df"
   ]
  },
  {
   "cell_type": "code",
   "execution_count": 21,
   "metadata": {},
   "outputs": [],
   "source": [
    "def get_an_image(df, idx=0):\n",
    "    row = df.iloc[idx]\n",
    "    img = Image.open(glob.glob(f\"{train_path}/{row[0]}/{row[1]}/*{row[2]}.jpg\")[0])\n",
    "    return img"
   ]
  },
  {
   "cell_type": "code",
   "execution_count": 22,
   "metadata": {},
   "outputs": [],
   "source": [
    "img = get_an_image(train_df, 0)"
   ]
  },
  {
   "cell_type": "code",
   "execution_count": 23,
   "metadata": {},
   "outputs": [
    {
     "data": {
      "text/plain": [
       "(256, 256, 3)"
      ]
     },
     "execution_count": 23,
     "metadata": {},
     "output_type": "execute_result"
    }
   ],
   "source": [
    "np.array(img).shape"
   ]
  },
  {
   "cell_type": "code",
   "execution_count": 24,
   "metadata": {},
   "outputs": [
    {
     "data": {
      "text/plain": [
       "<matplotlib.image.AxesImage at 0x14c0c9270c8>"
      ]
     },
     "execution_count": 24,
     "metadata": {},
     "output_type": "execute_result"
    },
    {
     "data": {
      "image/png": "[encoded data removed]",
      "text/plain": [
       "<Figure size 432x288 with 1 Axes>"
      ]
     },
     "metadata": {
      "needs_background": "light"
     },
     "output_type": "display_data"
    }
   ],
   "source": [
    "plt.imshow(img)"
   ]
  },
  {
   "cell_type": "code",
   "execution_count": 25,
   "metadata": {},
   "outputs": [],
   "source": [
    "def plot_image(img):\n",
    "    plt.figure(figsize=[12,6])\n",
    "    plt.subplot(131)\n",
    "    plt.imshow(img[:,:,0],cmap='gray')\n",
    "    plt.subplot(132)\n",
    "    plt.imshow(img[:,:,1],cmap='gray')\n",
    "    plt.subplot(133)\n",
    "    plt.imshow(img[:,:,2],cmap='gray')"
   ]
  },
  {
   "cell_type": "code",
   "execution_count": 26,
   "metadata": {},
   "outputs": [
    {
     "data": {
      "image/png": "[encoded data removed]",
      "text/plain": [
       "<Figure size 864x432 with 3 Axes>"
      ]
     },
     "metadata": {
      "needs_background": "light"
     },
     "output_type": "display_data"
    }
   ],
   "source": [
    "plot_image(np.array(img))"
   ]
  },
  {
   "cell_type": "code",
   "execution_count": 27,
   "metadata": {},
   "outputs": [
    {
     "data": {
      "text/plain": [
       "['qa_motion', 'qa_contrast', 'true_filling_defect_not_pe', 'flow_artifact']"
      ]
     },
     "execution_count": 27,
     "metadata": {},
     "output_type": "execute_result"
    }
   ],
   "source": [
    "informational_features"
   ]
  },
  {
   "cell_type": "code",
   "execution_count": 28,
   "metadata": {},
   "outputs": [],
   "source": [
    "class LungsDataset(Dataset):\n",
    "\n",
    "    def __init__(self, csv_file, transform=None):\n",
    "        self.csv_file = csv_file\n",
    "        self.transform = transform\n",
    "\n",
    "    def __len__(self):\n",
    "        return len(self.csv_file)\n",
    "\n",
    "    def __getitem__(self, idx):\n",
    "\n",
    "        row = self.csv_file.iloc[idx]\n",
    "        img = Image.open(glob.glob(f\"{train_path}/{row[0]}/{row[1]}/*{row[2]}.jpg\")[0])\n",
    "\n",
    "        img = self.transform(img).to(device)\n",
    "        targets = torch.tensor(row[image_level_features+exam_level_features].values.astype(np.float16)).float().to(device)\n",
    "\n",
    "        return img, targets"
   ]
  },
  {
   "cell_type": "code",
   "execution_count": 29,
   "metadata": {},
   "outputs": [],
   "source": [
    "normalize = transforms.Normalize(\n",
    "    mean=[0.5, 0.5, 0.5],\n",
    "    std=[0.5, 0.5, 0.5]\n",
    ")\n",
    "\n",
    "ds_trans = transforms.Compose([\n",
    "                                transforms.Resize((224, 224)),\n",
    "#                                 '''\n",
    "#                                 7.4 - Dataset Augmentation\n",
    "#                                 '''\n",
    "                                transforms.RandomApply([ \n",
    "#                                     transforms.ColorJitter(hue=.05, saturation=.05,),\n",
    "                                    transforms.RandomHorizontalFlip(),\n",
    "                                    transforms.RandomRotation(20, resample=PIL.Image.BILINEAR)],p=0.5),\n",
    "                                transforms.ToTensor(),\n",
    "                                normalize\n",
    "])\n",
    "\n",
    "invTrans = transforms.Compose([ transforms.Normalize(mean = [ 0., 0., 0. ],\n",
    "                                                     std = [ 1/0.229, 1/0.224, 1/0.225 ]),\n",
    "                                transforms.Normalize(mean = [ -0.485, -0.456, -0.406 ],\n",
    "                                                     std = [ 1., 1., 1. ]),\n",
    "                               ])"
   ]
  },
  {
   "cell_type": "code",
   "execution_count": 30,
   "metadata": {},
   "outputs": [
    {
     "data": {
      "text/plain": [
       "(337890, 67578)"
      ]
     },
     "execution_count": 30,
     "metadata": {},
     "output_type": "execute_result"
    }
   ],
   "source": [
    "train_dataset = LungsDataset(train_df, transform=ds_trans)\n",
    "\n",
    "val_dataset = LungsDataset(val_df, transform=ds_trans)\n",
    "\n",
    "len(train_dataset), len(val_dataset)"
   ]
  },
  {
   "cell_type": "code",
   "execution_count": 31,
   "metadata": {},
   "outputs": [],
   "source": [
    "batch_size = 64\n",
    "\n",
    "train_dataloader = DataLoader(train_dataset, batch_size=batch_size, shuffle=False)\n",
    "val_dataloader = DataLoader(val_dataset, batch_size=batch_size, shuffle=False)"
   ]
  },
  {
   "cell_type": "code",
   "execution_count": 32,
   "metadata": {},
   "outputs": [
    {
     "data": {
      "text/plain": [
       "(512, 1000)"
      ]
     },
     "execution_count": 32,
     "metadata": {},
     "output_type": "execute_result"
    }
   ],
   "source": [
    "resnet34 = models.resnet34(pretrained=True)\n",
    "fc_feat_size = resnet34.fc.in_features\n",
    "resnet34.fc.in_features, resnet34.fc.out_features"
   ]
  },
  {
   "cell_type": "code",
   "execution_count": 33,
   "metadata": {},
   "outputs": [],
   "source": [
    "class Flatten(nn.Module):\n",
    "    def __init__(self):\n",
    "        super(Flatten, self).__init__()\n",
    "    def __forward__(self, x):\n",
    "        x = x.view(x.size(0), -1)\n",
    "        return x\n",
    "    \n",
    "class Identity(nn.Module):\n",
    "    def __init__(self):\n",
    "        super(Identity, self).__init__()\n",
    "    def forward(self, x):\n",
    "        return x"
   ]
  },
  {
   "cell_type": "code",
   "execution_count": 34,
   "metadata": {},
   "outputs": [],
   "source": [
    "resnet34.avgpool = Identity()\n",
    "resnet34.fc = Identity()"
   ]
  },
  {
   "cell_type": "code",
   "execution_count": 35,
   "metadata": {},
   "outputs": [
    {
     "data": {
      "text/plain": [
       "ResNet(\n",
       "  (conv1): Conv2d(3, 64, kernel_size=(7, 7), stride=(2, 2), padding=(3, 3), bias=False)\n",
       "  (bn1): BatchNorm2d(64, eps=1e-05, momentum=0.1, affine=True, track_running_stats=True)\n",
       "  (relu): ReLU(inplace=True)\n",
       "  (maxpool): MaxPool2d(kernel_size=3, stride=2, padding=1, dilation=1, ceil_mode=False)\n",
       "  (layer1): Sequential(\n",
       "    (0): BasicBlock(\n",
       "      (conv1): Conv2d(64, 64, kernel_size=(3, 3), stride=(1, 1), padding=(1, 1), bias=False)\n",
       "      (bn1): BatchNorm2d(64, eps=1e-05, momentum=0.1, affine=True, track_running_stats=True)\n",
       "      (relu): ReLU(inplace=True)\n",
       "      (conv2): Conv2d(64, 64, kernel_size=(3, 3), stride=(1, 1), padding=(1, 1), bias=False)\n",
       "      (bn2): BatchNorm2d(64, eps=1e-05, momentum=0.1, affine=True, track_running_stats=True)\n",
       "    )\n",
       "    (1): BasicBlock(\n",
       "      (conv1): Conv2d(64, 64, kernel_size=(3, 3), stride=(1, 1), padding=(1, 1), bias=False)\n",
       "      (bn1): BatchNorm2d(64, eps=1e-05, momentum=0.1, affine=True, track_running_stats=True)\n",
       "      (relu): ReLU(inplace=True)\n",
       "      (conv2): Conv2d(64, 64, kernel_size=(3, 3), stride=(1, 1), padding=(1, 1), bias=False)\n",
       "      (bn2): BatchNorm2d(64, eps=1e-05, momentum=0.1, affine=True, track_running_stats=True)\n",
       "    )\n",
       "    (2): BasicBlock(\n",
       "      (conv1): Conv2d(64, 64, kernel_size=(3, 3), stride=(1, 1), padding=(1, 1), bias=False)\n",
       "      (bn1): BatchNorm2d(64, eps=1e-05, momentum=0.1, affine=True, track_running_stats=True)\n",
       "      (relu): ReLU(inplace=True)\n",
       "      (conv2): Conv2d(64, 64, kernel_size=(3, 3), stride=(1, 1), padding=(1, 1), bias=False)\n",
       "      (bn2): BatchNorm2d(64, eps=1e-05, momentum=0.1, affine=True, track_running_stats=True)\n",
       "    )\n",
       "  )\n",
       "  (layer2): Sequential(\n",
       "    (0): BasicBlock(\n",
       "      (conv1): Conv2d(64, 128, kernel_size=(3, 3), stride=(2, 2), padding=(1, 1), bias=False)\n",
       "      (bn1): BatchNorm2d(128, eps=1e-05, momentum=0.1, affine=True, track_running_stats=True)\n",
       "      (relu): ReLU(inplace=True)\n",
       "      (conv2): Conv2d(128, 128, kernel_size=(3, 3), stride=(1, 1), padding=(1, 1), bias=False)\n",
       "      (bn2): BatchNorm2d(128, eps=1e-05, momentum=0.1, affine=True, track_running_stats=True)\n",
       "      (downsample): Sequential(\n",
       "        (0): Conv2d(64, 128, kernel_size=(1, 1), stride=(2, 2), bias=False)\n",
       "        (1): BatchNorm2d(128, eps=1e-05, momentum=0.1, affine=True, track_running_stats=True)\n",
       "      )\n",
       "    )\n",
       "    (1): BasicBlock(\n",
       "      (conv1): Conv2d(128, 128, kernel_size=(3, 3), stride=(1, 1), padding=(1, 1), bias=False)\n",
       "      (bn1): BatchNorm2d(128, eps=1e-05, momentum=0.1, affine=True, track_running_stats=True)\n",
       "      (relu): ReLU(inplace=True)\n",
       "      (conv2): Conv2d(128, 128, kernel_size=(3, 3), stride=(1, 1), padding=(1, 1), bias=False)\n",
       "      (bn2): BatchNorm2d(128, eps=1e-05, momentum=0.1, affine=True, track_running_stats=True)\n",
       "    )\n",
       "    (2): BasicBlock(\n",
       "      (conv1): Conv2d(128, 128, kernel_size=(3, 3), stride=(1, 1), padding=(1, 1), bias=False)\n",
       "      (bn1): BatchNorm2d(128, eps=1e-05, momentum=0.1, affine=True, track_running_stats=True)\n",
       "      (relu): ReLU(inplace=True)\n",
       "      (conv2): Conv2d(128, 128, kernel_size=(3, 3), stride=(1, 1), padding=(1, 1), bias=False)\n",
       "      (bn2): BatchNorm2d(128, eps=1e-05, momentum=0.1, affine=True, track_running_stats=True)\n",
       "    )\n",
       "    (3): BasicBlock(\n",
       "      (conv1): Conv2d(128, 128, kernel_size=(3, 3), stride=(1, 1), padding=(1, 1), bias=False)\n",
       "      (bn1): BatchNorm2d(128, eps=1e-05, momentum=0.1, affine=True, track_running_stats=True)\n",
       "      (relu): ReLU(inplace=True)\n",
       "      (conv2): Conv2d(128, 128, kernel_size=(3, 3), stride=(1, 1), padding=(1, 1), bias=False)\n",
       "      (bn2): BatchNorm2d(128, eps=1e-05, momentum=0.1, affine=True, track_running_stats=True)\n",
       "    )\n",
       "  )\n",
       "  (layer3): Sequential(\n",
       "    (0): BasicBlock(\n",
       "      (conv1): Conv2d(128, 256, kernel_size=(3, 3), stride=(2, 2), padding=(1, 1), bias=False)\n",
       "      (bn1): BatchNorm2d(256, eps=1e-05, momentum=0.1, affine=True, track_running_stats=True)\n",
       "      (relu): ReLU(inplace=True)\n",
       "      (conv2): Conv2d(256, 256, kernel_size=(3, 3), stride=(1, 1), padding=(1, 1), bias=False)\n",
       "      (bn2): BatchNorm2d(256, eps=1e-05, momentum=0.1, affine=True, track_running_stats=True)\n",
       "      (downsample): Sequential(\n",
       "        (0): Conv2d(128, 256, kernel_size=(1, 1), stride=(2, 2), bias=False)\n",
       "        (1): BatchNorm2d(256, eps=1e-05, momentum=0.1, affine=True, track_running_stats=True)\n",
       "      )\n",
       "    )\n",
       "    (1): BasicBlock(\n",
       "      (conv1): Conv2d(256, 256, kernel_size=(3, 3), stride=(1, 1), padding=(1, 1), bias=False)\n",
       "      (bn1): BatchNorm2d(256, eps=1e-05, momentum=0.1, affine=True, track_running_stats=True)\n",
       "      (relu): ReLU(inplace=True)\n",
       "      (conv2): Conv2d(256, 256, kernel_size=(3, 3), stride=(1, 1), padding=(1, 1), bias=False)\n",
       "      (bn2): BatchNorm2d(256, eps=1e-05, momentum=0.1, affine=True, track_running_stats=True)\n",
       "    )\n",
       "    (2): BasicBlock(\n",
       "      (conv1): Conv2d(256, 256, kernel_size=(3, 3), stride=(1, 1), padding=(1, 1), bias=False)\n",
       "      (bn1): BatchNorm2d(256, eps=1e-05, momentum=0.1, affine=True, track_running_stats=True)\n",
       "      (relu): ReLU(inplace=True)\n",
       "      (conv2): Conv2d(256, 256, kernel_size=(3, 3), stride=(1, 1), padding=(1, 1), bias=False)\n",
       "      (bn2): BatchNorm2d(256, eps=1e-05, momentum=0.1, affine=True, track_running_stats=True)\n",
       "    )\n",
       "    (3): BasicBlock(\n",
       "      (conv1): Conv2d(256, 256, kernel_size=(3, 3), stride=(1, 1), padding=(1, 1), bias=False)\n",
       "      (bn1): BatchNorm2d(256, eps=1e-05, momentum=0.1, affine=True, track_running_stats=True)\n",
       "      (relu): ReLU(inplace=True)\n",
       "      (conv2): Conv2d(256, 256, kernel_size=(3, 3), stride=(1, 1), padding=(1, 1), bias=False)\n",
       "      (bn2): BatchNorm2d(256, eps=1e-05, momentum=0.1, affine=True, track_running_stats=True)\n",
       "    )\n",
       "    (4): BasicBlock(\n",
       "      (conv1): Conv2d(256, 256, kernel_size=(3, 3), stride=(1, 1), padding=(1, 1), bias=False)\n",
       "      (bn1): BatchNorm2d(256, eps=1e-05, momentum=0.1, affine=True, track_running_stats=True)\n",
       "      (relu): ReLU(inplace=True)\n",
       "      (conv2): Conv2d(256, 256, kernel_size=(3, 3), stride=(1, 1), padding=(1, 1), bias=False)\n",
       "      (bn2): BatchNorm2d(256, eps=1e-05, momentum=0.1, affine=True, track_running_stats=True)\n",
       "    )\n",
       "    (5): BasicBlock(\n",
       "      (conv1): Conv2d(256, 256, kernel_size=(3, 3), stride=(1, 1), padding=(1, 1), bias=False)\n",
       "      (bn1): BatchNorm2d(256, eps=1e-05, momentum=0.1, affine=True, track_running_stats=True)\n",
       "      (relu): ReLU(inplace=True)\n",
       "      (conv2): Conv2d(256, 256, kernel_size=(3, 3), stride=(1, 1), padding=(1, 1), bias=False)\n",
       "      (bn2): BatchNorm2d(256, eps=1e-05, momentum=0.1, affine=True, track_running_stats=True)\n",
       "    )\n",
       "  )\n",
       "  (layer4): Sequential(\n",
       "    (0): BasicBlock(\n",
       "      (conv1): Conv2d(256, 512, kernel_size=(3, 3), stride=(2, 2), padding=(1, 1), bias=False)\n",
       "      (bn1): BatchNorm2d(512, eps=1e-05, momentum=0.1, affine=True, track_running_stats=True)\n",
       "      (relu): ReLU(inplace=True)\n",
       "      (conv2): Conv2d(512, 512, kernel_size=(3, 3), stride=(1, 1), padding=(1, 1), bias=False)\n",
       "      (bn2): BatchNorm2d(512, eps=1e-05, momentum=0.1, affine=True, track_running_stats=True)\n",
       "      (downsample): Sequential(\n",
       "        (0): Conv2d(256, 512, kernel_size=(1, 1), stride=(2, 2), bias=False)\n",
       "        (1): BatchNorm2d(512, eps=1e-05, momentum=0.1, affine=True, track_running_stats=True)\n",
       "      )\n",
       "    )\n",
       "    (1): BasicBlock(\n",
       "      (conv1): Conv2d(512, 512, kernel_size=(3, 3), stride=(1, 1), padding=(1, 1), bias=False)\n",
       "      (bn1): BatchNorm2d(512, eps=1e-05, momentum=0.1, affine=True, track_running_stats=True)\n",
       "      (relu): ReLU(inplace=True)\n",
       "      (conv2): Conv2d(512, 512, kernel_size=(3, 3), stride=(1, 1), padding=(1, 1), bias=False)\n",
       "      (bn2): BatchNorm2d(512, eps=1e-05, momentum=0.1, affine=True, track_running_stats=True)\n",
       "    )\n",
       "    (2): BasicBlock(\n",
       "      (conv1): Conv2d(512, 512, kernel_size=(3, 3), stride=(1, 1), padding=(1, 1), bias=False)\n",
       "      (bn1): BatchNorm2d(512, eps=1e-05, momentum=0.1, affine=True, track_running_stats=True)\n",
       "      (relu): ReLU(inplace=True)\n",
       "      (conv2): Conv2d(512, 512, kernel_size=(3, 3), stride=(1, 1), padding=(1, 1), bias=False)\n",
       "      (bn2): BatchNorm2d(512, eps=1e-05, momentum=0.1, affine=True, track_running_stats=True)\n",
       "    )\n",
       "  )\n",
       "  (avgpool): Identity()\n",
       "  (fc): Identity()\n",
       ")"
      ]
     },
     "execution_count": 35,
     "metadata": {},
     "output_type": "execute_result"
    }
   ],
   "source": [
    "resnet34"
   ]
  },
  {
   "cell_type": "code",
   "execution_count": 36,
   "metadata": {},
   "outputs": [
    {
     "data": {
      "text/plain": [
       "512"
      ]
     },
     "execution_count": 36,
     "metadata": {},
     "output_type": "execute_result"
    }
   ],
   "source": [
    "fc_feat_size"
   ]
  },
  {
   "cell_type": "code",
   "execution_count": 37,
   "metadata": {},
   "outputs": [],
   "source": [
    "# 7.7 - Multi-Task Learning\n",
    "def weights_init(m):\n",
    "    classname = m.__class__.__name__\n",
    "    for l in m.modules():\n",
    "        if isinstance(l, nn.Conv2d):\n",
    "            torch.nn.init.uniform_(l.weight)\n",
    "        elif isinstance(l, nn.BatchNorm2d):\n",
    "            torch.nn.init.uniform_(l.weight)\n",
    "        elif isinstance(l, nn.Linear):\n",
    "            torch.nn.init.xavier_normal_(l.weight)\n",
    "        \n",
    "class MultiTaskHead(nn.Module):\n",
    "    def __init__(self):\n",
    "        super(MultiTaskHead, self).__init__()\n",
    "        self.m = nn.Sequential(\n",
    "                nn.Conv2d(512, 512, kernel_size=(1,1), stride=(1,1), bias=False), \n",
    "                nn.BatchNorm2d(512, eps=1e-05, momentum=0.1, affine=True, track_running_stats=True),\n",
    "                nn.Conv2d(512, 512, kernel_size=(3, 3), stride=(1, 1), padding=(1, 1), bias=False),\n",
    "                nn.BatchNorm2d(512, eps=1e-05, momentum=0.1, affine=True, track_running_stats=True),\n",
    "                nn.Conv2d(512, 2048, kernel_size=(1, 1), stride=(1, 1), bias=False),\n",
    "                nn.BatchNorm2d(2048, eps=1e-05, momentum=0.1, affine=True, track_running_stats=True),\n",
    "                nn.AdaptiveAvgPool2d(output_size=(1,1)),\n",
    "        )\n",
    "        self.l = nn.Sequential(\n",
    "                nn.Linear(2048, fc_feat_size, bias=True), \n",
    "            # 7.12 - Dropout\n",
    "                nn.Dropout(),\n",
    "                nn.ReLU(),\n",
    "                nn.Linear(fc_feat_size, 128, bias=True), \n",
    "#                 nn.Dropout(),\n",
    "#                 nn.Linear(256, 128, bias=True), \n",
    "#                 nn.Dropout(),\n",
    "                nn.Linear(128, 1), \n",
    "#                 nn.Sigmoid()\n",
    "        )\n",
    "        \n",
    "    def forward(self, x):\n",
    "        x = x.view(x.shape[0], 512, int(np.sqrt(x.shape[1]/512)), int(np.sqrt(x.shape[1]/512)))\n",
    "        x = self.m(x)\n",
    "        x = self.l(x.squeeze())\n",
    "        return x\n",
    "\n",
    "class WrapperModel(nn.Module):\n",
    "    def __init__(self, pretrained_model):\n",
    "        super(WrapperModel, self).__init__()\n",
    "        self.stage = 'train'\n",
    "        \n",
    "        self.backbone = pretrained_model\n",
    "        '''\n",
    "        image-level feature\n",
    "        '''\n",
    "        self.linear_pe_present_on_image = MultiTaskHead()\n",
    "        weights_init(self.linear_pe_present_on_image)\n",
    "        '''\n",
    "        exam-level features\n",
    "        '''\n",
    "        self.linear_negative_exam_for_pe = MultiTaskHead()\n",
    "        weights_init(self.linear_negative_exam_for_pe)\n",
    "        \n",
    "        self.linear_indeterminate = MultiTaskHead()\n",
    "        weights_init(self.linear_indeterminate)\n",
    "        \n",
    "        self.linear_chronic_pe = MultiTaskHead()\n",
    "        weights_init(self.linear_chronic_pe)\n",
    "        \n",
    "        self.linear_acute_and_chronic_pe = MultiTaskHead()\n",
    "        weights_init(self.linear_acute_and_chronic_pe)\n",
    "        \n",
    "        self.linear_central_pe = MultiTaskHead()\n",
    "        weights_init(self.linear_central_pe)\n",
    "        \n",
    "        self.linear_leftsided_pe = MultiTaskHead()\n",
    "        weights_init(self.linear_leftsided_pe)\n",
    "        \n",
    "        self.linear_rightsided_pe = MultiTaskHead()\n",
    "        weights_init(self.linear_rightsided_pe)\n",
    "        \n",
    "        self.linear_rv_lv_ratio_gte_1 = MultiTaskHead()\n",
    "        weights_init(self.linear_rv_lv_ratio_gte_1)\n",
    "        \n",
    "        self.linear_rv_lv_ratio_lt_1 = MultiTaskHead()\n",
    "        weights_init(self.linear_rv_lv_ratio_lt_1)\n",
    "        \n",
    "#         '''\n",
    "#         informational features\n",
    "#         '''\n",
    "#         self.linear_qa_motion = MultiTaskHead()\n",
    "#         weights_init(self.linear_qa_motion)\n",
    "        \n",
    "#         self.linear_qa_contrast = MultiTaskHead()\n",
    "#         weights_init(self.linear_qa_contrast)\n",
    "                \n",
    "#         self.linear_true_filling_defect_not_pe = MultiTaskHead()\n",
    "#         weights_init(self.linear_true_filling_defect_not_pe)\n",
    "        \n",
    "#         self.linear_flow_artifact = MultiTaskHead()\n",
    "#         weights_init(self.linear_flow_artifact)\n",
    "\n",
    "    def forward(self, x):\n",
    "\n",
    "        x = self.backbone(x)\n",
    "        \n",
    "        x_pe_present_on_image = self.linear_pe_present_on_image(x)\n",
    "        \n",
    "        x_negative_exam_for_pe = self.linear_negative_exam_for_pe(x)\n",
    "        x_indeterminate = self.linear_indeterminate(x)\n",
    "        x_chronic_pe = self.linear_chronic_pe(x)\n",
    "        x_acute_and_chronic_pe = self.linear_acute_and_chronic_pe(x)\n",
    "        x_central_pe = self.linear_central_pe(x)\n",
    "        x_leftsided_pe = self.linear_leftsided_pe(x)\n",
    "        x_rightsided_pe = self.linear_rightsided_pe(x)\n",
    "        x_rv_lv_ratio_gte_1 = self.linear_rv_lv_ratio_gte_1(x)\n",
    "        x_rv_lv_ratio_lt_1 = self.linear_rv_lv_ratio_lt_1(x)\n",
    "        \n",
    "#         x_qa_motion = self.linear_qa_motion(x)\n",
    "#         x_qa_contrast = self.linear_qa_contrast(x)\n",
    "#         x_true_filling_defect_not_pe = self.linear_true_filling_defect_not_pe(x)\n",
    "#         x_flow_artifact = self.linear_flow_artifact(x)\n",
    "\n",
    "        return torch.cat([ x_pe_present_on_image, x_indeterminate, x_chronic_pe, x_acute_and_chronic_pe, x_central_pe, x_leftsided_pe, x_rightsided_pe, x_rv_lv_ratio_gte_1, x_rv_lv_ratio_lt_1], 1)\n",
    "                      \n",
    "model = WrapperModel(resnet34).to(device)"
   ]
  },
  {
   "cell_type": "code",
   "execution_count": 38,
   "metadata": {},
   "outputs": [
    {
     "data": {
      "text/plain": [
       "WrapperModel(\n",
       "  (backbone): ResNet(\n",
       "    (conv1): Conv2d(3, 64, kernel_size=(7, 7), stride=(2, 2), padding=(3, 3), bias=False)\n",
       "    (bn1): BatchNorm2d(64, eps=1e-05, momentum=0.1, affine=True, track_running_stats=True)\n",
       "    (relu): ReLU(inplace=True)\n",
       "    (maxpool): MaxPool2d(kernel_size=3, stride=2, padding=1, dilation=1, ceil_mode=False)\n",
       "    (layer1): Sequential(\n",
       "      (0): BasicBlock(\n",
       "        (conv1): Conv2d(64, 64, kernel_size=(3, 3), stride=(1, 1), padding=(1, 1), bias=False)\n",
       "        (bn1): BatchNorm2d(64, eps=1e-05, momentum=0.1, affine=True, track_running_stats=True)\n",
       "        (relu): ReLU(inplace=True)\n",
       "        (conv2): Conv2d(64, 64, kernel_size=(3, 3), stride=(1, 1), padding=(1, 1), bias=False)\n",
       "        (bn2): BatchNorm2d(64, eps=1e-05, momentum=0.1, affine=True, track_running_stats=True)\n",
       "      )\n",
       "      (1): BasicBlock(\n",
       "        (conv1): Conv2d(64, 64, kernel_size=(3, 3), stride=(1, 1), padding=(1, 1), bias=False)\n",
       "        (bn1): BatchNorm2d(64, eps=1e-05, momentum=0.1, affine=True, track_running_stats=True)\n",
       "        (relu): ReLU(inplace=True)\n",
       "        (conv2): Conv2d(64, 64, kernel_size=(3, 3), stride=(1, 1), padding=(1, 1), bias=False)\n",
       "        (bn2): BatchNorm2d(64, eps=1e-05, momentum=0.1, affine=True, track_running_stats=True)\n",
       "      )\n",
       "      (2): BasicBlock(\n",
       "        (conv1): Conv2d(64, 64, kernel_size=(3, 3), stride=(1, 1), padding=(1, 1), bias=False)\n",
       "        (bn1): BatchNorm2d(64, eps=1e-05, momentum=0.1, affine=True, track_running_stats=True)\n",
       "        (relu): ReLU(inplace=True)\n",
       "        (conv2): Conv2d(64, 64, kernel_size=(3, 3), stride=(1, 1), padding=(1, 1), bias=False)\n",
       "        (bn2): BatchNorm2d(64, eps=1e-05, momentum=0.1, affine=True, track_running_stats=True)\n",
       "      )\n",
       "    )\n",
       "    (layer2): Sequential(\n",
       "      (0): BasicBlock(\n",
       "        (conv1): Conv2d(64, 128, kernel_size=(3, 3), stride=(2, 2), padding=(1, 1), bias=False)\n",
       "        (bn1): BatchNorm2d(128, eps=1e-05, momentum=0.1, affine=True, track_running_stats=True)\n",
       "        (relu): ReLU(inplace=True)\n",
       "        (conv2): Conv2d(128, 128, kernel_size=(3, 3), stride=(1, 1), padding=(1, 1), bias=False)\n",
       "        (bn2): BatchNorm2d(128, eps=1e-05, momentum=0.1, affine=True, track_running_stats=True)\n",
       "        (downsample): Sequential(\n",
       "          (0): Conv2d(64, 128, kernel_size=(1, 1), stride=(2, 2), bias=False)\n",
       "          (1): BatchNorm2d(128, eps=1e-05, momentum=0.1, affine=True, track_running_stats=True)\n",
       "        )\n",
       "      )\n",
       "      (1): BasicBlock(\n",
       "        (conv1): Conv2d(128, 128, kernel_size=(3, 3), stride=(1, 1), padding=(1, 1), bias=False)\n",
       "        (bn1): BatchNorm2d(128, eps=1e-05, momentum=0.1, affine=True, track_running_stats=True)\n",
       "        (relu): ReLU(inplace=True)\n",
       "        (conv2): Conv2d(128, 128, kernel_size=(3, 3), stride=(1, 1), padding=(1, 1), bias=False)\n",
       "        (bn2): BatchNorm2d(128, eps=1e-05, momentum=0.1, affine=True, track_running_stats=True)\n",
       "      )\n",
       "      (2): BasicBlock(\n",
       "        (conv1): Conv2d(128, 128, kernel_size=(3, 3), stride=(1, 1), padding=(1, 1), bias=False)\n",
       "        (bn1): BatchNorm2d(128, eps=1e-05, momentum=0.1, affine=True, track_running_stats=True)\n",
       "        (relu): ReLU(inplace=True)\n",
       "        (conv2): Conv2d(128, 128, kernel_size=(3, 3), stride=(1, 1), padding=(1, 1), bias=False)\n",
       "        (bn2): BatchNorm2d(128, eps=1e-05, momentum=0.1, affine=True, track_running_stats=True)\n",
       "      )\n",
       "      (3): BasicBlock(\n",
       "        (conv1): Conv2d(128, 128, kernel_size=(3, 3), stride=(1, 1), padding=(1, 1), bias=False)\n",
       "        (bn1): BatchNorm2d(128, eps=1e-05, momentum=0.1, affine=True, track_running_stats=True)\n",
       "        (relu): ReLU(inplace=True)\n",
       "        (conv2): Conv2d(128, 128, kernel_size=(3, 3), stride=(1, 1), padding=(1, 1), bias=False)\n",
       "        (bn2): BatchNorm2d(128, eps=1e-05, momentum=0.1, affine=True, track_running_stats=True)\n",
       "      )\n",
       "    )\n",
       "    (layer3): Sequential(\n",
       "      (0): BasicBlock(\n",
       "        (conv1): Conv2d(128, 256, kernel_size=(3, 3), stride=(2, 2), padding=(1, 1), bias=False)\n",
       "        (bn1): BatchNorm2d(256, eps=1e-05, momentum=0.1, affine=True, track_running_stats=True)\n",
       "        (relu): ReLU(inplace=True)\n",
       "        (conv2): Conv2d(256, 256, kernel_size=(3, 3), stride=(1, 1), padding=(1, 1), bias=False)\n",
       "        (bn2): BatchNorm2d(256, eps=1e-05, momentum=0.1, affine=True, track_running_stats=True)\n",
       "        (downsample): Sequential(\n",
       "          (0): Conv2d(128, 256, kernel_size=(1, 1), stride=(2, 2), bias=False)\n",
       "          (1): BatchNorm2d(256, eps=1e-05, momentum=0.1, affine=True, track_running_stats=True)\n",
       "        )\n",
       "      )\n",
       "      (1): BasicBlock(\n",
       "        (conv1): Conv2d(256, 256, kernel_size=(3, 3), stride=(1, 1), padding=(1, 1), bias=False)\n",
       "        (bn1): BatchNorm2d(256, eps=1e-05, momentum=0.1, affine=True, track_running_stats=True)\n",
       "        (relu): ReLU(inplace=True)\n",
       "        (conv2): Conv2d(256, 256, kernel_size=(3, 3), stride=(1, 1), padding=(1, 1), bias=False)\n",
       "        (bn2): BatchNorm2d(256, eps=1e-05, momentum=0.1, affine=True, track_running_stats=True)\n",
       "      )\n",
       "      (2): BasicBlock(\n",
       "        (conv1): Conv2d(256, 256, kernel_size=(3, 3), stride=(1, 1), padding=(1, 1), bias=False)\n",
       "        (bn1): BatchNorm2d(256, eps=1e-05, momentum=0.1, affine=True, track_running_stats=True)\n",
       "        (relu): ReLU(inplace=True)\n",
       "        (conv2): Conv2d(256, 256, kernel_size=(3, 3), stride=(1, 1), padding=(1, 1), bias=False)\n",
       "        (bn2): BatchNorm2d(256, eps=1e-05, momentum=0.1, affine=True, track_running_stats=True)\n",
       "      )\n",
       "      (3): BasicBlock(\n",
       "        (conv1): Conv2d(256, 256, kernel_size=(3, 3), stride=(1, 1), padding=(1, 1), bias=False)\n",
       "        (bn1): BatchNorm2d(256, eps=1e-05, momentum=0.1, affine=True, track_running_stats=True)\n",
       "        (relu): ReLU(inplace=True)\n",
       "        (conv2): Conv2d(256, 256, kernel_size=(3, 3), stride=(1, 1), padding=(1, 1), bias=False)\n",
       "        (bn2): BatchNorm2d(256, eps=1e-05, momentum=0.1, affine=True, track_running_stats=True)\n",
       "      )\n",
       "      (4): BasicBlock(\n",
       "        (conv1): Conv2d(256, 256, kernel_size=(3, 3), stride=(1, 1), padding=(1, 1), bias=False)\n",
       "        (bn1): BatchNorm2d(256, eps=1e-05, momentum=0.1, affine=True, track_running_stats=True)\n",
       "        (relu): ReLU(inplace=True)\n",
       "        (conv2): Conv2d(256, 256, kernel_size=(3, 3), stride=(1, 1), padding=(1, 1), bias=False)\n",
       "        (bn2): BatchNorm2d(256, eps=1e-05, momentum=0.1, affine=True, track_running_stats=True)\n",
       "      )\n",
       "      (5): BasicBlock(\n",
       "        (conv1): Conv2d(256, 256, kernel_size=(3, 3), stride=(1, 1), padding=(1, 1), bias=False)\n",
       "        (bn1): BatchNorm2d(256, eps=1e-05, momentum=0.1, affine=True, track_running_stats=True)\n",
       "        (relu): ReLU(inplace=True)\n",
       "        (conv2): Conv2d(256, 256, kernel_size=(3, 3), stride=(1, 1), padding=(1, 1), bias=False)\n",
       "        (bn2): BatchNorm2d(256, eps=1e-05, momentum=0.1, affine=True, track_running_stats=True)\n",
       "      )\n",
       "    )\n",
       "    (layer4): Sequential(\n",
       "      (0): BasicBlock(\n",
       "        (conv1): Conv2d(256, 512, kernel_size=(3, 3), stride=(2, 2), padding=(1, 1), bias=False)\n",
       "        (bn1): BatchNorm2d(512, eps=1e-05, momentum=0.1, affine=True, track_running_stats=True)\n",
       "        (relu): ReLU(inplace=True)\n",
       "        (conv2): Conv2d(512, 512, kernel_size=(3, 3), stride=(1, 1), padding=(1, 1), bias=False)\n",
       "        (bn2): BatchNorm2d(512, eps=1e-05, momentum=0.1, affine=True, track_running_stats=True)\n",
       "        (downsample): Sequential(\n",
       "          (0): Conv2d(256, 512, kernel_size=(1, 1), stride=(2, 2), bias=False)\n",
       "          (1): BatchNorm2d(512, eps=1e-05, momentum=0.1, affine=True, track_running_stats=True)\n",
       "        )\n",
       "      )\n",
       "      (1): BasicBlock(\n",
       "        (conv1): Conv2d(512, 512, kernel_size=(3, 3), stride=(1, 1), padding=(1, 1), bias=False)\n",
       "        (bn1): BatchNorm2d(512, eps=1e-05, momentum=0.1, affine=True, track_running_stats=True)\n",
       "        (relu): ReLU(inplace=True)\n",
       "        (conv2): Conv2d(512, 512, kernel_size=(3, 3), stride=(1, 1), padding=(1, 1), bias=False)\n",
       "        (bn2): BatchNorm2d(512, eps=1e-05, momentum=0.1, affine=True, track_running_stats=True)\n",
       "      )\n",
       "      (2): BasicBlock(\n",
       "        (conv1): Conv2d(512, 512, kernel_size=(3, 3), stride=(1, 1), padding=(1, 1), bias=False)\n",
       "        (bn1): BatchNorm2d(512, eps=1e-05, momentum=0.1, affine=True, track_running_stats=True)\n",
       "        (relu): ReLU(inplace=True)\n",
       "        (conv2): Conv2d(512, 512, kernel_size=(3, 3), stride=(1, 1), padding=(1, 1), bias=False)\n",
       "        (bn2): BatchNorm2d(512, eps=1e-05, momentum=0.1, affine=True, track_running_stats=True)\n",
       "      )\n",
       "    )\n",
       "    (avgpool): Identity()\n",
       "    (fc): Identity()\n",
       "  )\n",
       "  (linear_pe_present_on_image): MultiTaskHead(\n",
       "    (m): Sequential(\n",
       "      (0): Conv2d(512, 512, kernel_size=(1, 1), stride=(1, 1), bias=False)\n",
       "      (1): BatchNorm2d(512, eps=1e-05, momentum=0.1, affine=True, track_running_stats=True)\n",
       "      (2): Conv2d(512, 512, kernel_size=(3, 3), stride=(1, 1), padding=(1, 1), bias=False)\n",
       "      (3): BatchNorm2d(512, eps=1e-05, momentum=0.1, affine=True, track_running_stats=True)\n",
       "      (4): Conv2d(512, 2048, kernel_size=(1, 1), stride=(1, 1), bias=False)\n",
       "      (5): BatchNorm2d(2048, eps=1e-05, momentum=0.1, affine=True, track_running_stats=True)\n",
       "      (6): AdaptiveAvgPool2d(output_size=(1, 1))\n",
       "    )\n",
       "    (l): Sequential(\n",
       "      (0): Linear(in_features=2048, out_features=512, bias=True)\n",
       "      (1): Dropout(p=0.5, inplace=False)\n",
       "      (2): ReLU()\n",
       "      (3): Linear(in_features=512, out_features=128, bias=True)\n",
       "      (4): Linear(in_features=128, out_features=1, bias=True)\n",
       "    )\n",
       "  )\n",
       "  (linear_negative_exam_for_pe): MultiTaskHead(\n",
       "    (m): Sequential(\n",
       "      (0): Conv2d(512, 512, kernel_size=(1, 1), stride=(1, 1), bias=False)\n",
       "      (1): BatchNorm2d(512, eps=1e-05, momentum=0.1, affine=True, track_running_stats=True)\n",
       "      (2): Conv2d(512, 512, kernel_size=(3, 3), stride=(1, 1), padding=(1, 1), bias=False)\n",
       "      (3): BatchNorm2d(512, eps=1e-05, momentum=0.1, affine=True, track_running_stats=True)\n",
       "      (4): Conv2d(512, 2048, kernel_size=(1, 1), stride=(1, 1), bias=False)\n",
       "      (5): BatchNorm2d(2048, eps=1e-05, momentum=0.1, affine=True, track_running_stats=True)\n",
       "      (6): AdaptiveAvgPool2d(output_size=(1, 1))\n",
       "    )\n",
       "    (l): Sequential(\n",
       "      (0): Linear(in_features=2048, out_features=512, bias=True)\n",
       "      (1): Dropout(p=0.5, inplace=False)\n",
       "      (2): ReLU()\n",
       "      (3): Linear(in_features=512, out_features=128, bias=True)\n",
       "      (4): Linear(in_features=128, out_features=1, bias=True)\n",
       "    )\n",
       "  )\n",
       "  (linear_indeterminate): MultiTaskHead(\n",
       "    (m): Sequential(\n",
       "      (0): Conv2d(512, 512, kernel_size=(1, 1), stride=(1, 1), bias=False)\n",
       "      (1): BatchNorm2d(512, eps=1e-05, momentum=0.1, affine=True, track_running_stats=True)\n",
       "      (2): Conv2d(512, 512, kernel_size=(3, 3), stride=(1, 1), padding=(1, 1), bias=False)\n",
       "      (3): BatchNorm2d(512, eps=1e-05, momentum=0.1, affine=True, track_running_stats=True)\n",
       "      (4): Conv2d(512, 2048, kernel_size=(1, 1), stride=(1, 1), bias=False)\n",
       "      (5): BatchNorm2d(2048, eps=1e-05, momentum=0.1, affine=True, track_running_stats=True)\n",
       "      (6): AdaptiveAvgPool2d(output_size=(1, 1))\n",
       "    )\n",
       "    (l): Sequential(\n",
       "      (0): Linear(in_features=2048, out_features=512, bias=True)\n",
       "      (1): Dropout(p=0.5, inplace=False)\n",
       "      (2): ReLU()\n",
       "      (3): Linear(in_features=512, out_features=128, bias=True)\n",
       "      (4): Linear(in_features=128, out_features=1, bias=True)\n",
       "    )\n",
       "  )\n",
       "  (linear_chronic_pe): MultiTaskHead(\n",
       "    (m): Sequential(\n",
       "      (0): Conv2d(512, 512, kernel_size=(1, 1), stride=(1, 1), bias=False)\n",
       "      (1): BatchNorm2d(512, eps=1e-05, momentum=0.1, affine=True, track_running_stats=True)\n",
       "      (2): Conv2d(512, 512, kernel_size=(3, 3), stride=(1, 1), padding=(1, 1), bias=False)\n",
       "      (3): BatchNorm2d(512, eps=1e-05, momentum=0.1, affine=True, track_running_stats=True)\n",
       "      (4): Conv2d(512, 2048, kernel_size=(1, 1), stride=(1, 1), bias=False)\n",
       "      (5): BatchNorm2d(2048, eps=1e-05, momentum=0.1, affine=True, track_running_stats=True)\n",
       "      (6): AdaptiveAvgPool2d(output_size=(1, 1))\n",
       "    )\n",
       "    (l): Sequential(\n",
       "      (0): Linear(in_features=2048, out_features=512, bias=True)\n",
       "      (1): Dropout(p=0.5, inplace=False)\n",
       "      (2): ReLU()\n",
       "      (3): Linear(in_features=512, out_features=128, bias=True)\n",
       "      (4): Linear(in_features=128, out_features=1, bias=True)\n",
       "    )\n",
       "  )\n",
       "  (linear_acute_and_chronic_pe): MultiTaskHead(\n",
       "    (m): Sequential(\n",
       "      (0): Conv2d(512, 512, kernel_size=(1, 1), stride=(1, 1), bias=False)\n",
       "      (1): BatchNorm2d(512, eps=1e-05, momentum=0.1, affine=True, track_running_stats=True)\n",
       "      (2): Conv2d(512, 512, kernel_size=(3, 3), stride=(1, 1), padding=(1, 1), bias=False)\n",
       "      (3): BatchNorm2d(512, eps=1e-05, momentum=0.1, affine=True, track_running_stats=True)\n",
       "      (4): Conv2d(512, 2048, kernel_size=(1, 1), stride=(1, 1), bias=False)\n",
       "      (5): BatchNorm2d(2048, eps=1e-05, momentum=0.1, affine=True, track_running_stats=True)\n",
       "      (6): AdaptiveAvgPool2d(output_size=(1, 1))\n",
       "    )\n",
       "    (l): Sequential(\n",
       "      (0): Linear(in_features=2048, out_features=512, bias=True)\n",
       "      (1): Dropout(p=0.5, inplace=False)\n",
       "      (2): ReLU()\n",
       "      (3): Linear(in_features=512, out_features=128, bias=True)\n",
       "      (4): Linear(in_features=128, out_features=1, bias=True)\n",
       "    )\n",
       "  )\n",
       "  (linear_central_pe): MultiTaskHead(\n",
       "    (m): Sequential(\n",
       "      (0): Conv2d(512, 512, kernel_size=(1, 1), stride=(1, 1), bias=False)\n",
       "      (1): BatchNorm2d(512, eps=1e-05, momentum=0.1, affine=True, track_running_stats=True)\n",
       "      (2): Conv2d(512, 512, kernel_size=(3, 3), stride=(1, 1), padding=(1, 1), bias=False)\n",
       "      (3): BatchNorm2d(512, eps=1e-05, momentum=0.1, affine=True, track_running_stats=True)\n",
       "      (4): Conv2d(512, 2048, kernel_size=(1, 1), stride=(1, 1), bias=False)\n",
       "      (5): BatchNorm2d(2048, eps=1e-05, momentum=0.1, affine=True, track_running_stats=True)\n",
       "      (6): AdaptiveAvgPool2d(output_size=(1, 1))\n",
       "    )\n",
       "    (l): Sequential(\n",
       "      (0): Linear(in_features=2048, out_features=512, bias=True)\n",
       "      (1): Dropout(p=0.5, inplace=False)\n",
       "      (2): ReLU()\n",
       "      (3): Linear(in_features=512, out_features=128, bias=True)\n",
       "      (4): Linear(in_features=128, out_features=1, bias=True)\n",
       "    )\n",
       "  )\n",
       "  (linear_leftsided_pe): MultiTaskHead(\n",
       "    (m): Sequential(\n",
       "      (0): Conv2d(512, 512, kernel_size=(1, 1), stride=(1, 1), bias=False)\n",
       "      (1): BatchNorm2d(512, eps=1e-05, momentum=0.1, affine=True, track_running_stats=True)\n",
       "      (2): Conv2d(512, 512, kernel_size=(3, 3), stride=(1, 1), padding=(1, 1), bias=False)\n",
       "      (3): BatchNorm2d(512, eps=1e-05, momentum=0.1, affine=True, track_running_stats=True)\n",
       "      (4): Conv2d(512, 2048, kernel_size=(1, 1), stride=(1, 1), bias=False)\n",
       "      (5): BatchNorm2d(2048, eps=1e-05, momentum=0.1, affine=True, track_running_stats=True)\n",
       "      (6): AdaptiveAvgPool2d(output_size=(1, 1))\n",
       "    )\n",
       "    (l): Sequential(\n",
       "      (0): Linear(in_features=2048, out_features=512, bias=True)\n",
       "      (1): Dropout(p=0.5, inplace=False)\n",
       "      (2): ReLU()\n",
       "      (3): Linear(in_features=512, out_features=128, bias=True)\n",
       "      (4): Linear(in_features=128, out_features=1, bias=True)\n",
       "    )\n",
       "  )\n",
       "  (linear_rightsided_pe): MultiTaskHead(\n",
       "    (m): Sequential(\n",
       "      (0): Conv2d(512, 512, kernel_size=(1, 1), stride=(1, 1), bias=False)\n",
       "      (1): BatchNorm2d(512, eps=1e-05, momentum=0.1, affine=True, track_running_stats=True)\n",
       "      (2): Conv2d(512, 512, kernel_size=(3, 3), stride=(1, 1), padding=(1, 1), bias=False)\n",
       "      (3): BatchNorm2d(512, eps=1e-05, momentum=0.1, affine=True, track_running_stats=True)\n",
       "      (4): Conv2d(512, 2048, kernel_size=(1, 1), stride=(1, 1), bias=False)\n",
       "      (5): BatchNorm2d(2048, eps=1e-05, momentum=0.1, affine=True, track_running_stats=True)\n",
       "      (6): AdaptiveAvgPool2d(output_size=(1, 1))\n",
       "    )\n",
       "    (l): Sequential(\n",
       "      (0): Linear(in_features=2048, out_features=512, bias=True)\n",
       "      (1): Dropout(p=0.5, inplace=False)\n",
       "      (2): ReLU()\n",
       "      (3): Linear(in_features=512, out_features=128, bias=True)\n",
       "      (4): Linear(in_features=128, out_features=1, bias=True)\n",
       "    )\n",
       "  )\n",
       "  (linear_rv_lv_ratio_gte_1): MultiTaskHead(\n",
       "    (m): Sequential(\n",
       "      (0): Conv2d(512, 512, kernel_size=(1, 1), stride=(1, 1), bias=False)\n",
       "      (1): BatchNorm2d(512, eps=1e-05, momentum=0.1, affine=True, track_running_stats=True)\n",
       "      (2): Conv2d(512, 512, kernel_size=(3, 3), stride=(1, 1), padding=(1, 1), bias=False)\n",
       "      (3): BatchNorm2d(512, eps=1e-05, momentum=0.1, affine=True, track_running_stats=True)\n",
       "      (4): Conv2d(512, 2048, kernel_size=(1, 1), stride=(1, 1), bias=False)\n",
       "      (5): BatchNorm2d(2048, eps=1e-05, momentum=0.1, affine=True, track_running_stats=True)\n",
       "      (6): AdaptiveAvgPool2d(output_size=(1, 1))\n",
       "    )\n",
       "    (l): Sequential(\n",
       "      (0): Linear(in_features=2048, out_features=512, bias=True)\n",
       "      (1): Dropout(p=0.5, inplace=False)\n",
       "      (2): ReLU()\n",
       "      (3): Linear(in_features=512, out_features=128, bias=True)\n",
       "      (4): Linear(in_features=128, out_features=1, bias=True)\n",
       "    )\n",
       "  )\n",
       "  (linear_rv_lv_ratio_lt_1): MultiTaskHead(\n",
       "    (m): Sequential(\n",
       "      (0): Conv2d(512, 512, kernel_size=(1, 1), stride=(1, 1), bias=False)\n",
       "      (1): BatchNorm2d(512, eps=1e-05, momentum=0.1, affine=True, track_running_stats=True)\n",
       "      (2): Conv2d(512, 512, kernel_size=(3, 3), stride=(1, 1), padding=(1, 1), bias=False)\n",
       "      (3): BatchNorm2d(512, eps=1e-05, momentum=0.1, affine=True, track_running_stats=True)\n",
       "      (4): Conv2d(512, 2048, kernel_size=(1, 1), stride=(1, 1), bias=False)\n",
       "      (5): BatchNorm2d(2048, eps=1e-05, momentum=0.1, affine=True, track_running_stats=True)\n",
       "      (6): AdaptiveAvgPool2d(output_size=(1, 1))\n",
       "    )\n",
       "    (l): Sequential(\n",
       "      (0): Linear(in_features=2048, out_features=512, bias=True)\n",
       "      (1): Dropout(p=0.5, inplace=False)\n",
       "      (2): ReLU()\n",
       "      (3): Linear(in_features=512, out_features=128, bias=True)\n",
       "      (4): Linear(in_features=128, out_features=1, bias=True)\n",
       "    )\n",
       "  )\n",
       ")"
      ]
     },
     "execution_count": 38,
     "metadata": {},
     "output_type": "execute_result"
    }
   ],
   "source": [
    "model"
   ]
  },
  {
   "cell_type": "code",
   "execution_count": 39,
   "metadata": {},
   "outputs": [],
   "source": [
    "for name, param in model.named_parameters():\n",
    "#     if not (name.startswith('backbone.layer3') or name.startswith('backbone.layer4') or name.startswith('backbone.Mixed_') or name.startswith('linear')):\n",
    "    if not (name.startswith('backbone.layer2') or name.startswith('backbone.layer3') or name.startswith('backbone.layer4') or name.startswith('linear')):\n",
    "        param.requires_grad = False\n",
    "    else:\n",
    "        param.requires_grad = True"
   ]
  },
  {
   "cell_type": "code",
   "execution_count": 40,
   "metadata": {},
   "outputs": [
    {
     "name": "stdout",
     "output_type": "stream",
     "text": [
      "backbone.conv1.weight False\n",
      "backbone.bn1.weight False\n",
      "backbone.bn1.bias False\n",
      "backbone.layer1.0.conv1.weight False\n",
      "backbone.layer1.0.bn1.weight False\n",
      "backbone.layer1.0.bn1.bias False\n",
      "backbone.layer1.0.conv2.weight False\n",
      "backbone.layer1.0.bn2.weight False\n",
      "backbone.layer1.0.bn2.bias False\n",
      "backbone.layer1.1.conv1.weight False\n",
      "backbone.layer1.1.bn1.weight False\n",
      "backbone.layer1.1.bn1.bias False\n",
      "backbone.layer1.1.conv2.weight False\n",
      "backbone.layer1.1.bn2.weight False\n",
      "backbone.layer1.1.bn2.bias False\n",
      "backbone.layer1.2.conv1.weight False\n",
      "backbone.layer1.2.bn1.weight False\n",
      "backbone.layer1.2.bn1.bias False\n",
      "backbone.layer1.2.conv2.weight False\n",
      "backbone.layer1.2.bn2.weight False\n",
      "backbone.layer1.2.bn2.bias False\n",
      "backbone.layer2.0.conv1.weight True\n",
      "backbone.layer2.0.bn1.weight True\n",
      "backbone.layer2.0.bn1.bias True\n",
      "backbone.layer2.0.conv2.weight True\n",
      "backbone.layer2.0.bn2.weight True\n",
      "backbone.layer2.0.bn2.bias True\n",
      "backbone.layer2.0.downsample.0.weight True\n",
      "backbone.layer2.0.downsample.1.weight True\n",
      "backbone.layer2.0.downsample.1.bias True\n",
      "backbone.layer2.1.conv1.weight True\n",
      "backbone.layer2.1.bn1.weight True\n",
      "backbone.layer2.1.bn1.bias True\n",
      "backbone.layer2.1.conv2.weight True\n",
      "backbone.layer2.1.bn2.weight True\n",
      "backbone.layer2.1.bn2.bias True\n",
      "backbone.layer2.2.conv1.weight True\n",
      "backbone.layer2.2.bn1.weight True\n",
      "backbone.layer2.2.bn1.bias True\n",
      "backbone.layer2.2.conv2.weight True\n",
      "backbone.layer2.2.bn2.weight True\n",
      "backbone.layer2.2.bn2.bias True\n",
      "backbone.layer2.3.conv1.weight True\n",
      "backbone.layer2.3.bn1.weight True\n",
      "backbone.layer2.3.bn1.bias True\n",
      "backbone.layer2.3.conv2.weight True\n",
      "backbone.layer2.3.bn2.weight True\n",
      "backbone.layer2.3.bn2.bias True\n",
      "backbone.layer3.0.conv1.weight True\n",
      "backbone.layer3.0.bn1.weight True\n",
      "backbone.layer3.0.bn1.bias True\n",
      "backbone.layer3.0.conv2.weight True\n",
      "backbone.layer3.0.bn2.weight True\n",
      "backbone.layer3.0.bn2.bias True\n",
      "backbone.layer3.0.downsample.0.weight True\n",
      "backbone.layer3.0.downsample.1.weight True\n",
      "backbone.layer3.0.downsample.1.bias True\n",
      "backbone.layer3.1.conv1.weight True\n",
      "backbone.layer3.1.bn1.weight True\n",
      "backbone.layer3.1.bn1.bias True\n",
      "backbone.layer3.1.conv2.weight True\n",
      "backbone.layer3.1.bn2.weight True\n",
      "backbone.layer3.1.bn2.bias True\n",
      "backbone.layer3.2.conv1.weight True\n",
      "backbone.layer3.2.bn1.weight True\n",
      "backbone.layer3.2.bn1.bias True\n",
      "backbone.layer3.2.conv2.weight True\n",
      "backbone.layer3.2.bn2.weight True\n",
      "backbone.layer3.2.bn2.bias True\n",
      "backbone.layer3.3.conv1.weight True\n",
      "backbone.layer3.3.bn1.weight True\n",
      "backbone.layer3.3.bn1.bias True\n",
      "backbone.layer3.3.conv2.weight True\n",
      "backbone.layer3.3.bn2.weight True\n",
      "backbone.layer3.3.bn2.bias True\n",
      "backbone.layer3.4.conv1.weight True\n",
      "backbone.layer3.4.bn1.weight True\n",
      "backbone.layer3.4.bn1.bias True\n",
      "backbone.layer3.4.conv2.weight True\n",
      "backbone.layer3.4.bn2.weight True\n",
      "backbone.layer3.4.bn2.bias True\n",
      "backbone.layer3.5.conv1.weight True\n",
      "backbone.layer3.5.bn1.weight True\n",
      "backbone.layer3.5.bn1.bias True\n",
      "backbone.layer3.5.conv2.weight True\n",
      "backbone.layer3.5.bn2.weight True\n",
      "backbone.layer3.5.bn2.bias True\n",
      "backbone.layer4.0.conv1.weight True\n",
      "backbone.layer4.0.bn1.weight True\n",
      "backbone.layer4.0.bn1.bias True\n",
      "backbone.layer4.0.conv2.weight True\n",
      "backbone.layer4.0.bn2.weight True\n",
      "backbone.layer4.0.bn2.bias True\n",
      "backbone.layer4.0.downsample.0.weight True\n",
      "backbone.layer4.0.downsample.1.weight True\n",
      "backbone.layer4.0.downsample.1.bias True\n",
      "backbone.layer4.1.conv1.weight True\n",
      "backbone.layer4.1.bn1.weight True\n",
      "backbone.layer4.1.bn1.bias True\n",
      "backbone.layer4.1.conv2.weight True\n",
      "backbone.layer4.1.bn2.weight True\n",
      "backbone.layer4.1.bn2.bias True\n",
      "backbone.layer4.2.conv1.weight True\n",
      "backbone.layer4.2.bn1.weight True\n",
      "backbone.layer4.2.bn1.bias True\n",
      "backbone.layer4.2.conv2.weight True\n",
      "backbone.layer4.2.bn2.weight True\n",
      "backbone.layer4.2.bn2.bias True\n",
      "linear_pe_present_on_image.m.0.weight True\n",
      "linear_pe_present_on_image.m.1.weight True\n",
      "linear_pe_present_on_image.m.1.bias True\n",
      "linear_pe_present_on_image.m.2.weight True\n",
      "linear_pe_present_on_image.m.3.weight True\n",
      "linear_pe_present_on_image.m.3.bias True\n",
      "linear_pe_present_on_image.m.4.weight True\n",
      "linear_pe_present_on_image.m.5.weight True\n",
      "linear_pe_present_on_image.m.5.bias True\n",
      "linear_pe_present_on_image.l.0.weight True\n",
      "linear_pe_present_on_image.l.0.bias True\n",
      "linear_pe_present_on_image.l.3.weight True\n",
      "linear_pe_present_on_image.l.3.bias True\n",
      "linear_pe_present_on_image.l.4.weight True\n",
      "linear_pe_present_on_image.l.4.bias True\n",
      "linear_negative_exam_for_pe.m.0.weight True\n",
      "linear_negative_exam_for_pe.m.1.weight True\n",
      "linear_negative_exam_for_pe.m.1.bias True\n",
      "linear_negative_exam_for_pe.m.2.weight True\n",
      "linear_negative_exam_for_pe.m.3.weight True\n",
      "linear_negative_exam_for_pe.m.3.bias True\n",
      "linear_negative_exam_for_pe.m.4.weight True\n",
      "linear_negative_exam_for_pe.m.5.weight True\n",
      "linear_negative_exam_for_pe.m.5.bias True\n",
      "linear_negative_exam_for_pe.l.0.weight True\n",
      "linear_negative_exam_for_pe.l.0.bias True\n",
      "linear_negative_exam_for_pe.l.3.weight True\n",
      "linear_negative_exam_for_pe.l.3.bias True\n",
      "linear_negative_exam_for_pe.l.4.weight True\n",
      "linear_negative_exam_for_pe.l.4.bias True\n",
      "linear_indeterminate.m.0.weight True\n",
      "linear_indeterminate.m.1.weight True\n",
      "linear_indeterminate.m.1.bias True\n",
      "linear_indeterminate.m.2.weight True\n",
      "linear_indeterminate.m.3.weight True\n",
      "linear_indeterminate.m.3.bias True\n",
      "linear_indeterminate.m.4.weight True\n",
      "linear_indeterminate.m.5.weight True\n",
      "linear_indeterminate.m.5.bias True\n",
      "linear_indeterminate.l.0.weight True\n",
      "linear_indeterminate.l.0.bias True\n",
      "linear_indeterminate.l.3.weight True\n",
      "linear_indeterminate.l.3.bias True\n",
      "linear_indeterminate.l.4.weight True\n",
      "linear_indeterminate.l.4.bias True\n",
      "linear_chronic_pe.m.0.weight True\n",
      "linear_chronic_pe.m.1.weight True\n",
      "linear_chronic_pe.m.1.bias True\n",
      "linear_chronic_pe.m.2.weight True\n",
      "linear_chronic_pe.m.3.weight True\n",
      "linear_chronic_pe.m.3.bias True\n",
      "linear_chronic_pe.m.4.weight True\n",
      "linear_chronic_pe.m.5.weight True\n",
      "linear_chronic_pe.m.5.bias True\n",
      "linear_chronic_pe.l.0.weight True\n",
      "linear_chronic_pe.l.0.bias True\n",
      "linear_chronic_pe.l.3.weight True\n",
      "linear_chronic_pe.l.3.bias True\n",
      "linear_chronic_pe.l.4.weight True\n",
      "linear_chronic_pe.l.4.bias True\n",
      "linear_acute_and_chronic_pe.m.0.weight True\n",
      "linear_acute_and_chronic_pe.m.1.weight True\n",
      "linear_acute_and_chronic_pe.m.1.bias True\n",
      "linear_acute_and_chronic_pe.m.2.weight True\n",
      "linear_acute_and_chronic_pe.m.3.weight True\n",
      "linear_acute_and_chronic_pe.m.3.bias True\n",
      "linear_acute_and_chronic_pe.m.4.weight True\n",
      "linear_acute_and_chronic_pe.m.5.weight True\n",
      "linear_acute_and_chronic_pe.m.5.bias True\n",
      "linear_acute_and_chronic_pe.l.0.weight True\n",
      "linear_acute_and_chronic_pe.l.0.bias True\n",
      "linear_acute_and_chronic_pe.l.3.weight True\n",
      "linear_acute_and_chronic_pe.l.3.bias True\n",
      "linear_acute_and_chronic_pe.l.4.weight True\n",
      "linear_acute_and_chronic_pe.l.4.bias True\n",
      "linear_central_pe.m.0.weight True\n",
      "linear_central_pe.m.1.weight True\n",
      "linear_central_pe.m.1.bias True\n",
      "linear_central_pe.m.2.weight True\n",
      "linear_central_pe.m.3.weight True\n",
      "linear_central_pe.m.3.bias True\n",
      "linear_central_pe.m.4.weight True\n",
      "linear_central_pe.m.5.weight True\n",
      "linear_central_pe.m.5.bias True\n",
      "linear_central_pe.l.0.weight True\n",
      "linear_central_pe.l.0.bias True\n",
      "linear_central_pe.l.3.weight True\n",
      "linear_central_pe.l.3.bias True\n",
      "linear_central_pe.l.4.weight True\n",
      "linear_central_pe.l.4.bias True\n",
      "linear_leftsided_pe.m.0.weight True\n",
      "linear_leftsided_pe.m.1.weight True\n",
      "linear_leftsided_pe.m.1.bias True\n",
      "linear_leftsided_pe.m.2.weight True\n",
      "linear_leftsided_pe.m.3.weight True\n",
      "linear_leftsided_pe.m.3.bias True\n",
      "linear_leftsided_pe.m.4.weight True\n",
      "linear_leftsided_pe.m.5.weight True\n",
      "linear_leftsided_pe.m.5.bias True\n",
      "linear_leftsided_pe.l.0.weight True\n",
      "linear_leftsided_pe.l.0.bias True\n",
      "linear_leftsided_pe.l.3.weight True\n",
      "linear_leftsided_pe.l.3.bias True\n",
      "linear_leftsided_pe.l.4.weight True\n",
      "linear_leftsided_pe.l.4.bias True\n",
      "linear_rightsided_pe.m.0.weight True\n",
      "linear_rightsided_pe.m.1.weight True\n",
      "linear_rightsided_pe.m.1.bias True\n",
      "linear_rightsided_pe.m.2.weight True\n",
      "linear_rightsided_pe.m.3.weight True\n",
      "linear_rightsided_pe.m.3.bias True\n",
      "linear_rightsided_pe.m.4.weight True\n",
      "linear_rightsided_pe.m.5.weight True\n",
      "linear_rightsided_pe.m.5.bias True\n",
      "linear_rightsided_pe.l.0.weight True\n",
      "linear_rightsided_pe.l.0.bias True\n",
      "linear_rightsided_pe.l.3.weight True\n",
      "linear_rightsided_pe.l.3.bias True\n",
      "linear_rightsided_pe.l.4.weight True\n",
      "linear_rightsided_pe.l.4.bias True\n",
      "linear_rv_lv_ratio_gte_1.m.0.weight True\n",
      "linear_rv_lv_ratio_gte_1.m.1.weight True\n",
      "linear_rv_lv_ratio_gte_1.m.1.bias True\n",
      "linear_rv_lv_ratio_gte_1.m.2.weight True\n",
      "linear_rv_lv_ratio_gte_1.m.3.weight True\n",
      "linear_rv_lv_ratio_gte_1.m.3.bias True\n",
      "linear_rv_lv_ratio_gte_1.m.4.weight True\n",
      "linear_rv_lv_ratio_gte_1.m.5.weight True\n",
      "linear_rv_lv_ratio_gte_1.m.5.bias True\n",
      "linear_rv_lv_ratio_gte_1.l.0.weight True\n",
      "linear_rv_lv_ratio_gte_1.l.0.bias True\n",
      "linear_rv_lv_ratio_gte_1.l.3.weight True\n",
      "linear_rv_lv_ratio_gte_1.l.3.bias True\n",
      "linear_rv_lv_ratio_gte_1.l.4.weight True\n",
      "linear_rv_lv_ratio_gte_1.l.4.bias True\n",
      "linear_rv_lv_ratio_lt_1.m.0.weight True\n",
      "linear_rv_lv_ratio_lt_1.m.1.weight True\n",
      "linear_rv_lv_ratio_lt_1.m.1.bias True\n",
      "linear_rv_lv_ratio_lt_1.m.2.weight True\n",
      "linear_rv_lv_ratio_lt_1.m.3.weight True\n",
      "linear_rv_lv_ratio_lt_1.m.3.bias True\n",
      "linear_rv_lv_ratio_lt_1.m.4.weight True\n",
      "linear_rv_lv_ratio_lt_1.m.5.weight True\n",
      "linear_rv_lv_ratio_lt_1.m.5.bias True\n",
      "linear_rv_lv_ratio_lt_1.l.0.weight True\n",
      "linear_rv_lv_ratio_lt_1.l.0.bias True\n",
      "linear_rv_lv_ratio_lt_1.l.3.weight True\n",
      "linear_rv_lv_ratio_lt_1.l.3.bias True\n",
      "linear_rv_lv_ratio_lt_1.l.4.weight True\n",
      "linear_rv_lv_ratio_lt_1.l.4.bias True\n"
     ]
    }
   ],
   "source": [
    "for name, param in model.named_parameters():\n",
    "    print(name, param.requires_grad)"
   ]
  },
  {
   "cell_type": "code",
   "execution_count": 41,
   "metadata": {},
   "outputs": [],
   "source": [
    "criterion = nn.BCEWithLogitsLoss() # 7.5.1 may addlabel smoothing\n",
    "optimizer = optim.Adamax(model.parameters(), lr=0.0008, weight_decay=5e-5) # 7.1 - L2-penalty"
   ]
  },
  {
   "cell_type": "code",
   "execution_count": 42,
   "metadata": {},
   "outputs": [],
   "source": [
    "def compute_accuracy(y_pred, y_true, threshold=0.5):\n",
    "    '''\n",
    "    computes accuracy, precision and recall\n",
    "    '''\n",
    "    y_pred_ = torch.sigmoid(y_pred.clone())\n",
    "    y_true_ = y_true.clone()\n",
    "    try:\n",
    "        res =  ((y_pred_ >= threshold)==y_true_).sum().item()/(y_pred_.shape[0]*y_true_.shape[1]), ((y_pred_ >= threshold)*y_true_).sum().item()/y_true_.sum().item(), ((y_pred_ >= threshold)*y_true_).sum().item()/y_pred_.sum().item()\n",
    "        return res\n",
    "    except:\n",
    "        return 0,0,0"
   ]
  },
  {
   "cell_type": "code",
   "execution_count": 43,
   "metadata": {},
   "outputs": [],
   "source": [
    "def evaluate_on(model, dataloader, stage):\n",
    "    print('Evaluating on', stage)\n",
    "    \n",
    "    running_loss = []\n",
    "    running_accuracy = []\n",
    "    running_precision = []\n",
    "    running_recall = []\n",
    "    \n",
    "    model.eval()\n",
    "    with torch.no_grad():\n",
    "        for x,y in tqdm(dataloader, total=len(dataloader)):\n",
    "            total_loss = 0\n",
    "            y_pred = model(x)\n",
    "            for i in range(y.shape[1]):\n",
    "                loss_i = criterion(y_pred[:,i], y[:,i])\n",
    "                total_loss += loss_i\n",
    "            running_loss.append(total_loss.item())\n",
    "            accur, prec, rec = compute_accuracy(y_pred, y)\n",
    "            running_accuracy.append(accur)\n",
    "            running_precision.append(prec)\n",
    "            running_recall.append(rec)\n",
    "            \n",
    "    return np.array(running_loss).mean(), np.array(running_accuracy).mean(), np.array(running_precision).mean(), np.array(running_recall).mean()"
   ]
  },
  {
   "cell_type": "code",
   "execution_count": 44,
   "metadata": {},
   "outputs": [
    {
     "name": "stdout",
     "output_type": "stream",
     "text": [
      "Epoch Number: 0\n"
     ]
    },
    {
     "name": "stderr",
     "output_type": "stream",
     "text": [
      "  0%|                                                                                         | 0/1056 [00:00<?, ?it/s]"
     ]
    },
    {
     "name": "stdout",
     "output_type": "stream",
     "text": [
      "[1,     9] loss: 0.063\n",
      "Evaluating on validation\n"
     ]
    },
    {
     "name": "stderr",
     "output_type": "stream",
     "text": [
      "100%|██████████████████████████████████████████████████████████████████████████████| 1056/1056 [09:39<00:00,  1.82it/s]\n"
     ]
    },
    {
     "name": "stdout",
     "output_type": "stream",
     "text": [
      "val_loss, val_accuracy 1230.1745769327338 0.0\n",
      "val_prec, val_rec 0.0 0.0\n"
     ]
    },
    {
     "name": "stderr",
     "output_type": "stream",
     "text": [
      "  0%|                                                                                         | 0/1056 [00:00<?, ?it/s]"
     ]
    },
    {
     "name": "stdout",
     "output_type": "stream",
     "text": [
      "[1,     9] loss: 2.604\n",
      "Evaluating on validation\n"
     ]
    },
    {
     "name": "stderr",
     "output_type": "stream",
     "text": [
      "100%|██████████████████████████████████████████████████████████████████████████████| 1056/1056 [05:57<00:00,  2.96it/s]\n"
     ]
    },
    {
     "name": "stdout",
     "output_type": "stream",
     "text": [
      "val_loss, val_accuracy 2.7116172166936323 0.8642580392647742\n",
      "val_prec, val_rec 0.0 0.0\n"
     ]
    },
    {
     "name": "stderr",
     "output_type": "stream",
     "text": [
      "  0%|                                                                                         | 0/1056 [00:00<?, ?it/s]"
     ]
    },
    {
     "name": "stdout",
     "output_type": "stream",
     "text": [
      "[1,     9] loss: 2.282\n",
      "Evaluating on validation\n"
     ]
    },
    {
     "name": "stderr",
     "output_type": "stream",
     "text": [
      "100%|██████████████████████████████████████████████████████████████████████████████| 1056/1056 [05:57<00:00,  2.95it/s]\n"
     ]
    },
    {
     "name": "stdout",
     "output_type": "stream",
     "text": [
      "val_loss, val_accuracy 2.5723224943785956 0.8642828700075468\n",
      "val_prec, val_rec 0.017227603410569566 0.019040505563287926\n"
     ]
    },
    {
     "name": "stderr",
     "output_type": "stream",
     "text": [
      "  0%|                                                                                         | 0/1056 [00:00<?, ?it/s]"
     ]
    },
    {
     "name": "stdout",
     "output_type": "stream",
     "text": [
      "[1,     9] loss: 2.205\n",
      "Evaluating on validation\n"
     ]
    },
    {
     "name": "stderr",
     "output_type": "stream",
     "text": [
      "100%|██████████████████████████████████████████████████████████████████████████████| 1056/1056 [06:20<00:00,  2.77it/s]\n"
     ]
    },
    {
     "name": "stdout",
     "output_type": "stream",
     "text": [
      "val_loss, val_accuracy 2.3977219348378256 0.8682420695823173\n",
      "val_prec, val_rec 0.05307112253236028 0.057971883420436646\n"
     ]
    },
    {
     "name": "stderr",
     "output_type": "stream",
     "text": [
      "  0%|                                                                                         | 0/1056 [00:00<?, ?it/s]"
     ]
    },
    {
     "name": "stdout",
     "output_type": "stream",
     "text": [
      "[1,     9] loss: 2.115\n",
      "Evaluating on validation\n"
     ]
    },
    {
     "name": "stderr",
     "output_type": "stream",
     "text": [
      "100%|██████████████████████████████████████████████████████████████████████████████| 1056/1056 [05:58<00:00,  2.94it/s]\n"
     ]
    },
    {
     "name": "stdout",
     "output_type": "stream",
     "text": [
      "val_loss, val_accuracy 2.5395218657724783 0.863922654163764\n",
      "val_prec, val_rec 0.0014589581886554814 0.0019972341967823383\n"
     ]
    },
    {
     "name": "stderr",
     "output_type": "stream",
     "text": [
      "  0%|                                                                                         | 0/1056 [00:00<?, ?it/s]"
     ]
    },
    {
     "name": "stdout",
     "output_type": "stream",
     "text": [
      "[1,     9] loss: 2.203\n",
      "Evaluating on validation\n"
     ]
    },
    {
     "name": "stderr",
     "output_type": "stream",
     "text": [
      "100%|██████████████████████████████████████████████████████████████████████████████| 1056/1056 [05:59<00:00,  2.94it/s]\n"
     ]
    },
    {
     "name": "stdout",
     "output_type": "stream",
     "text": [
      "val_loss, val_accuracy 2.662912018935789 0.8639456707883432\n",
      "val_prec, val_rec 0.0026557153936489237 0.004994078366610587\n"
     ]
    },
    {
     "name": "stderr",
     "output_type": "stream",
     "text": [
      "  0%|                                                                                         | 0/1056 [00:00<?, ?it/s]"
     ]
    },
    {
     "name": "stdout",
     "output_type": "stream",
     "text": [
      "[1,     9] loss: 2.192\n",
      "Evaluating on validation\n"
     ]
    },
    {
     "name": "stderr",
     "output_type": "stream",
     "text": [
      "100%|██████████████████████████████████████████████████████████████████████████████| 1056/1056 [05:59<00:00,  2.94it/s]\n"
     ]
    },
    {
     "name": "stdout",
     "output_type": "stream",
     "text": [
      "val_loss, val_accuracy 2.4989945145718977 0.857079743646958\n",
      "val_prec, val_rec 0.26240050130592896 0.23361709744355813\n"
     ]
    },
    {
     "name": "stderr",
     "output_type": "stream",
     "text": [
      "  0%|                                                                                         | 0/1056 [00:00<?, ?it/s]"
     ]
    },
    {
     "name": "stdout",
     "output_type": "stream",
     "text": [
      "[1,     9] loss: 2.060\n",
      "Evaluating on validation\n"
     ]
    },
    {
     "name": "stderr",
     "output_type": "stream",
     "text": [
      "100%|██████████████████████████████████████████████████████████████████████████████| 1056/1056 [05:57<00:00,  2.95it/s]\n"
     ]
    },
    {
     "name": "stdout",
     "output_type": "stream",
     "text": [
      "val_loss, val_accuracy 2.6765419435546254 0.8635658964827878\n",
      "val_prec, val_rec 0.007142691894733939 0.01206364113075688\n"
     ]
    },
    {
     "name": "stderr",
     "output_type": "stream",
     "text": [
      "  0%|                                                                                         | 0/1056 [00:00<?, ?it/s]"
     ]
    },
    {
     "name": "stdout",
     "output_type": "stream",
     "text": [
      "[1,     9] loss: 2.092\n",
      "Evaluating on validation\n"
     ]
    },
    {
     "name": "stderr",
     "output_type": "stream",
     "text": [
      "100%|██████████████████████████████████████████████████████████████████████████████| 1056/1056 [05:57<00:00,  2.95it/s]\n"
     ]
    },
    {
     "name": "stdout",
     "output_type": "stream",
     "text": [
      "val_loss, val_accuracy 3.0232827482801494 0.8634838643257285\n",
      "val_prec, val_rec 0.007133031139224516 0.017500151995946404\n"
     ]
    },
    {
     "name": "stderr",
     "output_type": "stream",
     "text": [
      "  0%|                                                                                         | 0/1056 [00:00<?, ?it/s]"
     ]
    },
    {
     "name": "stdout",
     "output_type": "stream",
     "text": [
      "[1,     9] loss: 1.993\n",
      "Evaluating on validation\n"
     ]
    },
    {
     "name": "stderr",
     "output_type": "stream",
     "text": [
      "100%|██████████████████████████████████████████████████████████████████████████████| 1056/1056 [05:58<00:00,  2.94it/s]\n"
     ]
    },
    {
     "name": "stdout",
     "output_type": "stream",
     "text": [
      "val_loss, val_accuracy 2.713681918314912 0.8661197780607802\n",
      "val_prec, val_rec 0.029053600347990045 0.06077039736069046\n"
     ]
    },
    {
     "name": "stderr",
     "output_type": "stream",
     "text": [
      "  0%|                                                                                         | 0/1056 [00:00<?, ?it/s]"
     ]
    },
    {
     "name": "stdout",
     "output_type": "stream",
     "text": [
      "[1,     9] loss: 2.035\n",
      "Evaluating on validation\n"
     ]
    },
    {
     "name": "stderr",
     "output_type": "stream",
     "text": [
      "100%|██████████████████████████████████████████████████████████████████████████████| 1056/1056 [05:59<00:00,  2.94it/s]\n"
     ]
    },
    {
     "name": "stdout",
     "output_type": "stream",
     "text": [
      "val_loss, val_accuracy 2.549391549645048 0.8724034866444618\n",
      "val_prec, val_rec 0.08958690703449954 0.1530552955792028\n"
     ]
    },
    {
     "name": "stderr",
     "output_type": "stream",
     "text": [
      "  0%|                                                                                         | 0/1056 [00:00<?, ?it/s]"
     ]
    },
    {
     "name": "stdout",
     "output_type": "stream",
     "text": [
      "[1,     9] loss: 2.161\n",
      "Evaluating on validation\n"
     ]
    },
    {
     "name": "stderr",
     "output_type": "stream",
     "text": [
      "100%|██████████████████████████████████████████████████████████████████████████████| 1056/1056 [05:58<00:00,  2.95it/s]\n"
     ]
    },
    {
     "name": "stdout",
     "output_type": "stream",
     "text": [
      "val_loss, val_accuracy 2.337835386282567 0.879811608360908\n",
      "val_prec, val_rec 0.1993691929916052 0.23728202627819192\n"
     ]
    },
    {
     "name": "stderr",
     "output_type": "stream",
     "text": [
      "  0%|                                                                                         | 0/1056 [00:00<?, ?it/s]"
     ]
    },
    {
     "name": "stdout",
     "output_type": "stream",
     "text": [
      "[1,     9] loss: 2.084\n",
      "Evaluating on validation\n"
     ]
    },
    {
     "name": "stderr",
     "output_type": "stream",
     "text": [
      "100%|██████████████████████████████████████████████████████████████████████████████| 1056/1056 [05:58<00:00,  2.94it/s]\n"
     ]
    },
    {
     "name": "stdout",
     "output_type": "stream",
     "text": [
      "val_loss, val_accuracy 2.7546872362268693 0.8576040804960525\n",
      "val_prec, val_rec 0.013903539408730577 0.018974094825940157\n"
     ]
    },
    {
     "name": "stderr",
     "output_type": "stream",
     "text": [
      "  0%|                                                                                         | 0/1056 [00:00<?, ?it/s]"
     ]
    },
    {
     "name": "stdout",
     "output_type": "stream",
     "text": [
      "[1,     9] loss: 2.148\n",
      "Evaluating on validation\n"
     ]
    },
    {
     "name": "stderr",
     "output_type": "stream",
     "text": [
      "100%|██████████████████████████████████████████████████████████████████████████████| 1056/1056 [05:59<00:00,  2.94it/s]\n"
     ]
    },
    {
     "name": "stdout",
     "output_type": "stream",
     "text": [
      "val_loss, val_accuracy 2.8057055782639617 0.8687329586272206\n",
      "val_prec, val_rec 0.06735121488591768 0.13374526038772747\n"
     ]
    },
    {
     "name": "stderr",
     "output_type": "stream",
     "text": [
      "  0%|                                                                                         | 0/1056 [00:00<?, ?it/s]"
     ]
    },
    {
     "name": "stdout",
     "output_type": "stream",
     "text": [
      "[1,     9] loss: 2.123\n",
      "Evaluating on validation\n"
     ]
    },
    {
     "name": "stderr",
     "output_type": "stream",
     "text": [
      "100%|██████████████████████████████████████████████████████████████████████████████| 1056/1056 [05:58<00:00,  2.95it/s]\n"
     ]
    },
    {
     "name": "stdout",
     "output_type": "stream",
     "text": [
      "val_loss, val_accuracy 2.2984807843511756 0.8837638916100662\n",
      "val_prec, val_rec 0.23471111661608424 0.27518363029294474\n"
     ]
    },
    {
     "name": "stderr",
     "output_type": "stream",
     "text": [
      "  0%|                                                                                         | 0/1056 [00:00<?, ?it/s]"
     ]
    },
    {
     "name": "stdout",
     "output_type": "stream",
     "text": [
      "[1,     9] loss: 2.060\n",
      "Evaluating on validation\n"
     ]
    },
    {
     "name": "stderr",
     "output_type": "stream",
     "text": [
      "100%|██████████████████████████████████████████████████████████████████████████████| 1056/1056 [05:58<00:00,  2.95it/s]\n"
     ]
    },
    {
     "name": "stdout",
     "output_type": "stream",
     "text": [
      "val_loss, val_accuracy 2.391838905711969 0.8825910075068211\n",
      "val_prec, val_rec 0.19452622325454128 0.296331947814814\n"
     ]
    },
    {
     "name": "stderr",
     "output_type": "stream",
     "text": [
      "  0%|                                                                                         | 0/1056 [00:00<?, ?it/s]"
     ]
    },
    {
     "name": "stdout",
     "output_type": "stream",
     "text": [
      "[1,     9] loss: 2.076\n",
      "Evaluating on validation\n"
     ]
    },
    {
     "name": "stderr",
     "output_type": "stream",
     "text": [
      "100%|██████████████████████████████████████████████████████████████████████████████| 1056/1056 [05:57<00:00,  2.95it/s]\n"
     ]
    },
    {
     "name": "stdout",
     "output_type": "stream",
     "text": [
      "val_loss, val_accuracy 2.343653712082993 0.8766835583746952\n",
      "val_prec, val_rec 0.5495920703795135 0.43792412916530543\n"
     ]
    },
    {
     "name": "stderr",
     "output_type": "stream",
     "text": [
      "  0%|                                                                                         | 0/1056 [00:00<?, ?it/s]"
     ]
    },
    {
     "name": "stdout",
     "output_type": "stream",
     "text": [
      "[1,     9] loss: 1.959\n",
      "Evaluating on validation\n"
     ]
    },
    {
     "name": "stderr",
     "output_type": "stream",
     "text": [
      "100%|██████████████████████████████████████████████████████████████████████████████| 1056/1056 [05:57<00:00,  2.96it/s]\n"
     ]
    },
    {
     "name": "stdout",
     "output_type": "stream",
     "text": [
      "val_loss, val_accuracy 2.194652552180218 0.8913393090386625\n",
      "val_prec, val_rec 0.4994294145211619 0.4479074823031643\n"
     ]
    },
    {
     "name": "stderr",
     "output_type": "stream",
     "text": [
      "  0%|                                                                                         | 0/1056 [00:00<?, ?it/s]"
     ]
    },
    {
     "name": "stdout",
     "output_type": "stream",
     "text": [
      "[1,     9] loss: 1.999\n",
      "Evaluating on validation\n"
     ]
    },
    {
     "name": "stderr",
     "output_type": "stream",
     "text": [
      "100%|██████████████████████████████████████████████████████████████████████████████| 1056/1056 [05:58<00:00,  2.95it/s]\n"
     ]
    },
    {
     "name": "stdout",
     "output_type": "stream",
     "text": [
      "val_loss, val_accuracy 2.544950248504227 0.8817939860167769\n",
      "val_prec, val_rec 0.15316269558936035 0.28780940388985954\n"
     ]
    },
    {
     "name": "stderr",
     "output_type": "stream",
     "text": [
      "  0%|                                                                                         | 0/1056 [00:00<?, ?it/s]"
     ]
    },
    {
     "name": "stdout",
     "output_type": "stream",
     "text": [
      "[1,     9] loss: 1.909\n",
      "Evaluating on validation\n"
     ]
    },
    {
     "name": "stderr",
     "output_type": "stream",
     "text": [
      "100%|██████████████████████████████████████████████████████████████████████████████| 1056/1056 [05:57<00:00,  2.95it/s]\n"
     ]
    },
    {
     "name": "stdout",
     "output_type": "stream",
     "text": [
      "val_loss, val_accuracy 2.1354507800530302 0.8955913186280913\n",
      "val_prec, val_rec 0.39892157681341556 0.3994259011154125\n"
     ]
    },
    {
     "name": "stderr",
     "output_type": "stream",
     "text": [
      "  0%|                                                                                         | 0/1056 [00:00<?, ?it/s]"
     ]
    },
    {
     "name": "stdout",
     "output_type": "stream",
     "text": [
      "[1,     9] loss: 1.853\n",
      "Evaluating on validation\n"
     ]
    },
    {
     "name": "stderr",
     "output_type": "stream",
     "text": [
      "100%|██████████████████████████████████████████████████████████████████████████████| 1056/1056 [05:58<00:00,  2.94it/s]\n"
     ]
    },
    {
     "name": "stdout",
     "output_type": "stream",
     "text": [
      "val_loss, val_accuracy 2.1386005145808062 0.8964079552711018\n",
      "val_prec, val_rec 0.43176265250537105 0.4679530895512204\n"
     ]
    },
    {
     "name": "stderr",
     "output_type": "stream",
     "text": [
      "  0%|                                                                                         | 0/1056 [00:00<?, ?it/s]"
     ]
    },
    {
     "name": "stdout",
     "output_type": "stream",
     "text": [
      "[1,     9] loss: 1.942\n",
      "Evaluating on validation\n"
     ]
    },
    {
     "name": "stderr",
     "output_type": "stream",
     "text": [
      "100%|██████████████████████████████████████████████████████████████████████████████| 1056/1056 [05:58<00:00,  2.94it/s]\n"
     ]
    },
    {
     "name": "stdout",
     "output_type": "stream",
     "text": [
      "val_loss, val_accuracy 2.2990699481557715 0.8861161793038139\n",
      "val_prec, val_rec 0.18447181249892047 0.2878834796544886\n"
     ]
    },
    {
     "name": "stderr",
     "output_type": "stream",
     "text": [
      "  0%|                                                                                         | 0/1056 [00:00<?, ?it/s]"
     ]
    },
    {
     "name": "stdout",
     "output_type": "stream",
     "text": [
      "[1,     9] loss: 1.910\n",
      "Evaluating on validation\n"
     ]
    },
    {
     "name": "stderr",
     "output_type": "stream",
     "text": [
      "100%|██████████████████████████████████████████████████████████████████████████████| 1056/1056 [06:00<00:00,  2.93it/s]\n"
     ]
    },
    {
     "name": "stdout",
     "output_type": "stream",
     "text": [
      "val_loss, val_accuracy 2.1679020501447446 0.8922218775397655\n",
      "val_prec, val_rec 0.263042680597879 0.3479450848010213\n"
     ]
    },
    {
     "name": "stderr",
     "output_type": "stream",
     "text": [
      "  0%|                                                                                         | 0/1056 [00:00<?, ?it/s]"
     ]
    },
    {
     "name": "stdout",
     "output_type": "stream",
     "text": [
      "[1,     9] loss: 1.856\n",
      "Evaluating on validation\n"
     ]
    },
    {
     "name": "stderr",
     "output_type": "stream",
     "text": [
      "100%|██████████████████████████████████████████████████████████████████████████████| 1056/1056 [05:59<00:00,  2.94it/s]\n"
     ]
    },
    {
     "name": "stdout",
     "output_type": "stream",
     "text": [
      "val_loss, val_accuracy 2.2990044258309132 0.8876083482091025\n",
      "val_prec, val_rec 0.20260709585880307 0.31338704760429276\n"
     ]
    },
    {
     "name": "stderr",
     "output_type": "stream",
     "text": [
      "  0%|                                                                                         | 0/1056 [00:00<?, ?it/s]"
     ]
    },
    {
     "name": "stdout",
     "output_type": "stream",
     "text": [
      "[1,     9] loss: 1.827\n",
      "Evaluating on validation\n"
     ]
    },
    {
     "name": "stderr",
     "output_type": "stream",
     "text": [
      "100%|██████████████████████████████████████████████████████████████████████████████| 1056/1056 [05:57<00:00,  2.95it/s]\n"
     ]
    },
    {
     "name": "stdout",
     "output_type": "stream",
     "text": [
      "val_loss, val_accuracy 2.154687813624288 0.8955558299409323\n",
      "val_prec, val_rec 0.5464939493366247 0.49681462135201765\n"
     ]
    },
    {
     "name": "stderr",
     "output_type": "stream",
     "text": [
      "  0%|                                                                                         | 0/1056 [00:00<?, ?it/s]"
     ]
    },
    {
     "name": "stdout",
     "output_type": "stream",
     "text": [
      "[1,     9] loss: 1.865\n",
      "Evaluating on validation\n"
     ]
    },
    {
     "name": "stderr",
     "output_type": "stream",
     "text": [
      "100%|██████████████████████████████████████████████████████████████████████████████| 1056/1056 [05:58<00:00,  2.94it/s]\n"
     ]
    },
    {
     "name": "stdout",
     "output_type": "stream",
     "text": [
      "val_loss, val_accuracy 2.1250760109361373 0.8952641537501451\n",
      "val_prec, val_rec 0.549637545066971 0.4939712025072271\n"
     ]
    },
    {
     "name": "stderr",
     "output_type": "stream",
     "text": [
      "  0%|                                                                                         | 0/1056 [00:00<?, ?it/s]"
     ]
    },
    {
     "name": "stdout",
     "output_type": "stream",
     "text": [
      "[1,     9] loss: 1.865\n",
      "Evaluating on validation\n"
     ]
    },
    {
     "name": "stderr",
     "output_type": "stream",
     "text": [
      "100%|██████████████████████████████████████████████████████████████████████████████| 1056/1056 [05:59<00:00,  2.94it/s]\n"
     ]
    },
    {
     "name": "stdout",
     "output_type": "stream",
     "text": [
      "val_loss, val_accuracy 2.1359835430753953 0.8993090704095553\n",
      "val_prec, val_rec 0.36422051569039626 0.4579863803609502\n"
     ]
    },
    {
     "name": "stderr",
     "output_type": "stream",
     "text": [
      "  0%|                                                                                         | 0/1056 [00:00<?, ?it/s]"
     ]
    },
    {
     "name": "stdout",
     "output_type": "stream",
     "text": [
      "[1,     9] loss: 1.859\n",
      "Evaluating on validation\n"
     ]
    },
    {
     "name": "stderr",
     "output_type": "stream",
     "text": [
      "100%|██████████████████████████████████████████████████████████████████████████████| 1056/1056 [05:58<00:00,  2.94it/s]\n"
     ]
    },
    {
     "name": "stdout",
     "output_type": "stream",
     "text": [
      "val_loss, val_accuracy 2.0706635852429 0.8998453124092941\n",
      "val_prec, val_rec 0.3465214198763863 0.4127883782445747\n"
     ]
    },
    {
     "name": "stderr",
     "output_type": "stream",
     "text": [
      "  0%|                                                                                         | 0/1056 [00:00<?, ?it/s]"
     ]
    },
    {
     "name": "stdout",
     "output_type": "stream",
     "text": [
      "[1,     9] loss: 1.827\n",
      "Evaluating on validation\n"
     ]
    },
    {
     "name": "stderr",
     "output_type": "stream",
     "text": [
      "100%|██████████████████████████████████████████████████████████████████████████████| 1056/1056 [05:58<00:00,  2.94it/s]\n"
     ]
    },
    {
     "name": "stdout",
     "output_type": "stream",
     "text": [
      "val_loss, val_accuracy 2.0555375629302226 0.9005708463042784\n",
      "val_prec, val_rec 0.3641453749322464 0.4339620602475528\n"
     ]
    },
    {
     "name": "stderr",
     "output_type": "stream",
     "text": [
      "  0%|                                                                                         | 0/1056 [00:00<?, ?it/s]"
     ]
    },
    {
     "name": "stdout",
     "output_type": "stream",
     "text": [
      "[1,     9] loss: 1.876\n",
      "Evaluating on validation\n"
     ]
    },
    {
     "name": "stderr",
     "output_type": "stream",
     "text": [
      "100%|██████████████████████████████████████████████████████████████████████████████| 1056/1056 [05:58<00:00,  2.95it/s]\n"
     ]
    },
    {
     "name": "stdout",
     "output_type": "stream",
     "text": [
      "val_loss, val_accuracy 2.332042387376229 0.8893759796238244\n",
      "val_prec, val_rec 0.21660759557876427 0.3650629494621475\n"
     ]
    },
    {
     "name": "stderr",
     "output_type": "stream",
     "text": [
      "  0%|                                                                                         | 0/1056 [00:00<?, ?it/s]"
     ]
    },
    {
     "name": "stdout",
     "output_type": "stream",
     "text": [
      "[1,     9] loss: 1.821\n",
      "Evaluating on validation\n"
     ]
    },
    {
     "name": "stderr",
     "output_type": "stream",
     "text": [
      "100%|██████████████████████████████████████████████████████████████████████████████| 1056/1056 [05:58<00:00,  2.94it/s]\n"
     ]
    },
    {
     "name": "stdout",
     "output_type": "stream",
     "text": [
      "val_loss, val_accuracy 2.0464008038468435 0.9031501822281724\n",
      "val_prec, val_rec 0.4793991707052314 0.44027378825784386\n"
     ]
    },
    {
     "name": "stderr",
     "output_type": "stream",
     "text": [
      "  0%|                                                                                         | 0/1056 [00:00<?, ?it/s]"
     ]
    },
    {
     "name": "stdout",
     "output_type": "stream",
     "text": [
      "[1,     9] loss: 1.821\n",
      "Evaluating on validation\n"
     ]
    },
    {
     "name": "stderr",
     "output_type": "stream",
     "text": [
      "100%|██████████████████████████████████████████████████████████████████████████████| 1056/1056 [05:58<00:00,  2.95it/s]\n"
     ]
    },
    {
     "name": "stdout",
     "output_type": "stream",
     "text": [
      "val_loss, val_accuracy 2.1930257519989302 0.892697630035992\n",
      "val_prec, val_rec 0.2506817739036835 0.36121549139530024\n"
     ]
    },
    {
     "name": "stderr",
     "output_type": "stream",
     "text": [
      "  0%|                                                                                         | 0/1056 [00:00<?, ?it/s]"
     ]
    },
    {
     "name": "stdout",
     "output_type": "stream",
     "text": [
      "[1,     9] loss: 1.801\n",
      "Evaluating on validation\n"
     ]
    },
    {
     "name": "stderr",
     "output_type": "stream",
     "text": [
      "100%|██████████████████████████████████████████████████████████████████████████████| 1056/1056 [05:58<00:00,  2.94it/s]\n"
     ]
    },
    {
     "name": "stdout",
     "output_type": "stream",
     "text": [
      "val_loss, val_accuracy 1.9940482257216265 0.9034451465081853\n",
      "val_prec, val_rec 0.40641736963622804 0.42901194064118436\n"
     ]
    },
    {
     "name": "stderr",
     "output_type": "stream",
     "text": [
      "  0%|                                                                                         | 0/1056 [00:00<?, ?it/s]"
     ]
    },
    {
     "name": "stdout",
     "output_type": "stream",
     "text": [
      "[1,     9] loss: 1.800\n",
      "Evaluating on validation\n"
     ]
    },
    {
     "name": "stderr",
     "output_type": "stream",
     "text": [
      "100%|██████████████████████████████████████████████████████████████████████████████| 1056/1056 [05:57<00:00,  2.95it/s]\n"
     ]
    },
    {
     "name": "stdout",
     "output_type": "stream",
     "text": [
      "val_loss, val_accuracy 2.051110308165803 0.899988004143446\n",
      "val_prec, val_rec 0.34108484049170523 0.39479119199597623\n"
     ]
    },
    {
     "name": "stderr",
     "output_type": "stream",
     "text": [
      "  0%|                                                                                         | 0/1056 [00:00<?, ?it/s]"
     ]
    },
    {
     "name": "stdout",
     "output_type": "stream",
     "text": [
      "[1,     9] loss: 1.800\n",
      "Evaluating on validation\n"
     ]
    },
    {
     "name": "stderr",
     "output_type": "stream",
     "text": [
      "100%|██████████████████████████████████████████████████████████████████████████████| 1056/1056 [05:58<00:00,  2.95it/s]\n"
     ]
    },
    {
     "name": "stdout",
     "output_type": "stream",
     "text": [
      "val_loss, val_accuracy 2.0329793333781487 0.9012177495138164\n",
      "val_prec, val_rec 0.3489019281862642 0.44218824192715156\n"
     ]
    },
    {
     "name": "stderr",
     "output_type": "stream",
     "text": [
      "  0%|                                                                                         | 0/1056 [00:00<?, ?it/s]"
     ]
    },
    {
     "name": "stdout",
     "output_type": "stream",
     "text": [
      "[1,     9] loss: 1.754\n",
      "Evaluating on validation\n"
     ]
    },
    {
     "name": "stderr",
     "output_type": "stream",
     "text": [
      "100%|██████████████████████████████████████████████████████████████████████████████| 1056/1056 [05:59<00:00,  2.94it/s]\n"
     ]
    },
    {
     "name": "stdout",
     "output_type": "stream",
     "text": [
      "val_loss, val_accuracy 2.0507308388072434 0.9034211661333159\n",
      "val_prec, val_rec 0.38747047258765255 0.4931917195325481\n"
     ]
    },
    {
     "name": "stderr",
     "output_type": "stream",
     "text": [
      "  0%|                                                                                         | 0/1056 [00:00<?, ?it/s]"
     ]
    },
    {
     "name": "stdout",
     "output_type": "stream",
     "text": [
      "[1,     9] loss: 1.773\n",
      "Evaluating on validation\n"
     ]
    },
    {
     "name": "stderr",
     "output_type": "stream",
     "text": [
      "100%|██████████████████████████████████████████████████████████████████████████████| 1056/1056 [05:58<00:00,  2.94it/s]\n"
     ]
    },
    {
     "name": "stdout",
     "output_type": "stream",
     "text": [
      "val_loss, val_accuracy 2.297887306265307 0.8949590417464879\n",
      "val_prec, val_rec 0.2697031124578279 0.4593582003103102\n"
     ]
    },
    {
     "name": "stderr",
     "output_type": "stream",
     "text": [
      "  0%|                                                                                         | 0/1056 [00:00<?, ?it/s]"
     ]
    },
    {
     "name": "stdout",
     "output_type": "stream",
     "text": [
      "[1,     9] loss: 1.817\n",
      "Evaluating on validation\n"
     ]
    },
    {
     "name": "stderr",
     "output_type": "stream",
     "text": [
      "100%|██████████████████████████████████████████████████████████████████████████████| 1056/1056 [05:59<00:00,  2.94it/s]\n"
     ]
    },
    {
     "name": "stdout",
     "output_type": "stream",
     "text": [
      "val_loss, val_accuracy 1.941870888074239 0.906551540458464\n",
      "val_prec, val_rec 0.5135166192391342 0.47691959871964534\n"
     ]
    },
    {
     "name": "stderr",
     "output_type": "stream",
     "text": [
      "  0%|                                                                                         | 0/1056 [00:00<?, ?it/s]"
     ]
    },
    {
     "name": "stdout",
     "output_type": "stream",
     "text": [
      "[1,     9] loss: 1.739\n",
      "Evaluating on validation\n"
     ]
    },
    {
     "name": "stderr",
     "output_type": "stream",
     "text": [
      "100%|██████████████████████████████████████████████████████████████████████████████| 1056/1056 [06:00<00:00,  2.93it/s]\n"
     ]
    },
    {
     "name": "stdout",
     "output_type": "stream",
     "text": [
      "val_loss, val_accuracy 2.078280168387926 0.8957823679503367\n",
      "val_prec, val_rec 0.27710367432355487 0.3498398090661528\n"
     ]
    },
    {
     "name": "stderr",
     "output_type": "stream",
     "text": [
      "  0%|                                                                                         | 0/1056 [00:00<?, ?it/s]"
     ]
    },
    {
     "name": "stdout",
     "output_type": "stream",
     "text": [
      "[1,     9] loss: 1.754\n",
      "Evaluating on validation\n"
     ]
    },
    {
     "name": "stderr",
     "output_type": "stream",
     "text": [
      "100%|██████████████████████████████████████████████████████████████████████████████| 1056/1056 [06:00<00:00,  2.93it/s]\n"
     ]
    },
    {
     "name": "stdout",
     "output_type": "stream",
     "text": [
      "val_loss, val_accuracy 1.963918100026521 0.9061854287305526\n",
      "val_prec, val_rec 0.4434856253252108 0.4818189527719249\n"
     ]
    },
    {
     "name": "stderr",
     "output_type": "stream",
     "text": [
      "  0%|                                                                                         | 0/1056 [00:00<?, ?it/s]"
     ]
    },
    {
     "name": "stdout",
     "output_type": "stream",
     "text": [
      "[1,     9] loss: 1.773\n",
      "Evaluating on validation\n"
     ]
    },
    {
     "name": "stderr",
     "output_type": "stream",
     "text": [
      "100%|██████████████████████████████████████████████████████████████████████████████| 1056/1056 [05:58<00:00,  2.94it/s]\n"
     ]
    },
    {
     "name": "stdout",
     "output_type": "stream",
     "text": [
      "val_loss, val_accuracy 1.9281152747571468 0.9072390912537732\n",
      "val_prec, val_rec 0.4523870423038538 0.4801156848783341\n"
     ]
    },
    {
     "name": "stderr",
     "output_type": "stream",
     "text": [
      "  0%|                                                                                         | 0/1056 [00:00<?, ?it/s]"
     ]
    },
    {
     "name": "stdout",
     "output_type": "stream",
     "text": [
      "[1,     9] loss: 1.729\n",
      "Evaluating on validation\n"
     ]
    },
    {
     "name": "stderr",
     "output_type": "stream",
     "text": [
      "100%|██████████████████████████████████████████████████████████████████████████████| 1056/1056 [05:57<00:00,  2.95it/s]\n"
     ]
    },
    {
     "name": "stdout",
     "output_type": "stream",
     "text": [
      "val_loss, val_accuracy 1.9319135533137755 0.9062543085307093\n",
      "val_prec, val_rec 0.4944636666638009 0.5054801614562958\n"
     ]
    },
    {
     "name": "stderr",
     "output_type": "stream",
     "text": [
      "  0%|                                                                                         | 0/1056 [00:00<?, ?it/s]"
     ]
    },
    {
     "name": "stdout",
     "output_type": "stream",
     "text": [
      "[1,     9] loss: 1.660\n",
      "Evaluating on validation\n"
     ]
    },
    {
     "name": "stderr",
     "output_type": "stream",
     "text": [
      "100%|██████████████████████████████████████████████████████████████████████████████| 1056/1056 [05:58<00:00,  2.95it/s]\n"
     ]
    },
    {
     "name": "stdout",
     "output_type": "stream",
     "text": [
      "val_loss, val_accuracy 2.1154531043474423 0.8954744213870022\n",
      "val_prec, val_rec 0.2678591661038594 0.3995339368815537\n"
     ]
    },
    {
     "name": "stderr",
     "output_type": "stream",
     "text": [
      "  0%|                                                                                         | 0/1056 [00:00<?, ?it/s]"
     ]
    },
    {
     "name": "stdout",
     "output_type": "stream",
     "text": [
      "[1,     9] loss: 1.737\n",
      "Evaluating on validation\n"
     ]
    },
    {
     "name": "stderr",
     "output_type": "stream",
     "text": [
      "100%|██████████████████████████████████████████████████████████████████████████████| 1056/1056 [05:58<00:00,  2.95it/s]\n"
     ]
    },
    {
     "name": "stdout",
     "output_type": "stream",
     "text": [
      "val_loss, val_accuracy 1.8816418241370807 0.9098003426869267\n",
      "val_prec, val_rec 0.470617756269857 0.4712849922985124\n"
     ]
    },
    {
     "name": "stderr",
     "output_type": "stream",
     "text": [
      "  0%|                                                                                         | 0/1056 [00:00<?, ?it/s]"
     ]
    },
    {
     "name": "stdout",
     "output_type": "stream",
     "text": [
      "[1,     9] loss: 1.685\n",
      "Evaluating on validation\n"
     ]
    },
    {
     "name": "stderr",
     "output_type": "stream",
     "text": [
      "100%|██████████████████████████████████████████████████████████████████████████████| 1056/1056 [05:58<00:00,  2.95it/s]\n"
     ]
    },
    {
     "name": "stdout",
     "output_type": "stream",
     "text": [
      "val_loss, val_accuracy 2.1919242213621284 0.9029433160629282\n",
      "val_prec, val_rec 0.3647604955074331 0.5386880693590741\n"
     ]
    },
    {
     "name": "stderr",
     "output_type": "stream",
     "text": [
      "  0%|                                                                                         | 0/1056 [00:00<?, ?it/s]"
     ]
    },
    {
     "name": "stdout",
     "output_type": "stream",
     "text": [
      "[1,     9] loss: 1.710\n",
      "Evaluating on validation\n"
     ]
    },
    {
     "name": "stderr",
     "output_type": "stream",
     "text": [
      "100%|██████████████████████████████████████████████████████████████████████████████| 1056/1056 [05:59<00:00,  2.94it/s]\n"
     ]
    },
    {
     "name": "stdout",
     "output_type": "stream",
     "text": [
      "val_loss, val_accuracy 1.924148524123611 0.9082981394403808\n",
      "val_prec, val_rec 0.5139398381931846 0.5294763396126522\n"
     ]
    },
    {
     "name": "stderr",
     "output_type": "stream",
     "text": [
      "  0%|                                                                                         | 0/1056 [00:00<?, ?it/s]"
     ]
    },
    {
     "name": "stdout",
     "output_type": "stream",
     "text": [
      "[1,     9] loss: 1.684\n",
      "Evaluating on validation\n"
     ]
    },
    {
     "name": "stderr",
     "output_type": "stream",
     "text": [
      "100%|██████████████████████████████████████████████████████████████████████████████| 1056/1056 [06:01<00:00,  2.92it/s]\n"
     ]
    },
    {
     "name": "stdout",
     "output_type": "stream",
     "text": [
      "val_loss, val_accuracy 1.9859286987533171 0.9035213961635029\n",
      "val_prec, val_rec 0.3501145191691988 0.4716343134943788\n"
     ]
    },
    {
     "name": "stderr",
     "output_type": "stream",
     "text": [
      "  0%|                                                                                         | 0/1056 [00:00<?, ?it/s]"
     ]
    },
    {
     "name": "stdout",
     "output_type": "stream",
     "text": [
      "[1,     9] loss: 1.698\n",
      "Evaluating on validation\n"
     ]
    },
    {
     "name": "stderr",
     "output_type": "stream",
     "text": [
      "100%|██████████████████████████████████████████████████████████████████████████████| 1056/1056 [05:58<00:00,  2.95it/s]\n"
     ]
    },
    {
     "name": "stdout",
     "output_type": "stream",
     "text": [
      "val_loss, val_accuracy 2.010585606436838 0.9043768095828979\n",
      "val_prec, val_rec 0.35953164293051076 0.5062643669825481\n"
     ]
    },
    {
     "name": "stderr",
     "output_type": "stream",
     "text": [
      "  0%|                                                                                         | 0/1056 [00:00<?, ?it/s]"
     ]
    },
    {
     "name": "stdout",
     "output_type": "stream",
     "text": [
      "[1,     9] loss: 1.587\n",
      "Evaluating on validation\n"
     ]
    },
    {
     "name": "stderr",
     "output_type": "stream",
     "text": [
      "100%|██████████████████████████████████████████████████████████████████████████████| 1056/1056 [05:57<00:00,  2.95it/s]\n"
     ]
    },
    {
     "name": "stdout",
     "output_type": "stream",
     "text": [
      "val_loss, val_accuracy 1.9204712950934966 0.907313583482091\n",
      "val_prec, val_rec 0.3901792969327563 0.49907330106297865\n"
     ]
    },
    {
     "name": "stderr",
     "output_type": "stream",
     "text": [
      "  0%|                                                                                         | 0/1056 [00:00<?, ?it/s]"
     ]
    },
    {
     "name": "stdout",
     "output_type": "stream",
     "text": [
      "[1,     9] loss: 1.672\n",
      "Evaluating on validation\n"
     ]
    },
    {
     "name": "stderr",
     "output_type": "stream",
     "text": [
      "100%|██████████████████████████████████████████████████████████████████████████████| 1056/1056 [05:57<00:00,  2.95it/s]\n"
     ]
    },
    {
     "name": "stdout",
     "output_type": "stream",
     "text": [
      "val_loss, val_accuracy 1.821035937885895 0.9123244613883084\n",
      "val_prec, val_rec 0.5061855470659294 0.4977706806292982\n"
     ]
    },
    {
     "name": "stderr",
     "output_type": "stream",
     "text": [
      "  0%|                                                                                         | 0/1056 [00:00<?, ?it/s]"
     ]
    },
    {
     "name": "stdout",
     "output_type": "stream",
     "text": [
      "[1,     9] loss: 1.645\n",
      "Evaluating on validation\n"
     ]
    },
    {
     "name": "stderr",
     "output_type": "stream",
     "text": [
      "100%|██████████████████████████████████████████████████████████████████████████████| 1056/1056 [05:59<00:00,  2.94it/s]\n"
     ]
    },
    {
     "name": "stdout",
     "output_type": "stream",
     "text": [
      "val_loss, val_accuracy 1.8183398495117824 0.9120531940271972\n",
      "val_prec, val_rec 0.506413511287019 0.536065313133337\n"
     ]
    },
    {
     "name": "stderr",
     "output_type": "stream",
     "text": [
      "  0%|                                                                                         | 0/1056 [00:00<?, ?it/s]"
     ]
    },
    {
     "name": "stdout",
     "output_type": "stream",
     "text": [
      "[1,     9] loss: 1.613\n",
      "Evaluating on validation\n"
     ]
    },
    {
     "name": "stderr",
     "output_type": "stream",
     "text": [
      "100%|██████████████████████████████████████████████████████████████████████████████| 1056/1056 [05:58<00:00,  2.95it/s]\n"
     ]
    },
    {
     "name": "stdout",
     "output_type": "stream",
     "text": [
      "val_loss, val_accuracy 1.812606513669545 0.9125892659533553\n",
      "val_prec, val_rec 0.48471710320307904 0.5232184310851873\n"
     ]
    },
    {
     "name": "stderr",
     "output_type": "stream",
     "text": [
      "  0%|                                                                                         | 0/1056 [00:00<?, ?it/s]"
     ]
    },
    {
     "name": "stdout",
     "output_type": "stream",
     "text": [
      "[1,     9] loss: 1.601\n",
      "Evaluating on validation\n"
     ]
    },
    {
     "name": "stderr",
     "output_type": "stream",
     "text": [
      "100%|██████████████████████████████████████████████████████████████████████████████| 1056/1056 [05:58<00:00,  2.94it/s]\n"
     ]
    },
    {
     "name": "stdout",
     "output_type": "stream",
     "text": [
      "val_loss, val_accuracy 1.8455508631851636 0.910121895136712\n",
      "val_prec, val_rec 0.43383804993924097 0.5108728202305841\n",
      "Epoch Number: 1\n"
     ]
    },
    {
     "name": "stderr",
     "output_type": "stream",
     "text": [
      "  0%|                                                                                         | 0/1056 [00:00<?, ?it/s]"
     ]
    },
    {
     "name": "stdout",
     "output_type": "stream",
     "text": [
      "[2,     9] loss: 0.015\n",
      "Evaluating on validation\n"
     ]
    },
    {
     "name": "stderr",
     "output_type": "stream",
     "text": [
      "100%|██████████████████████████████████████████████████████████████████████████████| 1056/1056 [05:59<00:00,  2.94it/s]\n"
     ]
    },
    {
     "name": "stdout",
     "output_type": "stream",
     "text": [
      "val_loss, val_accuracy 1.9055384919611793 0.9073194793662197\n",
      "val_prec, val_rec 0.3760492472355388 0.5119885235292743\n"
     ]
    },
    {
     "name": "stderr",
     "output_type": "stream",
     "text": [
      "  0%|                                                                                         | 0/1056 [00:00<?, ?it/s]"
     ]
    },
    {
     "name": "stdout",
     "output_type": "stream",
     "text": [
      "[2,     9] loss: 1.568\n",
      "Evaluating on validation\n"
     ]
    },
    {
     "name": "stderr",
     "output_type": "stream",
     "text": [
      "100%|██████████████████████████████████████████████████████████████████████████████| 1056/1056 [05:58<00:00,  2.94it/s]\n"
     ]
    },
    {
     "name": "stdout",
     "output_type": "stream",
     "text": [
      "val_loss, val_accuracy 1.7913954214503367 0.9139258175323639\n",
      "val_prec, val_rec 0.5262048216585375 0.5222616769056402\n"
     ]
    },
    {
     "name": "stderr",
     "output_type": "stream",
     "text": [
      "  0%|                                                                                         | 0/1056 [00:00<?, ?it/s]"
     ]
    },
    {
     "name": "stdout",
     "output_type": "stream",
     "text": [
      "[2,     9] loss: 1.648\n",
      "Evaluating on validation\n"
     ]
    },
    {
     "name": "stderr",
     "output_type": "stream",
     "text": [
      "100%|██████████████████████████████████████████████████████████████████████████████| 1056/1056 [05:57<00:00,  2.95it/s]\n"
     ]
    },
    {
     "name": "stdout",
     "output_type": "stream",
     "text": [
      "val_loss, val_accuracy 1.8660976708386883 0.9091830322804191\n",
      "val_prec, val_rec 0.4406297548725873 0.4992036135067297\n"
     ]
    },
    {
     "name": "stderr",
     "output_type": "stream",
     "text": [
      "  0%|                                                                                         | 0/1056 [00:00<?, ?it/s]"
     ]
    },
    {
     "name": "stdout",
     "output_type": "stream",
     "text": [
      "[2,     9] loss: 1.658\n",
      "Evaluating on validation\n"
     ]
    },
    {
     "name": "stderr",
     "output_type": "stream",
     "text": [
      "100%|██████████████████████████████████████████████████████████████████████████████| 1056/1056 [05:57<00:00,  2.95it/s]\n"
     ]
    },
    {
     "name": "stdout",
     "output_type": "stream",
     "text": [
      "val_loss, val_accuracy 1.9140700575415834 0.9086536499150993\n",
      "val_prec, val_rec 0.40180891479871855 0.5224459392376066\n"
     ]
    },
    {
     "name": "stderr",
     "output_type": "stream",
     "text": [
      "  0%|                                                                                         | 0/1056 [00:00<?, ?it/s]"
     ]
    },
    {
     "name": "stdout",
     "output_type": "stream",
     "text": [
      "[2,     9] loss: 1.518\n",
      "Evaluating on validation\n"
     ]
    },
    {
     "name": "stderr",
     "output_type": "stream",
     "text": [
      "100%|██████████████████████████████████████████████████████████████████████████████| 1056/1056 [05:58<00:00,  2.95it/s]\n"
     ]
    },
    {
     "name": "stdout",
     "output_type": "stream",
     "text": [
      "val_loss, val_accuracy 2.035649588388024 0.9036817188588471\n",
      "val_prec, val_rec 0.3722469362968242 0.5211651601948533\n"
     ]
    },
    {
     "name": "stderr",
     "output_type": "stream",
     "text": [
      "  0%|                                                                                         | 0/1056 [00:00<?, ?it/s]"
     ]
    },
    {
     "name": "stdout",
     "output_type": "stream",
     "text": [
      "[2,     9] loss: 1.614\n",
      "Evaluating on validation\n"
     ]
    },
    {
     "name": "stderr",
     "output_type": "stream",
     "text": [
      "100%|██████████████████████████████████████████████████████████████████████████████| 1056/1056 [05:58<00:00,  2.95it/s]\n"
     ]
    },
    {
     "name": "stdout",
     "output_type": "stream",
     "text": [
      "val_loss, val_accuracy 1.8364848822468158 0.9128421653677581\n",
      "val_prec, val_rec 0.4886039871360572 0.55972682776003\n"
     ]
    },
    {
     "name": "stderr",
     "output_type": "stream",
     "text": [
      "  0%|                                                                                         | 0/1056 [00:00<?, ?it/s]"
     ]
    },
    {
     "name": "stdout",
     "output_type": "stream",
     "text": [
      "[2,     9] loss: 1.614\n",
      "Evaluating on validation\n"
     ]
    },
    {
     "name": "stderr",
     "output_type": "stream",
     "text": [
      "100%|██████████████████████████████████████████████████████████████████████████████| 1056/1056 [05:59<00:00,  2.94it/s]\n"
     ]
    },
    {
     "name": "stdout",
     "output_type": "stream",
     "text": [
      "val_loss, val_accuracy 1.9350199597803028 0.9025342891015036\n",
      "val_prec, val_rec 0.7043467801222904 0.5375095033445947\n"
     ]
    },
    {
     "name": "stderr",
     "output_type": "stream",
     "text": [
      "  0%|                                                                                         | 0/1056 [00:00<?, ?it/s]"
     ]
    },
    {
     "name": "stdout",
     "output_type": "stream",
     "text": [
      "[2,     9] loss: 1.495\n",
      "Evaluating on validation\n"
     ]
    },
    {
     "name": "stderr",
     "output_type": "stream",
     "text": [
      "100%|██████████████████████████████████████████████████████████████████████████████| 1056/1056 [05:57<00:00,  2.95it/s]\n"
     ]
    },
    {
     "name": "stdout",
     "output_type": "stream",
     "text": [
      "val_loss, val_accuracy 1.774936562234705 0.913735051666086\n",
      "val_prec, val_rec 0.4534465501669457 0.5555021030795305\n"
     ]
    },
    {
     "name": "stderr",
     "output_type": "stream",
     "text": [
      "  0%|                                                                                         | 0/1056 [00:00<?, ?it/s]"
     ]
    },
    {
     "name": "stdout",
     "output_type": "stream",
     "text": [
      "[2,     9] loss: 1.491\n",
      "Evaluating on validation\n"
     ]
    },
    {
     "name": "stderr",
     "output_type": "stream",
     "text": [
      "100%|██████████████████████████████████████████████████████████████████████████████| 1056/1056 [05:57<00:00,  2.95it/s]\n"
     ]
    },
    {
     "name": "stdout",
     "output_type": "stream",
     "text": [
      "val_loss, val_accuracy 1.7699513091056636 0.9150558430932892\n",
      "val_prec, val_rec 0.5086448996463895 0.5681777911516862\n"
     ]
    },
    {
     "name": "stderr",
     "output_type": "stream",
     "text": [
      "  0%|                                                                                         | 0/1056 [00:00<?, ?it/s]"
     ]
    },
    {
     "name": "stdout",
     "output_type": "stream",
     "text": [
      "[2,     9] loss: 1.523\n",
      "Evaluating on validation\n"
     ]
    },
    {
     "name": "stderr",
     "output_type": "stream",
     "text": [
      "100%|██████████████████████████████████████████████████████████████████████████████| 1056/1056 [05:57<00:00,  2.95it/s]\n"
     ]
    },
    {
     "name": "stdout",
     "output_type": "stream",
     "text": [
      "val_loss, val_accuracy 1.831377475945787 0.9148747714211076\n",
      "val_prec, val_rec 0.4953183169035186 0.606554505639153\n"
     ]
    },
    {
     "name": "stderr",
     "output_type": "stream",
     "text": [
      "  0%|                                                                                         | 0/1056 [00:00<?, ?it/s]"
     ]
    },
    {
     "name": "stdout",
     "output_type": "stream",
     "text": [
      "[2,     9] loss: 1.527\n",
      "Evaluating on validation\n"
     ]
    },
    {
     "name": "stderr",
     "output_type": "stream",
     "text": [
      "100%|██████████████████████████████████████████████████████████████████████████████| 1056/1056 [05:59<00:00,  2.94it/s]\n"
     ]
    },
    {
     "name": "stdout",
     "output_type": "stream",
     "text": [
      "val_loss, val_accuracy 2.035082874029423 0.9008198340263266\n",
      "val_prec, val_rec 0.30454892436887454 0.4996504932831825\n"
     ]
    },
    {
     "name": "stderr",
     "output_type": "stream",
     "text": [
      "  0%|                                                                                         | 0/1056 [00:00<?, ?it/s]"
     ]
    },
    {
     "name": "stdout",
     "output_type": "stream",
     "text": [
      "[2,     9] loss: 1.576\n",
      "Evaluating on validation\n"
     ]
    },
    {
     "name": "stderr",
     "output_type": "stream",
     "text": [
      "100%|██████████████████████████████████████████████████████████████████████████████| 1056/1056 [05:57<00:00,  2.95it/s]\n"
     ]
    },
    {
     "name": "stdout",
     "output_type": "stream",
     "text": [
      "val_loss, val_accuracy 1.808705640787428 0.9123532605146291\n",
      "val_prec, val_rec 0.46254982598060207 0.5406848610328062\n"
     ]
    },
    {
     "name": "stderr",
     "output_type": "stream",
     "text": [
      "  0%|                                                                                         | 0/1056 [00:00<?, ?it/s]"
     ]
    },
    {
     "name": "stdout",
     "output_type": "stream",
     "text": [
      "[2,     9] loss: 1.515\n",
      "Evaluating on validation\n"
     ]
    },
    {
     "name": "stderr",
     "output_type": "stream",
     "text": [
      "100%|██████████████████████████████████████████████████████████████████████████████| 1056/1056 [05:57<00:00,  2.95it/s]\n"
     ]
    },
    {
     "name": "stdout",
     "output_type": "stream",
     "text": [
      "val_loss, val_accuracy 1.9373513750280396 0.9055787762684314\n",
      "val_prec, val_rec 0.3385301857294127 0.5452562300214385\n"
     ]
    },
    {
     "name": "stderr",
     "output_type": "stream",
     "text": [
      "  0%|                                                                                         | 0/1056 [00:00<?, ?it/s]"
     ]
    },
    {
     "name": "stdout",
     "output_type": "stream",
     "text": [
      "[2,     9] loss: 1.488\n",
      "Evaluating on validation\n"
     ]
    },
    {
     "name": "stderr",
     "output_type": "stream",
     "text": [
      "100%|██████████████████████████████████████████████████████████████████████████████| 1056/1056 [05:59<00:00,  2.94it/s]\n"
     ]
    },
    {
     "name": "stdout",
     "output_type": "stream",
     "text": [
      "val_loss, val_accuracy 1.703828643838113 0.9197937529025891\n",
      "val_prec, val_rec 0.5374116088288524 0.6187380929557613\n"
     ]
    },
    {
     "name": "stderr",
     "output_type": "stream",
     "text": [
      "  0%|                                                                                         | 0/1056 [00:00<?, ?it/s]"
     ]
    },
    {
     "name": "stdout",
     "output_type": "stream",
     "text": [
      "[2,     9] loss: 1.512\n",
      "Evaluating on validation\n"
     ]
    },
    {
     "name": "stderr",
     "output_type": "stream",
     "text": [
      "100%|██████████████████████████████████████████████████████████████████████████████| 1056/1056 [05:57<00:00,  2.95it/s]\n"
     ]
    },
    {
     "name": "stdout",
     "output_type": "stream",
     "text": [
      "val_loss, val_accuracy 1.77782920578664 0.9183629238687159\n",
      "val_prec, val_rec 0.4927681037152175 0.6568540586707123\n"
     ]
    },
    {
     "name": "stderr",
     "output_type": "stream",
     "text": [
      "  0%|                                                                                         | 0/1056 [00:00<?, ?it/s]"
     ]
    },
    {
     "name": "stdout",
     "output_type": "stream",
     "text": [
      "[2,     9] loss: 1.467\n",
      "Evaluating on validation\n"
     ]
    },
    {
     "name": "stderr",
     "output_type": "stream",
     "text": [
      "100%|██████████████████████████████████████████████████████████████████████████████| 1056/1056 [05:57<00:00,  2.96it/s]\n"
     ]
    },
    {
     "name": "stdout",
     "output_type": "stream",
     "text": [
      "val_loss, val_accuracy 1.6473685692657123 0.9219284031043191\n",
      "val_prec, val_rec 0.5446572009448984 0.6214398491481427\n"
     ]
    },
    {
     "name": "stderr",
     "output_type": "stream",
     "text": [
      "  0%|                                                                                         | 0/1056 [00:00<?, ?it/s]"
     ]
    },
    {
     "name": "stdout",
     "output_type": "stream",
     "text": [
      "[2,     9] loss: 1.483\n",
      "Evaluating on validation\n"
     ]
    },
    {
     "name": "stderr",
     "output_type": "stream",
     "text": [
      "100%|██████████████████████████████████████████████████████████████████████████████| 1056/1056 [06:06<00:00,  2.88it/s]\n"
     ]
    },
    {
     "name": "stdout",
     "output_type": "stream",
     "text": [
      "val_loss, val_accuracy 1.6834229732666053 0.9184490377917103\n",
      "val_prec, val_rec 0.6611937633283747 0.6013155048126384\n"
     ]
    },
    {
     "name": "stderr",
     "output_type": "stream",
     "text": [
      "  0%|                                                                                         | 0/1056 [00:00<?, ?it/s]"
     ]
    },
    {
     "name": "stdout",
     "output_type": "stream",
     "text": [
      "[2,     9] loss: 1.437\n",
      "Evaluating on validation\n"
     ]
    },
    {
     "name": "stderr",
     "output_type": "stream",
     "text": [
      "100%|██████████████████████████████████████████████████████████████████████████████| 1056/1056 [10:28<00:00,  1.68it/s]\n"
     ]
    },
    {
     "name": "stdout",
     "output_type": "stream",
     "text": [
      "val_loss, val_accuracy 1.6552535441111436 0.921270558494427\n",
      "val_prec, val_rec 0.5516021111594551 0.6053198962797244\n"
     ]
    },
    {
     "name": "stderr",
     "output_type": "stream",
     "text": [
      "  0%|                                                                                         | 0/1056 [00:00<?, ?it/s]"
     ]
    },
    {
     "name": "stdout",
     "output_type": "stream",
     "text": [
      "[2,     9] loss: 1.490\n",
      "Evaluating on validation\n"
     ]
    },
    {
     "name": "stderr",
     "output_type": "stream",
     "text": [
      "100%|██████████████████████████████████████████████████████████████████████████████| 1056/1056 [05:58<00:00,  2.94it/s]\n"
     ]
    },
    {
     "name": "stdout",
     "output_type": "stream",
     "text": [
      "val_loss, val_accuracy 1.7937019988894463 0.9170572122989956\n",
      "val_prec, val_rec 0.46808420102636084 0.6445708074365639\n"
     ]
    },
    {
     "ename": "KeyboardInterrupt",
     "evalue": "",
     "output_type": "error",
     "traceback": [
      "\u001b[1;31m---------------------------------------------------------------------------\u001b[0m",
      "\u001b[1;31mKeyboardInterrupt\u001b[0m                         Traceback (most recent call last)",
      "\u001b[1;32m<ipython-input-44-ebeca1421cd9>\u001b[0m in \u001b[0;36m<module>\u001b[1;34m\u001b[0m\n\u001b[0;32m     24\u001b[0m     \u001b[0mprint\u001b[0m\u001b[1;33m(\u001b[0m\u001b[1;34m'Epoch Number:'\u001b[0m\u001b[1;33m,\u001b[0m \u001b[0mepoch\u001b[0m\u001b[1;33m)\u001b[0m\u001b[1;33m\u001b[0m\u001b[1;33m\u001b[0m\u001b[0m\n\u001b[0;32m     25\u001b[0m     \u001b[0mrunning_loss\u001b[0m \u001b[1;33m=\u001b[0m \u001b[1;36m0.0\u001b[0m\u001b[1;33m\u001b[0m\u001b[1;33m\u001b[0m\u001b[0m\n\u001b[1;32m---> 26\u001b[1;33m     \u001b[1;32mfor\u001b[0m \u001b[0mj\u001b[0m\u001b[1;33m,\u001b[0m \u001b[1;33m(\u001b[0m\u001b[0mx\u001b[0m\u001b[1;33m,\u001b[0m\u001b[0my\u001b[0m\u001b[1;33m)\u001b[0m \u001b[1;32min\u001b[0m \u001b[0menumerate\u001b[0m\u001b[1;33m(\u001b[0m\u001b[0mtrain_dataloader\u001b[0m\u001b[1;33m)\u001b[0m\u001b[1;33m:\u001b[0m\u001b[1;33m\u001b[0m\u001b[1;33m\u001b[0m\u001b[0m\n\u001b[0m\u001b[0;32m     27\u001b[0m \u001b[1;33m\u001b[0m\u001b[0m\n\u001b[0;32m     28\u001b[0m         \u001b[0moptimizer\u001b[0m\u001b[1;33m.\u001b[0m\u001b[0mzero_grad\u001b[0m\u001b[1;33m(\u001b[0m\u001b[1;33m)\u001b[0m\u001b[1;33m\u001b[0m\u001b[1;33m\u001b[0m\u001b[0m\n",
      "\u001b[1;32m~\\Miniconda3\\lib\\site-packages\\torch\\utils\\data\\dataloader.py\u001b[0m in \u001b[0;36m__next__\u001b[1;34m(self)\u001b[0m\n\u001b[0;32m    361\u001b[0m \u001b[1;33m\u001b[0m\u001b[0m\n\u001b[0;32m    362\u001b[0m     \u001b[1;32mdef\u001b[0m \u001b[0m__next__\u001b[0m\u001b[1;33m(\u001b[0m\u001b[0mself\u001b[0m\u001b[1;33m)\u001b[0m\u001b[1;33m:\u001b[0m\u001b[1;33m\u001b[0m\u001b[1;33m\u001b[0m\u001b[0m\n\u001b[1;32m--> 363\u001b[1;33m         \u001b[0mdata\u001b[0m \u001b[1;33m=\u001b[0m \u001b[0mself\u001b[0m\u001b[1;33m.\u001b[0m\u001b[0m_next_data\u001b[0m\u001b[1;33m(\u001b[0m\u001b[1;33m)\u001b[0m\u001b[1;33m\u001b[0m\u001b[1;33m\u001b[0m\u001b[0m\n\u001b[0m\u001b[0;32m    364\u001b[0m         \u001b[0mself\u001b[0m\u001b[1;33m.\u001b[0m\u001b[0m_num_yielded\u001b[0m \u001b[1;33m+=\u001b[0m \u001b[1;36m1\u001b[0m\u001b[1;33m\u001b[0m\u001b[1;33m\u001b[0m\u001b[0m\n\u001b[0;32m    365\u001b[0m         \u001b[1;32mif\u001b[0m \u001b[0mself\u001b[0m\u001b[1;33m.\u001b[0m\u001b[0m_dataset_kind\u001b[0m \u001b[1;33m==\u001b[0m \u001b[0m_DatasetKind\u001b[0m\u001b[1;33m.\u001b[0m\u001b[0mIterable\u001b[0m \u001b[1;32mand\u001b[0m\u001b[0;31m \u001b[0m\u001b[0;31m\\\u001b[0m\u001b[1;33m\u001b[0m\u001b[1;33m\u001b[0m\u001b[0m\n",
      "\u001b[1;32m~\\Miniconda3\\lib\\site-packages\\torch\\utils\\data\\dataloader.py\u001b[0m in \u001b[0;36m_next_data\u001b[1;34m(self)\u001b[0m\n\u001b[0;32m    401\u001b[0m     \u001b[1;32mdef\u001b[0m \u001b[0m_next_data\u001b[0m\u001b[1;33m(\u001b[0m\u001b[0mself\u001b[0m\u001b[1;33m)\u001b[0m\u001b[1;33m:\u001b[0m\u001b[1;33m\u001b[0m\u001b[1;33m\u001b[0m\u001b[0m\n\u001b[0;32m    402\u001b[0m         \u001b[0mindex\u001b[0m \u001b[1;33m=\u001b[0m \u001b[0mself\u001b[0m\u001b[1;33m.\u001b[0m\u001b[0m_next_index\u001b[0m\u001b[1;33m(\u001b[0m\u001b[1;33m)\u001b[0m  \u001b[1;31m# may raise StopIteration\u001b[0m\u001b[1;33m\u001b[0m\u001b[1;33m\u001b[0m\u001b[0m\n\u001b[1;32m--> 403\u001b[1;33m         \u001b[0mdata\u001b[0m \u001b[1;33m=\u001b[0m \u001b[0mself\u001b[0m\u001b[1;33m.\u001b[0m\u001b[0m_dataset_fetcher\u001b[0m\u001b[1;33m.\u001b[0m\u001b[0mfetch\u001b[0m\u001b[1;33m(\u001b[0m\u001b[0mindex\u001b[0m\u001b[1;33m)\u001b[0m  \u001b[1;31m# may raise StopIteration\u001b[0m\u001b[1;33m\u001b[0m\u001b[1;33m\u001b[0m\u001b[0m\n\u001b[0m\u001b[0;32m    404\u001b[0m         \u001b[1;32mif\u001b[0m \u001b[0mself\u001b[0m\u001b[1;33m.\u001b[0m\u001b[0m_pin_memory\u001b[0m\u001b[1;33m:\u001b[0m\u001b[1;33m\u001b[0m\u001b[1;33m\u001b[0m\u001b[0m\n\u001b[0;32m    405\u001b[0m             \u001b[0mdata\u001b[0m \u001b[1;33m=\u001b[0m \u001b[0m_utils\u001b[0m\u001b[1;33m.\u001b[0m\u001b[0mpin_memory\u001b[0m\u001b[1;33m.\u001b[0m\u001b[0mpin_memory\u001b[0m\u001b[1;33m(\u001b[0m\u001b[0mdata\u001b[0m\u001b[1;33m)\u001b[0m\u001b[1;33m\u001b[0m\u001b[1;33m\u001b[0m\u001b[0m\n",
      "\u001b[1;32m~\\Miniconda3\\lib\\site-packages\\torch\\utils\\data\\_utils\\fetch.py\u001b[0m in \u001b[0;36mfetch\u001b[1;34m(self, possibly_batched_index)\u001b[0m\n\u001b[0;32m     42\u001b[0m     \u001b[1;32mdef\u001b[0m \u001b[0mfetch\u001b[0m\u001b[1;33m(\u001b[0m\u001b[0mself\u001b[0m\u001b[1;33m,\u001b[0m \u001b[0mpossibly_batched_index\u001b[0m\u001b[1;33m)\u001b[0m\u001b[1;33m:\u001b[0m\u001b[1;33m\u001b[0m\u001b[1;33m\u001b[0m\u001b[0m\n\u001b[0;32m     43\u001b[0m         \u001b[1;32mif\u001b[0m \u001b[0mself\u001b[0m\u001b[1;33m.\u001b[0m\u001b[0mauto_collation\u001b[0m\u001b[1;33m:\u001b[0m\u001b[1;33m\u001b[0m\u001b[1;33m\u001b[0m\u001b[0m\n\u001b[1;32m---> 44\u001b[1;33m             \u001b[0mdata\u001b[0m \u001b[1;33m=\u001b[0m \u001b[1;33m[\u001b[0m\u001b[0mself\u001b[0m\u001b[1;33m.\u001b[0m\u001b[0mdataset\u001b[0m\u001b[1;33m[\u001b[0m\u001b[0midx\u001b[0m\u001b[1;33m]\u001b[0m \u001b[1;32mfor\u001b[0m \u001b[0midx\u001b[0m \u001b[1;32min\u001b[0m \u001b[0mpossibly_batched_index\u001b[0m\u001b[1;33m]\u001b[0m\u001b[1;33m\u001b[0m\u001b[1;33m\u001b[0m\u001b[0m\n\u001b[0m\u001b[0;32m     45\u001b[0m         \u001b[1;32melse\u001b[0m\u001b[1;33m:\u001b[0m\u001b[1;33m\u001b[0m\u001b[1;33m\u001b[0m\u001b[0m\n\u001b[0;32m     46\u001b[0m             \u001b[0mdata\u001b[0m \u001b[1;33m=\u001b[0m \u001b[0mself\u001b[0m\u001b[1;33m.\u001b[0m\u001b[0mdataset\u001b[0m\u001b[1;33m[\u001b[0m\u001b[0mpossibly_batched_index\u001b[0m\u001b[1;33m]\u001b[0m\u001b[1;33m\u001b[0m\u001b[1;33m\u001b[0m\u001b[0m\n",
      "\u001b[1;32m~\\Miniconda3\\lib\\site-packages\\torch\\utils\\data\\_utils\\fetch.py\u001b[0m in \u001b[0;36m<listcomp>\u001b[1;34m(.0)\u001b[0m\n\u001b[0;32m     42\u001b[0m     \u001b[1;32mdef\u001b[0m \u001b[0mfetch\u001b[0m\u001b[1;33m(\u001b[0m\u001b[0mself\u001b[0m\u001b[1;33m,\u001b[0m \u001b[0mpossibly_batched_index\u001b[0m\u001b[1;33m)\u001b[0m\u001b[1;33m:\u001b[0m\u001b[1;33m\u001b[0m\u001b[1;33m\u001b[0m\u001b[0m\n\u001b[0;32m     43\u001b[0m         \u001b[1;32mif\u001b[0m \u001b[0mself\u001b[0m\u001b[1;33m.\u001b[0m\u001b[0mauto_collation\u001b[0m\u001b[1;33m:\u001b[0m\u001b[1;33m\u001b[0m\u001b[1;33m\u001b[0m\u001b[0m\n\u001b[1;32m---> 44\u001b[1;33m             \u001b[0mdata\u001b[0m \u001b[1;33m=\u001b[0m \u001b[1;33m[\u001b[0m\u001b[0mself\u001b[0m\u001b[1;33m.\u001b[0m\u001b[0mdataset\u001b[0m\u001b[1;33m[\u001b[0m\u001b[0midx\u001b[0m\u001b[1;33m]\u001b[0m \u001b[1;32mfor\u001b[0m \u001b[0midx\u001b[0m \u001b[1;32min\u001b[0m \u001b[0mpossibly_batched_index\u001b[0m\u001b[1;33m]\u001b[0m\u001b[1;33m\u001b[0m\u001b[1;33m\u001b[0m\u001b[0m\n\u001b[0m\u001b[0;32m     45\u001b[0m         \u001b[1;32melse\u001b[0m\u001b[1;33m:\u001b[0m\u001b[1;33m\u001b[0m\u001b[1;33m\u001b[0m\u001b[0m\n\u001b[0;32m     46\u001b[0m             \u001b[0mdata\u001b[0m \u001b[1;33m=\u001b[0m \u001b[0mself\u001b[0m\u001b[1;33m.\u001b[0m\u001b[0mdataset\u001b[0m\u001b[1;33m[\u001b[0m\u001b[0mpossibly_batched_index\u001b[0m\u001b[1;33m]\u001b[0m\u001b[1;33m\u001b[0m\u001b[1;33m\u001b[0m\u001b[0m\n",
      "\u001b[1;32m<ipython-input-28-65d7f6fa38d1>\u001b[0m in \u001b[0;36m__getitem__\u001b[1;34m(self, idx)\u001b[0m\n\u001b[0;32m     11\u001b[0m \u001b[1;33m\u001b[0m\u001b[0m\n\u001b[0;32m     12\u001b[0m         \u001b[0mrow\u001b[0m \u001b[1;33m=\u001b[0m \u001b[0mself\u001b[0m\u001b[1;33m.\u001b[0m\u001b[0mcsv_file\u001b[0m\u001b[1;33m.\u001b[0m\u001b[0miloc\u001b[0m\u001b[1;33m[\u001b[0m\u001b[0midx\u001b[0m\u001b[1;33m]\u001b[0m\u001b[1;33m\u001b[0m\u001b[1;33m\u001b[0m\u001b[0m\n\u001b[1;32m---> 13\u001b[1;33m         \u001b[0mimg\u001b[0m \u001b[1;33m=\u001b[0m \u001b[0mImage\u001b[0m\u001b[1;33m.\u001b[0m\u001b[0mopen\u001b[0m\u001b[1;33m(\u001b[0m\u001b[0mglob\u001b[0m\u001b[1;33m.\u001b[0m\u001b[0mglob\u001b[0m\u001b[1;33m(\u001b[0m\u001b[1;34mf\"{train_path}/{row[0]}/{row[1]}/*{row[2]}.jpg\"\u001b[0m\u001b[1;33m)\u001b[0m\u001b[1;33m[\u001b[0m\u001b[1;36m0\u001b[0m\u001b[1;33m]\u001b[0m\u001b[1;33m)\u001b[0m\u001b[1;33m\u001b[0m\u001b[1;33m\u001b[0m\u001b[0m\n\u001b[0m\u001b[0;32m     14\u001b[0m \u001b[1;33m\u001b[0m\u001b[0m\n\u001b[0;32m     15\u001b[0m         \u001b[0mimg\u001b[0m \u001b[1;33m=\u001b[0m \u001b[0mself\u001b[0m\u001b[1;33m.\u001b[0m\u001b[0mtransform\u001b[0m\u001b[1;33m(\u001b[0m\u001b[0mimg\u001b[0m\u001b[1;33m)\u001b[0m\u001b[1;33m.\u001b[0m\u001b[0mto\u001b[0m\u001b[1;33m(\u001b[0m\u001b[0mdevice\u001b[0m\u001b[1;33m)\u001b[0m\u001b[1;33m\u001b[0m\u001b[1;33m\u001b[0m\u001b[0m\n",
      "\u001b[1;32m~\\Miniconda3\\lib\\site-packages\\PIL\\Image.py\u001b[0m in \u001b[0;36mopen\u001b[1;34m(fp, mode)\u001b[0m\n\u001b[0;32m   2876\u001b[0m \u001b[1;33m\u001b[0m\u001b[0m\n\u001b[0;32m   2877\u001b[0m     \u001b[1;32mif\u001b[0m \u001b[0mfilename\u001b[0m\u001b[1;33m:\u001b[0m\u001b[1;33m\u001b[0m\u001b[1;33m\u001b[0m\u001b[0m\n\u001b[1;32m-> 2878\u001b[1;33m         \u001b[0mfp\u001b[0m \u001b[1;33m=\u001b[0m \u001b[0mbuiltins\u001b[0m\u001b[1;33m.\u001b[0m\u001b[0mopen\u001b[0m\u001b[1;33m(\u001b[0m\u001b[0mfilename\u001b[0m\u001b[1;33m,\u001b[0m \u001b[1;34m\"rb\"\u001b[0m\u001b[1;33m)\u001b[0m\u001b[1;33m\u001b[0m\u001b[1;33m\u001b[0m\u001b[0m\n\u001b[0m\u001b[0;32m   2879\u001b[0m         \u001b[0mexclusive_fp\u001b[0m \u001b[1;33m=\u001b[0m \u001b[1;32mTrue\u001b[0m\u001b[1;33m\u001b[0m\u001b[1;33m\u001b[0m\u001b[0m\n\u001b[0;32m   2880\u001b[0m \u001b[1;33m\u001b[0m\u001b[0m\n",
      "\u001b[1;31mKeyboardInterrupt\u001b[0m: "
     ]
    }
   ],
   "source": [
    "torch.autograd.set_detect_anomaly(True)\n",
    "\n",
    "epochs = 100\n",
    "\n",
    "running_losses = []\n",
    "train_losses = []\n",
    "train_accuracies = []\n",
    "val_losses = [1e4]\n",
    "val_precisions = []\n",
    "val_recalls = []\n",
    "val_accuracies = []\n",
    "\n",
    "model.train()\n",
    "for epoch in range(epochs):  \n",
    "    print('Epoch Number:', epoch)\n",
    "    running_loss = 0.0\n",
    "    for j, (x,y) in enumerate(train_dataloader):\n",
    "\n",
    "        optimizer.zero_grad()\n",
    "        \n",
    "        y_pred = model(x)\n",
    "        \n",
    "        total_loss = 0\n",
    "\n",
    "        for i in range(y.shape[1]):\n",
    "#             loss_i = criterion(y_pred[:,i], y[:,i])\n",
    "#             loss_i.backward()\n",
    "            total_loss = total_loss + criterion(y_pred[:,i], y[:,i])\n",
    "            \n",
    "        total_loss.backward()\n",
    "        optimizer.step()\n",
    "        \n",
    "        running_loss += total_loss.item()\n",
    "        if j % 100 == 0: \n",
    "            print('[%d, %5d] loss: %.3f' % (epoch + 1, i + 1, running_loss / 100))\n",
    "        \n",
    "            val_loss, val_accuracy, val_prec, val_rec = evaluate_on(model, val_dataloader, 'validation')\n",
    "            print('val_loss, val_accuracy', val_loss, val_accuracy)\n",
    "            print('val_prec, val_rec', val_prec, val_rec)\n",
    "#             train_loss, train_accuracy = evaluate_on(model, train_dataloader, 'train')\n",
    "#             print('train_loss, train_accuracy', train_loss, train_accuracy)\n",
    "            if val_loss < min(val_losses):\n",
    "                torch.save(model.state_dict(), ('E:/Download/new_downloads/checkpoints/resnet_'+str(val_loss)+'_'+str(val_accuracy)+'_'+'_'+str(val_prec)+'_'+str(val_rec)).replace('.','_'))\n",
    "            \n",
    "            running_losses.append(running_loss)\n",
    "#             train_losses.append(train_loss)\n",
    "            val_losses.append(val_loss)\n",
    "            \n",
    "#             train_accuracies.append(train_accuracy)\n",
    "            val_accuracies.append(val_accuracy)\n",
    "            val_precisions.append(val_prec)\n",
    "            val_recalls.append(val_rec)\n",
    "\n",
    "            model.train()\n",
    "            running_loss = 0.0\n",
    "            \n",
    "print('Finished Training')"
   ]
  },
  {
   "cell_type": "code",
   "execution_count": 45,
   "metadata": {},
   "outputs": [
    {
     "data": {
      "text/plain": [
       "(1.7937019988894463,\n",
       " [10000.0,\n",
       "  1230.1745769327338,\n",
       "  2.7116172166936323,\n",
       "  2.5723224943785956,\n",
       "  2.3977219348378256,\n",
       "  2.5395218657724783,\n",
       "  2.662912018935789,\n",
       "  2.4989945145718977,\n",
       "  2.6765419435546254,\n",
       "  3.0232827482801494,\n",
       "  2.713681918314912,\n",
       "  2.549391549645048,\n",
       "  2.337835386282567,\n",
       "  2.7546872362268693,\n",
       "  2.8057055782639617,\n",
       "  2.2984807843511756,\n",
       "  2.391838905711969,\n",
       "  2.343653712082993,\n",
       "  2.194652552180218,\n",
       "  2.544950248504227,\n",
       "  2.1354507800530302,\n",
       "  2.1386005145808062,\n",
       "  2.2990699481557715,\n",
       "  2.1679020501447446,\n",
       "  2.2990044258309132,\n",
       "  2.154687813624288,\n",
       "  2.1250760109361373,\n",
       "  2.1359835430753953,\n",
       "  2.0706635852429,\n",
       "  2.0555375629302226,\n",
       "  2.332042387376229,\n",
       "  2.0464008038468435,\n",
       "  2.1930257519989302,\n",
       "  1.9940482257216265,\n",
       "  2.051110308165803,\n",
       "  2.0329793333781487,\n",
       "  2.0507308388072434,\n",
       "  2.297887306265307,\n",
       "  1.941870888074239,\n",
       "  2.078280168387926,\n",
       "  1.963918100026521,\n",
       "  1.9281152747571468,\n",
       "  1.9319135533137755,\n",
       "  2.1154531043474423,\n",
       "  1.8816418241370807,\n",
       "  2.1919242213621284,\n",
       "  1.924148524123611,\n",
       "  1.9859286987533171,\n",
       "  2.010585606436838,\n",
       "  1.9204712950934966,\n",
       "  1.821035937885895,\n",
       "  1.8183398495117824,\n",
       "  1.812606513669545,\n",
       "  1.8455508631851636,\n",
       "  1.9055384919611793,\n",
       "  1.7913954214503367,\n",
       "  1.8660976708386883,\n",
       "  1.9140700575415834,\n",
       "  2.035649588388024,\n",
       "  1.8364848822468158,\n",
       "  1.9350199597803028,\n",
       "  1.774936562234705,\n",
       "  1.7699513091056636,\n",
       "  1.831377475945787,\n",
       "  2.035082874029423,\n",
       "  1.808705640787428,\n",
       "  1.9373513750280396,\n",
       "  1.703828643838113,\n",
       "  1.77782920578664,\n",
       "  1.6473685692657123,\n",
       "  1.6834229732666053,\n",
       "  1.6552535441111436,\n",
       "  1.7937019988894463])"
      ]
     },
     "execution_count": 45,
     "metadata": {},
     "output_type": "execute_result"
    }
   ],
   "source": [
    "val_loss, val_losses"
   ]
  },
  {
   "cell_type": "code",
   "execution_count": 46,
   "metadata": {},
   "outputs": [
    {
     "data": {
      "text/plain": [
       "[0.0,\n",
       " 0.8642580392647742,\n",
       " 0.8642828700075468,\n",
       " 0.8682420695823173,\n",
       " 0.863922654163764,\n",
       " 0.8639456707883432,\n",
       " 0.857079743646958,\n",
       " 0.8635658964827878,\n",
       " 0.8634838643257285,\n",
       " 0.8661197780607802,\n",
       " 0.8724034866444618,\n",
       " 0.879811608360908,\n",
       " 0.8576040804960525,\n",
       " 0.8687329586272206,\n",
       " 0.8837638916100662,\n",
       " 0.8825910075068211,\n",
       " 0.8766835583746952,\n",
       " 0.8913393090386625,\n",
       " 0.8817939860167769,\n",
       " 0.8955913186280913,\n",
       " 0.8964079552711018,\n",
       " 0.8861161793038139,\n",
       " 0.8922218775397655,\n",
       " 0.8876083482091025,\n",
       " 0.8955558299409323,\n",
       " 0.8952641537501451,\n",
       " 0.8993090704095553,\n",
       " 0.8998453124092941,\n",
       " 0.9005708463042784,\n",
       " 0.8893759796238244,\n",
       " 0.9031501822281724,\n",
       " 0.892697630035992,\n",
       " 0.9034451465081853,\n",
       " 0.899988004143446,\n",
       " 0.9012177495138164,\n",
       " 0.9034211661333159,\n",
       " 0.8949590417464879,\n",
       " 0.906551540458464,\n",
       " 0.8957823679503367,\n",
       " 0.9061854287305526,\n",
       " 0.9072390912537732,\n",
       " 0.9062543085307093,\n",
       " 0.8954744213870022,\n",
       " 0.9098003426869267,\n",
       " 0.9029433160629282,\n",
       " 0.9082981394403808,\n",
       " 0.9035213961635029,\n",
       " 0.9043768095828979,\n",
       " 0.907313583482091,\n",
       " 0.9123244613883084,\n",
       " 0.9120531940271972,\n",
       " 0.9125892659533553,\n",
       " 0.910121895136712,\n",
       " 0.9073194793662197,\n",
       " 0.9139258175323639,\n",
       " 0.9091830322804191,\n",
       " 0.9086536499150993,\n",
       " 0.9036817188588471,\n",
       " 0.9128421653677581,\n",
       " 0.9025342891015036,\n",
       " 0.913735051666086,\n",
       " 0.9150558430932892,\n",
       " 0.9148747714211076,\n",
       " 0.9008198340263266,\n",
       " 0.9123532605146291,\n",
       " 0.9055787762684314,\n",
       " 0.9197937529025891,\n",
       " 0.9183629238687159,\n",
       " 0.9219284031043191,\n",
       " 0.9184490377917103,\n",
       " 0.921270558494427,\n",
       " 0.9170572122989956]"
      ]
     },
     "execution_count": 46,
     "metadata": {},
     "output_type": "execute_result"
    }
   ],
   "source": [
    "val_accuracies"
   ]
  },
  {
   "cell_type": "code",
   "execution_count": 47,
   "metadata": {},
   "outputs": [
    {
     "data": {
      "text/plain": [
       "[<matplotlib.lines.Line2D at 0x14c0d19ff48>]"
      ]
     },
     "execution_count": 47,
     "metadata": {},
     "output_type": "execute_result"
    },
    {
     "data": {
      "image/png": "[encoded data removed]",
      "text/plain": [
       "<Figure size 432x288 with 1 Axes>"
      ]
     },
     "metadata": {
      "needs_background": "light"
     },
     "output_type": "display_data"
    }
   ],
   "source": [
    "# validation accuracy \n",
    "plt.plot(range(len(val_accuracies)), val_accuracies)"
   ]
  },
  {
   "cell_type": "code",
   "execution_count": 48,
   "metadata": {},
   "outputs": [
    {
     "data": {
      "text/plain": [
       "[10000.0,\n",
       " 1230.1745769327338,\n",
       " 2.7116172166936323,\n",
       " 2.5723224943785956,\n",
       " 2.3977219348378256,\n",
       " 2.5395218657724783,\n",
       " 2.662912018935789,\n",
       " 2.4989945145718977,\n",
       " 2.6765419435546254,\n",
       " 3.0232827482801494,\n",
       " 2.713681918314912,\n",
       " 2.549391549645048,\n",
       " 2.337835386282567,\n",
       " 2.7546872362268693,\n",
       " 2.8057055782639617,\n",
       " 2.2984807843511756,\n",
       " 2.391838905711969,\n",
       " 2.343653712082993,\n",
       " 2.194652552180218,\n",
       " 2.544950248504227,\n",
       " 2.1354507800530302,\n",
       " 2.1386005145808062,\n",
       " 2.2990699481557715,\n",
       " 2.1679020501447446,\n",
       " 2.2990044258309132,\n",
       " 2.154687813624288,\n",
       " 2.1250760109361373,\n",
       " 2.1359835430753953,\n",
       " 2.0706635852429,\n",
       " 2.0555375629302226,\n",
       " 2.332042387376229,\n",
       " 2.0464008038468435,\n",
       " 2.1930257519989302,\n",
       " 1.9940482257216265,\n",
       " 2.051110308165803,\n",
       " 2.0329793333781487,\n",
       " 2.0507308388072434,\n",
       " 2.297887306265307,\n",
       " 1.941870888074239,\n",
       " 2.078280168387926,\n",
       " 1.963918100026521,\n",
       " 1.9281152747571468,\n",
       " 1.9319135533137755,\n",
       " 2.1154531043474423,\n",
       " 1.8816418241370807,\n",
       " 2.1919242213621284,\n",
       " 1.924148524123611,\n",
       " 1.9859286987533171,\n",
       " 2.010585606436838,\n",
       " 1.9204712950934966,\n",
       " 1.821035937885895,\n",
       " 1.8183398495117824,\n",
       " 1.812606513669545,\n",
       " 1.8455508631851636,\n",
       " 1.9055384919611793,\n",
       " 1.7913954214503367,\n",
       " 1.8660976708386883,\n",
       " 1.9140700575415834,\n",
       " 2.035649588388024,\n",
       " 1.8364848822468158,\n",
       " 1.9350199597803028,\n",
       " 1.774936562234705,\n",
       " 1.7699513091056636,\n",
       " 1.831377475945787,\n",
       " 2.035082874029423,\n",
       " 1.808705640787428,\n",
       " 1.9373513750280396,\n",
       " 1.703828643838113,\n",
       " 1.77782920578664,\n",
       " 1.6473685692657123,\n",
       " 1.6834229732666053,\n",
       " 1.6552535441111436,\n",
       " 1.7937019988894463]"
      ]
     },
     "execution_count": 48,
     "metadata": {},
     "output_type": "execute_result"
    }
   ],
   "source": [
    "val_losses"
   ]
  },
  {
   "cell_type": "code",
   "execution_count": 49,
   "metadata": {},
   "outputs": [
    {
     "data": {
      "text/plain": [
       "[<matplotlib.lines.Line2D at 0x14c61777d48>]"
      ]
     },
     "execution_count": 49,
     "metadata": {},
     "output_type": "execute_result"
    },
    {
     "data": {
      "image/png": "[encoded data removed]",
      "text/plain": [
       "<Figure size 432x288 with 1 Axes>"
      ]
     },
     "metadata": {
      "needs_background": "light"
     },
     "output_type": "display_data"
    }
   ],
   "source": [
    "# validation loss \n",
    "plt.plot(range(len(val_losses)), val_losses)"
   ]
  },
  {
   "cell_type": "code",
   "execution_count": 50,
   "metadata": {},
   "outputs": [
    {
     "data": {
      "text/plain": [
       "[<matplotlib.lines.Line2D at 0x14c0ca2ab48>]"
      ]
     },
     "execution_count": 50,
     "metadata": {},
     "output_type": "execute_result"
    },
    {
     "data": {
      "image/png": "[encoded data removed]",
      "text/plain": [
       "<Figure size 432x288 with 1 Axes>"
      ]
     },
     "metadata": {
      "needs_background": "light"
     },
     "output_type": "display_data"
    }
   ],
   "source": [
    "# validation loss \n",
    "plt.plot(range(len(val_losses[2:])), val_losses[2:])"
   ]
  },
  {
   "cell_type": "code",
   "execution_count": 69,
   "metadata": {},
   "outputs": [
    {
     "data": {
      "text/plain": [
       "<All keys matched successfully>"
      ]
     },
     "execution_count": 69,
     "metadata": {},
     "output_type": "execute_result"
    }
   ],
   "source": [
    "model.load_state_dict(torch.load(\"D://resnet_1_6473685692657123_0_9219284031043191__0_5446572009448984_0_6214398491481427\"))"
   ]
  },
  {
   "cell_type": "code",
   "execution_count": 70,
   "metadata": {},
   "outputs": [
    {
     "data": {
      "text/plain": [
       "WrapperModel(\n",
       "  (backbone): ResNet(\n",
       "    (conv1): Conv2d(3, 64, kernel_size=(7, 7), stride=(2, 2), padding=(3, 3), bias=False)\n",
       "    (bn1): BatchNorm2d(64, eps=1e-05, momentum=0.1, affine=True, track_running_stats=True)\n",
       "    (relu): ReLU(inplace=True)\n",
       "    (maxpool): MaxPool2d(kernel_size=3, stride=2, padding=1, dilation=1, ceil_mode=False)\n",
       "    (layer1): Sequential(\n",
       "      (0): BasicBlock(\n",
       "        (conv1): Conv2d(64, 64, kernel_size=(3, 3), stride=(1, 1), padding=(1, 1), bias=False)\n",
       "        (bn1): BatchNorm2d(64, eps=1e-05, momentum=0.1, affine=True, track_running_stats=True)\n",
       "        (relu): ReLU(inplace=True)\n",
       "        (conv2): Conv2d(64, 64, kernel_size=(3, 3), stride=(1, 1), padding=(1, 1), bias=False)\n",
       "        (bn2): BatchNorm2d(64, eps=1e-05, momentum=0.1, affine=True, track_running_stats=True)\n",
       "      )\n",
       "      (1): BasicBlock(\n",
       "        (conv1): Conv2d(64, 64, kernel_size=(3, 3), stride=(1, 1), padding=(1, 1), bias=False)\n",
       "        (bn1): BatchNorm2d(64, eps=1e-05, momentum=0.1, affine=True, track_running_stats=True)\n",
       "        (relu): ReLU(inplace=True)\n",
       "        (conv2): Conv2d(64, 64, kernel_size=(3, 3), stride=(1, 1), padding=(1, 1), bias=False)\n",
       "        (bn2): BatchNorm2d(64, eps=1e-05, momentum=0.1, affine=True, track_running_stats=True)\n",
       "      )\n",
       "      (2): BasicBlock(\n",
       "        (conv1): Conv2d(64, 64, kernel_size=(3, 3), stride=(1, 1), padding=(1, 1), bias=False)\n",
       "        (bn1): BatchNorm2d(64, eps=1e-05, momentum=0.1, affine=True, track_running_stats=True)\n",
       "        (relu): ReLU(inplace=True)\n",
       "        (conv2): Conv2d(64, 64, kernel_size=(3, 3), stride=(1, 1), padding=(1, 1), bias=False)\n",
       "        (bn2): BatchNorm2d(64, eps=1e-05, momentum=0.1, affine=True, track_running_stats=True)\n",
       "      )\n",
       "    )\n",
       "    (layer2): Sequential(\n",
       "      (0): BasicBlock(\n",
       "        (conv1): Conv2d(64, 128, kernel_size=(3, 3), stride=(2, 2), padding=(1, 1), bias=False)\n",
       "        (bn1): BatchNorm2d(128, eps=1e-05, momentum=0.1, affine=True, track_running_stats=True)\n",
       "        (relu): ReLU(inplace=True)\n",
       "        (conv2): Conv2d(128, 128, kernel_size=(3, 3), stride=(1, 1), padding=(1, 1), bias=False)\n",
       "        (bn2): BatchNorm2d(128, eps=1e-05, momentum=0.1, affine=True, track_running_stats=True)\n",
       "        (downsample): Sequential(\n",
       "          (0): Conv2d(64, 128, kernel_size=(1, 1), stride=(2, 2), bias=False)\n",
       "          (1): BatchNorm2d(128, eps=1e-05, momentum=0.1, affine=True, track_running_stats=True)\n",
       "        )\n",
       "      )\n",
       "      (1): BasicBlock(\n",
       "        (conv1): Conv2d(128, 128, kernel_size=(3, 3), stride=(1, 1), padding=(1, 1), bias=False)\n",
       "        (bn1): BatchNorm2d(128, eps=1e-05, momentum=0.1, affine=True, track_running_stats=True)\n",
       "        (relu): ReLU(inplace=True)\n",
       "        (conv2): Conv2d(128, 128, kernel_size=(3, 3), stride=(1, 1), padding=(1, 1), bias=False)\n",
       "        (bn2): BatchNorm2d(128, eps=1e-05, momentum=0.1, affine=True, track_running_stats=True)\n",
       "      )\n",
       "      (2): BasicBlock(\n",
       "        (conv1): Conv2d(128, 128, kernel_size=(3, 3), stride=(1, 1), padding=(1, 1), bias=False)\n",
       "        (bn1): BatchNorm2d(128, eps=1e-05, momentum=0.1, affine=True, track_running_stats=True)\n",
       "        (relu): ReLU(inplace=True)\n",
       "        (conv2): Conv2d(128, 128, kernel_size=(3, 3), stride=(1, 1), padding=(1, 1), bias=False)\n",
       "        (bn2): BatchNorm2d(128, eps=1e-05, momentum=0.1, affine=True, track_running_stats=True)\n",
       "      )\n",
       "      (3): BasicBlock(\n",
       "        (conv1): Conv2d(128, 128, kernel_size=(3, 3), stride=(1, 1), padding=(1, 1), bias=False)\n",
       "        (bn1): BatchNorm2d(128, eps=1e-05, momentum=0.1, affine=True, track_running_stats=True)\n",
       "        (relu): ReLU(inplace=True)\n",
       "        (conv2): Conv2d(128, 128, kernel_size=(3, 3), stride=(1, 1), padding=(1, 1), bias=False)\n",
       "        (bn2): BatchNorm2d(128, eps=1e-05, momentum=0.1, affine=True, track_running_stats=True)\n",
       "      )\n",
       "    )\n",
       "    (layer3): Sequential(\n",
       "      (0): BasicBlock(\n",
       "        (conv1): Conv2d(128, 256, kernel_size=(3, 3), stride=(2, 2), padding=(1, 1), bias=False)\n",
       "        (bn1): BatchNorm2d(256, eps=1e-05, momentum=0.1, affine=True, track_running_stats=True)\n",
       "        (relu): ReLU(inplace=True)\n",
       "        (conv2): Conv2d(256, 256, kernel_size=(3, 3), stride=(1, 1), padding=(1, 1), bias=False)\n",
       "        (bn2): BatchNorm2d(256, eps=1e-05, momentum=0.1, affine=True, track_running_stats=True)\n",
       "        (downsample): Sequential(\n",
       "          (0): Conv2d(128, 256, kernel_size=(1, 1), stride=(2, 2), bias=False)\n",
       "          (1): BatchNorm2d(256, eps=1e-05, momentum=0.1, affine=True, track_running_stats=True)\n",
       "        )\n",
       "      )\n",
       "      (1): BasicBlock(\n",
       "        (conv1): Conv2d(256, 256, kernel_size=(3, 3), stride=(1, 1), padding=(1, 1), bias=False)\n",
       "        (bn1): BatchNorm2d(256, eps=1e-05, momentum=0.1, affine=True, track_running_stats=True)\n",
       "        (relu): ReLU(inplace=True)\n",
       "        (conv2): Conv2d(256, 256, kernel_size=(3, 3), stride=(1, 1), padding=(1, 1), bias=False)\n",
       "        (bn2): BatchNorm2d(256, eps=1e-05, momentum=0.1, affine=True, track_running_stats=True)\n",
       "      )\n",
       "      (2): BasicBlock(\n",
       "        (conv1): Conv2d(256, 256, kernel_size=(3, 3), stride=(1, 1), padding=(1, 1), bias=False)\n",
       "        (bn1): BatchNorm2d(256, eps=1e-05, momentum=0.1, affine=True, track_running_stats=True)\n",
       "        (relu): ReLU(inplace=True)\n",
       "        (conv2): Conv2d(256, 256, kernel_size=(3, 3), stride=(1, 1), padding=(1, 1), bias=False)\n",
       "        (bn2): BatchNorm2d(256, eps=1e-05, momentum=0.1, affine=True, track_running_stats=True)\n",
       "      )\n",
       "      (3): BasicBlock(\n",
       "        (conv1): Conv2d(256, 256, kernel_size=(3, 3), stride=(1, 1), padding=(1, 1), bias=False)\n",
       "        (bn1): BatchNorm2d(256, eps=1e-05, momentum=0.1, affine=True, track_running_stats=True)\n",
       "        (relu): ReLU(inplace=True)\n",
       "        (conv2): Conv2d(256, 256, kernel_size=(3, 3), stride=(1, 1), padding=(1, 1), bias=False)\n",
       "        (bn2): BatchNorm2d(256, eps=1e-05, momentum=0.1, affine=True, track_running_stats=True)\n",
       "      )\n",
       "      (4): BasicBlock(\n",
       "        (conv1): Conv2d(256, 256, kernel_size=(3, 3), stride=(1, 1), padding=(1, 1), bias=False)\n",
       "        (bn1): BatchNorm2d(256, eps=1e-05, momentum=0.1, affine=True, track_running_stats=True)\n",
       "        (relu): ReLU(inplace=True)\n",
       "        (conv2): Conv2d(256, 256, kernel_size=(3, 3), stride=(1, 1), padding=(1, 1), bias=False)\n",
       "        (bn2): BatchNorm2d(256, eps=1e-05, momentum=0.1, affine=True, track_running_stats=True)\n",
       "      )\n",
       "      (5): BasicBlock(\n",
       "        (conv1): Conv2d(256, 256, kernel_size=(3, 3), stride=(1, 1), padding=(1, 1), bias=False)\n",
       "        (bn1): BatchNorm2d(256, eps=1e-05, momentum=0.1, affine=True, track_running_stats=True)\n",
       "        (relu): ReLU(inplace=True)\n",
       "        (conv2): Conv2d(256, 256, kernel_size=(3, 3), stride=(1, 1), padding=(1, 1), bias=False)\n",
       "        (bn2): BatchNorm2d(256, eps=1e-05, momentum=0.1, affine=True, track_running_stats=True)\n",
       "      )\n",
       "    )\n",
       "    (layer4): Sequential(\n",
       "      (0): BasicBlock(\n",
       "        (conv1): Conv2d(256, 512, kernel_size=(3, 3), stride=(2, 2), padding=(1, 1), bias=False)\n",
       "        (bn1): BatchNorm2d(512, eps=1e-05, momentum=0.1, affine=True, track_running_stats=True)\n",
       "        (relu): ReLU(inplace=True)\n",
       "        (conv2): Conv2d(512, 512, kernel_size=(3, 3), stride=(1, 1), padding=(1, 1), bias=False)\n",
       "        (bn2): BatchNorm2d(512, eps=1e-05, momentum=0.1, affine=True, track_running_stats=True)\n",
       "        (downsample): Sequential(\n",
       "          (0): Conv2d(256, 512, kernel_size=(1, 1), stride=(2, 2), bias=False)\n",
       "          (1): BatchNorm2d(512, eps=1e-05, momentum=0.1, affine=True, track_running_stats=True)\n",
       "        )\n",
       "      )\n",
       "      (1): BasicBlock(\n",
       "        (conv1): Conv2d(512, 512, kernel_size=(3, 3), stride=(1, 1), padding=(1, 1), bias=False)\n",
       "        (bn1): BatchNorm2d(512, eps=1e-05, momentum=0.1, affine=True, track_running_stats=True)\n",
       "        (relu): ReLU(inplace=True)\n",
       "        (conv2): Conv2d(512, 512, kernel_size=(3, 3), stride=(1, 1), padding=(1, 1), bias=False)\n",
       "        (bn2): BatchNorm2d(512, eps=1e-05, momentum=0.1, affine=True, track_running_stats=True)\n",
       "      )\n",
       "      (2): BasicBlock(\n",
       "        (conv1): Conv2d(512, 512, kernel_size=(3, 3), stride=(1, 1), padding=(1, 1), bias=False)\n",
       "        (bn1): BatchNorm2d(512, eps=1e-05, momentum=0.1, affine=True, track_running_stats=True)\n",
       "        (relu): ReLU(inplace=True)\n",
       "        (conv2): Conv2d(512, 512, kernel_size=(3, 3), stride=(1, 1), padding=(1, 1), bias=False)\n",
       "        (bn2): BatchNorm2d(512, eps=1e-05, momentum=0.1, affine=True, track_running_stats=True)\n",
       "      )\n",
       "    )\n",
       "    (avgpool): Identity()\n",
       "    (fc): Identity()\n",
       "  )\n",
       "  (linear_pe_present_on_image): MultiTaskHead(\n",
       "    (m): Sequential(\n",
       "      (0): Conv2d(512, 512, kernel_size=(1, 1), stride=(1, 1), bias=False)\n",
       "      (1): BatchNorm2d(512, eps=1e-05, momentum=0.1, affine=True, track_running_stats=True)\n",
       "      (2): Conv2d(512, 512, kernel_size=(3, 3), stride=(1, 1), padding=(1, 1), bias=False)\n",
       "      (3): BatchNorm2d(512, eps=1e-05, momentum=0.1, affine=True, track_running_stats=True)\n",
       "      (4): Conv2d(512, 2048, kernel_size=(1, 1), stride=(1, 1), bias=False)\n",
       "      (5): BatchNorm2d(2048, eps=1e-05, momentum=0.1, affine=True, track_running_stats=True)\n",
       "      (6): AdaptiveAvgPool2d(output_size=(1, 1))\n",
       "    )\n",
       "    (l): Sequential(\n",
       "      (0): Linear(in_features=2048, out_features=512, bias=True)\n",
       "      (1): Dropout(p=0.5, inplace=False)\n",
       "      (2): ReLU()\n",
       "      (3): Linear(in_features=512, out_features=128, bias=True)\n",
       "      (4): Linear(in_features=128, out_features=1, bias=True)\n",
       "    )\n",
       "  )\n",
       "  (linear_negative_exam_for_pe): MultiTaskHead(\n",
       "    (m): Sequential(\n",
       "      (0): Conv2d(512, 512, kernel_size=(1, 1), stride=(1, 1), bias=False)\n",
       "      (1): BatchNorm2d(512, eps=1e-05, momentum=0.1, affine=True, track_running_stats=True)\n",
       "      (2): Conv2d(512, 512, kernel_size=(3, 3), stride=(1, 1), padding=(1, 1), bias=False)\n",
       "      (3): BatchNorm2d(512, eps=1e-05, momentum=0.1, affine=True, track_running_stats=True)\n",
       "      (4): Conv2d(512, 2048, kernel_size=(1, 1), stride=(1, 1), bias=False)\n",
       "      (5): BatchNorm2d(2048, eps=1e-05, momentum=0.1, affine=True, track_running_stats=True)\n",
       "      (6): AdaptiveAvgPool2d(output_size=(1, 1))\n",
       "    )\n",
       "    (l): Sequential(\n",
       "      (0): Linear(in_features=2048, out_features=512, bias=True)\n",
       "      (1): Dropout(p=0.5, inplace=False)\n",
       "      (2): ReLU()\n",
       "      (3): Linear(in_features=512, out_features=128, bias=True)\n",
       "      (4): Linear(in_features=128, out_features=1, bias=True)\n",
       "    )\n",
       "  )\n",
       "  (linear_indeterminate): MultiTaskHead(\n",
       "    (m): Sequential(\n",
       "      (0): Conv2d(512, 512, kernel_size=(1, 1), stride=(1, 1), bias=False)\n",
       "      (1): BatchNorm2d(512, eps=1e-05, momentum=0.1, affine=True, track_running_stats=True)\n",
       "      (2): Conv2d(512, 512, kernel_size=(3, 3), stride=(1, 1), padding=(1, 1), bias=False)\n",
       "      (3): BatchNorm2d(512, eps=1e-05, momentum=0.1, affine=True, track_running_stats=True)\n",
       "      (4): Conv2d(512, 2048, kernel_size=(1, 1), stride=(1, 1), bias=False)\n",
       "      (5): BatchNorm2d(2048, eps=1e-05, momentum=0.1, affine=True, track_running_stats=True)\n",
       "      (6): AdaptiveAvgPool2d(output_size=(1, 1))\n",
       "    )\n",
       "    (l): Sequential(\n",
       "      (0): Linear(in_features=2048, out_features=512, bias=True)\n",
       "      (1): Dropout(p=0.5, inplace=False)\n",
       "      (2): ReLU()\n",
       "      (3): Linear(in_features=512, out_features=128, bias=True)\n",
       "      (4): Linear(in_features=128, out_features=1, bias=True)\n",
       "    )\n",
       "  )\n",
       "  (linear_chronic_pe): MultiTaskHead(\n",
       "    (m): Sequential(\n",
       "      (0): Conv2d(512, 512, kernel_size=(1, 1), stride=(1, 1), bias=False)\n",
       "      (1): BatchNorm2d(512, eps=1e-05, momentum=0.1, affine=True, track_running_stats=True)\n",
       "      (2): Conv2d(512, 512, kernel_size=(3, 3), stride=(1, 1), padding=(1, 1), bias=False)\n",
       "      (3): BatchNorm2d(512, eps=1e-05, momentum=0.1, affine=True, track_running_stats=True)\n",
       "      (4): Conv2d(512, 2048, kernel_size=(1, 1), stride=(1, 1), bias=False)\n",
       "      (5): BatchNorm2d(2048, eps=1e-05, momentum=0.1, affine=True, track_running_stats=True)\n",
       "      (6): AdaptiveAvgPool2d(output_size=(1, 1))\n",
       "    )\n",
       "    (l): Sequential(\n",
       "      (0): Linear(in_features=2048, out_features=512, bias=True)\n",
       "      (1): Dropout(p=0.5, inplace=False)\n",
       "      (2): ReLU()\n",
       "      (3): Linear(in_features=512, out_features=128, bias=True)\n",
       "      (4): Linear(in_features=128, out_features=1, bias=True)\n",
       "    )\n",
       "  )\n",
       "  (linear_acute_and_chronic_pe): MultiTaskHead(\n",
       "    (m): Sequential(\n",
       "      (0): Conv2d(512, 512, kernel_size=(1, 1), stride=(1, 1), bias=False)\n",
       "      (1): BatchNorm2d(512, eps=1e-05, momentum=0.1, affine=True, track_running_stats=True)\n",
       "      (2): Conv2d(512, 512, kernel_size=(3, 3), stride=(1, 1), padding=(1, 1), bias=False)\n",
       "      (3): BatchNorm2d(512, eps=1e-05, momentum=0.1, affine=True, track_running_stats=True)\n",
       "      (4): Conv2d(512, 2048, kernel_size=(1, 1), stride=(1, 1), bias=False)\n",
       "      (5): BatchNorm2d(2048, eps=1e-05, momentum=0.1, affine=True, track_running_stats=True)\n",
       "      (6): AdaptiveAvgPool2d(output_size=(1, 1))\n",
       "    )\n",
       "    (l): Sequential(\n",
       "      (0): Linear(in_features=2048, out_features=512, bias=True)\n",
       "      (1): Dropout(p=0.5, inplace=False)\n",
       "      (2): ReLU()\n",
       "      (3): Linear(in_features=512, out_features=128, bias=True)\n",
       "      (4): Linear(in_features=128, out_features=1, bias=True)\n",
       "    )\n",
       "  )\n",
       "  (linear_central_pe): MultiTaskHead(\n",
       "    (m): Sequential(\n",
       "      (0): Conv2d(512, 512, kernel_size=(1, 1), stride=(1, 1), bias=False)\n",
       "      (1): BatchNorm2d(512, eps=1e-05, momentum=0.1, affine=True, track_running_stats=True)\n",
       "      (2): Conv2d(512, 512, kernel_size=(3, 3), stride=(1, 1), padding=(1, 1), bias=False)\n",
       "      (3): BatchNorm2d(512, eps=1e-05, momentum=0.1, affine=True, track_running_stats=True)\n",
       "      (4): Conv2d(512, 2048, kernel_size=(1, 1), stride=(1, 1), bias=False)\n",
       "      (5): BatchNorm2d(2048, eps=1e-05, momentum=0.1, affine=True, track_running_stats=True)\n",
       "      (6): AdaptiveAvgPool2d(output_size=(1, 1))\n",
       "    )\n",
       "    (l): Sequential(\n",
       "      (0): Linear(in_features=2048, out_features=512, bias=True)\n",
       "      (1): Dropout(p=0.5, inplace=False)\n",
       "      (2): ReLU()\n",
       "      (3): Linear(in_features=512, out_features=128, bias=True)\n",
       "      (4): Linear(in_features=128, out_features=1, bias=True)\n",
       "    )\n",
       "  )\n",
       "  (linear_leftsided_pe): MultiTaskHead(\n",
       "    (m): Sequential(\n",
       "      (0): Conv2d(512, 512, kernel_size=(1, 1), stride=(1, 1), bias=False)\n",
       "      (1): BatchNorm2d(512, eps=1e-05, momentum=0.1, affine=True, track_running_stats=True)\n",
       "      (2): Conv2d(512, 512, kernel_size=(3, 3), stride=(1, 1), padding=(1, 1), bias=False)\n",
       "      (3): BatchNorm2d(512, eps=1e-05, momentum=0.1, affine=True, track_running_stats=True)\n",
       "      (4): Conv2d(512, 2048, kernel_size=(1, 1), stride=(1, 1), bias=False)\n",
       "      (5): BatchNorm2d(2048, eps=1e-05, momentum=0.1, affine=True, track_running_stats=True)\n",
       "      (6): AdaptiveAvgPool2d(output_size=(1, 1))\n",
       "    )\n",
       "    (l): Sequential(\n",
       "      (0): Linear(in_features=2048, out_features=512, bias=True)\n",
       "      (1): Dropout(p=0.5, inplace=False)\n",
       "      (2): ReLU()\n",
       "      (3): Linear(in_features=512, out_features=128, bias=True)\n",
       "      (4): Linear(in_features=128, out_features=1, bias=True)\n",
       "    )\n",
       "  )\n",
       "  (linear_rightsided_pe): MultiTaskHead(\n",
       "    (m): Sequential(\n",
       "      (0): Conv2d(512, 512, kernel_size=(1, 1), stride=(1, 1), bias=False)\n",
       "      (1): BatchNorm2d(512, eps=1e-05, momentum=0.1, affine=True, track_running_stats=True)\n",
       "      (2): Conv2d(512, 512, kernel_size=(3, 3), stride=(1, 1), padding=(1, 1), bias=False)\n",
       "      (3): BatchNorm2d(512, eps=1e-05, momentum=0.1, affine=True, track_running_stats=True)\n",
       "      (4): Conv2d(512, 2048, kernel_size=(1, 1), stride=(1, 1), bias=False)\n",
       "      (5): BatchNorm2d(2048, eps=1e-05, momentum=0.1, affine=True, track_running_stats=True)\n",
       "      (6): AdaptiveAvgPool2d(output_size=(1, 1))\n",
       "    )\n",
       "    (l): Sequential(\n",
       "      (0): Linear(in_features=2048, out_features=512, bias=True)\n",
       "      (1): Dropout(p=0.5, inplace=False)\n",
       "      (2): ReLU()\n",
       "      (3): Linear(in_features=512, out_features=128, bias=True)\n",
       "      (4): Linear(in_features=128, out_features=1, bias=True)\n",
       "    )\n",
       "  )\n",
       "  (linear_rv_lv_ratio_gte_1): MultiTaskHead(\n",
       "    (m): Sequential(\n",
       "      (0): Conv2d(512, 512, kernel_size=(1, 1), stride=(1, 1), bias=False)\n",
       "      (1): BatchNorm2d(512, eps=1e-05, momentum=0.1, affine=True, track_running_stats=True)\n",
       "      (2): Conv2d(512, 512, kernel_size=(3, 3), stride=(1, 1), padding=(1, 1), bias=False)\n",
       "      (3): BatchNorm2d(512, eps=1e-05, momentum=0.1, affine=True, track_running_stats=True)\n",
       "      (4): Conv2d(512, 2048, kernel_size=(1, 1), stride=(1, 1), bias=False)\n",
       "      (5): BatchNorm2d(2048, eps=1e-05, momentum=0.1, affine=True, track_running_stats=True)\n",
       "      (6): AdaptiveAvgPool2d(output_size=(1, 1))\n",
       "    )\n",
       "    (l): Sequential(\n",
       "      (0): Linear(in_features=2048, out_features=512, bias=True)\n",
       "      (1): Dropout(p=0.5, inplace=False)\n",
       "      (2): ReLU()\n",
       "      (3): Linear(in_features=512, out_features=128, bias=True)\n",
       "      (4): Linear(in_features=128, out_features=1, bias=True)\n",
       "    )\n",
       "  )\n",
       "  (linear_rv_lv_ratio_lt_1): MultiTaskHead(\n",
       "    (m): Sequential(\n",
       "      (0): Conv2d(512, 512, kernel_size=(1, 1), stride=(1, 1), bias=False)\n",
       "      (1): BatchNorm2d(512, eps=1e-05, momentum=0.1, affine=True, track_running_stats=True)\n",
       "      (2): Conv2d(512, 512, kernel_size=(3, 3), stride=(1, 1), padding=(1, 1), bias=False)\n",
       "      (3): BatchNorm2d(512, eps=1e-05, momentum=0.1, affine=True, track_running_stats=True)\n",
       "      (4): Conv2d(512, 2048, kernel_size=(1, 1), stride=(1, 1), bias=False)\n",
       "      (5): BatchNorm2d(2048, eps=1e-05, momentum=0.1, affine=True, track_running_stats=True)\n",
       "      (6): AdaptiveAvgPool2d(output_size=(1, 1))\n",
       "    )\n",
       "    (l): Sequential(\n",
       "      (0): Linear(in_features=2048, out_features=512, bias=True)\n",
       "      (1): Dropout(p=0.5, inplace=False)\n",
       "      (2): ReLU()\n",
       "      (3): Linear(in_features=512, out_features=128, bias=True)\n",
       "      (4): Linear(in_features=128, out_features=1, bias=True)\n",
       "    )\n",
       "  )\n",
       ")"
      ]
     },
     "execution_count": 70,
     "metadata": {},
     "output_type": "execute_result"
    }
   ],
   "source": [
    "model.eval()"
   ]
  },
  {
   "cell_type": "code",
   "execution_count": 93,
   "metadata": {},
   "outputs": [
    {
     "data": {
      "text/plain": [
       "(0.8958333333333334, 0.5176470588235295, 0.7645437552004065)"
      ]
     },
     "execution_count": 93,
     "metadata": {},
     "output_type": "execute_result"
    }
   ],
   "source": [
    "for j, (x,y) in enumerate(val_dataloader):\n",
    "    y_pred_eval = model(x)\n",
    "    break\n",
    "    \n",
    "compute_accuracy(y_pred_eval, y, 0.3)"
   ]
  },
  {
   "cell_type": "code",
   "execution_count": 94,
   "metadata": {},
   "outputs": [
    {
     "data": {
      "text/plain": [
       "tensor([[1., 0., 0., 0., 1., 1., 1., 1., 0.],\n",
       "        [1., 0., 0., 0., 1., 1., 1., 1., 0.],\n",
       "        [1., 0., 1., 0., 0., 1., 1., 0., 1.],\n",
       "        [1., 0., 0., 0., 0., 1., 1., 0., 1.],\n",
       "        [0., 0., 0., 0., 0., 0., 0., 0., 0.],\n",
       "        [0., 0., 0., 0., 0., 0., 0., 0., 0.],\n",
       "        [0., 0., 0., 0., 0., 0., 0., 0., 0.],\n",
       "        [0., 0., 0., 0., 0., 0., 0., 0., 0.],\n",
       "        [1., 0., 0., 0., 0., 1., 1., 0., 1.],\n",
       "        [1., 0., 0., 0., 0., 1., 1., 0., 1.],\n",
       "        [1., 0., 0., 0., 0., 1., 1., 0., 1.],\n",
       "        [0., 0., 0., 0., 0., 0., 0., 0., 0.],\n",
       "        [1., 0., 0., 0., 0., 0., 1., 0., 1.],\n",
       "        [1., 0., 0., 0., 0., 0., 1., 1., 0.],\n",
       "        [1., 0., 0., 0., 1., 1., 1., 0., 1.],\n",
       "        [0., 0., 0., 0., 0., 0., 0., 0., 0.],\n",
       "        [0., 0., 0., 0., 0., 0., 0., 0., 0.],\n",
       "        [0., 0., 0., 0., 0., 0., 0., 0., 0.],\n",
       "        [0., 0., 0., 0., 0., 0., 0., 0., 0.],\n",
       "        [1., 0., 0., 0., 0., 1., 1., 0., 1.],\n",
       "        [0., 0., 0., 0., 0., 0., 0., 0., 0.],\n",
       "        [0., 0., 0., 0., 0., 0., 0., 0., 0.],\n",
       "        [0., 0., 0., 0., 0., 0., 0., 0., 0.],\n",
       "        [0., 0., 0., 0., 0., 0., 0., 0., 0.],\n",
       "        [1., 0., 0., 0., 1., 1., 1., 1., 0.],\n",
       "        [0., 0., 0., 0., 0., 0., 0., 0., 0.],\n",
       "        [0., 0., 0., 0., 0., 0., 0., 0., 0.],\n",
       "        [0., 0., 0., 0., 0., 0., 0., 0., 0.],\n",
       "        [0., 0., 0., 0., 0., 0., 0., 0., 0.],\n",
       "        [1., 0., 0., 1., 1., 1., 1., 1., 0.],\n",
       "        [0., 0., 0., 0., 0., 0., 0., 0., 0.],\n",
       "        [1., 0., 0., 0., 0., 1., 1., 0., 1.],\n",
       "        [1., 0., 0., 0., 0., 1., 0., 0., 1.],\n",
       "        [0., 0., 0., 0., 0., 0., 0., 0., 0.],\n",
       "        [1., 0., 1., 0., 0., 0., 1., 1., 0.],\n",
       "        [0., 0., 0., 0., 0., 0., 0., 0., 0.],\n",
       "        [1., 0., 0., 0., 0., 1., 1., 1., 0.],\n",
       "        [0., 0., 0., 0., 0., 0., 0., 0., 0.],\n",
       "        [0., 0., 0., 0., 0., 0., 0., 0., 0.],\n",
       "        [0., 0., 0., 0., 0., 0., 0., 0., 0.],\n",
       "        [1., 0., 0., 0., 0., 1., 1., 0., 1.],\n",
       "        [0., 0., 0., 0., 0., 0., 0., 0., 0.],\n",
       "        [0., 0., 0., 0., 0., 0., 0., 0., 0.],\n",
       "        [0., 0., 0., 0., 0., 0., 0., 0., 0.],\n",
       "        [0., 0., 0., 0., 0., 0., 0., 0., 0.],\n",
       "        [0., 0., 0., 0., 0., 0., 0., 0., 0.],\n",
       "        [0., 0., 0., 0., 0., 0., 0., 0., 0.],\n",
       "        [0., 0., 0., 0., 0., 0., 0., 0., 0.],\n",
       "        [0., 0., 0., 0., 0., 0., 0., 0., 0.],\n",
       "        [0., 0., 0., 0., 0., 0., 0., 0., 0.],\n",
       "        [0., 0., 0., 0., 0., 0., 0., 0., 0.],\n",
       "        [1., 0., 0., 0., 0., 1., 1., 0., 1.],\n",
       "        [1., 0., 0., 0., 1., 1., 1., 1., 0.],\n",
       "        [0., 0., 0., 0., 0., 0., 0., 0., 0.],\n",
       "        [0., 0., 0., 0., 0., 0., 0., 0., 0.],\n",
       "        [0., 0., 0., 0., 0., 0., 0., 0., 0.],\n",
       "        [0., 0., 0., 0., 0., 0., 0., 0., 0.],\n",
       "        [0., 0., 0., 0., 0., 0., 0., 0., 0.],\n",
       "        [0., 0., 0., 0., 0., 0., 0., 0., 0.],\n",
       "        [0., 0., 0., 0., 0., 0., 0., 0., 0.],\n",
       "        [0., 0., 0., 0., 0., 0., 0., 0., 0.],\n",
       "        [0., 0., 0., 0., 0., 0., 0., 0., 0.],\n",
       "        [0., 0., 0., 0., 0., 0., 0., 0., 0.],\n",
       "        [0., 0., 0., 0., 0., 0., 0., 0., 0.]], device='cuda:0')"
      ]
     },
     "execution_count": 94,
     "metadata": {},
     "output_type": "execute_result"
    }
   ],
   "source": [
    "y"
   ]
  },
  {
   "cell_type": "code",
   "execution_count": 95,
   "metadata": {},
   "outputs": [
    {
     "data": {
      "text/plain": [
       "tensor([[ 4.1254e+00, -1.1285e+01, -6.3293e+00, -3.8870e+00,  2.3509e-01,\n",
       "          2.6094e+00,  3.6206e+00,  8.2395e-01, -2.4447e-01],\n",
       "        [-3.6828e-01, -1.1292e+01, -3.4787e+00, -3.3036e+00, -1.5687e+00,\n",
       "         -7.4597e-01, -4.2474e-01, -8.3257e-01, -2.0525e+00],\n",
       "        [-2.1969e+00, -1.1289e+01, -2.9058e+00, -5.2934e+00, -4.8921e+00,\n",
       "         -2.6797e+00, -2.5849e+00, -3.5443e+00, -2.5287e+00],\n",
       "        [ 4.1234e+00, -1.1285e+01, -3.5158e+00, -2.6136e+00,  5.9489e-01,\n",
       "          2.5393e+00,  3.7310e+00,  9.1036e-01, -1.2371e-01],\n",
       "        [-1.3657e+00, -1.1295e+01, -5.8870e+00, -4.9931e+00, -2.8638e+00,\n",
       "         -1.7729e+00, -1.6867e+00, -2.6974e+00, -2.1667e+00],\n",
       "        [-5.8738e+00, -1.1298e+01, -7.0047e+00, -9.0923e+00, -9.3606e+00,\n",
       "         -5.5824e+00, -6.5063e+00, -6.4760e+00, -5.9236e+00],\n",
       "        [-7.4951e+00, -1.1299e+01, -9.5741e+00, -9.9232e+00, -9.2277e+00,\n",
       "         -7.3045e+00, -8.0112e+00, -8.1696e+00, -7.3187e+00],\n",
       "        [-8.5974e+00, -1.1296e+01, -1.0382e+01, -8.5144e+00, -9.7054e+00,\n",
       "         -8.1897e+00, -9.1950e+00, -8.7794e+00, -8.8014e+00],\n",
       "        [-1.3685e+00, -1.1295e+01, -4.0437e+00, -3.6193e+00, -4.0804e+00,\n",
       "         -1.8241e+00, -1.6530e+00, -3.4934e+00, -1.6167e+00],\n",
       "        [ 4.6781e-01, -1.1288e+01, -2.2082e+00, -3.4001e+00, -3.2869e+00,\n",
       "         -1.3819e-01,  1.8797e-01, -9.1529e-01, -8.6815e-01],\n",
       "        [ 7.1355e-01, -1.1288e+01, -3.6380e+00, -2.8098e+00, -4.9980e+00,\n",
       "         -6.2328e-02,  3.0639e-01, -3.0800e+00,  3.5969e-01],\n",
       "        [-1.6887e+00, -1.1291e+01, -2.9916e+00, -4.8642e+00, -4.3994e+00,\n",
       "         -2.0681e+00, -1.9149e+00, -2.6200e+00, -2.3124e+00],\n",
       "        [-1.7177e+00, -1.1289e+01, -4.4756e+00, -6.1266e+00, -6.1419e+00,\n",
       "         -2.2202e+00, -1.9550e+00, -3.6529e+00, -1.9026e+00],\n",
       "        [-1.3542e+00, -1.1293e+01, -3.6612e+00, -5.0816e+00, -4.0392e+00,\n",
       "         -1.9914e+00, -1.5882e+00, -2.6420e+00, -2.0681e+00],\n",
       "        [ 1.0649e+00, -1.1288e+01, -4.5075e+00, -1.7124e+00, -3.2785e+00,\n",
       "          1.0295e-01,  7.1650e-01, -1.1921e-01, -1.0339e+00],\n",
       "        [-6.3061e+00, -1.1297e+01, -9.0456e+00, -7.4250e+00, -7.3963e+00,\n",
       "         -6.2321e+00, -6.8398e+00, -7.3661e+00, -6.3061e+00],\n",
       "        [-6.6088e+00, -1.1297e+01, -7.8515e+00, -7.8927e+00, -7.8423e+00,\n",
       "         -6.3812e+00, -7.0244e+00, -6.7152e+00, -6.7467e+00],\n",
       "        [-8.7462e+00, -1.1296e+01, -1.1054e+01, -9.5200e+00, -1.0374e+01,\n",
       "         -8.4686e+00, -9.2403e+00, -9.3903e+00, -8.2274e+00],\n",
       "        [-6.4674e+01, -1.1284e+01, -2.7025e+01, -2.8214e+01, -3.6847e+01,\n",
       "         -4.2251e+01, -3.7895e+01, -4.4928e+01, -1.8402e+01],\n",
       "        [-7.3361e-02, -1.1288e+01, -4.2402e+00, -2.7471e+00, -3.3668e+00,\n",
       "         -7.9142e-01, -3.6441e-01, -2.1108e+00, -6.4750e-01],\n",
       "        [-5.5505e+00, -1.1298e+01, -7.3083e+00, -7.6191e+00, -7.5919e+00,\n",
       "         -5.4440e+00, -6.0459e+00, -6.4978e+00, -5.5308e+00],\n",
       "        [-5.0673e+00, -1.1298e+01, -7.5141e+00, -7.5669e+00, -6.7016e+00,\n",
       "         -5.1934e+00, -5.4440e+00, -5.9838e+00, -5.3737e+00],\n",
       "        [ 1.3740e+00, -1.1287e+01, -4.6793e+00, -1.6661e+00, -3.5530e+00,\n",
       "          2.4421e-01,  1.0216e+00, -2.6459e-01, -6.8944e-01],\n",
       "        [-2.6564e+00, -1.1290e+01, -5.1581e+00, -7.8205e+00, -7.4692e+00,\n",
       "         -3.0554e+00, -3.1532e+00, -5.2384e+00, -2.6190e+00],\n",
       "        [-6.0155e-01, -1.1290e+01, -3.4618e+00, -3.5907e+00, -3.3825e+00,\n",
       "         -1.0296e+00, -8.7898e-01, -1.6985e+00, -1.5098e+00],\n",
       "        [-8.2988e+00, -1.1297e+01, -1.0327e+01, -1.0166e+01, -1.0303e+01,\n",
       "         -8.0970e+00, -8.8809e+00, -9.4635e+00, -7.6310e+00],\n",
       "        [-2.5804e+00, -1.1293e+01, -5.1553e+00, -5.5703e+00, -5.2281e+00,\n",
       "         -3.1561e+00, -2.8774e+00, -4.5462e+00, -2.4817e+00],\n",
       "        [-6.9451e+00, -1.1297e+01, -8.3675e+00, -9.1404e+00, -8.4281e+00,\n",
       "         -6.8530e+00, -7.4364e+00, -7.1590e+00, -7.4884e+00],\n",
       "        [ 1.3631e+00, -1.1286e+01, -4.5533e+00, -4.3319e+00, -4.1706e+00,\n",
       "          3.1034e-01,  9.4885e-01, -4.9034e+00,  1.3879e+00],\n",
       "        [ 1.1961e+00, -1.1288e+01, -2.9766e+00, -1.0951e+00, -9.9159e-01,\n",
       "          3.9772e-01,  8.6562e-01,  2.6662e-01, -1.1582e+00],\n",
       "        [-7.9220e+00, -1.1297e+01, -9.2076e+00, -8.7008e+00, -9.2363e+00,\n",
       "         -7.6300e+00, -8.3923e+00, -8.2347e+00, -8.0342e+00],\n",
       "        [-1.8675e+00, -1.1294e+01, -4.0530e+00, -5.6975e+00, -4.2696e+00,\n",
       "         -2.4077e+00, -2.1751e+00, -4.0693e+00, -2.1722e+00],\n",
       "        [ 2.3322e+00, -1.1284e+01, -4.2934e+00, -3.5110e+00, -3.6436e+00,\n",
       "          1.0255e+00,  1.6879e+00, -7.4052e+00,  2.5162e+00],\n",
       "        [-3.5863e+00, -1.1296e+01, -7.7461e+00, -8.0790e+00, -7.6549e+00,\n",
       "         -3.7826e+00, -4.2152e+00, -7.0106e+00, -3.3524e+00],\n",
       "        [-3.2701e+00, -1.1290e+01, -2.9673e+00, -6.6585e+00, -7.5346e+00,\n",
       "         -3.7879e+00, -3.9237e+00, -5.1727e+00, -3.1461e+00],\n",
       "        [-2.2119e+00, -1.1293e+01, -5.0073e+00, -5.3427e+00, -5.2113e+00,\n",
       "         -2.6191e+00, -2.6046e+00, -4.3863e+00, -2.3866e+00],\n",
       "        [-1.6458e+00, -1.1292e+01, -4.2514e+00, -4.7059e+00, -4.0053e+00,\n",
       "         -2.0178e+00, -1.8816e+00, -2.3388e+00, -2.7593e+00],\n",
       "        [-2.7344e+00, -1.1290e+01, -3.8814e+00, -6.4734e+00, -5.5221e+00,\n",
       "         -3.2559e+00, -2.9544e+00, -3.9058e+00, -2.9903e+00],\n",
       "        [-7.5839e+00, -1.1298e+01, -1.0340e+01, -8.6440e+00, -8.6922e+00,\n",
       "         -7.4562e+00, -8.1662e+00, -8.5492e+00, -7.1820e+00],\n",
       "        [-4.1748e+00, -1.1299e+01, -5.4854e+00, -7.5945e+00, -3.8161e+00,\n",
       "         -4.0466e+00, -4.4980e+00, -5.1466e+00, -4.7684e+00],\n",
       "        [ 1.1929e+00, -1.1288e+01, -1.0807e+00, -6.1487e+00, -3.3792e+00,\n",
       "          3.3510e-01,  8.6624e-01, -1.0545e+00, -2.9199e-01],\n",
       "        [-3.7790e+00, -1.1295e+01, -4.4811e+00, -7.4834e+00, -6.2762e+00,\n",
       "         -4.1143e+00, -4.1789e+00, -4.6689e+00, -4.2150e+00],\n",
       "        [-1.6994e+00, -1.1292e+01, -2.9995e+00, -4.9062e+00, -4.4772e+00,\n",
       "         -2.0105e+00, -2.1459e+00, -3.6744e+00, -2.2423e+00],\n",
       "        [-1.5284e+00, -1.1296e+01, -4.6933e+00, -4.2275e+00, -3.0040e+00,\n",
       "         -1.9727e+00, -1.9559e+00, -2.4600e+00, -2.6185e+00],\n",
       "        [ 3.2916e-01, -1.1293e+01, -3.3685e+00, -2.5495e+00,  5.7784e-02,\n",
       "         -2.0601e-01,  1.7775e-01,  3.4584e-01, -2.8553e+00],\n",
       "        [-5.8010e+00, -1.1298e+01, -8.6153e+00, -7.2074e+00, -7.1988e+00,\n",
       "         -5.8373e+00, -6.2907e+00, -6.9307e+00, -5.7201e+00],\n",
       "        [-5.8485e+00, -1.1298e+01, -8.1581e+00, -7.7704e+00, -7.2795e+00,\n",
       "         -5.8993e+00, -6.3361e+00, -6.4894e+00, -6.3180e+00],\n",
       "        [-5.6142e+00, -1.1298e+01, -7.5552e+00, -7.7173e+00, -6.2722e+00,\n",
       "         -5.4390e+00, -6.0670e+00, -6.4010e+00, -5.7542e+00],\n",
       "        [-2.4769e+00, -1.1294e+01, -5.5935e+00, -4.7885e+00, -4.1236e+00,\n",
       "         -2.9219e+00, -2.8258e+00, -4.3498e+00, -2.6042e+00],\n",
       "        [-6.6633e+00, -1.1298e+01, -9.2992e+00, -7.5850e+00, -8.3873e+00,\n",
       "         -6.6974e+00, -7.1803e+00, -7.5366e+00, -6.4610e+00],\n",
       "        [-8.1849e+00, -1.1296e+01, -1.0418e+01, -1.0007e+01, -1.0183e+01,\n",
       "         -8.0766e+00, -8.7720e+00, -8.9038e+00, -7.9274e+00],\n",
       "        [-1.3215e+00, -1.1291e+01, -4.7836e+00, -4.1737e+00, -3.3869e+00,\n",
       "         -1.5395e+00, -1.4270e+00, -1.9985e+00, -2.3699e+00],\n",
       "        [ 4.9791e+00, -1.1287e+01, -2.8563e+00, -1.8396e+00,  1.5581e+00,\n",
       "          3.3311e+00,  4.5414e+00,  3.4133e+00, -2.9705e+00],\n",
       "        [-1.9876e+00, -1.1288e+01, -5.0123e+00, -5.7063e+00, -6.8468e+00,\n",
       "         -2.7798e+00, -2.1228e+00, -4.3381e+00, -1.9224e+00],\n",
       "        [-7.8839e+00, -1.1296e+01, -1.0023e+01, -9.0101e+00, -9.7118e+00,\n",
       "         -7.7027e+00, -8.3506e+00, -8.2895e+00, -7.8883e+00],\n",
       "        [-6.2374e+00, -1.1298e+01, -9.7258e+00, -8.5046e+00, -7.5731e+00,\n",
       "         -6.0771e+00, -6.6347e+00, -6.7355e+00, -6.4405e+00],\n",
       "        [-2.6424e+00, -1.1291e+01, -5.8170e+00, -5.6084e+00, -4.6958e+00,\n",
       "         -2.9975e+00, -2.9024e+00, -3.8415e+00, -2.8884e+00],\n",
       "        [-4.8934e+00, -1.1298e+01, -6.0880e+00, -7.1194e+00, -7.1439e+00,\n",
       "         -4.9252e+00, -5.3904e+00, -5.6272e+00, -5.3578e+00],\n",
       "        [-1.7985e+01, -1.1293e+01, -8.7700e+00, -9.3589e+00, -1.3200e+01,\n",
       "         -1.4223e+01, -1.4387e+01, -1.4540e+01, -7.2181e+00],\n",
       "        [-2.1748e+00, -1.1292e+01, -2.8348e+00, -3.8751e+00, -4.3156e+00,\n",
       "         -2.4926e+00, -2.6614e+00, -2.8427e+00, -3.0915e+00],\n",
       "        [-1.0568e+00, -1.1291e+01, -2.8603e+00, -4.4990e+00, -2.6901e+00,\n",
       "         -1.5672e+00, -1.2150e+00, -2.1389e+00, -1.8659e+00],\n",
       "        [-4.0769e+00, -1.1292e+01, -5.5537e+00, -5.9633e+00, -6.0183e+00,\n",
       "         -4.2091e+00, -4.4960e+00, -5.1862e+00, -4.0793e+00],\n",
       "        [-1.8209e+00, -1.1292e+01, -4.9770e+00, -4.7237e+00, -8.3637e+00,\n",
       "         -2.5208e+00, -2.2891e+00, -4.0301e+00, -1.9081e+00],\n",
       "        [-2.9968e+00, -1.1293e+01, -5.9042e+00, -6.5288e+00, -6.5106e+00,\n",
       "         -3.4133e+00, -3.3920e+00, -4.1745e+00, -3.3191e+00]], device='cuda:0',\n",
       "       grad_fn=<CatBackward>)"
      ]
     },
     "execution_count": 95,
     "metadata": {},
     "output_type": "execute_result"
    }
   ],
   "source": [
    "y_pred_eval"
   ]
  },
  {
   "cell_type": "code",
   "execution_count": 90,
   "metadata": {},
   "outputs": [],
   "source": [
    "y_pred_eval = torch.sigmoid(y_pred_eval)"
   ]
  },
  {
   "cell_type": "code",
   "execution_count": 91,
   "metadata": {},
   "outputs": [
    {
     "data": {
      "text/plain": [
       "tensor(47, device='cuda:0')"
      ]
     },
     "execution_count": 91,
     "metadata": {},
     "output_type": "execute_result"
    }
   ],
   "source": [
    "(y_pred_eval > 0.5).sum()"
   ]
  },
  {
   "cell_type": "code",
   "execution_count": 84,
   "metadata": {},
   "outputs": [
    {
     "data": {
      "text/plain": [
       "tensor([[1., 0., 0., 0., 1., 1., 1., 1., 0.],\n",
       "        [1., 0., 0., 0., 1., 1., 1., 1., 0.],\n",
       "        [0., 0., 0., 0., 0., 0., 0., 0., 0.],\n",
       "        [1., 0., 0., 0., 0., 1., 1., 0., 1.],\n",
       "        [0., 0., 0., 0., 0., 0., 0., 0., 0.],\n",
       "        [0., 0., 0., 0., 0., 0., 0., 0., 0.],\n",
       "        [0., 0., 0., 0., 0., 0., 0., 0., 0.],\n",
       "        [0., 0., 0., 0., 0., 0., 0., 0., 0.],\n",
       "        [0., 0., 0., 0., 0., 0., 0., 0., 0.],\n",
       "        [1., 0., 0., 0., 0., 1., 1., 0., 0.],\n",
       "        [0., 0., 0., 0., 0., 0., 0., 0., 0.],\n",
       "        [0., 0., 0., 0., 0., 0., 0., 0., 0.],\n",
       "        [0., 0., 0., 0., 0., 0., 0., 0., 0.],\n",
       "        [0., 0., 0., 0., 0., 0., 0., 0., 0.],\n",
       "        [1., 0., 0., 0., 0., 1., 1., 0., 0.],\n",
       "        [0., 0., 0., 0., 0., 0., 0., 0., 0.],\n",
       "        [0., 0., 0., 0., 0., 0., 0., 0., 0.],\n",
       "        [0., 0., 0., 0., 0., 0., 0., 0., 0.],\n",
       "        [0., 0., 0., 0., 0., 0., 0., 0., 0.],\n",
       "        [0., 0., 0., 0., 0., 0., 0., 0., 0.],\n",
       "        [0., 0., 0., 0., 0., 0., 0., 0., 0.],\n",
       "        [0., 0., 0., 0., 0., 0., 0., 0., 0.],\n",
       "        [1., 0., 0., 0., 0., 1., 1., 0., 0.],\n",
       "        [1., 0., 0., 0., 0., 0., 1., 0., 0.],\n",
       "        [1., 0., 0., 0., 0., 1., 1., 0., 0.],\n",
       "        [0., 0., 0., 0., 0., 0., 0., 0., 0.],\n",
       "        [0., 0., 0., 0., 0., 0., 0., 0., 0.],\n",
       "        [0., 0., 0., 0., 0., 0., 0., 0., 0.],\n",
       "        [1., 0., 0., 0., 0., 1., 1., 0., 1.],\n",
       "        [1., 0., 0., 0., 0., 1., 1., 1., 0.],\n",
       "        [0., 0., 0., 0., 0., 0., 0., 0., 0.],\n",
       "        [0., 0., 0., 0., 0., 0., 0., 0., 0.],\n",
       "        [1., 0., 0., 0., 0., 1., 1., 0., 1.],\n",
       "        [0., 0., 0., 0., 0., 0., 0., 0., 0.],\n",
       "        [0., 0., 0., 0., 0., 0., 0., 0., 0.],\n",
       "        [0., 0., 0., 0., 0., 0., 0., 0., 0.],\n",
       "        [1., 0., 0., 0., 0., 0., 1., 1., 0.],\n",
       "        [0., 0., 0., 0., 0., 0., 0., 0., 0.],\n",
       "        [0., 0., 0., 0., 0., 0., 0., 0., 0.],\n",
       "        [0., 0., 0., 0., 0., 0., 0., 0., 0.],\n",
       "        [1., 0., 0., 0., 0., 1., 1., 1., 0.],\n",
       "        [0., 0., 0., 0., 0., 0., 0., 0., 0.],\n",
       "        [0., 0., 0., 0., 0., 0., 0., 0., 0.],\n",
       "        [0., 0., 0., 0., 0., 0., 0., 0., 0.],\n",
       "        [1., 0., 0., 0., 1., 1., 1., 1., 0.],\n",
       "        [0., 0., 0., 0., 0., 0., 0., 0., 0.],\n",
       "        [0., 0., 0., 0., 0., 0., 0., 0., 0.],\n",
       "        [0., 0., 0., 0., 0., 0., 0., 0., 0.],\n",
       "        [0., 0., 0., 0., 0., 0., 0., 0., 0.],\n",
       "        [0., 0., 0., 0., 0., 0., 0., 0., 0.],\n",
       "        [0., 0., 0., 0., 0., 0., 0., 0., 0.],\n",
       "        [0., 0., 0., 0., 0., 0., 0., 0., 0.],\n",
       "        [1., 0., 0., 0., 1., 1., 1., 1., 0.],\n",
       "        [0., 0., 0., 0., 0., 0., 0., 0., 0.],\n",
       "        [0., 0., 0., 0., 0., 0., 0., 0., 0.],\n",
       "        [0., 0., 0., 0., 0., 0., 0., 0., 0.],\n",
       "        [0., 0., 0., 0., 0., 0., 0., 0., 0.],\n",
       "        [0., 0., 0., 0., 0., 0., 0., 0., 0.],\n",
       "        [0., 0., 0., 0., 0., 0., 0., 0., 0.],\n",
       "        [0., 0., 0., 0., 0., 0., 0., 0., 0.],\n",
       "        [0., 0., 0., 0., 0., 0., 0., 0., 0.],\n",
       "        [0., 0., 0., 0., 0., 0., 0., 0., 0.],\n",
       "        [0., 0., 0., 0., 0., 0., 0., 0., 0.],\n",
       "        [0., 0., 0., 0., 0., 0., 0., 0., 0.]])"
      ]
     },
     "execution_count": 84,
     "metadata": {},
     "output_type": "execute_result"
    }
   ],
   "source": [
    "(y_pred_eval > 0.5).type(torch.FloatTensor)"
   ]
  },
  {
   "cell_type": "code",
   "execution_count": 86,
   "metadata": {},
   "outputs": [],
   "source": [
    "torch.save(model, 'C:\\\\Users\\\\David\\\\Desktop\\\\model.pth')"
   ]
  },
  {
   "cell_type": "code",
   "execution_count": null,
   "metadata": {},
   "outputs": [],
   "source": []
  }
 ],
 "metadata": {
  "kernelspec": {
   "display_name": "Python 3",
   "language": "python",
   "name": "python3"
  },
  "language_info": {
   "codemirror_mode": {
    "name": "ipython",
    "version": 3
   },
   "file_extension": ".py",
   "mimetype": "text/x-python",
   "name": "python",
   "nbconvert_exporter": "python",
   "pygments_lexer": "ipython3",
   "version": "3.7.9"
  }
 },
 "nbformat": 4,
 "nbformat_minor": 4
}
