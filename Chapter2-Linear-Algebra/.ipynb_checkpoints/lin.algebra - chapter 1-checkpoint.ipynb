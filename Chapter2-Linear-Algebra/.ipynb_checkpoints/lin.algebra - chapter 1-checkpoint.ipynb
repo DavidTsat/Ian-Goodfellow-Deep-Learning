{
 "cells": [
  {
   "cell_type": "markdown",
   "metadata": {},
   "source": [
    "2.5 Norms"
   ]
  },
  {
   "cell_type": "code",
   "execution_count": 1,
   "metadata": {},
   "outputs": [],
   "source": [
    "import numpy as np\n",
    "from numpy import linalg\n",
    "from numpy.linalg import norm"
   ]
  },
  {
   "cell_type": "code",
   "execution_count": 2,
   "metadata": {},
   "outputs": [],
   "source": [
    "def l_p_norm(vec, p=2):\n",
    "    return np.power(np.power(vec, p).sum(), 1/p)"
   ]
  },
  {
   "cell_type": "code",
   "execution_count": 3,
   "metadata": {},
   "outputs": [
    {
     "data": {
      "text/plain": [
       "5.477225575051661"
      ]
     },
     "execution_count": 3,
     "metadata": {},
     "output_type": "execute_result"
    }
   ],
   "source": [
    "l_p_norm([1,2,3,4])"
   ]
  },
  {
   "cell_type": "code",
   "execution_count": 4,
   "metadata": {},
   "outputs": [
    {
     "data": {
      "text/plain": [
       "5.477225575051661"
      ]
     },
     "execution_count": 4,
     "metadata": {},
     "output_type": "execute_result"
    }
   ],
   "source": [
    "norm([1,2,3,4])"
   ]
  },
  {
   "cell_type": "code",
   "execution_count": 5,
   "metadata": {},
   "outputs": [],
   "source": [
    "def l_1_norm(vec):\n",
    "    return np.sum(np.absolute(vec))"
   ]
  },
  {
   "cell_type": "code",
   "execution_count": 6,
   "metadata": {},
   "outputs": [
    {
     "data": {
      "text/plain": [
       "10"
      ]
     },
     "execution_count": 6,
     "metadata": {},
     "output_type": "execute_result"
    }
   ],
   "source": [
    "l_1_norm([1,2,3,-4])"
   ]
  },
  {
   "cell_type": "code",
   "execution_count": 7,
   "metadata": {},
   "outputs": [],
   "source": [
    "def max_norm(vec):\n",
    "    return np.max(np.absolute(vec))"
   ]
  },
  {
   "cell_type": "code",
   "execution_count": 8,
   "metadata": {},
   "outputs": [
    {
     "data": {
      "text/plain": [
       "4"
      ]
     },
     "execution_count": 8,
     "metadata": {},
     "output_type": "execute_result"
    }
   ],
   "source": [
    "max_norm([1,2,3,-4])"
   ]
  },
  {
   "cell_type": "code",
   "execution_count": 9,
   "metadata": {},
   "outputs": [],
   "source": [
    "def cos_similarity(x, y):\n",
    "    return np.dot(x, y)/(l_p_norm(x) * l_p_norm(y, 2))"
   ]
  },
  {
   "cell_type": "code",
   "execution_count": 10,
   "metadata": {},
   "outputs": [
    {
     "data": {
      "text/plain": [
       "1.0"
      ]
     },
     "execution_count": 10,
     "metadata": {},
     "output_type": "execute_result"
    }
   ],
   "source": [
    "cos_similarity([1,2,3,-4], [1,2,3,-4])"
   ]
  },
  {
   "cell_type": "code",
   "execution_count": 11,
   "metadata": {},
   "outputs": [
    {
     "data": {
      "text/plain": [
       "array([[1.]])"
      ]
     },
     "execution_count": 11,
     "metadata": {},
     "output_type": "execute_result"
    }
   ],
   "source": [
    "from sklearn.metrics.pairwise import cosine_similarity\n",
    "\n",
    "cosine_similarity(np.array([1,2,3,-4]).reshape(1, -1), np.array([1,2,3,-4]).reshape(1, -1))"
   ]
  },
  {
   "cell_type": "code",
   "execution_count": 12,
   "metadata": {},
   "outputs": [
    {
     "data": {
      "text/plain": [
       "0.4780914437337575"
      ]
     },
     "execution_count": 12,
     "metadata": {},
     "output_type": "execute_result"
    }
   ],
   "source": [
    "np.dot([0,2,4,1], [1,2,3,-4])/(norm([0,2,4,1])*norm([1,2,3,-4]))"
   ]
  },
  {
   "cell_type": "code",
   "execution_count": 13,
   "metadata": {},
   "outputs": [
    {
     "data": {
      "text/plain": [
       "0.4780914437337575"
      ]
     },
     "execution_count": 13,
     "metadata": {},
     "output_type": "execute_result"
    }
   ],
   "source": [
    "cos_similarity([0,2,4,1], [1,2,3,-4])"
   ]
  },
  {
   "cell_type": "code",
   "execution_count": 14,
   "metadata": {},
   "outputs": [
    {
     "data": {
      "text/plain": [
       "0.47809144373375756"
      ]
     },
     "execution_count": 14,
     "metadata": {},
     "output_type": "execute_result"
    }
   ],
   "source": [
    "from scipy import spatial\n",
    "1-spatial.distance.cosine([0,2,4,1], [1,2,3,-4])"
   ]
  },
  {
   "cell_type": "code",
   "execution_count": 15,
   "metadata": {},
   "outputs": [],
   "source": [
    "def frobenius_norm(mat):\n",
    "    return l_p_norm(mat, p=2)"
   ]
  },
  {
   "cell_type": "code",
   "execution_count": 16,
   "metadata": {},
   "outputs": [
    {
     "data": {
      "text/plain": [
       "array([[1, 2, 3],\n",
       "       [4, 5, 6]])"
      ]
     },
     "execution_count": 16,
     "metadata": {},
     "output_type": "execute_result"
    }
   ],
   "source": [
    "c = np.array([[1,2,3],[4,5,6]])\n",
    "c"
   ]
  },
  {
   "cell_type": "code",
   "execution_count": 17,
   "metadata": {},
   "outputs": [
    {
     "data": {
      "text/plain": [
       "9.539392014169456"
      ]
     },
     "execution_count": 17,
     "metadata": {},
     "output_type": "execute_result"
    }
   ],
   "source": [
    "frobenius_norm(c)"
   ]
  },
  {
   "cell_type": "code",
   "execution_count": 18,
   "metadata": {},
   "outputs": [
    {
     "data": {
      "text/plain": [
       "9.539392014169456"
      ]
     },
     "execution_count": 18,
     "metadata": {},
     "output_type": "execute_result"
    }
   ],
   "source": [
    "np.sqrt(np.trace(c@c.T))"
   ]
  },
  {
   "cell_type": "code",
   "execution_count": 19,
   "metadata": {},
   "outputs": [
    {
     "data": {
      "text/plain": [
       "9.539392014169456"
      ]
     },
     "execution_count": 19,
     "metadata": {},
     "output_type": "execute_result"
    }
   ],
   "source": [
    "norm(c, 'fro')"
   ]
  },
  {
   "cell_type": "markdown",
   "metadata": {},
   "source": [
    "2.7 Eigendecomposition"
   ]
  },
  {
   "cell_type": "code",
   "execution_count": 20,
   "metadata": {},
   "outputs": [],
   "source": [
    "import matplotlib.pyplot as plt\n",
    "\n",
    "def plot_2d_vecs(vecs, title=None, colors=None, scale_=20):\n",
    "    origin = [0], [0] \n",
    "\n",
    "    plt.quiver(*origin, *[vecs[:,i] for i in range(vecs.shape[1])], color=colors, scale=scale_)\n",
    "    plt.title(title)\n",
    "    plt.xlim(-10, 10)\n",
    "    plt.ylim(-10, 10)\n",
    "    plt.show()"
   ]
  },
  {
   "cell_type": "code",
   "execution_count": 21,
   "metadata": {},
   "outputs": [
    {
     "data": {
      "image/png": "[encoded data removed]",
      "text/plain": [
       "<Figure size 432x288 with 1 Axes>"
      ]
     },
     "metadata": {
      "needs_background": "light"
     },
     "output_type": "display_data"
    }
   ],
   "source": [
    "stacked_vecs = np.array([[1,1],[-2,2]])\n",
    "\n",
    "plot_2d_vecs(stacked_vecs, colors=['r','g'])"
   ]
  },
  {
   "cell_type": "code",
   "execution_count": 22,
   "metadata": {},
   "outputs": [
    {
     "data": {
      "text/plain": [
       "array([[1.03940834, 4.4698908 ],\n",
       "       [1.73766665, 0.57997211]])"
      ]
     },
     "execution_count": 22,
     "metadata": {},
     "output_type": "execute_result"
    }
   ],
   "source": [
    "A = (np.random.rand(2, 2)*5)\n",
    "A"
   ]
  },
  {
   "cell_type": "code",
   "execution_count": 23,
   "metadata": {},
   "outputs": [],
   "source": [
    "x = [2,3]"
   ]
  },
  {
   "cell_type": "code",
   "execution_count": 24,
   "metadata": {},
   "outputs": [
    {
     "data": {
      "text/plain": [
       "array([15.48848907,  5.21524963])"
      ]
     },
     "execution_count": 24,
     "metadata": {},
     "output_type": "execute_result"
    }
   ],
   "source": [
    "A@x"
   ]
  },
  {
   "cell_type": "code",
   "execution_count": 25,
   "metadata": {},
   "outputs": [
    {
     "data": {
      "text/plain": [
       "array([[15.48848907,  2.        ],\n",
       "       [ 5.21524963,  3.        ]])"
      ]
     },
     "execution_count": 25,
     "metadata": {},
     "output_type": "execute_result"
    }
   ],
   "source": [
    "np.stack([A@x, x]).T"
   ]
  },
  {
   "cell_type": "code",
   "execution_count": 26,
   "metadata": {},
   "outputs": [
    {
     "data": {
      "image/png": "[encoded data removed]",
      "text/plain": [
       "<Figure size 432x288 with 1 Axes>"
      ]
     },
     "metadata": {
      "needs_background": "light"
     },
     "output_type": "display_data"
    }
   ],
   "source": [
    "plot_2d_vecs(np.stack([A@x, x]).T, title='Ax - red, x - green', colors=['r','g'], scale_=40)"
   ]
  },
  {
   "cell_type": "code",
   "execution_count": 27,
   "metadata": {},
   "outputs": [
    {
     "data": {
      "text/plain": [
       "(array([ 3.60610768, -1.98672723]), array([[ 0.86719857, -0.82807822],\n",
       "        [ 0.4979625 ,  0.56061257]]))"
      ]
     },
     "execution_count": 27,
     "metadata": {},
     "output_type": "execute_result"
    }
   ],
   "source": [
    "w, v = linalg.eig(A)\n",
    "w, v "
   ]
  },
  {
   "cell_type": "code",
   "execution_count": 28,
   "metadata": {},
   "outputs": [
    {
     "data": {
      "text/plain": [
       "array([0.86719857, 0.4979625 ])"
      ]
     },
     "execution_count": 28,
     "metadata": {},
     "output_type": "execute_result"
    }
   ],
   "source": [
    "v[:,0]"
   ]
  },
  {
   "cell_type": "code",
   "execution_count": 29,
   "metadata": {},
   "outputs": [
    {
     "data": {
      "text/plain": [
       "array([3.1272114 , 1.79570638])"
      ]
     },
     "execution_count": 29,
     "metadata": {},
     "output_type": "execute_result"
    }
   ],
   "source": [
    "A@v[:,0]"
   ]
  },
  {
   "cell_type": "code",
   "execution_count": 30,
   "metadata": {},
   "outputs": [
    {
     "data": {
      "image/png": "[encoded data removed]",
      "text/plain": [
       "<Figure size 432x288 with 1 Axes>"
      ]
     },
     "metadata": {
      "needs_background": "light"
     },
     "output_type": "display_data"
    }
   ],
   "source": [
    "# As we can see the Av only scales the eigenvector v, but doesn't rotate\n",
    "plot_2d_vecs(np.stack([A@(v[:,0]), v[:,0]]).T, title='Ax - red, v - green', colors=['r','g'], scale_=5)"
   ]
  },
  {
   "cell_type": "code",
   "execution_count": 31,
   "metadata": {},
   "outputs": [
    {
     "data": {
      "image/png": "[encoded data removed]",
      "text/plain": [
       "<Figure size 432x288 with 1 Axes>"
      ]
     },
     "metadata": {
      "needs_background": "light"
     },
     "output_type": "display_data"
    }
   ],
   "source": [
    "# As we can see the Av only scales the eigenvector v, but doesn't rotate\n",
    "plot_2d_vecs(np.stack([A@(v[:,1]), v[:,1]]).T, title='Ax - red, v - green', colors=['r','g'], scale_=5)"
   ]
  },
  {
   "cell_type": "code",
   "execution_count": 32,
   "metadata": {},
   "outputs": [
    {
     "data": {
      "text/plain": [
       "array([[1.03940834, 4.4698908 ],\n",
       "       [1.73766665, 0.57997211]])"
      ]
     },
     "execution_count": 32,
     "metadata": {},
     "output_type": "execute_result"
    }
   ],
   "source": [
    "eigvals, eigvecs = linalg.eig(A)\n",
    "lambda_mat = np.diag(eigvals)\n",
    "eigvecs @ lambda_mat @ np.linalg.inv(eigvecs)"
   ]
  },
  {
   "cell_type": "code",
   "execution_count": 33,
   "metadata": {},
   "outputs": [
    {
     "data": {
      "text/plain": [
       "array([[1.03940834, 4.4698908 ],\n",
       "       [1.73766665, 0.57997211]])"
      ]
     },
     "execution_count": 33,
     "metadata": {},
     "output_type": "execute_result"
    }
   ],
   "source": [
    "A"
   ]
  },
  {
   "cell_type": "markdown",
   "metadata": {},
   "source": [
    "Ax = lx                                                                                                                   \n",
    "(A - lI)x = 0                                                                                                            \n",
    "det(A - lI) = 0"
   ]
  },
  {
   "cell_type": "code",
   "execution_count": 34,
   "metadata": {},
   "outputs": [],
   "source": [
    "import sympy \n",
    "from sympy import *\n",
    "\n",
    "def find_eigenvals(mat):\n",
    "    assert mat.shape[0] == mat.shape[1]\n",
    "\n",
    "    l = sympy.symbols('lamda')\n",
    "\n",
    "    M = np.copy(mat) - sympy.diag(*([l]*mat.shape[0]))\n",
    "    det_polynom = M.det()\n",
    "    \n",
    "    eigenvals = solve(det_polynom)\n",
    "    \n",
    "    if (mat == mat.T).all() or np.array([np.abs(im(e)) for e in eigenvals]).sum()/len(eigvals) < 0.1:\n",
    "        return np.array([re(e) for e in eigenvals])\n",
    "    return eigenvals"
   ]
  },
  {
   "cell_type": "code",
   "execution_count": 35,
   "metadata": {},
   "outputs": [],
   "source": [
    "eigenvals = find_eigenvals(A)"
   ]
  },
  {
   "cell_type": "code",
   "execution_count": 36,
   "metadata": {},
   "outputs": [
    {
     "data": {
      "text/plain": [
       "array([-1.98672723106620, 3.60610767709977], dtype=object)"
      ]
     },
     "execution_count": 36,
     "metadata": {},
     "output_type": "execute_result"
    }
   ],
   "source": [
    "eigenvals"
   ]
  },
  {
   "cell_type": "code",
   "execution_count": 37,
   "metadata": {},
   "outputs": [
    {
     "data": {
      "text/plain": [
       "array([ 3.60610768, -1.98672723])"
      ]
     },
     "execution_count": 37,
     "metadata": {},
     "output_type": "execute_result"
    }
   ],
   "source": [
    "np.linalg.eigvals(A)"
   ]
  },
  {
   "cell_type": "code",
   "execution_count": 38,
   "metadata": {},
   "outputs": [],
   "source": [
    "S = np.array([[2,1],[1,2]])"
   ]
  },
  {
   "cell_type": "code",
   "execution_count": 39,
   "metadata": {},
   "outputs": [],
   "source": [
    "eig_vals_S = find_eigenvals(S)"
   ]
  },
  {
   "cell_type": "code",
   "execution_count": 40,
   "metadata": {},
   "outputs": [
    {
     "data": {
      "text/plain": [
       "array([1, 3], dtype=object)"
      ]
     },
     "execution_count": 40,
     "metadata": {},
     "output_type": "execute_result"
    }
   ],
   "source": [
    "eig_vals_S"
   ]
  },
  {
   "cell_type": "code",
   "execution_count": 41,
   "metadata": {},
   "outputs": [
    {
     "data": {
      "text/plain": [
       "array([3., 1.])"
      ]
     },
     "execution_count": 41,
     "metadata": {},
     "output_type": "execute_result"
    }
   ],
   "source": [
    "np.linalg.eigvals(S)"
   ]
  },
  {
   "cell_type": "code",
   "execution_count": 42,
   "metadata": {},
   "outputs": [],
   "source": [
    "# Two checks: \n",
    "# 1. sum of eigvals must be equal to the trace\n",
    "# 2. product of eigvals must be equal to the determinant\n",
    "\n",
    "def check_eigvals(mat, eigvals):\n",
    "    valid = True\n",
    "    if np.trace(mat) == np.sum(eigvals):\n",
    "        print('First check passed: The sum of eigvals is equal to the trace of the matrix.', np.trace(mat))\n",
    "    else:\n",
    "        valid = False\n",
    "        print('First check didn\\'t pass: The sum of eigvals is not equal to the trace of the matrix.', np.trace(mat), np.sum(eig_vals_S))\n",
    "    if np.abs(np.linalg.det(mat) - np.prod(eigvals)) < 0.01:\n",
    "        print('Second check passed: The product of eigvals is equal to the determinant of the matrix.', np.prod(eig_vals_S))\n",
    "    else:\n",
    "        valid = False\n",
    "        print('Second check didn\\'t pass: The product of eigvals is not equal to the determinant of the matrix.', np.prod(eig_vals_S), np.linalg.det(mat))\n",
    "    if valid:\n",
    "        print('Eigenvalues computed correctly')\n",
    "    else:\n",
    "        print('Wrong eigenvalues')"
   ]
  },
  {
   "cell_type": "code",
   "execution_count": 43,
   "metadata": {},
   "outputs": [
    {
     "name": "stdout",
     "output_type": "stream",
     "text": [
      "First check passed: The sum of eigvals is equal to the trace of the matrix. 4\n",
      "Second check passed: The product of eigvals is equal to the determinant of the matrix. 3\n",
      "Eigenvalues computed correctly\n"
     ]
    }
   ],
   "source": [
    "check_eigvals(S, eig_vals_S)"
   ]
  },
  {
   "cell_type": "code",
   "execution_count": 44,
   "metadata": {},
   "outputs": [
    {
     "data": {
      "text/plain": [
       "array([[ 0, -1],\n",
       "       [ 1,  0]])"
      ]
     },
     "execution_count": 44,
     "metadata": {},
     "output_type": "execute_result"
    }
   ],
   "source": [
    "# an example where the eigvals are complex numbers\n",
    "Q = np.array([[0,-1],[1,0]])\n",
    "Q"
   ]
  },
  {
   "cell_type": "code",
   "execution_count": 45,
   "metadata": {},
   "outputs": [
    {
     "data": {
      "text/plain": [
       "[-I, I]"
      ]
     },
     "execution_count": 45,
     "metadata": {},
     "output_type": "execute_result"
    }
   ],
   "source": [
    "find_eigenvals(Q)"
   ]
  },
  {
   "cell_type": "code",
   "execution_count": 46,
   "metadata": {},
   "outputs": [
    {
     "name": "stdout",
     "output_type": "stream",
     "text": [
      "First check passed: The sum of eigvals is equal to the trace of the matrix. 0\n",
      "Second check passed: The product of eigvals is equal to the determinant of the matrix. 3\n",
      "Eigenvalues computed correctly\n"
     ]
    }
   ],
   "source": [
    "check_eigvals(Q, find_eigenvals(Q))"
   ]
  },
  {
   "cell_type": "code",
   "execution_count": 47,
   "metadata": {},
   "outputs": [
    {
     "data": {
      "text/plain": [
       "(array([3., 1.]), array([[ 0.70710678, -0.70710678],\n",
       "        [ 0.70710678,  0.70710678]]))"
      ]
     },
     "execution_count": 47,
     "metadata": {},
     "output_type": "execute_result"
    }
   ],
   "source": [
    "eig_vals_S, V_S = np.linalg.eig(S)\n",
    "eig_vals_S, V_S"
   ]
  },
  {
   "cell_type": "code",
   "execution_count": 48,
   "metadata": {},
   "outputs": [
    {
     "data": {
      "text/plain": [
       "array([[1., 0.],\n",
       "       [0., 1.]])"
      ]
     },
     "execution_count": 48,
     "metadata": {},
     "output_type": "execute_result"
    }
   ],
   "source": [
    "# identity\n",
    "V_S@V_S.T"
   ]
  },
  {
   "cell_type": "code",
   "execution_count": 49,
   "metadata": {},
   "outputs": [
    {
     "data": {
      "text/plain": [
       "(array([ 3.60610768, -1.98672723]), array([[ 0.86719857, -0.82807822],\n",
       "        [ 0.4979625 ,  0.56061257]]))"
      ]
     },
     "execution_count": 49,
     "metadata": {},
     "output_type": "execute_result"
    }
   ],
   "source": [
    "eig_vals_A, V_A = np.linalg.eig(A)\n",
    "eig_vals_A, V_A"
   ]
  },
  {
   "cell_type": "code",
   "execution_count": 50,
   "metadata": {},
   "outputs": [
    {
     "data": {
      "text/plain": [
       "array([[1.03940834, 4.4698908 ],\n",
       "       [1.73766665, 0.57997211]])"
      ]
     },
     "execution_count": 50,
     "metadata": {},
     "output_type": "execute_result"
    }
   ],
   "source": [
    "A"
   ]
  },
  {
   "cell_type": "code",
   "execution_count": 51,
   "metadata": {},
   "outputs": [
    {
     "data": {
      "text/plain": [
       "array([[ 1.4377469, -0.0323987],\n",
       "       [-0.0323987,  0.5622531]])"
      ]
     },
     "execution_count": 51,
     "metadata": {},
     "output_type": "execute_result"
    }
   ],
   "source": [
    "# not orthonormal columns in V_A\n",
    "V_A@V_A.T"
   ]
  },
  {
   "cell_type": "code",
   "execution_count": 52,
   "metadata": {},
   "outputs": [
    {
     "data": {
      "text/plain": [
       "(array([0.+1.j, 0.-1.j]),\n",
       " array([[0.70710678+0.j        , 0.70710678-0.j        ],\n",
       "        [0.        -0.70710678j, 0.        +0.70710678j]]))"
      ]
     },
     "execution_count": 52,
     "metadata": {},
     "output_type": "execute_result"
    }
   ],
   "source": [
    "eig_vals_Q, V_Q = np.linalg.eig(Q)\n",
    "eig_vals_Q, V_Q"
   ]
  },
  {
   "cell_type": "code",
   "execution_count": 53,
   "metadata": {},
   "outputs": [
    {
     "data": {
      "text/plain": [
       "array([[ 1.+0.00000000e+00j,  0.+2.23711432e-17j],\n",
       "       [ 0.+2.23711432e-17j, -1.+0.00000000e+00j]])"
      ]
     },
     "execution_count": 53,
     "metadata": {},
     "output_type": "execute_result"
    }
   ],
   "source": [
    "V_Q@V_Q.T"
   ]
  },
  {
   "cell_type": "code",
   "execution_count": 54,
   "metadata": {},
   "outputs": [],
   "source": [
    "# Similar Matrices have the same eigvals\n",
    "\n",
    "A = (np.random.rand(3, 3)*5).round()\n",
    "B = (np.random.rand(3, 3)*5).round()\n",
    "\n",
    "sim_to_A = B@A@linalg.inv(B)"
   ]
  },
  {
   "cell_type": "code",
   "execution_count": 55,
   "metadata": {},
   "outputs": [
    {
     "data": {
      "text/plain": [
       "array([[1., 2., 3.],\n",
       "       [3., 1., 0.],\n",
       "       [1., 1., 3.]])"
      ]
     },
     "execution_count": 55,
     "metadata": {},
     "output_type": "execute_result"
    }
   ],
   "source": [
    "A"
   ]
  },
  {
   "cell_type": "code",
   "execution_count": 56,
   "metadata": {},
   "outputs": [
    {
     "data": {
      "text/plain": [
       "array([[ 2.25  ,  0.125 ,  2.9375],\n",
       "       [ 8.    , -5.5   , 11.75  ],\n",
       "       [ 5.    , -4.5   ,  8.25  ]])"
      ]
     },
     "execution_count": 56,
     "metadata": {},
     "output_type": "execute_result"
    }
   ],
   "source": [
    "sim_to_A"
   ]
  },
  {
   "cell_type": "code",
   "execution_count": 57,
   "metadata": {},
   "outputs": [
    {
     "data": {
      "text/plain": [
       "array([-1.35746253689877, 1.31477975259916, 5.04268278429961],\n",
       "      dtype=object)"
      ]
     },
     "execution_count": 57,
     "metadata": {},
     "output_type": "execute_result"
    }
   ],
   "source": [
    "find_eigenvals(A)"
   ]
  },
  {
   "cell_type": "code",
   "execution_count": 58,
   "metadata": {},
   "outputs": [
    {
     "data": {
      "text/plain": [
       "array([-1.35746253689877, 1.31477975259916, 5.04268278429961],\n",
       "      dtype=object)"
      ]
     },
     "execution_count": 58,
     "metadata": {},
     "output_type": "execute_result"
    }
   ],
   "source": [
    "find_eigenvals(sim_to_A)"
   ]
  },
  {
   "cell_type": "code",
   "execution_count": 60,
   "metadata": {},
   "outputs": [
    {
     "data": {
      "text/plain": [
       "(array([0.765899517791250, 6.55602679086579, 28.6780736913430],\n",
       "       dtype=object),\n",
       " array([0.765899517791250, 6.55602679086579, 28.6780736913430],\n",
       "       dtype=object))"
      ]
     },
     "execution_count": 60,
     "metadata": {},
     "output_type": "execute_result"
    }
   ],
   "source": [
    "# A@B  and B@A have the same nonzero eigvalues\n",
    "find_eigenvals(A@B), find_eigenvals(B@A)"
   ]
  },
  {
   "cell_type": "code",
   "execution_count": 61,
   "metadata": {},
   "outputs": [],
   "source": [
    "# symmetric positive definite\n",
    "def check_SPD(mat):\n",
    "    if not (mat == mat.T).all():\n",
    "        print ('Not a symmetric matrix')\n",
    "        return False\n",
    "    \n",
    "    # first check by eigenvals\n",
    "    eig_v = find_eigenvals(mat)\n",
    "    firt_check_res =  all(np.array(eig_v) > 0)\n",
    "    return firt_check_res\n",
    "    # second check - x.T@mat@x > 0 for all x\n",
    "    # third check  - all leading determinants are > 0\n",
    "    # forth check  - all pivots in elimination are > 0"
   ]
  },
  {
   "cell_type": "code",
   "execution_count": 62,
   "metadata": {},
   "outputs": [
    {
     "data": {
      "text/plain": [
       "True"
      ]
     },
     "execution_count": 62,
     "metadata": {},
     "output_type": "execute_result"
    }
   ],
   "source": [
    "check_SPD(S)"
   ]
  },
  {
   "cell_type": "code",
   "execution_count": 63,
   "metadata": {},
   "outputs": [
    {
     "name": "stdout",
     "output_type": "stream",
     "text": [
      "Not a symmetric matrix\n"
     ]
    },
    {
     "data": {
      "text/plain": [
       "False"
      ]
     },
     "execution_count": 63,
     "metadata": {},
     "output_type": "execute_result"
    }
   ],
   "source": [
    "check_SPD(A)"
   ]
  },
  {
   "cell_type": "code",
   "execution_count": 64,
   "metadata": {},
   "outputs": [
    {
     "name": "stdout",
     "output_type": "stream",
     "text": [
      "Not a symmetric matrix\n"
     ]
    },
    {
     "data": {
      "text/plain": [
       "False"
      ]
     },
     "execution_count": 64,
     "metadata": {},
     "output_type": "execute_result"
    }
   ],
   "source": [
    "check_SPD(Q)"
   ]
  },
  {
   "cell_type": "code",
   "execution_count": 65,
   "metadata": {},
   "outputs": [
    {
     "data": {
      "text/plain": [
       "(array([5., 5.]), array([[ 1.00000000e+00, -1.00000000e+00],\n",
       "        [ 0.00000000e+00,  1.11022302e-15]]))"
      ]
     },
     "execution_count": 65,
     "metadata": {},
     "output_type": "execute_result"
    }
   ],
   "source": [
    "np.linalg.eig(np.array([[5,1],[0,5]]))"
   ]
  },
  {
   "cell_type": "markdown",
   "metadata": {},
   "source": [
    "2.8 Singular Value Decomposition"
   ]
  },
  {
   "cell_type": "code",
   "execution_count": 66,
   "metadata": {},
   "outputs": [],
   "source": [
    "# Au = cv          \n",
    "# A = U@E@V.T\n",
    "# A.T@A = V@E.T@U.T@U@E@V.T = V@E.T@E@V.T\n",
    "# A@A.T = U@E@V.T@V@E.T@U.T = U@E@E.T@U.T \n",
    "# => U - eigenvectors of A@A.T\n",
    "# => V - eigenvectors of A.T@A\n",
    "# => E - sqrt(eigenvalues of A.T@A or A@A.T)"
   ]
  },
  {
   "cell_type": "code",
   "execution_count": 67,
   "metadata": {},
   "outputs": [],
   "source": [
    "def find_sing_vals(mat):\n",
    "    return np.sqrt(np.array(find_eigenvals(mat@mat.T), dtype=float))"
   ]
  },
  {
   "cell_type": "code",
   "execution_count": 68,
   "metadata": {},
   "outputs": [
    {
     "data": {
      "text/plain": [
       "array([0.394448724536011, 7.60555127546399, 27.0000000000000],\n",
       "      dtype=object)"
      ]
     },
     "execution_count": 68,
     "metadata": {},
     "output_type": "execute_result"
    }
   ],
   "source": [
    "np.array(find_eigenvals(A@A.T))"
   ]
  },
  {
   "cell_type": "code",
   "execution_count": 69,
   "metadata": {},
   "outputs": [
    {
     "data": {
      "text/plain": [
       "(array([27.        ,  0.39444872,  7.60555128]),\n",
       " array([[-0.70436073, -0.66902022,  0.23725074],\n",
       "        [-0.35218036,  0.03917067, -0.93511211],\n",
       "        [-0.61631563,  0.74221129,  0.26320607]]))"
      ]
     },
     "execution_count": 69,
     "metadata": {},
     "output_type": "execute_result"
    }
   ],
   "source": [
    "np.linalg.eig(A@A.T)"
   ]
  },
  {
   "cell_type": "code",
   "execution_count": 70,
   "metadata": {},
   "outputs": [],
   "source": [
    "sing_vals_A = find_sing_vals(A)"
   ]
  },
  {
   "cell_type": "code",
   "execution_count": 71,
   "metadata": {},
   "outputs": [],
   "source": [
    "U, E, V = np.linalg.svd(A)"
   ]
  },
  {
   "cell_type": "code",
   "execution_count": 72,
   "metadata": {},
   "outputs": [
    {
     "data": {
      "text/plain": [
       "array([0.62805153, 2.7578164 , 5.19615242])"
      ]
     },
     "execution_count": 72,
     "metadata": {},
     "output_type": "execute_result"
    }
   ],
   "source": [
    "np.sort(E)"
   ]
  },
  {
   "cell_type": "code",
   "execution_count": 73,
   "metadata": {},
   "outputs": [
    {
     "data": {
      "text/plain": [
       "array([0.62805153, 2.7578164 , 5.19615242])"
      ]
     },
     "execution_count": 73,
     "metadata": {},
     "output_type": "execute_result"
    }
   ],
   "source": [
    "np.sort(sing_vals_A)"
   ]
  },
  {
   "cell_type": "code",
   "execution_count": 74,
   "metadata": {},
   "outputs": [
    {
     "data": {
      "text/plain": [
       "array([[ 1.,  2.,  3.],\n",
       "       [ 3.,  1., -0.],\n",
       "       [ 1.,  1.,  3.]])"
      ]
     },
     "execution_count": 74,
     "metadata": {},
     "output_type": "execute_result"
    }
   ],
   "source": [
    "(U@np.diag(E)@V).round()"
   ]
  },
  {
   "cell_type": "code",
   "execution_count": 75,
   "metadata": {},
   "outputs": [
    {
     "data": {
      "text/plain": [
       "array([[1., 2., 3.],\n",
       "       [3., 1., 0.],\n",
       "       [1., 1., 3.]])"
      ]
     },
     "execution_count": 75,
     "metadata": {},
     "output_type": "execute_result"
    }
   ],
   "source": [
    "A"
   ]
  },
  {
   "cell_type": "code",
   "execution_count": 82,
   "metadata": {},
   "outputs": [],
   "source": [
    "def svd_wrapper(mat):\n",
    "    A_tA = np.matmul(mat, mat.T)\n",
    "    AA_t = np.matmul(mat.T, mat)\n",
    "    E_1, U = linalg.eig(A_tA)\n",
    "    E_2, V = linalg.eig(AA_t)\n",
    "#     assert np.allclose((U@U.T), np.eye((U@U.T).shape[0]))\n",
    "#     assert np.allclose((V@V.T), np.eye((V@V.T).shape[0]))\n",
    "#     assert np.allclose(np.sqrt(E_1), np.sqrt(E_2))\n",
    "    \n",
    "    return U, np.sqrt(E_1), V.T"
   ]
  },
  {
   "cell_type": "code",
   "execution_count": 83,
   "metadata": {},
   "outputs": [
    {
     "data": {
      "text/plain": [
       "(array([[-0.70436073, -0.66902022,  0.23725074],\n",
       "        [-0.35218036,  0.03917067, -0.93511211],\n",
       "        [-0.61631563,  0.74221129,  0.26320607]]),\n",
       " array([5.19615242, 0.62805153, 2.7578164 ]),\n",
       " array([[-0.45749571, -0.45749571, -0.76249285],\n",
       "        [-0.83576249, -0.07158002,  0.54440551],\n",
       "        [ 0.30364244, -0.88632611,  0.3496102 ]]))"
      ]
     },
     "execution_count": 83,
     "metadata": {},
     "output_type": "execute_result"
    }
   ],
   "source": [
    "svd_wrapper(A)"
   ]
  },
  {
   "cell_type": "code",
   "execution_count": 85,
   "metadata": {},
   "outputs": [
    {
     "data": {
      "text/plain": [
       "(array([[-0.70436073,  0.23725074, -0.66902022],\n",
       "        [-0.35218036, -0.93511211,  0.03917067],\n",
       "        [-0.61631563,  0.26320607,  0.74221129]]),\n",
       " array([5.19615242, 2.7578164 , 0.62805153]),\n",
       " array([[-0.45749571, -0.45749571, -0.76249285],\n",
       "        [-0.83576249, -0.07158002,  0.54440551],\n",
       "        [ 0.30364244, -0.88632611,  0.3496102 ]]))"
      ]
     },
     "execution_count": 85,
     "metadata": {},
     "output_type": "execute_result"
    }
   ],
   "source": [
    "# difference only is the sign of the eigenvecs\n",
    "np.linalg.svd(A)"
   ]
  },
  {
   "cell_type": "code",
   "execution_count": 86,
   "metadata": {},
   "outputs": [],
   "source": [
    "# As we see for a symmetric positive definite matrix The SVD decomposition and eigendecomposition is the same"
   ]
  },
  {
   "cell_type": "code",
   "execution_count": 87,
   "metadata": {},
   "outputs": [
    {
     "data": {
      "text/plain": [
       "(array([[ 0.70710678, -0.70710678],\n",
       "        [ 0.70710678,  0.70710678]]),\n",
       " array([3., 1.]),\n",
       " array([[ 0.70710678,  0.70710678],\n",
       "        [-0.70710678,  0.70710678]]))"
      ]
     },
     "execution_count": 87,
     "metadata": {},
     "output_type": "execute_result"
    }
   ],
   "source": [
    "svd_wrapper(S)"
   ]
  },
  {
   "cell_type": "code",
   "execution_count": 88,
   "metadata": {},
   "outputs": [
    {
     "data": {
      "text/plain": [
       "(array([[-0.70710678, -0.70710678],\n",
       "        [-0.70710678,  0.70710678]]),\n",
       " array([3., 1.]),\n",
       " array([[-0.70710678, -0.70710678],\n",
       "        [-0.70710678,  0.70710678]]))"
      ]
     },
     "execution_count": 88,
     "metadata": {},
     "output_type": "execute_result"
    }
   ],
   "source": [
    "np.linalg.svd(S)"
   ]
  },
  {
   "cell_type": "code",
   "execution_count": 89,
   "metadata": {},
   "outputs": [
    {
     "data": {
      "text/plain": [
       "(array([3., 1.]), array([[ 0.70710678, -0.70710678],\n",
       "        [ 0.70710678,  0.70710678]]))"
      ]
     },
     "execution_count": 89,
     "metadata": {},
     "output_type": "execute_result"
    }
   ],
   "source": [
    "np.linalg.eig(S)"
   ]
  },
  {
   "cell_type": "code",
   "execution_count": 90,
   "metadata": {},
   "outputs": [
    {
     "data": {
      "text/plain": [
       "array([[25, 20],\n",
       "       [20, 25]])"
      ]
     },
     "execution_count": 90,
     "metadata": {},
     "output_type": "execute_result"
    }
   ],
   "source": [
    "C = np.array([[25,20], [20, 25]])\n",
    "C"
   ]
  },
  {
   "cell_type": "code",
   "execution_count": 91,
   "metadata": {},
   "outputs": [
    {
     "data": {
      "text/plain": [
       "(array([[ 0.70710678, -0.70710678],\n",
       "        [ 0.70710678,  0.70710678]]),\n",
       " array([45.,  5.]),\n",
       " array([[ 0.70710678,  0.70710678],\n",
       "        [-0.70710678,  0.70710678]]))"
      ]
     },
     "execution_count": 91,
     "metadata": {},
     "output_type": "execute_result"
    }
   ],
   "source": [
    "svd_wrapper(C)"
   ]
  },
  {
   "cell_type": "code",
   "execution_count": 92,
   "metadata": {},
   "outputs": [
    {
     "data": {
      "text/plain": [
       "(array([[-0.70710678, -0.70710678],\n",
       "        [-0.70710678,  0.70710678]]),\n",
       " array([45.,  5.]),\n",
       " array([[-0.70710678, -0.70710678],\n",
       "        [-0.70710678,  0.70710678]]))"
      ]
     },
     "execution_count": 92,
     "metadata": {},
     "output_type": "execute_result"
    }
   ],
   "source": [
    "np.linalg.svd(C)"
   ]
  },
  {
   "cell_type": "code",
   "execution_count": 93,
   "metadata": {},
   "outputs": [],
   "source": [
    "# For orthogonal matrices all the singular values are 1\n",
    "# because\n",
    "# A.T@A = Q.T@Q = I. E = I"
   ]
  },
  {
   "cell_type": "code",
   "execution_count": 94,
   "metadata": {},
   "outputs": [
    {
     "data": {
      "text/plain": [
       "array([[ 0, -1],\n",
       "       [ 1,  0]])"
      ]
     },
     "execution_count": 94,
     "metadata": {},
     "output_type": "execute_result"
    }
   ],
   "source": [
    "Q"
   ]
  },
  {
   "cell_type": "code",
   "execution_count": 95,
   "metadata": {},
   "outputs": [
    {
     "data": {
      "text/plain": [
       "array([[1, 0],\n",
       "       [0, 1]])"
      ]
     },
     "execution_count": 95,
     "metadata": {},
     "output_type": "execute_result"
    }
   ],
   "source": [
    "Q@Q.T"
   ]
  },
  {
   "cell_type": "code",
   "execution_count": 96,
   "metadata": {},
   "outputs": [
    {
     "data": {
      "text/plain": [
       "(array([[1., 0.],\n",
       "        [0., 1.]]), array([1., 1.]), array([[1., 0.],\n",
       "        [0., 1.]]))"
      ]
     },
     "execution_count": 96,
     "metadata": {},
     "output_type": "execute_result"
    }
   ],
   "source": [
    "svd_wrapper(Q)"
   ]
  },
  {
   "cell_type": "code",
   "execution_count": 97,
   "metadata": {},
   "outputs": [
    {
     "data": {
      "text/plain": [
       "(array([[ 0., -1.],\n",
       "        [-1.,  0.]]), array([1., 1.]), array([[-1., -0.],\n",
       "        [ 0.,  1.]]))"
      ]
     },
     "execution_count": 97,
     "metadata": {},
     "output_type": "execute_result"
    }
   ],
   "source": [
    "np.linalg.svd(Q)"
   ]
  },
  {
   "cell_type": "code",
   "execution_count": 98,
   "metadata": {},
   "outputs": [],
   "source": [
    "# The geometry of SVD"
   ]
  },
  {
   "cell_type": "code",
   "execution_count": 99,
   "metadata": {},
   "outputs": [],
   "source": [
    "U, E, V = svd_wrapper(C)"
   ]
  },
  {
   "cell_type": "code",
   "execution_count": 100,
   "metadata": {},
   "outputs": [
    {
     "data": {
      "text/plain": [
       "array([0.03768658, 4.48544416])"
      ]
     },
     "execution_count": 100,
     "metadata": {},
     "output_type": "execute_result"
    }
   ],
   "source": [
    "x = (np.random.rand(2)*5)\n",
    "x"
   ]
  },
  {
   "cell_type": "code",
   "execution_count": 101,
   "metadata": {},
   "outputs": [
    {
     "data": {
      "image/png": "[encoded data removed]",
      "text/plain": [
       "<Figure size 432x288 with 1 Axes>"
      ]
     },
     "metadata": {
      "needs_background": "light"
     },
     "output_type": "display_data"
    }
   ],
   "source": [
    "# stacked_vecs = np.array([[1,1],[-2,2]])\n",
    "\n",
    "plot_2d_vecs(np.array([C@x, x]), colors=['r', 'g'], scale_=50)"
   ]
  },
  {
   "cell_type": "code",
   "execution_count": 102,
   "metadata": {},
   "outputs": [
    {
     "data": {
      "image/png": "[encoded data removed]",
      "text/plain": [
       "<Figure size 432x288 with 1 Axes>"
      ]
     },
     "metadata": {
      "needs_background": "light"
     },
     "output_type": "display_data"
    }
   ],
   "source": [
    "plot_2d_vecs(np.array([U@np.diag(E)@V@x,np.diag(E)@V@x, V@x, x]), \\\n",
    "             title='original x - green. cyan - only rotate: V.T@x. b - stretch: E@V.T@x. Red - rotate: U@E@V.T@x. \\\n",
    "             Final result - red.', colors=['r', 'b', 'c', 'g'], scale_=50)"
   ]
  },
  {
   "cell_type": "code",
   "execution_count": 103,
   "metadata": {},
   "outputs": [
    {
     "data": {
      "text/plain": [
       "array([[9.06510477e+01, 1.12889836e+02],\n",
       "       [1.43925139e+02, 1.57251977e+01],\n",
       "       [3.19833642e+00, 3.14503954e+00],\n",
       "       [3.76865814e-02, 4.48544416e+00]])"
      ]
     },
     "execution_count": 103,
     "metadata": {},
     "output_type": "execute_result"
    }
   ],
   "source": [
    "np.array([U@np.diag(E)@V@x, np.diag(E)@V@x, V@x, x])"
   ]
  },
  {
   "cell_type": "code",
   "execution_count": 104,
   "metadata": {},
   "outputs": [
    {
     "data": {
      "text/plain": [
       "array([ 90.65104772, 112.8898356 ])"
      ]
     },
     "execution_count": 104,
     "metadata": {},
     "output_type": "execute_result"
    }
   ],
   "source": [
    "C@x"
   ]
  },
  {
   "cell_type": "code",
   "execution_count": 105,
   "metadata": {},
   "outputs": [],
   "source": [
    "def pseudo_inverse(mat):\n",
    "    # A_pseudo = V@E^(-1)@U.T\n",
    "    U_, E_, V_ = svd_wrapper(mat)\n",
    "#     (linalg.svd(A)[2].T@linalg.inv(np.diag(E_))@linalg.svd(A)[0].T).round(1)\n",
    "    return V_.T@linalg.inv(np.diag(E_))@U_.T"
   ]
  },
  {
   "cell_type": "code",
   "execution_count": 106,
   "metadata": {},
   "outputs": [
    {
     "data": {
      "text/plain": [
       "array([[ 0.97841786, -0.12407572, -0.90443429],\n",
       "       [ 0.0620155 ,  0.32707621, -0.11491841],\n",
       "       [-0.44648224, -0.0329114 ,  0.76716717]])"
      ]
     },
     "execution_count": 106,
     "metadata": {},
     "output_type": "execute_result"
    }
   ],
   "source": [
    "pseudo_inverse(A)"
   ]
  },
  {
   "cell_type": "code",
   "execution_count": 107,
   "metadata": {},
   "outputs": [
    {
     "data": {
      "text/plain": [
       "array([[ 0.66666667, -0.33333333],\n",
       "       [-0.33333333,  0.66666667]])"
      ]
     },
     "execution_count": 107,
     "metadata": {},
     "output_type": "execute_result"
    }
   ],
   "source": [
    "pseudo_inverse(S)"
   ]
  },
  {
   "cell_type": "code",
   "execution_count": 108,
   "metadata": {},
   "outputs": [
    {
     "data": {
      "text/plain": [
       "array([[1., 0., 0., 0., 0., 0., 0., 0., 0., 0.],\n",
       "       [0., 1., 0., 0., 0., 0., 0., 0., 0., 0.],\n",
       "       [0., 0., 1., 0., 0., 0., 0., 0., 0., 0.],\n",
       "       [0., 0., 0., 1., 0., 0., 0., 0., 0., 0.],\n",
       "       [0., 0., 0., 0., 1., 0., 0., 0., 0., 0.],\n",
       "       [0., 0., 0., 0., 0., 1., 0., 0., 0., 0.],\n",
       "       [0., 0., 0., 0., 0., 0., 1., 0., 0., 0.],\n",
       "       [0., 0., 0., 0., 0., 0., 0., 1., 0., 0.],\n",
       "       [0., 0., 0., 0., 0., 0., 0., 0., 1., 0.],\n",
       "       [0., 0., 0., 0., 0., 0., 0., 0., 0., 1.]])"
      ]
     },
     "execution_count": 108,
     "metadata": {},
     "output_type": "execute_result"
    }
   ],
   "source": [
    "pseudo_inverse(np.eye(10))"
   ]
  },
  {
   "cell_type": "code",
   "execution_count": 109,
   "metadata": {},
   "outputs": [
    {
     "data": {
      "text/plain": [
       "(array([[-0.70436073, -0.66902022,  0.23725074],\n",
       "        [-0.35218036,  0.03917067, -0.93511211],\n",
       "        [-0.61631563,  0.74221129,  0.26320607]]),\n",
       " array([5.19615242, 0.62805153, 2.7578164 ]),\n",
       " array([[-0.45749571, -0.45749571, -0.76249285],\n",
       "        [-0.83576249, -0.07158002,  0.54440551],\n",
       "        [ 0.30364244, -0.88632611,  0.3496102 ]]))"
      ]
     },
     "execution_count": 109,
     "metadata": {},
     "output_type": "execute_result"
    }
   ],
   "source": [
    "svd_wrapper(A)"
   ]
  },
  {
   "cell_type": "code",
   "execution_count": 110,
   "metadata": {},
   "outputs": [
    {
     "data": {
      "text/plain": [
       "array([[ 0.5, -0.2,  0.6],\n",
       "       [ 0. ,  0.2,  0.1],\n",
       "       [ 0.4, -0. ,  1.4]])"
      ]
     },
     "execution_count": 110,
     "metadata": {},
     "output_type": "execute_result"
    }
   ],
   "source": [
    "U_, E_, V_ = svd_wrapper(A)\n",
    "(V_@linalg.inv(np.diag(E_))@U_).round(1)"
   ]
  },
  {
   "cell_type": "markdown",
   "metadata": {},
   "source": [
    "2.12 Principal Components Analysis"
   ]
  },
  {
   "cell_type": "code",
   "execution_count": 134,
   "metadata": {},
   "outputs": [],
   "source": [
    "n = 50\n",
    "x = np.arange(-n/2, n/2, 1, dtype=np.float64)\n",
    "\n",
    "m = np.random.uniform(0.3, 0.8, (n,))\n",
    "b = np.random.uniform(5, 10, (n,))\n",
    "\n",
    "y = x*m + b "
   ]
  },
  {
   "cell_type": "code",
   "execution_count": 135,
   "metadata": {},
   "outputs": [],
   "source": [
    "A = np.stack([x,y])"
   ]
  },
  {
   "cell_type": "code",
   "execution_count": 136,
   "metadata": {},
   "outputs": [
    {
     "data": {
      "text/plain": [
       "array([-0.5       ,  6.94055256])"
      ]
     },
     "execution_count": 136,
     "metadata": {},
     "output_type": "execute_result"
    }
   ],
   "source": [
    "A.mean(1)"
   ]
  },
  {
   "cell_type": "code",
   "execution_count": 137,
   "metadata": {},
   "outputs": [],
   "source": [
    "A[0,:] = A[0,:] - A.mean(1)[0]\n",
    "A[1,:] = A[1,:] - A.mean(1)[1]"
   ]
  },
  {
   "cell_type": "code",
   "execution_count": 138,
   "metadata": {},
   "outputs": [
    {
     "data": {
      "text/plain": [
       "<matplotlib.collections.PathCollection at 0x1b00f9237b8>"
      ]
     },
     "execution_count": 138,
     "metadata": {},
     "output_type": "execute_result"
    },
    {
     "data": {
      "image/png": "[encoded data removed]",
      "text/plain": [
       "<Figure size 432x288 with 1 Axes>"
      ]
     },
     "metadata": {
      "needs_background": "light"
     },
     "output_type": "display_data"
    }
   ],
   "source": [
    "plt.scatter(A[0,:], A[1,:], s=None, marker='o', color='g', edgecolors='g', alpha=0.9)"
   ]
  },
  {
   "cell_type": "code",
   "execution_count": 139,
   "metadata": {},
   "outputs": [],
   "source": [
    "U, E, V_T = svd_wrapper(A)"
   ]
  },
  {
   "cell_type": "code",
   "execution_count": 140,
   "metadata": {},
   "outputs": [],
   "source": [
    "cov_mat_A = A@A.T/A.shape[1]"
   ]
  },
  {
   "cell_type": "code",
   "execution_count": 141,
   "metadata": {},
   "outputs": [
    {
     "data": {
      "text/plain": [
       "array([[208.25      , 116.65216606],\n",
       "       [116.65216606,  73.38685886]])"
      ]
     },
     "execution_count": 141,
     "metadata": {},
     "output_type": "execute_result"
    }
   ],
   "source": [
    "cov_mat_A"
   ]
  },
  {
   "cell_type": "code",
   "execution_count": 142,
   "metadata": {},
   "outputs": [],
   "source": [
    "# The problem states:\n",
    "# Find an orthogonal P such that:\n",
    "# Y = PA and cov_mat_Y - is a diagonal matrix (high variance and low covariance)\n",
    "# cov_mat_A = U@E^(2)@U.T = QLQ.T\n",
    "# the principal components of A are the columns Q (eigenvectors of the cov. matrix AA.T)"
   ]
  },
  {
   "cell_type": "code",
   "execution_count": 143,
   "metadata": {},
   "outputs": [
    {
     "data": {
      "text/plain": [
       "array([0.8661578 , 0.49977062])"
      ]
     },
     "execution_count": 143,
     "metadata": {},
     "output_type": "execute_result"
    }
   ],
   "source": [
    "U[:,0] # the same first principal component"
   ]
  },
  {
   "cell_type": "code",
   "execution_count": 144,
   "metadata": {},
   "outputs": [
    {
     "data": {
      "text/plain": [
       "array([0.8661578 , 0.49977062])"
      ]
     },
     "execution_count": 144,
     "metadata": {},
     "output_type": "execute_result"
    }
   ],
   "source": [
    "first_princ_comp = linalg.eig(cov_mat_A)[1][:,0]\n",
    "first_princ_comp"
   ]
  },
  {
   "cell_type": "code",
   "execution_count": 145,
   "metadata": {},
   "outputs": [
    {
     "data": {
      "text/plain": [
       "array([[ 0.8661578 , -0.49977062],\n",
       "       [ 0.49977062,  0.8661578 ]])"
      ]
     },
     "execution_count": 145,
     "metadata": {},
     "output_type": "execute_result"
    }
   ],
   "source": [
    "linalg.eig(cov_mat_A)[1]"
   ]
  },
  {
   "cell_type": "code",
   "execution_count": 146,
   "metadata": {},
   "outputs": [
    {
     "data": {
      "text/plain": [
       "array([-0.49977062,  0.8661578 ])"
      ]
     },
     "execution_count": 146,
     "metadata": {},
     "output_type": "execute_result"
    }
   ],
   "source": [
    "second_princ_comp = U[:,1]\n",
    "second_princ_comp"
   ]
  },
  {
   "cell_type": "code",
   "execution_count": 147,
   "metadata": {},
   "outputs": [
    {
     "data": {
      "text/plain": [
       "-0.0"
      ]
     },
     "execution_count": 147,
     "metadata": {},
     "output_type": "execute_result"
    }
   ],
   "source": [
    "(first_princ_comp@second_princ_comp).round(2)"
   ]
  },
  {
   "cell_type": "code",
   "execution_count": 148,
   "metadata": {},
   "outputs": [
    {
     "data": {
      "text/plain": [
       "LinearRegression(copy_X=True, fit_intercept=True, n_jobs=None,\n",
       "         normalize=False)"
      ]
     },
     "execution_count": 148,
     "metadata": {},
     "output_type": "execute_result"
    }
   ],
   "source": [
    "from sklearn import linear_model\n",
    "\n",
    "reg = linear_model.LinearRegression()\n",
    "reg.fit(A[0, :].reshape(-1, 1), A[1,:].reshape(-1, 1))"
   ]
  },
  {
   "cell_type": "code",
   "execution_count": 149,
   "metadata": {},
   "outputs": [
    {
     "data": {
      "image/png": "[encoded data removed]",
      "text/plain": [
       "<Figure size 432x288 with 1 Axes>"
      ]
     },
     "metadata": {
      "needs_background": "light"
     },
     "output_type": "display_data"
    }
   ],
   "source": [
    "# We can see at the image that\n",
    "# Linear regression line (blue) and and the first principal component line (red) fits the date very well (although they differ: first principal component is the best \"othogonal\" regression)\n",
    "# The two principal components are orthogonal to each other\n",
    "\n",
    "plt.scatter(A[0,:].reshape(-1, 1), A[1,:].reshape(-1, 1),  color='black')\n",
    "plt.plot(A[0,:].reshape(-1, 1), reg.predict(A[0,:].reshape(-1, 1)), color='blue')\n",
    "plt.plot([0, first_princ_comp[0]*30], [0, first_princ_comp[1]*30], '-', color='red')\n",
    "plt.plot([0, second_princ_comp[0]*30], [0, second_princ_comp[1]*30], '-', color='green')\n",
    "plt.show()"
   ]
  },
  {
   "cell_type": "code",
   "execution_count": 151,
   "metadata": {},
   "outputs": [
    {
     "data": {
      "text/plain": [
       "array([[ 0.8661578 , -0.49977062],\n",
       "       [ 0.49977062,  0.8661578 ]])"
      ]
     },
     "execution_count": 151,
     "metadata": {},
     "output_type": "execute_result"
    }
   ],
   "source": [
    "U"
   ]
  },
  {
   "cell_type": "code",
   "execution_count": 152,
   "metadata": {},
   "outputs": [
    {
     "data": {
      "text/plain": [
       "array([117.37929392,  17.43399843])"
      ]
     },
     "execution_count": 152,
     "metadata": {},
     "output_type": "execute_result"
    }
   ],
   "source": [
    "E"
   ]
  },
  {
   "cell_type": "code",
   "execution_count": 153,
   "metadata": {},
   "outputs": [
    {
     "data": {
      "text/plain": [
       "array([[-0.26313763+0.j, -0.22452096+0.j, -0.22945099+0.j, ...,\n",
       "         0.24401545+0.j,  0.22035275+0.j,  0.21225447+0.j],\n",
       "       [ 0.25857186+0.j, -0.07726169+0.j,  0.09503622+0.j, ...,\n",
       "        -0.26498387+0.j,  0.12589906+0.j,  0.33516611+0.j],\n",
       "       [-0.25245722+0.j,  0.28777551+0.j, -0.29911426+0.j, ...,\n",
       "        -0.28179794+0.j, -0.14560202+0.j, -0.01697217+0.j],\n",
       "       ...,\n",
       "       [ 0.00211017+0.j, -0.00229207+0.j, -0.01641167+0.j, ...,\n",
       "         0.00931706+0.j,  0.01409833+0.j, -0.02906312+0.j],\n",
       "       [ 0.00281173+0.j, -0.00181959+0.j,  0.03198594+0.j, ...,\n",
       "         0.00528821+0.j, -0.02752537+0.j,  0.01531056+0.j],\n",
       "       [ 0.00348374+0.j,  0.00175902+0.j,  0.00088112+0.j, ...,\n",
       "         0.00671589+0.j, -0.00472885+0.j,  0.01267281+0.j]])"
      ]
     },
     "execution_count": 153,
     "metadata": {},
     "output_type": "execute_result"
    }
   ],
   "source": [
    "V_T"
   ]
  },
  {
   "cell_type": "code",
   "execution_count": 165,
   "metadata": {},
   "outputs": [],
   "source": [
    "sigma = np.zeros((E.shape[0], V_T.shape[0]))"
   ]
  },
  {
   "cell_type": "code",
   "execution_count": 166,
   "metadata": {},
   "outputs": [],
   "source": [
    "sigma[0,0] = E[0]\n",
    "sigma[1,1] = E[1]"
   ]
  },
  {
   "cell_type": "code",
   "execution_count": 289,
   "metadata": {},
   "outputs": [],
   "source": [
    "# sigma_2 = np.copy(sigma)\n",
    "# sigma_2[1:,:] = 0\n",
    "\n",
    "# U_2 = np.copy(U)\n",
    "# U_2[:,1] = 0\n",
    "\n",
    "# V_T_2 = np.copy(V_T)\n",
    "# V_T_2[1:,:] = 0"
   ]
  },
  {
   "cell_type": "code",
   "execution_count": 298,
   "metadata": {},
   "outputs": [
    {
     "data": {
      "text/plain": [
       "array([[-26.75293671+0.j, -22.82681891+0.j, -23.32805056+0.j,\n",
       "        -20.10823388+0.j, -19.79752306+0.j, -16.20101926+0.j,\n",
       "        -21.15904568+0.j, -18.73338319+0.j, -16.86668688+0.j,\n",
       "        -16.46616693+0.j, -13.74377221+0.j, -12.8175604 +0.j,\n",
       "        -10.82467996+0.j, -12.54333078+0.j,  -9.68840796+0.j,\n",
       "         -8.11092448+0.j,  -8.40658991+0.j,  -8.66734287+0.j,\n",
       "         -5.61309966+0.j,  -4.8575191 +0.j,  -3.81586842+0.j,\n",
       "         -2.19834883+0.j,  -1.82648267+0.j,  -1.29901641+0.j,\n",
       "         -1.07036205+0.j,  -0.36872957+0.j,   1.67393163+0.j,\n",
       "          1.99824592+0.j,   2.66493476+0.j,   4.90944315+0.j,\n",
       "          4.15784918+0.j,   6.34544208+0.j,   8.03795834+0.j,\n",
       "          9.34673808+0.j,   8.6362594 +0.j,  10.46650708+0.j,\n",
       "         10.90556571+0.j,  12.96858453+0.j,  12.72526171+0.j,\n",
       "         14.18237584+0.j,  16.43533985+0.j,  15.69732353+0.j,\n",
       "         17.27955601+0.j,  17.19899212+0.j,  22.01382047+0.j,\n",
       "         21.37681173+0.j,  20.2794156 +0.j,  24.80880452+0.j,\n",
       "         22.40304149+0.j,  21.57969761+0.j],\n",
       "       [-15.43636949+0.j, -13.17101053+0.j, -13.46021978+0.j,\n",
       "        -11.60239458+0.j, -11.42311531+0.j,  -9.3479427 +0.j,\n",
       "        -12.20871005+0.j, -10.80910959+0.j,  -9.73203105+0.j,\n",
       "         -9.50093216+0.j,  -7.93011804+0.j,  -7.39569642+0.j,\n",
       "         -6.24580999+0.j,  -7.2374667 +0.j,  -5.59018424+0.j,\n",
       "         -4.67998069+0.j,  -4.85057881+0.j,  -5.00103254+0.j,\n",
       "         -3.23874277+0.j,  -2.8027749 +0.j,  -2.20174538+0.j,\n",
       "         -1.26844111+0.j,  -1.05387538+0.j,  -0.74952883+0.j,\n",
       "         -0.61759591+0.j,  -0.21275593+0.j,   0.96585386+0.j,\n",
       "          1.15298229+0.j,   1.53765989+0.j,   2.83273494+0.j,\n",
       "          2.39906732+0.j,   3.6613023 +0.j,   4.63787943+0.j,\n",
       "          5.39304167+0.j,   4.98309747+0.j,   6.03914524+0.j,\n",
       "          6.29248084+0.j,   7.48283692+0.j,   7.34244034+0.j,\n",
       "          8.1831911 +0.j,   9.48314502+0.j,   9.05731168+0.j,\n",
       "          9.97025538+0.j,   9.92377024+0.j,  12.70191271+0.j,\n",
       "         12.33436045+0.j,  11.70116596+0.j,  14.31461066+0.j,\n",
       "         12.92649214+0.j,  12.45142503+0.j]])"
      ]
     },
     "execution_count": 298,
     "metadata": {},
     "output_type": "execute_result"
    }
   ],
   "source": [
    "# (U_2@sigma_2@V_T_2)"
   ]
  },
  {
   "cell_type": "code",
   "execution_count": 317,
   "metadata": {},
   "outputs": [],
   "source": [
    "A_rank_one_approx = np.real(sigma[0,0]*(U[:,0].reshape(-1,1)@V_T[0,:].reshape(1,-1))).round(1)"
   ]
  },
  {
   "cell_type": "code",
   "execution_count": 318,
   "metadata": {},
   "outputs": [
    {
     "data": {
      "text/plain": [
       "array([[-26.8, -22.8, -23.3, -20.1, -19.8, -16.2, -21.2, -18.7, -16.9,\n",
       "        -16.5, -13.7, -12.8, -10.8, -12.5,  -9.7,  -8.1,  -8.4,  -8.7,\n",
       "         -5.6,  -4.9,  -3.8,  -2.2,  -1.8,  -1.3,  -1.1,  -0.4,   1.7,\n",
       "          2. ,   2.7,   4.9,   4.2,   6.3,   8. ,   9.3,   8.6,  10.5,\n",
       "         10.9,  13. ,  12.7,  14.2,  16.4,  15.7,  17.3,  17.2,  22. ,\n",
       "         21.4,  20.3,  24.8,  22.4,  21.6],\n",
       "       [-15.4, -13.2, -13.5, -11.6, -11.4,  -9.3, -12.2, -10.8,  -9.7,\n",
       "         -9.5,  -7.9,  -7.4,  -6.2,  -7.2,  -5.6,  -4.7,  -4.9,  -5. ,\n",
       "         -3.2,  -2.8,  -2.2,  -1.3,  -1.1,  -0.7,  -0.6,  -0.2,   1. ,\n",
       "          1.2,   1.5,   2.8,   2.4,   3.7,   4.6,   5.4,   5. ,   6. ,\n",
       "          6.3,   7.5,   7.3,   8.2,   9.5,   9.1,  10. ,   9.9,  12.7,\n",
       "         12.3,  11.7,  14.3,  12.9,  12.5]])"
      ]
     },
     "execution_count": 318,
     "metadata": {},
     "output_type": "execute_result"
    }
   ],
   "source": [
    "A_rank_one_approx"
   ]
  },
  {
   "cell_type": "code",
   "execution_count": 319,
   "metadata": {},
   "outputs": [
    {
     "data": {
      "text/plain": [
       "array([[-24.5       , -23.5       , -22.5       , -21.5       ,\n",
       "        -20.5       , -19.5       , -18.5       , -17.5       ,\n",
       "        -16.5       , -15.5       , -14.5       , -13.5       ,\n",
       "        -12.5       , -11.5       , -10.5       ,  -9.5       ,\n",
       "         -8.5       ,  -7.5       ,  -6.5       ,  -5.5       ,\n",
       "         -4.5       ,  -3.5       ,  -2.5       ,  -1.5       ,\n",
       "         -0.5       ,   0.5       ,   1.5       ,   2.5       ,\n",
       "          3.5       ,   4.5       ,   5.5       ,   6.5       ,\n",
       "          7.5       ,   8.5       ,   9.5       ,  10.5       ,\n",
       "         11.5       ,  12.5       ,  13.5       ,  14.5       ,\n",
       "         15.5       ,  16.5       ,  17.5       ,  18.5       ,\n",
       "         19.5       ,  20.5       ,  21.5       ,  22.5       ,\n",
       "         23.5       ,  24.5       ],\n",
       "       [-19.34095815, -12.0043132 , -14.89532305,  -9.19030987,\n",
       "        -10.20564502,  -3.63044397, -16.8171305 , -12.94669915,\n",
       "        -10.36754   , -11.17540638,  -6.61949159,  -6.21295306,\n",
       "         -3.34229495,  -9.04567442,  -4.18360541,  -2.27255908,\n",
       "         -4.68868879,  -7.02416692,  -1.70164631,  -1.6892844 ,\n",
       "         -1.01606964,   0.98746442,   0.11340468,  -0.40120202,\n",
       "         -1.60609647,  -1.71836043,   1.26729662,   0.28338694,\n",
       "          0.0903994 ,   3.54234523,   0.07297142,   3.39343632,\n",
       "          5.57022077,   6.86053248,   3.48613942,   5.9810983 ,\n",
       "          5.26226043,   8.29494576,   5.99973315,   7.63271328,\n",
       "         11.1041925 ,   7.66618453,   9.58820154,   7.6689796 ,\n",
       "         17.05864179,  13.85397222,   9.58575811,  18.31602441,\n",
       "         11.02534165,   7.39021779]])"
      ]
     },
     "execution_count": 319,
     "metadata": {},
     "output_type": "execute_result"
    }
   ],
   "source": [
    "A"
   ]
  },
  {
   "cell_type": "code",
   "execution_count": 322,
   "metadata": {},
   "outputs": [],
   "source": [
    "# The Eckart-Young theorem says that best rank 1 approximation of A is the A_k (above): the first component of the SVD"
   ]
  },
  {
   "cell_type": "code",
   "execution_count": 323,
   "metadata": {},
   "outputs": [
    {
     "data": {
      "text/plain": [
       "PCA(copy=True, iterated_power='auto', n_components=None, random_state=None,\n",
       "  svd_solver='auto', tol=0.0, whiten=False)"
      ]
     },
     "execution_count": 323,
     "metadata": {},
     "output_type": "execute_result"
    }
   ],
   "source": [
    "from sklearn.decomposition import PCA\n",
    "pca = PCA()\n",
    "pca.fit(A.T)"
   ]
  },
  {
   "cell_type": "code",
   "execution_count": 324,
   "metadata": {},
   "outputs": [],
   "source": [
    "# We see that it's the same as the sklearn's implementation of PCA"
   ]
  },
  {
   "cell_type": "code",
   "execution_count": 325,
   "metadata": {},
   "outputs": [
    {
     "data": {
      "text/plain": [
       "array([[-0.8661578 , -0.49977062],\n",
       "       [-0.49977062,  0.8661578 ]])"
      ]
     },
     "execution_count": 325,
     "metadata": {},
     "output_type": "execute_result"
    }
   ],
   "source": [
    "pca.components_"
   ]
  },
  {
   "cell_type": "code",
   "execution_count": 326,
   "metadata": {},
   "outputs": [
    {
     "data": {
      "text/plain": [
       "array([0.8661578 , 0.49977062])"
      ]
     },
     "execution_count": 326,
     "metadata": {},
     "output_type": "execute_result"
    }
   ],
   "source": [
    "first_princ_comp"
   ]
  },
  {
   "cell_type": "code",
   "execution_count": 327,
   "metadata": {},
   "outputs": [
    {
     "data": {
      "text/plain": [
       "array([-0.49977062,  0.8661578 ])"
      ]
     },
     "execution_count": 327,
     "metadata": {},
     "output_type": "execute_result"
    }
   ],
   "source": [
    "second_princ_comp"
   ]
  },
  {
   "cell_type": "markdown",
   "metadata": {},
   "source": [
    "Matrix Norms (revisited)"
   ]
  },
  {
   "cell_type": "code",
   "execution_count": 347,
   "metadata": {},
   "outputs": [],
   "source": [
    "# spectral norm max||Ax||/||x|| = sigma[0]\n",
    "def spec_norm(mat):\n",
    "    return np.sort(find_sing_vals(mat))[-1]"
   ]
  },
  {
   "cell_type": "code",
   "execution_count": 348,
   "metadata": {},
   "outputs": [
    {
     "data": {
      "text/plain": [
       "(117.37929392215581, 117.37929392215582)"
      ]
     },
     "execution_count": 348,
     "metadata": {},
     "output_type": "execute_result"
    }
   ],
   "source": [
    "spec_norm(A), linalg.norm(A, 2)"
   ]
  },
  {
   "cell_type": "markdown",
   "metadata": {},
   "source": [
    "{\\displaystyle \\|A\\|_{\\text{F}}={\\sqrt {\\sum _{i=1}^{m}\\sum _{j=1}^{n}|a_{ij}|^{2}}}={\\sqrt {\\operatorname {trace} \\left(A^{*}A\\right)}}={\\sqrt {\\sum _{i=1}^{\\min\\{m,n\\}}\\sigma _{i}^{2}(A)}},} - https://en.wikipedia.org/wiki/Matrix_norm#Frobenius_norm"
   ]
  },
  {
   "cell_type": "code",
   "execution_count": 378,
   "metadata": {},
   "outputs": [],
   "source": [
    "# frobenius norm max||Ax||/||x|| = sigma[0]\n",
    "def frob_norm(mat):\n",
    "    return np.sqrt(np.sum([c**2 for c in mat.flatten()])), np.sqrt(np.sum([c**2 for c in find_sing_vals(mat)])), np.sqrt(np.trace(mat@mat.T))"
   ]
  },
  {
   "cell_type": "code",
   "execution_count": 379,
   "metadata": {},
   "outputs": [
    {
     "data": {
      "text/plain": [
       "((118.66694123869962, 118.66694123869962, 118.66694123869962),\n",
       " 118.66694123869962)"
      ]
     },
     "execution_count": 379,
     "metadata": {},
     "output_type": "execute_result"
    }
   ],
   "source": [
    "frob_norm(A),  linalg.norm(A, 'fro')"
   ]
  },
  {
   "cell_type": "code",
   "execution_count": 380,
   "metadata": {},
   "outputs": [],
   "source": [
    "# nuclear norm \n",
    "def nuc_norm(mat):\n",
    "    return np.sum(find_sing_vals(mat))"
   ]
  },
  {
   "cell_type": "code",
   "execution_count": 381,
   "metadata": {},
   "outputs": [
    {
     "data": {
      "text/plain": [
       "(134.813292352956, 134.8132923529561)"
      ]
     },
     "execution_count": 381,
     "metadata": {},
     "output_type": "execute_result"
    }
   ],
   "source": [
    "nuc_norm(A),  linalg.norm(A, 'nuc')"
   ]
  },
  {
   "cell_type": "code",
   "execution_count": null,
   "metadata": {},
   "outputs": [],
   "source": [
    "# The following tree norms are the minimal among all the rank one matrices B: ||A-A_rank_one_approx|| < ||A-B||"
   ]
  },
  {
   "cell_type": "code",
   "execution_count": 382,
   "metadata": {},
   "outputs": [
    {
     "data": {
      "text/plain": [
       "(17.458416293461227, 17.45841629346124, 17.45841629346123)"
      ]
     },
     "execution_count": 382,
     "metadata": {},
     "output_type": "execute_result"
    }
   ],
   "source": [
    "frob_norm(A - A_rank_one_approx)"
   ]
  },
  {
   "cell_type": "code",
   "execution_count": 383,
   "metadata": {},
   "outputs": [
    {
     "data": {
      "text/plain": [
       "17.646847090852493"
      ]
     },
     "execution_count": 383,
     "metadata": {},
     "output_type": "execute_result"
    }
   ],
   "source": [
    "nuc_norm(A - A_rank_one_approx)"
   ]
  },
  {
   "cell_type": "code",
   "execution_count": 384,
   "metadata": {},
   "outputs": [
    {
     "data": {
      "text/plain": [
       "17.457388259039234"
      ]
     },
     "execution_count": 384,
     "metadata": {},
     "output_type": "execute_result"
    }
   ],
   "source": [
    "spec_norm(A - A_rank_one_approx)"
   ]
  }
 ],
 "metadata": {
  "kernelspec": {
   "display_name": "Python 3",
   "language": "python",
   "name": "python3"
  },
  "language_info": {
   "codemirror_mode": {
    "name": "ipython",
    "version": 3
   },
   "file_extension": ".py",
   "mimetype": "text/x-python",
   "name": "python",
   "nbconvert_exporter": "python",
   "pygments_lexer": "ipython3",
   "version": "3.7.3"
  }
 },
 "nbformat": 4,
 "nbformat_minor": 2
}
