{
 "cells": [
  {
   "cell_type": "code",
   "execution_count": 1,
   "metadata": {},
   "outputs": [],
   "source": [
    "import numpy as np\n",
    "import matplotlib.pyplot as plt"
   ]
  },
  {
   "cell_type": "code",
   "execution_count": 2,
   "metadata": {},
   "outputs": [],
   "source": [
    "n = 50\n",
    "x = np.arange(n)"
   ]
  },
  {
   "cell_type": "code",
   "execution_count": 3,
   "metadata": {},
   "outputs": [
    {
     "data": {
      "text/plain": [
       "array([ 0,  1,  2,  3,  4,  5,  6,  7,  8,  9, 10, 11, 12, 13, 14, 15, 16,\n",
       "       17, 18, 19, 20, 21, 22, 23, 24, 25, 26, 27, 28, 29, 30, 31, 32, 33,\n",
       "       34, 35, 36, 37, 38, 39, 40, 41, 42, 43, 44, 45, 46, 47, 48, 49])"
      ]
     },
     "execution_count": 3,
     "metadata": {},
     "output_type": "execute_result"
    }
   ],
   "source": [
    "x"
   ]
  },
  {
   "cell_type": "code",
   "execution_count": 4,
   "metadata": {},
   "outputs": [],
   "source": [
    "# n = 50\n",
    "# x = np.arange(-n/2, n/2, 1, dtype=np.float64)\n",
    "\n",
    "m = np.random.uniform(0.3, 0.8, (n,))\n",
    "b = np.random.uniform(5, 10, (n,))\n",
    "\n",
    "y = x*m + b "
   ]
  },
  {
   "cell_type": "code",
   "execution_count": 5,
   "metadata": {},
   "outputs": [
    {
     "data": {
      "text/plain": [
       "array([ 7.90207849,  5.69507057, 10.15263033,  9.67432783, 11.20677984,\n",
       "        9.31838034, 12.83886791, 12.94478088, 15.15301105, 10.34233181,\n",
       "        9.93313322, 10.54355654, 11.20114207, 14.16810076, 16.13761462,\n",
       "       18.95263384, 17.90284649, 12.85003641, 18.90755572, 18.99420497,\n",
       "       24.04031183, 21.58376185, 15.15671309, 21.51945923, 23.5913    ,\n",
       "       15.09949274, 26.59104332, 25.68815625, 24.59524092, 19.12218617,\n",
       "       20.3521062 , 21.84636653, 32.39763555, 28.50013546, 23.99234633,\n",
       "       19.62948339, 32.13419372, 23.06658016, 33.91533429, 29.60921324,\n",
       "       21.05292552, 33.97483213, 33.23840852, 34.52470471, 40.85128224,\n",
       "       24.72515195, 23.23666706, 29.8991079 , 41.86906364, 33.35711544])"
      ]
     },
     "execution_count": 5,
     "metadata": {},
     "output_type": "execute_result"
    }
   ],
   "source": [
    "y"
   ]
  },
  {
   "cell_type": "code",
   "execution_count": 6,
   "metadata": {},
   "outputs": [
    {
     "data": {
      "text/plain": [
       "((50,), (50,))"
      ]
     },
     "execution_count": 6,
     "metadata": {},
     "output_type": "execute_result"
    }
   ],
   "source": [
    "x.shape, y.shape"
   ]
  },
  {
   "cell_type": "code",
   "execution_count": 7,
   "metadata": {},
   "outputs": [],
   "source": [
    "A = x.reshape(-1,1)\n",
    "b = y.reshape(-1,1)"
   ]
  },
  {
   "cell_type": "code",
   "execution_count": 8,
   "metadata": {},
   "outputs": [
    {
     "data": {
      "text/plain": [
       "<matplotlib.collections.PathCollection at 0x281e5024278>"
      ]
     },
     "execution_count": 8,
     "metadata": {},
     "output_type": "execute_result"
    },
    {
     "data": {
      "image/png": "[encoded data removed]",
      "text/plain": [
       "<Figure size 432x288 with 1 Axes>"
      ]
     },
     "metadata": {
      "needs_background": "light"
     },
     "output_type": "display_data"
    }
   ],
   "source": [
    "plt.scatter(A, y, s=None, marker='o', color='g', edgecolors='g', alpha=0.9)"
   ]
  },
  {
   "cell_type": "code",
   "execution_count": 9,
   "metadata": {},
   "outputs": [
    {
     "data": {
      "text/plain": [
       "((50, 1), (50, 1))"
      ]
     },
     "execution_count": 9,
     "metadata": {},
     "output_type": "execute_result"
    }
   ],
   "source": [
    "A.shape, b.shape"
   ]
  },
  {
   "cell_type": "code",
   "execution_count": 10,
   "metadata": {},
   "outputs": [],
   "source": [
    "# We have mxn matrix, with rankA=n=1\n",
    "# The pseudoinverse will be \n",
    "# A.T@Ax = A.T@b\n",
    "# pseudoInvA = ((A.T@A)^-1)A.T"
   ]
  },
  {
   "cell_type": "code",
   "execution_count": 14,
   "metadata": {},
   "outputs": [
    {
     "data": {
      "text/plain": [
       "(50, 1)"
      ]
     },
     "execution_count": 14,
     "metadata": {},
     "output_type": "execute_result"
    }
   ],
   "source": [
    "A.shape"
   ]
  },
  {
   "cell_type": "code",
   "execution_count": 15,
   "metadata": {},
   "outputs": [],
   "source": [
    "# ordinary least squares\n",
    "pseudoA = np.linalg.inv(A.T@A)@A.T"
   ]
  },
  {
   "cell_type": "code",
   "execution_count": 16,
   "metadata": {},
   "outputs": [],
   "source": [
    "x = pseudoA@b"
   ]
  },
  {
   "cell_type": "code",
   "execution_count": 17,
   "metadata": {},
   "outputs": [
    {
     "data": {
      "text/plain": [
       "array([[0.77869346]])"
      ]
     },
     "execution_count": 17,
     "metadata": {},
     "output_type": "execute_result"
    }
   ],
   "source": [
    "x"
   ]
  },
  {
   "cell_type": "code",
   "execution_count": 18,
   "metadata": {},
   "outputs": [
    {
     "data": {
      "text/plain": [
       "(1, 1)"
      ]
     },
     "execution_count": 18,
     "metadata": {},
     "output_type": "execute_result"
    }
   ],
   "source": [
    "x.shape"
   ]
  },
  {
   "cell_type": "code",
   "execution_count": 19,
   "metadata": {},
   "outputs": [
    {
     "data": {
      "text/plain": [
       "<matplotlib.collections.PathCollection at 0x281e50c79b0>"
      ]
     },
     "execution_count": 19,
     "metadata": {},
     "output_type": "execute_result"
    },
    {
     "data": {
      "image/png": "[encoded data removed]",
      "text/plain": [
       "<Figure size 432x288 with 1 Axes>"
      ]
     },
     "metadata": {
      "needs_background": "light"
     },
     "output_type": "display_data"
    }
   ],
   "source": [
    "plt.scatter(A, b, s=None, marker='o', color='g', edgecolors='g', alpha=0.9)"
   ]
  },
  {
   "cell_type": "code",
   "execution_count": 20,
   "metadata": {},
   "outputs": [
    {
     "data": {
      "text/plain": [
       "(1, 1)"
      ]
     },
     "execution_count": 20,
     "metadata": {},
     "output_type": "execute_result"
    }
   ],
   "source": [
    "(pseudoA@b).shape"
   ]
  },
  {
   "cell_type": "code",
   "execution_count": 21,
   "metadata": {},
   "outputs": [
    {
     "data": {
      "text/plain": [
       "(1, 50)"
      ]
     },
     "execution_count": 21,
     "metadata": {},
     "output_type": "execute_result"
    }
   ],
   "source": [
    "pseudoA.shape"
   ]
  },
  {
   "cell_type": "code",
   "execution_count": 22,
   "metadata": {},
   "outputs": [
    {
     "data": {
      "text/plain": [
       "(50, 1)"
      ]
     },
     "execution_count": 22,
     "metadata": {},
     "output_type": "execute_result"
    }
   ],
   "source": [
    "b.shape"
   ]
  },
  {
   "cell_type": "code",
   "execution_count": 23,
   "metadata": {},
   "outputs": [
    {
     "data": {
      "image/png": "[encoded data removed]",
      "text/plain": [
       "<Figure size 432x288 with 1 Axes>"
      ]
     },
     "metadata": {
      "needs_background": "light"
     },
     "output_type": "display_data"
    }
   ],
   "source": [
    "plt.scatter(A, b, s=None, marker='o', color='g', edgecolors='g', alpha=0.9)\n",
    "plt.plot(A, A@x, '-', color='red')\n",
    "plt.show()"
   ]
  },
  {
   "cell_type": "code",
   "execution_count": 24,
   "metadata": {},
   "outputs": [
    {
     "data": {
      "text/plain": [
       "array([[ 0.        ],\n",
       "       [ 0.77869346],\n",
       "       [ 1.55738692],\n",
       "       [ 2.33608037],\n",
       "       [ 3.11477383],\n",
       "       [ 3.89346729],\n",
       "       [ 4.67216075],\n",
       "       [ 5.45085421],\n",
       "       [ 6.22954767],\n",
       "       [ 7.00824112],\n",
       "       [ 7.78693458],\n",
       "       [ 8.56562804],\n",
       "       [ 9.3443215 ],\n",
       "       [10.12301496],\n",
       "       [10.90170842],\n",
       "       [11.68040187],\n",
       "       [12.45909533],\n",
       "       [13.23778879],\n",
       "       [14.01648225],\n",
       "       [14.79517571],\n",
       "       [15.57386917],\n",
       "       [16.35256262],\n",
       "       [17.13125608],\n",
       "       [17.90994954],\n",
       "       [18.688643  ],\n",
       "       [19.46733646],\n",
       "       [20.24602991],\n",
       "       [21.02472337],\n",
       "       [21.80341683],\n",
       "       [22.58211029],\n",
       "       [23.36080375],\n",
       "       [24.13949721],\n",
       "       [24.91819066],\n",
       "       [25.69688412],\n",
       "       [26.47557758],\n",
       "       [27.25427104],\n",
       "       [28.0329645 ],\n",
       "       [28.81165796],\n",
       "       [29.59035141],\n",
       "       [30.36904487],\n",
       "       [31.14773833],\n",
       "       [31.92643179],\n",
       "       [32.70512525],\n",
       "       [33.48381871],\n",
       "       [34.26251216],\n",
       "       [35.04120562],\n",
       "       [35.81989908],\n",
       "       [36.59859254],\n",
       "       [37.377286  ],\n",
       "       [38.15597946]])"
      ]
     },
     "execution_count": 24,
     "metadata": {},
     "output_type": "execute_result"
    }
   ],
   "source": [
    "A@x"
   ]
  },
  {
   "cell_type": "code",
   "execution_count": 25,
   "metadata": {},
   "outputs": [
    {
     "data": {
      "text/plain": [
       "array([[ 7.90207849],\n",
       "       [ 5.69507057],\n",
       "       [10.15263033],\n",
       "       [ 9.67432783],\n",
       "       [11.20677984],\n",
       "       [ 9.31838034],\n",
       "       [12.83886791],\n",
       "       [12.94478088],\n",
       "       [15.15301105],\n",
       "       [10.34233181],\n",
       "       [ 9.93313322],\n",
       "       [10.54355654],\n",
       "       [11.20114207],\n",
       "       [14.16810076],\n",
       "       [16.13761462],\n",
       "       [18.95263384],\n",
       "       [17.90284649],\n",
       "       [12.85003641],\n",
       "       [18.90755572],\n",
       "       [18.99420497],\n",
       "       [24.04031183],\n",
       "       [21.58376185],\n",
       "       [15.15671309],\n",
       "       [21.51945923],\n",
       "       [23.5913    ],\n",
       "       [15.09949274],\n",
       "       [26.59104332],\n",
       "       [25.68815625],\n",
       "       [24.59524092],\n",
       "       [19.12218617],\n",
       "       [20.3521062 ],\n",
       "       [21.84636653],\n",
       "       [32.39763555],\n",
       "       [28.50013546],\n",
       "       [23.99234633],\n",
       "       [19.62948339],\n",
       "       [32.13419372],\n",
       "       [23.06658016],\n",
       "       [33.91533429],\n",
       "       [29.60921324],\n",
       "       [21.05292552],\n",
       "       [33.97483213],\n",
       "       [33.23840852],\n",
       "       [34.52470471],\n",
       "       [40.85128224],\n",
       "       [24.72515195],\n",
       "       [23.23666706],\n",
       "       [29.8991079 ],\n",
       "       [41.86906364],\n",
       "       [33.35711544]])"
      ]
     },
     "execution_count": 25,
     "metadata": {},
     "output_type": "execute_result"
    }
   ],
   "source": [
    "b"
   ]
  },
  {
   "cell_type": "code",
   "execution_count": 26,
   "metadata": {},
   "outputs": [
    {
     "data": {
      "text/plain": [
       "40.72996167052714"
      ]
     },
     "execution_count": 26,
     "metadata": {},
     "output_type": "execute_result"
    }
   ],
   "source": [
    "np.linalg.norm(A@x-b)"
   ]
  },
  {
   "cell_type": "code",
   "execution_count": 27,
   "metadata": {},
   "outputs": [
    {
     "name": "stderr",
     "output_type": "stream",
     "text": [
      "C:\\Users\\davidt\\AppData\\Local\\Continuum\\anaconda3\\lib\\site-packages\\ipykernel_launcher.py:2: FutureWarning: `rcond` parameter will change to the default of machine precision times ``max(M, N)`` where M and N are the input matrix dimensions.\n",
      "To use the future default and silence this warning we advise to pass `rcond=None`, to keep using the old, explicitly pass `rcond=-1`.\n",
      "  \n"
     ]
    },
    {
     "data": {
      "text/plain": [
       "array([[0.77869346]])"
      ]
     },
     "execution_count": 27,
     "metadata": {},
     "output_type": "execute_result"
    }
   ],
   "source": [
    "# The same x \n",
    "np.linalg.lstsq(A, b)[0]"
   ]
  },
  {
   "cell_type": "code",
   "execution_count": 28,
   "metadata": {},
   "outputs": [
    {
     "data": {
      "text/plain": [
       "array([[0.77869346]])"
      ]
     },
     "execution_count": 28,
     "metadata": {},
     "output_type": "execute_result"
    }
   ],
   "source": [
    "x"
   ]
  },
  {
   "cell_type": "code",
   "execution_count": 29,
   "metadata": {},
   "outputs": [
    {
     "data": {
      "text/plain": [
       "LinearRegression(copy_X=True, fit_intercept=True, n_jobs=None,\n",
       "         normalize=False)"
      ]
     },
     "execution_count": 29,
     "metadata": {},
     "output_type": "execute_result"
    }
   ],
   "source": [
    "from sklearn import linear_model\n",
    "\n",
    "reg = linear_model.LinearRegression()\n",
    "reg.fit(A, b)"
   ]
  },
  {
   "cell_type": "code",
   "execution_count": 30,
   "metadata": {},
   "outputs": [
    {
     "data": {
      "text/plain": [
       "array([[ 7.77091118],\n",
       "       [ 8.31412248],\n",
       "       [ 8.85733378],\n",
       "       [ 9.40054508],\n",
       "       [ 9.94375638],\n",
       "       [10.48696768],\n",
       "       [11.03017899],\n",
       "       [11.57339029],\n",
       "       [12.11660159],\n",
       "       [12.65981289],\n",
       "       [13.20302419],\n",
       "       [13.74623549],\n",
       "       [14.28944679],\n",
       "       [14.8326581 ],\n",
       "       [15.3758694 ],\n",
       "       [15.9190807 ],\n",
       "       [16.462292  ],\n",
       "       [17.0055033 ],\n",
       "       [17.5487146 ],\n",
       "       [18.0919259 ],\n",
       "       [18.6351372 ],\n",
       "       [19.17834851],\n",
       "       [19.72155981],\n",
       "       [20.26477111],\n",
       "       [20.80798241],\n",
       "       [21.35119371],\n",
       "       [21.89440501],\n",
       "       [22.43761631],\n",
       "       [22.98082762],\n",
       "       [23.52403892],\n",
       "       [24.06725022],\n",
       "       [24.61046152],\n",
       "       [25.15367282],\n",
       "       [25.69688412],\n",
       "       [26.24009542],\n",
       "       [26.78330673],\n",
       "       [27.32651803],\n",
       "       [27.86972933],\n",
       "       [28.41294063],\n",
       "       [28.95615193],\n",
       "       [29.49936323],\n",
       "       [30.04257453],\n",
       "       [30.58578584],\n",
       "       [31.12899714],\n",
       "       [31.67220844],\n",
       "       [32.21541974],\n",
       "       [32.75863104],\n",
       "       [33.30184234],\n",
       "       [33.84505364],\n",
       "       [34.38826494]])"
      ]
     },
     "execution_count": 30,
     "metadata": {},
     "output_type": "execute_result"
    }
   ],
   "source": [
    "reg.predict(A)"
   ]
  },
  {
   "cell_type": "code",
   "execution_count": 31,
   "metadata": {},
   "outputs": [
    {
     "data": {
      "image/png": "[encoded data removed]",
      "text/plain": [
       "<Figure size 432x288 with 1 Axes>"
      ]
     },
     "metadata": {
      "needs_background": "light"
     },
     "output_type": "display_data"
    }
   ],
   "source": [
    "plt.scatter(A, b, s=None, marker='o', color='g', edgecolors='g', alpha=0.9)\n",
    "plt.plot(A, reg.predict(A), '-', color='red')\n",
    "plt.show()"
   ]
  },
  {
   "cell_type": "code",
   "execution_count": 32,
   "metadata": {},
   "outputs": [
    {
     "data": {
      "text/plain": [
       "40.72996167052714"
      ]
     },
     "execution_count": 32,
     "metadata": {},
     "output_type": "execute_result"
    }
   ],
   "source": [
    "np.linalg.norm(A@x-b)"
   ]
  },
  {
   "cell_type": "code",
   "execution_count": 33,
   "metadata": {},
   "outputs": [
    {
     "data": {
      "text/plain": [
       "29.685310079800534"
      ]
     },
     "execution_count": 33,
     "metadata": {},
     "output_type": "execute_result"
    }
   ],
   "source": [
    "np.linalg.norm(reg.predict(A)-b)"
   ]
  },
  {
   "cell_type": "code",
   "execution_count": 34,
   "metadata": {},
   "outputs": [],
   "source": [
    "# regression in a higher dimension"
   ]
  },
  {
   "cell_type": "code",
   "execution_count": 35,
   "metadata": {},
   "outputs": [],
   "source": [
    "A = np.random.uniform(0.3, 0.8, (30, 20))\n",
    "b = np.random.uniform(4, 6, (30))"
   ]
  },
  {
   "cell_type": "code",
   "execution_count": 36,
   "metadata": {},
   "outputs": [
    {
     "data": {
      "text/plain": [
       "((30, 20), (30,))"
      ]
     },
     "execution_count": 36,
     "metadata": {},
     "output_type": "execute_result"
    }
   ],
   "source": [
    "A.shape, b.shape"
   ]
  },
  {
   "cell_type": "code",
   "execution_count": 39,
   "metadata": {},
   "outputs": [],
   "source": [
    "U, sigmas, V = np.linalg.svd(A)\n",
    "\n",
    "sigmas_plus = np.zeros((A.shape[0], A.shape[1])).T\n",
    "sigmas_plus[:sigmas.shape[0], :sigmas.shape[0]] = np.linalg.inv(np.diag(sigmas))\n",
    "\n",
    "# A_plus = V.T.dot(D_plus).dot(U.T)\n",
    "# A_plus"
   ]
  },
  {
   "cell_type": "code",
   "execution_count": 40,
   "metadata": {},
   "outputs": [
    {
     "data": {
      "text/plain": [
       "((30, 30), (20,), (20, 20), (20, 30))"
      ]
     },
     "execution_count": 40,
     "metadata": {},
     "output_type": "execute_result"
    }
   ],
   "source": [
    "U.shape, sigmas.shape, V.shape, sigmas_plus.shape"
   ]
  },
  {
   "cell_type": "code",
   "execution_count": 41,
   "metadata": {},
   "outputs": [],
   "source": [
    "# ss.shape"
   ]
  },
  {
   "cell_type": "code",
   "execution_count": 42,
   "metadata": {},
   "outputs": [],
   "source": [
    "# ss = np.diag(sigmas**-1)\n",
    "# ss.resize(U.shape[0], V.shape[0])\n",
    "# np.dot(ss, U.transpose())"
   ]
  },
  {
   "cell_type": "code",
   "execution_count": 43,
   "metadata": {},
   "outputs": [],
   "source": [
    "A_pseudo_inv = V.T@sigmas_plus@U.T\n",
    "#u,s,v=np.linalg.svd(A)\n",
    "#A_pseudo_inv=np.dot(U.transpose(),np.dot(np.diag(sigmas**-1).resize(U.shape[0], V.shape[0]),U.transpose()))"
   ]
  },
  {
   "cell_type": "code",
   "execution_count": 44,
   "metadata": {},
   "outputs": [
    {
     "data": {
      "text/plain": [
       "array([[ 5.20968545e-01,  1.13701520e-01, -7.36612199e-03,\n",
       "        -5.43349367e-01,  4.13687404e-01, -2.93381668e-01,\n",
       "        -4.58032279e-02, -3.36970219e-01,  3.18147249e-01,\n",
       "         3.35336720e-01,  4.89180446e-01, -7.44647342e-01,\n",
       "         9.37374830e-01, -3.63555720e-01, -2.85416649e-01,\n",
       "        -8.32034147e-02, -9.12981525e-01, -4.50505651e-02,\n",
       "         3.23408079e-01,  3.91728671e-01,  3.07371862e-01,\n",
       "         3.99896090e-01,  1.69436818e-01,  3.53557375e-01,\n",
       "         2.76926703e-02, -1.36214891e-01, -5.94297542e-01,\n",
       "        -5.76565686e-01, -1.89191978e-01,  1.45173110e-02],\n",
       "       [-3.29373300e-01, -1.21775180e-01, -2.19692875e-01,\n",
       "        -3.74889796e-01,  4.23418963e-03, -3.03562953e-01,\n",
       "         4.45063342e-01,  2.08013021e-02,  7.40289239e-02,\n",
       "        -1.79142448e-01, -1.20587203e-01,  1.61138989e-01,\n",
       "        -2.83098768e-01,  7.10227852e-01, -7.69460680e-01,\n",
       "         1.82934504e-01,  5.88890681e-01,  3.53932147e-01,\n",
       "        -1.92732974e-01,  4.15468103e-01,  5.84135364e-02,\n",
       "        -1.32653013e-01,  2.69698716e-01,  1.49445323e-01,\n",
       "        -7.97588297e-02,  6.74809681e-02, -2.04757350e-01,\n",
       "         2.19824375e-02, -3.51680344e-01,  1.84083777e-01],\n",
       "       [-1.08405678e-01, -5.38539334e-03, -5.13519763e-01,\n",
       "         1.85644550e-01,  3.76210726e-01, -4.15635722e-02,\n",
       "        -1.28032059e-02,  4.52356365e-01, -1.48534033e-01,\n",
       "         3.81860474e-01, -1.74239567e-02,  7.17063319e-02,\n",
       "         1.93785092e-01, -7.02645751e-02,  2.62082126e-01,\n",
       "        -6.53079112e-01,  2.77727794e-05,  4.62804060e-01,\n",
       "        -4.32650669e-01, -2.73812868e-01, -6.29938113e-01,\n",
       "        -2.14900690e-01,  6.03170321e-02,  8.67562563e-02,\n",
       "         8.33277492e-01,  5.38950588e-01,  1.99288002e-01,\n",
       "        -1.16728977e+00,  5.23620028e-01, -3.53816453e-02],\n",
       "       [ 6.36910437e-02,  1.57661748e-01,  3.83398041e-01,\n",
       "         1.67416973e-01, -3.69351822e-01,  3.67232220e-01,\n",
       "         2.00873954e-01, -5.84628555e-01,  2.91378914e-01,\n",
       "         2.70803635e-02,  6.42653670e-02,  4.15122668e-01,\n",
       "        -2.36301054e-01, -4.14722082e-01,  1.96380411e-01,\n",
       "         1.91290986e-01,  1.07567541e-01, -4.92403164e-01,\n",
       "         9.60699080e-02, -4.90186811e-01, -4.67840554e-01,\n",
       "         6.49058943e-01, -4.41656770e-01, -3.56787434e-01,\n",
       "        -7.07478990e-01,  1.94763964e-01,  7.86500570e-01,\n",
       "         4.30030124e-01,  1.54113590e-01, -1.21199971e-01],\n",
       "       [-4.47163122e-01,  2.07118026e-01, -5.69015514e-01,\n",
       "         5.72219139e-01,  4.06833716e-02,  1.61195545e-01,\n",
       "         3.32611237e-01,  7.99758482e-02, -3.52603403e-01,\n",
       "         2.64053520e-01, -6.00173179e-01, -9.19913615e-02,\n",
       "         1.98397916e-02,  1.91237174e-01,  1.74644134e-01,\n",
       "        -8.18323760e-02,  5.19695822e-02,  4.60255667e-01,\n",
       "        -5.75119068e-01,  2.07324604e-01, -7.52954922e-02,\n",
       "         1.94890962e-01, -8.48498416e-02, -1.89907679e-01,\n",
       "         2.56265289e-01,  3.18610010e-01,  1.54920595e-01,\n",
       "        -4.07679379e-01,  4.33883681e-01, -4.29224350e-01],\n",
       "       [-4.22449512e-01,  4.99870906e-01,  7.36210626e-02,\n",
       "         2.10583804e-01, -4.84940853e-02,  4.58026611e-01,\n",
       "        -3.98656751e-01, -6.16429947e-01, -6.55044536e-01,\n",
       "         1.69785383e-01, -3.41259489e-01,  6.48970828e-01,\n",
       "        -3.47986991e-01, -4.93856019e-02,  2.72355952e-01,\n",
       "         5.76058502e-02,  6.60970233e-01, -3.20470909e-01,\n",
       "         2.72837735e-01, -3.46730528e-01,  5.79384476e-02,\n",
       "         7.50433089e-02,  4.13880829e-01, -1.70800848e-01,\n",
       "         9.29942617e-02, -5.00457332e-01, -9.40919287e-02,\n",
       "         5.00859941e-02, -4.19809983e-02,  4.20846090e-01],\n",
       "       [-2.90254569e-01, -1.26139854e-01,  7.82175887e-02,\n",
       "        -5.26043832e-01, -3.31235693e-01,  4.47920829e-02,\n",
       "         4.17412192e-01,  5.23447712e-01, -1.58506696e-01,\n",
       "        -3.89837492e-01, -2.72313126e-01, -4.26302834e-02,\n",
       "        -9.74242053e-02,  5.75442395e-01, -2.29768701e-01,\n",
       "        -4.67339086e-01,  2.26641824e-01,  1.71715256e-01,\n",
       "         2.29228184e-01,  2.73225213e-01, -4.82878449e-02,\n",
       "        -3.29757264e-01, -5.15985355e-02, -2.62206217e-01,\n",
       "         5.45997137e-01,  2.91903142e-01,  2.78323667e-01,\n",
       "        -1.30130606e-01, -1.19153743e-01,  4.60208521e-01],\n",
       "       [-1.46553395e-01,  1.56776019e-01, -2.77803857e-01,\n",
       "        -1.00621030e-01, -3.65161602e-01,  3.96228416e-02,\n",
       "         4.83494587e-01, -6.89944327e-02, -2.95516417e-01,\n",
       "        -5.42153063e-01, -3.30686193e-01,  8.68660338e-01,\n",
       "        -1.00443833e+00,  6.16940378e-02,  4.87572537e-02,\n",
       "         2.49269302e-01,  4.08162569e-01, -2.74253985e-01,\n",
       "        -7.60928304e-02,  6.86817286e-03,  3.31029665e-01,\n",
       "        -1.36590355e-01, -2.47987736e-01, -4.38519480e-01,\n",
       "         1.41493606e-01, -5.19309764e-01,  2.96070838e-01,\n",
       "         9.68446344e-01,  4.42898386e-01,  4.26664869e-01],\n",
       "       [-2.94492251e-01,  2.67771157e-01,  1.13513290e-02,\n",
       "         3.20410882e-01,  6.52158159e-01,  2.32941596e-01,\n",
       "         1.11383493e-01,  3.51640319e-01, -2.40338712e-02,\n",
       "        -1.90648241e-01,  1.76240644e-01, -3.67841392e-01,\n",
       "         6.11871100e-02, -3.53557410e-01, -2.78669532e-01,\n",
       "         5.60612732e-02, -3.71360604e-01,  2.46592550e-01,\n",
       "        -3.98398259e-01,  2.68563067e-01, -6.43899426e-02,\n",
       "         6.43084615e-02, -1.64755337e-01,  6.42313518e-01,\n",
       "        -3.27688038e-02,  1.76917888e-01,  1.25709787e-01,\n",
       "        -6.16063295e-01, -2.80443594e-01, -2.48368049e-01],\n",
       "       [-1.37303934e-01, -2.07637998e-01,  8.06613561e-01,\n",
       "         5.88525629e-01, -1.35369328e-01,  7.98462307e-03,\n",
       "         7.62633921e-02,  3.47210003e-02,  2.26811648e-01,\n",
       "         9.99910879e-02,  3.25954331e-01, -3.07528416e-02,\n",
       "        -3.50042463e-01, -6.22345527e-01,  5.92502126e-01,\n",
       "        -5.53332638e-02, -2.62714259e-01,  4.43317085e-01,\n",
       "        -4.92710958e-01, -1.09941814e-01, -5.98773805e-01,\n",
       "         1.89783868e-01, -3.45301653e-01,  7.86650126e-02,\n",
       "         1.25149141e-01,  3.69694388e-03, -2.94340635e-01,\n",
       "         1.60473096e-01, -1.70233628e-01,  1.11657431e-01],\n",
       "       [-5.67362523e-02, -1.15095094e+00,  1.35662561e-01,\n",
       "        -1.66461817e-01, -2.17321425e-01,  5.76941281e-01,\n",
       "         5.12071630e-01,  7.18768281e-01,  2.42195111e-01,\n",
       "        -1.61464993e-01,  9.51076567e-01, -9.44065083e-02,\n",
       "         2.03441540e-01,  9.13496827e-01, -2.13157262e-01,\n",
       "         3.10369691e-02,  1.89346044e-01, -5.51898248e-01,\n",
       "        -2.98646248e-01,  7.78836318e-02,  7.62583022e-02,\n",
       "        -1.04715021e+00,  5.88399819e-02, -1.14785968e+00,\n",
       "         8.41133004e-01, -2.27106837e-01, -2.20319208e-02,\n",
       "        -6.46105428e-02,  3.16599473e-01, -1.80744750e-01],\n",
       "       [ 1.59393873e-01, -5.01571395e-01,  1.22191597e-01,\n",
       "        -3.54640076e-01, -2.93546416e-02,  1.98695078e-01,\n",
       "         3.28653179e-01,  4.63386052e-01,  5.03506208e-01,\n",
       "        -9.05586235e-02, -4.54853468e-01, -1.17490090e-01,\n",
       "        -4.98816771e-01,  2.04436691e-01, -4.72651384e-01,\n",
       "         1.79172275e-01,  3.16896760e-01,  6.08737862e-01,\n",
       "        -5.32517438e-01,  3.29326756e-01,  8.26995419e-01,\n",
       "        -9.83316698e-01,  1.26469177e-01, -8.47207188e-01,\n",
       "        -1.36285698e-01, -1.65106708e-01,  2.60940692e-01,\n",
       "         6.01400033e-01, -1.49095865e-02,  3.82929028e-02],\n",
       "       [ 5.14182690e-01,  8.54336257e-02, -3.63247822e-01,\n",
       "        -3.41707618e-01,  1.53797589e-01,  2.52413111e-01,\n",
       "        -3.37205269e-01, -2.91223047e-01, -3.18273252e-02,\n",
       "         1.16017711e-01,  1.56689168e-01, -6.93252599e-01,\n",
       "         4.24985955e-01,  1.56490583e-01,  1.59662162e-01,\n",
       "         1.15687247e-01, -2.08572933e-01, -6.18003767e-02,\n",
       "         6.23484425e-01,  4.07692563e-01, -6.29001269e-02,\n",
       "         2.72410332e-01, -1.72137349e-01,  8.69052443e-01,\n",
       "         4.97167718e-02, -3.47906863e-01, -3.58392715e-01,\n",
       "        -4.31584023e-01, -2.07319792e-01, -3.94789738e-01],\n",
       "       [ 4.49798076e-01,  2.90581182e-01,  5.83038823e-02,\n",
       "         3.44108155e-01, -9.59327461e-02,  3.88302521e-01,\n",
       "        -3.84361213e-01, -7.75511763e-01,  7.80012732e-01,\n",
       "        -2.46525036e-02, -3.99232115e-01,  7.71333922e-02,\n",
       "         7.46461374e-01, -1.75856892e-01,  1.29710591e-01,\n",
       "        -2.53924429e-01, -5.95735256e-01,  4.05012995e-01,\n",
       "        -3.26979751e-02, -2.23168032e-01,  1.80065190e-02,\n",
       "        -4.08026186e-01, -4.26149580e-01,  2.90401458e-01,\n",
       "        -2.68205960e-01,  6.01874303e-01,  2.21005979e-01,\n",
       "         2.72248901e-02, -5.67042094e-01, -1.05952903e-01],\n",
       "       [ 1.56459639e-01, -2.82816310e-01, -8.08893306e-02,\n",
       "         1.72389363e-01,  1.02764733e-01, -4.96918548e-01,\n",
       "        -3.73308842e-01,  2.50154735e-01,  1.95433230e-01,\n",
       "        -2.45867064e-01,  2.65482616e-02,  4.63182979e-01,\n",
       "        -1.08937656e-01, -4.30630097e-01,  3.44611568e-01,\n",
       "         3.63145233e-01, -1.54155805e-01,  2.72340075e-02,\n",
       "         1.59523841e-01,  1.62245321e-01, -1.78695944e-01,\n",
       "        -2.01372727e-01, -9.15949257e-02, -5.34140292e-01,\n",
       "        -3.14447948e-01,  5.20060911e-01,  8.05637239e-02,\n",
       "         7.51067479e-01, -1.43212983e-03, -2.31728711e-01],\n",
       "       [-6.96491642e-01,  1.98981301e-01,  1.53945593e-01,\n",
       "         3.70351972e-01,  5.13050533e-01,  1.59620263e-01,\n",
       "         7.42629163e-01,  4.70789262e-01, -5.21375645e-01,\n",
       "        -4.65640059e-01, -1.35385704e-01, -3.11354349e-01,\n",
       "         2.89203207e-01, -2.49136672e-01, -6.07436933e-02,\n",
       "        -4.12415925e-01,  6.29727311e-01,  1.34739028e-01,\n",
       "        -8.30624363e-02, -1.62700420e-01, -4.48587832e-01,\n",
       "        -1.68051767e-01,  1.60541373e-01,  5.11644908e-01,\n",
       "         7.68764473e-01, -2.80168317e-01, -4.42672638e-01,\n",
       "        -3.42317402e-01,  1.40371192e-01, -3.02944458e-01],\n",
       "       [ 1.99474734e-01, -1.31578511e-01,  8.25031606e-01,\n",
       "        -2.45044651e-01,  1.65597039e-01, -3.77312061e-01,\n",
       "        -2.03265374e-01, -3.57553193e-02,  1.46295799e-01,\n",
       "         6.16058388e-01,  6.97152415e-01, -4.51451869e-02,\n",
       "        -3.59939617e-02, -2.38752824e-01,  6.43871666e-01,\n",
       "         2.31506339e-01, -2.46268648e-01, -4.51950934e-01,\n",
       "        -1.50623287e-01, -4.54798810e-01,  2.01958388e-02,\n",
       "        -3.42458122e-01, -5.79543728e-01,  4.91086746e-01,\n",
       "        -6.66745727e-01,  4.15968779e-01, -4.05516175e-01,\n",
       "         2.38164422e-01, -7.15195207e-02, -1.19146711e-01],\n",
       "       [-4.40291234e-01, -1.80108816e-01, -1.79147569e-01,\n",
       "        -3.60313231e-01, -3.10957799e-01, -7.95615266e-02,\n",
       "        -1.84772694e-01,  3.00177363e-01, -4.32384291e-01,\n",
       "         2.24105384e-01,  2.91691841e-01,  2.62330682e-02,\n",
       "         1.31345606e-01,  4.18678468e-01, -7.78131162e-02,\n",
       "        -1.04994166e-01,  8.85091974e-02, -6.96540562e-01,\n",
       "         4.77855512e-01, -2.68797380e-01,  3.12617788e-01,\n",
       "         1.00289883e+00,  6.19713418e-01,  2.05500053e-01,\n",
       "         5.33173106e-01, -9.58881412e-01,  5.94303903e-02,\n",
       "        -1.90981771e-01,  8.09452946e-02, -2.38315219e-01],\n",
       "       [ 8.27526221e-01, -1.06310873e-01,  2.69595005e-01,\n",
       "        -8.14556890e-02, -2.79302813e-01, -3.66386890e-01,\n",
       "        -1.00982402e+00, -6.24070831e-01,  2.52381269e-01,\n",
       "        -1.63360068e-01, -8.59454525e-02,  1.00519360e-02,\n",
       "        -3.44878546e-01,  1.74301602e-01, -1.60136566e-01,\n",
       "         1.25053880e-01, -4.25566834e-02, -8.22953771e-01,\n",
       "         5.08377719e-01, -6.81192123e-02,  5.02569508e-01,\n",
       "         5.75882367e-01,  3.95416771e-01, -2.61345337e-01,\n",
       "        -8.94692613e-01,  3.80286637e-01,  1.07463936e-01,\n",
       "         8.50869217e-01,  1.34332968e-01,  1.24327395e-01],\n",
       "       [ 5.60671570e-01,  7.80004666e-01, -6.61103165e-01,\n",
       "         1.78436457e-01, -2.24072006e-01, -8.45343483e-01,\n",
       "        -5.59768057e-01, -1.46030523e-01, -3.17972482e-01,\n",
       "         2.68658249e-01, -2.89308831e-01, -1.52995343e-01,\n",
       "         3.81551761e-01, -2.30823722e-01, -1.89362868e-01,\n",
       "         3.93998297e-01, -3.77591894e-01,  4.19855922e-01,\n",
       "         5.91519247e-01, -9.71097101e-02,  1.24111772e-01,\n",
       "         3.90254899e-01,  3.03329725e-01,  5.24484194e-01,\n",
       "        -9.96662370e-01, -2.58128847e-01, -7.57664109e-02,\n",
       "        -8.69285584e-02, -9.08237742e-02,  6.44109709e-01]])"
      ]
     },
     "execution_count": 44,
     "metadata": {},
     "output_type": "execute_result"
    }
   ],
   "source": [
    "np.linalg.pinv(A)"
   ]
  },
  {
   "cell_type": "code",
   "execution_count": 45,
   "metadata": {},
   "outputs": [
    {
     "data": {
      "text/plain": [
       "array([[ 5.20968545e-01,  1.13701520e-01, -7.36612199e-03,\n",
       "        -5.43349367e-01,  4.13687404e-01, -2.93381668e-01,\n",
       "        -4.58032279e-02, -3.36970219e-01,  3.18147249e-01,\n",
       "         3.35336720e-01,  4.89180446e-01, -7.44647342e-01,\n",
       "         9.37374830e-01, -3.63555720e-01, -2.85416649e-01,\n",
       "        -8.32034147e-02, -9.12981525e-01, -4.50505651e-02,\n",
       "         3.23408079e-01,  3.91728671e-01,  3.07371862e-01,\n",
       "         3.99896090e-01,  1.69436818e-01,  3.53557375e-01,\n",
       "         2.76926703e-02, -1.36214891e-01, -5.94297542e-01,\n",
       "        -5.76565686e-01, -1.89191978e-01,  1.45173110e-02],\n",
       "       [-3.29373300e-01, -1.21775180e-01, -2.19692875e-01,\n",
       "        -3.74889796e-01,  4.23418963e-03, -3.03562953e-01,\n",
       "         4.45063342e-01,  2.08013021e-02,  7.40289239e-02,\n",
       "        -1.79142448e-01, -1.20587203e-01,  1.61138989e-01,\n",
       "        -2.83098768e-01,  7.10227852e-01, -7.69460680e-01,\n",
       "         1.82934504e-01,  5.88890681e-01,  3.53932147e-01,\n",
       "        -1.92732974e-01,  4.15468103e-01,  5.84135364e-02,\n",
       "        -1.32653013e-01,  2.69698716e-01,  1.49445323e-01,\n",
       "        -7.97588297e-02,  6.74809681e-02, -2.04757350e-01,\n",
       "         2.19824375e-02, -3.51680344e-01,  1.84083777e-01],\n",
       "       [-1.08405678e-01, -5.38539334e-03, -5.13519763e-01,\n",
       "         1.85644550e-01,  3.76210726e-01, -4.15635722e-02,\n",
       "        -1.28032059e-02,  4.52356365e-01, -1.48534033e-01,\n",
       "         3.81860474e-01, -1.74239567e-02,  7.17063319e-02,\n",
       "         1.93785092e-01, -7.02645751e-02,  2.62082126e-01,\n",
       "        -6.53079112e-01,  2.77727794e-05,  4.62804060e-01,\n",
       "        -4.32650669e-01, -2.73812868e-01, -6.29938113e-01,\n",
       "        -2.14900690e-01,  6.03170321e-02,  8.67562563e-02,\n",
       "         8.33277492e-01,  5.38950588e-01,  1.99288002e-01,\n",
       "        -1.16728977e+00,  5.23620028e-01, -3.53816453e-02],\n",
       "       [ 6.36910437e-02,  1.57661748e-01,  3.83398041e-01,\n",
       "         1.67416973e-01, -3.69351822e-01,  3.67232220e-01,\n",
       "         2.00873954e-01, -5.84628555e-01,  2.91378914e-01,\n",
       "         2.70803635e-02,  6.42653670e-02,  4.15122668e-01,\n",
       "        -2.36301054e-01, -4.14722082e-01,  1.96380411e-01,\n",
       "         1.91290986e-01,  1.07567541e-01, -4.92403164e-01,\n",
       "         9.60699080e-02, -4.90186811e-01, -4.67840554e-01,\n",
       "         6.49058943e-01, -4.41656770e-01, -3.56787434e-01,\n",
       "        -7.07478990e-01,  1.94763964e-01,  7.86500570e-01,\n",
       "         4.30030124e-01,  1.54113590e-01, -1.21199971e-01],\n",
       "       [-4.47163122e-01,  2.07118026e-01, -5.69015514e-01,\n",
       "         5.72219139e-01,  4.06833716e-02,  1.61195545e-01,\n",
       "         3.32611237e-01,  7.99758482e-02, -3.52603403e-01,\n",
       "         2.64053520e-01, -6.00173179e-01, -9.19913615e-02,\n",
       "         1.98397916e-02,  1.91237174e-01,  1.74644134e-01,\n",
       "        -8.18323760e-02,  5.19695822e-02,  4.60255667e-01,\n",
       "        -5.75119068e-01,  2.07324604e-01, -7.52954922e-02,\n",
       "         1.94890962e-01, -8.48498416e-02, -1.89907679e-01,\n",
       "         2.56265289e-01,  3.18610010e-01,  1.54920595e-01,\n",
       "        -4.07679379e-01,  4.33883681e-01, -4.29224350e-01],\n",
       "       [-4.22449512e-01,  4.99870906e-01,  7.36210626e-02,\n",
       "         2.10583804e-01, -4.84940853e-02,  4.58026611e-01,\n",
       "        -3.98656751e-01, -6.16429947e-01, -6.55044536e-01,\n",
       "         1.69785383e-01, -3.41259489e-01,  6.48970828e-01,\n",
       "        -3.47986991e-01, -4.93856019e-02,  2.72355952e-01,\n",
       "         5.76058502e-02,  6.60970233e-01, -3.20470909e-01,\n",
       "         2.72837735e-01, -3.46730528e-01,  5.79384476e-02,\n",
       "         7.50433089e-02,  4.13880829e-01, -1.70800848e-01,\n",
       "         9.29942617e-02, -5.00457332e-01, -9.40919287e-02,\n",
       "         5.00859941e-02, -4.19809983e-02,  4.20846090e-01],\n",
       "       [-2.90254569e-01, -1.26139854e-01,  7.82175887e-02,\n",
       "        -5.26043832e-01, -3.31235693e-01,  4.47920829e-02,\n",
       "         4.17412192e-01,  5.23447712e-01, -1.58506696e-01,\n",
       "        -3.89837492e-01, -2.72313126e-01, -4.26302834e-02,\n",
       "        -9.74242053e-02,  5.75442395e-01, -2.29768701e-01,\n",
       "        -4.67339086e-01,  2.26641824e-01,  1.71715256e-01,\n",
       "         2.29228184e-01,  2.73225213e-01, -4.82878449e-02,\n",
       "        -3.29757264e-01, -5.15985355e-02, -2.62206217e-01,\n",
       "         5.45997137e-01,  2.91903142e-01,  2.78323667e-01,\n",
       "        -1.30130606e-01, -1.19153743e-01,  4.60208521e-01],\n",
       "       [-1.46553395e-01,  1.56776019e-01, -2.77803857e-01,\n",
       "        -1.00621030e-01, -3.65161602e-01,  3.96228416e-02,\n",
       "         4.83494587e-01, -6.89944327e-02, -2.95516417e-01,\n",
       "        -5.42153063e-01, -3.30686193e-01,  8.68660338e-01,\n",
       "        -1.00443833e+00,  6.16940378e-02,  4.87572537e-02,\n",
       "         2.49269302e-01,  4.08162569e-01, -2.74253985e-01,\n",
       "        -7.60928304e-02,  6.86817286e-03,  3.31029665e-01,\n",
       "        -1.36590355e-01, -2.47987736e-01, -4.38519480e-01,\n",
       "         1.41493606e-01, -5.19309764e-01,  2.96070838e-01,\n",
       "         9.68446344e-01,  4.42898386e-01,  4.26664869e-01],\n",
       "       [-2.94492251e-01,  2.67771157e-01,  1.13513290e-02,\n",
       "         3.20410882e-01,  6.52158159e-01,  2.32941596e-01,\n",
       "         1.11383493e-01,  3.51640319e-01, -2.40338712e-02,\n",
       "        -1.90648241e-01,  1.76240644e-01, -3.67841392e-01,\n",
       "         6.11871100e-02, -3.53557410e-01, -2.78669532e-01,\n",
       "         5.60612732e-02, -3.71360604e-01,  2.46592550e-01,\n",
       "        -3.98398259e-01,  2.68563067e-01, -6.43899426e-02,\n",
       "         6.43084615e-02, -1.64755337e-01,  6.42313518e-01,\n",
       "        -3.27688038e-02,  1.76917888e-01,  1.25709787e-01,\n",
       "        -6.16063295e-01, -2.80443594e-01, -2.48368049e-01],\n",
       "       [-1.37303934e-01, -2.07637998e-01,  8.06613561e-01,\n",
       "         5.88525629e-01, -1.35369328e-01,  7.98462307e-03,\n",
       "         7.62633921e-02,  3.47210003e-02,  2.26811648e-01,\n",
       "         9.99910879e-02,  3.25954331e-01, -3.07528416e-02,\n",
       "        -3.50042463e-01, -6.22345527e-01,  5.92502126e-01,\n",
       "        -5.53332638e-02, -2.62714259e-01,  4.43317085e-01,\n",
       "        -4.92710958e-01, -1.09941814e-01, -5.98773805e-01,\n",
       "         1.89783868e-01, -3.45301653e-01,  7.86650126e-02,\n",
       "         1.25149141e-01,  3.69694388e-03, -2.94340635e-01,\n",
       "         1.60473096e-01, -1.70233628e-01,  1.11657431e-01],\n",
       "       [-5.67362523e-02, -1.15095094e+00,  1.35662561e-01,\n",
       "        -1.66461817e-01, -2.17321425e-01,  5.76941281e-01,\n",
       "         5.12071630e-01,  7.18768281e-01,  2.42195111e-01,\n",
       "        -1.61464993e-01,  9.51076567e-01, -9.44065083e-02,\n",
       "         2.03441540e-01,  9.13496827e-01, -2.13157262e-01,\n",
       "         3.10369691e-02,  1.89346044e-01, -5.51898248e-01,\n",
       "        -2.98646248e-01,  7.78836318e-02,  7.62583022e-02,\n",
       "        -1.04715021e+00,  5.88399819e-02, -1.14785968e+00,\n",
       "         8.41133004e-01, -2.27106837e-01, -2.20319208e-02,\n",
       "        -6.46105428e-02,  3.16599473e-01, -1.80744750e-01],\n",
       "       [ 1.59393873e-01, -5.01571395e-01,  1.22191597e-01,\n",
       "        -3.54640076e-01, -2.93546416e-02,  1.98695078e-01,\n",
       "         3.28653179e-01,  4.63386052e-01,  5.03506208e-01,\n",
       "        -9.05586235e-02, -4.54853468e-01, -1.17490090e-01,\n",
       "        -4.98816771e-01,  2.04436691e-01, -4.72651384e-01,\n",
       "         1.79172275e-01,  3.16896760e-01,  6.08737862e-01,\n",
       "        -5.32517438e-01,  3.29326756e-01,  8.26995419e-01,\n",
       "        -9.83316698e-01,  1.26469177e-01, -8.47207188e-01,\n",
       "        -1.36285698e-01, -1.65106708e-01,  2.60940692e-01,\n",
       "         6.01400033e-01, -1.49095865e-02,  3.82929028e-02],\n",
       "       [ 5.14182690e-01,  8.54336257e-02, -3.63247822e-01,\n",
       "        -3.41707618e-01,  1.53797589e-01,  2.52413111e-01,\n",
       "        -3.37205269e-01, -2.91223047e-01, -3.18273252e-02,\n",
       "         1.16017711e-01,  1.56689168e-01, -6.93252599e-01,\n",
       "         4.24985955e-01,  1.56490583e-01,  1.59662162e-01,\n",
       "         1.15687247e-01, -2.08572933e-01, -6.18003767e-02,\n",
       "         6.23484425e-01,  4.07692563e-01, -6.29001269e-02,\n",
       "         2.72410332e-01, -1.72137349e-01,  8.69052443e-01,\n",
       "         4.97167718e-02, -3.47906863e-01, -3.58392715e-01,\n",
       "        -4.31584023e-01, -2.07319792e-01, -3.94789738e-01],\n",
       "       [ 4.49798076e-01,  2.90581182e-01,  5.83038823e-02,\n",
       "         3.44108155e-01, -9.59327461e-02,  3.88302521e-01,\n",
       "        -3.84361213e-01, -7.75511763e-01,  7.80012732e-01,\n",
       "        -2.46525036e-02, -3.99232115e-01,  7.71333922e-02,\n",
       "         7.46461374e-01, -1.75856892e-01,  1.29710591e-01,\n",
       "        -2.53924429e-01, -5.95735256e-01,  4.05012995e-01,\n",
       "        -3.26979751e-02, -2.23168032e-01,  1.80065190e-02,\n",
       "        -4.08026186e-01, -4.26149580e-01,  2.90401458e-01,\n",
       "        -2.68205960e-01,  6.01874303e-01,  2.21005979e-01,\n",
       "         2.72248901e-02, -5.67042094e-01, -1.05952903e-01],\n",
       "       [ 1.56459639e-01, -2.82816310e-01, -8.08893306e-02,\n",
       "         1.72389363e-01,  1.02764733e-01, -4.96918548e-01,\n",
       "        -3.73308842e-01,  2.50154735e-01,  1.95433230e-01,\n",
       "        -2.45867064e-01,  2.65482616e-02,  4.63182979e-01,\n",
       "        -1.08937656e-01, -4.30630097e-01,  3.44611568e-01,\n",
       "         3.63145233e-01, -1.54155805e-01,  2.72340075e-02,\n",
       "         1.59523841e-01,  1.62245321e-01, -1.78695944e-01,\n",
       "        -2.01372727e-01, -9.15949257e-02, -5.34140292e-01,\n",
       "        -3.14447948e-01,  5.20060911e-01,  8.05637239e-02,\n",
       "         7.51067479e-01, -1.43212983e-03, -2.31728711e-01],\n",
       "       [-6.96491642e-01,  1.98981301e-01,  1.53945593e-01,\n",
       "         3.70351972e-01,  5.13050533e-01,  1.59620263e-01,\n",
       "         7.42629163e-01,  4.70789262e-01, -5.21375645e-01,\n",
       "        -4.65640059e-01, -1.35385704e-01, -3.11354349e-01,\n",
       "         2.89203207e-01, -2.49136672e-01, -6.07436933e-02,\n",
       "        -4.12415925e-01,  6.29727311e-01,  1.34739028e-01,\n",
       "        -8.30624363e-02, -1.62700420e-01, -4.48587832e-01,\n",
       "        -1.68051767e-01,  1.60541373e-01,  5.11644908e-01,\n",
       "         7.68764473e-01, -2.80168317e-01, -4.42672638e-01,\n",
       "        -3.42317402e-01,  1.40371192e-01, -3.02944458e-01],\n",
       "       [ 1.99474734e-01, -1.31578511e-01,  8.25031606e-01,\n",
       "        -2.45044651e-01,  1.65597039e-01, -3.77312061e-01,\n",
       "        -2.03265374e-01, -3.57553193e-02,  1.46295799e-01,\n",
       "         6.16058388e-01,  6.97152415e-01, -4.51451869e-02,\n",
       "        -3.59939617e-02, -2.38752824e-01,  6.43871666e-01,\n",
       "         2.31506339e-01, -2.46268648e-01, -4.51950934e-01,\n",
       "        -1.50623287e-01, -4.54798810e-01,  2.01958388e-02,\n",
       "        -3.42458122e-01, -5.79543728e-01,  4.91086746e-01,\n",
       "        -6.66745727e-01,  4.15968779e-01, -4.05516175e-01,\n",
       "         2.38164422e-01, -7.15195207e-02, -1.19146711e-01],\n",
       "       [-4.40291234e-01, -1.80108816e-01, -1.79147569e-01,\n",
       "        -3.60313231e-01, -3.10957799e-01, -7.95615266e-02,\n",
       "        -1.84772694e-01,  3.00177363e-01, -4.32384291e-01,\n",
       "         2.24105384e-01,  2.91691841e-01,  2.62330682e-02,\n",
       "         1.31345606e-01,  4.18678468e-01, -7.78131162e-02,\n",
       "        -1.04994166e-01,  8.85091974e-02, -6.96540562e-01,\n",
       "         4.77855512e-01, -2.68797380e-01,  3.12617788e-01,\n",
       "         1.00289883e+00,  6.19713418e-01,  2.05500053e-01,\n",
       "         5.33173106e-01, -9.58881412e-01,  5.94303903e-02,\n",
       "        -1.90981771e-01,  8.09452946e-02, -2.38315219e-01],\n",
       "       [ 8.27526221e-01, -1.06310873e-01,  2.69595005e-01,\n",
       "        -8.14556890e-02, -2.79302813e-01, -3.66386890e-01,\n",
       "        -1.00982402e+00, -6.24070831e-01,  2.52381269e-01,\n",
       "        -1.63360068e-01, -8.59454525e-02,  1.00519360e-02,\n",
       "        -3.44878546e-01,  1.74301602e-01, -1.60136566e-01,\n",
       "         1.25053880e-01, -4.25566834e-02, -8.22953771e-01,\n",
       "         5.08377719e-01, -6.81192123e-02,  5.02569508e-01,\n",
       "         5.75882367e-01,  3.95416771e-01, -2.61345337e-01,\n",
       "        -8.94692613e-01,  3.80286637e-01,  1.07463936e-01,\n",
       "         8.50869217e-01,  1.34332968e-01,  1.24327395e-01],\n",
       "       [ 5.60671570e-01,  7.80004666e-01, -6.61103165e-01,\n",
       "         1.78436457e-01, -2.24072006e-01, -8.45343483e-01,\n",
       "        -5.59768057e-01, -1.46030523e-01, -3.17972482e-01,\n",
       "         2.68658249e-01, -2.89308831e-01, -1.52995343e-01,\n",
       "         3.81551761e-01, -2.30823722e-01, -1.89362868e-01,\n",
       "         3.93998297e-01, -3.77591894e-01,  4.19855922e-01,\n",
       "         5.91519247e-01, -9.71097101e-02,  1.24111772e-01,\n",
       "         3.90254899e-01,  3.03329725e-01,  5.24484194e-01,\n",
       "        -9.96662370e-01, -2.58128847e-01, -7.57664109e-02,\n",
       "        -8.69285584e-02, -9.08237742e-02,  6.44109709e-01]])"
      ]
     },
     "execution_count": 45,
     "metadata": {},
     "output_type": "execute_result"
    }
   ],
   "source": [
    "A_pseudo_inv"
   ]
  },
  {
   "cell_type": "code",
   "execution_count": 46,
   "metadata": {},
   "outputs": [],
   "source": [
    "x = A_pseudo_inv@b"
   ]
  },
  {
   "cell_type": "code",
   "execution_count": 47,
   "metadata": {},
   "outputs": [
    {
     "data": {
      "text/plain": [
       "array([4.18412113, 5.77538246, 5.68593828, 4.07577562, 4.66589847,\n",
       "       5.70318668, 4.63016762, 4.05503121, 5.73211861, 5.70386825,\n",
       "       4.94108865, 5.03151734, 4.82424607, 4.88903305, 4.61630857,\n",
       "       5.97978032, 4.38750049, 4.68118378, 5.61301977, 5.87454461,\n",
       "       5.1888513 , 4.63162913, 5.34773374, 4.8968109 , 5.58212007,\n",
       "       5.28961979, 4.1519374 , 4.8990588 , 4.12213566, 5.53925275])"
      ]
     },
     "execution_count": 47,
     "metadata": {},
     "output_type": "execute_result"
    }
   ],
   "source": [
    "b"
   ]
  },
  {
   "cell_type": "code",
   "execution_count": 48,
   "metadata": {},
   "outputs": [
    {
     "data": {
      "text/plain": [
       "array([4.52626816, 5.71521606, 5.5567545 , 4.00571231, 4.93774467,\n",
       "       5.59493162, 4.59219881, 4.08968071, 5.42168437, 5.49467149,\n",
       "       5.1329851 , 5.07220483, 5.21745785, 4.98115951, 4.98198598,\n",
       "       5.58125245, 4.80313238, 4.6833139 , 5.07395116, 6.01442771,\n",
       "       5.30699197, 4.9204186 , 5.13587428, 4.70805286, 5.37681111,\n",
       "       5.09009032, 4.3384916 , 4.97902124, 3.70012775, 5.69941867])"
      ]
     },
     "execution_count": 48,
     "metadata": {},
     "output_type": "execute_result"
    }
   ],
   "source": [
    "A@x"
   ]
  },
  {
   "cell_type": "code",
   "execution_count": 49,
   "metadata": {},
   "outputs": [
    {
     "data": {
      "text/plain": [
       "1.3610637587044965"
      ]
     },
     "execution_count": 49,
     "metadata": {},
     "output_type": "execute_result"
    }
   ],
   "source": [
    "np.linalg.norm(A@x-b)"
   ]
  },
  {
   "cell_type": "code",
   "execution_count": 50,
   "metadata": {},
   "outputs": [
    {
     "data": {
      "text/plain": [
       "LinearRegression(copy_X=True, fit_intercept=True, n_jobs=None,\n",
       "         normalize=False)"
      ]
     },
     "execution_count": 50,
     "metadata": {},
     "output_type": "execute_result"
    }
   ],
   "source": [
    "reg = linear_model.LinearRegression()\n",
    "reg.fit(A, b)"
   ]
  },
  {
   "cell_type": "code",
   "execution_count": 51,
   "metadata": {},
   "outputs": [
    {
     "data": {
      "text/plain": [
       "array([4.51564283, 5.79076264, 5.53919531, 3.97884731, 4.89440647,\n",
       "       5.59286759, 4.56035484, 4.11813575, 5.47281493, 5.50674201,\n",
       "       5.11962562, 5.03026588, 5.22516695, 4.96003518, 4.97945509,\n",
       "       5.62433399, 4.82709253, 4.63094374, 5.02196098, 6.02319847,\n",
       "       5.27385725, 4.9128151 , 5.14713348, 4.705666  , 5.41949663,\n",
       "       5.1013301 , 4.3290809 , 4.99906   , 3.6903174 , 5.70825558])"
      ]
     },
     "execution_count": 51,
     "metadata": {},
     "output_type": "execute_result"
    }
   ],
   "source": [
    "reg.predict(A)"
   ]
  },
  {
   "cell_type": "code",
   "execution_count": 52,
   "metadata": {},
   "outputs": [
    {
     "data": {
      "text/plain": [
       "1.3508793458703892"
      ]
     },
     "execution_count": 52,
     "metadata": {},
     "output_type": "execute_result"
    }
   ],
   "source": [
    "np.linalg.norm(reg.predict(A)-b)"
   ]
  },
  {
   "cell_type": "code",
   "execution_count": 53,
   "metadata": {},
   "outputs": [],
   "source": [
    "def regul_ols(A, a=1): # ridge regression\n",
    "    return np.linalg.inv((A.T@A + a*np.identity((A.T@A).shape[0])))@A.T"
   ]
  },
  {
   "cell_type": "code",
   "execution_count": 54,
   "metadata": {},
   "outputs": [],
   "source": [
    "# We are getting closer as a gets close to zero (the error norm decreases)\n",
    "reg_pseudo_A = regul_ols(A, 0.01)"
   ]
  },
  {
   "cell_type": "code",
   "execution_count": 55,
   "metadata": {},
   "outputs": [
    {
     "data": {
      "text/plain": [
       "array([ 1.93177109e+00,  1.03195393e+00, -6.03600081e-01,  8.01597934e-01,\n",
       "       -4.60412107e-01,  1.72055350e+00,  1.43210540e+00, -1.12530998e-01,\n",
       "        2.43887718e-01,  1.79606168e-01,  7.54593705e-01,  4.23246954e-01,\n",
       "        1.29679190e+00,  1.58898563e+00, -4.01156215e-01, -6.94167378e-01,\n",
       "       -1.75313338e-03,  1.88468472e-01,  1.36066404e-01, -3.16622750e-01])"
      ]
     },
     "execution_count": 55,
     "metadata": {},
     "output_type": "execute_result"
    }
   ],
   "source": [
    "reg_pseudo_A @ b"
   ]
  },
  {
   "cell_type": "code",
   "execution_count": 56,
   "metadata": {},
   "outputs": [
    {
     "data": {
      "text/plain": [
       "array([4.51181844, 5.71531664, 5.54707479, 4.03078249, 4.94447528,\n",
       "       5.57466139, 4.59818057, 4.11867891, 5.4034698 , 5.49261433,\n",
       "       5.12667033, 5.08110548, 5.1983617 , 4.96708068, 4.99474115,\n",
       "       5.58247987, 4.81313301, 4.69149236, 5.05473988, 6.00349002,\n",
       "       5.29309572, 4.92283565, 5.13570824, 4.70609225, 5.37854197,\n",
       "       5.09657352, 4.34282767, 4.9835425 , 3.72496866, 5.69036386])"
      ]
     },
     "execution_count": 56,
     "metadata": {},
     "output_type": "execute_result"
    }
   ],
   "source": [
    "A @ reg_pseudo_A @ b"
   ]
  },
  {
   "cell_type": "code",
   "execution_count": 57,
   "metadata": {},
   "outputs": [
    {
     "data": {
      "text/plain": [
       "1.362931533289322"
      ]
     },
     "execution_count": 57,
     "metadata": {},
     "output_type": "execute_result"
    }
   ],
   "source": [
    "np.linalg.norm(A @ reg_pseudo_A @ b-b)"
   ]
  },
  {
   "cell_type": "code",
   "execution_count": 58,
   "metadata": {},
   "outputs": [],
   "source": [
    "# solving with QR decomposition (Gram-Schmidt)"
   ]
  },
  {
   "cell_type": "code",
   "execution_count": 59,
   "metadata": {},
   "outputs": [],
   "source": [
    "Q,R = np.linalg.qr(A)"
   ]
  },
  {
   "cell_type": "code",
   "execution_count": 60,
   "metadata": {},
   "outputs": [
    {
     "data": {
      "text/plain": [
       "array([[-1.65232109e-01, -3.19199537e-02,  3.91927619e-01,\n",
       "        -2.28046311e-02, -8.38813798e-02,  1.85979306e-01,\n",
       "        -6.84725880e-02,  6.33909944e-02,  1.20971393e-01,\n",
       "         1.40307422e-01, -2.18640849e-01,  6.69531147e-02,\n",
       "        -3.08288476e-01, -1.79066674e-02,  1.48824522e-01,\n",
       "        -5.23794178e-02, -3.02343619e-02, -2.24795520e-01,\n",
       "         2.70966313e-01,  2.31397247e-01],\n",
       "       [-2.25396516e-01, -1.69244860e-01, -4.35109368e-02,\n",
       "         5.66128491e-02,  4.44600682e-02, -1.08016578e-01,\n",
       "         4.18081628e-03,  2.02498066e-01, -6.23469249e-03,\n",
       "        -2.02775907e-01,  1.35743257e-01, -1.43254665e-01,\n",
       "         1.42620704e-01,  4.10888805e-02,  1.69310527e-01,\n",
       "         1.56734123e-01, -5.12475812e-02, -8.41161119e-02,\n",
       "        -1.62511514e-01,  3.21919181e-01],\n",
       "       [-1.94058740e-01, -1.23848930e-01, -1.19739405e-01,\n",
       "         1.44007670e-01, -6.89180013e-02, -1.72128729e-01,\n",
       "         2.38984142e-01, -1.43179374e-01, -4.99563762e-02,\n",
       "         3.19899291e-01,  9.03936632e-02,  9.19238687e-02,\n",
       "         2.29372271e-01, -1.86033176e-03,  1.99377103e-01,\n",
       "         2.31176217e-01,  3.42007496e-01, -8.51519443e-02,\n",
       "         2.14737695e-01, -2.72846815e-01],\n",
       "       [-1.03541085e-01,  1.49956640e-01, -2.86627326e-02,\n",
       "        -2.74234801e-03,  4.01081373e-01, -8.96787755e-02,\n",
       "        -2.71304379e-01,  1.59025679e-01, -2.23489063e-01,\n",
       "         3.70263637e-01, -2.32108075e-01, -1.84151255e-01,\n",
       "         2.09563663e-01,  1.65153481e-01, -1.05082321e-01,\n",
       "         2.57612408e-01, -1.51744302e-01, -1.64154217e-01,\n",
       "        -6.16871703e-02,  7.36433005e-02],\n",
       "       [-2.27313198e-01, -9.13567371e-02,  1.11332346e-01,\n",
       "        -1.55801474e-01, -2.16267997e-01, -1.41403533e-01,\n",
       "        -2.43371735e-01, -8.28560538e-02, -3.06301772e-01,\n",
       "        -2.71708051e-01,  1.39779459e-01,  2.79286759e-02,\n",
       "        -1.88416975e-01, -5.77101202e-02, -7.32871525e-02,\n",
       "         2.67647480e-01,  7.10553312e-02, -1.34624229e-01,\n",
       "        -8.62340367e-02, -9.24777500e-02],\n",
       "       [-1.36409938e-01, -7.38854447e-02,  8.01841876e-02,\n",
       "         3.07257225e-01,  6.86816878e-02, -3.70813613e-01,\n",
       "        -1.51244164e-01,  2.01641886e-01, -6.45031595e-02,\n",
       "         6.17818633e-02,  1.67812895e-02, -2.83689341e-02,\n",
       "        -1.63991525e-01,  1.93276025e-01,  3.46303876e-01,\n",
       "        -1.00911083e-01, -1.83811995e-01, -2.31616589e-02,\n",
       "        -3.04771771e-02, -3.48885453e-01],\n",
       "       [-2.36868225e-01, -8.39409425e-02, -3.01434643e-01,\n",
       "         2.42683054e-01, -1.24001170e-01,  4.57484680e-01,\n",
       "         1.34003996e-04,  1.60285331e-01,  1.38624947e-01,\n",
       "        -8.79896818e-02, -1.84278315e-02,  2.63910423e-02,\n",
       "         1.20046857e-01, -2.12060658e-01,  1.15133002e-01,\n",
       "         8.24311176e-02, -2.58880545e-02, -5.73568392e-02,\n",
       "        -3.49305247e-01, -2.31024354e-01],\n",
       "       [-1.00153883e-01,  1.43792920e-02,  2.76174892e-01,\n",
       "         1.45124265e-01,  1.83175797e-01,  1.72911721e-02,\n",
       "         3.52992094e-01, -4.58515017e-02, -3.10371501e-01,\n",
       "         3.39002544e-02, -1.21594805e-01,  2.90373318e-01,\n",
       "         5.00141865e-02, -2.17225748e-01, -3.86091374e-01,\n",
       "         3.02862230e-02,  8.53575986e-02,  1.53459117e-01,\n",
       "        -2.45831976e-01, -6.02689042e-02],\n",
       "       [-1.96268614e-01,  2.04554766e-01,  8.55562432e-02,\n",
       "        -7.58340287e-03, -2.98371539e-01,  2.66720355e-01,\n",
       "        -6.29223608e-02, -6.93123172e-02, -5.98355625e-02,\n",
       "         1.55279999e-01,  1.43024063e-02,  1.77379801e-01,\n",
       "        -1.08203267e-02,  2.87930679e-01,  5.32591885e-02,\n",
       "        -2.18681077e-01, -1.73883864e-02, -2.02639542e-01,\n",
       "         1.55925510e-01, -1.31231832e-01],\n",
       "       [-2.08327560e-01,  1.90115182e-03,  4.43613416e-02,\n",
       "         4.51772804e-02,  1.48222207e-01, -7.70104295e-02,\n",
       "        -2.73996596e-01, -3.72096788e-01,  1.77642861e-01,\n",
       "        -4.10886140e-02,  1.16572282e-01,  3.98950742e-02,\n",
       "         1.02640459e-01, -7.75809386e-02,  1.39936549e-01,\n",
       "        -3.53398120e-01,  3.64275580e-01,  1.05266691e-01,\n",
       "        -1.10345395e-01,  1.10879136e-01],\n",
       "       [-1.88645240e-01,  1.17809007e-01, -1.86183721e-02,\n",
       "        -1.94342565e-02, -2.62905814e-01, -1.09559884e-02,\n",
       "        -5.26952604e-02,  1.18065497e-01, -2.43600327e-01,\n",
       "         1.36507840e-01, -3.68971010e-01, -1.93547340e-01,\n",
       "        -1.01065431e-01, -1.43231119e-01, -5.19440357e-02,\n",
       "        -1.38941927e-01,  3.86848524e-01,  1.37324930e-01,\n",
       "         6.49145421e-03, -1.19401929e-01],\n",
       "       [-1.81088275e-01,  2.41427756e-01,  1.61007281e-02,\n",
       "        -2.10377819e-01, -2.34026179e-01, -1.41683842e-01,\n",
       "        -8.41564394e-02,  2.28876665e-01,  1.43678818e-01,\n",
       "        -2.48161471e-01,  1.07441141e-01, -2.07832170e-01,\n",
       "         3.37502050e-01,  1.14372714e-01, -3.18749130e-01,\n",
       "        -2.22087891e-01, -2.55149227e-02,  1.25906954e-02,\n",
       "         2.72427766e-02, -6.31433856e-02],\n",
       "       [-2.22108175e-01, -1.48591504e-01, -2.35261615e-01,\n",
       "         1.25402175e-01, -2.02268937e-02,  1.04711729e-01,\n",
       "        -5.51889421e-02, -1.79302327e-01,  5.14810655e-02,\n",
       "        -1.52596337e-01, -4.19246600e-01,  1.16563211e-01,\n",
       "         6.88342745e-03,  5.16617246e-01, -5.10513196e-02,\n",
       "         6.92630149e-02,  4.93175998e-02,  6.65317405e-02,\n",
       "        -2.05134835e-01,  1.57471917e-01],\n",
       "       [-9.67931653e-02,  4.48079173e-01, -1.63564262e-01,\n",
       "        -1.02735419e-01,  3.82572665e-01,  2.29011024e-02,\n",
       "         1.98393019e-01, -6.19430592e-03,  8.76137233e-02,\n",
       "        -1.67845279e-01, -2.90785233e-01,  3.17749103e-02,\n",
       "        -4.76914795e-02, -6.57433827e-02,  2.79132494e-01,\n",
       "        -1.75384289e-01, -9.70793623e-02,  1.88944371e-01,\n",
       "         1.09368620e-01, -9.52642808e-02],\n",
       "       [-1.55557444e-01, -1.39253742e-01,  1.54573675e-01,\n",
       "         4.62303263e-03,  3.38049842e-01, -1.62640360e-01,\n",
       "         1.38180750e-02,  3.91400523e-02,  3.51535630e-01,\n",
       "         1.17462145e-01,  1.47703285e-01, -1.41083613e-01,\n",
       "        -1.16878138e-01,  1.17683670e-01, -2.31011328e-01,\n",
       "        -7.23503845e-02,  3.27230471e-01, -3.08044070e-02,\n",
       "        -4.03153125e-02, -7.81527882e-02],\n",
       "       [-1.75941293e-01,  1.75414639e-01, -2.42251824e-01,\n",
       "         1.88150657e-01,  2.08294324e-02, -1.62281968e-01,\n",
       "        -2.45085467e-01,  1.88750219e-01, -1.08935757e-01,\n",
       "        -1.21126503e-02, -3.43261915e-02,  5.23705520e-02,\n",
       "        -1.62267578e-01, -2.14584383e-01, -2.10541512e-01,\n",
       "        -1.80659188e-01,  1.01845077e-01, -5.32332980e-02,\n",
       "        -5.40505549e-03,  1.62608782e-01],\n",
       "       [-1.17591716e-01,  3.99298406e-01,  1.00964591e-01,\n",
       "         2.37380694e-01, -7.23016522e-02, -1.72166479e-01,\n",
       "        -1.30728177e-01, -1.43662709e-01,  3.17721242e-01,\n",
       "        -1.45918033e-01,  5.55010693e-02,  1.10329223e-01,\n",
       "         1.04983296e-02, -2.39382628e-01,  5.76123241e-02,\n",
       "         3.62030397e-01, -1.20237977e-01,  4.35964299e-02,\n",
       "         3.83363827e-02, -1.55837623e-01],\n",
       "       [-1.44342454e-01,  1.82278654e-01,  5.54768517e-02,\n",
       "        -2.22839699e-02,  1.06343608e-02,  1.13942121e-02,\n",
       "         5.23152477e-02, -2.22379452e-01,  1.17206179e-01,\n",
       "         3.01562107e-01,  2.08119371e-01,  2.17388578e-01,\n",
       "         3.06436431e-03,  1.06625900e-02, -5.67825037e-02,\n",
       "        -1.48886155e-01, -2.03475845e-01, -3.01653447e-01,\n",
       "        -4.15964182e-01,  1.73280597e-01],\n",
       "       [-1.55830298e-01, -1.04303693e-01,  5.22529016e-03,\n",
       "         2.68651478e-01, -1.44299432e-01, -1.92324295e-01,\n",
       "         2.92617504e-01, -8.56790102e-04,  2.48799533e-01,\n",
       "        -1.09577255e-01, -1.07571492e-01, -1.26616833e-02,\n",
       "        -2.82542474e-01,  1.37864093e-01, -1.67399591e-01,\n",
       "         1.18576012e-01, -5.82855088e-02,  2.03663004e-01,\n",
       "         1.29432140e-01,  2.44128529e-01],\n",
       "       [-2.36649515e-01, -7.74909380e-02, -3.14545529e-01,\n",
       "        -1.21720510e-01,  6.83925952e-02, -8.29202618e-02,\n",
       "         1.30472358e-01, -4.23921568e-02, -1.27123342e-01,\n",
       "         5.42003703e-02,  1.31537661e-01, -6.19965739e-02,\n",
       "        -4.82647680e-01, -2.17069191e-01, -7.02852633e-02,\n",
       "        -1.37370210e-01, -2.56476207e-01, -1.21068212e-01,\n",
       "        -1.46677068e-02, -4.00785786e-02],\n",
       "       [-2.25158664e-01, -2.63073812e-01, -6.65876511e-02,\n",
       "        -2.64199020e-01,  2.16342278e-01, -2.73715015e-02,\n",
       "        -4.88186488e-02,  1.58195853e-01, -1.80125583e-01,\n",
       "        -1.92112376e-01,  1.24733703e-01,  4.87156895e-01,\n",
       "         1.35113907e-01,  3.80138447e-03,  1.75296276e-01,\n",
       "        -1.33577265e-01, -6.15440989e-03,  1.30518972e-01,\n",
       "         1.96994536e-01,  5.12227190e-02],\n",
       "       [-2.11454403e-01,  1.36526232e-02, -1.32748410e-01,\n",
       "         1.28563828e-01,  1.73062861e-02,  2.95132183e-01,\n",
       "        -1.64486539e-02, -1.51007780e-01, -1.51171314e-01,\n",
       "         2.52671730e-01,  3.81627528e-01, -3.74417648e-01,\n",
       "        -9.07655890e-03,  2.93797061e-02,  6.43168386e-03,\n",
       "         5.17025231e-03, -1.05734987e-01,  4.43792864e-01,\n",
       "         1.88555882e-01,  1.61063828e-01],\n",
       "       [-2.01202518e-01,  7.97883027e-02,  4.24483402e-02,\n",
       "        -1.46166424e-01, -1.32871910e-01, -1.76507669e-01,\n",
       "        -1.58485716e-01, -3.34851210e-01, -1.01770821e-01,\n",
       "         8.13894828e-02, -1.02996405e-01,  1.49686965e-01,\n",
       "         1.56365887e-01, -3.94437165e-02, -4.65317718e-02,\n",
       "         1.81748403e-01, -2.53142804e-01,  2.72945456e-01,\n",
       "         1.24166519e-01,  1.25188554e-01],\n",
       "       [-1.02794179e-01,  4.05207058e-01,  1.64368832e-01,\n",
       "        -1.51410148e-01,  2.81716116e-02,  1.17614983e-01,\n",
       "         1.80679922e-01,  2.76489837e-01, -1.19126527e-01,\n",
       "        -4.76699636e-02,  2.51579575e-01,  3.66854743e-02,\n",
       "        -1.85187094e-01,  1.92359893e-01,  2.55486103e-01,\n",
       "         2.81756734e-01,  3.18416270e-01,  9.77545055e-02,\n",
       "        -1.90722526e-01,  2.16462195e-01],\n",
       "       [-2.20187497e-01, -1.09869801e-01,  1.67305611e-01,\n",
       "        -3.99897507e-01, -2.84157117e-02,  8.72795334e-03,\n",
       "         1.17347163e-01,  3.86412402e-02,  1.62641979e-01,\n",
       "         1.08750051e-01, -2.10240975e-02, -8.73411425e-02,\n",
       "        -9.00476501e-02,  1.77231650e-01, -5.92948817e-02,\n",
       "         1.13096589e-02, -1.99718023e-01,  2.71299241e-01,\n",
       "        -2.34434488e-01, -4.11336942e-01],\n",
       "       [-1.89354832e-01,  7.14138967e-02, -3.28811028e-02,\n",
       "        -7.86738310e-02,  1.99440934e-01,  8.01766505e-02,\n",
       "         2.64966640e-01, -3.63236864e-01, -1.42048392e-01,\n",
       "        -3.40561422e-01, -1.82086533e-02, -3.14441197e-01,\n",
       "         3.68943853e-02,  7.57048731e-02, -5.94567364e-02,\n",
       "         7.18834839e-02,  4.21542417e-02, -4.47410376e-01,\n",
       "         2.01826105e-01, -1.06533500e-01],\n",
       "       [-9.58278376e-02,  2.88578404e-02,  3.51414254e-01,\n",
       "         4.50795335e-01,  1.29910458e-02,  3.71329610e-02,\n",
       "         1.49933248e-01,  8.62757299e-02, -2.53843850e-01,\n",
       "        -1.75096365e-01,  1.18325124e-01, -3.88985307e-02,\n",
       "         1.90995663e-01,  1.13788825e-01, -3.23522524e-02,\n",
       "        -2.91152170e-01, -2.11705950e-01,  2.50486836e-02,\n",
       "         5.74564190e-02, -3.12698911e-02],\n",
       "       [-1.81774043e-01,  4.10875695e-02, -1.77628736e-01,\n",
       "         7.66402540e-03,  6.49031798e-02,  1.30560444e-01,\n",
       "         4.34303157e-02,  2.99541078e-01,  2.15368069e-01,\n",
       "         1.12984323e-01,  1.14798768e-01,  2.79927524e-01,\n",
       "         8.38582623e-02,  3.33493787e-02, -3.29395802e-01,\n",
       "         1.28733061e-01, -3.72339558e-03, -1.07649701e-01,\n",
       "         3.78041114e-01, -3.58766704e-02],\n",
       "       [-1.94973553e-01, -2.07169883e-01,  3.44059589e-01,\n",
       "        -6.22176513e-03,  2.13859912e-01,  3.34544075e-01,\n",
       "        -2.55057142e-01,  3.85541361e-02,  1.28408497e-01,\n",
       "        -8.99719319e-02, -1.34495839e-01, -1.31606626e-01,\n",
       "         1.71265376e-02, -2.92946196e-01, -1.01219880e-04,\n",
       "         1.28594521e-01, -4.45598024e-02,  3.43422305e-02,\n",
       "         7.12396695e-02, -3.74842822e-02],\n",
       "       [-2.16698826e-01, -1.10956221e-01,  5.65745459e-02,\n",
       "        -1.56773999e-01, -2.03698231e-01, -2.10044092e-01,\n",
       "         3.31694232e-01,  1.20657340e-01,  1.09231180e-01,\n",
       "         1.60186404e-01, -1.88616250e-01, -1.63372729e-01,\n",
       "         2.97387008e-01, -2.90240598e-01,  2.26991604e-01,\n",
       "        -9.46498908e-02, -8.27870468e-02, -1.15654716e-01,\n",
       "        -4.32028801e-02,  2.65833371e-01]])"
      ]
     },
     "execution_count": 60,
     "metadata": {},
     "output_type": "execute_result"
    }
   ],
   "source": [
    "Q"
   ]
  },
  {
   "cell_type": "code",
   "execution_count": 61,
   "metadata": {},
   "outputs": [
    {
     "data": {
      "text/plain": [
       "array([[-3.27445697e+00, -2.92217322e+00, -2.83414756e+00,\n",
       "        -2.92548925e+00, -2.86660931e+00, -3.13606503e+00,\n",
       "        -2.80795119e+00, -2.84078432e+00, -2.95051889e+00,\n",
       "        -3.01735795e+00, -2.58327419e+00, -2.87691844e+00,\n",
       "        -2.70856917e+00, -2.78323698e+00, -2.92775331e+00,\n",
       "        -2.83393457e+00, -2.64856854e+00, -2.89203451e+00,\n",
       "        -2.91358073e+00, -2.77712066e+00],\n",
       "       [ 0.00000000e+00,  1.06426952e+00,  6.17856394e-01,\n",
       "         4.61640201e-01,  2.52222139e-01,  3.28726229e-01,\n",
       "         1.24325278e-01,  3.59500730e-01,  4.50220629e-01,\n",
       "         6.02557165e-01,  4.75421873e-01,  3.68082878e-01,\n",
       "         6.31928534e-01,  6.20263795e-01,  4.41100518e-01,\n",
       "         4.18325912e-01,  4.08272717e-01,  6.18811821e-01,\n",
       "         4.90640396e-01,  5.05954672e-01],\n",
       "       [ 0.00000000e+00,  0.00000000e+00,  8.88376236e-01,\n",
       "         3.10711568e-01, -1.78461080e-01,  1.42834263e-01,\n",
       "         1.25761519e-01,  3.93213050e-01,  3.39132894e-01,\n",
       "         2.66796691e-01,  1.44639702e-01,  5.71007642e-01,\n",
       "         4.84732554e-01,  2.25809525e-01,  1.09319214e-01,\n",
       "         3.07301154e-01,  2.05798831e-01,  3.36641352e-01,\n",
       "         4.49527563e-01,  3.17652527e-01],\n",
       "       [ 0.00000000e+00,  0.00000000e+00,  0.00000000e+00,\n",
       "         8.01340119e-01,  1.62079537e-01,  1.92623774e-01,\n",
       "         3.65295317e-01, -2.04921100e-01,  1.80991641e-01,\n",
       "         5.11439270e-02,  2.08924142e-01,  4.10849014e-01,\n",
       "         3.81059096e-01, -2.96060391e-02,  2.12816578e-01,\n",
       "         2.99183005e-01,  1.35475870e-01,  1.45681244e-01,\n",
       "        -3.22703904e-02,  3.90567619e-01],\n",
       "       [ 0.00000000e+00,  0.00000000e+00,  0.00000000e+00,\n",
       "         0.00000000e+00,  9.53993392e-01,  2.17932701e-01,\n",
       "         4.73773013e-01,  2.38172445e-01,  3.27973906e-01,\n",
       "         3.48653224e-01,  3.57516680e-01,  2.05696269e-01,\n",
       "         3.41406751e-01,  3.25976640e-01,  1.55202926e-01,\n",
       "         2.48728065e-01,  4.82021532e-01,  3.39371695e-01,\n",
       "         4.82517517e-01,  3.92225272e-01],\n",
       "       [ 0.00000000e+00,  0.00000000e+00,  0.00000000e+00,\n",
       "         0.00000000e+00,  0.00000000e+00, -8.06572633e-01,\n",
       "        -3.17616628e-01,  1.79101364e-01, -4.50540288e-01,\n",
       "        -1.38359586e-01, -1.96609911e-01, -1.77471087e-01,\n",
       "        -2.37499312e-01, -2.72285453e-02, -3.27044867e-01,\n",
       "         9.91393424e-02, -9.71521811e-02, -1.68628451e-02,\n",
       "        -2.16291533e-02, -1.26287403e-01],\n",
       "       [ 0.00000000e+00,  0.00000000e+00,  0.00000000e+00,\n",
       "         0.00000000e+00,  0.00000000e+00,  0.00000000e+00,\n",
       "         8.22198831e-01,  1.02335340e-01,  2.52749346e-01,\n",
       "         2.20709084e-01,  5.71850839e-03, -8.47700595e-03,\n",
       "         1.09805279e-01,  1.54522584e-01,  1.42103482e-01,\n",
       "         4.46407182e-02,  1.87770301e-01,  1.88159068e-01,\n",
       "         1.57394032e-01,  1.59845291e-01],\n",
       "       [ 0.00000000e+00,  0.00000000e+00,  0.00000000e+00,\n",
       "         0.00000000e+00,  0.00000000e+00,  0.00000000e+00,\n",
       "         0.00000000e+00,  7.18906646e-01,  4.34789445e-01,\n",
       "         1.15925987e-01,  2.84712099e-01, -7.04279438e-02,\n",
       "         2.08883202e-01,  3.44887967e-01, -2.79827525e-02,\n",
       "         1.38440109e-01,  1.45976592e-01,  1.32650027e-01,\n",
       "         8.70666915e-02,  2.41835362e-01],\n",
       "       [ 0.00000000e+00,  0.00000000e+00,  0.00000000e+00,\n",
       "         0.00000000e+00,  0.00000000e+00,  0.00000000e+00,\n",
       "         0.00000000e+00,  0.00000000e+00, -8.22048289e-01,\n",
       "         2.11865762e-03, -1.47454639e-01, -1.27996548e-02,\n",
       "         1.84846661e-01, -1.79628622e-02, -4.54153995e-02,\n",
       "         8.28647540e-02,  2.63673898e-02, -1.54291785e-01,\n",
       "        -2.25430514e-01, -6.40993599e-02],\n",
       "       [ 0.00000000e+00,  0.00000000e+00,  0.00000000e+00,\n",
       "         0.00000000e+00,  0.00000000e+00,  0.00000000e+00,\n",
       "         0.00000000e+00,  0.00000000e+00,  0.00000000e+00,\n",
       "         7.64345454e-01,  1.63519356e-01,  1.45636876e-01,\n",
       "         1.65725184e-01,  2.71657026e-02, -9.20629857e-02,\n",
       "         6.07394139e-02, -2.27051315e-01,  1.05191586e-01,\n",
       "         1.96030621e-01,  2.13994975e-01],\n",
       "       [ 0.00000000e+00,  0.00000000e+00,  0.00000000e+00,\n",
       "         0.00000000e+00,  0.00000000e+00,  0.00000000e+00,\n",
       "         0.00000000e+00,  0.00000000e+00,  0.00000000e+00,\n",
       "         0.00000000e+00, -5.71642542e-01,  2.16659369e-01,\n",
       "         8.91228643e-02, -1.16355464e-01,  5.67158880e-02,\n",
       "        -1.88442261e-01,  1.31704030e-02,  1.54421760e-01,\n",
       "        -1.49529541e-01, -4.10429330e-01],\n",
       "       [ 0.00000000e+00,  0.00000000e+00,  0.00000000e+00,\n",
       "         0.00000000e+00,  0.00000000e+00,  0.00000000e+00,\n",
       "         0.00000000e+00,  0.00000000e+00,  0.00000000e+00,\n",
       "         0.00000000e+00,  0.00000000e+00,  6.06556433e-01,\n",
       "         1.13401301e-01,  2.52981453e-01,  1.07724812e-01,\n",
       "         3.19059221e-01,  2.21659504e-01,  3.61920957e-01,\n",
       "         2.06693603e-02,  1.81158446e-01],\n",
       "       [ 0.00000000e+00,  0.00000000e+00,  0.00000000e+00,\n",
       "         0.00000000e+00,  0.00000000e+00,  0.00000000e+00,\n",
       "         0.00000000e+00,  0.00000000e+00,  0.00000000e+00,\n",
       "         0.00000000e+00,  0.00000000e+00,  0.00000000e+00,\n",
       "        -6.56488750e-01,  2.13396841e-01, -1.96880449e-01,\n",
       "         6.16722455e-02,  1.18104696e-01,  2.13454968e-01,\n",
       "        -1.18995925e-02,  1.55723802e-01],\n",
       "       [ 0.00000000e+00,  0.00000000e+00,  0.00000000e+00,\n",
       "         0.00000000e+00,  0.00000000e+00,  0.00000000e+00,\n",
       "         0.00000000e+00,  0.00000000e+00,  0.00000000e+00,\n",
       "         0.00000000e+00,  0.00000000e+00,  0.00000000e+00,\n",
       "         0.00000000e+00,  6.16073671e-01,  2.08655120e-01,\n",
       "         1.58180371e-01, -1.45786152e-02,  3.77067921e-01,\n",
       "        -1.84170246e-02, -5.94320875e-02],\n",
       "       [ 0.00000000e+00,  0.00000000e+00,  0.00000000e+00,\n",
       "         0.00000000e+00,  0.00000000e+00,  0.00000000e+00,\n",
       "         0.00000000e+00,  0.00000000e+00,  0.00000000e+00,\n",
       "         0.00000000e+00,  0.00000000e+00,  0.00000000e+00,\n",
       "         0.00000000e+00,  0.00000000e+00, -7.40749987e-01,\n",
       "        -6.82213215e-02,  3.14678388e-02, -2.21649950e-01,\n",
       "         1.74995756e-01, -5.61375489e-02],\n",
       "       [ 0.00000000e+00,  0.00000000e+00,  0.00000000e+00,\n",
       "         0.00000000e+00,  0.00000000e+00,  0.00000000e+00,\n",
       "         0.00000000e+00,  0.00000000e+00,  0.00000000e+00,\n",
       "         0.00000000e+00,  0.00000000e+00,  0.00000000e+00,\n",
       "         0.00000000e+00,  0.00000000e+00,  0.00000000e+00,\n",
       "         6.76858719e-01,  5.39387343e-02, -1.12080038e-01,\n",
       "         3.89955406e-01,  6.46393168e-02],\n",
       "       [ 0.00000000e+00,  0.00000000e+00,  0.00000000e+00,\n",
       "         0.00000000e+00,  0.00000000e+00,  0.00000000e+00,\n",
       "         0.00000000e+00,  0.00000000e+00,  0.00000000e+00,\n",
       "         0.00000000e+00,  0.00000000e+00,  0.00000000e+00,\n",
       "         0.00000000e+00,  0.00000000e+00,  0.00000000e+00,\n",
       "         0.00000000e+00,  5.03358915e-01,  1.20336385e-01,\n",
       "        -1.15060504e-01,  3.13140392e-02],\n",
       "       [ 0.00000000e+00,  0.00000000e+00,  0.00000000e+00,\n",
       "         0.00000000e+00,  0.00000000e+00,  0.00000000e+00,\n",
       "         0.00000000e+00,  0.00000000e+00,  0.00000000e+00,\n",
       "         0.00000000e+00,  0.00000000e+00,  0.00000000e+00,\n",
       "         0.00000000e+00,  0.00000000e+00,  0.00000000e+00,\n",
       "         0.00000000e+00,  0.00000000e+00,  4.58435669e-01,\n",
       "        -2.41583167e-02, -5.27701741e-03],\n",
       "       [ 0.00000000e+00,  0.00000000e+00,  0.00000000e+00,\n",
       "         0.00000000e+00,  0.00000000e+00,  0.00000000e+00,\n",
       "         0.00000000e+00,  0.00000000e+00,  0.00000000e+00,\n",
       "         0.00000000e+00,  0.00000000e+00,  0.00000000e+00,\n",
       "         0.00000000e+00,  0.00000000e+00,  0.00000000e+00,\n",
       "         0.00000000e+00,  0.00000000e+00,  0.00000000e+00,\n",
       "         4.28987720e-01, -1.49877892e-01],\n",
       "       [ 0.00000000e+00,  0.00000000e+00,  0.00000000e+00,\n",
       "         0.00000000e+00,  0.00000000e+00,  0.00000000e+00,\n",
       "         0.00000000e+00,  0.00000000e+00,  0.00000000e+00,\n",
       "         0.00000000e+00,  0.00000000e+00,  0.00000000e+00,\n",
       "         0.00000000e+00,  0.00000000e+00,  0.00000000e+00,\n",
       "         0.00000000e+00,  0.00000000e+00,  0.00000000e+00,\n",
       "         0.00000000e+00,  4.12714430e-01]])"
      ]
     },
     "execution_count": 61,
     "metadata": {},
     "output_type": "execute_result"
    }
   ],
   "source": [
    "R"
   ]
  },
  {
   "cell_type": "code",
   "execution_count": 62,
   "metadata": {},
   "outputs": [
    {
     "data": {
      "text/plain": [
       "array([[ 1.00000000e+00, -2.93262372e-17,  1.23166205e-16,\n",
       "         7.91189882e-18, -2.64565494e-17,  1.18262608e-16,\n",
       "         8.74255399e-18,  4.77841666e-17,  1.86069817e-17,\n",
       "         1.66640499e-17, -7.27619077e-17,  5.36090013e-17,\n",
       "        -1.19222833e-16, -2.32401177e-17,  7.18729003e-17,\n",
       "        -4.93546586e-17, -3.20492820e-17, -1.79557753e-16,\n",
       "         1.21889883e-16,  1.00031217e-17],\n",
       "       [-2.93262372e-17,  1.00000000e+00,  3.29419936e-17,\n",
       "         1.53256507e-17, -9.74103181e-18,  2.57330236e-17,\n",
       "         1.90885835e-17, -7.45646533e-17, -3.58598263e-17,\n",
       "         5.70490386e-17, -4.39157004e-17,  4.79207767e-17,\n",
       "        -4.72954610e-17, -2.45561548e-17, -1.80460887e-17,\n",
       "        -2.50977790e-17,  4.95462303e-17,  3.49615617e-17,\n",
       "         5.33884311e-17, -1.00554134e-16],\n",
       "       [ 1.23166205e-16,  3.29419936e-17,  1.00000000e+00,\n",
       "         3.25384501e-17, -8.18492919e-18, -3.90233873e-17,\n",
       "         1.72046832e-17, -1.97251329e-17,  2.99379224e-17,\n",
       "         4.63868052e-18,  3.52246806e-17,  1.24193098e-17,\n",
       "        -3.79742243e-17,  3.26396060e-17, -4.59245731e-17,\n",
       "         3.32158062e-18,  1.43193354e-17,  2.58454872e-17,\n",
       "         2.44961599e-17, -1.61623101e-17],\n",
       "       [ 7.91189882e-18,  1.53256507e-17,  3.25384501e-17,\n",
       "         1.00000000e+00,  7.66809474e-17, -8.80844397e-17,\n",
       "        -6.83342851e-17, -1.64000385e-17, -3.90058940e-17,\n",
       "         1.10553116e-16, -3.57628785e-17, -1.68089972e-17,\n",
       "         4.88189531e-17,  3.44204208e-17, -7.58960937e-17,\n",
       "         7.14835904e-17, -2.73000731e-17,  1.40353760e-17,\n",
       "        -4.37299788e-17,  3.33260230e-17],\n",
       "       [-2.64565494e-17, -9.74103181e-18, -8.18492919e-18,\n",
       "         7.66809474e-17,  1.00000000e+00,  6.64202594e-18,\n",
       "         3.15447231e-17,  8.24307009e-17,  4.56916525e-17,\n",
       "         3.44027713e-17, -7.06968236e-17, -1.62153765e-18,\n",
       "         2.41694150e-18, -4.06311334e-17,  1.63524650e-17,\n",
       "         3.21861084e-17, -9.72975698e-18, -5.15843388e-18,\n",
       "        -3.02606675e-17, -4.72359168e-17],\n",
       "       [ 1.18262608e-16,  2.57330236e-17, -3.90233873e-17,\n",
       "        -8.80844397e-17,  6.64202594e-18,  1.00000000e+00,\n",
       "         6.21776335e-17, -4.40447765e-17,  9.35150764e-17,\n",
       "        -2.96535369e-17,  7.51700102e-18,  3.36350284e-18,\n",
       "        -9.69140803e-18,  3.06250825e-17, -4.35267763e-17,\n",
       "        -2.14262157e-17,  1.07237373e-16, -2.98456901e-17,\n",
       "        -2.75604475e-18,  6.84514512e-17],\n",
       "       [ 8.74255399e-18,  1.90885835e-17,  1.72046832e-17,\n",
       "        -6.83342851e-17,  3.15447231e-17,  6.21776335e-17,\n",
       "         1.00000000e+00, -2.17213820e-17,  5.94622276e-17,\n",
       "        -3.02525639e-17, -2.42969311e-17, -7.26080163e-17,\n",
       "        -3.56184000e-17,  3.32669015e-17,  3.17194266e-18,\n",
       "        -3.03089332e-17, -2.40855506e-17, -4.03723222e-17,\n",
       "         2.50060315e-17,  1.01709287e-17],\n",
       "       [ 4.77841666e-17, -7.45646533e-17, -1.97251329e-17,\n",
       "        -1.64000385e-17,  8.24307009e-17, -4.40447765e-17,\n",
       "        -2.17213820e-17,  1.00000000e+00, -4.64536211e-17,\n",
       "        -1.89211283e-17,  3.06392260e-17,  3.61892776e-17,\n",
       "         5.17636853e-17, -5.69244310e-17, -8.87701388e-18,\n",
       "         8.82978128e-17, -4.26496046e-17,  1.07990728e-16,\n",
       "        -1.11894129e-16,  1.29926724e-16],\n",
       "       [ 1.86069817e-17, -3.58598263e-17,  2.99379224e-17,\n",
       "        -3.90058940e-17,  4.56916525e-17,  9.35150764e-17,\n",
       "         5.94622276e-17, -4.64536211e-17,  1.00000000e+00,\n",
       "        -1.86797203e-17, -7.16943181e-17, -8.63642212e-18,\n",
       "        -9.41762485e-18,  1.10319727e-17,  1.33536268e-17,\n",
       "        -1.02476277e-16,  7.29356342e-17, -1.79401863e-17,\n",
       "        -5.38098611e-17,  4.49500139e-18],\n",
       "       [ 1.66640499e-17,  5.70490386e-17,  4.63868052e-18,\n",
       "         1.10553116e-16,  3.44027713e-17, -2.96535369e-17,\n",
       "        -3.02525639e-17, -1.89211283e-17, -1.86797203e-17,\n",
       "         1.00000000e+00, -4.09009723e-17, -5.99771146e-17,\n",
       "        -8.16369148e-17, -1.73342914e-17, -4.35718553e-18,\n",
       "         1.24322351e-16, -2.84497143e-17, -2.05219697e-17,\n",
       "         3.18486916e-17, -5.98325555e-17],\n",
       "       [-7.27619077e-17, -4.39157004e-17,  3.52246806e-17,\n",
       "        -3.57628785e-17, -7.06968236e-17,  7.51700102e-18,\n",
       "        -2.42969311e-17,  3.06392260e-17, -7.16943181e-17,\n",
       "        -4.09009723e-17,  1.00000000e+00, -2.62976095e-18,\n",
       "         4.43278720e-18, -1.96787980e-17,  1.04976749e-16,\n",
       "         1.19889489e-16, -3.78846045e-17, -1.16781688e-16,\n",
       "         3.31254237e-17,  6.24781730e-17],\n",
       "       [ 5.36090013e-17,  4.79207767e-17,  1.24193098e-17,\n",
       "        -1.68089972e-17, -1.62153765e-18,  3.36350284e-18,\n",
       "        -7.26080163e-17,  3.61892776e-17, -8.63642212e-18,\n",
       "        -5.99771146e-17, -2.62976095e-18,  1.00000000e+00,\n",
       "        -9.97419358e-17,  4.21095625e-17,  1.31409364e-16,\n",
       "         7.70419414e-17,  1.77327304e-17,  2.23284282e-17,\n",
       "        -4.78693349e-18,  1.24831844e-17],\n",
       "       [-1.19222833e-16, -4.72954610e-17, -3.79742243e-17,\n",
       "         4.88189531e-17,  2.41694150e-18, -9.69140803e-18,\n",
       "        -3.56184000e-17,  5.17636853e-17, -9.41762485e-18,\n",
       "        -8.16369148e-17,  4.43278720e-18, -9.97419358e-17,\n",
       "         1.00000000e+00, -7.18668750e-17,  7.95732499e-17,\n",
       "         5.65470606e-18,  1.66389888e-17, -8.16388226e-17,\n",
       "         4.67861446e-17, -5.79249255e-17],\n",
       "       [-2.32401177e-17, -2.45561548e-17,  3.26396060e-17,\n",
       "         3.44204208e-17, -4.06311334e-17,  3.06250825e-17,\n",
       "         3.32669015e-17, -5.69244310e-17,  1.10319727e-17,\n",
       "        -1.73342914e-17, -1.96787980e-17,  4.21095625e-17,\n",
       "        -7.18668750e-17,  1.00000000e+00, -1.07974367e-16,\n",
       "        -2.87384194e-17,  1.88889324e-16, -4.37830738e-17,\n",
       "        -1.83702451e-17,  1.11250538e-16],\n",
       "       [ 7.18729003e-17, -1.80460887e-17, -4.59245731e-17,\n",
       "        -7.58960937e-17,  1.63524650e-17, -4.35267763e-17,\n",
       "         3.17194266e-18, -8.87701388e-18,  1.33536268e-17,\n",
       "        -4.35718553e-18,  1.04976749e-16,  1.31409364e-16,\n",
       "         7.95732499e-17, -1.07974367e-16,  1.00000000e+00,\n",
       "         5.82971646e-17,  6.19896694e-17, -1.15829248e-17,\n",
       "        -5.32235340e-17, -3.50116672e-17],\n",
       "       [-4.93546586e-17, -2.50977790e-17,  3.32158062e-18,\n",
       "         7.14835904e-17,  3.21861084e-17, -2.14262157e-17,\n",
       "        -3.03089332e-17,  8.82978128e-17, -1.02476277e-16,\n",
       "         1.24322351e-16,  1.19889489e-16,  7.70419414e-17,\n",
       "         5.65470606e-18, -2.87384194e-17,  5.82971646e-17,\n",
       "         1.00000000e+00, -1.24872164e-17, -6.99572962e-17,\n",
       "         4.84594210e-17, -1.05393773e-16],\n",
       "       [-3.20492820e-17,  4.95462303e-17,  1.43193354e-17,\n",
       "        -2.73000731e-17, -9.72975698e-18,  1.07237373e-16,\n",
       "        -2.40855506e-17, -4.26496046e-17,  7.29356342e-17,\n",
       "        -2.84497143e-17, -3.78846045e-17,  1.77327304e-17,\n",
       "         1.66389888e-17,  1.88889324e-16,  6.19896694e-17,\n",
       "        -1.24872164e-17,  1.00000000e+00,  4.97971137e-17,\n",
       "        -8.75891428e-17,  6.47901694e-17],\n",
       "       [-1.79557753e-16,  3.49615617e-17,  2.58454872e-17,\n",
       "         1.40353760e-17, -5.15843388e-18, -2.98456901e-17,\n",
       "        -4.03723222e-17,  1.07990728e-16, -1.79401863e-17,\n",
       "        -2.05219697e-17, -1.16781688e-16,  2.23284282e-17,\n",
       "        -8.16388226e-17, -4.37830738e-17, -1.15829248e-17,\n",
       "        -6.99572962e-17,  4.97971137e-17,  1.00000000e+00,\n",
       "         1.35423200e-16,  1.52645039e-17],\n",
       "       [ 1.21889883e-16,  5.33884311e-17,  2.44961599e-17,\n",
       "        -4.37299788e-17, -3.02606675e-17, -2.75604475e-18,\n",
       "         2.50060315e-17, -1.11894129e-16, -5.38098611e-17,\n",
       "         3.18486916e-17,  3.31254237e-17, -4.78693349e-18,\n",
       "         4.67861446e-17, -1.83702451e-17, -5.32235340e-17,\n",
       "         4.84594210e-17, -8.75891428e-17,  1.35423200e-16,\n",
       "         1.00000000e+00,  1.30066021e-16],\n",
       "       [ 1.00031217e-17, -1.00554134e-16, -1.61623101e-17,\n",
       "         3.33260230e-17, -4.72359168e-17,  6.84514512e-17,\n",
       "         1.01709287e-17,  1.29926724e-16,  4.49500139e-18,\n",
       "        -5.98325555e-17,  6.24781730e-17,  1.24831844e-17,\n",
       "        -5.79249255e-17,  1.11250538e-16, -3.50116672e-17,\n",
       "        -1.05393773e-16,  6.47901694e-17,  1.52645039e-17,\n",
       "         1.30066021e-16,  1.00000000e+00]])"
      ]
     },
     "execution_count": 62,
     "metadata": {},
     "output_type": "execute_result"
    }
   ],
   "source": [
    "Q.T@Q # close to identity"
   ]
  },
  {
   "cell_type": "code",
   "execution_count": 63,
   "metadata": {},
   "outputs": [],
   "source": [
    "x = np.linalg.inv(R)@Q.T@b"
   ]
  },
  {
   "cell_type": "code",
   "execution_count": 64,
   "metadata": {},
   "outputs": [
    {
     "data": {
      "text/plain": [
       "array([ 2.02175107,  1.04241864, -0.67070127,  0.79695501, -0.52694051,\n",
       "        1.71524068,  1.43904249, -0.15689493,  0.22741529,  0.13924041,\n",
       "        0.768967  ,  0.42644174,  1.36518738,  1.6520013 , -0.43917845,\n",
       "       -0.75344984,  0.00505497,  0.20123082,  0.18654456, -0.30253981])"
      ]
     },
     "execution_count": 64,
     "metadata": {},
     "output_type": "execute_result"
    }
   ],
   "source": [
    "x"
   ]
  },
  {
   "cell_type": "code",
   "execution_count": 65,
   "metadata": {},
   "outputs": [
    {
     "data": {
      "text/plain": [
       "array([4.52626816, 5.71521606, 5.5567545 , 4.00571231, 4.93774467,\n",
       "       5.59493162, 4.59219881, 4.08968071, 5.42168437, 5.49467149,\n",
       "       5.1329851 , 5.07220483, 5.21745785, 4.98115951, 4.98198598,\n",
       "       5.58125245, 4.80313238, 4.6833139 , 5.07395116, 6.01442771,\n",
       "       5.30699197, 4.9204186 , 5.13587428, 4.70805286, 5.37681111,\n",
       "       5.09009032, 4.3384916 , 4.97902124, 3.70012775, 5.69941867])"
      ]
     },
     "execution_count": 65,
     "metadata": {},
     "output_type": "execute_result"
    }
   ],
   "source": [
    "A@x"
   ]
  },
  {
   "cell_type": "code",
   "execution_count": 66,
   "metadata": {},
   "outputs": [
    {
     "data": {
      "text/plain": [
       "1.3610637587044963"
      ]
     },
     "execution_count": 66,
     "metadata": {},
     "output_type": "execute_result"
    }
   ],
   "source": [
    "np.linalg.norm(A@x -b)"
   ]
  },
  {
   "cell_type": "markdown",
   "metadata": {},
   "source": [
    "Finding eigenvalues: fast way (with using similar matrices)"
   ]
  },
  {
   "cell_type": "code",
   "execution_count": 67,
   "metadata": {},
   "outputs": [],
   "source": [
    "# A_0 = Q_0@R_0, A_1 = R_0,Q_0, ..., A_n = R_n-1@Q_n-1\n",
    "# All A_is are similar "
   ]
  },
  {
   "cell_type": "code",
   "execution_count": 85,
   "metadata": {},
   "outputs": [],
   "source": [
    "def find_A_n(A, n):\n",
    "    for i in range(n):\n",
    "        Q, R = np.linalg.qr(A)\n",
    "        A = R@Q\n",
    "    return A"
   ]
  },
  {
   "cell_type": "code",
   "execution_count": 86,
   "metadata": {},
   "outputs": [],
   "source": [
    "C = find_A_n(A.T@A, 10)"
   ]
  },
  {
   "cell_type": "code",
   "execution_count": 88,
   "metadata": {},
   "outputs": [
    {
     "data": {
      "text/plain": [
       "array([[ 1.75636259e+02, -3.66937217e-16,  2.65313709e-15,\n",
       "        -9.21765350e-15,  6.80546833e-15,  1.10551847e-15,\n",
       "         1.82608633e-14, -4.40926359e-15, -7.08310570e-15,\n",
       "        -2.21601612e-15, -6.47009686e-15, -3.50693106e-15,\n",
       "         5.84433226e-15,  8.32932966e-15, -4.07632342e-15,\n",
       "        -4.38613706e-15,  4.83644632e-15,  5.80457245e-15,\n",
       "        -2.08199496e-15, -4.66133252e-15],\n",
       "       [ 1.15887047e-18,  1.76121292e+00, -4.53364989e-03,\n",
       "        -4.98061677e-05,  1.44824891e-03, -3.46622283e-03,\n",
       "         1.41594963e-04,  4.52201550e-05,  8.15752427e-06,\n",
       "         5.01219748e-06,  1.48209100e-06,  3.58528851e-06,\n",
       "         2.82346544e-07, -1.07790080e-09,  4.44225210e-09,\n",
       "        -5.92405243e-13,  4.02401827e-13,  1.34072996e-13,\n",
       "         8.87373319e-16, -7.50636202e-16],\n",
       "       [-1.27145496e-19, -4.53364989e-03,  1.57112128e+00,\n",
       "         7.17466726e-02, -1.04069869e-02,  3.90982515e-03,\n",
       "        -7.60546295e-03, -6.05069680e-04, -3.38120382e-05,\n",
       "         2.81797720e-05, -3.51170063e-06, -2.67768069e-05,\n",
       "        -3.46293918e-08,  1.31022959e-07, -1.83420563e-07,\n",
       "         3.80931956e-11, -4.50089359e-12, -5.91154213e-13,\n",
       "         1.53715418e-14, -8.76970426e-17],\n",
       "       [-6.51606938e-20, -4.98061677e-05,  7.17466726e-02,\n",
       "         1.21095078e+00, -1.33970077e-02, -2.91796862e-02,\n",
       "         5.26529052e-02, -2.19762529e-03, -1.58380808e-04,\n",
       "        -2.56552620e-04,  5.38971921e-05,  2.26551467e-04,\n",
       "         1.08594581e-05, -1.13556956e-06,  1.48325892e-06,\n",
       "        -3.26383641e-10,  2.02604539e-11,  3.94999561e-12,\n",
       "        -1.96727355e-13,  1.46922906e-14],\n",
       "       [ 1.37293432e-20,  1.44824891e-03, -1.04069869e-02,\n",
       "        -1.33970077e-02,  1.06072613e+00, -8.29135196e-02,\n",
       "         3.42759906e-02, -1.14579248e-03,  8.26788644e-04,\n",
       "         9.24967798e-04,  2.71244083e-04,  4.96508972e-04,\n",
       "         1.95939359e-05, -1.57283168e-06,  1.94576287e-06,\n",
       "        -2.80342241e-10,  7.30712080e-11,  1.44012150e-11,\n",
       "        -4.53645256e-13,  7.34297750e-14],\n",
       "       [ 1.02380672e-20, -3.46622283e-03,  3.90982515e-03,\n",
       "        -2.91796862e-02, -8.29135196e-02,  1.02039647e+00,\n",
       "         7.43272463e-02,  2.63286829e-03,  4.38039344e-04,\n",
       "         9.74923207e-04,  8.77625355e-05,  5.37956395e-04,\n",
       "         3.88921983e-05, -3.18114855e-06,  4.05868612e-06,\n",
       "        -1.04739861e-09,  9.15414024e-11,  1.73827060e-11,\n",
       "        -5.19413303e-13,  6.81299608e-14],\n",
       "       [ 3.35665369e-21,  1.41594963e-04, -7.60546295e-03,\n",
       "         5.26529052e-02,  3.42759906e-02,  7.43272463e-02,\n",
       "         9.64524675e-01,  1.01965363e-02,  9.64090104e-04,\n",
       "        -4.61753477e-03, -4.79986031e-04,  1.94023126e-04,\n",
       "        -7.37039199e-05,  1.83188545e-06, -1.92376640e-06,\n",
       "         9.98561814e-10,  3.19257829e-11,  1.18460176e-11,\n",
       "         3.50259661e-13, -5.90649554e-14],\n",
       "       [ 5.17649434e-22,  4.52201550e-05, -6.05069680e-04,\n",
       "        -2.19762529e-03, -1.14579248e-03,  2.63286829e-03,\n",
       "         1.01965363e-02,  7.97248959e-01,  1.63161586e-02,\n",
       "        -6.18527744e-04,  1.88808915e-03,  5.19696172e-04,\n",
       "        -3.12581704e-04, -1.53424159e-05,  1.63105642e-05,\n",
       "        -9.07819999e-09, -1.58527231e-09, -1.75627600e-10,\n",
       "        -8.97249212e-12,  6.62840421e-13],\n",
       "       [ 4.84106809e-23,  8.15752427e-06, -3.38120382e-05,\n",
       "        -1.58380808e-04,  8.26788644e-04,  4.38039344e-04,\n",
       "         9.64090104e-04,  1.63161586e-02,  6.10388744e-01,\n",
       "         2.68989682e-02,  3.12051861e-03,  3.72256741e-03,\n",
       "        -1.69123392e-03,  1.56738768e-04, -1.76648556e-04,\n",
       "         8.93328944e-08,  8.55625641e-09,  2.34433943e-09,\n",
       "         7.77888231e-11, -4.08876531e-12],\n",
       "       [-3.13790186e-24,  5.01219749e-06,  2.81797720e-05,\n",
       "        -2.56552620e-04,  9.24967798e-04,  9.74923207e-04,\n",
       "        -4.61753477e-03, -6.18527744e-04,  2.68989682e-02,\n",
       "         5.60924987e-01, -7.43084499e-03,  9.00667806e-03,\n",
       "        -2.19050258e-03, -1.50837049e-04,  2.08759188e-04,\n",
       "        -1.34200751e-07, -2.38164004e-08, -2.27147859e-10,\n",
       "        -7.35895337e-11,  4.59265489e-12],\n",
       "       [ 9.13834470e-24,  1.48209100e-06, -3.51170063e-06,\n",
       "         5.38971921e-05,  2.71244083e-04,  8.77625355e-05,\n",
       "        -4.79986031e-04,  1.88808915e-03,  3.12051861e-03,\n",
       "        -7.43084499e-03,  5.35792076e-01,  3.65727500e-02,\n",
       "         2.56760367e-02,  3.73415809e-04, -4.58554940e-04,\n",
       "         5.03603824e-07,  1.16137161e-08, -8.78007752e-09,\n",
       "         9.23939134e-11,  2.24405857e-11],\n",
       "       [ 1.10115543e-23,  3.58528851e-06, -2.67768069e-05,\n",
       "         2.26551467e-04,  4.96508972e-04,  5.37956395e-04,\n",
       "         1.94023126e-04,  5.19696172e-04,  3.72256741e-03,\n",
       "         9.00667806e-03,  3.65727500e-02,  4.78795098e-01,\n",
       "         1.03758683e-02, -3.84838225e-04,  5.18976869e-04,\n",
       "        -3.36588785e-07, -4.49196441e-08, -4.49638424e-09,\n",
       "        -2.90213084e-10,  1.24862899e-11],\n",
       "       [ 1.23283327e-24,  2.82346545e-07, -3.46293920e-08,\n",
       "         1.08594581e-05,  1.95939359e-05,  3.88921983e-05,\n",
       "        -7.37039199e-05, -3.12581704e-04, -1.69123392e-03,\n",
       "        -2.19050258e-03,  2.56760367e-02,  1.03758683e-02,\n",
       "         4.05491010e-01, -4.29160744e-04,  9.23198394e-04,\n",
       "        -3.05784569e-07, -1.22418301e-07,  4.35656128e-08,\n",
       "         6.28832512e-10, -1.48852144e-10],\n",
       "       [-4.48613895e-28, -1.07789939e-09,  1.31022959e-07,\n",
       "        -1.13556956e-06, -1.57283168e-06, -3.18114854e-06,\n",
       "         1.83188545e-06, -1.53424159e-05,  1.56738768e-04,\n",
       "        -1.50837049e-04,  3.73415809e-04, -3.84838225e-04,\n",
       "        -4.29160744e-04,  2.65095839e-01, -2.99266378e-02,\n",
       "        -1.53324866e-04, -1.22319631e-05,  2.90419909e-06,\n",
       "         8.38796517e-08, -1.41187657e-08],\n",
       "       [ 3.50295790e-27,  4.44225153e-09, -1.83420563e-07,\n",
       "         1.48325892e-06,  1.94576287e-06,  4.05868612e-06,\n",
       "        -1.92376640e-06,  1.63105642e-05, -1.76648556e-04,\n",
       "         2.08759188e-04, -4.58554940e-04,  5.18976869e-04,\n",
       "         9.23198394e-04, -2.99266378e-02,  2.62202806e-01,\n",
       "        -1.69441233e-04, -9.46166612e-06,  3.38897423e-06,\n",
       "         6.87236124e-08, -8.27919854e-09],\n",
       "       [ 8.82179870e-30, -5.92392571e-13,  3.80930777e-11,\n",
       "        -3.26383411e-10, -2.80341481e-10, -1.04739823e-09,\n",
       "         9.98561037e-10, -9.07820007e-09,  8.93328945e-08,\n",
       "        -1.34200751e-07,  5.03603825e-07, -3.36588784e-07,\n",
       "        -3.05784570e-07, -1.53324866e-04, -1.69441233e-04,\n",
       "         1.28477774e-01,  7.93380687e-03,  4.82225674e-04,\n",
       "        -1.07921946e-05, -2.92081166e-06],\n",
       "       [ 9.00681246e-31,  4.03872671e-13, -4.50098468e-12,\n",
       "         2.02570094e-11,  7.30725220e-11,  9.15452044e-11,\n",
       "         3.19284347e-11, -1.58527295e-09,  8.55625541e-09,\n",
       "        -2.38164020e-08,  1.16137144e-08, -4.49196476e-08,\n",
       "        -1.22418299e-07, -1.22319631e-05, -9.46166612e-06,\n",
       "         7.93380687e-03,  1.02383640e-01,  1.48601012e-03,\n",
       "         1.17801897e-04, -1.26926250e-05],\n",
       "       [ 1.37152435e-31,  1.33724242e-13, -5.91142165e-13,\n",
       "         3.95023288e-12,  1.44000802e-11,  1.73815430e-11,\n",
       "         1.18462223e-11, -1.75627524e-10,  2.34433951e-09,\n",
       "        -2.27147118e-10, -8.78007824e-09, -4.49638428e-09,\n",
       "         4.35656134e-08,  2.90419909e-06,  3.38897423e-06,\n",
       "         4.82225674e-04,  1.48601012e-03,  9.27909658e-02,\n",
       "        -9.07745660e-05,  5.68276537e-05],\n",
       "       [ 4.05051186e-34, -2.85759801e-16,  1.54137445e-14,\n",
       "        -1.94312851e-13, -4.54397275e-13, -5.21854583e-13,\n",
       "         3.48278391e-13, -8.97210786e-12,  7.77894990e-11,\n",
       "        -7.35885882e-11,  9.23952635e-11, -2.90210597e-10,\n",
       "         6.28831223e-10,  8.38796492e-08,  6.87236127e-08,\n",
       "        -1.07921946e-05,  1.17801897e-04, -9.07745660e-05,\n",
       "         5.88820893e-02, -1.10393449e-04],\n",
       "       [ 3.38925949e-34,  1.47710891e-16, -1.79302963e-16,\n",
       "         1.25424987e-14,  7.38761367e-14,  7.00532788e-14,\n",
       "        -5.72576106e-14,  6.62584095e-13, -4.08934433e-12,\n",
       "         4.59193886e-12,  2.24392676e-11,  1.24839793e-11,\n",
       "        -1.48851018e-10, -1.41187634e-08, -8.27919890e-09,\n",
       "        -2.92081166e-06, -1.26926250e-05,  5.68276537e-05,\n",
       "        -1.10393449e-04,  5.00433948e-02]])"
      ]
     },
     "execution_count": 88,
     "metadata": {},
     "output_type": "execute_result"
    }
   ],
   "source": [
    "# we see that the non-diagonale elements are getting close to zero\n",
    "C"
   ]
  },
  {
   "cell_type": "code",
   "execution_count": 89,
   "metadata": {},
   "outputs": [
    {
     "data": {
      "text/plain": [
       "array([[10.72206845,  9.56853046,  9.28029424,  9.57938867,  9.38658883,\n",
       "        10.26891001,  9.19451533,  9.30202603,  9.66134715,  9.88020878,\n",
       "         8.45882016,  9.42034564,  8.8690932 ,  9.11358972,  9.58680224,\n",
       "         9.2795968 ,  8.67262373,  9.46984254,  9.54039474,  9.09356212],\n",
       "       [ 9.56853046,  9.67176593,  8.93943583,  9.04009594,  8.64516128,\n",
       "         9.51397855,  8.33763535,  8.68386954,  9.10108338,  9.45852582,\n",
       "         8.05475165,  8.7985934 ,  8.58745056,  8.7932284 ,  9.02485215,\n",
       "         8.72645921,  8.17408827,  9.10960834,  9.03616121,  8.65369976],\n",
       "       [ 9.28029424,  8.93943583,  9.20335126,  8.85252435,  8.12169026,\n",
       "         9.21806723,  8.14668672,  8.62264292,  8.94165522,  9.16094732,\n",
       "         7.74361715,  8.88830336,  8.49755067,  8.47194206,  8.66733827,\n",
       "         8.56325313,  7.94151478,  8.87785356,  8.96001264,  8.46557204],\n",
       "       [ 9.57938867,  9.04009594,  8.85252435,  9.5102867 ,  8.57710151,\n",
       "         9.5250152 ,  8.60382591,  8.43460834,  9.08995962,  9.22929337,\n",
       "         7.98917524,  9.0929643 ,  8.67158356,  8.47510569,  8.97324578,\n",
       "         8.81899054,  8.10934023,  8.96762286,  8.86396231,  8.76968149],\n",
       "       [ 9.38658883,  8.64516128,  8.12169026,  8.57710151,  9.24928645,\n",
       "         9.28642161,  8.56939627,  8.35792102,  8.85323848,  9.09485407,\n",
       "         7.87426807,  8.50076028,  8.22475173,  8.4007801 ,  8.66702676,\n",
       "         8.46022934,  8.14046279,  8.73370399,  8.850713  ,  8.46932764],\n",
       "       [10.26891001,  9.51397855,  9.21806723,  9.5250152 ,  9.28642161,\n",
       "        10.69852444,  9.29454563,  8.95120063,  9.91919125,  9.89624635,\n",
       "         8.55499749,  9.49187182,  9.11058214,  9.05186242,  9.68084339,\n",
       "         9.10068359,  8.67919269,  9.43673485,  9.47905875,  9.18349452],\n",
       "       [ 9.19451533,  8.33763535,  8.14668672,  8.60382591,  8.56939627,\n",
       "         9.29454563,  9.05065537,  8.13616719,  8.95594658,  8.99033686,\n",
       "         7.64385397,  8.49275188,  8.21171931,  8.2000267 ,  8.66156054,\n",
       "         8.28055111,  7.97679054,  8.61402411,  8.65181927,  8.40090454],\n",
       "       [ 9.30202603,  8.68386954,  8.62264292,  8.43460834,  8.35792102,\n",
       "         8.95120063,  8.13616719,  9.01200821,  8.97576511,  9.04689588,\n",
       "         7.77870472,  8.41107415,  8.23433744,  8.56093677,  8.4478829 ,\n",
       "         8.44160128,  7.9455105 ,  8.73305534,  8.8263614 ,  8.37697537],\n",
       "       [ 9.66134715,  9.10108338,  8.94165522,  9.08995962,  8.85323848,\n",
       "         9.91919125,  8.95594658,  8.97576511, 10.29527035,  9.55492302,\n",
       "         8.37519645,  9.04730735,  8.69514509,  8.88542469,  9.17190878,\n",
       "         8.74854841,  8.38389156,  9.30310719,  9.39502998,  8.98393235],\n",
       "       [ 9.88020878,  9.45852582,  9.16094732,  9.22929337,  9.09485407,\n",
       "         9.89624635,  8.99033686,  9.04689588,  9.55492302, 10.32840256,\n",
       "         8.44119909,  9.27336496,  9.02971549,  9.04272976,  9.19693554,\n",
       "         9.04585444,  8.36589783,  9.45407631,  9.57064989,  9.17012581],\n",
       "       [ 8.45882016,  8.05475165,  7.74361715,  7.98917524,  7.87426807,\n",
       "         8.55499749,  7.64385397,  7.77870472,  8.37519645,  8.44119909,\n",
       "         7.58672538,  7.7654728 ,  7.62488266,  7.80580428,  7.90502771,\n",
       "         7.8412042 ,  7.27967423,  7.95941014,  8.17133913,  8.05603711],\n",
       "       [ 9.42034564,  8.7985934 ,  8.88830336,  9.0929643 ,  8.50076028,\n",
       "         9.49187182,  8.49275188,  8.41107415,  9.04730735,  9.27336496,\n",
       "         7.7654728 ,  9.42205616,  8.66487504,  8.5309387 ,  8.89066119,\n",
       "         8.78929206,  8.15158383,  9.13213914,  8.9133552 ,  8.65527937],\n",
       "       [ 8.8690932 ,  8.58745056,  8.49755067,  8.67158356,  8.22475173,\n",
       "         9.11058214,  8.21171931,  8.23433744,  8.69514509,  9.02971549,\n",
       "         7.62488266,  8.66487504,  8.85791953,  8.11490145,  8.60614005,\n",
       "         8.30270007,  7.73798285,  8.51483906,  8.60027595,  8.28187504],\n",
       "       [ 9.11358972,  8.7932284 ,  8.47194206,  8.47510569,  8.4007801 ,\n",
       "         9.05186242,  8.2000267 ,  8.56093677,  8.88542469,  9.04272976,\n",
       "         7.80580428,  8.5309387 ,  8.11490145,  8.93651264,  8.61792066,\n",
       "         8.55395756,  7.97054784,  9.04773117,  8.74631932,  8.43994338],\n",
       "       [ 9.58680224,  9.02485215,  8.66733827,  8.97324578,  8.66702676,\n",
       "         9.68084339,  8.66156054,  8.4478829 ,  9.17190878,  9.19693554,\n",
       "         7.90502771,  8.89066119,  8.60614005,  8.61792066,  9.63194232,\n",
       "         8.67322585,  8.10968269,  9.13504734,  8.74564205,  8.56784097],\n",
       "       [ 9.2795968 ,  8.72645921,  8.56325313,  8.81899054,  8.46022934,\n",
       "         9.10068359,  8.28055111,  8.44160128,  8.74854841,  9.04585444,\n",
       "         7.8412042 ,  8.78929206,  8.30270007,  8.55395756,  8.67322585,\n",
       "         9.12246037,  8.01526166,  8.80328679,  9.00393955,  8.61256425],\n",
       "       [ 8.67262373,  8.17408827,  7.94151478,  8.10934023,  8.14046279,\n",
       "         8.67919269,  7.97679054,  7.9455105 ,  8.38389156,  8.36589783,\n",
       "         7.27967423,  8.15158383,  7.73798285,  7.97054784,  8.10968269,\n",
       "         8.01526166,  7.91364396,  8.34289935,  8.20186851,  7.96810593],\n",
       "       [ 9.46984254,  9.10960834,  8.87785356,  8.96762286,  8.73370399,\n",
       "         9.43673485,  8.61402411,  8.73305534,  9.30310719,  9.45407631,\n",
       "         7.95941014,  9.13213914,  8.51483906,  9.04773117,  9.13504734,\n",
       "         8.80328679,  8.34289935,  9.71358151,  9.00459389,  8.75781193],\n",
       "       [ 9.54039474,  9.03616121,  8.96001264,  8.86396231,  8.850713  ,\n",
       "         9.47905875,  8.65181927,  8.8263614 ,  9.39502998,  9.57064989,\n",
       "         8.17133913,  8.9133552 ,  8.60027595,  8.74631932,  8.74564205,\n",
       "         9.00393955,  8.20186851,  9.00459389,  9.69149732,  8.7763665 ],\n",
       "       [ 9.09356212,  8.65369976,  8.46557204,  8.76968149,  8.46932764,\n",
       "         9.18349452,  8.40090454,  8.37697537,  8.98393235,  9.17012581,\n",
       "         8.05603711,  8.65527937,  8.28187504,  8.43994338,  8.56784097,\n",
       "         8.61256425,  7.96810593,  8.75781193,  8.7763665 ,  8.95574947]])"
      ]
     },
     "execution_count": 89,
     "metadata": {},
     "output_type": "execute_result"
    }
   ],
   "source": [
    "A.T@A"
   ]
  },
  {
   "cell_type": "code",
   "execution_count": 90,
   "metadata": {},
   "outputs": [
    {
     "data": {
      "text/plain": [
       "array([1.75636259e+02, 1.76134978e+00, 1.58508841e+00, 1.20979313e+00,\n",
       "       1.12844855e+00, 1.03582534e+00, 8.69362039e-01, 7.97836669e-01,\n",
       "       6.21340658e-01, 5.60412783e-01, 5.48006794e-01, 4.59700216e-01,\n",
       "       4.00423263e-01, 2.93597314e-01, 2.33687335e-01, 5.00419403e-02,\n",
       "       5.88828640e-02, 1.30719938e-01, 1.00383140e-01, 9.25494766e-02])"
      ]
     },
     "execution_count": 90,
     "metadata": {},
     "output_type": "execute_result"
    }
   ],
   "source": [
    "# eigenvalues\n",
    "np.linalg.eig(A.T@A)[0]"
   ]
  },
  {
   "cell_type": "code",
   "execution_count": 91,
   "metadata": {},
   "outputs": [
    {
     "data": {
      "text/plain": [
       "array([1.75636259e+02, 1.76121292e+00, 1.57112128e+00, 1.21095078e+00,\n",
       "       1.06072613e+00, 1.02039647e+00, 9.64524675e-01, 7.97248959e-01,\n",
       "       6.10388744e-01, 5.60924987e-01, 5.35792076e-01, 4.78795098e-01,\n",
       "       4.05491010e-01, 2.65095839e-01, 2.62202806e-01, 1.28477774e-01,\n",
       "       1.02383640e-01, 9.27909658e-02, 5.88820893e-02, 5.00433948e-02])"
      ]
     },
     "execution_count": 91,
     "metadata": {},
     "output_type": "execute_result"
    }
   ],
   "source": [
    "# eigenvalues computed by the method\n",
    "# they are really close\n",
    "C.diagonal()"
   ]
  },
  {
   "cell_type": "code",
   "execution_count": null,
   "metadata": {},
   "outputs": [],
   "source": []
  },
  {
   "cell_type": "code",
   "execution_count": null,
   "metadata": {},
   "outputs": [],
   "source": []
  }
 ],
 "metadata": {
  "kernelspec": {
   "display_name": "Python 3",
   "language": "python",
   "name": "python3"
  },
  "language_info": {
   "codemirror_mode": {
    "name": "ipython",
    "version": 3
   },
   "file_extension": ".py",
   "mimetype": "text/x-python",
   "name": "python",
   "nbconvert_exporter": "python",
   "pygments_lexer": "ipython3",
   "version": "3.7.3"
  }
 },
 "nbformat": 4,
 "nbformat_minor": 2
}
