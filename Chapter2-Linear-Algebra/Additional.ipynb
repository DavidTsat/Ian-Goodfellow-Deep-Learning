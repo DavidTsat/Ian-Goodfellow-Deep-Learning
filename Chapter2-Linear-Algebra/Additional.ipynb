{
 "cells": [
  {
   "cell_type": "code",
   "execution_count": 1,
   "metadata": {},
   "outputs": [],
   "source": [
    "import numpy as np\n",
    "import matplotlib.pyplot as plt"
   ]
  },
  {
   "cell_type": "code",
   "execution_count": 2,
   "metadata": {},
   "outputs": [],
   "source": [
    "n = 50\n",
    "x = np.arange(n)"
   ]
  },
  {
   "cell_type": "code",
   "execution_count": 3,
   "metadata": {},
   "outputs": [
    {
     "data": {
      "text/plain": [
       "array([ 0,  1,  2,  3,  4,  5,  6,  7,  8,  9, 10, 11, 12, 13, 14, 15, 16,\n",
       "       17, 18, 19, 20, 21, 22, 23, 24, 25, 26, 27, 28, 29, 30, 31, 32, 33,\n",
       "       34, 35, 36, 37, 38, 39, 40, 41, 42, 43, 44, 45, 46, 47, 48, 49])"
      ]
     },
     "execution_count": 3,
     "metadata": {},
     "output_type": "execute_result"
    }
   ],
   "source": [
    "x"
   ]
  },
  {
   "cell_type": "code",
   "execution_count": 4,
   "metadata": {},
   "outputs": [],
   "source": [
    "# n = 50\n",
    "# x = np.arange(-n/2, n/2, 1, dtype=np.float64)\n",
    "\n",
    "m = np.random.uniform(0.3, 0.8, (n,))\n",
    "b = np.random.uniform(5, 10, (n,))\n",
    "\n",
    "y = x*m + b "
   ]
  },
  {
   "cell_type": "code",
   "execution_count": 5,
   "metadata": {},
   "outputs": [
    {
     "data": {
      "text/plain": [
       "array([ 5.50999994,  9.52163453, 10.23008506, 11.99659402,  7.3351208 ,\n",
       "        8.79249647,  9.43556188, 12.62147143,  9.39059432, 16.67034718,\n",
       "       16.43256294, 11.03363314, 11.75458581, 11.70657828, 17.38601338,\n",
       "       19.74990808, 12.92735007, 17.39179602, 14.60426636, 16.02351839,\n",
       "       20.37690966, 15.66322193, 22.62620464, 21.19678426, 17.40127261,\n",
       "       21.82728561, 22.24960502, 17.49904383, 27.13775204, 17.21933048,\n",
       "       22.0817904 , 16.38873571, 28.08416116, 21.67339365, 25.9429867 ,\n",
       "       16.73737043, 32.35462936, 25.49695635, 21.03227954, 24.67999111,\n",
       "       20.29616076, 37.17168397, 37.25772529, 33.30351215, 36.95797724,\n",
       "       22.05487759, 26.46927507, 24.38104665, 38.62128972, 29.30704881])"
      ]
     },
     "execution_count": 5,
     "metadata": {},
     "output_type": "execute_result"
    }
   ],
   "source": [
    "y"
   ]
  },
  {
   "cell_type": "code",
   "execution_count": 6,
   "metadata": {},
   "outputs": [
    {
     "data": {
      "text/plain": [
       "((50,), (50,))"
      ]
     },
     "execution_count": 6,
     "metadata": {},
     "output_type": "execute_result"
    }
   ],
   "source": [
    "x.shape, y.shape"
   ]
  },
  {
   "cell_type": "code",
   "execution_count": 7,
   "metadata": {},
   "outputs": [],
   "source": [
    "A = x.reshape(-1,1)\n",
    "b = y.reshape(-1,1)"
   ]
  },
  {
   "cell_type": "code",
   "execution_count": 8,
   "metadata": {},
   "outputs": [
    {
     "data": {
      "text/plain": [
       "<matplotlib.collections.PathCollection at 0x206df453470>"
      ]
     },
     "execution_count": 8,
     "metadata": {},
     "output_type": "execute_result"
    },
    {
     "data": {
      "image/png": "[encoded data removed]",
      "text/plain": [
       "<Figure size 432x288 with 1 Axes>"
      ]
     },
     "metadata": {
      "needs_background": "light"
     },
     "output_type": "display_data"
    }
   ],
   "source": [
    "plt.scatter(A, y, s=None, marker='o', color='g', edgecolors='g', alpha=0.9)"
   ]
  },
  {
   "cell_type": "code",
   "execution_count": 11,
   "metadata": {},
   "outputs": [
    {
     "data": {
      "text/plain": [
       "((50, 1), (50, 1))"
      ]
     },
     "execution_count": 11,
     "metadata": {},
     "output_type": "execute_result"
    }
   ],
   "source": [
    "A.shape, b.shape"
   ]
  },
  {
   "cell_type": "code",
   "execution_count": 12,
   "metadata": {},
   "outputs": [],
   "source": [
    "# We have mxn matrix, with rankA=n=1\n",
    "# The pseudoinverse will be \n",
    "# A.T@Ax = A.T@b\n",
    "# pseudoInvA = ((A.T@A)^-1)A.T"
   ]
  },
  {
   "cell_type": "code",
   "execution_count": 13,
   "metadata": {},
   "outputs": [],
   "source": [
    "# ordinary least squares\n",
    "pseudoA = np.linalg.inv(A.T@A)@A.T"
   ]
  },
  {
   "cell_type": "code",
   "execution_count": 16,
   "metadata": {},
   "outputs": [],
   "source": [
    "x = pseudoA@b"
   ]
  },
  {
   "cell_type": "code",
   "execution_count": 17,
   "metadata": {},
   "outputs": [
    {
     "data": {
      "text/plain": [
       "array([[0.72776756]])"
      ]
     },
     "execution_count": 17,
     "metadata": {},
     "output_type": "execute_result"
    }
   ],
   "source": [
    "x"
   ]
  },
  {
   "cell_type": "code",
   "execution_count": 18,
   "metadata": {},
   "outputs": [
    {
     "data": {
      "text/plain": [
       "(1, 1)"
      ]
     },
     "execution_count": 18,
     "metadata": {},
     "output_type": "execute_result"
    }
   ],
   "source": [
    "x.shape"
   ]
  },
  {
   "cell_type": "code",
   "execution_count": 19,
   "metadata": {},
   "outputs": [
    {
     "data": {
      "text/plain": [
       "<matplotlib.collections.PathCollection at 0x206df4867b8>"
      ]
     },
     "execution_count": 19,
     "metadata": {},
     "output_type": "execute_result"
    },
    {
     "data": {
      "image/png": "[encoded data removed]",
      "text/plain": [
       "<Figure size 432x288 with 1 Axes>"
      ]
     },
     "metadata": {
      "needs_background": "light"
     },
     "output_type": "display_data"
    }
   ],
   "source": [
    "plt.scatter(A, b, s=None, marker='o', color='g', edgecolors='g', alpha=0.9)"
   ]
  },
  {
   "cell_type": "code",
   "execution_count": 20,
   "metadata": {},
   "outputs": [
    {
     "data": {
      "text/plain": [
       "(1, 1)"
      ]
     },
     "execution_count": 20,
     "metadata": {},
     "output_type": "execute_result"
    }
   ],
   "source": [
    "(pseudoA@b).shape"
   ]
  },
  {
   "cell_type": "code",
   "execution_count": 21,
   "metadata": {},
   "outputs": [
    {
     "data": {
      "text/plain": [
       "(1, 50)"
      ]
     },
     "execution_count": 21,
     "metadata": {},
     "output_type": "execute_result"
    }
   ],
   "source": [
    "pseudoA.shape"
   ]
  },
  {
   "cell_type": "code",
   "execution_count": 22,
   "metadata": {},
   "outputs": [
    {
     "data": {
      "text/plain": [
       "(50, 1)"
      ]
     },
     "execution_count": 22,
     "metadata": {},
     "output_type": "execute_result"
    }
   ],
   "source": [
    "b.shape"
   ]
  },
  {
   "cell_type": "code",
   "execution_count": 23,
   "metadata": {},
   "outputs": [
    {
     "data": {
      "image/png": "[encoded data removed]",
      "text/plain": [
       "<Figure size 432x288 with 1 Axes>"
      ]
     },
     "metadata": {
      "needs_background": "light"
     },
     "output_type": "display_data"
    }
   ],
   "source": [
    "plt.scatter(A, b, s=None, marker='o', color='g', edgecolors='g', alpha=0.9)\n",
    "plt.plot(A, A@x, '-', color='red')\n",
    "plt.show()"
   ]
  },
  {
   "cell_type": "code",
   "execution_count": 24,
   "metadata": {},
   "outputs": [
    {
     "data": {
      "text/plain": [
       "array([[ 0.        ],\n",
       "       [ 0.72776756],\n",
       "       [ 1.45553512],\n",
       "       [ 2.18330268],\n",
       "       [ 2.91107023],\n",
       "       [ 3.63883779],\n",
       "       [ 4.36660535],\n",
       "       [ 5.09437291],\n",
       "       [ 5.82214047],\n",
       "       [ 6.54990803],\n",
       "       [ 7.27767558],\n",
       "       [ 8.00544314],\n",
       "       [ 8.7332107 ],\n",
       "       [ 9.46097826],\n",
       "       [10.18874582],\n",
       "       [10.91651338],\n",
       "       [11.64428094],\n",
       "       [12.37204849],\n",
       "       [13.09981605],\n",
       "       [13.82758361],\n",
       "       [14.55535117],\n",
       "       [15.28311873],\n",
       "       [16.01088629],\n",
       "       [16.73865384],\n",
       "       [17.4664214 ],\n",
       "       [18.19418896],\n",
       "       [18.92195652],\n",
       "       [19.64972408],\n",
       "       [20.37749164],\n",
       "       [21.1052592 ],\n",
       "       [21.83302675],\n",
       "       [22.56079431],\n",
       "       [23.28856187],\n",
       "       [24.01632943],\n",
       "       [24.74409699],\n",
       "       [25.47186455],\n",
       "       [26.1996321 ],\n",
       "       [26.92739966],\n",
       "       [27.65516722],\n",
       "       [28.38293478],\n",
       "       [29.11070234],\n",
       "       [29.8384699 ],\n",
       "       [30.56623746],\n",
       "       [31.29400501],\n",
       "       [32.02177257],\n",
       "       [32.74954013],\n",
       "       [33.47730769],\n",
       "       [34.20507525],\n",
       "       [34.93284281],\n",
       "       [35.66061036]])"
      ]
     },
     "execution_count": 24,
     "metadata": {},
     "output_type": "execute_result"
    }
   ],
   "source": [
    "A@x"
   ]
  },
  {
   "cell_type": "code",
   "execution_count": 25,
   "metadata": {},
   "outputs": [
    {
     "data": {
      "text/plain": [
       "array([[ 5.50999994],\n",
       "       [ 9.52163453],\n",
       "       [10.23008506],\n",
       "       [11.99659402],\n",
       "       [ 7.3351208 ],\n",
       "       [ 8.79249647],\n",
       "       [ 9.43556188],\n",
       "       [12.62147143],\n",
       "       [ 9.39059432],\n",
       "       [16.67034718],\n",
       "       [16.43256294],\n",
       "       [11.03363314],\n",
       "       [11.75458581],\n",
       "       [11.70657828],\n",
       "       [17.38601338],\n",
       "       [19.74990808],\n",
       "       [12.92735007],\n",
       "       [17.39179602],\n",
       "       [14.60426636],\n",
       "       [16.02351839],\n",
       "       [20.37690966],\n",
       "       [15.66322193],\n",
       "       [22.62620464],\n",
       "       [21.19678426],\n",
       "       [17.40127261],\n",
       "       [21.82728561],\n",
       "       [22.24960502],\n",
       "       [17.49904383],\n",
       "       [27.13775204],\n",
       "       [17.21933048],\n",
       "       [22.0817904 ],\n",
       "       [16.38873571],\n",
       "       [28.08416116],\n",
       "       [21.67339365],\n",
       "       [25.9429867 ],\n",
       "       [16.73737043],\n",
       "       [32.35462936],\n",
       "       [25.49695635],\n",
       "       [21.03227954],\n",
       "       [24.67999111],\n",
       "       [20.29616076],\n",
       "       [37.17168397],\n",
       "       [37.25772529],\n",
       "       [33.30351215],\n",
       "       [36.95797724],\n",
       "       [22.05487759],\n",
       "       [26.46927507],\n",
       "       [24.38104665],\n",
       "       [38.62128972],\n",
       "       [29.30704881]])"
      ]
     },
     "execution_count": 25,
     "metadata": {},
     "output_type": "execute_result"
    }
   ],
   "source": [
    "b"
   ]
  },
  {
   "cell_type": "code",
   "execution_count": 26,
   "metadata": {},
   "outputs": [
    {
     "data": {
      "text/plain": [
       "41.75424221133783"
      ]
     },
     "execution_count": 26,
     "metadata": {},
     "output_type": "execute_result"
    }
   ],
   "source": [
    "np.linalg.norm(A@x-b)"
   ]
  },
  {
   "cell_type": "code",
   "execution_count": 27,
   "metadata": {},
   "outputs": [
    {
     "name": "stderr",
     "output_type": "stream",
     "text": [
      "C:\\Users\\davidt\\AppData\\Local\\Continuum\\anaconda3\\lib\\site-packages\\ipykernel_launcher.py:2: FutureWarning: `rcond` parameter will change to the default of machine precision times ``max(M, N)`` where M and N are the input matrix dimensions.\n",
      "To use the future default and silence this warning we advise to pass `rcond=None`, to keep using the old, explicitly pass `rcond=-1`.\n",
      "  \n"
     ]
    },
    {
     "data": {
      "text/plain": [
       "array([[0.72776756]])"
      ]
     },
     "execution_count": 27,
     "metadata": {},
     "output_type": "execute_result"
    }
   ],
   "source": [
    "# The same x \n",
    "np.linalg.lstsq(A, b)[0]"
   ]
  },
  {
   "cell_type": "code",
   "execution_count": 28,
   "metadata": {},
   "outputs": [
    {
     "data": {
      "text/plain": [
       "array([[0.72776756]])"
      ]
     },
     "execution_count": 28,
     "metadata": {},
     "output_type": "execute_result"
    }
   ],
   "source": [
    "x"
   ]
  },
  {
   "cell_type": "code",
   "execution_count": 29,
   "metadata": {},
   "outputs": [
    {
     "data": {
      "text/plain": [
       "LinearRegression(copy_X=True, fit_intercept=True, n_jobs=None,\n",
       "         normalize=False)"
      ]
     },
     "execution_count": 29,
     "metadata": {},
     "output_type": "execute_result"
    }
   ],
   "source": [
    "from sklearn import linear_model\n",
    "\n",
    "reg = linear_model.LinearRegression()\n",
    "reg.fit(A, b)"
   ]
  },
  {
   "cell_type": "code",
   "execution_count": 30,
   "metadata": {},
   "outputs": [
    {
     "data": {
      "text/plain": [
       "array([[ 7.95798189],\n",
       "       [ 8.44459848],\n",
       "       [ 8.93121508],\n",
       "       [ 9.41783167],\n",
       "       [ 9.90444826],\n",
       "       [10.39106485],\n",
       "       [10.87768144],\n",
       "       [11.36429804],\n",
       "       [11.85091463],\n",
       "       [12.33753122],\n",
       "       [12.82414781],\n",
       "       [13.3107644 ],\n",
       "       [13.797381  ],\n",
       "       [14.28399759],\n",
       "       [14.77061418],\n",
       "       [15.25723077],\n",
       "       [15.74384736],\n",
       "       [16.23046396],\n",
       "       [16.71708055],\n",
       "       [17.20369714],\n",
       "       [17.69031373],\n",
       "       [18.17693032],\n",
       "       [18.66354692],\n",
       "       [19.15016351],\n",
       "       [19.6367801 ],\n",
       "       [20.12339669],\n",
       "       [20.61001329],\n",
       "       [21.09662988],\n",
       "       [21.58324647],\n",
       "       [22.06986306],\n",
       "       [22.55647965],\n",
       "       [23.04309625],\n",
       "       [23.52971284],\n",
       "       [24.01632943],\n",
       "       [24.50294602],\n",
       "       [24.98956261],\n",
       "       [25.47617921],\n",
       "       [25.9627958 ],\n",
       "       [26.44941239],\n",
       "       [26.93602898],\n",
       "       [27.42264557],\n",
       "       [27.90926217],\n",
       "       [28.39587876],\n",
       "       [28.88249535],\n",
       "       [29.36911194],\n",
       "       [29.85572853],\n",
       "       [30.34234513],\n",
       "       [30.82896172],\n",
       "       [31.31557831],\n",
       "       [31.8021949 ]])"
      ]
     },
     "execution_count": 30,
     "metadata": {},
     "output_type": "execute_result"
    }
   ],
   "source": [
    "reg.predict(A)"
   ]
  },
  {
   "cell_type": "code",
   "execution_count": 31,
   "metadata": {},
   "outputs": [
    {
     "data": {
      "image/png": "[encoded data removed]",
      "text/plain": [
       "<Figure size 432x288 with 1 Axes>"
      ]
     },
     "metadata": {
      "needs_background": "light"
     },
     "output_type": "display_data"
    }
   ],
   "source": [
    "plt.scatter(A, b, s=None, marker='o', color='g', edgecolors='g', alpha=0.9)\n",
    "plt.plot(A, reg.predict(A), '-', color='red')\n",
    "plt.show()"
   ]
  },
  {
   "cell_type": "code",
   "execution_count": 32,
   "metadata": {},
   "outputs": [
    {
     "data": {
      "text/plain": [
       "41.75424221133783"
      ]
     },
     "execution_count": 32,
     "metadata": {},
     "output_type": "execute_result"
    }
   ],
   "source": [
    "np.linalg.norm(A@x-b)"
   ]
  },
  {
   "cell_type": "code",
   "execution_count": 33,
   "metadata": {},
   "outputs": [
    {
     "data": {
      "text/plain": [
       "30.459971392482956"
      ]
     },
     "execution_count": 33,
     "metadata": {},
     "output_type": "execute_result"
    }
   ],
   "source": [
    "np.linalg.norm(reg.predict(A)-b)"
   ]
  },
  {
   "cell_type": "code",
   "execution_count": 34,
   "metadata": {},
   "outputs": [],
   "source": [
    "# regression in a higher dimension"
   ]
  },
  {
   "cell_type": "code",
   "execution_count": 164,
   "metadata": {},
   "outputs": [],
   "source": [
    "A = np.random.uniform(0.3, 0.8, (30, 20))\n",
    "b = np.random.uniform(4, 6, (30))"
   ]
  },
  {
   "cell_type": "code",
   "execution_count": 234,
   "metadata": {},
   "outputs": [
    {
     "data": {
      "text/plain": [
       "((30, 20), (30,))"
      ]
     },
     "execution_count": 234,
     "metadata": {},
     "output_type": "execute_result"
    }
   ],
   "source": [
    "A.shape, b.shape"
   ]
  },
  {
   "cell_type": "code",
   "execution_count": 242,
   "metadata": {},
   "outputs": [],
   "source": [
    "U, sigmas, V = np.linalg.svd(A)\n",
    "\n",
    "U, sigmas, V = np.linalg.svd(A)\n",
    "\n",
    "sigmas_plus = np.zeros((A.shape[0], A.shape[1])).T\n",
    "sigmas_plus[:sigmas.shape[0], :sigmas.shape[0]] = np.linalg.inv(np.diag(sigmas))\n",
    "\n",
    "# A_plus = V.T.dot(D_plus).dot(U.T)\n",
    "# A_plus"
   ]
  },
  {
   "cell_type": "code",
   "execution_count": 246,
   "metadata": {},
   "outputs": [
    {
     "data": {
      "text/plain": [
       "((30, 30), (20,), (20, 20), (20, 30))"
      ]
     },
     "execution_count": 246,
     "metadata": {},
     "output_type": "execute_result"
    }
   ],
   "source": [
    "U.shape, sigmas.shape, V.shape, sigmas_plus.shape"
   ]
  },
  {
   "cell_type": "code",
   "execution_count": 247,
   "metadata": {},
   "outputs": [],
   "source": [
    "# ss.shape"
   ]
  },
  {
   "cell_type": "code",
   "execution_count": 245,
   "metadata": {},
   "outputs": [],
   "source": [
    "# ss = np.diag(sigmas**-1)\n",
    "# ss.resize(U.shape[0], V.shape[0])\n",
    "# np.dot(ss, U.transpose())"
   ]
  },
  {
   "cell_type": "code",
   "execution_count": 248,
   "metadata": {},
   "outputs": [],
   "source": [
    "A_pseudo_inv = V.T@sigmas_plus@U.T\n",
    "#u,s,v=np.linalg.svd(A)\n",
    "#A_pseudo_inv=np.dot(U.transpose(),np.dot(np.diag(sigmas**-1).resize(U.shape[0], V.shape[0]),U.transpose()))"
   ]
  },
  {
   "cell_type": "code",
   "execution_count": 249,
   "metadata": {},
   "outputs": [
    {
     "data": {
      "text/plain": [
       "array([[ 7.46182622e-01,  4.68363066e-01,  7.12244791e-01,\n",
       "         3.77217677e-01, -2.03034924e-01, -1.12263206e+00,\n",
       "        -1.07069983e+00, -1.63199890e-01, -1.51432638e+00,\n",
       "         6.42277086e-01, -3.06392614e-02, -4.55846117e-02,\n",
       "        -1.59702639e+00, -2.17993880e-01, -1.61769198e-01,\n",
       "        -2.01512140e-01,  3.94648147e-01,  1.31775094e+00,\n",
       "         1.64846095e+00, -3.56235449e-02,  4.56641441e-01,\n",
       "         5.77528542e-01, -6.31962306e-01, -8.13056615e-02,\n",
       "        -1.24947916e-01, -9.65797160e-02,  9.42448704e-01,\n",
       "        -6.47787199e-01,  8.22299260e-02,  1.50584761e-01],\n",
       "       [-2.32672127e-01,  1.91240535e-01,  1.31916782e-01,\n",
       "         9.11832463e-01, -5.63618646e-01,  2.62161225e-01,\n",
       "        -1.27357948e-01,  1.16166660e-02, -1.25977231e+00,\n",
       "         5.95900297e-01, -2.22173177e-01,  3.15716242e-01,\n",
       "        -8.59868823e-01, -5.69507742e-01,  6.15628186e-01,\n",
       "        -1.32805108e-01,  4.50595702e-01,  3.27495930e-01,\n",
       "         1.37041430e+00,  1.69426897e-01, -1.29683093e-01,\n",
       "         2.23241057e-01, -5.08568617e-01, -1.47129127e-01,\n",
       "        -3.61854467e-01, -3.20502184e-01,  8.36867110e-02,\n",
       "        -4.24603718e-01, -1.54904378e-01,  4.79195507e-01],\n",
       "       [ 5.39789930e-02,  1.17575993e+00, -7.70795689e-01,\n",
       "        -6.68755175e-01,  6.15437029e-01,  3.41498145e-01,\n",
       "        -7.86183253e-01, -1.51334070e-01,  4.81927446e-01,\n",
       "         3.13544840e-03,  4.81520445e-01, -6.93831803e-01,\n",
       "         7.95996060e-01, -3.31937259e-01, -7.83183445e-01,\n",
       "        -2.50805231e-01, -8.41148504e-01, -8.12142038e-01,\n",
       "         2.29945435e-01, -2.15219077e-01,  9.71700158e-01,\n",
       "        -4.39468298e-01,  1.18022505e+00, -2.93355041e-01,\n",
       "        -4.43080908e-01,  4.26995098e-01, -1.28660005e-01,\n",
       "        -1.70545069e-03,  4.45359303e-01,  4.36818255e-01],\n",
       "       [ 5.55867703e-01, -1.84376342e-01,  2.72617595e-01,\n",
       "        -4.11373330e-02, -1.40226765e-01, -6.86945000e-01,\n",
       "         1.50932995e-01,  1.26751175e-01,  6.33355177e-01,\n",
       "         2.04262237e-01,  1.18558052e+00, -9.12532573e-01,\n",
       "         2.48314775e-02, -2.42874501e-01, -8.09960068e-01,\n",
       "         1.19339307e+00, -8.36942200e-01, -6.23249649e-01,\n",
       "        -3.29291480e-01, -1.59665517e-01,  7.58755781e-01,\n",
       "        -8.35253329e-03,  1.17552334e+00, -6.35595638e-01,\n",
       "        -7.61164499e-01,  4.30462346e-01, -4.99537686e-02,\n",
       "         8.84148602e-02, -7.10479227e-02, -2.19208703e-01],\n",
       "       [ 5.19847399e-01,  3.85340635e-01, -2.66059899e-01,\n",
       "        -3.54568025e-01,  2.74275304e-01, -8.53584907e-02,\n",
       "        -1.57147768e-01, -3.00290593e-01, -8.43212162e-01,\n",
       "         3.76901475e-02,  5.81065015e-01, -4.20595721e-01,\n",
       "         3.55465474e-01, -2.46776853e-01, -8.15170051e-01,\n",
       "        -4.90173533e-01, -2.81423903e-01, -4.70281650e-02,\n",
       "         3.12588885e-01,  8.94899047e-02,  2.64821151e-01,\n",
       "        -1.94189627e-02,  4.99602031e-01,  4.00901784e-01,\n",
       "         4.42489554e-01, -2.60585006e-02, -2.34727751e-01,\n",
       "        -5.90377213e-01,  3.10884497e-01,  7.60998315e-01],\n",
       "       [-2.77525389e-01,  1.01197407e+00, -7.86032042e-01,\n",
       "        -3.50920183e-01, -4.13370987e-02, -3.43511739e-01,\n",
       "        -1.22937449e+00,  5.21741909e-02,  2.24038974e-01,\n",
       "         3.15152087e-01, -1.57061359e-01, -7.21278641e-01,\n",
       "         1.76115950e-01,  3.79317908e-01, -1.50508936e+00,\n",
       "        -5.70177956e-01, -4.80705172e-04, -7.81830652e-02,\n",
       "         6.10850195e-01,  1.27375619e-01,  5.35386356e-01,\n",
       "        -7.73832212e-02,  8.81451381e-01,  4.07671809e-01,\n",
       "         4.43982345e-01,  1.17328456e+00, -4.28042452e-01,\n",
       "        -8.44019211e-01,  5.42760624e-01,  6.99651945e-01],\n",
       "       [ 2.73423700e-01,  4.64449851e-01, -3.21048669e-02,\n",
       "         2.09092718e-01, -2.06547795e-01,  6.58089442e-01,\n",
       "        -2.31556453e-01,  6.20489398e-02, -6.11304304e-01,\n",
       "         1.70911009e-01, -1.12998393e+00,  1.98596259e-01,\n",
       "         5.27394985e-03,  3.97095587e-01,  4.63158119e-01,\n",
       "        -7.33601885e-01,  1.69912138e-01,  4.40939532e-01,\n",
       "         1.42615191e-01, -5.07647885e-01, -7.63345661e-01,\n",
       "         1.59261113e-01, -5.44333660e-01,  3.45244824e-01,\n",
       "         5.68783743e-01,  1.29638058e-01,  1.54152524e-01,\n",
       "        -4.13741131e-01,  3.03447693e-01,  1.09669549e-02],\n",
       "       [ 3.87049273e-01, -1.89752723e-01, -2.03311706e-01,\n",
       "        -3.52699753e-01,  1.20716054e-01, -4.68445090e-01,\n",
       "         4.33957325e-01, -1.84972375e-01,  4.37363789e-01,\n",
       "        -3.26693328e-01,  7.68535225e-02, -5.16136486e-02,\n",
       "         5.33219406e-01,  2.66806727e-01,  2.08405721e-01,\n",
       "         4.87714307e-01, -6.45239067e-02, -1.85962263e-01,\n",
       "        -9.14748094e-01,  8.14500580e-02,  7.41703050e-01,\n",
       "        -1.60213271e-01,  9.45063936e-01, -7.46037490e-01,\n",
       "        -1.01833974e-01, -4.72917722e-01,  5.85057394e-01,\n",
       "        -2.97322525e-01, -1.93670483e-01, -5.69558819e-01],\n",
       "       [-8.87703158e-02, -1.50550145e-03,  1.46607582e-01,\n",
       "        -7.87795896e-01,  6.76963831e-01, -9.05196507e-01,\n",
       "         6.27981055e-03,  5.60825229e-01,  9.94363678e-01,\n",
       "        -4.65877357e-01,  1.36116983e+00, -1.00163774e+00,\n",
       "         1.41658790e+00, -2.45632443e-01, -8.10227120e-01,\n",
       "         1.47747771e+00, -9.63419725e-01, -1.12768143e+00,\n",
       "        -1.10676721e+00,  2.50639141e-01,  1.49497700e+00,\n",
       "        -8.66245856e-01,  1.33333238e+00, -6.46787315e-01,\n",
       "        -5.92459124e-01,  7.92832631e-01, -8.71102772e-01,\n",
       "         4.13675873e-01, -3.29551748e-02, -3.90114225e-01],\n",
       "       [-1.16308587e-01, -7.81161075e-01, -2.11096197e-01,\n",
       "         5.72070391e-02,  7.76217611e-02,  7.13687281e-01,\n",
       "         5.52904676e-01, -6.92991303e-03,  5.11958429e-01,\n",
       "         8.04033304e-02, -9.83407420e-01,  7.98740267e-01,\n",
       "        -1.90414029e-02,  1.49535110e-01,  3.88522928e-01,\n",
       "        -6.86338359e-02,  5.52871606e-01,  2.37478268e-01,\n",
       "        -1.46567481e-01,  2.10955833e-01, -9.39306888e-01,\n",
       "        -6.02822666e-02, -1.38216577e+00,  1.41747769e-01,\n",
       "         3.42400282e-01, -2.45764967e-01,  3.00914621e-01,\n",
       "         4.64080065e-01, -3.40071936e-01, -2.99901516e-01],\n",
       "       [ 5.35519732e-01, -3.48442895e-01,  2.54424116e-01,\n",
       "         1.23690672e-02,  1.73645183e-01,  8.72899620e-02,\n",
       "        -3.00997156e-01,  3.55118468e-01,  2.58809556e-01,\n",
       "        -3.13808047e-01,  3.83902595e-01, -4.52039854e-01,\n",
       "         5.26319306e-01, -3.45825988e-01,  4.45778448e-02,\n",
       "         2.45080019e-01, -7.90424549e-01,  6.40524948e-02,\n",
       "        -5.33759342e-01,  4.67149910e-01,  6.90433286e-01,\n",
       "        -6.47561003e-02,  5.05210062e-01, -3.65015450e-01,\n",
       "        -9.49581949e-01,  2.01645795e-01, -2.63845457e-01,\n",
       "         1.10799052e+00, -1.42186253e-01, -8.25803795e-01],\n",
       "       [-3.49233848e-02, -4.04890461e-02,  5.09546156e-01,\n",
       "        -5.64236233e-02,  4.04033116e-01,  1.63769797e-01,\n",
       "         3.28996659e-01, -9.45403748e-02,  2.49062231e-01,\n",
       "        -3.27490732e-02, -3.82964956e-01,  3.73750300e-01,\n",
       "        -1.99688079e-01, -5.43343112e-01,  5.92720140e-01,\n",
       "         1.75976264e-01, -4.10728674e-02,  9.44859839e-02,\n",
       "        -5.52271828e-01,  3.83590834e-01,  3.35286299e-02,\n",
       "         3.07170469e-01,  1.23148809e-01, -1.59502226e-01,\n",
       "         3.38855501e-02, -6.16017585e-01,  3.01572751e-02,\n",
       "         3.68870035e-01, -4.02844146e-01, -9.01401396e-01],\n",
       "       [-8.56062236e-01, -8.69996860e-01, -6.02304608e-01,\n",
       "        -4.48451662e-01, -1.37445741e-01,  6.52451357e-01,\n",
       "         9.15046879e-01, -1.84766471e-02,  5.94491814e-01,\n",
       "        -3.40015637e-01, -2.57402236e-01,  6.21276060e-01,\n",
       "         1.15344388e-01,  6.44036554e-01,  6.47635390e-01,\n",
       "         3.21481199e-01,  6.11101828e-02, -6.61491936e-01,\n",
       "        -9.19496472e-01, -2.48863171e-01, -5.56614171e-01,\n",
       "        -1.56295535e-02, -1.71813365e-02,  3.02586437e-01,\n",
       "         6.62991772e-01, -2.78038046e-01, -1.86646373e-01,\n",
       "         9.80805120e-01, -6.10406836e-02, -2.12508676e-01],\n",
       "       [-8.74867871e-03,  1.12042853e-01,  5.15154385e-01,\n",
       "        -7.67771263e-02, -2.41510487e-01,  1.38435835e-01,\n",
       "         1.32082812e-02, -2.89986213e-01, -2.21817910e-01,\n",
       "        -7.89819155e-02, -4.59735059e-01, -5.62858009e-01,\n",
       "        -2.01912834e-01, -2.37148865e-01,  3.06261422e-01,\n",
       "        -6.76668251e-01,  2.37647858e-01, -1.53758213e-01,\n",
       "         6.13254213e-01,  1.13156116e-01, -3.54371484e-01,\n",
       "         2.91189455e-01,  9.91924189e-02,  5.37537419e-01,\n",
       "        -4.89918348e-04,  3.47625313e-01, -1.84680495e-01,\n",
       "        -6.88009719e-02,  2.06514624e-01,  4.47708899e-01],\n",
       "       [ 3.61744215e-02, -1.28257285e-01,  9.71727506e-02,\n",
       "        -6.71134768e-02, -1.46297186e-01, -8.11383427e-01,\n",
       "         4.17163895e-01,  2.41280717e-01,  4.11104010e-01,\n",
       "         5.96225676e-01,  2.82950551e-01,  5.74072033e-01,\n",
       "        -2.55314485e-01,  5.60836731e-01, -4.76950531e-02,\n",
       "         3.69704411e-01,  4.43052063e-02, -4.61577858e-01,\n",
       "        -1.82931780e-01, -3.15761318e-01, -8.35243623e-02,\n",
       "        -4.48007785e-02, -4.06305429e-01,  1.97961145e-01,\n",
       "        -1.76254053e-01, -4.65293043e-01,  5.69671856e-01,\n",
       "         1.29708970e-01, -6.15331906e-01, -1.50759460e-01],\n",
       "       [-4.31433057e-01, -1.39315904e-01,  3.68084911e-01,\n",
       "        -7.92581908e-02,  1.94550983e-01,  5.81198789e-01,\n",
       "         3.72770794e-02, -6.76121011e-02,  2.87899683e-01,\n",
       "        -5.10740141e-01,  5.95613943e-02,  1.24644942e-01,\n",
       "         2.86061760e-01,  9.21053502e-01, -6.36245730e-02,\n",
       "        -2.79426359e-01, -5.66217608e-02,  1.85333716e-01,\n",
       "         1.21763888e-01, -1.40400199e-01, -4.13121232e-01,\n",
       "        -2.80848414e-02, -9.97967056e-01,  3.62012826e-01,\n",
       "         2.42512734e-01,  2.34386517e-01, -2.70799922e-01,\n",
       "        -4.73310173e-01, -4.88631283e-01,  5.54673551e-01],\n",
       "       [ 1.84253795e-01, -7.67339203e-02,  5.42685128e-01,\n",
       "         6.82599614e-01, -4.31251741e-01,  1.51094040e-01,\n",
       "        -2.07658653e-02, -1.50825782e-01, -2.94965549e-01,\n",
       "        -1.24807593e-01, -4.15316484e-01,  6.89027307e-01,\n",
       "        -3.47857725e-02, -5.88474191e-01,  5.56876192e-01,\n",
       "         2.39164295e-01,  7.06776774e-02,  7.92792462e-01,\n",
       "         3.90011759e-02, -3.87559556e-01,  4.18382505e-02,\n",
       "        -4.28531828e-01, -2.13710094e-01, -1.04610350e-03,\n",
       "        -4.46312741e-01, -5.21922548e-01,  4.84530575e-02,\n",
       "         3.55415301e-01,  1.20169969e-01, -2.08647646e-01],\n",
       "       [-5.35798911e-01, -2.79902864e-01, -3.94627688e-01,\n",
       "         1.35253126e-01, -1.71355032e-01, -5.04074287e-01,\n",
       "         6.05319599e-02, -8.06255450e-02, -1.95012426e-02,\n",
       "         5.41692483e-01,  8.51786919e-02,  3.83444069e-01,\n",
       "        -1.54794687e-01, -3.57381855e-01,  4.40218187e-01,\n",
       "        -3.13270580e-01, -5.87267129e-02,  2.61198264e-01,\n",
       "        -7.78952967e-02,  9.49031483e-02, -3.37789619e-01,\n",
       "         2.52407847e-01, -4.88359269e-02,  1.13588393e-02,\n",
       "         1.66907279e-01,  2.90475686e-01,  1.25682331e-01,\n",
       "         5.19498517e-02,  3.73528983e-01,  6.08948273e-02],\n",
       "       [-3.03947066e-01, -8.46278175e-01, -2.87630593e-01,\n",
       "         5.25086122e-01,  3.15052553e-01, -5.52208435e-02,\n",
       "         5.92736441e-01,  2.08621772e-01,  3.72384237e-01,\n",
       "        -2.88108417e-01,  8.30801122e-02,  1.84389750e-01,\n",
       "        -1.97559502e-02, -2.77122061e-02,  9.13316049e-01,\n",
       "         3.75860969e-01,  8.92051178e-01, -3.95394248e-01,\n",
       "        -4.55706002e-01, -6.52744828e-02, -1.07908744e+00,\n",
       "         1.53430697e-01, -4.37468580e-01,  1.43875357e-01,\n",
       "         5.60624705e-01, -6.62779289e-01, -1.91907769e-04,\n",
       "         3.25429632e-02, -2.09189645e-01, -3.36746653e-01],\n",
       "       [-3.87825071e-01,  2.74268210e-01, -1.10666307e-01,\n",
       "         4.18294077e-01, -5.60640027e-01,  1.36509538e+00,\n",
       "         4.34404204e-01, -6.60586030e-02, -6.15907705e-01,\n",
       "        -5.71232852e-01, -4.17312152e-01,  5.36618179e-01,\n",
       "        -8.70604773e-01,  6.07162470e-01, -2.76837143e-01,\n",
       "        -1.18013720e+00,  1.09373329e+00,  7.27292264e-01,\n",
       "         2.43753075e-01,  1.45394663e-01, -1.27664650e+00,\n",
       "         3.46750698e-01, -1.24489322e+00,  3.18664601e-01,\n",
       "         5.68868930e-01, -1.84112347e-01, -2.57240373e-01,\n",
       "        -1.65001471e-01,  5.28762316e-01,  6.81581793e-01]])"
      ]
     },
     "execution_count": 249,
     "metadata": {},
     "output_type": "execute_result"
    }
   ],
   "source": [
    "np.linalg.pinv(A)"
   ]
  },
  {
   "cell_type": "code",
   "execution_count": 251,
   "metadata": {},
   "outputs": [
    {
     "data": {
      "text/plain": [
       "array([[ 7.46182622e-01,  4.68363066e-01,  7.12244791e-01,\n",
       "         3.77217677e-01, -2.03034924e-01, -1.12263206e+00,\n",
       "        -1.07069983e+00, -1.63199890e-01, -1.51432638e+00,\n",
       "         6.42277086e-01, -3.06392614e-02, -4.55846117e-02,\n",
       "        -1.59702639e+00, -2.17993880e-01, -1.61769198e-01,\n",
       "        -2.01512140e-01,  3.94648147e-01,  1.31775094e+00,\n",
       "         1.64846095e+00, -3.56235449e-02,  4.56641441e-01,\n",
       "         5.77528542e-01, -6.31962306e-01, -8.13056615e-02,\n",
       "        -1.24947916e-01, -9.65797160e-02,  9.42448704e-01,\n",
       "        -6.47787199e-01,  8.22299260e-02,  1.50584761e-01],\n",
       "       [-2.32672127e-01,  1.91240535e-01,  1.31916782e-01,\n",
       "         9.11832463e-01, -5.63618646e-01,  2.62161225e-01,\n",
       "        -1.27357948e-01,  1.16166660e-02, -1.25977231e+00,\n",
       "         5.95900297e-01, -2.22173177e-01,  3.15716242e-01,\n",
       "        -8.59868823e-01, -5.69507742e-01,  6.15628186e-01,\n",
       "        -1.32805108e-01,  4.50595702e-01,  3.27495930e-01,\n",
       "         1.37041430e+00,  1.69426897e-01, -1.29683093e-01,\n",
       "         2.23241057e-01, -5.08568617e-01, -1.47129127e-01,\n",
       "        -3.61854467e-01, -3.20502184e-01,  8.36867110e-02,\n",
       "        -4.24603718e-01, -1.54904378e-01,  4.79195507e-01],\n",
       "       [ 5.39789930e-02,  1.17575993e+00, -7.70795689e-01,\n",
       "        -6.68755175e-01,  6.15437029e-01,  3.41498145e-01,\n",
       "        -7.86183253e-01, -1.51334070e-01,  4.81927446e-01,\n",
       "         3.13544840e-03,  4.81520445e-01, -6.93831803e-01,\n",
       "         7.95996060e-01, -3.31937259e-01, -7.83183445e-01,\n",
       "        -2.50805231e-01, -8.41148504e-01, -8.12142038e-01,\n",
       "         2.29945435e-01, -2.15219077e-01,  9.71700158e-01,\n",
       "        -4.39468298e-01,  1.18022505e+00, -2.93355041e-01,\n",
       "        -4.43080908e-01,  4.26995098e-01, -1.28660005e-01,\n",
       "        -1.70545069e-03,  4.45359303e-01,  4.36818255e-01],\n",
       "       [ 5.55867703e-01, -1.84376342e-01,  2.72617595e-01,\n",
       "        -4.11373330e-02, -1.40226765e-01, -6.86945000e-01,\n",
       "         1.50932995e-01,  1.26751175e-01,  6.33355177e-01,\n",
       "         2.04262237e-01,  1.18558052e+00, -9.12532573e-01,\n",
       "         2.48314775e-02, -2.42874501e-01, -8.09960068e-01,\n",
       "         1.19339307e+00, -8.36942200e-01, -6.23249649e-01,\n",
       "        -3.29291480e-01, -1.59665517e-01,  7.58755781e-01,\n",
       "        -8.35253329e-03,  1.17552334e+00, -6.35595638e-01,\n",
       "        -7.61164499e-01,  4.30462346e-01, -4.99537686e-02,\n",
       "         8.84148602e-02, -7.10479227e-02, -2.19208703e-01],\n",
       "       [ 5.19847399e-01,  3.85340635e-01, -2.66059899e-01,\n",
       "        -3.54568025e-01,  2.74275304e-01, -8.53584907e-02,\n",
       "        -1.57147768e-01, -3.00290593e-01, -8.43212162e-01,\n",
       "         3.76901475e-02,  5.81065015e-01, -4.20595721e-01,\n",
       "         3.55465474e-01, -2.46776853e-01, -8.15170051e-01,\n",
       "        -4.90173533e-01, -2.81423903e-01, -4.70281650e-02,\n",
       "         3.12588885e-01,  8.94899047e-02,  2.64821151e-01,\n",
       "        -1.94189627e-02,  4.99602031e-01,  4.00901784e-01,\n",
       "         4.42489554e-01, -2.60585006e-02, -2.34727751e-01,\n",
       "        -5.90377213e-01,  3.10884497e-01,  7.60998315e-01],\n",
       "       [-2.77525389e-01,  1.01197407e+00, -7.86032042e-01,\n",
       "        -3.50920183e-01, -4.13370987e-02, -3.43511739e-01,\n",
       "        -1.22937449e+00,  5.21741909e-02,  2.24038974e-01,\n",
       "         3.15152087e-01, -1.57061359e-01, -7.21278641e-01,\n",
       "         1.76115950e-01,  3.79317908e-01, -1.50508936e+00,\n",
       "        -5.70177956e-01, -4.80705172e-04, -7.81830652e-02,\n",
       "         6.10850195e-01,  1.27375619e-01,  5.35386356e-01,\n",
       "        -7.73832212e-02,  8.81451381e-01,  4.07671809e-01,\n",
       "         4.43982345e-01,  1.17328456e+00, -4.28042452e-01,\n",
       "        -8.44019211e-01,  5.42760624e-01,  6.99651945e-01],\n",
       "       [ 2.73423700e-01,  4.64449851e-01, -3.21048669e-02,\n",
       "         2.09092718e-01, -2.06547795e-01,  6.58089442e-01,\n",
       "        -2.31556453e-01,  6.20489398e-02, -6.11304304e-01,\n",
       "         1.70911009e-01, -1.12998393e+00,  1.98596259e-01,\n",
       "         5.27394985e-03,  3.97095587e-01,  4.63158119e-01,\n",
       "        -7.33601885e-01,  1.69912138e-01,  4.40939532e-01,\n",
       "         1.42615191e-01, -5.07647885e-01, -7.63345661e-01,\n",
       "         1.59261113e-01, -5.44333660e-01,  3.45244824e-01,\n",
       "         5.68783743e-01,  1.29638058e-01,  1.54152524e-01,\n",
       "        -4.13741131e-01,  3.03447693e-01,  1.09669549e-02],\n",
       "       [ 3.87049273e-01, -1.89752723e-01, -2.03311706e-01,\n",
       "        -3.52699753e-01,  1.20716054e-01, -4.68445090e-01,\n",
       "         4.33957325e-01, -1.84972375e-01,  4.37363789e-01,\n",
       "        -3.26693328e-01,  7.68535225e-02, -5.16136486e-02,\n",
       "         5.33219406e-01,  2.66806727e-01,  2.08405721e-01,\n",
       "         4.87714307e-01, -6.45239067e-02, -1.85962263e-01,\n",
       "        -9.14748094e-01,  8.14500580e-02,  7.41703050e-01,\n",
       "        -1.60213271e-01,  9.45063936e-01, -7.46037490e-01,\n",
       "        -1.01833974e-01, -4.72917722e-01,  5.85057394e-01,\n",
       "        -2.97322525e-01, -1.93670483e-01, -5.69558819e-01],\n",
       "       [-8.87703158e-02, -1.50550145e-03,  1.46607582e-01,\n",
       "        -7.87795896e-01,  6.76963831e-01, -9.05196507e-01,\n",
       "         6.27981055e-03,  5.60825229e-01,  9.94363678e-01,\n",
       "        -4.65877357e-01,  1.36116983e+00, -1.00163774e+00,\n",
       "         1.41658790e+00, -2.45632443e-01, -8.10227120e-01,\n",
       "         1.47747771e+00, -9.63419725e-01, -1.12768143e+00,\n",
       "        -1.10676721e+00,  2.50639141e-01,  1.49497700e+00,\n",
       "        -8.66245856e-01,  1.33333238e+00, -6.46787315e-01,\n",
       "        -5.92459124e-01,  7.92832631e-01, -8.71102772e-01,\n",
       "         4.13675873e-01, -3.29551748e-02, -3.90114225e-01],\n",
       "       [-1.16308587e-01, -7.81161075e-01, -2.11096197e-01,\n",
       "         5.72070391e-02,  7.76217611e-02,  7.13687281e-01,\n",
       "         5.52904676e-01, -6.92991303e-03,  5.11958429e-01,\n",
       "         8.04033304e-02, -9.83407420e-01,  7.98740267e-01,\n",
       "        -1.90414029e-02,  1.49535110e-01,  3.88522928e-01,\n",
       "        -6.86338359e-02,  5.52871606e-01,  2.37478268e-01,\n",
       "        -1.46567481e-01,  2.10955833e-01, -9.39306888e-01,\n",
       "        -6.02822666e-02, -1.38216577e+00,  1.41747769e-01,\n",
       "         3.42400282e-01, -2.45764967e-01,  3.00914621e-01,\n",
       "         4.64080065e-01, -3.40071936e-01, -2.99901516e-01],\n",
       "       [ 5.35519732e-01, -3.48442895e-01,  2.54424116e-01,\n",
       "         1.23690672e-02,  1.73645183e-01,  8.72899620e-02,\n",
       "        -3.00997156e-01,  3.55118468e-01,  2.58809556e-01,\n",
       "        -3.13808047e-01,  3.83902595e-01, -4.52039854e-01,\n",
       "         5.26319306e-01, -3.45825988e-01,  4.45778448e-02,\n",
       "         2.45080019e-01, -7.90424549e-01,  6.40524948e-02,\n",
       "        -5.33759342e-01,  4.67149910e-01,  6.90433286e-01,\n",
       "        -6.47561003e-02,  5.05210062e-01, -3.65015450e-01,\n",
       "        -9.49581949e-01,  2.01645795e-01, -2.63845457e-01,\n",
       "         1.10799052e+00, -1.42186253e-01, -8.25803795e-01],\n",
       "       [-3.49233848e-02, -4.04890461e-02,  5.09546156e-01,\n",
       "        -5.64236233e-02,  4.04033116e-01,  1.63769797e-01,\n",
       "         3.28996659e-01, -9.45403748e-02,  2.49062231e-01,\n",
       "        -3.27490732e-02, -3.82964956e-01,  3.73750300e-01,\n",
       "        -1.99688079e-01, -5.43343112e-01,  5.92720140e-01,\n",
       "         1.75976264e-01, -4.10728674e-02,  9.44859839e-02,\n",
       "        -5.52271828e-01,  3.83590834e-01,  3.35286299e-02,\n",
       "         3.07170469e-01,  1.23148809e-01, -1.59502226e-01,\n",
       "         3.38855501e-02, -6.16017585e-01,  3.01572751e-02,\n",
       "         3.68870035e-01, -4.02844146e-01, -9.01401396e-01],\n",
       "       [-8.56062236e-01, -8.69996860e-01, -6.02304608e-01,\n",
       "        -4.48451662e-01, -1.37445741e-01,  6.52451357e-01,\n",
       "         9.15046879e-01, -1.84766471e-02,  5.94491814e-01,\n",
       "        -3.40015637e-01, -2.57402236e-01,  6.21276060e-01,\n",
       "         1.15344388e-01,  6.44036554e-01,  6.47635390e-01,\n",
       "         3.21481199e-01,  6.11101828e-02, -6.61491936e-01,\n",
       "        -9.19496472e-01, -2.48863171e-01, -5.56614171e-01,\n",
       "        -1.56295535e-02, -1.71813365e-02,  3.02586437e-01,\n",
       "         6.62991772e-01, -2.78038046e-01, -1.86646373e-01,\n",
       "         9.80805120e-01, -6.10406836e-02, -2.12508676e-01],\n",
       "       [-8.74867871e-03,  1.12042853e-01,  5.15154385e-01,\n",
       "        -7.67771263e-02, -2.41510487e-01,  1.38435835e-01,\n",
       "         1.32082812e-02, -2.89986213e-01, -2.21817910e-01,\n",
       "        -7.89819155e-02, -4.59735059e-01, -5.62858009e-01,\n",
       "        -2.01912834e-01, -2.37148865e-01,  3.06261422e-01,\n",
       "        -6.76668251e-01,  2.37647858e-01, -1.53758213e-01,\n",
       "         6.13254213e-01,  1.13156116e-01, -3.54371484e-01,\n",
       "         2.91189455e-01,  9.91924189e-02,  5.37537419e-01,\n",
       "        -4.89918348e-04,  3.47625313e-01, -1.84680495e-01,\n",
       "        -6.88009719e-02,  2.06514624e-01,  4.47708899e-01],\n",
       "       [ 3.61744215e-02, -1.28257285e-01,  9.71727506e-02,\n",
       "        -6.71134768e-02, -1.46297186e-01, -8.11383427e-01,\n",
       "         4.17163895e-01,  2.41280717e-01,  4.11104010e-01,\n",
       "         5.96225676e-01,  2.82950551e-01,  5.74072033e-01,\n",
       "        -2.55314485e-01,  5.60836731e-01, -4.76950531e-02,\n",
       "         3.69704411e-01,  4.43052063e-02, -4.61577858e-01,\n",
       "        -1.82931780e-01, -3.15761318e-01, -8.35243623e-02,\n",
       "        -4.48007785e-02, -4.06305429e-01,  1.97961145e-01,\n",
       "        -1.76254053e-01, -4.65293043e-01,  5.69671856e-01,\n",
       "         1.29708970e-01, -6.15331906e-01, -1.50759460e-01],\n",
       "       [-4.31433057e-01, -1.39315904e-01,  3.68084911e-01,\n",
       "        -7.92581908e-02,  1.94550983e-01,  5.81198789e-01,\n",
       "         3.72770794e-02, -6.76121011e-02,  2.87899683e-01,\n",
       "        -5.10740141e-01,  5.95613943e-02,  1.24644942e-01,\n",
       "         2.86061760e-01,  9.21053502e-01, -6.36245730e-02,\n",
       "        -2.79426359e-01, -5.66217608e-02,  1.85333716e-01,\n",
       "         1.21763888e-01, -1.40400199e-01, -4.13121232e-01,\n",
       "        -2.80848414e-02, -9.97967056e-01,  3.62012826e-01,\n",
       "         2.42512734e-01,  2.34386517e-01, -2.70799922e-01,\n",
       "        -4.73310173e-01, -4.88631283e-01,  5.54673551e-01],\n",
       "       [ 1.84253795e-01, -7.67339203e-02,  5.42685128e-01,\n",
       "         6.82599614e-01, -4.31251741e-01,  1.51094040e-01,\n",
       "        -2.07658653e-02, -1.50825782e-01, -2.94965549e-01,\n",
       "        -1.24807593e-01, -4.15316484e-01,  6.89027307e-01,\n",
       "        -3.47857725e-02, -5.88474191e-01,  5.56876192e-01,\n",
       "         2.39164295e-01,  7.06776774e-02,  7.92792462e-01,\n",
       "         3.90011759e-02, -3.87559556e-01,  4.18382505e-02,\n",
       "        -4.28531828e-01, -2.13710094e-01, -1.04610350e-03,\n",
       "        -4.46312741e-01, -5.21922548e-01,  4.84530575e-02,\n",
       "         3.55415301e-01,  1.20169969e-01, -2.08647646e-01],\n",
       "       [-5.35798911e-01, -2.79902864e-01, -3.94627688e-01,\n",
       "         1.35253126e-01, -1.71355032e-01, -5.04074287e-01,\n",
       "         6.05319599e-02, -8.06255450e-02, -1.95012426e-02,\n",
       "         5.41692483e-01,  8.51786919e-02,  3.83444069e-01,\n",
       "        -1.54794687e-01, -3.57381855e-01,  4.40218187e-01,\n",
       "        -3.13270580e-01, -5.87267129e-02,  2.61198264e-01,\n",
       "        -7.78952967e-02,  9.49031483e-02, -3.37789619e-01,\n",
       "         2.52407847e-01, -4.88359269e-02,  1.13588393e-02,\n",
       "         1.66907279e-01,  2.90475686e-01,  1.25682331e-01,\n",
       "         5.19498517e-02,  3.73528983e-01,  6.08948273e-02],\n",
       "       [-3.03947066e-01, -8.46278175e-01, -2.87630593e-01,\n",
       "         5.25086122e-01,  3.15052553e-01, -5.52208435e-02,\n",
       "         5.92736441e-01,  2.08621772e-01,  3.72384237e-01,\n",
       "        -2.88108417e-01,  8.30801122e-02,  1.84389750e-01,\n",
       "        -1.97559502e-02, -2.77122061e-02,  9.13316049e-01,\n",
       "         3.75860969e-01,  8.92051178e-01, -3.95394248e-01,\n",
       "        -4.55706002e-01, -6.52744828e-02, -1.07908744e+00,\n",
       "         1.53430697e-01, -4.37468580e-01,  1.43875357e-01,\n",
       "         5.60624705e-01, -6.62779289e-01, -1.91907769e-04,\n",
       "         3.25429632e-02, -2.09189645e-01, -3.36746653e-01],\n",
       "       [-3.87825071e-01,  2.74268210e-01, -1.10666307e-01,\n",
       "         4.18294077e-01, -5.60640027e-01,  1.36509538e+00,\n",
       "         4.34404204e-01, -6.60586030e-02, -6.15907705e-01,\n",
       "        -5.71232852e-01, -4.17312152e-01,  5.36618179e-01,\n",
       "        -8.70604773e-01,  6.07162470e-01, -2.76837143e-01,\n",
       "        -1.18013720e+00,  1.09373329e+00,  7.27292264e-01,\n",
       "         2.43753075e-01,  1.45394663e-01, -1.27664650e+00,\n",
       "         3.46750698e-01, -1.24489322e+00,  3.18664601e-01,\n",
       "         5.68868930e-01, -1.84112347e-01, -2.57240373e-01,\n",
       "        -1.65001471e-01,  5.28762316e-01,  6.81581793e-01]])"
      ]
     },
     "execution_count": 251,
     "metadata": {},
     "output_type": "execute_result"
    }
   ],
   "source": [
    "A_pseudo_inv"
   ]
  },
  {
   "cell_type": "code",
   "execution_count": 252,
   "metadata": {},
   "outputs": [],
   "source": [
    "x = A_pseudo_inv@b"
   ]
  },
  {
   "cell_type": "code",
   "execution_count": 253,
   "metadata": {},
   "outputs": [
    {
     "data": {
      "text/plain": [
       "array([5.75792002, 4.2594878 , 4.73703317, 4.02008112, 4.4684866 ,\n",
       "       5.10831403, 4.0502746 , 5.58551613, 4.17819303, 5.16637582,\n",
       "       5.58771629, 4.51874693, 5.71154769, 5.41529794, 4.36323063,\n",
       "       5.89924872, 5.75073181, 4.03610662, 5.74999193, 5.16554913,\n",
       "       5.2048698 , 4.89367349, 4.30741955, 4.29881608, 4.58041219,\n",
       "       4.3008383 , 4.8454869 , 4.04377482, 4.16987721, 5.12127502])"
      ]
     },
     "execution_count": 253,
     "metadata": {},
     "output_type": "execute_result"
    }
   ],
   "source": [
    "b"
   ]
  },
  {
   "cell_type": "code",
   "execution_count": 254,
   "metadata": {},
   "outputs": [
    {
     "data": {
      "text/plain": [
       "array([5.79693254, 4.58434201, 4.35844753, 4.67926781, 4.89446662,\n",
       "       4.83177789, 4.59437666, 5.31161042, 4.13934171, 5.01028479,\n",
       "       5.30698885, 4.14984429, 5.27052379, 5.56577895, 4.46220325,\n",
       "       5.87869665, 5.39651217, 4.15965968, 5.5850345 , 5.27648177,\n",
       "       5.41057236, 4.51371509, 4.18933576, 4.48777072, 4.64422731,\n",
       "       4.51127824, 4.83091094, 4.25606398, 3.97318985, 5.28605961])"
      ]
     },
     "execution_count": 254,
     "metadata": {},
     "output_type": "execute_result"
    }
   ],
   "source": [
    "A@x"
   ]
  },
  {
   "cell_type": "code",
   "execution_count": 255,
   "metadata": {},
   "outputs": [
    {
     "data": {
      "text/plain": [
       "1.5356120336758363"
      ]
     },
     "execution_count": 255,
     "metadata": {},
     "output_type": "execute_result"
    }
   ],
   "source": [
    "np.linalg.norm(A@x-b)"
   ]
  },
  {
   "cell_type": "code",
   "execution_count": 256,
   "metadata": {},
   "outputs": [
    {
     "data": {
      "text/plain": [
       "LinearRegression(copy_X=True, fit_intercept=True, n_jobs=None,\n",
       "         normalize=False)"
      ]
     },
     "execution_count": 256,
     "metadata": {},
     "output_type": "execute_result"
    }
   ],
   "source": [
    "reg = linear_model.LinearRegression()\n",
    "reg.fit(A, b)"
   ]
  },
  {
   "cell_type": "code",
   "execution_count": 257,
   "metadata": {},
   "outputs": [
    {
     "data": {
      "text/plain": [
       "array([5.89648083, 4.6579203 , 4.31072426, 4.53382628, 4.75872165,\n",
       "       4.85103393, 4.45578778, 5.20053884, 4.19686105, 5.11716266,\n",
       "       5.36214344, 4.10974366, 5.29527611, 5.57956301, 4.58140055,\n",
       "       5.99257852, 5.47892928, 4.19788761, 5.48705713, 5.33162304,\n",
       "       5.40171712, 4.59455144, 4.09584457, 4.48622938, 4.60905976,\n",
       "       4.43455122, 4.68474278, 4.25104685, 3.9803366 , 5.36295371])"
      ]
     },
     "execution_count": 257,
     "metadata": {},
     "output_type": "execute_result"
    }
   ],
   "source": [
    "reg.predict(A)"
   ]
  },
  {
   "cell_type": "code",
   "execution_count": 258,
   "metadata": {},
   "outputs": [
    {
     "data": {
      "text/plain": [
       "1.466601383201511"
      ]
     },
     "execution_count": 258,
     "metadata": {},
     "output_type": "execute_result"
    }
   ],
   "source": [
    "np.linalg.norm(reg.predict(A)-b)"
   ]
  },
  {
   "cell_type": "code",
   "execution_count": null,
   "metadata": {},
   "outputs": [],
   "source": []
  }
 ],
 "metadata": {
  "kernelspec": {
   "display_name": "Python 3",
   "language": "python",
   "name": "python3"
  },
  "language_info": {
   "codemirror_mode": {
    "name": "ipython",
    "version": 3
   },
   "file_extension": ".py",
   "mimetype": "text/x-python",
   "name": "python",
   "nbconvert_exporter": "python",
   "pygments_lexer": "ipython3",
   "version": "3.7.3"
  }
 },
 "nbformat": 4,
 "nbformat_minor": 2
}
