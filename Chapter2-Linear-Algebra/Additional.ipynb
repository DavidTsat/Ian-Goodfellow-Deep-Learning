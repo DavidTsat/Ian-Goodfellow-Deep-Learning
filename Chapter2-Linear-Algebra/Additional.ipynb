{
 "cells": [
  {
   "cell_type": "code",
   "execution_count": 1,
   "metadata": {},
   "outputs": [],
   "source": [
    "import numpy as np\n",
    "import matplotlib.pyplot as plt"
   ]
  },
  {
   "cell_type": "code",
   "execution_count": 2,
   "metadata": {},
   "outputs": [],
   "source": [
    "n = 50\n",
    "x = np.arange(n)"
   ]
  },
  {
   "cell_type": "code",
   "execution_count": 3,
   "metadata": {},
   "outputs": [
    {
     "data": {
      "text/plain": [
       "array([ 0,  1,  2,  3,  4,  5,  6,  7,  8,  9, 10, 11, 12, 13, 14, 15, 16,\n",
       "       17, 18, 19, 20, 21, 22, 23, 24, 25, 26, 27, 28, 29, 30, 31, 32, 33,\n",
       "       34, 35, 36, 37, 38, 39, 40, 41, 42, 43, 44, 45, 46, 47, 48, 49])"
      ]
     },
     "execution_count": 3,
     "metadata": {},
     "output_type": "execute_result"
    }
   ],
   "source": [
    "x"
   ]
  },
  {
   "cell_type": "code",
   "execution_count": 4,
   "metadata": {},
   "outputs": [],
   "source": [
    "# n = 50\n",
    "# x = np.arange(-n/2, n/2, 1, dtype=np.float64)\n",
    "\n",
    "m = np.random.uniform(0.3, 0.8, (n,))\n",
    "b = np.random.uniform(5, 10, (n,))\n",
    "\n",
    "y = x*m + b "
   ]
  },
  {
   "cell_type": "code",
   "execution_count": 5,
   "metadata": {},
   "outputs": [
    {
     "data": {
      "text/plain": [
       "array([ 5.50999994,  9.52163453, 10.23008506, 11.99659402,  7.3351208 ,\n",
       "        8.79249647,  9.43556188, 12.62147143,  9.39059432, 16.67034718,\n",
       "       16.43256294, 11.03363314, 11.75458581, 11.70657828, 17.38601338,\n",
       "       19.74990808, 12.92735007, 17.39179602, 14.60426636, 16.02351839,\n",
       "       20.37690966, 15.66322193, 22.62620464, 21.19678426, 17.40127261,\n",
       "       21.82728561, 22.24960502, 17.49904383, 27.13775204, 17.21933048,\n",
       "       22.0817904 , 16.38873571, 28.08416116, 21.67339365, 25.9429867 ,\n",
       "       16.73737043, 32.35462936, 25.49695635, 21.03227954, 24.67999111,\n",
       "       20.29616076, 37.17168397, 37.25772529, 33.30351215, 36.95797724,\n",
       "       22.05487759, 26.46927507, 24.38104665, 38.62128972, 29.30704881])"
      ]
     },
     "execution_count": 5,
     "metadata": {},
     "output_type": "execute_result"
    }
   ],
   "source": [
    "y"
   ]
  },
  {
   "cell_type": "code",
   "execution_count": 6,
   "metadata": {},
   "outputs": [
    {
     "data": {
      "text/plain": [
       "((50,), (50,))"
      ]
     },
     "execution_count": 6,
     "metadata": {},
     "output_type": "execute_result"
    }
   ],
   "source": [
    "x.shape, y.shape"
   ]
  },
  {
   "cell_type": "code",
   "execution_count": 7,
   "metadata": {},
   "outputs": [],
   "source": [
    "A = x.reshape(-1,1)\n",
    "b = y.reshape(-1,1)"
   ]
  },
  {
   "cell_type": "code",
   "execution_count": 8,
   "metadata": {},
   "outputs": [
    {
     "data": {
      "text/plain": [
       "<matplotlib.collections.PathCollection at 0x206df453470>"
      ]
     },
     "execution_count": 8,
     "metadata": {},
     "output_type": "execute_result"
    },
    {
     "data": {
      "image/png": "[encoded data removed]",
      "text/plain": [
       "<Figure size 432x288 with 1 Axes>"
      ]
     },
     "metadata": {
      "needs_background": "light"
     },
     "output_type": "display_data"
    }
   ],
   "source": [
    "plt.scatter(A, y, s=None, marker='o', color='g', edgecolors='g', alpha=0.9)"
   ]
  },
  {
   "cell_type": "code",
   "execution_count": 11,
   "metadata": {},
   "outputs": [
    {
     "data": {
      "text/plain": [
       "((50, 1), (50, 1))"
      ]
     },
     "execution_count": 11,
     "metadata": {},
     "output_type": "execute_result"
    }
   ],
   "source": [
    "A.shape, b.shape"
   ]
  },
  {
   "cell_type": "code",
   "execution_count": 12,
   "metadata": {},
   "outputs": [],
   "source": [
    "# We have mxn matrix, with rankA=n=1\n",
    "# The pseudoinverse will be \n",
    "# A.T@Ax = A.T@b\n",
    "# pseudoInvA = ((A.T@A)^-1)A.T"
   ]
  },
  {
   "cell_type": "code",
   "execution_count": 13,
   "metadata": {},
   "outputs": [],
   "source": [
    "# ordinary least squares\n",
    "pseudoA = np.linalg.inv(A.T@A)@A.T"
   ]
  },
  {
   "cell_type": "code",
   "execution_count": 16,
   "metadata": {},
   "outputs": [],
   "source": [
    "x = pseudoA@b"
   ]
  },
  {
   "cell_type": "code",
   "execution_count": 17,
   "metadata": {},
   "outputs": [
    {
     "data": {
      "text/plain": [
       "array([[0.72776756]])"
      ]
     },
     "execution_count": 17,
     "metadata": {},
     "output_type": "execute_result"
    }
   ],
   "source": [
    "x"
   ]
  },
  {
   "cell_type": "code",
   "execution_count": 18,
   "metadata": {},
   "outputs": [
    {
     "data": {
      "text/plain": [
       "(1, 1)"
      ]
     },
     "execution_count": 18,
     "metadata": {},
     "output_type": "execute_result"
    }
   ],
   "source": [
    "x.shape"
   ]
  },
  {
   "cell_type": "code",
   "execution_count": 19,
   "metadata": {},
   "outputs": [
    {
     "data": {
      "text/plain": [
       "<matplotlib.collections.PathCollection at 0x206df4867b8>"
      ]
     },
     "execution_count": 19,
     "metadata": {},
     "output_type": "execute_result"
    },
    {
     "data": {
      "image/png": "[encoded data removed]",
      "text/plain": [
       "<Figure size 432x288 with 1 Axes>"
      ]
     },
     "metadata": {
      "needs_background": "light"
     },
     "output_type": "display_data"
    }
   ],
   "source": [
    "plt.scatter(A, b, s=None, marker='o', color='g', edgecolors='g', alpha=0.9)"
   ]
  },
  {
   "cell_type": "code",
   "execution_count": 20,
   "metadata": {},
   "outputs": [
    {
     "data": {
      "text/plain": [
       "(1, 1)"
      ]
     },
     "execution_count": 20,
     "metadata": {},
     "output_type": "execute_result"
    }
   ],
   "source": [
    "(pseudoA@b).shape"
   ]
  },
  {
   "cell_type": "code",
   "execution_count": 21,
   "metadata": {},
   "outputs": [
    {
     "data": {
      "text/plain": [
       "(1, 50)"
      ]
     },
     "execution_count": 21,
     "metadata": {},
     "output_type": "execute_result"
    }
   ],
   "source": [
    "pseudoA.shape"
   ]
  },
  {
   "cell_type": "code",
   "execution_count": 22,
   "metadata": {},
   "outputs": [
    {
     "data": {
      "text/plain": [
       "(50, 1)"
      ]
     },
     "execution_count": 22,
     "metadata": {},
     "output_type": "execute_result"
    }
   ],
   "source": [
    "b.shape"
   ]
  },
  {
   "cell_type": "code",
   "execution_count": 23,
   "metadata": {},
   "outputs": [
    {
     "data": {
      "image/png": "[encoded data removed]",
      "text/plain": [
       "<Figure size 432x288 with 1 Axes>"
      ]
     },
     "metadata": {
      "needs_background": "light"
     },
     "output_type": "display_data"
    }
   ],
   "source": [
    "plt.scatter(A, b, s=None, marker='o', color='g', edgecolors='g', alpha=0.9)\n",
    "plt.plot(A, A@x, '-', color='red')\n",
    "plt.show()"
   ]
  },
  {
   "cell_type": "code",
   "execution_count": 24,
   "metadata": {},
   "outputs": [
    {
     "data": {
      "text/plain": [
       "array([[ 0.        ],\n",
       "       [ 0.72776756],\n",
       "       [ 1.45553512],\n",
       "       [ 2.18330268],\n",
       "       [ 2.91107023],\n",
       "       [ 3.63883779],\n",
       "       [ 4.36660535],\n",
       "       [ 5.09437291],\n",
       "       [ 5.82214047],\n",
       "       [ 6.54990803],\n",
       "       [ 7.27767558],\n",
       "       [ 8.00544314],\n",
       "       [ 8.7332107 ],\n",
       "       [ 9.46097826],\n",
       "       [10.18874582],\n",
       "       [10.91651338],\n",
       "       [11.64428094],\n",
       "       [12.37204849],\n",
       "       [13.09981605],\n",
       "       [13.82758361],\n",
       "       [14.55535117],\n",
       "       [15.28311873],\n",
       "       [16.01088629],\n",
       "       [16.73865384],\n",
       "       [17.4664214 ],\n",
       "       [18.19418896],\n",
       "       [18.92195652],\n",
       "       [19.64972408],\n",
       "       [20.37749164],\n",
       "       [21.1052592 ],\n",
       "       [21.83302675],\n",
       "       [22.56079431],\n",
       "       [23.28856187],\n",
       "       [24.01632943],\n",
       "       [24.74409699],\n",
       "       [25.47186455],\n",
       "       [26.1996321 ],\n",
       "       [26.92739966],\n",
       "       [27.65516722],\n",
       "       [28.38293478],\n",
       "       [29.11070234],\n",
       "       [29.8384699 ],\n",
       "       [30.56623746],\n",
       "       [31.29400501],\n",
       "       [32.02177257],\n",
       "       [32.74954013],\n",
       "       [33.47730769],\n",
       "       [34.20507525],\n",
       "       [34.93284281],\n",
       "       [35.66061036]])"
      ]
     },
     "execution_count": 24,
     "metadata": {},
     "output_type": "execute_result"
    }
   ],
   "source": [
    "A@x"
   ]
  },
  {
   "cell_type": "code",
   "execution_count": 25,
   "metadata": {},
   "outputs": [
    {
     "data": {
      "text/plain": [
       "array([[ 5.50999994],\n",
       "       [ 9.52163453],\n",
       "       [10.23008506],\n",
       "       [11.99659402],\n",
       "       [ 7.3351208 ],\n",
       "       [ 8.79249647],\n",
       "       [ 9.43556188],\n",
       "       [12.62147143],\n",
       "       [ 9.39059432],\n",
       "       [16.67034718],\n",
       "       [16.43256294],\n",
       "       [11.03363314],\n",
       "       [11.75458581],\n",
       "       [11.70657828],\n",
       "       [17.38601338],\n",
       "       [19.74990808],\n",
       "       [12.92735007],\n",
       "       [17.39179602],\n",
       "       [14.60426636],\n",
       "       [16.02351839],\n",
       "       [20.37690966],\n",
       "       [15.66322193],\n",
       "       [22.62620464],\n",
       "       [21.19678426],\n",
       "       [17.40127261],\n",
       "       [21.82728561],\n",
       "       [22.24960502],\n",
       "       [17.49904383],\n",
       "       [27.13775204],\n",
       "       [17.21933048],\n",
       "       [22.0817904 ],\n",
       "       [16.38873571],\n",
       "       [28.08416116],\n",
       "       [21.67339365],\n",
       "       [25.9429867 ],\n",
       "       [16.73737043],\n",
       "       [32.35462936],\n",
       "       [25.49695635],\n",
       "       [21.03227954],\n",
       "       [24.67999111],\n",
       "       [20.29616076],\n",
       "       [37.17168397],\n",
       "       [37.25772529],\n",
       "       [33.30351215],\n",
       "       [36.95797724],\n",
       "       [22.05487759],\n",
       "       [26.46927507],\n",
       "       [24.38104665],\n",
       "       [38.62128972],\n",
       "       [29.30704881]])"
      ]
     },
     "execution_count": 25,
     "metadata": {},
     "output_type": "execute_result"
    }
   ],
   "source": [
    "b"
   ]
  },
  {
   "cell_type": "code",
   "execution_count": 26,
   "metadata": {},
   "outputs": [
    {
     "data": {
      "text/plain": [
       "41.75424221133783"
      ]
     },
     "execution_count": 26,
     "metadata": {},
     "output_type": "execute_result"
    }
   ],
   "source": [
    "np.linalg.norm(A@x-b)"
   ]
  },
  {
   "cell_type": "code",
   "execution_count": 27,
   "metadata": {},
   "outputs": [
    {
     "name": "stderr",
     "output_type": "stream",
     "text": [
      "C:\\Users\\davidt\\AppData\\Local\\Continuum\\anaconda3\\lib\\site-packages\\ipykernel_launcher.py:2: FutureWarning: `rcond` parameter will change to the default of machine precision times ``max(M, N)`` where M and N are the input matrix dimensions.\n",
      "To use the future default and silence this warning we advise to pass `rcond=None`, to keep using the old, explicitly pass `rcond=-1`.\n",
      "  \n"
     ]
    },
    {
     "data": {
      "text/plain": [
       "array([[0.72776756]])"
      ]
     },
     "execution_count": 27,
     "metadata": {},
     "output_type": "execute_result"
    }
   ],
   "source": [
    "# The same x \n",
    "np.linalg.lstsq(A, b)[0]"
   ]
  },
  {
   "cell_type": "code",
   "execution_count": 28,
   "metadata": {},
   "outputs": [
    {
     "data": {
      "text/plain": [
       "array([[0.72776756]])"
      ]
     },
     "execution_count": 28,
     "metadata": {},
     "output_type": "execute_result"
    }
   ],
   "source": [
    "x"
   ]
  },
  {
   "cell_type": "code",
   "execution_count": 29,
   "metadata": {},
   "outputs": [
    {
     "data": {
      "text/plain": [
       "LinearRegression(copy_X=True, fit_intercept=True, n_jobs=None,\n",
       "         normalize=False)"
      ]
     },
     "execution_count": 29,
     "metadata": {},
     "output_type": "execute_result"
    }
   ],
   "source": [
    "from sklearn import linear_model\n",
    "\n",
    "reg = linear_model.LinearRegression()\n",
    "reg.fit(A, b)"
   ]
  },
  {
   "cell_type": "code",
   "execution_count": 30,
   "metadata": {},
   "outputs": [
    {
     "data": {
      "text/plain": [
       "array([[ 7.95798189],\n",
       "       [ 8.44459848],\n",
       "       [ 8.93121508],\n",
       "       [ 9.41783167],\n",
       "       [ 9.90444826],\n",
       "       [10.39106485],\n",
       "       [10.87768144],\n",
       "       [11.36429804],\n",
       "       [11.85091463],\n",
       "       [12.33753122],\n",
       "       [12.82414781],\n",
       "       [13.3107644 ],\n",
       "       [13.797381  ],\n",
       "       [14.28399759],\n",
       "       [14.77061418],\n",
       "       [15.25723077],\n",
       "       [15.74384736],\n",
       "       [16.23046396],\n",
       "       [16.71708055],\n",
       "       [17.20369714],\n",
       "       [17.69031373],\n",
       "       [18.17693032],\n",
       "       [18.66354692],\n",
       "       [19.15016351],\n",
       "       [19.6367801 ],\n",
       "       [20.12339669],\n",
       "       [20.61001329],\n",
       "       [21.09662988],\n",
       "       [21.58324647],\n",
       "       [22.06986306],\n",
       "       [22.55647965],\n",
       "       [23.04309625],\n",
       "       [23.52971284],\n",
       "       [24.01632943],\n",
       "       [24.50294602],\n",
       "       [24.98956261],\n",
       "       [25.47617921],\n",
       "       [25.9627958 ],\n",
       "       [26.44941239],\n",
       "       [26.93602898],\n",
       "       [27.42264557],\n",
       "       [27.90926217],\n",
       "       [28.39587876],\n",
       "       [28.88249535],\n",
       "       [29.36911194],\n",
       "       [29.85572853],\n",
       "       [30.34234513],\n",
       "       [30.82896172],\n",
       "       [31.31557831],\n",
       "       [31.8021949 ]])"
      ]
     },
     "execution_count": 30,
     "metadata": {},
     "output_type": "execute_result"
    }
   ],
   "source": [
    "reg.predict(A)"
   ]
  },
  {
   "cell_type": "code",
   "execution_count": 31,
   "metadata": {},
   "outputs": [
    {
     "data": {
      "image/png": "[encoded data removed]",
      "text/plain": [
       "<Figure size 432x288 with 1 Axes>"
      ]
     },
     "metadata": {
      "needs_background": "light"
     },
     "output_type": "display_data"
    }
   ],
   "source": [
    "plt.scatter(A, b, s=None, marker='o', color='g', edgecolors='g', alpha=0.9)\n",
    "plt.plot(A, reg.predict(A), '-', color='red')\n",
    "plt.show()"
   ]
  },
  {
   "cell_type": "code",
   "execution_count": 32,
   "metadata": {},
   "outputs": [
    {
     "data": {
      "text/plain": [
       "41.75424221133783"
      ]
     },
     "execution_count": 32,
     "metadata": {},
     "output_type": "execute_result"
    }
   ],
   "source": [
    "np.linalg.norm(A@x-b)"
   ]
  },
  {
   "cell_type": "code",
   "execution_count": 33,
   "metadata": {},
   "outputs": [
    {
     "data": {
      "text/plain": [
       "30.459971392482956"
      ]
     },
     "execution_count": 33,
     "metadata": {},
     "output_type": "execute_result"
    }
   ],
   "source": [
    "np.linalg.norm(reg.predict(A)-b)"
   ]
  },
  {
   "cell_type": "code",
   "execution_count": 34,
   "metadata": {},
   "outputs": [],
   "source": [
    "# regression in a higher dimension"
   ]
  },
  {
   "cell_type": "code",
   "execution_count": 164,
   "metadata": {},
   "outputs": [],
   "source": [
    "A = np.random.uniform(0.3, 0.8, (30, 20))\n",
    "b = np.random.uniform(4, 6, (30))"
   ]
  },
  {
   "cell_type": "code",
   "execution_count": 234,
   "metadata": {},
   "outputs": [
    {
     "data": {
      "text/plain": [
       "((30, 20), (30,))"
      ]
     },
     "execution_count": 234,
     "metadata": {},
     "output_type": "execute_result"
    }
   ],
   "source": [
    "A.shape, b.shape"
   ]
  },
  {
   "cell_type": "code",
   "execution_count": 242,
   "metadata": {},
   "outputs": [],
   "source": [
    "U, sigmas, V = np.linalg.svd(A)\n",
    "\n",
    "U, sigmas, V = np.linalg.svd(A)\n",
    "\n",
    "sigmas_plus = np.zeros((A.shape[0], A.shape[1])).T\n",
    "sigmas_plus[:sigmas.shape[0], :sigmas.shape[0]] = np.linalg.inv(np.diag(sigmas))\n",
    "\n",
    "# A_plus = V.T.dot(D_plus).dot(U.T)\n",
    "# A_plus"
   ]
  },
  {
   "cell_type": "code",
   "execution_count": 246,
   "metadata": {},
   "outputs": [
    {
     "data": {
      "text/plain": [
       "((30, 30), (20,), (20, 20), (20, 30))"
      ]
     },
     "execution_count": 246,
     "metadata": {},
     "output_type": "execute_result"
    }
   ],
   "source": [
    "U.shape, sigmas.shape, V.shape, sigmas_plus.shape"
   ]
  },
  {
   "cell_type": "code",
   "execution_count": 247,
   "metadata": {},
   "outputs": [],
   "source": [
    "# ss.shape"
   ]
  },
  {
   "cell_type": "code",
   "execution_count": 245,
   "metadata": {},
   "outputs": [],
   "source": [
    "# ss = np.diag(sigmas**-1)\n",
    "# ss.resize(U.shape[0], V.shape[0])\n",
    "# np.dot(ss, U.transpose())"
   ]
  },
  {
   "cell_type": "code",
   "execution_count": 248,
   "metadata": {},
   "outputs": [],
   "source": [
    "A_pseudo_inv = V.T@sigmas_plus@U.T\n",
    "#u,s,v=np.linalg.svd(A)\n",
    "#A_pseudo_inv=np.dot(U.transpose(),np.dot(np.diag(sigmas**-1).resize(U.shape[0], V.shape[0]),U.transpose()))"
   ]
  },
  {
   "cell_type": "code",
   "execution_count": 249,
   "metadata": {},
   "outputs": [
    {
     "data": {
      "text/plain": [
       "array([[ 7.46182622e-01,  4.68363066e-01,  7.12244791e-01,\n",
       "         3.77217677e-01, -2.03034924e-01, -1.12263206e+00,\n",
       "        -1.07069983e+00, -1.63199890e-01, -1.51432638e+00,\n",
       "         6.42277086e-01, -3.06392614e-02, -4.55846117e-02,\n",
       "        -1.59702639e+00, -2.17993880e-01, -1.61769198e-01,\n",
       "        -2.01512140e-01,  3.94648147e-01,  1.31775094e+00,\n",
       "         1.64846095e+00, -3.56235449e-02,  4.56641441e-01,\n",
       "         5.77528542e-01, -6.31962306e-01, -8.13056615e-02,\n",
       "        -1.24947916e-01, -9.65797160e-02,  9.42448704e-01,\n",
       "        -6.47787199e-01,  8.22299260e-02,  1.50584761e-01],\n",
       "       [-2.32672127e-01,  1.91240535e-01,  1.31916782e-01,\n",
       "         9.11832463e-01, -5.63618646e-01,  2.62161225e-01,\n",
       "        -1.27357948e-01,  1.16166660e-02, -1.25977231e+00,\n",
       "         5.95900297e-01, -2.22173177e-01,  3.15716242e-01,\n",
       "        -8.59868823e-01, -5.69507742e-01,  6.15628186e-01,\n",
       "        -1.32805108e-01,  4.50595702e-01,  3.27495930e-01,\n",
       "         1.37041430e+00,  1.69426897e-01, -1.29683093e-01,\n",
       "         2.23241057e-01, -5.08568617e-01, -1.47129127e-01,\n",
       "        -3.61854467e-01, -3.20502184e-01,  8.36867110e-02,\n",
       "        -4.24603718e-01, -1.54904378e-01,  4.79195507e-01],\n",
       "       [ 5.39789930e-02,  1.17575993e+00, -7.70795689e-01,\n",
       "        -6.68755175e-01,  6.15437029e-01,  3.41498145e-01,\n",
       "        -7.86183253e-01, -1.51334070e-01,  4.81927446e-01,\n",
       "         3.13544840e-03,  4.81520445e-01, -6.93831803e-01,\n",
       "         7.95996060e-01, -3.31937259e-01, -7.83183445e-01,\n",
       "        -2.50805231e-01, -8.41148504e-01, -8.12142038e-01,\n",
       "         2.29945435e-01, -2.15219077e-01,  9.71700158e-01,\n",
       "        -4.39468298e-01,  1.18022505e+00, -2.93355041e-01,\n",
       "        -4.43080908e-01,  4.26995098e-01, -1.28660005e-01,\n",
       "        -1.70545069e-03,  4.45359303e-01,  4.36818255e-01],\n",
       "       [ 5.55867703e-01, -1.84376342e-01,  2.72617595e-01,\n",
       "        -4.11373330e-02, -1.40226765e-01, -6.86945000e-01,\n",
       "         1.50932995e-01,  1.26751175e-01,  6.33355177e-01,\n",
       "         2.04262237e-01,  1.18558052e+00, -9.12532573e-01,\n",
       "         2.48314775e-02, -2.42874501e-01, -8.09960068e-01,\n",
       "         1.19339307e+00, -8.36942200e-01, -6.23249649e-01,\n",
       "        -3.29291480e-01, -1.59665517e-01,  7.58755781e-01,\n",
       "        -8.35253329e-03,  1.17552334e+00, -6.35595638e-01,\n",
       "        -7.61164499e-01,  4.30462346e-01, -4.99537686e-02,\n",
       "         8.84148602e-02, -7.10479227e-02, -2.19208703e-01],\n",
       "       [ 5.19847399e-01,  3.85340635e-01, -2.66059899e-01,\n",
       "        -3.54568025e-01,  2.74275304e-01, -8.53584907e-02,\n",
       "        -1.57147768e-01, -3.00290593e-01, -8.43212162e-01,\n",
       "         3.76901475e-02,  5.81065015e-01, -4.20595721e-01,\n",
       "         3.55465474e-01, -2.46776853e-01, -8.15170051e-01,\n",
       "        -4.90173533e-01, -2.81423903e-01, -4.70281650e-02,\n",
       "         3.12588885e-01,  8.94899047e-02,  2.64821151e-01,\n",
       "        -1.94189627e-02,  4.99602031e-01,  4.00901784e-01,\n",
       "         4.42489554e-01, -2.60585006e-02, -2.34727751e-01,\n",
       "        -5.90377213e-01,  3.10884497e-01,  7.60998315e-01],\n",
       "       [-2.77525389e-01,  1.01197407e+00, -7.86032042e-01,\n",
       "        -3.50920183e-01, -4.13370987e-02, -3.43511739e-01,\n",
       "        -1.22937449e+00,  5.21741909e-02,  2.24038974e-01,\n",
       "         3.15152087e-01, -1.57061359e-01, -7.21278641e-01,\n",
       "         1.76115950e-01,  3.79317908e-01, -1.50508936e+00,\n",
       "        -5.70177956e-01, -4.80705172e-04, -7.81830652e-02,\n",
       "         6.10850195e-01,  1.27375619e-01,  5.35386356e-01,\n",
       "        -7.73832212e-02,  8.81451381e-01,  4.07671809e-01,\n",
       "         4.43982345e-01,  1.17328456e+00, -4.28042452e-01,\n",
       "        -8.44019211e-01,  5.42760624e-01,  6.99651945e-01],\n",
       "       [ 2.73423700e-01,  4.64449851e-01, -3.21048669e-02,\n",
       "         2.09092718e-01, -2.06547795e-01,  6.58089442e-01,\n",
       "        -2.31556453e-01,  6.20489398e-02, -6.11304304e-01,\n",
       "         1.70911009e-01, -1.12998393e+00,  1.98596259e-01,\n",
       "         5.27394985e-03,  3.97095587e-01,  4.63158119e-01,\n",
       "        -7.33601885e-01,  1.69912138e-01,  4.40939532e-01,\n",
       "         1.42615191e-01, -5.07647885e-01, -7.63345661e-01,\n",
       "         1.59261113e-01, -5.44333660e-01,  3.45244824e-01,\n",
       "         5.68783743e-01,  1.29638058e-01,  1.54152524e-01,\n",
       "        -4.13741131e-01,  3.03447693e-01,  1.09669549e-02],\n",
       "       [ 3.87049273e-01, -1.89752723e-01, -2.03311706e-01,\n",
       "        -3.52699753e-01,  1.20716054e-01, -4.68445090e-01,\n",
       "         4.33957325e-01, -1.84972375e-01,  4.37363789e-01,\n",
       "        -3.26693328e-01,  7.68535225e-02, -5.16136486e-02,\n",
       "         5.33219406e-01,  2.66806727e-01,  2.08405721e-01,\n",
       "         4.87714307e-01, -6.45239067e-02, -1.85962263e-01,\n",
       "        -9.14748094e-01,  8.14500580e-02,  7.41703050e-01,\n",
       "        -1.60213271e-01,  9.45063936e-01, -7.46037490e-01,\n",
       "        -1.01833974e-01, -4.72917722e-01,  5.85057394e-01,\n",
       "        -2.97322525e-01, -1.93670483e-01, -5.69558819e-01],\n",
       "       [-8.87703158e-02, -1.50550145e-03,  1.46607582e-01,\n",
       "        -7.87795896e-01,  6.76963831e-01, -9.05196507e-01,\n",
       "         6.27981055e-03,  5.60825229e-01,  9.94363678e-01,\n",
       "        -4.65877357e-01,  1.36116983e+00, -1.00163774e+00,\n",
       "         1.41658790e+00, -2.45632443e-01, -8.10227120e-01,\n",
       "         1.47747771e+00, -9.63419725e-01, -1.12768143e+00,\n",
       "        -1.10676721e+00,  2.50639141e-01,  1.49497700e+00,\n",
       "        -8.66245856e-01,  1.33333238e+00, -6.46787315e-01,\n",
       "        -5.92459124e-01,  7.92832631e-01, -8.71102772e-01,\n",
       "         4.13675873e-01, -3.29551748e-02, -3.90114225e-01],\n",
       "       [-1.16308587e-01, -7.81161075e-01, -2.11096197e-01,\n",
       "         5.72070391e-02,  7.76217611e-02,  7.13687281e-01,\n",
       "         5.52904676e-01, -6.92991303e-03,  5.11958429e-01,\n",
       "         8.04033304e-02, -9.83407420e-01,  7.98740267e-01,\n",
       "        -1.90414029e-02,  1.49535110e-01,  3.88522928e-01,\n",
       "        -6.86338359e-02,  5.52871606e-01,  2.37478268e-01,\n",
       "        -1.46567481e-01,  2.10955833e-01, -9.39306888e-01,\n",
       "        -6.02822666e-02, -1.38216577e+00,  1.41747769e-01,\n",
       "         3.42400282e-01, -2.45764967e-01,  3.00914621e-01,\n",
       "         4.64080065e-01, -3.40071936e-01, -2.99901516e-01],\n",
       "       [ 5.35519732e-01, -3.48442895e-01,  2.54424116e-01,\n",
       "         1.23690672e-02,  1.73645183e-01,  8.72899620e-02,\n",
       "        -3.00997156e-01,  3.55118468e-01,  2.58809556e-01,\n",
       "        -3.13808047e-01,  3.83902595e-01, -4.52039854e-01,\n",
       "         5.26319306e-01, -3.45825988e-01,  4.45778448e-02,\n",
       "         2.45080019e-01, -7.90424549e-01,  6.40524948e-02,\n",
       "        -5.33759342e-01,  4.67149910e-01,  6.90433286e-01,\n",
       "        -6.47561003e-02,  5.05210062e-01, -3.65015450e-01,\n",
       "        -9.49581949e-01,  2.01645795e-01, -2.63845457e-01,\n",
       "         1.10799052e+00, -1.42186253e-01, -8.25803795e-01],\n",
       "       [-3.49233848e-02, -4.04890461e-02,  5.09546156e-01,\n",
       "        -5.64236233e-02,  4.04033116e-01,  1.63769797e-01,\n",
       "         3.28996659e-01, -9.45403748e-02,  2.49062231e-01,\n",
       "        -3.27490732e-02, -3.82964956e-01,  3.73750300e-01,\n",
       "        -1.99688079e-01, -5.43343112e-01,  5.92720140e-01,\n",
       "         1.75976264e-01, -4.10728674e-02,  9.44859839e-02,\n",
       "        -5.52271828e-01,  3.83590834e-01,  3.35286299e-02,\n",
       "         3.07170469e-01,  1.23148809e-01, -1.59502226e-01,\n",
       "         3.38855501e-02, -6.16017585e-01,  3.01572751e-02,\n",
       "         3.68870035e-01, -4.02844146e-01, -9.01401396e-01],\n",
       "       [-8.56062236e-01, -8.69996860e-01, -6.02304608e-01,\n",
       "        -4.48451662e-01, -1.37445741e-01,  6.52451357e-01,\n",
       "         9.15046879e-01, -1.84766471e-02,  5.94491814e-01,\n",
       "        -3.40015637e-01, -2.57402236e-01,  6.21276060e-01,\n",
       "         1.15344388e-01,  6.44036554e-01,  6.47635390e-01,\n",
       "         3.21481199e-01,  6.11101828e-02, -6.61491936e-01,\n",
       "        -9.19496472e-01, -2.48863171e-01, -5.56614171e-01,\n",
       "        -1.56295535e-02, -1.71813365e-02,  3.02586437e-01,\n",
       "         6.62991772e-01, -2.78038046e-01, -1.86646373e-01,\n",
       "         9.80805120e-01, -6.10406836e-02, -2.12508676e-01],\n",
       "       [-8.74867871e-03,  1.12042853e-01,  5.15154385e-01,\n",
       "        -7.67771263e-02, -2.41510487e-01,  1.38435835e-01,\n",
       "         1.32082812e-02, -2.89986213e-01, -2.21817910e-01,\n",
       "        -7.89819155e-02, -4.59735059e-01, -5.62858009e-01,\n",
       "        -2.01912834e-01, -2.37148865e-01,  3.06261422e-01,\n",
       "        -6.76668251e-01,  2.37647858e-01, -1.53758213e-01,\n",
       "         6.13254213e-01,  1.13156116e-01, -3.54371484e-01,\n",
       "         2.91189455e-01,  9.91924189e-02,  5.37537419e-01,\n",
       "        -4.89918348e-04,  3.47625313e-01, -1.84680495e-01,\n",
       "        -6.88009719e-02,  2.06514624e-01,  4.47708899e-01],\n",
       "       [ 3.61744215e-02, -1.28257285e-01,  9.71727506e-02,\n",
       "        -6.71134768e-02, -1.46297186e-01, -8.11383427e-01,\n",
       "         4.17163895e-01,  2.41280717e-01,  4.11104010e-01,\n",
       "         5.96225676e-01,  2.82950551e-01,  5.74072033e-01,\n",
       "        -2.55314485e-01,  5.60836731e-01, -4.76950531e-02,\n",
       "         3.69704411e-01,  4.43052063e-02, -4.61577858e-01,\n",
       "        -1.82931780e-01, -3.15761318e-01, -8.35243623e-02,\n",
       "        -4.48007785e-02, -4.06305429e-01,  1.97961145e-01,\n",
       "        -1.76254053e-01, -4.65293043e-01,  5.69671856e-01,\n",
       "         1.29708970e-01, -6.15331906e-01, -1.50759460e-01],\n",
       "       [-4.31433057e-01, -1.39315904e-01,  3.68084911e-01,\n",
       "        -7.92581908e-02,  1.94550983e-01,  5.81198789e-01,\n",
       "         3.72770794e-02, -6.76121011e-02,  2.87899683e-01,\n",
       "        -5.10740141e-01,  5.95613943e-02,  1.24644942e-01,\n",
       "         2.86061760e-01,  9.21053502e-01, -6.36245730e-02,\n",
       "        -2.79426359e-01, -5.66217608e-02,  1.85333716e-01,\n",
       "         1.21763888e-01, -1.40400199e-01, -4.13121232e-01,\n",
       "        -2.80848414e-02, -9.97967056e-01,  3.62012826e-01,\n",
       "         2.42512734e-01,  2.34386517e-01, -2.70799922e-01,\n",
       "        -4.73310173e-01, -4.88631283e-01,  5.54673551e-01],\n",
       "       [ 1.84253795e-01, -7.67339203e-02,  5.42685128e-01,\n",
       "         6.82599614e-01, -4.31251741e-01,  1.51094040e-01,\n",
       "        -2.07658653e-02, -1.50825782e-01, -2.94965549e-01,\n",
       "        -1.24807593e-01, -4.15316484e-01,  6.89027307e-01,\n",
       "        -3.47857725e-02, -5.88474191e-01,  5.56876192e-01,\n",
       "         2.39164295e-01,  7.06776774e-02,  7.92792462e-01,\n",
       "         3.90011759e-02, -3.87559556e-01,  4.18382505e-02,\n",
       "        -4.28531828e-01, -2.13710094e-01, -1.04610350e-03,\n",
       "        -4.46312741e-01, -5.21922548e-01,  4.84530575e-02,\n",
       "         3.55415301e-01,  1.20169969e-01, -2.08647646e-01],\n",
       "       [-5.35798911e-01, -2.79902864e-01, -3.94627688e-01,\n",
       "         1.35253126e-01, -1.71355032e-01, -5.04074287e-01,\n",
       "         6.05319599e-02, -8.06255450e-02, -1.95012426e-02,\n",
       "         5.41692483e-01,  8.51786919e-02,  3.83444069e-01,\n",
       "        -1.54794687e-01, -3.57381855e-01,  4.40218187e-01,\n",
       "        -3.13270580e-01, -5.87267129e-02,  2.61198264e-01,\n",
       "        -7.78952967e-02,  9.49031483e-02, -3.37789619e-01,\n",
       "         2.52407847e-01, -4.88359269e-02,  1.13588393e-02,\n",
       "         1.66907279e-01,  2.90475686e-01,  1.25682331e-01,\n",
       "         5.19498517e-02,  3.73528983e-01,  6.08948273e-02],\n",
       "       [-3.03947066e-01, -8.46278175e-01, -2.87630593e-01,\n",
       "         5.25086122e-01,  3.15052553e-01, -5.52208435e-02,\n",
       "         5.92736441e-01,  2.08621772e-01,  3.72384237e-01,\n",
       "        -2.88108417e-01,  8.30801122e-02,  1.84389750e-01,\n",
       "        -1.97559502e-02, -2.77122061e-02,  9.13316049e-01,\n",
       "         3.75860969e-01,  8.92051178e-01, -3.95394248e-01,\n",
       "        -4.55706002e-01, -6.52744828e-02, -1.07908744e+00,\n",
       "         1.53430697e-01, -4.37468580e-01,  1.43875357e-01,\n",
       "         5.60624705e-01, -6.62779289e-01, -1.91907769e-04,\n",
       "         3.25429632e-02, -2.09189645e-01, -3.36746653e-01],\n",
       "       [-3.87825071e-01,  2.74268210e-01, -1.10666307e-01,\n",
       "         4.18294077e-01, -5.60640027e-01,  1.36509538e+00,\n",
       "         4.34404204e-01, -6.60586030e-02, -6.15907705e-01,\n",
       "        -5.71232852e-01, -4.17312152e-01,  5.36618179e-01,\n",
       "        -8.70604773e-01,  6.07162470e-01, -2.76837143e-01,\n",
       "        -1.18013720e+00,  1.09373329e+00,  7.27292264e-01,\n",
       "         2.43753075e-01,  1.45394663e-01, -1.27664650e+00,\n",
       "         3.46750698e-01, -1.24489322e+00,  3.18664601e-01,\n",
       "         5.68868930e-01, -1.84112347e-01, -2.57240373e-01,\n",
       "        -1.65001471e-01,  5.28762316e-01,  6.81581793e-01]])"
      ]
     },
     "execution_count": 249,
     "metadata": {},
     "output_type": "execute_result"
    }
   ],
   "source": [
    "np.linalg.pinv(A)"
   ]
  },
  {
   "cell_type": "code",
   "execution_count": 251,
   "metadata": {},
   "outputs": [
    {
     "data": {
      "text/plain": [
       "array([[ 7.46182622e-01,  4.68363066e-01,  7.12244791e-01,\n",
       "         3.77217677e-01, -2.03034924e-01, -1.12263206e+00,\n",
       "        -1.07069983e+00, -1.63199890e-01, -1.51432638e+00,\n",
       "         6.42277086e-01, -3.06392614e-02, -4.55846117e-02,\n",
       "        -1.59702639e+00, -2.17993880e-01, -1.61769198e-01,\n",
       "        -2.01512140e-01,  3.94648147e-01,  1.31775094e+00,\n",
       "         1.64846095e+00, -3.56235449e-02,  4.56641441e-01,\n",
       "         5.77528542e-01, -6.31962306e-01, -8.13056615e-02,\n",
       "        -1.24947916e-01, -9.65797160e-02,  9.42448704e-01,\n",
       "        -6.47787199e-01,  8.22299260e-02,  1.50584761e-01],\n",
       "       [-2.32672127e-01,  1.91240535e-01,  1.31916782e-01,\n",
       "         9.11832463e-01, -5.63618646e-01,  2.62161225e-01,\n",
       "        -1.27357948e-01,  1.16166660e-02, -1.25977231e+00,\n",
       "         5.95900297e-01, -2.22173177e-01,  3.15716242e-01,\n",
       "        -8.59868823e-01, -5.69507742e-01,  6.15628186e-01,\n",
       "        -1.32805108e-01,  4.50595702e-01,  3.27495930e-01,\n",
       "         1.37041430e+00,  1.69426897e-01, -1.29683093e-01,\n",
       "         2.23241057e-01, -5.08568617e-01, -1.47129127e-01,\n",
       "        -3.61854467e-01, -3.20502184e-01,  8.36867110e-02,\n",
       "        -4.24603718e-01, -1.54904378e-01,  4.79195507e-01],\n",
       "       [ 5.39789930e-02,  1.17575993e+00, -7.70795689e-01,\n",
       "        -6.68755175e-01,  6.15437029e-01,  3.41498145e-01,\n",
       "        -7.86183253e-01, -1.51334070e-01,  4.81927446e-01,\n",
       "         3.13544840e-03,  4.81520445e-01, -6.93831803e-01,\n",
       "         7.95996060e-01, -3.31937259e-01, -7.83183445e-01,\n",
       "        -2.50805231e-01, -8.41148504e-01, -8.12142038e-01,\n",
       "         2.29945435e-01, -2.15219077e-01,  9.71700158e-01,\n",
       "        -4.39468298e-01,  1.18022505e+00, -2.93355041e-01,\n",
       "        -4.43080908e-01,  4.26995098e-01, -1.28660005e-01,\n",
       "        -1.70545069e-03,  4.45359303e-01,  4.36818255e-01],\n",
       "       [ 5.55867703e-01, -1.84376342e-01,  2.72617595e-01,\n",
       "        -4.11373330e-02, -1.40226765e-01, -6.86945000e-01,\n",
       "         1.50932995e-01,  1.26751175e-01,  6.33355177e-01,\n",
       "         2.04262237e-01,  1.18558052e+00, -9.12532573e-01,\n",
       "         2.48314775e-02, -2.42874501e-01, -8.09960068e-01,\n",
       "         1.19339307e+00, -8.36942200e-01, -6.23249649e-01,\n",
       "        -3.29291480e-01, -1.59665517e-01,  7.58755781e-01,\n",
       "        -8.35253329e-03,  1.17552334e+00, -6.35595638e-01,\n",
       "        -7.61164499e-01,  4.30462346e-01, -4.99537686e-02,\n",
       "         8.84148602e-02, -7.10479227e-02, -2.19208703e-01],\n",
       "       [ 5.19847399e-01,  3.85340635e-01, -2.66059899e-01,\n",
       "        -3.54568025e-01,  2.74275304e-01, -8.53584907e-02,\n",
       "        -1.57147768e-01, -3.00290593e-01, -8.43212162e-01,\n",
       "         3.76901475e-02,  5.81065015e-01, -4.20595721e-01,\n",
       "         3.55465474e-01, -2.46776853e-01, -8.15170051e-01,\n",
       "        -4.90173533e-01, -2.81423903e-01, -4.70281650e-02,\n",
       "         3.12588885e-01,  8.94899047e-02,  2.64821151e-01,\n",
       "        -1.94189627e-02,  4.99602031e-01,  4.00901784e-01,\n",
       "         4.42489554e-01, -2.60585006e-02, -2.34727751e-01,\n",
       "        -5.90377213e-01,  3.10884497e-01,  7.60998315e-01],\n",
       "       [-2.77525389e-01,  1.01197407e+00, -7.86032042e-01,\n",
       "        -3.50920183e-01, -4.13370987e-02, -3.43511739e-01,\n",
       "        -1.22937449e+00,  5.21741909e-02,  2.24038974e-01,\n",
       "         3.15152087e-01, -1.57061359e-01, -7.21278641e-01,\n",
       "         1.76115950e-01,  3.79317908e-01, -1.50508936e+00,\n",
       "        -5.70177956e-01, -4.80705172e-04, -7.81830652e-02,\n",
       "         6.10850195e-01,  1.27375619e-01,  5.35386356e-01,\n",
       "        -7.73832212e-02,  8.81451381e-01,  4.07671809e-01,\n",
       "         4.43982345e-01,  1.17328456e+00, -4.28042452e-01,\n",
       "        -8.44019211e-01,  5.42760624e-01,  6.99651945e-01],\n",
       "       [ 2.73423700e-01,  4.64449851e-01, -3.21048669e-02,\n",
       "         2.09092718e-01, -2.06547795e-01,  6.58089442e-01,\n",
       "        -2.31556453e-01,  6.20489398e-02, -6.11304304e-01,\n",
       "         1.70911009e-01, -1.12998393e+00,  1.98596259e-01,\n",
       "         5.27394985e-03,  3.97095587e-01,  4.63158119e-01,\n",
       "        -7.33601885e-01,  1.69912138e-01,  4.40939532e-01,\n",
       "         1.42615191e-01, -5.07647885e-01, -7.63345661e-01,\n",
       "         1.59261113e-01, -5.44333660e-01,  3.45244824e-01,\n",
       "         5.68783743e-01,  1.29638058e-01,  1.54152524e-01,\n",
       "        -4.13741131e-01,  3.03447693e-01,  1.09669549e-02],\n",
       "       [ 3.87049273e-01, -1.89752723e-01, -2.03311706e-01,\n",
       "        -3.52699753e-01,  1.20716054e-01, -4.68445090e-01,\n",
       "         4.33957325e-01, -1.84972375e-01,  4.37363789e-01,\n",
       "        -3.26693328e-01,  7.68535225e-02, -5.16136486e-02,\n",
       "         5.33219406e-01,  2.66806727e-01,  2.08405721e-01,\n",
       "         4.87714307e-01, -6.45239067e-02, -1.85962263e-01,\n",
       "        -9.14748094e-01,  8.14500580e-02,  7.41703050e-01,\n",
       "        -1.60213271e-01,  9.45063936e-01, -7.46037490e-01,\n",
       "        -1.01833974e-01, -4.72917722e-01,  5.85057394e-01,\n",
       "        -2.97322525e-01, -1.93670483e-01, -5.69558819e-01],\n",
       "       [-8.87703158e-02, -1.50550145e-03,  1.46607582e-01,\n",
       "        -7.87795896e-01,  6.76963831e-01, -9.05196507e-01,\n",
       "         6.27981055e-03,  5.60825229e-01,  9.94363678e-01,\n",
       "        -4.65877357e-01,  1.36116983e+00, -1.00163774e+00,\n",
       "         1.41658790e+00, -2.45632443e-01, -8.10227120e-01,\n",
       "         1.47747771e+00, -9.63419725e-01, -1.12768143e+00,\n",
       "        -1.10676721e+00,  2.50639141e-01,  1.49497700e+00,\n",
       "        -8.66245856e-01,  1.33333238e+00, -6.46787315e-01,\n",
       "        -5.92459124e-01,  7.92832631e-01, -8.71102772e-01,\n",
       "         4.13675873e-01, -3.29551748e-02, -3.90114225e-01],\n",
       "       [-1.16308587e-01, -7.81161075e-01, -2.11096197e-01,\n",
       "         5.72070391e-02,  7.76217611e-02,  7.13687281e-01,\n",
       "         5.52904676e-01, -6.92991303e-03,  5.11958429e-01,\n",
       "         8.04033304e-02, -9.83407420e-01,  7.98740267e-01,\n",
       "        -1.90414029e-02,  1.49535110e-01,  3.88522928e-01,\n",
       "        -6.86338359e-02,  5.52871606e-01,  2.37478268e-01,\n",
       "        -1.46567481e-01,  2.10955833e-01, -9.39306888e-01,\n",
       "        -6.02822666e-02, -1.38216577e+00,  1.41747769e-01,\n",
       "         3.42400282e-01, -2.45764967e-01,  3.00914621e-01,\n",
       "         4.64080065e-01, -3.40071936e-01, -2.99901516e-01],\n",
       "       [ 5.35519732e-01, -3.48442895e-01,  2.54424116e-01,\n",
       "         1.23690672e-02,  1.73645183e-01,  8.72899620e-02,\n",
       "        -3.00997156e-01,  3.55118468e-01,  2.58809556e-01,\n",
       "        -3.13808047e-01,  3.83902595e-01, -4.52039854e-01,\n",
       "         5.26319306e-01, -3.45825988e-01,  4.45778448e-02,\n",
       "         2.45080019e-01, -7.90424549e-01,  6.40524948e-02,\n",
       "        -5.33759342e-01,  4.67149910e-01,  6.90433286e-01,\n",
       "        -6.47561003e-02,  5.05210062e-01, -3.65015450e-01,\n",
       "        -9.49581949e-01,  2.01645795e-01, -2.63845457e-01,\n",
       "         1.10799052e+00, -1.42186253e-01, -8.25803795e-01],\n",
       "       [-3.49233848e-02, -4.04890461e-02,  5.09546156e-01,\n",
       "        -5.64236233e-02,  4.04033116e-01,  1.63769797e-01,\n",
       "         3.28996659e-01, -9.45403748e-02,  2.49062231e-01,\n",
       "        -3.27490732e-02, -3.82964956e-01,  3.73750300e-01,\n",
       "        -1.99688079e-01, -5.43343112e-01,  5.92720140e-01,\n",
       "         1.75976264e-01, -4.10728674e-02,  9.44859839e-02,\n",
       "        -5.52271828e-01,  3.83590834e-01,  3.35286299e-02,\n",
       "         3.07170469e-01,  1.23148809e-01, -1.59502226e-01,\n",
       "         3.38855501e-02, -6.16017585e-01,  3.01572751e-02,\n",
       "         3.68870035e-01, -4.02844146e-01, -9.01401396e-01],\n",
       "       [-8.56062236e-01, -8.69996860e-01, -6.02304608e-01,\n",
       "        -4.48451662e-01, -1.37445741e-01,  6.52451357e-01,\n",
       "         9.15046879e-01, -1.84766471e-02,  5.94491814e-01,\n",
       "        -3.40015637e-01, -2.57402236e-01,  6.21276060e-01,\n",
       "         1.15344388e-01,  6.44036554e-01,  6.47635390e-01,\n",
       "         3.21481199e-01,  6.11101828e-02, -6.61491936e-01,\n",
       "        -9.19496472e-01, -2.48863171e-01, -5.56614171e-01,\n",
       "        -1.56295535e-02, -1.71813365e-02,  3.02586437e-01,\n",
       "         6.62991772e-01, -2.78038046e-01, -1.86646373e-01,\n",
       "         9.80805120e-01, -6.10406836e-02, -2.12508676e-01],\n",
       "       [-8.74867871e-03,  1.12042853e-01,  5.15154385e-01,\n",
       "        -7.67771263e-02, -2.41510487e-01,  1.38435835e-01,\n",
       "         1.32082812e-02, -2.89986213e-01, -2.21817910e-01,\n",
       "        -7.89819155e-02, -4.59735059e-01, -5.62858009e-01,\n",
       "        -2.01912834e-01, -2.37148865e-01,  3.06261422e-01,\n",
       "        -6.76668251e-01,  2.37647858e-01, -1.53758213e-01,\n",
       "         6.13254213e-01,  1.13156116e-01, -3.54371484e-01,\n",
       "         2.91189455e-01,  9.91924189e-02,  5.37537419e-01,\n",
       "        -4.89918348e-04,  3.47625313e-01, -1.84680495e-01,\n",
       "        -6.88009719e-02,  2.06514624e-01,  4.47708899e-01],\n",
       "       [ 3.61744215e-02, -1.28257285e-01,  9.71727506e-02,\n",
       "        -6.71134768e-02, -1.46297186e-01, -8.11383427e-01,\n",
       "         4.17163895e-01,  2.41280717e-01,  4.11104010e-01,\n",
       "         5.96225676e-01,  2.82950551e-01,  5.74072033e-01,\n",
       "        -2.55314485e-01,  5.60836731e-01, -4.76950531e-02,\n",
       "         3.69704411e-01,  4.43052063e-02, -4.61577858e-01,\n",
       "        -1.82931780e-01, -3.15761318e-01, -8.35243623e-02,\n",
       "        -4.48007785e-02, -4.06305429e-01,  1.97961145e-01,\n",
       "        -1.76254053e-01, -4.65293043e-01,  5.69671856e-01,\n",
       "         1.29708970e-01, -6.15331906e-01, -1.50759460e-01],\n",
       "       [-4.31433057e-01, -1.39315904e-01,  3.68084911e-01,\n",
       "        -7.92581908e-02,  1.94550983e-01,  5.81198789e-01,\n",
       "         3.72770794e-02, -6.76121011e-02,  2.87899683e-01,\n",
       "        -5.10740141e-01,  5.95613943e-02,  1.24644942e-01,\n",
       "         2.86061760e-01,  9.21053502e-01, -6.36245730e-02,\n",
       "        -2.79426359e-01, -5.66217608e-02,  1.85333716e-01,\n",
       "         1.21763888e-01, -1.40400199e-01, -4.13121232e-01,\n",
       "        -2.80848414e-02, -9.97967056e-01,  3.62012826e-01,\n",
       "         2.42512734e-01,  2.34386517e-01, -2.70799922e-01,\n",
       "        -4.73310173e-01, -4.88631283e-01,  5.54673551e-01],\n",
       "       [ 1.84253795e-01, -7.67339203e-02,  5.42685128e-01,\n",
       "         6.82599614e-01, -4.31251741e-01,  1.51094040e-01,\n",
       "        -2.07658653e-02, -1.50825782e-01, -2.94965549e-01,\n",
       "        -1.24807593e-01, -4.15316484e-01,  6.89027307e-01,\n",
       "        -3.47857725e-02, -5.88474191e-01,  5.56876192e-01,\n",
       "         2.39164295e-01,  7.06776774e-02,  7.92792462e-01,\n",
       "         3.90011759e-02, -3.87559556e-01,  4.18382505e-02,\n",
       "        -4.28531828e-01, -2.13710094e-01, -1.04610350e-03,\n",
       "        -4.46312741e-01, -5.21922548e-01,  4.84530575e-02,\n",
       "         3.55415301e-01,  1.20169969e-01, -2.08647646e-01],\n",
       "       [-5.35798911e-01, -2.79902864e-01, -3.94627688e-01,\n",
       "         1.35253126e-01, -1.71355032e-01, -5.04074287e-01,\n",
       "         6.05319599e-02, -8.06255450e-02, -1.95012426e-02,\n",
       "         5.41692483e-01,  8.51786919e-02,  3.83444069e-01,\n",
       "        -1.54794687e-01, -3.57381855e-01,  4.40218187e-01,\n",
       "        -3.13270580e-01, -5.87267129e-02,  2.61198264e-01,\n",
       "        -7.78952967e-02,  9.49031483e-02, -3.37789619e-01,\n",
       "         2.52407847e-01, -4.88359269e-02,  1.13588393e-02,\n",
       "         1.66907279e-01,  2.90475686e-01,  1.25682331e-01,\n",
       "         5.19498517e-02,  3.73528983e-01,  6.08948273e-02],\n",
       "       [-3.03947066e-01, -8.46278175e-01, -2.87630593e-01,\n",
       "         5.25086122e-01,  3.15052553e-01, -5.52208435e-02,\n",
       "         5.92736441e-01,  2.08621772e-01,  3.72384237e-01,\n",
       "        -2.88108417e-01,  8.30801122e-02,  1.84389750e-01,\n",
       "        -1.97559502e-02, -2.77122061e-02,  9.13316049e-01,\n",
       "         3.75860969e-01,  8.92051178e-01, -3.95394248e-01,\n",
       "        -4.55706002e-01, -6.52744828e-02, -1.07908744e+00,\n",
       "         1.53430697e-01, -4.37468580e-01,  1.43875357e-01,\n",
       "         5.60624705e-01, -6.62779289e-01, -1.91907769e-04,\n",
       "         3.25429632e-02, -2.09189645e-01, -3.36746653e-01],\n",
       "       [-3.87825071e-01,  2.74268210e-01, -1.10666307e-01,\n",
       "         4.18294077e-01, -5.60640027e-01,  1.36509538e+00,\n",
       "         4.34404204e-01, -6.60586030e-02, -6.15907705e-01,\n",
       "        -5.71232852e-01, -4.17312152e-01,  5.36618179e-01,\n",
       "        -8.70604773e-01,  6.07162470e-01, -2.76837143e-01,\n",
       "        -1.18013720e+00,  1.09373329e+00,  7.27292264e-01,\n",
       "         2.43753075e-01,  1.45394663e-01, -1.27664650e+00,\n",
       "         3.46750698e-01, -1.24489322e+00,  3.18664601e-01,\n",
       "         5.68868930e-01, -1.84112347e-01, -2.57240373e-01,\n",
       "        -1.65001471e-01,  5.28762316e-01,  6.81581793e-01]])"
      ]
     },
     "execution_count": 251,
     "metadata": {},
     "output_type": "execute_result"
    }
   ],
   "source": [
    "A_pseudo_inv"
   ]
  },
  {
   "cell_type": "code",
   "execution_count": 252,
   "metadata": {},
   "outputs": [],
   "source": [
    "x = A_pseudo_inv@b"
   ]
  },
  {
   "cell_type": "code",
   "execution_count": 253,
   "metadata": {},
   "outputs": [
    {
     "data": {
      "text/plain": [
       "array([5.75792002, 4.2594878 , 4.73703317, 4.02008112, 4.4684866 ,\n",
       "       5.10831403, 4.0502746 , 5.58551613, 4.17819303, 5.16637582,\n",
       "       5.58771629, 4.51874693, 5.71154769, 5.41529794, 4.36323063,\n",
       "       5.89924872, 5.75073181, 4.03610662, 5.74999193, 5.16554913,\n",
       "       5.2048698 , 4.89367349, 4.30741955, 4.29881608, 4.58041219,\n",
       "       4.3008383 , 4.8454869 , 4.04377482, 4.16987721, 5.12127502])"
      ]
     },
     "execution_count": 253,
     "metadata": {},
     "output_type": "execute_result"
    }
   ],
   "source": [
    "b"
   ]
  },
  {
   "cell_type": "code",
   "execution_count": 254,
   "metadata": {},
   "outputs": [
    {
     "data": {
      "text/plain": [
       "array([5.79693254, 4.58434201, 4.35844753, 4.67926781, 4.89446662,\n",
       "       4.83177789, 4.59437666, 5.31161042, 4.13934171, 5.01028479,\n",
       "       5.30698885, 4.14984429, 5.27052379, 5.56577895, 4.46220325,\n",
       "       5.87869665, 5.39651217, 4.15965968, 5.5850345 , 5.27648177,\n",
       "       5.41057236, 4.51371509, 4.18933576, 4.48777072, 4.64422731,\n",
       "       4.51127824, 4.83091094, 4.25606398, 3.97318985, 5.28605961])"
      ]
     },
     "execution_count": 254,
     "metadata": {},
     "output_type": "execute_result"
    }
   ],
   "source": [
    "A@x"
   ]
  },
  {
   "cell_type": "code",
   "execution_count": 255,
   "metadata": {},
   "outputs": [
    {
     "data": {
      "text/plain": [
       "1.5356120336758363"
      ]
     },
     "execution_count": 255,
     "metadata": {},
     "output_type": "execute_result"
    }
   ],
   "source": [
    "np.linalg.norm(A@x-b)"
   ]
  },
  {
   "cell_type": "code",
   "execution_count": 256,
   "metadata": {},
   "outputs": [
    {
     "data": {
      "text/plain": [
       "LinearRegression(copy_X=True, fit_intercept=True, n_jobs=None,\n",
       "         normalize=False)"
      ]
     },
     "execution_count": 256,
     "metadata": {},
     "output_type": "execute_result"
    }
   ],
   "source": [
    "reg = linear_model.LinearRegression()\n",
    "reg.fit(A, b)"
   ]
  },
  {
   "cell_type": "code",
   "execution_count": 257,
   "metadata": {},
   "outputs": [
    {
     "data": {
      "text/plain": [
       "array([5.89648083, 4.6579203 , 4.31072426, 4.53382628, 4.75872165,\n",
       "       4.85103393, 4.45578778, 5.20053884, 4.19686105, 5.11716266,\n",
       "       5.36214344, 4.10974366, 5.29527611, 5.57956301, 4.58140055,\n",
       "       5.99257852, 5.47892928, 4.19788761, 5.48705713, 5.33162304,\n",
       "       5.40171712, 4.59455144, 4.09584457, 4.48622938, 4.60905976,\n",
       "       4.43455122, 4.68474278, 4.25104685, 3.9803366 , 5.36295371])"
      ]
     },
     "execution_count": 257,
     "metadata": {},
     "output_type": "execute_result"
    }
   ],
   "source": [
    "reg.predict(A)"
   ]
  },
  {
   "cell_type": "code",
   "execution_count": 258,
   "metadata": {},
   "outputs": [
    {
     "data": {
      "text/plain": [
       "1.466601383201511"
      ]
     },
     "execution_count": 258,
     "metadata": {},
     "output_type": "execute_result"
    }
   ],
   "source": [
    "np.linalg.norm(reg.predict(A)-b)"
   ]
  },
  {
   "cell_type": "code",
   "execution_count": 292,
   "metadata": {},
   "outputs": [],
   "source": [
    "def regul_ols(A, a=1): # ridge regression\n",
    "    return np.linalg.inv((A.T@A + a*np.identity((A.T@A).shape[0])))@A.T"
   ]
  },
  {
   "cell_type": "code",
   "execution_count": 293,
   "metadata": {},
   "outputs": [],
   "source": [
    "# We are getting closer as a gets close to zero (the error norm decreases)\n",
    "reg_pseudo_A = regul_ols(A, 0.01)"
   ]
  },
  {
   "cell_type": "code",
   "execution_count": 294,
   "metadata": {},
   "outputs": [
    {
     "data": {
      "text/plain": [
       "array([ 4.06877167,  1.65326869,  0.48005051,  1.91090716,  1.50294711,\n",
       "        1.18875908, -0.38245494, -0.12599728,  2.12976865, -0.47440362,\n",
       "        0.8558266 , -1.19233879, -2.29953007, -0.26259052,  1.92312582,\n",
       "        1.36786514, -0.68544083, -2.06226896, -0.3528168 , -0.7615799 ])"
      ]
     },
     "execution_count": 294,
     "metadata": {},
     "output_type": "execute_result"
    }
   ],
   "source": [
    "reg_pseudo_A @ b"
   ]
  },
  {
   "cell_type": "code",
   "execution_count": 295,
   "metadata": {},
   "outputs": [
    {
     "data": {
      "text/plain": [
       "array([5.72458102, 4.52000924, 4.31283855, 4.68333523, 4.88349368,\n",
       "       4.93963409, 4.68561137, 5.2967514 , 4.19303909, 4.97135244,\n",
       "       5.21698633, 4.23371593, 5.29452213, 5.57770045, 4.56730067,\n",
       "       5.83749817, 5.43995877, 4.15093904, 5.4900152 , 5.27349982,\n",
       "       5.29415653, 4.51989511, 4.14647425, 4.51501594, 4.70686766,\n",
       "       4.46838667, 4.81423008, 4.32173459, 3.98639076, 5.25230681])"
      ]
     },
     "execution_count": 295,
     "metadata": {},
     "output_type": "execute_result"
    }
   ],
   "source": [
    "A @ reg_pseudo_A @ b"
   ]
  },
  {
   "cell_type": "code",
   "execution_count": 296,
   "metadata": {},
   "outputs": [
    {
     "data": {
      "text/plain": [
       "1.568982677834437"
      ]
     },
     "execution_count": 296,
     "metadata": {},
     "output_type": "execute_result"
    }
   ],
   "source": [
    "np.linalg.norm(A @ reg_pseudo_A @ b-b)"
   ]
  },
  {
   "cell_type": "code",
   "execution_count": 297,
   "metadata": {},
   "outputs": [],
   "source": [
    "# solving with QR decomposition (Gram-Schmidt)"
   ]
  },
  {
   "cell_type": "code",
   "execution_count": 298,
   "metadata": {},
   "outputs": [],
   "source": [
    "Q,R = np.linalg.qr(A)"
   ]
  },
  {
   "cell_type": "code",
   "execution_count": 299,
   "metadata": {},
   "outputs": [
    {
     "data": {
      "text/plain": [
       "array([[-1.77961812e-01,  9.60221226e-02, -1.19474026e-02,\n",
       "        -2.43831539e-01, -3.27825455e-01, -1.50268419e-01,\n",
       "         1.97198063e-01,  1.75363736e-01,  1.92128591e-01,\n",
       "        -2.72517275e-01, -1.75306188e-01,  8.05881814e-02,\n",
       "         2.14665632e-01,  8.42511707e-02,  9.47095223e-02,\n",
       "         2.68416077e-01, -1.29939397e-01,  3.32216742e-01,\n",
       "        -9.79353675e-02,  1.07772346e-01],\n",
       "       [-1.56581668e-01, -4.02551484e-02,  3.75011046e-01,\n",
       "         1.79599796e-01,  1.20822126e-01,  6.94944163e-02,\n",
       "         3.68467037e-01, -1.22172267e-01, -1.73703430e-01,\n",
       "         2.26872227e-01,  2.31515760e-01, -1.87943021e-01,\n",
       "         1.10961233e-01, -7.62267267e-03,  1.27155269e-01,\n",
       "         1.62250664e-01,  1.38298070e-02,  1.21680094e-01,\n",
       "        -3.62790816e-01, -7.62161360e-02],\n",
       "       [-1.60149426e-01,  1.15010824e-01, -1.60318561e-01,\n",
       "        -1.50378691e-01,  5.28446879e-02, -1.02551427e-01,\n",
       "         9.37736815e-02,  2.25268247e-02, -2.94149459e-01,\n",
       "         2.45373104e-01, -5.41215143e-02, -3.24583183e-01,\n",
       "         7.49715659e-02,  4.22532546e-01,  6.23999810e-02,\n",
       "        -2.48928759e-01, -2.93911871e-01,  2.42479783e-01,\n",
       "        -1.09736528e-01,  3.07529563e-02],\n",
       "       [-1.06874062e-01, -3.25536219e-01,  8.57707860e-02,\n",
       "        -2.12230042e-01,  8.70072898e-02,  2.39506425e-01,\n",
       "         4.11839264e-02, -8.39090293e-02,  9.48351425e-02,\n",
       "         1.33270864e-01, -1.63905449e-01,  1.92315680e-01,\n",
       "         3.28833022e-01, -5.89680971e-02, -7.67779743e-02,\n",
       "         3.40654245e-02, -3.06519243e-01, -3.74491581e-02,\n",
       "         1.85938527e-01, -1.16239349e-01],\n",
       "       [-2.23087031e-01,  2.51235170e-01,  1.97017083e-01,\n",
       "         1.81055411e-01, -1.53426898e-01, -8.61467249e-02,\n",
       "         5.14710161e-03, -2.24107227e-01,  4.08539851e-02,\n",
       "        -9.46183356e-02,  9.92990518e-02, -2.96997138e-01,\n",
       "         2.27322440e-01, -1.22409745e-01, -2.05150048e-01,\n",
       "        -1.06472462e-01,  1.99393295e-01,  1.34348678e-01,\n",
       "         1.65573782e-01,  1.55795732e-01],\n",
       "       [-1.63367637e-01, -2.63040593e-01,  2.56619776e-01,\n",
       "        -1.98442443e-01,  1.02026381e-01, -1.53116355e-01,\n",
       "        -7.42099779e-02, -1.64322601e-01,  1.88171033e-01,\n",
       "        -1.25042299e-01, -4.20667592e-03, -1.10342409e-01,\n",
       "        -3.05306724e-01, -1.77913678e-01, -3.05100767e-01,\n",
       "         6.67151322e-03, -5.07735272e-02,  3.67625870e-01,\n",
       "        -1.13324109e-01, -3.79345076e-01],\n",
       "       [-1.44425724e-01, -2.26984008e-01,  4.23538358e-04,\n",
       "        -1.83735166e-01, -1.19620762e-01, -3.95048450e-01,\n",
       "        -6.89559215e-02,  2.82170264e-01, -3.27420654e-01,\n",
       "         5.68026006e-02,  3.87205167e-02, -8.32783275e-02,\n",
       "        -2.33071652e-01,  7.17590010e-02,  1.92870770e-01,\n",
       "         8.85862431e-02,  4.23018853e-02,  2.01036653e-02,\n",
       "         2.12408445e-01, -1.20716177e-01],\n",
       "       [-1.49904102e-01, -1.97235619e-01, -1.17802185e-01,\n",
       "         1.72685656e-01,  1.30770019e-01,  3.57954012e-02,\n",
       "         3.59589373e-01, -2.05924354e-01, -7.98271147e-02,\n",
       "         1.33034055e-02, -2.67360989e-01,  7.69424563e-02,\n",
       "         1.13299453e-01, -1.30896509e-01,  1.10686599e-01,\n",
       "         8.21765824e-02,  7.58250846e-02,  7.25453487e-02,\n",
       "         8.93306700e-02,  1.83569633e-02],\n",
       "       [-1.59052997e-01,  1.34054199e-01,  4.26526399e-01,\n",
       "        -2.98579387e-01,  1.91420583e-01,  4.70012976e-01,\n",
       "        -1.44081781e-01,  1.22820437e-01, -2.07825922e-01,\n",
       "        -1.81020635e-01, -6.27766921e-02, -1.12882762e-01,\n",
       "        -9.31469668e-02,  4.34735442e-03,  7.15294132e-02,\n",
       "        -2.26024301e-01,  1.36739293e-01,  3.43286870e-02,\n",
       "         1.92592697e-01,  1.71154015e-01],\n",
       "       [-1.35414956e-01, -3.18197317e-01,  4.32739967e-02,\n",
       "        -1.74290495e-01, -5.27777163e-02, -7.91794852e-02,\n",
       "         1.59401151e-01, -2.35140716e-01,  3.28313243e-02,\n",
       "        -2.47024775e-01,  9.85389903e-02, -6.39847140e-02,\n",
       "         6.86134167e-02,  6.52376829e-02,  3.28124564e-01,\n",
       "         7.14254543e-02,  5.43052145e-02, -4.08225823e-01,\n",
       "        -7.92819290e-02,  1.58739362e-01],\n",
       "       [-1.94086477e-01,  7.90133494e-02,  1.65430886e-01,\n",
       "        -3.83712445e-02, -1.59129399e-01, -2.27836284e-01,\n",
       "        -2.48163513e-01, -1.06301411e-01, -2.16976621e-02,\n",
       "         5.13900970e-01, -3.06977774e-01,  1.47029921e-01,\n",
       "         2.47164706e-01, -2.34899050e-01,  8.85108858e-02,\n",
       "        -7.36037516e-02,  1.98169865e-01, -5.92577385e-02,\n",
       "         6.15945140e-02,  1.15966483e-01],\n",
       "       [-1.53707785e-01, -1.21027851e-01,  6.76974666e-02,\n",
       "         9.94358946e-02, -1.67336186e-01,  9.24556477e-02,\n",
       "        -4.01726134e-02, -5.54395807e-02, -5.73129433e-02,\n",
       "         1.76168542e-02,  1.89890696e-01, -1.30290663e-01,\n",
       "        -1.62865501e-01, -3.19262465e-01,  3.14880121e-01,\n",
       "        -1.48404284e-01, -3.07094138e-01, -2.35544493e-01,\n",
       "         3.93591759e-02, -1.49120323e-01],\n",
       "       [-1.30636949e-01, -2.58813057e-01,  1.38017590e-01,\n",
       "         1.58350738e-01, -3.53837648e-01,  6.85535112e-03,\n",
       "         2.56295306e-01,  2.22443572e-01, -9.10796696e-02,\n",
       "        -1.70993256e-01, -3.55998105e-02,  1.86878088e-01,\n",
       "        -2.09540275e-02, -8.50847525e-02, -2.72691733e-01,\n",
       "        -3.04879336e-01, -1.56913351e-02,  8.69349532e-02,\n",
       "         4.98926782e-02,  2.41931545e-01],\n",
       "       [-1.91128214e-01, -1.90310758e-02, -2.15574357e-01,\n",
       "         8.99005647e-02,  1.91460204e-01,  1.29679251e-01,\n",
       "         1.77746221e-01,  2.42689244e-01,  3.07584303e-01,\n",
       "         1.34603649e-01, -8.76983203e-02,  1.50916861e-01,\n",
       "        -1.61961125e-01, -1.27994170e-01,  3.34979659e-01,\n",
       "        -2.76473958e-01,  2.98153214e-01,  2.54474063e-01,\n",
       "        -5.16868640e-02, -1.68723810e-01],\n",
       "       [-2.09789599e-01, -7.77975759e-02,  8.32777229e-02,\n",
       "         3.10523263e-01,  2.28300028e-01, -2.04584249e-01,\n",
       "         1.58800245e-01,  1.36882387e-01,  2.86367697e-01,\n",
       "         1.35625789e-01,  3.31402877e-02, -7.12551616e-02,\n",
       "        -9.56601699e-02,  2.75008656e-01, -2.34311073e-01,\n",
       "        -1.41150814e-01, -2.44880241e-01, -2.25580269e-01,\n",
       "         3.90254422e-01,  7.69300142e-02],\n",
       "       [-2.34229446e-01, -6.10445669e-03, -2.86759988e-01,\n",
       "        -2.23890013e-01,  2.61016610e-01, -1.24054732e-01,\n",
       "        -1.14263408e-01, -2.62745596e-01, -1.49927224e-01,\n",
       "        -4.98179738e-02,  2.34024079e-01,  1.86338330e-01,\n",
       "        -1.29804152e-02, -1.96133136e-01,  4.51364332e-02,\n",
       "         3.05646867e-03, -1.55659936e-01,  2.24657398e-01,\n",
       "         2.31555702e-01,  3.27947222e-01],\n",
       "       [-2.07122377e-01,  3.11205906e-02, -8.27484124e-02,\n",
       "         2.65515733e-01,  1.04549265e-01,  2.62468850e-01,\n",
       "        -9.34726086e-02,  1.62387520e-01, -2.66189205e-01,\n",
       "        -8.07878667e-02,  8.49541038e-02,  1.34051176e-01,\n",
       "         2.04435483e-01,  1.10694793e-01,  3.73973605e-02,\n",
       "         3.09163095e-01,  2.18057604e-02,  1.41671933e-01,\n",
       "         2.90390220e-01, -3.03936520e-01],\n",
       "       [-1.98570677e-01,  1.91715260e-01, -2.23817610e-01,\n",
       "        -1.53923406e-01, -8.05928834e-02,  1.60526380e-01,\n",
       "        -5.19781628e-02,  1.80223472e-01,  7.74131101e-02,\n",
       "        -8.32822647e-03, -5.06471949e-02, -1.31929494e-01,\n",
       "         1.90532490e-01, -2.85514405e-01, -1.56497406e-01,\n",
       "        -1.70795707e-01, -3.72758971e-01, -1.99751998e-01,\n",
       "        -2.09372861e-01, -2.02106566e-01],\n",
       "       [-2.08344289e-01, -6.53739851e-02,  2.80809464e-02,\n",
       "         1.38468726e-01,  1.43183409e-01, -3.64757609e-02,\n",
       "        -3.53056564e-01, -2.50788344e-01,  1.66345045e-01,\n",
       "        -2.13758372e-01,  1.08017605e-01,  1.91844282e-01,\n",
       "         2.00267110e-01,  3.36639133e-01, -1.04030590e-02,\n",
       "        -4.26336082e-02, -2.69536647e-02,  1.75424532e-02,\n",
       "        -2.01749272e-01, -6.77363137e-02],\n",
       "       [-1.50898695e-01, -3.36446903e-01, -2.15600472e-01,\n",
       "         1.98842883e-01, -1.11757114e-01,  8.46669721e-02,\n",
       "        -2.61349742e-01,  1.32230865e-01, -1.77739724e-01,\n",
       "        -1.62059688e-01, -2.54222982e-01, -3.80206454e-01,\n",
       "         1.06370798e-01, -3.05502507e-02, -1.34300417e-01,\n",
       "         1.43030211e-01,  1.98204528e-01, -6.79485105e-02,\n",
       "        -3.62502538e-02, -4.04035867e-02],\n",
       "       [-2.07232299e-01, -7.69250118e-02, -1.79196876e-01,\n",
       "         2.93906013e-01,  4.83778705e-02,  5.34915882e-02,\n",
       "        -2.18869247e-01,  1.01123816e-01,  1.32814844e-02,\n",
       "         5.90043556e-02,  1.16867118e-01, -5.65229713e-02,\n",
       "        -8.97950011e-02, -1.45843851e-01,  1.93307072e-02,\n",
       "         7.53168154e-03, -1.01838544e-01,  1.09642266e-01,\n",
       "        -3.54364710e-01,  3.54766100e-01],\n",
       "       [-1.83582774e-01, -8.76682108e-03, -5.94942477e-02,\n",
       "        -2.24421091e-01,  8.56454257e-02, -2.31354081e-02,\n",
       "        -3.08777049e-02, -1.66222812e-02,  3.02406715e-01,\n",
       "         1.56691333e-01, -1.20994974e-01, -3.32055666e-01,\n",
       "         6.08906385e-02,  1.19229172e-01, -1.04633249e-02,\n",
       "         9.64107771e-02,  2.36163921e-01, -1.52318456e-01,\n",
       "         3.93900705e-02, -9.63582265e-02],\n",
       "       [-1.43272718e-01, -1.78413252e-01,  9.41789674e-03,\n",
       "        -1.84145988e-01, -5.48291107e-02,  2.99091648e-01,\n",
       "        -4.97455850e-02,  1.71038980e-01,  1.58100752e-01,\n",
       "         3.43817407e-01,  1.71110353e-01,  5.23723084e-02,\n",
       "        -2.22084939e-01,  1.03518620e-01, -2.10012374e-01,\n",
       "         3.79690511e-01,  5.33910162e-02, -3.04099009e-02,\n",
       "        -9.52600690e-02,  3.45942210e-01],\n",
       "       [-1.37580213e-01,  3.41556123e-02, -9.46611505e-02,\n",
       "        -1.28950431e-02, -4.54318481e-01,  3.38356020e-01,\n",
       "         6.82108062e-02, -2.53777247e-01,  5.87840082e-02,\n",
       "         7.38929989e-02, -9.39873775e-03,  9.07932608e-02,\n",
       "        -1.42640811e-01,  3.75309744e-01,  9.16622367e-02,\n",
       "        -1.51977415e-01,  1.48362874e-02,  1.14139392e-02,\n",
       "         3.73689068e-02, -8.85534076e-02],\n",
       "       [-2.23607917e-01,  1.65099643e-01, -3.04393660e-01,\n",
       "        -9.98592347e-02, -2.03588189e-01,  1.45316027e-02,\n",
       "         1.36606594e-01, -1.39928381e-01,  5.39970318e-02,\n",
       "        -7.23088239e-03,  4.20036562e-01, -5.24127326e-02,\n",
       "        -6.15355591e-02, -1.03827817e-01, -1.41360763e-01,\n",
       "         2.33022215e-02,  2.60313994e-01, -5.29618194e-02,\n",
       "         1.90386855e-01, -1.58082454e-01],\n",
       "       [-1.87180826e-01,  1.59883329e-02, -1.69371474e-01,\n",
       "        -1.57852411e-01,  2.92248159e-01, -4.86931833e-02,\n",
       "         1.98992701e-01,  5.29714493e-03, -2.03835745e-01,\n",
       "        -1.94118540e-01, -1.76059044e-01,  1.16388673e-01,\n",
       "        -4.42992836e-02,  7.54183582e-02, -2.19518679e-01,\n",
       "        -2.15205901e-01,  2.44616801e-01, -2.61846995e-01,\n",
       "        -2.57580560e-01,  5.11628077e-02],\n",
       "       [-2.21164276e-01,  2.06427252e-01,  1.87696434e-01,\n",
       "         3.64518949e-02,  8.13714384e-02, -1.19383406e-01,\n",
       "        -6.26868180e-02,  3.35352528e-01,  2.66798480e-01,\n",
       "        -2.33317790e-01,  8.57912009e-02, -6.46507681e-03,\n",
       "         8.65463757e-02,  1.00551566e-02,  3.08179547e-01,\n",
       "         7.82718677e-02, -2.78585937e-02, -9.12507407e-02,\n",
       "         1.70403392e-02,  7.14842864e-02],\n",
       "       [-2.13104886e-01,  2.45448349e-01,  2.20487052e-02,\n",
       "         1.82960524e-01, -5.27237056e-02,  2.34776648e-02,\n",
       "        -8.23145848e-02, -2.82420071e-01, -6.01966553e-03,\n",
       "        -9.74075384e-02, -4.67199862e-01,  1.68820538e-02,\n",
       "        -4.97856803e-01,  1.66360112e-02,  8.76268668e-02,\n",
       "         1.95582711e-01, -1.78840486e-01, -3.59749419e-02,\n",
       "         2.42292696e-02,  4.58521042e-02],\n",
       "       [-2.28303602e-01,  3.17156706e-01,  1.03821938e-01,\n",
       "        -2.46898339e-02,  3.11637545e-02, -8.91279678e-02,\n",
       "         1.75326304e-01,  9.35294300e-02, -2.19297857e-01,\n",
       "         5.38513274e-02, -2.66513353e-03,  2.58781629e-01,\n",
       "        -8.19810290e-02, -7.20350283e-02, -2.22035164e-01,\n",
       "         2.83151179e-01, -3.63329259e-02, -2.64044742e-01,\n",
       "        -1.20353218e-01, -1.46937265e-01],\n",
       "       [-1.82907574e-01, -9.23749324e-02,  1.42938594e-01,\n",
       "         1.65327609e-02, -1.43588261e-01, -1.37578887e-01,\n",
       "        -2.65066592e-01,  5.15161799e-02, -1.06609878e-01,\n",
       "         8.40193820e-02,  1.32028827e-01,  3.53426239e-01,\n",
       "         6.26647608e-03,  1.60267028e-01, -4.81565829e-03,\n",
       "        -2.10987627e-01,  1.17544411e-01, -5.81973358e-02,\n",
       "        -1.82454208e-01, -1.89404126e-01]])"
      ]
     },
     "execution_count": 299,
     "metadata": {},
     "output_type": "execute_result"
    }
   ],
   "source": [
    "Q"
   ]
  },
  {
   "cell_type": "code",
   "execution_count": 300,
   "metadata": {},
   "outputs": [
    {
     "data": {
      "text/plain": [
       "array([[-3.27294183, -2.85048742, -2.84822959, -2.72311091, -2.87416042,\n",
       "        -2.73103261, -3.015324  , -3.15284998, -3.1815748 , -3.13382828,\n",
       "        -2.97231233, -2.87585455, -2.95030394, -2.92512378, -2.90749143,\n",
       "        -3.27994123, -3.02322602, -2.96292669, -2.94234785, -2.85657792],\n",
       "       [ 0.        , -1.0583563 , -0.15045201, -0.42411269, -0.58027414,\n",
       "        -0.65131574, -0.54287633, -0.64759618, -0.41922003, -0.46307276,\n",
       "        -0.64756664, -0.53916328, -0.28419104, -0.34661643, -0.64651615,\n",
       "        -0.54004762, -0.33085844, -0.41276313, -0.3027177 , -0.36712132],\n",
       "       [ 0.        ,  0.        ,  0.66597985,  0.1863378 , -0.01991737,\n",
       "        -0.07453558,  0.06918534,  0.10520676, -0.05392582,  0.10956989,\n",
       "         0.06861668,  0.1558581 , -0.17261779,  0.19183402,  0.31273827,\n",
       "         0.20369963,  0.23332497,  0.31913009,  0.29655684,  0.24799128],\n",
       "       [ 0.        ,  0.        ,  0.        , -0.86217707, -0.26599281,\n",
       "        -0.24709914, -0.26138738, -0.01842252,  0.17010473, -0.26944977,\n",
       "         0.01670527, -0.36770691, -0.09870284, -0.0223021 ,  0.06665126,\n",
       "        -0.30665791, -0.29327324, -0.22115519, -0.10702569, -0.07556254],\n",
       "       [ 0.        ,  0.        ,  0.        ,  0.        , -0.77694086,\n",
       "        -0.19040089, -0.01437651, -0.08982356, -0.02967571, -0.22981015,\n",
       "        -0.3097297 , -0.19221824, -0.06296096, -0.14715327, -0.36480686,\n",
       "        -0.12373693, -0.35320809, -0.16712528, -0.17138947, -0.05099995],\n",
       "       [ 0.        ,  0.        ,  0.        ,  0.        ,  0.        ,\n",
       "         0.72749744, -0.17627937,  0.155251  , -0.17049137, -0.04553952,\n",
       "         0.37411337,  0.26614214,  0.08026165,  0.12675363,  0.30021138,\n",
       "         0.1947857 ,  0.48395092, -0.03391775,  0.37448414,  0.05741397],\n",
       "       [ 0.        ,  0.        ,  0.        ,  0.        ,  0.        ,\n",
       "         0.        ,  0.78703346, -0.0239238 ,  0.3502509 , -0.10098673,\n",
       "         0.11990134,  0.11201498, -0.09584439,  0.02344934,  0.31242122,\n",
       "        -0.07915363, -0.01514226,  0.15796055,  0.10450798,  0.14901548],\n",
       "       [ 0.        ,  0.        ,  0.        ,  0.        ,  0.        ,\n",
       "         0.        ,  0.        ,  0.71185056,  0.04138248,  0.12728735,\n",
       "         0.11841417, -0.20079186, -0.13635018,  0.38243308,  0.09015005,\n",
       "         0.13555257,  0.08759369,  0.29216289, -0.05050287,  0.21971671],\n",
       "       [ 0.        ,  0.        ,  0.        ,  0.        ,  0.        ,\n",
       "         0.        ,  0.        ,  0.        , -0.59353466, -0.32053882,\n",
       "         0.31041902, -0.15773641,  0.21146206, -0.31308253, -0.18067166,\n",
       "         0.16387526, -0.22700497, -0.1988897 ,  0.08658103, -0.3803646 ],\n",
       "       [ 0.        ,  0.        ,  0.        ,  0.        ,  0.        ,\n",
       "         0.        ,  0.        ,  0.        ,  0.        , -0.67929452,\n",
       "         0.0565294 ,  0.23681862,  0.13057265, -0.0236785 ,  0.15971253,\n",
       "         0.22764341,  0.13602166,  0.13408707,  0.13650494,  0.20949946],\n",
       "       [ 0.        ,  0.        ,  0.        ,  0.        ,  0.        ,\n",
       "         0.        ,  0.        ,  0.        ,  0.        ,  0.        ,\n",
       "        -0.62026532,  0.18455022,  0.10248853, -0.14610396, -0.25175118,\n",
       "        -0.03476675,  0.0908831 , -0.17752319, -0.13371511, -0.2355815 ],\n",
       "       [ 0.        ,  0.        ,  0.        ,  0.        ,  0.        ,\n",
       "         0.        ,  0.        ,  0.        ,  0.        ,  0.        ,\n",
       "         0.        , -0.67753982,  0.11294587,  0.01594706, -0.02687871,\n",
       "        -0.14484574,  0.22743391, -0.13286556,  0.16680298, -0.07694185],\n",
       "       [ 0.        ,  0.        ,  0.        ,  0.        ,  0.        ,\n",
       "         0.        ,  0.        ,  0.        ,  0.        ,  0.        ,\n",
       "         0.        ,  0.        , -0.45896175, -0.15054272, -0.00759709,\n",
       "         0.08397683, -0.07862689,  0.0599482 ,  0.29983794,  0.01367547],\n",
       "       [ 0.        ,  0.        ,  0.        ,  0.        ,  0.        ,\n",
       "         0.        ,  0.        ,  0.        ,  0.        ,  0.        ,\n",
       "         0.        ,  0.        ,  0.        ,  0.68387995,  0.19864185,\n",
       "        -0.01005009,  0.04858897, -0.08286274,  0.05813883, -0.11096028],\n",
       "       [ 0.        ,  0.        ,  0.        ,  0.        ,  0.        ,\n",
       "         0.        ,  0.        ,  0.        ,  0.        ,  0.        ,\n",
       "         0.        ,  0.        ,  0.        ,  0.        ,  0.56460947,\n",
       "        -0.10578307, -0.01703236, -0.06535325, -0.15354729,  0.12866982],\n",
       "       [ 0.        ,  0.        ,  0.        ,  0.        ,  0.        ,\n",
       "         0.        ,  0.        ,  0.        ,  0.        ,  0.        ,\n",
       "         0.        ,  0.        ,  0.        ,  0.        ,  0.        ,\n",
       "        -0.61045385, -0.14296306, -0.23634668,  0.06339593,  0.19590712],\n",
       "       [ 0.        ,  0.        ,  0.        ,  0.        ,  0.        ,\n",
       "         0.        ,  0.        ,  0.        ,  0.        ,  0.        ,\n",
       "         0.        ,  0.        ,  0.        ,  0.        ,  0.        ,\n",
       "         0.        , -0.49612541,  0.0336002 ,  0.02765583,  0.03124488],\n",
       "       [ 0.        ,  0.        ,  0.        ,  0.        ,  0.        ,\n",
       "         0.        ,  0.        ,  0.        ,  0.        ,  0.        ,\n",
       "         0.        ,  0.        ,  0.        ,  0.        ,  0.        ,\n",
       "         0.        ,  0.        , -0.6851107 ,  0.08927449,  0.01993194],\n",
       "       [ 0.        ,  0.        ,  0.        ,  0.        ,  0.        ,\n",
       "         0.        ,  0.        ,  0.        ,  0.        ,  0.        ,\n",
       "         0.        ,  0.        ,  0.        ,  0.        ,  0.        ,\n",
       "         0.        ,  0.        ,  0.        ,  0.40712287, -0.06654659],\n",
       "       [ 0.        ,  0.        ,  0.        ,  0.        ,  0.        ,\n",
       "         0.        ,  0.        ,  0.        ,  0.        ,  0.        ,\n",
       "         0.        ,  0.        ,  0.        ,  0.        ,  0.        ,\n",
       "         0.        ,  0.        ,  0.        ,  0.        , -0.27788906]])"
      ]
     },
     "execution_count": 300,
     "metadata": {},
     "output_type": "execute_result"
    }
   ],
   "source": [
    "R"
   ]
  },
  {
   "cell_type": "code",
   "execution_count": 301,
   "metadata": {},
   "outputs": [
    {
     "data": {
      "text/plain": [
       "array([[ 1.00000000e+00,  2.33593801e-17,  2.24862875e-17,\n",
       "         3.17121433e-18, -2.02329093e-17, -6.71535010e-17,\n",
       "         5.26638698e-18, -3.82984202e-17,  7.13205822e-18,\n",
       "        -1.03170823e-17,  1.14644019e-17, -1.33819079e-17,\n",
       "         2.45230671e-17, -9.60044266e-18, -3.22145831e-19,\n",
       "         2.10064574e-18,  1.09169915e-17,  1.85269699e-17,\n",
       "         3.03964294e-17,  2.33946019e-17],\n",
       "       [ 2.33593801e-17,  1.00000000e+00,  3.13383851e-17,\n",
       "         2.12003820e-17,  4.08034676e-17,  3.64530375e-17,\n",
       "         8.81668245e-17, -3.08258671e-17, -5.06476697e-18,\n",
       "         4.34233955e-17,  4.57003881e-17, -8.19074289e-17,\n",
       "        -8.61186076e-17, -1.29058997e-17, -7.39027259e-18,\n",
       "        -1.19876208e-17, -5.08662852e-17,  5.10417516e-17,\n",
       "        -2.74103559e-18, -1.59690759e-17],\n",
       "       [ 2.24862875e-17,  3.13383851e-17,  1.00000000e+00,\n",
       "        -6.11209195e-18, -1.30437711e-17, -2.75503304e-17,\n",
       "        -1.18634111e-16,  5.31782505e-17, -3.23464424e-17,\n",
       "         4.77703813e-17, -1.58205860e-17,  5.19106794e-17,\n",
       "         4.35058163e-17,  1.36432275e-17, -5.16835514e-17,\n",
       "        -1.18226607e-17, -7.07843530e-17,  2.35965014e-17,\n",
       "        -7.30209967e-18, -1.44131307e-17],\n",
       "       [ 3.17121433e-18,  2.12003820e-17, -6.11209195e-18,\n",
       "         1.00000000e+00, -6.14031933e-17, -3.80128642e-17,\n",
       "        -3.17237428e-17, -7.37712024e-17, -5.43557970e-17,\n",
       "         4.79422624e-17, -1.17432545e-17,  5.53754222e-17,\n",
       "         4.28955995e-17, -4.06285667e-17,  1.84541318e-17,\n",
       "         3.97621680e-17,  1.11510805e-18,  3.66415392e-17,\n",
       "         4.44339834e-17, -1.47553139e-17],\n",
       "       [-2.02329093e-17,  4.08034676e-17, -1.30437711e-17,\n",
       "        -6.14031933e-17,  1.00000000e+00,  6.51193814e-17,\n",
       "         2.62983049e-17, -6.56059383e-17, -1.93722708e-17,\n",
       "         4.89272434e-17, -9.78481450e-18, -5.91523591e-17,\n",
       "         8.38118664e-17, -2.63330174e-18,  1.44733736e-17,\n",
       "        -8.70468448e-17,  3.54702692e-17, -2.48293913e-17,\n",
       "        -1.39515636e-17,  4.27407991e-17],\n",
       "       [-6.71535010e-17,  3.64530375e-17, -2.75503304e-17,\n",
       "        -3.80128642e-17,  6.51193814e-17,  1.00000000e+00,\n",
       "         1.10413538e-17, -3.94568266e-17,  4.10974566e-17,\n",
       "        -3.94061565e-19, -2.90489139e-17, -5.22808250e-17,\n",
       "        -8.35985811e-17,  3.03648200e-17,  5.54130482e-18,\n",
       "        -3.04551472e-17,  2.22065289e-17,  1.38466960e-16,\n",
       "        -1.71040558e-17, -6.38554351e-17],\n",
       "       [ 5.26638698e-18,  8.81668245e-17, -1.18634111e-16,\n",
       "        -3.17237428e-17,  2.62983049e-17,  1.10413538e-17,\n",
       "         1.00000000e+00,  1.19448929e-16, -1.23782676e-16,\n",
       "        -4.78864608e-17, -1.17493349e-18,  5.60846385e-17,\n",
       "        -7.96588815e-17,  6.09076395e-17,  6.51223087e-17,\n",
       "        -4.55521978e-17,  7.23217839e-17, -5.33372529e-17,\n",
       "         1.49096904e-16,  7.51687546e-17],\n",
       "       [-3.82984202e-17, -3.08258671e-17,  5.31782505e-17,\n",
       "        -7.37712024e-17, -6.56059383e-17, -3.94568266e-17,\n",
       "         1.19448929e-16,  1.00000000e+00,  3.61303049e-17,\n",
       "         2.59107154e-17,  4.42947375e-17, -4.06182534e-17,\n",
       "         1.04529086e-16, -1.17316719e-17, -1.03118210e-16,\n",
       "        -4.66215676e-18, -6.11288658e-17,  3.89808318e-17,\n",
       "        -4.59041744e-17, -1.71476412e-17],\n",
       "       [ 7.13205822e-18, -5.06476697e-18, -3.23464424e-17,\n",
       "        -5.43557970e-17, -1.93722708e-17,  4.10974566e-17,\n",
       "        -1.23782676e-16,  3.61303049e-17,  1.00000000e+00,\n",
       "        -4.68690722e-17,  5.37807270e-18, -3.43808143e-17,\n",
       "        -7.46059826e-18, -1.66235347e-17,  1.24705215e-17,\n",
       "        -1.77251446e-16,  9.63814910e-17,  1.08616746e-16,\n",
       "        -8.52119921e-18, -9.99334131e-18],\n",
       "       [-1.03170823e-17,  4.34233955e-17,  4.77703813e-17,\n",
       "         4.79422624e-17,  4.89272434e-17, -3.94061565e-19,\n",
       "        -4.78864608e-17,  2.59107154e-17, -4.68690722e-17,\n",
       "         1.00000000e+00, -3.28306368e-17, -1.09327205e-17,\n",
       "         6.15568356e-17, -6.82461862e-17, -1.68704929e-17,\n",
       "         1.50068649e-17,  6.77197690e-17,  7.73591322e-17,\n",
       "        -1.06700023e-17,  8.03672375e-18],\n",
       "       [ 1.14644019e-17,  4.57003881e-17, -1.58205860e-17,\n",
       "        -1.17432545e-17, -9.78481450e-18, -2.90489139e-17,\n",
       "        -1.17493349e-18,  4.42947375e-17,  5.37807270e-18,\n",
       "        -3.28306368e-17,  1.00000000e+00,  4.53565940e-17,\n",
       "         1.21705927e-16,  3.46389711e-17,  9.88511158e-17,\n",
       "         7.53399106e-19,  1.05679112e-16, -3.11108561e-17,\n",
       "        -3.88199537e-17, -3.20439977e-17],\n",
       "       [-1.33819079e-17, -8.19074289e-17,  5.19106794e-17,\n",
       "         5.53754222e-17, -5.91523591e-17, -5.22808250e-17,\n",
       "         5.60846385e-17, -4.06182534e-17, -3.43808143e-17,\n",
       "        -1.09327205e-17,  4.53565940e-17,  1.00000000e+00,\n",
       "        -3.36456415e-17, -3.67426737e-17, -6.51853329e-17,\n",
       "        -1.25183750e-16, -2.24397036e-17,  9.63229052e-19,\n",
       "        -6.22184153e-17, -1.95969677e-17],\n",
       "       [ 2.45230671e-17, -8.61186076e-17,  4.35058163e-17,\n",
       "         4.28955995e-17,  8.38118664e-17, -8.35985811e-17,\n",
       "        -7.96588815e-17,  1.04529086e-16, -7.46059826e-18,\n",
       "         6.15568356e-17,  1.21705927e-16, -3.36456415e-17,\n",
       "         1.00000000e+00, -9.15063228e-17, -8.36536575e-17,\n",
       "         8.37842180e-17,  9.89095251e-17,  3.69693591e-17,\n",
       "         2.39792566e-17,  4.40343213e-17],\n",
       "       [-9.60044266e-18, -1.29058997e-17,  1.36432275e-17,\n",
       "        -4.06285667e-17, -2.63330174e-18,  3.03648200e-17,\n",
       "         6.09076395e-17, -1.17316719e-17, -1.66235347e-17,\n",
       "        -6.82461862e-17,  3.46389711e-17, -3.67426737e-17,\n",
       "        -9.15063228e-17,  1.00000000e+00,  1.80163430e-17,\n",
       "        -4.39054331e-17, -4.56411000e-18,  2.81898381e-17,\n",
       "        -9.43702783e-17, -1.39510524e-16],\n",
       "       [-3.22145831e-19, -7.39027259e-18, -5.16835514e-17,\n",
       "         1.84541318e-17,  1.44733736e-17,  5.54130482e-18,\n",
       "         6.51223087e-17, -1.03118210e-16,  1.24705215e-17,\n",
       "        -1.68704929e-17,  9.88511158e-17, -6.51853329e-17,\n",
       "        -8.36536575e-17,  1.80163430e-17,  1.00000000e+00,\n",
       "         3.13162661e-17, -6.11345750e-17, -1.56405907e-17,\n",
       "         2.33119038e-17,  1.53591315e-16],\n",
       "       [ 2.10064574e-18, -1.19876208e-17, -1.18226607e-17,\n",
       "         3.97621680e-17, -8.70468448e-17, -3.04551472e-17,\n",
       "        -4.55521978e-17, -4.66215676e-18, -1.77251446e-16,\n",
       "         1.50068649e-17,  7.53399106e-19, -1.25183750e-16,\n",
       "         8.37842180e-17, -4.39054331e-17,  3.13162661e-17,\n",
       "         1.00000000e+00,  5.16623912e-17,  1.78717864e-16,\n",
       "        -6.30798580e-17, -3.23217717e-16],\n",
       "       [ 1.09169915e-17, -5.08662852e-17, -7.07843530e-17,\n",
       "         1.11510805e-18,  3.54702692e-17,  2.22065289e-17,\n",
       "         7.23217839e-17, -6.11288658e-17,  9.63814910e-17,\n",
       "         6.77197690e-17,  1.05679112e-16, -2.24397036e-17,\n",
       "         9.89095251e-17, -4.56411000e-18, -6.11345750e-17,\n",
       "         5.16623912e-17,  1.00000000e+00, -1.32121444e-17,\n",
       "        -8.56609106e-17,  1.39623407e-16],\n",
       "       [ 1.85269699e-17,  5.10417516e-17,  2.35965014e-17,\n",
       "         3.66415392e-17, -2.48293913e-17,  1.38466960e-16,\n",
       "        -5.33372529e-17,  3.89808318e-17,  1.08616746e-16,\n",
       "         7.73591322e-17, -3.11108561e-17,  9.63229052e-19,\n",
       "         3.69693591e-17,  2.81898381e-17, -1.56405907e-17,\n",
       "         1.78717864e-16, -1.32121444e-17,  1.00000000e+00,\n",
       "         4.52604277e-17,  3.93304182e-17],\n",
       "       [ 3.03964294e-17, -2.74103559e-18, -7.30209967e-18,\n",
       "         4.44339834e-17, -1.39515636e-17, -1.71040558e-17,\n",
       "         1.49096904e-16, -4.59041744e-17, -8.52119921e-18,\n",
       "        -1.06700023e-17, -3.88199537e-17, -6.22184153e-17,\n",
       "         2.39792566e-17, -9.43702783e-17,  2.33119038e-17,\n",
       "        -6.30798580e-17, -8.56609106e-17,  4.52604277e-17,\n",
       "         1.00000000e+00, -3.75374959e-17],\n",
       "       [ 2.33946019e-17, -1.59690759e-17, -1.44131307e-17,\n",
       "        -1.47553139e-17,  4.27407991e-17, -6.38554351e-17,\n",
       "         7.51687546e-17, -1.71476412e-17, -9.99334131e-18,\n",
       "         8.03672375e-18, -3.20439977e-17, -1.95969677e-17,\n",
       "         4.40343213e-17, -1.39510524e-16,  1.53591315e-16,\n",
       "        -3.23217717e-16,  1.39623407e-16,  3.93304182e-17,\n",
       "        -3.75374959e-17,  1.00000000e+00]])"
      ]
     },
     "execution_count": 301,
     "metadata": {},
     "output_type": "execute_result"
    }
   ],
   "source": [
    "Q.T@Q # close to identity"
   ]
  },
  {
   "cell_type": "code",
   "execution_count": 303,
   "metadata": {},
   "outputs": [],
   "source": [
    "x = np.linalg.inv(R)@Q.T@b"
   ]
  },
  {
   "cell_type": "code",
   "execution_count": 304,
   "metadata": {},
   "outputs": [
    {
     "data": {
      "text/plain": [
       "array([ 4.79650357,  1.76615291,  0.97715267,  2.51459304,  1.88178344,\n",
       "        1.75592399, -0.66699278, -0.08988917,  2.69435767, -1.16485979,\n",
       "        1.01511639, -1.45735696, -3.08198593, -0.27076993,  1.91034338,\n",
       "        1.17800297, -0.82226789, -2.19314047, -0.91420109, -1.30169508])"
      ]
     },
     "execution_count": 304,
     "metadata": {},
     "output_type": "execute_result"
    }
   ],
   "source": [
    "x"
   ]
  },
  {
   "cell_type": "code",
   "execution_count": 305,
   "metadata": {},
   "outputs": [
    {
     "data": {
      "text/plain": [
       "array([5.79693254, 4.58434201, 4.35844753, 4.67926781, 4.89446662,\n",
       "       4.83177789, 4.59437666, 5.31161042, 4.13934171, 5.01028479,\n",
       "       5.30698885, 4.14984429, 5.27052379, 5.56577895, 4.46220325,\n",
       "       5.87869665, 5.39651217, 4.15965968, 5.5850345 , 5.27648177,\n",
       "       5.41057236, 4.51371509, 4.18933576, 4.48777072, 4.64422731,\n",
       "       4.51127824, 4.83091094, 4.25606398, 3.97318985, 5.28605961])"
      ]
     },
     "execution_count": 305,
     "metadata": {},
     "output_type": "execute_result"
    }
   ],
   "source": [
    "A@x"
   ]
  },
  {
   "cell_type": "code",
   "execution_count": 306,
   "metadata": {},
   "outputs": [
    {
     "data": {
      "text/plain": [
       "1.5356120336758357"
      ]
     },
     "execution_count": 306,
     "metadata": {},
     "output_type": "execute_result"
    }
   ],
   "source": [
    "np.linalg.norm(A@x -b)"
   ]
  },
  {
   "cell_type": "code",
   "execution_count": null,
   "metadata": {},
   "outputs": [],
   "source": []
  }
 ],
 "metadata": {
  "kernelspec": {
   "display_name": "Python 3",
   "language": "python",
   "name": "python3"
  },
  "language_info": {
   "codemirror_mode": {
    "name": "ipython",
    "version": 3
   },
   "file_extension": ".py",
   "mimetype": "text/x-python",
   "name": "python",
   "nbconvert_exporter": "python",
   "pygments_lexer": "ipython3",
   "version": "3.7.3"
  }
 },
 "nbformat": 4,
 "nbformat_minor": 2
}
